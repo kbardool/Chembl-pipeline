{
 "cells": [
  {
   "cell_type": "markdown",
   "id": "53b150cd",
   "metadata": {},
   "source": [
    "##  MTCV : Multi Task Cross Validation"
   ]
  },
  {
   "cell_type": "code",
   "execution_count": 10,
   "id": "6206df39",
   "metadata": {
    "ExecuteTime": {
     "end_time": "2022-08-01T13:25:31.097896Z",
     "start_time": "2022-08-01T13:25:31.078616Z"
    }
   },
   "outputs": [
    {
     "data": {
      "text/html": [
       "<style>.container { width:98% !important; }</style>"
      ],
      "text/plain": [
       "<IPython.core.display.HTML object>"
      ]
     },
     "metadata": {},
     "output_type": "display_data"
    },
    {
     "name": "stdout",
     "output_type": "stream",
     "text": [
      "The autoreload extension is already loaded. To reload it, use:\n",
      "  %reload_ext autoreload\n"
     ]
    }
   ],
   "source": [
    "from IPython.core.display import display, HTML\n",
    "display(HTML(\"<style>.container { width:98% !important; }</style>\"))\n",
    "%load_ext autoreload\n",
    "%autoreload 2"
   ]
  },
  {
   "cell_type": "code",
   "execution_count": 11,
   "id": "8fc9e3ee",
   "metadata": {
    "ExecuteTime": {
     "end_time": "2022-08-01T13:25:31.400300Z",
     "start_time": "2022-08-01T13:25:31.381042Z"
    }
   },
   "outputs": [],
   "source": [
    "import numpy as np\n",
    "import pandas as pd\n",
    "import scipy.sparse\n",
    "import argparse\n",
    "pd.options.display.width = 132"
   ]
  },
  {
   "cell_type": "code",
   "execution_count": 12,
   "id": "4f05bf66",
   "metadata": {
    "ExecuteTime": {
     "end_time": "2022-08-01T13:25:31.630313Z",
     "start_time": "2022-08-01T13:25:31.606605Z"
    }
   },
   "outputs": [],
   "source": [
    "def mtcv_clustered(Y_in, clusters, nfolds=None, pfolds=None, seed=None):\n",
    "    \"\"\"\n",
    "    splits rows of Y_in, based on clusters into either \n",
    "        a) equal Y_in into nfolds \n",
    "        b) or according to the ratios defined bY_in pfolds\n",
    "        \n",
    "        Y_in: is the compound x target matrix\n",
    "    \"\"\"\n",
    "\n",
    "    assert clusters.shape[0] == Y_in.shape[0]\n",
    "    print(f\"* Y_in       : {type(Y_in)} \\t {Y_in.shape}\")\n",
    "    print(f\"* clusters: {type(clusters)}  \\t {clusters.shape} \")\n",
    "    print(f\"           Min: {clusters.min()} Max:{clusters.max()}\\n{clusters} \\n\")\n",
    "    \n",
    "    \n",
    "#     cl_uniq = np.sort(clusters.unique())\n",
    "    cl_uniq = clusters.unique()\n",
    "    print(f\"* cl_uniq: {type(cl_uniq)} {len(cl_uniq)}\\n{cl_uniq}\\n\")\n",
    "\n",
    "          \n",
    "    ## assign a unqiue id to the cluster numbers  \n",
    "    cl2id   = pd.Series(np.arange(cl_uniq.shape[0]), index=cl_uniq)\n",
    "        \n",
    "#     print(f\"* cl2id: {type(cl2id)} {len(cl2id)}\\n{cl2id}\\n\")\n",
    "#     print(f\" cl2id[0]: {cl2id[0]}\")\n",
    "#     print(f\" cl2id[2321]: {cl2id[2321]}\")\n",
    "#     print(f\" cl2id[13660]: {cl2id[13660]}\")\n",
    "#     print(f\" cl2id[2321]: {cl2id[2321]}\")\n",
    "#     print(f\" cl2id[5601]: \\n{cl2id[5599:5603]} \\n\")\n",
    "    \n",
    "    \n",
    "    cid     = cl2id[clusters]\n",
    "    print(f\"* cid:   {type(cid)} {len(cid)}\\n{cid}\\n\")\n",
    "#     print(f\" cid.values:\\n{cid.values}\")\n",
    "    \n",
    "    ## creating cluster2compound matrix\n",
    "    ##\n",
    "    ## Number of rows: cid.values\n",
    "    print(f\"* Create C sparse matrix - indicating the clusters compounds are assigned to.... \")\n",
    "    C    = scipy.sparse.csr_matrix(\n",
    "            (np.ones(cid.shape[0], dtype=np.int8), (cid.values, np.arange(cid.shape[0])))\n",
    "            )\n",
    "\n",
    "    print(f\"* Shape of sparse matrix: Rows(#clusters):{C.shape[0]} Columns(#compounds): {C.shape[1]} \\n\")\n",
    "    ## Create \n",
    "    Y_bin      = Y_in.copy()\n",
    "    print(f\"* Y_bin     :   {type(Y_bin)} {Y_bin.shape}\")\n",
    "    print(f\"* Y_bin.data:   {type(Y_bin.data)} {Y_bin.data.shape}\")\n",
    "    Y_bin_neg = Y_bin < 0\n",
    "    Y_bin_pos = Y_bin > 0 \n",
    "    print(f\" Sum: {(Y_bin_neg).sum()}\")\n",
    "    print(f\" Sum: {(Y_bin_pos).sum()}\")\n",
    "    print(f\" Sum: {(Y_bin).sum()}\")\n",
    "    \n",
    "    Y_bin.data = np.ones(Y_bin.data.shape[0], dtype=np.int8)\n",
    "    print(f\"* Y_bin.data:   {type(Y_bin.data)} {Y_bin.data.shape}\\n\")\n",
    "    Y_bin_neg = Y_bin < 0\n",
    "    Y_bin_pos = Y_bin > 0 \n",
    "    print(f\" Sum: {(Y_bin_neg).sum()}\")\n",
    "    print(f\" Sum: {(Y_bin_pos).sum()}\")\n",
    "    print(f\" Sum: {(Y_bin).sum()}\")\n",
    "    print() \n",
    "    \n",
    "    ## compute number of compounds per cluster/fingerprint\n",
    "    cl_counts = C.dot(Y_bin)\n",
    "    print(f\"* cl_counts     :   {type(cl_counts)} {cl_counts.shape}\")    \n",
    "    print(f\"* cl_counts.data:   {type(cl_counts.data)} {cl_counts.data.shape}\")\n",
    "    print(f\" {cl_counts}\\n\")\n",
    "    \n",
    "    cl_counts_neg = cl_counts < 0 \n",
    "    print(f\"* cl_counts_neg     :   {type(cl_counts_neg)}      {cl_counts_neg.shape}\")    \n",
    "    print(f\"* cl_counts_neg.data:   {type(cl_counts_neg.data)} {cl_counts_neg.data.shape}\")\n",
    "    print(f\" Sum: {cl_counts_neg.sum()}\")\n",
    "    print(f\" {cl_counts_neg} \\n\")    \n",
    "\n",
    "    ## get cluster folds\n",
    "    print(f\"* Call mtcv with nfolds: {nfolds}  \\t pfolds: {pfolds} \\t  seed: {seed}\")\n",
    "    folds = mtcv(mask=cl_counts, nfolds=nfolds, pfolds=pfolds, seed=seed)\n",
    "\n",
    "    print(f\"* cid:   {type(cid)} {len(cid)}\\n{cid}\\n\")\n",
    "    print(f'* folds:  {folds.shape} \\n {folds[cid]} \\n')\n",
    "    return folds[cid]\n"
   ]
  },
  {
   "cell_type": "code",
   "execution_count": 13,
   "id": "da8c9f15",
   "metadata": {
    "ExecuteTime": {
     "end_time": "2022-08-01T13:25:31.894909Z",
     "start_time": "2022-08-01T13:25:31.870465Z"
    }
   },
   "outputs": [],
   "source": [
    "def mtcv(mask, nfolds=None, pfolds=None, seed=None):\n",
    "    \"\"\"\n",
    "    Return a vector of folds\n",
    "\n",
    "    Args:\n",
    "    mask     binary mask matrix of [compounds x targets]\n",
    "    nfolds   number of folds (integer)\n",
    "    pfolds   array, specifying fold sizes (probability)\n",
    "             If specified nfolds is ignored.\n",
    "             Must sum to 1.\n",
    "    \"\"\"\n",
    "    if nfolds is None and pfolds is None:\n",
    "        raise ValueError(\"nfolds or pfolds must be specified.\")\n",
    "    if pfolds is not None and np.abs(np.sum(pfolds) - 1.0) > 1e-5:\n",
    "        raise ValueError(\"pfolds must sum to 1.0.\")\n",
    "\n",
    "    if pfolds is None:\n",
    "        pfolds = np.ones(nfolds) / nfolds\n",
    "    else:\n",
    "        nfolds = len(pfolds)\n",
    "    \n",
    "    print(f\" Call mtcv with nfolds: {nfolds}  \\t pfolds: {pfolds} \\t  seed: {seed}\\n\\n\")\n",
    "    \n",
    "    target_sizes = np.array(mask.sum(0)).flatten()\n",
    "    comp_sizes   = np.array(mask.sum(1)).flatten()\n",
    "\n",
    "    print(f'* mask        : {mask.shape} \\t\\n {mask} \\n')\n",
    "    print(f'* Target sizes (mask sum along rows) : {target_sizes.shape} \\t {target_sizes} \\n')\n",
    "    print(f'* comp sizes   (mask sum over columns): {comp_sizes.shape}   \\t {comp_sizes} \\n')\n",
    "    if seed is not None:\n",
    "        np.random.seed(seed)\n",
    "\n",
    "    df = pd.DataFrame({\"row\": np.arange(mask.shape[0]), \"size\": comp_sizes})\n",
    "    print(f'\\n* df info')\n",
    "    print(df.info())\n",
    "    print(df)\n",
    "    \n",
    "    df1 = df.sample(frac=1)\n",
    "    print(f'\\n df1 info \\n')\n",
    "    print(df1.info())\n",
    "    print(df1)\n",
    "    \n",
    "    df1.sort_values(\"size\", inplace=True, ascending=False)\n",
    "    print(f'\\n df1 info (after sort by size descending)\\n')\n",
    "    print(df1.info())\n",
    "    print(df1)\n",
    "    \n",
    "    fold_sizes = np.zeros((nfolds, mask.shape[1]), dtype=np.int8)\n",
    "#     #max_fold_sizes = np.ceil(target_sizes / nfolds).astype(np.int)\n",
    "    max_fold_sizes = np.ceil(np.outer(target_sizes, pfolds))\n",
    "\n",
    "    print(f'* fold_sizes : {fold_sizes.shape} \\n {fold_sizes} \\n')\n",
    "#     print(f'* non zero folds: {(fold_sizes>0).sum()}\\n')\n",
    "    print(f'* max fold sizes: {max_fold_sizes.shape} \\n {max_fold_sizes}\\n')\n",
    "    \n",
    "    ## output vector (initialized to -1)\n",
    "    folds = np.zeros(mask.shape[0], dtype=np.int8) - 1\n",
    "    print(f'* folds : {folds.shape} \\n {folds} \\n')\n",
    "    \n",
    "    farray = np.arange(nfolds)    \n",
    "    \n",
    "    ## Starting at the cluster with the highest number of positive actions\n",
    "    ## \n",
    "    print(f'* mask        : {mask.shape} ')\n",
    "    for i in range(mask.shape[0]):\n",
    "        idx   = df1.index[i]\n",
    " \n",
    "\n",
    "        #for j in np.random.permutation(nfolds):\n",
    "        choices = np.random.choice(farray, size=nfolds, replace=False, p=pfolds)\n",
    "#         print(f' i: {i}   idx (cluster_id): {idx}   folds[{idx}] = {folds[idx]}   choices : {choices}')\n",
    "        \n",
    "        \n",
    "        for j in choices: ## np.random.choice(farray, size=nfolds, replace=False, p=pfolds):\n",
    "            fit_criteria = mask[idx,:].dot((fold_sizes[j,:] + mask[idx,:] > max_fold_sizes[:,j]).transpose())\n",
    "#             print(f'    fit_criteria = {fit_criteria}')\n",
    "            if fit_criteria == 0:\n",
    "                ## compound fits into fold j\n",
    "                folds[idx] = j\n",
    "                fold_sizes[j,:] += mask[idx,:]\n",
    "                \n",
    "#                 print(f'    folds[idx] <- j:  {folds[idx]}')\n",
    "#                 print(f'    fold_sizes[j] <- mask[{idx}]: {fold_sizes[j]}')\n",
    "                break\n",
    "                \n",
    "        if folds[idx] == -1:\n",
    "            j = np.random.randint(0, nfolds)\n",
    "#             print(f'    force to fold {j}')\n",
    "            folds[idx] = j\n",
    "            fold_sizes[j,:] += mask[idx,:]\n",
    "        \n",
    "#         if (i == 100):\n",
    "#             break\n",
    "            \n",
    "    print(' finished loop - i is:', i)\n",
    "    return folds\n",
    "\n",
    "\n",
    "\n"
   ]
  },
  {
   "cell_type": "code",
   "execution_count": 26,
   "id": "c2334077",
   "metadata": {
    "ExecuteTime": {
     "end_time": "2022-08-01T13:34:45.243615Z",
     "start_time": "2022-08-01T13:34:45.215064Z"
    }
   },
   "outputs": [
    {
     "name": "stdout",
     "output_type": "stream",
     "text": [
      "\n",
      " input parm - thresh  :   value: output/chembl_29/chembl_29_thresholds.csv\n",
      " input parm - clusters:   value: output/chembl_29/chembl_29_clustering.npy\n",
      " input parm - compounds:  value: output/chembl_29/chembl_29_X_cmpds.csv\n",
      " input parm - nfolds:     value: 5\n",
      " output parm - y :        value: output/chembl_29/chembl_29_Y_all.npy\n",
      " output parm - folding:   value: output/chembl_29/chembl_29_folding.npy\n"
     ]
    }
   ],
   "source": [
    "parser = argparse.ArgumentParser(description=\"Multi-task clustered crossvalidation\")\n",
    "parser.add_argument('--thresh', type=str, required=True)\n",
    "parser.add_argument('--y', type=str, required=True)\n",
    "parser.add_argument('--compounds', type=str, required=True)\n",
    "parser.add_argument('--clusters', type=str, required=True)\n",
    "parser.add_argument('--folding', type=str, default=\"output/folding.npy\")\n",
    "parser.add_argument('--nfolds', type=int, default=5)\n",
    "\n",
    "in_args = \" --thresh    output/chembl_29/chembl_29_thresholds.csv\"\\\n",
    "          \" --clusters  output/chembl_29/chembl_29_clustering.npy \" \\\n",
    "          \" --compounds output/chembl_29/chembl_29_X_cmpds.csv\" \\\n",
    "          \" --y         output/chembl_29/chembl_29_Y_all.npy\"\\\n",
    "          \" --folding   output/chembl_29/chembl_29_folding.npy\"\\\n",
    "          \" --nfolds    5\"\n",
    "in_args = in_args.split()\n",
    "\n",
    "conf = parser.parse_args(in_args)\n",
    "conf_vars = vars(conf)\n",
    "print()\n",
    "print(f\" input parm - thresh  :   value: {conf_vars['thresh']}\")\n",
    "print(f\" input parm - clusters:   value: {conf_vars['clusters']}\")\n",
    "print(f\" input parm - compounds:  value: {conf_vars['compounds']}\")\n",
    "print(f\" input parm - nfolds:     value: {conf_vars['nfolds']}\")\n",
    "print(f\" output parm - y :        value: {conf_vars['y']}\")\n",
    "print(f\" output parm - folding:   value: {conf_vars['folding']}\")"
   ]
  },
  {
   "cell_type": "markdown",
   "id": "dab25d03",
   "metadata": {
    "ExecuteTime": {
     "end_time": "2021-08-31T04:13:39.003466Z",
     "start_time": "2021-08-31T04:13:37.018367Z"
    }
   },
   "source": [
    "### Load compound id / target id /  threshold file `output/chembl_29_thresh.csv`"
   ]
  },
  {
   "cell_type": "code",
   "execution_count": 32,
   "id": "718296c9",
   "metadata": {
    "ExecuteTime": {
     "end_time": "2022-08-01T13:39:58.570006Z",
     "start_time": "2022-08-01T13:39:56.254436Z"
    }
   },
   "outputs": [
    {
     "name": "stdout",
     "output_type": "stream",
     "text": [
      "             target_id        cmpd_id  task_group  variable  value\n",
      "0        CHEMBL1075097  CHEMBL1234777           1       5.5    1.0\n",
      "1        CHEMBL1075097  CHEMBL1812661           1       5.5    1.0\n",
      "2        CHEMBL1075097  CHEMBL1812662           1       5.5   -1.0\n",
      "3        CHEMBL1075097  CHEMBL2326084           1       5.5    1.0\n",
      "4        CHEMBL1075097  CHEMBL2326085           1       5.5    1.0\n",
      "...                ...            ...         ...       ...    ...\n",
      "2699033     CHEMBL6175   CHEMBL578512         836       8.5   -1.0\n",
      "2699034     CHEMBL6175   CHEMBL578512         836       8.5   -1.0\n",
      "2699035     CHEMBL6175    CHEMBL90852         836       8.5   -1.0\n",
      "2699036     CHEMBL6175    CHEMBL90852         836       8.5   -1.0\n",
      "2699037     CHEMBL6175    CHEMBL90852         836       8.5   -1.0\n",
      "\n",
      "[2699038 rows x 5 columns]\n",
      "<class 'pandas.core.frame.DataFrame'>\n",
      "RangeIndex: 2699038 entries, 0 to 2699037\n",
      "Data columns (total 5 columns):\n",
      " #   Column      Dtype  \n",
      "---  ------      -----  \n",
      " 0   target_id   object \n",
      " 1   cmpd_id     object \n",
      " 2   task_group  int64  \n",
      " 3   variable    float64\n",
      " 4   value       float64\n",
      "dtypes: float64(2), int64(1), object(2)\n",
      "memory usage: 103.0+ MB\n"
     ]
    },
    {
     "data": {
      "text/plain": [
       "target_id        888\n",
       "cmpd_id       423809\n",
       "task_group        10\n",
       "variable           4\n",
       "value              2\n",
       "dtype: int64"
      ]
     },
     "execution_count": 32,
     "metadata": {},
     "output_type": "execute_result"
    }
   ],
   "source": [
    "df = pd.read_csv(conf.thresh)\n",
    "print(df)\n",
    "df.info()\n",
    "df.nunique()"
   ]
  },
  {
   "cell_type": "code",
   "execution_count": 33,
   "id": "94c0e343",
   "metadata": {
    "ExecuteTime": {
     "end_time": "2022-08-01T13:39:59.359387Z",
     "start_time": "2022-08-01T13:39:58.575933Z"
    },
    "scrolled": true
   },
   "outputs": [
    {
     "name": "stdout",
     "output_type": "stream",
     "text": [
      "Number of rows              : 2699038\n",
      "Number of unique targets    :     888   \n",
      "Number of unique compounds  :  423809   \n",
      "Number of unique thresholds :       4\n",
      "Number of unique task groups:      10\n",
      "Number of lables (targets x thresholds) :    3552\n"
     ]
    },
    {
     "data": {
      "text/plain": [
       "6       764934\n",
       "11      336268\n",
       "1028    323550\n",
       "1       310129\n",
       "0       270580\n",
       "10      155195\n",
       "836     150758\n",
       "1005    149430\n",
       "1031    126561\n",
       "643     111633\n",
       "Name: task_group, dtype: int64"
      ]
     },
     "execution_count": 33,
     "metadata": {},
     "output_type": "execute_result"
    }
   ],
   "source": [
    "print(f\"Number of rows              : {len(df):7d}\")\n",
    "print(f\"Number of unique targets    : {len(df['target_id'].unique()):7d}   \")\n",
    "print(f\"Number of unique compounds  : {len(df['cmpd_id'].unique()):7d}   \")\n",
    "print(f\"Number of unique thresholds : {len(df['variable'].unique()):7d}\")\n",
    "print(f\"Number of unique task groups: {len(df['task_group'].unique()):7d}\")\n",
    "print(f'Number of lables (targets x thresholds) : {len(df[\"target_id\"].unique()) * len(df[\"variable\"].unique()):7d}')\n",
    "\n",
    "df[\"task_group\"].value_counts(normalize = False)"
   ]
  },
  {
   "cell_type": "markdown",
   "id": "3fb36147",
   "metadata": {
    "ExecuteTime": {
     "end_time": "2021-08-31T04:14:23.050728Z",
     "start_time": "2021-08-31T04:14:22.783660Z"
    }
   },
   "source": [
    "### Load compound list `output/chembl_29_X_cmpds.csv`"
   ]
  },
  {
   "cell_type": "code",
   "execution_count": 24,
   "id": "452a7132",
   "metadata": {
    "ExecuteTime": {
     "end_time": "2022-08-01T13:33:06.466718Z",
     "start_time": "2022-08-01T13:33:06.087941Z"
    }
   },
   "outputs": [
    {
     "name": "stdout",
     "output_type": "stream",
     "text": [
      "<class 'pandas.core.frame.DataFrame'>\n",
      "RangeIndex: 423737 entries, 0 to 423736\n",
      "Data columns (total 2 columns):\n",
      " #   Column  Non-Null Count   Dtype \n",
      "---  ------  --------------   ----- \n",
      " 0   0       423737 non-null  int64 \n",
      " 1   1       423737 non-null  object\n",
      "dtypes: int64(1), object(1)\n",
      "memory usage: 6.5+ MB\n",
      "length of cmpd_list:  423737\n",
      "                    1\n",
      "0        CHEMBL405398\n",
      "1        CHEMBL403325\n",
      "2        CHEMBL501943\n",
      "3        CHEMBL501094\n",
      "4        CHEMBL505943\n",
      "...               ...\n",
      "423732  CHEMBL4297644\n",
      "423733  CHEMBL4297666\n",
      "423734  CHEMBL4297674\n",
      "423735  CHEMBL4298138\n",
      "423736  CHEMBL4298140\n",
      "\n",
      "[423737 rows x 1 columns]\n",
      "\n"
     ]
    }
   ],
   "source": [
    "cmpd_list = pd.read_csv(conf.compounds, header=None)\n",
    "cmpd_list.info()\n",
    "cmpd_list.nunique()\n",
    "cmpd_list.drop(columns=0, inplace = True)\n",
    "print(f\"length of cmpd_list:  {len(cmpd_list)}\")\n",
    "print(cmpd_list)\n",
    "print()"
   ]
  },
  {
   "cell_type": "code",
   "execution_count": 25,
   "id": "1df0add7",
   "metadata": {
    "ExecuteTime": {
     "end_time": "2022-08-01T13:34:19.713601Z",
     "start_time": "2022-08-01T13:34:19.692818Z"
    }
   },
   "outputs": [
    {
     "name": "stdout",
     "output_type": "stream",
     "text": [
      "Size of cmpd_list: 423737\n",
      "                    1     cid\n",
      "0        CHEMBL405398       0\n",
      "1        CHEMBL403325       1\n",
      "2        CHEMBL501943       2\n",
      "3        CHEMBL501094       3\n",
      "4        CHEMBL505943       4\n",
      "...               ...     ...\n",
      "423732  CHEMBL4297644  423732\n",
      "423733  CHEMBL4297666  423733\n",
      "423734  CHEMBL4297674  423734\n",
      "423735  CHEMBL4298138  423735\n",
      "423736  CHEMBL4298140  423736\n",
      "\n",
      "[423737 rows x 2 columns]\n"
     ]
    }
   ],
   "source": [
    "cmpd_list[\"cid\"] = range(len(cmpd_list))\n",
    "print(f\"Size of cmpd_list: {len(cmpd_list)}\") \n",
    "print(cmpd_list)"
   ]
  },
  {
   "cell_type": "markdown",
   "id": "8ed52a40",
   "metadata": {},
   "source": [
    "### Load the clustering info `output/clustering.npy`"
   ]
  },
  {
   "cell_type": "code",
   "execution_count": 29,
   "id": "31f34cdf",
   "metadata": {
    "ExecuteTime": {
     "end_time": "2022-08-01T13:39:22.035048Z",
     "start_time": "2022-08-01T13:39:21.959209Z"
    }
   },
   "outputs": [
    {
     "name": "stdout",
     "output_type": "stream",
     "text": [
      "423737 [24163 24163  8923 ... 18967 15079 12696]\n"
     ]
    }
   ],
   "source": [
    "#Load the clustering assignment\n",
    "clusters = np.load(conf.clusters, allow_pickle=True)\n",
    "print(len(clusters), clusters)"
   ]
  },
  {
   "cell_type": "markdown",
   "id": "c57bc016",
   "metadata": {},
   "source": [
    "### Create mask"
   ]
  },
  {
   "cell_type": "code",
   "execution_count": 30,
   "id": "333f2336",
   "metadata": {
    "ExecuteTime": {
     "end_time": "2022-08-01T13:39:28.462616Z",
     "start_time": "2022-08-01T13:39:28.448009Z"
    }
   },
   "outputs": [],
   "source": [
    "assert len(clusters) == len(cmpd_list), \"Number of compound must agree with the size of clustering vector\""
   ]
  },
  {
   "cell_type": "code",
   "execution_count": 34,
   "id": "dda5e09a",
   "metadata": {
    "ExecuteTime": {
     "end_time": "2022-08-01T13:40:04.826172Z",
     "start_time": "2022-08-01T13:40:04.434627Z"
    }
   },
   "outputs": [
    {
     "name": "stdout",
     "output_type": "stream",
     "text": [
      "\n",
      " # of compounds Ncmpd: 423737    \n",
      " # of columns   Ncol : (# unique target_ids x # unique thresholds ) = (888 x 4): 3552\n"
     ]
    }
   ],
   "source": [
    "print()\n",
    "Ncmpd = len(set(cmpd_list['cid']))\n",
    "Ncol  = len(df[\"target_id\"].unique()) * len(df[\"variable\"].unique())\n",
    "print(f\" # of compounds Ncmpd: {Ncmpd}    \")\n",
    "print(f\" # of columns   Ncol : (# unique target_ids x # unique thresholds ) = ({len(df['target_id'].unique())} x {len(df['variable'].unique())}): {Ncol}\")"
   ]
  },
  {
   "cell_type": "markdown",
   "id": "43cf11c9",
   "metadata": {},
   "source": [
    "### Create dataframe of unique target_ids "
   ]
  },
  {
   "cell_type": "code",
   "execution_count": 35,
   "id": "c11ce3a7",
   "metadata": {
    "ExecuteTime": {
     "end_time": "2022-08-01T13:40:07.130643Z",
     "start_time": "2022-08-01T13:40:06.965905Z"
    }
   },
   "outputs": [
    {
     "name": "stdout",
     "output_type": "stream",
     "text": [
      "                 0  tid\n",
      "0    CHEMBL1075097    0\n",
      "1    CHEMBL1075104    1\n",
      "2    CHEMBL1075138    2\n",
      "3    CHEMBL1075145    3\n",
      "4    CHEMBL1075165    4\n",
      "..             ...  ...\n",
      "883     CHEMBL6154  883\n",
      "884     CHEMBL6164  884\n",
      "885     CHEMBL6166  885\n",
      "886     CHEMBL6167  886\n",
      "887     CHEMBL6175  887\n",
      "\n",
      "[888 rows x 2 columns]\n"
     ]
    }
   ],
   "source": [
    "target_list = pd.DataFrame(df[\"target_id\"].unique())\n",
    "target_list[\"tid\"] = range(len(target_list))\n",
    "print(target_list)"
   ]
  },
  {
   "cell_type": "markdown",
   "id": "dbd0e00b",
   "metadata": {},
   "source": [
    "### create data frame of unique thresholds"
   ]
  },
  {
   "cell_type": "code",
   "execution_count": 36,
   "id": "a657a1ac",
   "metadata": {
    "ExecuteTime": {
     "end_time": "2022-08-01T13:40:10.319200Z",
     "start_time": "2022-08-01T13:40:10.269457Z"
    }
   },
   "outputs": [
    {
     "name": "stdout",
     "output_type": "stream",
     "text": [
      "     0  vid\n",
      "0  5.5    0\n",
      "1  6.5    1\n",
      "2  7.5    2\n",
      "3  8.5    3\n",
      " len(variable_list) : 4\n"
     ]
    }
   ],
   "source": [
    "variable_list = pd.DataFrame(df[\"variable\"].unique())\n",
    "variable_list[\"vid\"] = range(len(variable_list))\n",
    "print(variable_list)\n",
    "\n",
    "Nvar = len(variable_list)\n",
    "print(f\" len(variable_list) : {Nvar}\")"
   ]
  },
  {
   "cell_type": "markdown",
   "id": "c9a65523",
   "metadata": {},
   "source": [
    "### `tmp1` : Add unique compound identifier to tmp1 "
   ]
  },
  {
   "cell_type": "code",
   "execution_count": 37,
   "id": "b6fc002c",
   "metadata": {
    "ExecuteTime": {
     "end_time": "2022-08-01T13:40:14.620660Z",
     "start_time": "2022-08-01T13:40:14.596832Z"
    }
   },
   "outputs": [
    {
     "name": "stdout",
     "output_type": "stream",
     "text": [
      "             target_id        cmpd_id  task_group  variable  value\n",
      "0        CHEMBL1075097  CHEMBL1234777           1       5.5    1.0\n",
      "1        CHEMBL1075097  CHEMBL1812661           1       5.5    1.0\n",
      "2        CHEMBL1075097  CHEMBL1812662           1       5.5   -1.0\n",
      "3        CHEMBL1075097  CHEMBL2326084           1       5.5    1.0\n",
      "4        CHEMBL1075097  CHEMBL2326085           1       5.5    1.0\n",
      "...                ...            ...         ...       ...    ...\n",
      "2699033     CHEMBL6175   CHEMBL578512         836       8.5   -1.0\n",
      "2699034     CHEMBL6175   CHEMBL578512         836       8.5   -1.0\n",
      "2699035     CHEMBL6175    CHEMBL90852         836       8.5   -1.0\n",
      "2699036     CHEMBL6175    CHEMBL90852         836       8.5   -1.0\n",
      "2699037     CHEMBL6175    CHEMBL90852         836       8.5   -1.0\n",
      "\n",
      "[2699038 rows x 5 columns]\n",
      "                    1     cid\n",
      "0        CHEMBL405398       0\n",
      "1        CHEMBL403325       1\n",
      "2        CHEMBL501943       2\n",
      "3        CHEMBL501094       3\n",
      "4        CHEMBL505943       4\n",
      "...               ...     ...\n",
      "423732  CHEMBL4297644  423732\n",
      "423733  CHEMBL4297666  423733\n",
      "423734  CHEMBL4297674  423734\n",
      "423735  CHEMBL4298138  423735\n",
      "423736  CHEMBL4298140  423736\n",
      "\n",
      "[423737 rows x 2 columns]\n"
     ]
    }
   ],
   "source": [
    "print(df)\n",
    "print(cmpd_list)"
   ]
  },
  {
   "cell_type": "code",
   "execution_count": 38,
   "id": "ded37144",
   "metadata": {
    "ExecuteTime": {
     "end_time": "2022-08-01T13:40:16.945645Z",
     "start_time": "2022-08-01T13:40:15.737442Z"
    }
   },
   "outputs": [],
   "source": [
    "tmp1 = pd.merge(df, cmpd_list, left_on=\"cmpd_id\", right_on=1)"
   ]
  },
  {
   "cell_type": "code",
   "execution_count": 52,
   "id": "659d3267",
   "metadata": {
    "ExecuteTime": {
     "end_time": "2022-08-01T13:46:16.568654Z",
     "start_time": "2022-08-01T13:46:15.631336Z"
    }
   },
   "outputs": [
    {
     "name": "stdout",
     "output_type": "stream",
     "text": [
      "<class 'pandas.core.frame.DataFrame'>\n",
      "RangeIndex: 2699038 entries, 0 to 2699037\n",
      "Data columns (total 5 columns):\n",
      " #   Column      Dtype  \n",
      "---  ------      -----  \n",
      " 0   target_id   object \n",
      " 1   cmpd_id     object \n",
      " 2   task_group  int64  \n",
      " 3   variable    float64\n",
      " 4   value       float64\n",
      "dtypes: float64(2), int64(1), object(2)\n",
      "memory usage: 103.0+ MB\n",
      "None\n",
      "<class 'pandas.core.frame.DataFrame'>\n",
      "Int64Index: 2698287 entries, 0 to 2698286\n",
      "Data columns (total 7 columns):\n",
      " #   Column      Dtype  \n",
      "---  ------      -----  \n",
      " 0   target_id   object \n",
      " 1   cmpd_id     object \n",
      " 2   task_group  int64  \n",
      " 3   variable    float64\n",
      " 4   value       float64\n",
      " 5   1           object \n",
      " 6   cid         int64  \n",
      "dtypes: float64(2), int64(2), object(3)\n",
      "memory usage: 164.7+ MB\n",
      "None\n",
      "target_id        888\n",
      "cmpd_id       423737\n",
      "task_group        10\n",
      "variable           4\n",
      "value              2\n",
      "1             423737\n",
      "cid           423737\n",
      "dtype: int64\n",
      "             target_id        cmpd_id  task_group  variable  value              1     cid\n",
      "0        CHEMBL1075097  CHEMBL1234777           1       5.5    1.0  CHEMBL1234777  173927\n",
      "1        CHEMBL1075097  CHEMBL1234777           1       6.5   -1.0  CHEMBL1234777  173927\n",
      "2        CHEMBL1075097  CHEMBL1234777           1       7.5   -1.0  CHEMBL1234777  173927\n",
      "3        CHEMBL1075097  CHEMBL1234777           1       8.5   -1.0  CHEMBL1234777  173927\n",
      "4        CHEMBL1075097  CHEMBL1812661           1       5.5    1.0  CHEMBL1812661  150148\n",
      "...                ...            ...         ...       ...    ...            ...     ...\n",
      "2698282     CHEMBL5113  CHEMBL4647127          11       8.5   -1.0  CHEMBL4647127  145687\n",
      "2698283     CHEMBL5141  CHEMBL2147092        1031       8.5   -1.0  CHEMBL2147092  227992\n",
      "2698284     CHEMBL5145  CHEMBL3754116           6       8.5   -1.0  CHEMBL3754116  328259\n",
      "2698285     CHEMBL5406   CHEMBL570550         836       8.5   -1.0   CHEMBL570550  140043\n",
      "2698286     CHEMBL5406   CHEMBL571217         836       8.5   -1.0   CHEMBL571217  139232\n",
      "\n",
      "[2698287 rows x 7 columns]\n"
     ]
    }
   ],
   "source": [
    "print(df.info())\n",
    "print(tmp1.info())\n",
    "print(tmp1.nunique())\n",
    "print(tmp1)"
   ]
  },
  {
   "cell_type": "code",
   "execution_count": 18,
   "id": "c281533d",
   "metadata": {
    "ExecuteTime": {
     "end_time": "2022-07-27T20:19:32.998468Z",
     "start_time": "2022-07-27T20:19:32.984435Z"
    }
   },
   "outputs": [],
   "source": [
    "# cid_value_counts = tmp2['cid'].value_counts()\n",
    "# print(f'cid value counts : {cid_value_counts.shape} \\n')\n",
    "# print(cid_value_counts)\n",
    "# print(f\"\\nNumber of unqiue cids:  {tmp2['cid'].nunique()}\")"
   ]
  },
  {
   "cell_type": "markdown",
   "id": "fc1365f7",
   "metadata": {},
   "source": [
    "### `tmp2` : add unique threshold identifier to tmp2"
   ]
  },
  {
   "cell_type": "code",
   "execution_count": 42,
   "id": "f79aee58",
   "metadata": {
    "ExecuteTime": {
     "end_time": "2022-08-01T13:41:37.045580Z",
     "start_time": "2022-08-01T13:41:37.006828Z"
    }
   },
   "outputs": [
    {
     "name": "stdout",
     "output_type": "stream",
     "text": [
      "             target_id        cmpd_id  task_group  variable  value              1     cid\n",
      "0        CHEMBL1075097  CHEMBL1234777           1       5.5    1.0  CHEMBL1234777  173927\n",
      "1        CHEMBL1075097  CHEMBL1234777           1       6.5   -1.0  CHEMBL1234777  173927\n",
      "2        CHEMBL1075097  CHEMBL1234777           1       7.5   -1.0  CHEMBL1234777  173927\n",
      "3        CHEMBL1075097  CHEMBL1234777           1       8.5   -1.0  CHEMBL1234777  173927\n",
      "4        CHEMBL1075097  CHEMBL1812661           1       5.5    1.0  CHEMBL1812661  150148\n",
      "...                ...            ...         ...       ...    ...            ...     ...\n",
      "2698282     CHEMBL5113  CHEMBL4647127          11       8.5   -1.0  CHEMBL4647127  145687\n",
      "2698283     CHEMBL5141  CHEMBL2147092        1031       8.5   -1.0  CHEMBL2147092  227992\n",
      "2698284     CHEMBL5145  CHEMBL3754116           6       8.5   -1.0  CHEMBL3754116  328259\n",
      "2698285     CHEMBL5406   CHEMBL570550         836       8.5   -1.0   CHEMBL570550  140043\n",
      "2698286     CHEMBL5406   CHEMBL571217         836       8.5   -1.0   CHEMBL571217  139232\n",
      "\n",
      "[2698287 rows x 7 columns]\n",
      "     0  vid\n",
      "0  5.5    0\n",
      "1  6.5    1\n",
      "2  7.5    2\n",
      "3  8.5    3\n"
     ]
    }
   ],
   "source": [
    "print(tmp1)\n",
    "print(variable_list)"
   ]
  },
  {
   "cell_type": "code",
   "execution_count": 43,
   "id": "9a9ef260",
   "metadata": {
    "ExecuteTime": {
     "end_time": "2022-08-01T13:41:38.026475Z",
     "start_time": "2022-08-01T13:41:37.374933Z"
    }
   },
   "outputs": [],
   "source": [
    "tmp2 = pd.merge(tmp1, variable_list, left_on=\"variable\", right_on=0) #WHY [0]"
   ]
  },
  {
   "cell_type": "code",
   "execution_count": 54,
   "id": "10dfc8e2",
   "metadata": {
    "ExecuteTime": {
     "end_time": "2022-08-01T13:59:45.206329Z",
     "start_time": "2022-08-01T13:59:43.936494Z"
    }
   },
   "outputs": [
    {
     "name": "stdout",
     "output_type": "stream",
     "text": [
      "<class 'pandas.core.frame.DataFrame'>\n",
      "RangeIndex: 2699038 entries, 0 to 2699037\n",
      "Data columns (total 5 columns):\n",
      " #   Column      Dtype  \n",
      "---  ------      -----  \n",
      " 0   target_id   object \n",
      " 1   cmpd_id     object \n",
      " 2   task_group  int64  \n",
      " 3   variable    float64\n",
      " 4   value       float64\n",
      "dtypes: float64(2), int64(1), object(2)\n",
      "memory usage: 103.0+ MB\n",
      "<class 'pandas.core.frame.DataFrame'>\n",
      "Int64Index: 2698287 entries, 0 to 2698286\n",
      "Data columns (total 7 columns):\n",
      " #   Column      Dtype  \n",
      "---  ------      -----  \n",
      " 0   target_id   object \n",
      " 1   cmpd_id     object \n",
      " 2   task_group  int64  \n",
      " 3   variable    float64\n",
      " 4   value       float64\n",
      " 5   1           object \n",
      " 6   cid         int64  \n",
      "dtypes: float64(2), int64(2), object(3)\n",
      "memory usage: 164.7+ MB\n",
      "<class 'pandas.core.frame.DataFrame'>\n",
      "Int64Index: 2698287 entries, 0 to 2698286\n",
      "Data columns (total 9 columns):\n",
      " #   Column      Dtype  \n",
      "---  ------      -----  \n",
      " 0   target_id   object \n",
      " 1   cmpd_id     object \n",
      " 2   task_group  int64  \n",
      " 3   variable    float64\n",
      " 4   value       float64\n",
      " 5   1           object \n",
      " 6   cid         int64  \n",
      " 7   0           float64\n",
      " 8   vid         int64  \n",
      "dtypes: float64(3), int64(3), object(3)\n",
      "memory usage: 205.9+ MB\n",
      "target_id        888\n",
      "cmpd_id       423737\n",
      "task_group        10\n",
      "variable           4\n",
      "value              2\n",
      "1             423737\n",
      "cid           423737\n",
      "0                  4\n",
      "vid                4\n",
      "dtype: int64\n",
      "             target_id        cmpd_id  task_group  variable  value              1     cid    0  vid\n",
      "0        CHEMBL1075097  CHEMBL1234777           1       5.5    1.0  CHEMBL1234777  173927  5.5    0\n",
      "1        CHEMBL1075097  CHEMBL1812661           1       5.5    1.0  CHEMBL1812661  150148  5.5    0\n",
      "2        CHEMBL1075097  CHEMBL1812662           1       5.5   -1.0  CHEMBL1812662  143524  5.5    0\n",
      "3        CHEMBL1075097  CHEMBL2326084           1       5.5    1.0  CHEMBL2326084  233209  5.5    0\n",
      "4        CHEMBL1075097  CHEMBL2326085           1       5.5    1.0  CHEMBL2326085  237772  5.5    0\n",
      "...                ...            ...         ...       ...    ...            ...     ...  ...  ...\n",
      "2698282     CHEMBL5113  CHEMBL4647127          11       8.5   -1.0  CHEMBL4647127  145687  8.5    3\n",
      "2698283     CHEMBL5141  CHEMBL2147092        1031       8.5   -1.0  CHEMBL2147092  227992  8.5    3\n",
      "2698284     CHEMBL5145  CHEMBL3754116           6       8.5   -1.0  CHEMBL3754116  328259  8.5    3\n",
      "2698285     CHEMBL5406   CHEMBL570550         836       8.5   -1.0   CHEMBL570550  140043  8.5    3\n",
      "2698286     CHEMBL5406   CHEMBL571217         836       8.5   -1.0   CHEMBL571217  139232  8.5    3\n",
      "\n",
      "[2698287 rows x 9 columns]\n"
     ]
    }
   ],
   "source": [
    "df.info()\n",
    "tmp1.info()\n",
    "tmp2.info()\n",
    "print(tmp2.nunique())\n",
    "print(tmp2)"
   ]
  },
  {
   "cell_type": "markdown",
   "id": "bc973db2",
   "metadata": {},
   "source": [
    "### `join` : Add unique target identifier to dataframe"
   ]
  },
  {
   "cell_type": "code",
   "execution_count": 55,
   "id": "22c384f1",
   "metadata": {
    "ExecuteTime": {
     "end_time": "2022-08-01T14:00:22.522232Z",
     "start_time": "2022-08-01T14:00:22.496358Z"
    }
   },
   "outputs": [
    {
     "name": "stdout",
     "output_type": "stream",
     "text": [
      "             target_id        cmpd_id  task_group  variable  value              1     cid    0  vid\n",
      "0        CHEMBL1075097  CHEMBL1234777           1       5.5    1.0  CHEMBL1234777  173927  5.5    0\n",
      "1        CHEMBL1075097  CHEMBL1812661           1       5.5    1.0  CHEMBL1812661  150148  5.5    0\n",
      "2        CHEMBL1075097  CHEMBL1812662           1       5.5   -1.0  CHEMBL1812662  143524  5.5    0\n",
      "3        CHEMBL1075097  CHEMBL2326084           1       5.5    1.0  CHEMBL2326084  233209  5.5    0\n",
      "4        CHEMBL1075097  CHEMBL2326085           1       5.5    1.0  CHEMBL2326085  237772  5.5    0\n",
      "...                ...            ...         ...       ...    ...            ...     ...  ...  ...\n",
      "2698282     CHEMBL5113  CHEMBL4647127          11       8.5   -1.0  CHEMBL4647127  145687  8.5    3\n",
      "2698283     CHEMBL5141  CHEMBL2147092        1031       8.5   -1.0  CHEMBL2147092  227992  8.5    3\n",
      "2698284     CHEMBL5145  CHEMBL3754116           6       8.5   -1.0  CHEMBL3754116  328259  8.5    3\n",
      "2698285     CHEMBL5406   CHEMBL570550         836       8.5   -1.0   CHEMBL570550  140043  8.5    3\n",
      "2698286     CHEMBL5406   CHEMBL571217         836       8.5   -1.0   CHEMBL571217  139232  8.5    3\n",
      "\n",
      "[2698287 rows x 9 columns]\n",
      "                 0  tid\n",
      "0    CHEMBL1075097    0\n",
      "1    CHEMBL1075104    1\n",
      "2    CHEMBL1075138    2\n",
      "3    CHEMBL1075145    3\n",
      "4    CHEMBL1075165    4\n",
      "..             ...  ...\n",
      "883     CHEMBL6154  883\n",
      "884     CHEMBL6164  884\n",
      "885     CHEMBL6166  885\n",
      "886     CHEMBL6167  886\n",
      "887     CHEMBL6175  887\n",
      "\n",
      "[888 rows x 2 columns]\n"
     ]
    }
   ],
   "source": [
    "print(tmp2)\n",
    "print(target_list)"
   ]
  },
  {
   "cell_type": "code",
   "execution_count": 47,
   "id": "fe1f444a",
   "metadata": {
    "ExecuteTime": {
     "end_time": "2022-08-01T13:44:51.528391Z",
     "start_time": "2022-08-01T13:44:51.495062Z"
    },
    "scrolled": true
   },
   "outputs": [
    {
     "name": "stdout",
     "output_type": "stream",
     "text": [
      "<class 'pandas.core.frame.DataFrame'>\n",
      "Int64Index: 2698287 entries, 0 to 2698286\n",
      "Data columns (total 9 columns):\n",
      " #   Column      Dtype  \n",
      "---  ------      -----  \n",
      " 0   target_id   object \n",
      " 1   cmpd_id     object \n",
      " 2   task_group  int64  \n",
      " 3   variable    float64\n",
      " 4   value       float64\n",
      " 5   1           object \n",
      " 6   cid         int64  \n",
      " 7   0           float64\n",
      " 8   vid         int64  \n",
      "dtypes: float64(3), int64(3), object(3)\n",
      "memory usage: 205.9+ MB\n",
      "<class 'pandas.core.frame.DataFrame'>\n",
      "RangeIndex: 888 entries, 0 to 887\n",
      "Data columns (total 2 columns):\n",
      " #   Column  Non-Null Count  Dtype \n",
      "---  ------  --------------  ----- \n",
      " 0   0       888 non-null    object\n",
      " 1   tid     888 non-null    int64 \n",
      "dtypes: int64(1), object(1)\n",
      "memory usage: 14.0+ KB\n"
     ]
    }
   ],
   "source": [
    "tmp2.info()\n",
    "target_list.info()"
   ]
  },
  {
   "cell_type": "code",
   "execution_count": 56,
   "id": "e3580e04",
   "metadata": {
    "ExecuteTime": {
     "end_time": "2022-08-01T14:00:25.243613Z",
     "start_time": "2022-08-01T14:00:24.607953Z"
    }
   },
   "outputs": [],
   "source": [
    "join = pd.merge(tmp2,target_list, how=\"inner\", left_on=\"target_id\", right_on=0, suffixes = ['_left', '_right'])"
   ]
  },
  {
   "cell_type": "code",
   "execution_count": 49,
   "id": "ec6df538",
   "metadata": {
    "ExecuteTime": {
     "end_time": "2022-08-01T13:45:01.805901Z",
     "start_time": "2022-08-01T13:45:00.984314Z"
    }
   },
   "outputs": [],
   "source": [
    "join.drop(columns=[1, '0_left', '0_right'],inplace=True)"
   ]
  },
  {
   "cell_type": "code",
   "execution_count": 57,
   "id": "2f0b8077",
   "metadata": {
    "ExecuteTime": {
     "end_time": "2022-08-01T14:00:41.147623Z",
     "start_time": "2022-08-01T14:00:39.992017Z"
    }
   },
   "outputs": [
    {
     "name": "stdout",
     "output_type": "stream",
     "text": [
      "<class 'pandas.core.frame.DataFrame'>\n",
      "Int64Index: 2698287 entries, 0 to 2698286\n",
      "Data columns (total 11 columns):\n",
      " #   Column      Dtype  \n",
      "---  ------      -----  \n",
      " 0   target_id   object \n",
      " 1   cmpd_id     object \n",
      " 2   task_group  int64  \n",
      " 3   variable    float64\n",
      " 4   value       float64\n",
      " 5   1           object \n",
      " 6   cid         int64  \n",
      " 7   0_left      float64\n",
      " 8   vid         int64  \n",
      " 9   0_right     object \n",
      " 10  tid         int64  \n",
      "dtypes: float64(3), int64(4), object(4)\n",
      "memory usage: 247.0+ MB\n",
      "target_id        888\n",
      "cmpd_id       423737\n",
      "task_group        10\n",
      "variable           4\n",
      "value              2\n",
      "1             423737\n",
      "cid           423737\n",
      "0_left             4\n",
      "vid                4\n",
      "0_right          888\n",
      "tid              888\n",
      "dtype: int64\n",
      "             target_id        cmpd_id  task_group  variable  value              1     cid  0_left  vid        0_right  tid\n",
      "0        CHEMBL1075097  CHEMBL1234777           1       5.5    1.0  CHEMBL1234777  173927     5.5    0  CHEMBL1075097    0\n",
      "1        CHEMBL1075097  CHEMBL1812661           1       5.5    1.0  CHEMBL1812661  150148     5.5    0  CHEMBL1075097    0\n",
      "2        CHEMBL1075097  CHEMBL1812662           1       5.5   -1.0  CHEMBL1812662  143524     5.5    0  CHEMBL1075097    0\n",
      "3        CHEMBL1075097  CHEMBL2326084           1       5.5    1.0  CHEMBL2326084  233209     5.5    0  CHEMBL1075097    0\n",
      "4        CHEMBL1075097  CHEMBL2326085           1       5.5    1.0  CHEMBL2326085  237772     5.5    0  CHEMBL1075097    0\n",
      "...                ...            ...         ...       ...    ...            ...     ...     ...  ...            ...  ...\n",
      "2698282     CHEMBL5966   CHEMBL526861           0       8.5   -1.0   CHEMBL526861  119481     8.5    3     CHEMBL5966  866\n",
      "2698283     CHEMBL5966   CHEMBL527054           0       8.5   -1.0   CHEMBL527054  167338     8.5    3     CHEMBL5966  866\n",
      "2698284     CHEMBL5966   CHEMBL527072           0       8.5   -1.0   CHEMBL527072     211     8.5    3     CHEMBL5966  866\n",
      "2698285     CHEMBL5966   CHEMBL527080           0       8.5   -1.0   CHEMBL527080  118961     8.5    3     CHEMBL5966  866\n",
      "2698286     CHEMBL5966   CHEMBL527084           0       8.5   -1.0   CHEMBL527084     159     8.5    3     CHEMBL5966  866\n",
      "\n",
      "[2698287 rows x 11 columns]\n"
     ]
    }
   ],
   "source": [
    "join.info()\n",
    "print(join.nunique())\n",
    "print(join)"
   ]
  },
  {
   "cell_type": "code",
   "execution_count": 58,
   "id": "57a64f2d",
   "metadata": {
    "ExecuteTime": {
     "end_time": "2022-08-01T14:01:22.885904Z",
     "start_time": "2022-08-01T14:01:22.793401Z"
    }
   },
   "outputs": [
    {
     "name": "stdout",
     "output_type": "stream",
     "text": [
      "4\n",
      "888\n",
      "423737\n"
     ]
    }
   ],
   "source": [
    "print(join['vid'].nunique())\n",
    "print(join['tid'].nunique())\n",
    "print(join['cid'].nunique())"
   ]
  },
  {
   "cell_type": "code",
   "execution_count": 59,
   "id": "4432fb71",
   "metadata": {
    "ExecuteTime": {
     "end_time": "2022-08-01T14:01:26.729578Z",
     "start_time": "2022-08-01T14:01:26.681101Z"
    }
   },
   "outputs": [
    {
     "name": "stdout",
     "output_type": "stream",
     "text": [
      "6       764834\n",
      "11      336091\n",
      "1028    323448\n",
      "1       309909\n",
      "0       270448\n",
      "10      155187\n",
      "836     150758\n",
      "1005    149426\n",
      "1031    126553\n",
      "643     111633\n",
      "Name: task_group, dtype: int64\n",
      "total   2698287\n"
     ]
    }
   ],
   "source": [
    "print(join['task_group'].value_counts())\n",
    "ttl_counts = 0\n",
    "for i in join['task_group'].value_counts():\n",
    "    ttl_counts += i\n",
    "print (f\"total   {ttl_counts}\")"
   ]
  },
  {
   "cell_type": "markdown",
   "id": "1b7004c5",
   "metadata": {},
   "source": [
    "Note: \n",
    "    The following targets are connected to 2 different task groups:\n",
    "    \n",
    "    CHEMBL3521       2\n",
    "    CHEMBL4105860    2\n",
    "    CHEMBL4958       2\n",
    "    CHEMBL4081       2"
   ]
  },
  {
   "cell_type": "code",
   "execution_count": 42,
   "id": "618909bb",
   "metadata": {
    "ExecuteTime": {
     "end_time": "2022-07-27T20:47:13.730246Z",
     "start_time": "2022-07-27T20:47:11.922592Z"
    }
   },
   "outputs": [
    {
     "data": {
      "text/html": [
       "<div>\n",
       "<style scoped>\n",
       "    .dataframe tbody tr th:only-of-type {\n",
       "        vertical-align: middle;\n",
       "    }\n",
       "\n",
       "    .dataframe tbody tr th {\n",
       "        vertical-align: top;\n",
       "    }\n",
       "\n",
       "    .dataframe thead th {\n",
       "        text-align: right;\n",
       "    }\n",
       "</style>\n",
       "<table border=\"1\" class=\"dataframe\">\n",
       "  <thead>\n",
       "    <tr style=\"text-align: right;\">\n",
       "      <th></th>\n",
       "      <th>cmpd_id</th>\n",
       "      <th>task_group</th>\n",
       "      <th>variable</th>\n",
       "      <th>value</th>\n",
       "      <th>cid</th>\n",
       "      <th>vid</th>\n",
       "      <th>tid</th>\n",
       "    </tr>\n",
       "    <tr>\n",
       "      <th>target_id</th>\n",
       "      <th></th>\n",
       "      <th></th>\n",
       "      <th></th>\n",
       "      <th></th>\n",
       "      <th></th>\n",
       "      <th></th>\n",
       "      <th></th>\n",
       "    </tr>\n",
       "  </thead>\n",
       "  <tbody>\n",
       "    <tr>\n",
       "      <th>CHEMBL1075097</th>\n",
       "      <td>120</td>\n",
       "      <td>1</td>\n",
       "      <td>4</td>\n",
       "      <td>2</td>\n",
       "      <td>120</td>\n",
       "      <td>4</td>\n",
       "      <td>1</td>\n",
       "    </tr>\n",
       "    <tr>\n",
       "      <th>CHEMBL3988583</th>\n",
       "      <td>1094</td>\n",
       "      <td>1</td>\n",
       "      <td>4</td>\n",
       "      <td>2</td>\n",
       "      <td>1094</td>\n",
       "      <td>4</td>\n",
       "      <td>1</td>\n",
       "    </tr>\n",
       "    <tr>\n",
       "      <th>CHEMBL3988599</th>\n",
       "      <td>321</td>\n",
       "      <td>1</td>\n",
       "      <td>4</td>\n",
       "      <td>2</td>\n",
       "      <td>321</td>\n",
       "      <td>4</td>\n",
       "      <td>1</td>\n",
       "    </tr>\n",
       "    <tr>\n",
       "      <th>CHEMBL3989381</th>\n",
       "      <td>114</td>\n",
       "      <td>1</td>\n",
       "      <td>4</td>\n",
       "      <td>1</td>\n",
       "      <td>114</td>\n",
       "      <td>4</td>\n",
       "      <td>1</td>\n",
       "    </tr>\n",
       "    <tr>\n",
       "      <th>CHEMBL3991</th>\n",
       "      <td>211</td>\n",
       "      <td>1</td>\n",
       "      <td>4</td>\n",
       "      <td>2</td>\n",
       "      <td>211</td>\n",
       "      <td>4</td>\n",
       "      <td>1</td>\n",
       "    </tr>\n",
       "    <tr>\n",
       "      <th>...</th>\n",
       "      <td>...</td>\n",
       "      <td>...</td>\n",
       "      <td>...</td>\n",
       "      <td>...</td>\n",
       "      <td>...</td>\n",
       "      <td>...</td>\n",
       "      <td>...</td>\n",
       "    </tr>\n",
       "    <tr>\n",
       "      <th>CHEMBL245</th>\n",
       "      <td>887</td>\n",
       "      <td>1</td>\n",
       "      <td>4</td>\n",
       "      <td>2</td>\n",
       "      <td>887</td>\n",
       "      <td>4</td>\n",
       "      <td>1</td>\n",
       "    </tr>\n",
       "    <tr>\n",
       "      <th>CHEMBL3521</th>\n",
       "      <td>214</td>\n",
       "      <td>2</td>\n",
       "      <td>4</td>\n",
       "      <td>2</td>\n",
       "      <td>214</td>\n",
       "      <td>4</td>\n",
       "      <td>1</td>\n",
       "    </tr>\n",
       "    <tr>\n",
       "      <th>CHEMBL4105860</th>\n",
       "      <td>204</td>\n",
       "      <td>2</td>\n",
       "      <td>4</td>\n",
       "      <td>1</td>\n",
       "      <td>204</td>\n",
       "      <td>4</td>\n",
       "      <td>1</td>\n",
       "    </tr>\n",
       "    <tr>\n",
       "      <th>CHEMBL4958</th>\n",
       "      <td>181</td>\n",
       "      <td>2</td>\n",
       "      <td>4</td>\n",
       "      <td>2</td>\n",
       "      <td>181</td>\n",
       "      <td>4</td>\n",
       "      <td>1</td>\n",
       "    </tr>\n",
       "    <tr>\n",
       "      <th>CHEMBL4081</th>\n",
       "      <td>110</td>\n",
       "      <td>2</td>\n",
       "      <td>4</td>\n",
       "      <td>2</td>\n",
       "      <td>110</td>\n",
       "      <td>4</td>\n",
       "      <td>1</td>\n",
       "    </tr>\n",
       "  </tbody>\n",
       "</table>\n",
       "<p>888 rows × 7 columns</p>\n",
       "</div>"
      ],
      "text/plain": [
       "               cmpd_id  task_group  variable  value   cid  vid  tid\n",
       "target_id                                                          \n",
       "CHEMBL1075097      120           1         4      2   120    4    1\n",
       "CHEMBL3988583     1094           1         4      2  1094    4    1\n",
       "CHEMBL3988599      321           1         4      2   321    4    1\n",
       "CHEMBL3989381      114           1         4      1   114    4    1\n",
       "CHEMBL3991         211           1         4      2   211    4    1\n",
       "...                ...         ...       ...    ...   ...  ...  ...\n",
       "CHEMBL245          887           1         4      2   887    4    1\n",
       "CHEMBL3521         214           2         4      2   214    4    1\n",
       "CHEMBL4105860      204           2         4      1   204    4    1\n",
       "CHEMBL4958         181           2         4      2   181    4    1\n",
       "CHEMBL4081         110           2         4      2   110    4    1\n",
       "\n",
       "[888 rows x 7 columns]"
      ]
     },
     "execution_count": 42,
     "metadata": {},
     "output_type": "execute_result"
    }
   ],
   "source": [
    "# join.groupby(by=['target_id']).nunique('task_group').sort_values(by='task_group')\n",
    "join.groupby(by=['target_id']).nunique('task_group').sort_values(by='task_group')"
   ]
  },
  {
   "cell_type": "code",
   "execution_count": 54,
   "id": "10f24c4f",
   "metadata": {
    "ExecuteTime": {
     "end_time": "2022-07-27T14:43:35.362139Z",
     "start_time": "2022-07-27T14:43:34.977092Z"
    }
   },
   "outputs": [
    {
     "data": {
      "text/plain": [
       "target_id\n",
       "CHEMBL3521       2\n",
       "CHEMBL4105860    2\n",
       "CHEMBL4958       2\n",
       "CHEMBL4081       2\n",
       "CHEMBL1075097    1\n",
       "CHEMBL3988583    1\n",
       "CHEMBL3988599    1\n",
       "CHEMBL3989381    1\n",
       "CHEMBL3991       1\n",
       "CHEMBL3991501    1\n",
       "Name: task_group, dtype: int64"
      ]
     },
     "execution_count": 54,
     "metadata": {},
     "output_type": "execute_result"
    }
   ],
   "source": [
    "join.groupby('target_id')['task_group'].nunique().sort_values().nlargest(10)"
   ]
  },
  {
   "cell_type": "markdown",
   "id": "2b4ae0c4",
   "metadata": {},
   "source": [
    "## Create `Ymask` sparse matrix\n",
    "    #-----------------------------------------------------------------------------------------------------\n",
    "    # Build COOrdiante formatted sparse matrices for Ymask and  Y\n",
    "    #\n",
    "    # Ymask =  coo_matrix((data, (i, j)), [shape=(M, N)])\n",
    "    # to construct from three arrays:\n",
    "    # data[:] the entries of the matrix, in any order\n",
    "    # \n",
    "    # i[:] the row indices of the matrix entries\n",
    "    # j[:] the column indices of the matrix entries\n",
    "    # \n",
    "    # Where A[i[k], j[k]] = data[k]. When shape is not specified, it is inferred from the index arrays\n",
    "    #\n",
    "    # Number of rows    : Ncmpd - Unique compound ids \n",
    "    # Number of columns : Ncol  - Number of unique target ids x number of unqiue thresholds \n",
    "    #\n",
    "    #\n",
    "    #-----------------------------------------------------------------------------------------------------\n",
    "    \n",
    "    Dims:   `Ncmpd x NCol`"
   ]
  },
  {
   "cell_type": "code",
   "execution_count": 28,
   "id": "29811f62",
   "metadata": {
    "ExecuteTime": {
     "end_time": "2022-07-27T20:20:07.033705Z",
     "start_time": "2022-07-27T20:20:06.623669Z"
    }
   },
   "outputs": [
    {
     "name": "stdout",
     "output_type": "stream",
     "text": [
      "\n",
      " # of compounds Ncmpd: 423737    \n",
      " # of columns   Ncol : (# unique target_ids x # unique thresholds ) = (888 x 4): 3552\n"
     ]
    }
   ],
   "source": [
    "print()\n",
    "Ncmpd = len(set(cmpd_list['cid']))\n",
    "Ncol  = len(df[\"target_id\"].unique()) * len(df[\"variable\"].unique())\n",
    "\n",
    "print(f\" # of compounds Ncmpd: {Ncmpd}    \")\n",
    "print(f\" # of columns   Ncol : (# unique target_ids x # unique thresholds ) = ({len(df['target_id'].unique())} x {len(df['variable'].unique())}): {Ncol}\")"
   ]
  },
  {
   "cell_type": "code",
   "execution_count": 29,
   "id": "8d9ed61f",
   "metadata": {
    "ExecuteTime": {
     "end_time": "2022-07-27T20:20:10.261387Z",
     "start_time": "2022-07-27T20:20:10.202663Z"
    }
   },
   "outputs": [],
   "source": [
    "I = join[\"cid\"].to_numpy()                         ## Rows: Compund Ids\n",
    "J = (Nvar * join[\"tid\"] + join[\"vid\"]).to_numpy()  ## Columns: (4 x tid) + vid\n",
    "V = np.ones(len(I))\n",
    "\n",
    "Ymask = scipy.sparse.coo_matrix((V,(I,J)),(Ncmpd,Ncol))"
   ]
  },
  {
   "cell_type": "code",
   "execution_count": 30,
   "id": "dfd0f459",
   "metadata": {
    "ExecuteTime": {
     "end_time": "2022-07-27T20:20:13.066322Z",
     "start_time": "2022-07-27T20:20:12.739426Z"
    }
   },
   "outputs": [
    {
     "name": "stdout",
     "output_type": "stream",
     "text": [
      " I (Row coordiantes) Len: 2698287 - [173927 150148 143524 ...    211 118961    159]\n",
      " J (Col coordiantes) Len: 2698287 - [   0    0    0 ... 3467 3467 3467]\n",
      " V (Data)            Len: 2698287 - [1. 1. 1. ... 1. 1. 1.] min: 1.0 max: 1.0\n"
     ]
    }
   ],
   "source": [
    "print(f' I (Row coordiantes) Len: {len(I)} - {I}') ## Rows \n",
    "print(f' J (Col coordiantes) Len: {len(J)} - {J}') ## Columns \n",
    "print(f' V (Data)            Len: {len(V)} - {V} min: {min(V)} max: {max(V)}') # Data"
   ]
  },
  {
   "cell_type": "code",
   "execution_count": 31,
   "id": "c56b3202",
   "metadata": {
    "ExecuteTime": {
     "end_time": "2022-07-27T20:20:14.268498Z",
     "start_time": "2022-07-27T20:20:13.071875Z"
    }
   },
   "outputs": [
    {
     "name": "stdout",
     "output_type": "stream",
     "text": [
      " Ymask        : <class 'scipy.sparse.coo.coo_matrix'>      Shape: (423737, 3552)\n",
      " Ymask.data   : <class 'numpy.ndarray'> Shape: (2698287,)\n",
      "\n",
      " #(Ymask < 0) : 0\n",
      " #(Ymask > 0) : 2612254\n",
      " #(Ymask = 1) : 2530793\n",
      " #(Ymask = 2) : 76889\n",
      " #(Ymask = 3) : 4572\n",
      " #(Ymask = 4) : 0\n",
      " #(Ymask = 5) : 0\n",
      " #(Ymask > 5) : 0\n",
      " Ymask.sum()  : 2698287.0\n"
     ]
    }
   ],
   "source": [
    "Ymask_neg = (Ymask < 0)\n",
    "\n",
    "print(f\" Ymask        : {type(Ymask)}      Shape: {Ymask.shape}\")    \n",
    "print(f\" Ymask.data   : {type(Ymask.data)} Shape: {Ymask.data.shape}\")\n",
    "print()\n",
    "print(f\" #(Ymask < 0) : {(Ymask<0).sum()}\")\n",
    "print(f\" #(Ymask > 0) : {(Ymask>0).sum()}\")\n",
    "print(f\" #(Ymask = 1) : {(Ymask==1).sum()}\")\n",
    "print(f\" #(Ymask = 2) : {(Ymask==2).sum()}\")\n",
    "print(f\" #(Ymask = 3) : {(Ymask==3).sum()}\")\n",
    "print(f\" #(Ymask = 4) : {(Ymask==4).sum()}\")\n",
    "print(f\" #(Ymask = 5) : {(Ymask==5).sum()}\")\n",
    "print(f\" #(Ymask > 5) : {(Ymask>5).sum()}\")\n",
    "print(f\" Ymask.sum()  : {Ymask.sum()}\")\n",
    "# print(Ymask)"
   ]
  },
  {
   "cell_type": "markdown",
   "id": "78bcadb0",
   "metadata": {},
   "source": [
    "##  Create Y sparse matrix "
   ]
  },
  {
   "cell_type": "code",
   "execution_count": 32,
   "id": "93660ce3",
   "metadata": {
    "ExecuteTime": {
     "end_time": "2022-07-27T20:20:19.978491Z",
     "start_time": "2022-07-27T20:20:19.648659Z"
    }
   },
   "outputs": [
    {
     "name": "stdout",
     "output_type": "stream",
     "text": [
      " I (Row coordiantes) Len: 2698287 - [173927 150148 143524 ...    211 118961    159]\n",
      " J (Col coordiantes) Len: 2698287 - [   0    0    0 ... 3467 3467 3467]\n",
      " V (Data)            Len: 2698287 - [ 1.  1. -1. ... -1. -1. -1.] min: -1.0 max: 1.0\n"
     ]
    }
   ],
   "source": [
    "y_data = join[\"value\"].to_numpy()\n",
    "\n",
    "print(f' I (Row coordiantes) Len: {len(I)} - {I}') ## Rows \n",
    "print(f' J (Col coordiantes) Len: {len(J)} - {J}') ## Columns \n",
    "print(f' V (Data)            Len: {len(y_data)} - {y_data} min: {min(y_data)} max: {max(y_data)}') # Data"
   ]
  },
  {
   "cell_type": "code",
   "execution_count": 33,
   "id": "76a1260f",
   "metadata": {
    "ExecuteTime": {
     "end_time": "2022-07-27T20:20:21.704619Z",
     "start_time": "2022-07-27T20:20:21.673375Z"
    }
   },
   "outputs": [],
   "source": [
    "Y = scipy.sparse.coo_matrix((y_data,(I,J)),(Ncmpd, Ncol))"
   ]
  },
  {
   "cell_type": "code",
   "execution_count": 34,
   "id": "a9713f75",
   "metadata": {
    "ExecuteTime": {
     "end_time": "2022-07-27T14:19:37.643568Z",
     "start_time": "2022-07-27T14:19:35.302965Z"
    }
   },
   "outputs": [
    {
     "name": "stdout",
     "output_type": "stream",
     "text": [
      "<423737x3552 sparse matrix of type '<class 'numpy.float64'>'\n",
      "\twith 2698287 stored elements in COOrdinate format>\n",
      " #  (Y < 0 ) : 1679110\n",
      " #  (Y != 0) : 2612254\n",
      " #  (Y > 0)  : 933144\n",
      "\n",
      " #  (Y < -5) : 0\n",
      " #  (Y = -5) : 0\n",
      " #  (Y = -4) : 0\n",
      " #  (Y = -3) : 3322\n",
      " #  (Y = -2) : 40605\n",
      " #  (Y = -1) : 1635183\n",
      " #  (Y = 1)  : 895610\n",
      " #  (Y = 2)  : 36284\n",
      " #  (Y = 3)  : 1250\n",
      " #  (Y = 4)  : 0\n",
      " #  (Y = 5)  : 0\n",
      " #  (Y > 5)  : 0\n",
      " Y.sum()     : -754431.0\n"
     ]
    }
   ],
   "source": [
    "print(repr(Y))\n",
    "print(f\" #  (Y < 0 ) : {(Y<0).sum()}\")\n",
    "print(f\" #  (Y != 0) : {(Y!=0).sum()}\")\n",
    "print(f\" #  (Y > 0)  : {(Y>0).sum()}\")\n",
    "print()\n",
    "print(f\" #  (Y < -5) : {(Y<-5).sum()}\")\n",
    "print(f\" #  (Y = -5) : {(Y==-5).sum()}\")\n",
    "print(f\" #  (Y = -4) : {(Y==-4).sum()}\")\n",
    "print(f\" #  (Y = -3) : {(Y==-3).sum()}\")\n",
    "print(f\" #  (Y = -2) : {(Y==-2).sum()}\")\n",
    "print(f\" #  (Y = -1) : {(Y==-1).sum()}\")\n",
    "print(f\" #  (Y = 1)  : {(Y==1).sum()}\")\n",
    "print(f\" #  (Y = 2)  : {(Y==2).sum()}\")\n",
    "print(f\" #  (Y = 3)  : {(Y==3).sum()}\")\n",
    "print(f\" #  (Y = 4)  : {(Y==4).sum()}\")\n",
    "print(f\" #  (Y = 5)  : {(Y==5).sum()}\")\n",
    "print(f\" #  (Y > 5)  : {(Y>5).sum()}\")\n",
    "print(f\" Y.sum()     : {Y.sum()}\")"
   ]
  },
  {
   "cell_type": "code",
   "execution_count": 178,
   "id": "cedaf0f9",
   "metadata": {
    "ExecuteTime": {
     "end_time": "2022-07-25T18:38:24.899052Z",
     "start_time": "2022-07-25T18:38:24.880355Z"
    }
   },
   "outputs": [],
   "source": [
    "# print(Y)"
   ]
  },
  {
   "cell_type": "markdown",
   "id": "00a1ba32",
   "metadata": {
    "ExecuteTime": {
     "end_time": "2022-07-25T15:15:48.071263Z",
     "start_time": "2022-07-25T15:15:48.057069Z"
    }
   },
   "source": [
    "## Write Y file"
   ]
  },
  {
   "cell_type": "code",
   "execution_count": 35,
   "id": "5f9e6f2e",
   "metadata": {
    "ExecuteTime": {
     "end_time": "2022-07-27T14:19:42.806594Z",
     "start_time": "2022-07-27T14:19:42.788864Z"
    }
   },
   "outputs": [
    {
     "name": "stdout",
     "output_type": "stream",
     "text": [
      "output/chembl_29/chembl_29_Y_all.npy\n"
     ]
    }
   ],
   "source": [
    "conf.y\n",
    "all_Y_filename = conf.y[:-3]+\"npy\"\n",
    "print(all_Y_filename)"
   ]
  },
  {
   "cell_type": "code",
   "execution_count": 36,
   "id": "8425c1ef",
   "metadata": {
    "ExecuteTime": {
     "end_time": "2022-07-27T14:19:44.256215Z",
     "start_time": "2022-07-27T14:19:44.190384Z"
    }
   },
   "outputs": [
    {
     "name": "stdout",
     "output_type": "stream",
     "text": [
      "write Y file to: output/chembl_29/chembl_29_Y_all.npy\n"
     ]
    }
   ],
   "source": [
    "np.save(all_Y_filename, Y)\n",
    "print(f\"write Y file to: {all_Y_filename}\")"
   ]
  },
  {
   "cell_type": "markdown",
   "id": "814b9518",
   "metadata": {
    "ExecuteTime": {
     "end_time": "2022-07-25T15:15:48.071263Z",
     "start_time": "2022-07-25T15:15:48.057069Z"
    }
   },
   "source": [
    "## Write Y file for each task group"
   ]
  },
  {
   "cell_type": "code",
   "execution_count": 35,
   "id": "e4c239ef",
   "metadata": {
    "ExecuteTime": {
     "end_time": "2022-07-27T20:27:04.052890Z",
     "start_time": "2022-07-27T20:27:03.975631Z"
    }
   },
   "outputs": [
    {
     "name": "stdout",
     "output_type": "stream",
     "text": [
      "10 [   1 1028   10   11    0 1005    6  836  643 1031]\n",
      " threshold count 4\n",
      "6       764834\n",
      "11      336091\n",
      "1028    323448\n",
      "1       309909\n",
      "0       270448\n",
      "10      155187\n",
      "836     150758\n",
      "1005    149426\n",
      "1031    126553\n",
      "643     111633\n",
      "Name: task_group, dtype: int64\n"
     ]
    }
   ],
   "source": [
    "task_groups = join['task_group'].unique()\n",
    "print(len(task_groups), task_groups)\n",
    "\n",
    "threshold_count = len(df[\"variable\"].unique())\n",
    "print(f\" threshold count {threshold_count}\")\n",
    "print(join['task_group'].value_counts())"
   ]
  },
  {
   "cell_type": "code",
   "execution_count": null,
   "id": "9d043ffc",
   "metadata": {},
   "outputs": [],
   "source": []
  },
  {
   "cell_type": "code",
   "execution_count": 50,
   "id": "2eb7bc35",
   "metadata": {
    "ExecuteTime": {
     "end_time": "2022-07-28T06:59:00.217055Z",
     "start_time": "2022-07-28T06:58:58.397098Z"
    },
    "scrolled": false
   },
   "outputs": [
    {
     "name": "stdout",
     "output_type": "stream",
     "text": [
      "\n",
      "---------------------\n",
      "   Taskgroup    1 \n",
      "---------------------\n",
      "\n",
      " Taskgroup      1 - rows: 309909\n",
      " Target_list shape      : (156, 2)\n",
      " tg_targer_count        : 156\n",
      " Number of columns      : 624\n",
      " I (Row coordiantes) Len: 309909 - [173927 150148 143524 ... 226340 225143 225274]\n",
      " J (Col coordiantes) Len: 309909 - [  0   0   0 ... 623 623 623]\n",
      " V (Data)            Len: 309909 - [ 1.  1. -1. ... -1. -1. -1.] min: -1.0 max: 1.0\n",
      " Sparse matrix shape    : (423737, 624)\n",
      "<423737x624 sparse matrix of type '<class 'numpy.float64'>'\n",
      "\twith 309909 stored elements in Compressed Sparse Row format>\n",
      " #  (Y < 0 ) : 219244\n",
      " #  (Y > 0)  : 90665\n",
      " #  (Y != 0) : 309909\n",
      "\n",
      " #  (Y < -5) : 0\n",
      " #  (Y = -5) : 0\n",
      " #  (Y = -4) : 0\n",
      " #  (Y = -3) : 0\n",
      " #  (Y = -2) : 0\n",
      " #  (Y = -1) : 219244\n",
      " #  (Y = +1)  : 90665\n",
      " #  (Y = +2)  : 0\n",
      " #  (Y = +3)  : 0\n",
      " #  (Y = +4)  : 0\n",
      " #  (Y = +5)  : 0\n",
      " #  (Y > +5)  : 0\n",
      " Y.sum() +    : -128579.0\n",
      " Taskgroup 1 written to tg_Y_filename  \n",
      "\n",
      "---------------------\n",
      "   Taskgroup 1028 \n",
      "---------------------\n",
      "\n",
      " Taskgroup   1028 - rows: 323448\n",
      " Target_list shape      : (86, 2)\n",
      " tg_targer_count        : 86\n",
      " Number of columns      : 344\n",
      " I (Row coordiantes) Len: 323448 - [ 82782    551 260842 ... 139402 142397 142220]\n",
      " J (Col coordiantes) Len: 323448 - [  0   0   0 ... 343 343 343]\n",
      " V (Data)            Len: 323448 - [ 1. -1. -1. ... -1. -1. -1.] min: -1.0 max: 1.0\n",
      " Sparse matrix shape    : (423737, 344)\n",
      "<423737x344 sparse matrix of type '<class 'numpy.float64'>'\n",
      "\twith 323448 stored elements in Compressed Sparse Row format>\n",
      " #  (Y < 0 ) : 213199\n",
      " #  (Y > 0)  : 110249\n",
      " #  (Y != 0) : 323448\n",
      "\n",
      " #  (Y < -5) : 0\n",
      " #  (Y = -5) : 0\n",
      " #  (Y = -4) : 0\n",
      " #  (Y = -3) : 0\n",
      " #  (Y = -2) : 0\n",
      " #  (Y = -1) : 213199\n",
      " #  (Y = +1)  : 110249\n",
      " #  (Y = +2)  : 0\n",
      " #  (Y = +3)  : 0\n",
      " #  (Y = +4)  : 0\n",
      " #  (Y = +5)  : 0\n",
      " #  (Y > +5)  : 0\n",
      " Y.sum() +    : -102950.0\n",
      " Taskgroup 1028 written to tg_Y_filename  \n",
      "\n",
      "---------------------\n",
      "   Taskgroup   10 \n",
      "---------------------\n",
      "\n",
      " Taskgroup     10 - rows: 155187\n",
      " Target_list shape      : (48, 2)\n",
      " tg_targer_count        : 48\n",
      " Number of columns      : 192\n",
      " I (Row coordiantes) Len: 155187 - [ 82782  17572   1614 ... 147287 146325 146703]\n",
      " J (Col coordiantes) Len: 155187 - [  0   0   0 ... 191 191 191]\n",
      " V (Data)            Len: 155187 - [ 1.  1. -1. ... -1. -1. -1.] min: -1.0 max: 1.0\n",
      " Sparse matrix shape    : (423737, 192)\n",
      "<423737x192 sparse matrix of type '<class 'numpy.float64'>'\n",
      "\twith 155187 stored elements in Compressed Sparse Row format>\n",
      " #  (Y < 0 ) : 110611\n",
      " #  (Y > 0)  : 44576\n",
      " #  (Y != 0) : 155187\n",
      "\n",
      " #  (Y < -5) : 0\n",
      " #  (Y = -5) : 0\n",
      " #  (Y = -4) : 0\n",
      " #  (Y = -3) : 0\n",
      " #  (Y = -2) : 0\n",
      " #  (Y = -1) : 110611\n",
      " #  (Y = +1)  : 44576\n",
      " #  (Y = +2)  : 0\n",
      " #  (Y = +3)  : 0\n",
      " #  (Y = +4)  : 0\n",
      " #  (Y = +5)  : 0\n",
      " #  (Y > +5)  : 0\n",
      " Y.sum() +    : -66035.0\n",
      " Taskgroup 10 written to tg_Y_filename  \n",
      "\n",
      "---------------------\n",
      "   Taskgroup   11 \n",
      "---------------------\n",
      "\n",
      " Taskgroup     11 - rows: 336091\n",
      " Target_list shape      : (155, 2)\n",
      " tg_targer_count        : 155\n",
      " Number of columns      : 620\n",
      " I (Row coordiantes) Len: 336091 - [ 82782 411590 171276 ... 137105 134055 136709]\n",
      " J (Col coordiantes) Len: 336091 - [  0   0   0 ... 619 619 619]\n",
      " V (Data)            Len: 336091 - [ 1.  1.  1. ... -1. -1. -1.] min: -1.0 max: 1.0\n",
      " Sparse matrix shape    : (423737, 620)\n",
      "<423737x620 sparse matrix of type '<class 'numpy.float64'>'\n",
      "\twith 336091 stored elements in Compressed Sparse Row format>\n",
      " #  (Y < 0 ) : 193933\n",
      " #  (Y > 0)  : 142158\n",
      " #  (Y != 0) : 336091\n",
      "\n",
      " #  (Y < -5) : 0\n",
      " #  (Y = -5) : 0\n",
      " #  (Y = -4) : 0\n",
      " #  (Y = -3) : 0\n",
      " #  (Y = -2) : 0\n",
      " #  (Y = -1) : 193933\n",
      " #  (Y = +1)  : 142158\n",
      " #  (Y = +2)  : 0\n",
      " #  (Y = +3)  : 0\n",
      " #  (Y = +4)  : 0\n",
      " #  (Y = +5)  : 0\n",
      " #  (Y > +5)  : 0\n",
      " Y.sum() +    : -51775.0\n",
      " Taskgroup 11 written to tg_Y_filename  \n",
      "\n",
      "---------------------\n",
      "   Taskgroup    0 \n",
      "---------------------\n",
      "\n",
      " Taskgroup      0 - rows: 270448\n",
      " Target_list shape      : (118, 2)\n",
      " tg_targer_count        : 118\n",
      " Number of columns      : 472\n",
      " I (Row coordiantes) Len: 270448 - [ 82782 166853  69067 ...    211 118961    159]\n",
      " J (Col coordiantes) Len: 270448 - [  0   0   0 ... 471 471 471]\n",
      " V (Data)            Len: 270448 - [ 1. -1. -1. ... -1. -1. -1.] min: -1.0 max: 1.0\n",
      " Sparse matrix shape    : (423737, 472)\n",
      "<423737x472 sparse matrix of type '<class 'numpy.float64'>'\n",
      "\twith 270448 stored elements in Compressed Sparse Row format>\n",
      " #  (Y < 0 ) : 188511\n",
      " #  (Y > 0)  : 81937\n",
      " #  (Y != 0) : 270448\n",
      "\n",
      " #  (Y < -5) : 0\n",
      " #  (Y = -5) : 0\n",
      " #  (Y = -4) : 0\n",
      " #  (Y = -3) : 0\n",
      " #  (Y = -2) : 0\n",
      " #  (Y = -1) : 188511\n",
      " #  (Y = +1)  : 81937\n",
      " #  (Y = +2)  : 0\n",
      " #  (Y = +3)  : 0\n",
      " #  (Y = +4)  : 0\n",
      " #  (Y = +5)  : 0\n",
      " #  (Y > +5)  : 0\n",
      " Y.sum() +    : -106574.0\n",
      " Taskgroup 0 written to tg_Y_filename  \n",
      "\n",
      "---------------------\n",
      "   Taskgroup 1005 \n",
      "---------------------\n",
      "\n",
      " Taskgroup   1005 - rows: 149426\n",
      " Target_list shape      : (37, 2)\n",
      " tg_targer_count        : 37\n",
      " Number of columns      : 148\n",
      " I (Row coordiantes) Len: 149426 - [ 82782 249924 267481 ... 117050 117131 117217]\n",
      " J (Col coordiantes) Len: 149426 - [  0   0   0 ... 147 147 147]\n",
      " V (Data)            Len: 149426 - [ 1. -1. -1. ... -1. -1. -1.] min: -1.0 max: 1.0\n",
      " Sparse matrix shape    : (423737, 148)\n",
      "<423737x148 sparse matrix of type '<class 'numpy.float64'>'\n",
      "\twith 149426 stored elements in Compressed Sparse Row format>\n",
      " #  (Y < 0 ) : 104361\n",
      " #  (Y > 0)  : 45065\n",
      " #  (Y != 0) : 149426\n",
      "\n",
      " #  (Y < -5) : 0\n",
      " #  (Y = -5) : 0\n",
      " #  (Y = -4) : 0\n",
      " #  (Y = -3) : 0\n",
      " #  (Y = -2) : 0\n",
      " #  (Y = -1) : 104361\n",
      " #  (Y = +1)  : 45065\n",
      " #  (Y = +2)  : 0\n",
      " #  (Y = +3)  : 0\n",
      " #  (Y = +4)  : 0\n",
      " #  (Y = +5)  : 0\n",
      " #  (Y > +5)  : 0\n",
      " Y.sum() +    : -59296.0\n",
      " Taskgroup 1005 written to tg_Y_filename  \n",
      "\n",
      "---------------------\n",
      "   Taskgroup    6 \n",
      "---------------------\n",
      "\n",
      " Taskgroup      6 - rows: 764834\n",
      " Target_list shape      : (172, 2)\n",
      " tg_targer_count        : 172\n",
      " Number of columns      : 688\n",
      " I (Row coordiantes) Len: 764834 - [ 82782 247618 247619 ... 276707 280039 279060]\n",
      " J (Col coordiantes) Len: 764834 - [  0   0   0 ... 687 687 687]\n",
      " V (Data)            Len: 764834 - [ 1.  1.  1. ... -1. -1. -1.] min: -1.0 max: 1.0\n",
      " Sparse matrix shape    : (423737, 688)\n",
      "<423737x688 sparse matrix of type '<class 'numpy.float64'>'\n",
      "\twith 702258 stored elements in Compressed Sparse Row format>\n",
      " #  (Y < 0 ) : 382164\n",
      " #  (Y > 0)  : 320094\n",
      " #  (Y != 0) : 702258\n",
      "\n",
      " #  (Y < -5) : 0\n",
      " #  (Y = -5) : 0\n",
      " #  (Y = -4) : 0\n",
      " #  (Y = -3) : 0\n",
      " #  (Y = -2) : 29810\n",
      " #  (Y = -1) : 352354\n",
      " #  (Y = +1)  : 287328\n",
      " #  (Y = +2)  : 32766\n",
      " #  (Y = +3)  : 0\n",
      " #  (Y = +4)  : 0\n",
      " #  (Y = +5)  : 0\n",
      " #  (Y > +5)  : 0\n",
      " Y.sum() +    : -59114.0\n",
      " ============ MODIFY > +1 ===========\n",
      " ============ MODIFY < -1 ===========\n",
      " Write Y file for task group 6 to: output/chembl_29/chembl_29_Y_all_tg_1005_cols_148.npy\n",
      " #  (Y < 0 ) : 382164\n",
      " #  (Y > 0)  : 320094\n",
      " #  (Y != 0) : 702258\n",
      "\n",
      " #  (Y < -5) : 0\n",
      " #  (Y = -5) : 0\n",
      " #  (Y = -4) : 0\n",
      " #  (Y = -3) : 0\n",
      " #  (Y = -2) : 0\n",
      " #  (Y = -1) : 382164\n",
      " #  (Y = +1)  : 320094\n",
      " #  (Y = +2)  : 0\n",
      " #  (Y = +3)  : 0\n",
      " #  (Y = +4)  : 0\n",
      " #  (Y = +5)  : 0\n",
      " #  (Y > +5)  : 0\n",
      " Y.sum() +    : -62070.0\n",
      " Taskgroup 6 written to tg_Y_filename  \n",
      "\n",
      "---------------------\n",
      "   Taskgroup  836 \n",
      "---------------------\n",
      "\n",
      " Taskgroup    836 - rows: 150758\n",
      " Target_list shape      : (56, 2)\n",
      " tg_targer_count        : 56\n",
      " Number of columns      : 224\n",
      " I (Row coordiantes) Len: 150758 - [199285 199784 199013 ... 420516 423380 423622]\n",
      " J (Col coordiantes) Len: 150758 - [  0   0   0 ... 223 223 223]\n",
      " V (Data)            Len: 150758 - [-1.  1. -1. ... -1. -1. -1.] min: -1.0 max: 1.0\n",
      " Sparse matrix shape    : (423737, 224)\n",
      "<423737x224 sparse matrix of type '<class 'numpy.float64'>'\n",
      "\twith 130131 stored elements in Compressed Sparse Row format>\n",
      " #  (Y < 0 ) : 91904\n",
      " #  (Y > 0)  : 38227\n",
      " #  (Y != 0) : 130131\n",
      "\n",
      " #  (Y < -5) : 0\n",
      " #  (Y = -5) : 0\n",
      " #  (Y = -4) : 0\n",
      " #  (Y = -3) : 3322\n",
      " #  (Y = -2) : 8236\n",
      " #  (Y = -1) : 80346\n",
      " #  (Y = +1)  : 33730\n",
      " #  (Y = +2)  : 3247\n",
      " #  (Y = +3)  : 1250\n",
      " #  (Y = +4)  : 0\n",
      " #  (Y = +5)  : 0\n",
      " #  (Y > +5)  : 0\n",
      " Y.sum() +    : -62810.0\n",
      " ============ MODIFY > +1 ===========\n",
      " ============ MODIFY < -1 ===========\n",
      " Write Y file for task group 836 to: output/chembl_29/chembl_29_Y_all_tg_6_cols_688.npy\n",
      " #  (Y < 0 ) : 91904\n",
      " #  (Y > 0)  : 38227\n",
      " #  (Y != 0) : 130131\n",
      "\n",
      " #  (Y < -5) : 0\n",
      " #  (Y = -5) : 0\n",
      " #  (Y = -4) : 0\n"
     ]
    },
    {
     "name": "stdout",
     "output_type": "stream",
     "text": [
      " #  (Y = -3) : 0\n",
      " #  (Y = -2) : 0\n",
      " #  (Y = -1) : 91904\n",
      " #  (Y = +1)  : 38227\n",
      " #  (Y = +2)  : 0\n",
      " #  (Y = +3)  : 0\n",
      " #  (Y = +4)  : 0\n",
      " #  (Y = +5)  : 0\n",
      " #  (Y > +5)  : 0\n",
      " Y.sum() +    : -53677.0\n",
      " Taskgroup 836 written to tg_Y_filename  \n",
      "\n",
      "---------------------\n",
      "   Taskgroup  643 \n",
      "---------------------\n",
      "\n",
      " Taskgroup    643 - rows: 111633\n",
      " Target_list shape      : (46, 2)\n",
      " tg_targer_count        : 46\n",
      " Number of columns      : 184\n",
      " I (Row coordiantes) Len: 111633 - [200706 346235  78309 ... 148868 147673 146621]\n",
      " J (Col coordiantes) Len: 111633 - [  0   0   0 ... 183 183 183]\n",
      " V (Data)            Len: 111633 - [ 1.  1.  1. ... -1. -1. -1.] min: -1.0 max: 1.0\n",
      " Sparse matrix shape    : (423737, 184)\n",
      "<423737x184 sparse matrix of type '<class 'numpy.float64'>'\n",
      "\twith 111633 stored elements in Compressed Sparse Row format>\n",
      " #  (Y < 0 ) : 69820\n",
      " #  (Y > 0)  : 41813\n",
      " #  (Y != 0) : 111633\n",
      "\n",
      " #  (Y < -5) : 0\n",
      " #  (Y = -5) : 0\n",
      " #  (Y = -4) : 0\n",
      " #  (Y = -3) : 0\n",
      " #  (Y = -2) : 0\n",
      " #  (Y = -1) : 69820\n",
      " #  (Y = +1)  : 41813\n",
      " #  (Y = +2)  : 0\n",
      " #  (Y = +3)  : 0\n",
      " #  (Y = +4)  : 0\n",
      " #  (Y = +5)  : 0\n",
      " #  (Y > +5)  : 0\n",
      " Y.sum() +    : -28007.0\n",
      " Taskgroup 643 written to tg_Y_filename  \n",
      "\n",
      "---------------------\n",
      "   Taskgroup 1031 \n",
      "---------------------\n",
      "\n",
      " Taskgroup   1031 - rows: 126553\n",
      " Target_list shape      : (18, 2)\n",
      " tg_targer_count        : 18\n",
      " Number of columns      : 72\n",
      " I (Row coordiantes) Len: 126553 - [236291 233697 236292 ... 140117   9155   1138]\n",
      " J (Col coordiantes) Len: 126553 - [ 0  0  0 ... 71 71 71]\n",
      " V (Data)            Len: 126553 - [ 1. -1. -1. ... -1. -1. -1.] min: -1.0 max: 1.0\n",
      " Sparse matrix shape    : (423737, 72)\n",
      "<423737x72 sparse matrix of type '<class 'numpy.float64'>'\n",
      "\twith 126553 stored elements in Compressed Sparse Row format>\n",
      " #  (Y < 0 ) : 107922\n",
      " #  (Y > 0)  : 18631\n",
      " #  (Y != 0) : 126553\n",
      "\n",
      " #  (Y < -5) : 0\n",
      " #  (Y = -5) : 0\n",
      " #  (Y = -4) : 0\n",
      " #  (Y = -3) : 0\n",
      " #  (Y = -2) : 0\n",
      " #  (Y = -1) : 107922\n",
      " #  (Y = +1)  : 18631\n",
      " #  (Y = +2)  : 0\n",
      " #  (Y = +3)  : 0\n",
      " #  (Y = +4)  : 0\n",
      " #  (Y = +5)  : 0\n",
      " #  (Y > +5)  : 0\n",
      " Y.sum() +    : -89291.0\n",
      " Taskgroup 1031 written to tg_Y_filename  \n",
      "ttl_cols: 3568\n"
     ]
    }
   ],
   "source": [
    "ttl_cols = 0\n",
    "\n",
    "for i in task_groups:\n",
    "    print(\"\\n---------------------\")\n",
    "    print(f\"   Taskgroup {i:4d} \")\n",
    "    print(\"---------------------\")\n",
    "    \n",
    "    tg_join = join[join['task_group'] == i]\n",
    "    tg_target_list = pd.DataFrame(tg_join['tid'].unique())    \n",
    "    tg_target_count = len(tg_target_list) \n",
    "    tg_target_list[\"col_id\"] = range(len(tg_target_list))\n",
    "    tg_join = pd.merge(tg_join, tg_target_list, how=\"inner\", left_on=\"tid\", right_on=0)    \n",
    "    \n",
    "#     print(tg_join)    \n",
    "#     print(tg_join['tid'].unique())\n",
    "#     print(tg_target_list)    \n",
    "#     print(tg_join)        \n",
    "\n",
    "    Ncol = tg_target_count * threshold_count   \n",
    "    ttl_cols += Ncol\n",
    "    I = tg_join[\"cid\"].to_numpy()\n",
    "    J = (Nvar * tg_join[\"col_id\"] + tg_join[\"vid\"]).to_numpy()\n",
    "    V = tg_join[\"value\"].to_numpy()\n",
    "    tg_Y = scipy.sparse.csr_matrix((V,(I,J)),(Ncmpd, Ncol))\n",
    "    \n",
    "#     tg_Ymask_data = np.ones(len(I))\n",
    "#     tg_Ymask = scipy.sparse.coo_matrix((y_mask_data,(I,J)),(Ncmpd,Ncol))\n",
    "    print()\n",
    "    print(f\" Taskgroup {i:6d} - rows: {len(tg_join)}\")\n",
    "    print(f\" Target_list shape      : {tg_target_list.shape}\")\n",
    "    print(f\" tg_targer_count        : {tg_target_count}\")\n",
    "    print(f' Number of columns      : {Ncol}')\n",
    "    print(f' I (Row coordiantes) Len: {len(I)} - {I}') ## Rows \n",
    "    print(f' J (Col coordiantes) Len: {len(J)} - {J}') ## Columns \n",
    "    print(f' V (Data)            Len: {len(V)} - {V} min: {min(V)} max: {max(V)}') # Data   \n",
    "    print(f' Sparse matrix shape    : {tg_Y.shape}')\n",
    "\n",
    "    print(repr(tg_Y))\n",
    "    print(f\" #  (Y < 0 ) : {(tg_Y < 0).sum()}\")\n",
    "    print(f\" #  (Y > 0)  : {(tg_Y > 0).sum()}\")\n",
    "    print(f\" #  (Y != 0) : {(tg_Y !=0).sum()}\")    \n",
    "    print()\n",
    "    print(f\" #  (Y < -5) : {(tg_Y  < -5).sum()}\")\n",
    "    print(f\" #  (Y = -5) : {(tg_Y == -5).sum()}\")\n",
    "    print(f\" #  (Y = -4) : {(tg_Y == -4).sum()}\")\n",
    "    print(f\" #  (Y = -3) : {(tg_Y == -3).sum()}\")\n",
    "    print(f\" #  (Y = -2) : {(tg_Y == -2).sum()}\")\n",
    "    print(f\" #  (Y = -1) : {(tg_Y == -1).sum()}\")\n",
    "    print(f\" #  (Y = +1)  : {(tg_Y == 1).sum()}\")\n",
    "    print(f\" #  (Y = +2)  : {(tg_Y == 2).sum()}\")\n",
    "    print(f\" #  (Y = +3)  : {(tg_Y == 3).sum()}\")\n",
    "    print(f\" #  (Y = +4)  : {(tg_Y == 4).sum()}\")\n",
    "    print(f\" #  (Y = +5)  : {(tg_Y == 5).sum()}\")\n",
    "    print(f\" #  (Y > +5)  : {(tg_Y  > 5).sum()}\")\n",
    "    print(f\" Y.sum() +    : {tg_Y.sum()}\")  \n",
    "    \n",
    "    modify = False\n",
    "    if (tg_Y >= +2).sum():\n",
    "        print(\" ============ MODIFY > +1 ===========\")\n",
    "        tg_Y[tg_Y >= +2] = +1\n",
    "        modify = True\n",
    "        \n",
    "    if (tg_Y <= -2).sum():\n",
    "        print(\" ============ MODIFY < -1 ===========\")\n",
    "        tg_Y[tg_Y <= -1] = -1\n",
    "        modify = True\n",
    "        \n",
    "    if modify:\n",
    "        print(f\" Write Y file for task group {i} to: {tg_Y_filename}\")\n",
    "        print(f\" #  (Y < 0 ) : {(tg_Y < 0).sum()}\")\n",
    "        print(f\" #  (Y > 0)  : {(tg_Y > 0).sum()}\")\n",
    "        print(f\" #  (Y != 0) : {(tg_Y !=0).sum()}\")        \n",
    "        print()\n",
    "        print(f\" #  (Y < -5) : {(tg_Y  < -5).sum()}\")\n",
    "        print(f\" #  (Y = -5) : {(tg_Y == -5).sum()}\")\n",
    "        print(f\" #  (Y = -4) : {(tg_Y == -4).sum()}\")\n",
    "        print(f\" #  (Y = -3) : {(tg_Y == -3).sum()}\")\n",
    "        print(f\" #  (Y = -2) : {(tg_Y == -2).sum()}\")\n",
    "        print(f\" #  (Y = -1) : {(tg_Y == -1).sum()}\")\n",
    "        print(f\" #  (Y = +1)  : {(tg_Y == 1).sum()}\")\n",
    "        print(f\" #  (Y = +2)  : {(tg_Y == 2).sum()}\")\n",
    "        print(f\" #  (Y = +3)  : {(tg_Y == 3).sum()}\")\n",
    "        print(f\" #  (Y = +4)  : {(tg_Y == 4).sum()}\")\n",
    "        print(f\" #  (Y = +5)  : {(tg_Y == 5).sum()}\")\n",
    "        print(f\" #  (Y > +5)  : {(tg_Y  > 5).sum()}\")\n",
    "        print(f\" Y.sum() +    : {tg_Y.sum()}\")  \n",
    "\n",
    "        \n",
    "    tg_Y_filename= f\"{conf.y[:-4]}_tg_{i}_cols_{Ncol}.npy\"\n",
    "\n",
    "    np.save(tg_Y_filename, tg_Y)\n",
    "    print(f\" Taskgroup {i} written to tg_Y_filename  \")\n",
    "print(f\"ttl_cols: {ttl_cols}\")"
   ]
  },
  {
   "cell_type": "markdown",
   "id": "49fed323",
   "metadata": {
    "heading_collapsed": true
   },
   "source": [
    "##  Create Folding file"
   ]
  },
  {
   "cell_type": "code",
   "execution_count": 43,
   "id": "a36d9516",
   "metadata": {
    "ExecuteTime": {
     "end_time": "2022-07-27T14:01:03.570876Z",
     "start_time": "2022-07-27T14:01:03.556814Z"
    },
    "hidden": true
   },
   "outputs": [
    {
     "name": "stdout",
     "output_type": "stream",
     "text": [
      "(423737, 3552)\n",
      "Calculate folding... nfolds: 5\n"
     ]
    }
   ],
   "source": [
    "print(Ymask.shape)\n",
    "\n",
    "print(f\"Calculate folding... nfolds: {conf.nfolds}\")"
   ]
  },
  {
   "cell_type": "code",
   "execution_count": 44,
   "id": "15165888",
   "metadata": {
    "ExecuteTime": {
     "end_time": "2022-07-27T14:01:22.650374Z",
     "start_time": "2022-07-27T14:01:04.140019Z"
    },
    "hidden": true,
    "scrolled": true
   },
   "outputs": [
    {
     "name": "stdout",
     "output_type": "stream",
     "text": [
      "* Y_in       : <class 'scipy.sparse.coo.coo_matrix'> \t (423737, 3552)\n",
      "* clusters: <class 'pandas.core.series.Series'>  \t (423737,) \n",
      "           Min: 2 Max:26057\n",
      "0         24163\n",
      "1         24163\n",
      "2          8923\n",
      "3         24163\n",
      "4         12269\n",
      "          ...  \n",
      "423732    24163\n",
      "423733    24670\n",
      "423734    18967\n",
      "423735    15079\n",
      "423736    12696\n",
      "Length: 423737, dtype: int64 \n",
      "\n",
      "* cl_uniq: <class 'numpy.ndarray'> 16747\n",
      "[24163  8923 12269 ... 21287 10892 15079]\n",
      "\n",
      "* cid:   <class 'pandas.core.series.Series'> 423737\n",
      "24163        0\n",
      "24163        0\n",
      "8923         1\n",
      "24163        0\n",
      "12269        2\n",
      "         ...  \n",
      "24163        0\n",
      "24670        4\n",
      "18967       12\n",
      "15079    16746\n",
      "12696    15924\n",
      "Length: 423737, dtype: int64\n",
      "\n",
      "* Create C sparse matrix - indicating the clusters compounds are assigned to.... \n",
      "* Shape of sparse matrix: Rows(#clusters):16747 Columns(#compounds): 423737 \n",
      "\n",
      "* Y_bin     :   <class 'scipy.sparse.coo.coo_matrix'> (423737, 3552)\n",
      "* Y_bin.data:   <class 'numpy.ndarray'> (2698287,)\n",
      " Sum: 0\n",
      " Sum: 2612254\n",
      " Sum: 2698287.0\n",
      "* Y_bin.data:   <class 'numpy.ndarray'> (2698287,)\n",
      "\n",
      " Sum: 0\n",
      " Sum: 2612254\n",
      " Sum: 2698287\n",
      "\n",
      "* cl_counts     :   <class 'scipy.sparse.csr.csr_matrix'> (16747, 3552)\n",
      "* cl_counts.data:   <class 'numpy.ndarray'> (198048,)\n",
      "   (0, 1998)\t81\n",
      "  (0, 1997)\t112\n",
      "  (0, 1996)\t112\n",
      "  (0, 2176)\t79\n",
      "  (0, 2179)\t36\n",
      "  (0, 2178)\t36\n",
      "  (0, 2177)\t81\n",
      "  (0, 3383)\t42\n",
      "  (0, 3382)\t42\n",
      "  (0, 3381)\t95\n",
      "  (0, 3380)\t118\n",
      "  (0, 2115)\t45\n",
      "  (0, 2114)\t45\n",
      "  (0, 2113)\t45\n",
      "  (0, 2112)\t45\n",
      "  (0, 1047)\t1\n",
      "  (0, 1046)\t1\n",
      "  (0, 1045)\t1\n",
      "  (0, 1044)\t1\n",
      "  (0, 2075)\t15\n",
      "  (0, 2074)\t15\n",
      "  (0, 2073)\t15\n",
      "  (0, 2072)\t15\n",
      "  (0, 791)\t70\n",
      "  (0, 790)\t70\n",
      "  :\t:\n",
      "  (16743, 808)\t1\n",
      "  (16744, 1731)\t3\n",
      "  (16744, 1730)\t3\n",
      "  (16744, 1729)\t3\n",
      "  (16744, 1728)\t3\n",
      "  (16745, 1183)\t1\n",
      "  (16745, 1182)\t1\n",
      "  (16745, 1181)\t1\n",
      "  (16745, 1180)\t1\n",
      "  (16746, 3303)\t1\n",
      "  (16746, 3302)\t1\n",
      "  (16746, 3301)\t1\n",
      "  (16746, 3300)\t1\n",
      "  (16746, 2539)\t1\n",
      "  (16746, 2538)\t1\n",
      "  (16746, 2537)\t1\n",
      "  (16746, 2536)\t1\n",
      "  (16746, 1503)\t1\n",
      "  (16746, 1502)\t1\n",
      "  (16746, 1501)\t1\n",
      "  (16746, 1500)\t1\n",
      "  (16746, 1367)\t1\n",
      "  (16746, 1366)\t1\n",
      "  (16746, 1365)\t1\n",
      "  (16746, 1364)\t1\n",
      "\n",
      "* cl_counts_neg     :   <class 'scipy.sparse.csr.csr_matrix'>      (16747, 3552)\n",
      "* cl_counts_neg.data:   <class 'numpy.ndarray'> (2880,)\n",
      " Sum: 2880\n",
      "   (0, 8)\tTrue\n",
      "  (0, 9)\tTrue\n",
      "  (0, 10)\tTrue\n",
      "  (0, 11)\tTrue\n",
      "  (0, 12)\tTrue\n",
      "  (0, 13)\tTrue\n",
      "  (0, 14)\tTrue\n",
      "  (0, 15)\tTrue\n",
      "  (0, 32)\tTrue\n",
      "  (0, 33)\tTrue\n",
      "  (0, 34)\tTrue\n",
      "  (0, 35)\tTrue\n",
      "  (0, 36)\tTrue\n",
      "  (0, 43)\tTrue\n",
      "  (0, 44)\tTrue\n",
      "  (0, 45)\tTrue\n",
      "  (0, 52)\tTrue\n",
      "  (0, 53)\tTrue\n",
      "  (0, 54)\tTrue\n",
      "  (0, 55)\tTrue\n",
      "  (0, 80)\tTrue\n",
      "  (0, 81)\tTrue\n",
      "  (0, 82)\tTrue\n",
      "  (0, 83)\tTrue\n",
      "  (0, 84)\tTrue\n",
      "  :\t:\n",
      "  (15291, 2577)\tTrue\n",
      "  (15291, 2578)\tTrue\n",
      "  (15291, 2579)\tTrue\n",
      "  (15308, 2576)\tTrue\n",
      "  (15308, 2577)\tTrue\n",
      "  (15308, 2578)\tTrue\n",
      "  (15308, 2579)\tTrue\n",
      "  (15316, 828)\tTrue\n",
      "  (15316, 2000)\tTrue\n",
      "  (15318, 176)\tTrue\n",
      "  (15318, 177)\tTrue\n",
      "  (15318, 178)\tTrue\n",
      "  (15318, 179)\tTrue\n",
      "  (15323, 2172)\tTrue\n",
      "  (15323, 2173)\tTrue\n",
      "  (15323, 2174)\tTrue\n",
      "  (15323, 2175)\tTrue\n",
      "  (15329, 2576)\tTrue\n",
      "  (15329, 2577)\tTrue\n",
      "  (15329, 2578)\tTrue\n",
      "  (15329, 2579)\tTrue\n",
      "  (15369, 3144)\tTrue\n",
      "  (15369, 3145)\tTrue\n",
      "  (15369, 3146)\tTrue\n",
      "  (15369, 3147)\tTrue \n",
      "\n",
      "* Call mtcv with nfolds: 5  \t pfolds: None \t  seed: None\n",
      " Call mtcv with nfolds: 5  \t pfolds: [0.2 0.2 0.2 0.2 0.2] \t  seed: None\n",
      "\n",
      "\n",
      "* mask        : (16747, 3552) \t\n",
      "   (0, 0)\t17\n",
      "  (0, 1)\t17\n",
      "  (0, 2)\t17\n",
      "  (0, 3)\t17\n",
      "  (0, 4)\t76\n",
      "  (0, 5)\t95\n",
      "  (0, 6)\t95\n",
      "  (0, 7)\t94\n",
      "  (0, 8)\t-15\n",
      "  (0, 9)\t-15\n",
      "  (0, 10)\t-15\n",
      "  (0, 11)\t-15\n",
      "  (0, 12)\t-65\n",
      "  (0, 13)\t-92\n",
      "  (0, 14)\t-96\n",
      "  (0, 15)\t-96\n",
      "  (0, 16)\t45\n",
      "  (0, 17)\t45\n",
      "  (0, 18)\t45\n",
      "  (0, 19)\t45\n",
      "  (0, 20)\t14\n",
      "  (0, 21)\t14\n",
      "  (0, 22)\t14\n",
      "  (0, 23)\t14\n",
      "  (0, 24)\t86\n",
      "  :\t:\n",
      "  (16743, 2889)\t1\n",
      "  (16744, 1728)\t3\n",
      "  (16744, 1729)\t3\n",
      "  (16744, 1730)\t3\n",
      "  (16744, 1731)\t3\n",
      "  (16745, 1180)\t1\n",
      "  (16745, 1181)\t1\n",
      "  (16745, 1182)\t1\n",
      "  (16745, 1183)\t1\n",
      "  (16746, 1364)\t1\n",
      "  (16746, 1365)\t1\n",
      "  (16746, 1366)\t1\n",
      "  (16746, 1367)\t1\n",
      "  (16746, 1500)\t1\n",
      "  (16746, 1501)\t1\n",
      "  (16746, 1502)\t1\n",
      "  (16746, 1503)\t1\n",
      "  (16746, 2536)\t1\n",
      "  (16746, 2537)\t1\n",
      "  (16746, 2538)\t1\n",
      "  (16746, 2539)\t1\n",
      "  (16746, 3300)\t1\n",
      "  (16746, 3301)\t1\n",
      "  (16746, 3302)\t1\n",
      "  (16746, 3303)\t1 \n",
      "\n",
      "* Target sizes (mask sum along rows) : (3552,) \t [ 120  120  120 ...  754  761 1008] \n",
      "\n",
      "* comp sizes   (mask sum over columns): (16747,)   \t [72003    20    24 ...    12     4    16] \n",
      "\n",
      "\n",
      "* df info\n",
      "<class 'pandas.core.frame.DataFrame'>\n",
      "RangeIndex: 16747 entries, 0 to 16746\n",
      "Data columns (total 2 columns):\n",
      " #   Column  Non-Null Count  Dtype\n",
      "---  ------  --------------  -----\n",
      " 0   row     16747 non-null  int64\n",
      " 1   size    16747 non-null  int64\n",
      "dtypes: int64(2)\n",
      "memory usage: 261.8 KB\n",
      "None\n",
      "         row   size\n",
      "0          0  72003\n",
      "1          1     20\n",
      "2          2     24\n",
      "3          3    314\n",
      "4          4  72409\n",
      "...      ...    ...\n",
      "16742  16742      8\n",
      "16743  16743      3\n",
      "16744  16744     12\n",
      "16745  16745      4\n",
      "16746  16746     16\n",
      "\n",
      "[16747 rows x 2 columns]\n",
      "\n",
      " df1 info \n",
      "\n",
      "<class 'pandas.core.frame.DataFrame'>\n",
      "Int64Index: 16747 entries, 12965 to 11078\n",
      "Data columns (total 2 columns):\n",
      " #   Column  Non-Null Count  Dtype\n",
      "---  ------  --------------  -----\n",
      " 0   row     16747 non-null  int64\n",
      " 1   size    16747 non-null  int64\n",
      "dtypes: int64(2)\n",
      "memory usage: 392.5 KB\n",
      "None\n",
      "         row  size\n",
      "12965  12965     8\n",
      "916      916     4\n",
      "3045    3045     4\n",
      "141      141    36\n",
      "9177    9177    12\n",
      "...      ...   ...\n",
      "5189    5189   544\n",
      "4480    4480     4\n",
      "14676  14676    24\n",
      "16004  16004     4\n",
      "11078  11078     8\n",
      "\n",
      "[16747 rows x 2 columns]\n",
      "\n",
      " df1 info (after sort by size descending)\n",
      "\n",
      "<class 'pandas.core.frame.DataFrame'>\n",
      "Int64Index: 16747 entries, 12 to 14324\n",
      "Data columns (total 2 columns):\n",
      " #   Column  Non-Null Count  Dtype\n",
      "---  ------  --------------  -----\n",
      " 0   row     16747 non-null  int64\n",
      " 1   size    16747 non-null  int64\n",
      "dtypes: int64(2)\n",
      "memory usage: 392.5 KB\n",
      "None\n",
      "         row   size\n",
      "12        12  92687\n",
      "4          4  72409\n",
      "0          0  72003\n",
      "55        55   9355\n",
      "4586    4586   1635\n",
      "...      ...    ...\n",
      "3278    3278   -488\n",
      "12129  12129   -616\n",
      "14356  14356   -746\n",
      "11285  11285   -833\n",
      "14324  14324  -1516\n",
      "\n",
      "[16747 rows x 2 columns]\n",
      "* fold_sizes : (5, 3552) \n",
      " [[0 0 0 ... 0 0 0]\n",
      " [0 0 0 ... 0 0 0]\n",
      " [0 0 0 ... 0 0 0]\n",
      " [0 0 0 ... 0 0 0]\n",
      " [0 0 0 ... 0 0 0]] \n",
      "\n",
      "* max fold sizes: (3552, 5) \n",
      " [[ 24.  24.  24.  24.  24.]\n",
      " [ 24.  24.  24.  24.  24.]\n",
      " [ 24.  24.  24.  24.  24.]\n",
      " ...\n",
      " [151. 151. 151. 151. 151.]\n",
      " [153. 153. 153. 153. 153.]\n",
      " [202. 202. 202. 202. 202.]]\n",
      "\n",
      "* folds : (16747,) \n",
      " [-1 -1 -1 ... -1 -1 -1] \n",
      "\n",
      "* mask        : (16747, 3552) \n",
      " finished loop - i is: 16746\n",
      "* cid:   <class 'pandas.core.series.Series'> 423737\n",
      "24163        0\n",
      "24163        0\n",
      "8923         1\n",
      "24163        0\n",
      "12269        2\n",
      "         ...  \n",
      "24163        0\n",
      "24670        4\n",
      "18967       12\n",
      "15079    16746\n",
      "12696    15924\n",
      "Length: 423737, dtype: int64\n",
      "\n",
      "* folds:  (16747,) \n",
      " [4 4 4 ... 4 0 2] \n",
      "\n"
     ]
    }
   ],
   "source": [
    "folds = mtcv_clustered(Ymask, pd.Series(clusters), conf.nfolds)"
   ]
  },
  {
   "cell_type": "code",
   "execution_count": 45,
   "id": "1a9fc793",
   "metadata": {
    "ExecuteTime": {
     "end_time": "2022-07-27T14:01:22.674023Z",
     "start_time": "2022-07-27T14:01:22.654653Z"
    },
    "hidden": true
   },
   "outputs": [
    {
     "name": "stdout",
     "output_type": "stream",
     "text": [
      "(423737,)\n",
      "0 4\n"
     ]
    }
   ],
   "source": [
    "print(folds.shape)\n",
    "print(folds.min(), folds.max())"
   ]
  },
  {
   "cell_type": "code",
   "execution_count": 46,
   "id": "3f4b24dd",
   "metadata": {
    "ExecuteTime": {
     "end_time": "2022-07-27T14:01:22.697224Z",
     "start_time": "2022-07-27T14:01:22.679453Z"
    },
    "hidden": true
   },
   "outputs": [
    {
     "name": "stdout",
     "output_type": "stream",
     "text": [
      "output/chembl_29/chembl_29_folding.npy\n"
     ]
    }
   ],
   "source": [
    "print(conf.folding)"
   ]
  },
  {
   "cell_type": "code",
   "execution_count": 47,
   "id": "bbf9475e",
   "metadata": {
    "ExecuteTime": {
     "end_time": "2022-07-27T14:12:27.783650Z",
     "start_time": "2022-07-27T14:12:27.767584Z"
    },
    "hidden": true
   },
   "outputs": [
    {
     "name": "stdout",
     "output_type": "stream",
     "text": [
      "save folding file to output/chembl_29/chembl_29_folding.npy\n"
     ]
    }
   ],
   "source": [
    "#TODO: save folding\n",
    "np.save(conf.folding, folds)\n",
    "print(f\"save folding file to {conf.folding}\")"
   ]
  },
  {
   "cell_type": "code",
   "execution_count": null,
   "id": "175af977",
   "metadata": {
    "hidden": true
   },
   "outputs": [],
   "source": []
  },
  {
   "cell_type": "markdown",
   "id": "3abdd413",
   "metadata": {
    "heading_collapsed": true,
    "hidden": true
   },
   "source": [
    "### `mtcv_clustered` step by step"
   ]
  },
  {
   "cell_type": "code",
   "execution_count": 275,
   "id": "7eea1eb7",
   "metadata": {
    "ExecuteTime": {
     "end_time": "2022-07-26T12:14:57.687999Z",
     "start_time": "2022-07-26T12:14:57.662704Z"
    },
    "hidden": true
   },
   "outputs": [
    {
     "name": "stdout",
     "output_type": "stream",
     "text": [
      "(423737,)\n"
     ]
    },
    {
     "data": {
      "text/plain": [
       "0         12266\n",
       "1         10766\n",
       "2         10766\n",
       "3          4557\n",
       "4          4557\n",
       "          ...  \n",
       "423732     4557\n",
       "423733    15081\n",
       "423734     8125\n",
       "423735    25220\n",
       "423736    15081\n",
       "Length: 423737, dtype: int64"
      ]
     },
     "execution_count": 275,
     "metadata": {},
     "output_type": "execute_result"
    }
   ],
   "source": [
    "print(clusters.shape)\n",
    "clusters_ser = pd.Series(clusters)\n",
    "clusters_ser"
   ]
  },
  {
   "cell_type": "code",
   "execution_count": 276,
   "id": "412d32ed",
   "metadata": {
    "ExecuteTime": {
     "end_time": "2022-07-26T12:14:58.321171Z",
     "start_time": "2022-07-26T12:14:58.305305Z"
    },
    "hidden": true
   },
   "outputs": [],
   "source": [
    "assert clusters_ser.shape[0] == Y.shape[0]"
   ]
  },
  {
   "cell_type": "code",
   "execution_count": null,
   "id": "12833b23",
   "metadata": {
    "ExecuteTime": {
     "end_time": "2022-07-26T12:14:59.492341Z",
     "start_time": "2022-07-26T12:14:59.447335Z"
    },
    "hidden": true
   },
   "outputs": [],
   "source": [
    "## Assign a sequential number to the cluster ids\n",
    "cl_uniq = clusters_ser.unique()\n",
    "cl2id   = pd.Series(np.arange(cl_uniq.shape[0]), index=cl_uniq)\n",
    "cid     = cl2id[clusters]"
   ]
  },
  {
   "cell_type": "code",
   "execution_count": 283,
   "id": "e05540b3",
   "metadata": {
    "ExecuteTime": {
     "end_time": "2022-07-26T12:20:08.903374Z",
     "start_time": "2022-07-26T12:20:08.882121Z"
    },
    "hidden": true
   },
   "outputs": [
    {
     "name": "stdout",
     "output_type": "stream",
     "text": [
      " Number of unique clusters: (17672,)\n",
      " cl2id: (17672,)\n",
      "12266        0\n",
      "10766        1\n",
      "4557         2\n",
      "9771         3\n",
      "14746        4\n",
      "         ...  \n",
      "7565     17667\n",
      "1755     17668\n",
      "13401    17669\n",
      "22801    17670\n",
      "25220    17671\n",
      "Length: 17672, dtype: int64\n",
      " cid  : (423737,)\n",
      "12266        0\n",
      "10766        1\n",
      "10766        1\n",
      "4557         2\n",
      "4557         2\n",
      "         ...  \n",
      "4557         2\n",
      "15081        7\n",
      "8125      6788\n",
      "25220    17671\n",
      "15081        7\n",
      "Length: 423737, dtype: int64\n"
     ]
    }
   ],
   "source": [
    "print(f\" Number of unique clusters: {cl_uniq.shape}\")\n",
    "print(f\" cl2id: {cl2id.shape}\")\n",
    "print(cl2id)\n"
   ]
  },
  {
   "cell_type": "code",
   "execution_count": 278,
   "id": "62b9bd86",
   "metadata": {
    "ExecuteTime": {
     "end_time": "2022-07-26T12:15:06.615664Z",
     "start_time": "2022-07-26T12:15:06.598601Z"
    },
    "hidden": true
   },
   "outputs": [
    {
     "name": "stdout",
     "output_type": "stream",
     "text": [
      "[12266 10766  4557 ... 13401 22801 25220]\n",
      "(17672,) 0 25993\n"
     ]
    }
   ],
   "source": [
    "print(cl_uniq)\n",
    "print(cl_uniq.shape, cl_uniq.min(), cl_uniq.max())"
   ]
  },
  {
   "cell_type": "code",
   "execution_count": 284,
   "id": "0eec6a31",
   "metadata": {
    "ExecuteTime": {
     "end_time": "2022-07-26T12:21:04.344731Z",
     "start_time": "2022-07-26T12:21:04.321192Z"
    },
    "hidden": true
   },
   "outputs": [
    {
     "name": "stdout",
     "output_type": "stream",
     "text": [
      " cid  : (423737,)\n",
      " cid.values:  [    0     1     1 ...  6788 17671     7]\n",
      " cid.shape :  (423737,)\n",
      "12266        0\n",
      "10766        1\n",
      "10766        1\n",
      "4557         2\n",
      "4557         2\n",
      "         ...  \n",
      "4557         2\n",
      "15081        7\n",
      "8125      6788\n",
      "25220    17671\n",
      "15081        7\n",
      "Length: 423737, dtype: int64\n"
     ]
    }
   ],
   "source": [
    "print(f\" cid  : {cid.shape}\")\n",
    "print(' cid.values: ', cid.values)\n",
    "print(' cid.shape : ', cid.shape)\n",
    "print(cid)"
   ]
  },
  {
   "cell_type": "code",
   "execution_count": 132,
   "id": "33f9de86",
   "metadata": {
    "ExecuteTime": {
     "end_time": "2022-07-26T11:01:57.744474Z",
     "start_time": "2022-07-26T11:01:57.711041Z"
    },
    "hidden": true
   },
   "outputs": [],
   "source": [
    "## creating cluster2compound matrix\n",
    "## csr_matrix( (data,(row_ind,col_ind)))\n",
    "##    where data, row_ind and col_ind satisfy the relationship a[row_ind[k], col_ind[k]] = data[k].\n",
    "##   \n",
    "##   Number of rows:     cid.values (cluster ids)\n",
    "##   Number of columns : number of rows in Y file ()\n",
    "##   Clusters x Y Rows\n",
    "## \n",
    "##   in each row (cluster) there will be a '1' in the columns (compounds) \n",
    "##   where the compound has been assigned to the cluster\n",
    "##   each compound is only assigned to one cluster, so the sum of each column \n",
    "##   is == 1 (i.e., C[:,i].sum() == 1)\n",
    "\n",
    "C    = scipy.sparse.csr_matrix(\n",
    "        (np.ones(cid.shape[0], dtype=np.int8), \n",
    "        (cid.values, np.arange(cid.shape[0])) )\n",
    "        )\n"
   ]
  },
  {
   "cell_type": "code",
   "execution_count": 294,
   "id": "e708a965",
   "metadata": {
    "ExecuteTime": {
     "end_time": "2022-07-26T12:27:18.856958Z",
     "start_time": "2022-07-26T12:27:18.832029Z"
    },
    "hidden": true
   },
   "outputs": [
    {
     "name": "stdout",
     "output_type": "stream",
     "text": [
      "<17672x423737 sparse matrix of type '<class 'numpy.int8'>'\n",
      "\twith 423737 stored elements in Compressed Sparse Row format>\n",
      "1\n"
     ]
    }
   ],
   "source": [
    "print(repr(C))\n",
    "print(C[:,1].sum())"
   ]
  },
  {
   "cell_type": "code",
   "execution_count": 296,
   "id": "c520db5a",
   "metadata": {
    "ExecuteTime": {
     "end_time": "2022-07-26T12:34:04.897331Z",
     "start_time": "2022-07-26T12:34:04.882090Z"
    },
    "hidden": true
   },
   "outputs": [],
   "source": [
    "## Ybin : Inidcates which compound / labels are present in the Y dataset"
   ]
  },
  {
   "cell_type": "code",
   "execution_count": 139,
   "id": "1928de47",
   "metadata": {
    "ExecuteTime": {
     "end_time": "2022-07-26T11:05:21.281982Z",
     "start_time": "2022-07-26T11:05:21.165549Z"
    },
    "hidden": true
   },
   "outputs": [],
   "source": [
    "Ybin      = Y.copy()"
   ]
  },
  {
   "cell_type": "code",
   "execution_count": 140,
   "id": "5da11732",
   "metadata": {
    "ExecuteTime": {
     "end_time": "2022-07-26T11:05:22.951890Z",
     "start_time": "2022-07-26T11:05:22.918262Z"
    },
    "hidden": true
   },
   "outputs": [
    {
     "name": "stdout",
     "output_type": "stream",
     "text": [
      "(423737, 3552)\n",
      "(2698287,)\n",
      "[ 1.  1. -1. ... -1. -1. -1.]\n"
     ]
    }
   ],
   "source": [
    "print(Ybin.shape)\n",
    "print(Ybin.data.shape)\n",
    "print(Ybin.data)"
   ]
  },
  {
   "cell_type": "code",
   "execution_count": 141,
   "id": "80946747",
   "metadata": {
    "ExecuteTime": {
     "end_time": "2022-07-26T11:06:00.937731Z",
     "start_time": "2022-07-26T11:06:00.920915Z"
    },
    "hidden": true
   },
   "outputs": [],
   "source": [
    "Ybin.data = np.ones(Ybin.data.shape[0], dtype=np.int8)"
   ]
  },
  {
   "cell_type": "code",
   "execution_count": 301,
   "id": "62073fb2",
   "metadata": {
    "ExecuteTime": {
     "end_time": "2022-07-26T13:12:53.122891Z",
     "start_time": "2022-07-26T13:12:51.382591Z"
    },
    "hidden": true
   },
   "outputs": [
    {
     "name": "stdout",
     "output_type": "stream",
     "text": [
      "(423737, 3552)\n",
      "(2698287,)\n",
      " #  (Y < 0 ) : 0\n",
      " #  (Y != 0) : 2612254\n",
      " #  (Y > 0)  : 2612254\n",
      "\n",
      " #  (Y < -5) : 0\n",
      " #  (Y = -5) : 0\n",
      " #  (Y = -4) : 0\n",
      " #  (Y = -3) : 0\n",
      " #  (Y = -2) : 0\n",
      " #  (Y = -1) : 0\n",
      " #  (Y = 1)  : 2530793\n",
      " #  (Y = 2)  : 76889\n",
      " #  (Y = 3)  : 4572\n",
      " #  (Y = 4)  : 0\n",
      " #  (Y = 5)  : 0\n",
      " #  (Y > 5)  : 0\n",
      " Y.sum()     : 2698287\n"
     ]
    }
   ],
   "source": [
    "print(Ybin.shape)\n",
    "print(Ybin.data.shape)\n",
    "# print(Ybin)\n",
    "print(f\" #  (Y < 0 ) : {(Ybin<0).sum()}\")\n",
    "print(f\" #  (Y != 0) : {(Ybin!=0).sum()}\")\n",
    "print(f\" #  (Y > 0)  : {(Ybin>0).sum()}\")\n",
    "print()\n",
    "print(f\" #  (Y < -5) : {(Ybin<-5).sum()}\")\n",
    "print(f\" #  (Y = -5) : {(Ybin==-5).sum()}\")\n",
    "print(f\" #  (Y = -4) : {(Ybin==-4).sum()}\")\n",
    "print(f\" #  (Y = -3) : {(Ybin==-3).sum()}\")\n",
    "print(f\" #  (Y = -2) : {(Ybin==-2).sum()}\")\n",
    "print(f\" #  (Y = -1) : {(Ybin==-1).sum()}\")\n",
    "print(f\" #  (Y = 1)  : {(Ybin==1).sum()}\")\n",
    "print(f\" #  (Y = 2)  : {(Ybin==2).sum()}\")\n",
    "print(f\" #  (Y = 3)  : {(Ybin==3).sum()}\")\n",
    "print(f\" #  (Y = 4)  : {(Ybin==4).sum()}\")\n",
    "print(f\" #  (Y = 5)  : {(Ybin==5).sum()}\")\n",
    "print(f\" #  (Y > 5)  : {(Ybin>5).sum()}\")\n",
    "print(f\" Y.sum()     : {Ybin.sum()}\")"
   ]
  },
  {
   "cell_type": "code",
   "execution_count": 146,
   "id": "e712fd9c",
   "metadata": {
    "ExecuteTime": {
     "end_time": "2022-07-26T11:10:43.950258Z",
     "start_time": "2022-07-26T11:10:43.783143Z"
    },
    "hidden": true
   },
   "outputs": [],
   "source": [
    "## Get a count of labels in each cluster  \n",
    "## C (17672x423737) dot (423737, 3552) = 17672 x 3552\n",
    "cl_counts = C.dot(Ybin)"
   ]
  },
  {
   "cell_type": "code",
   "execution_count": 300,
   "id": "7bc2aa54",
   "metadata": {
    "ExecuteTime": {
     "end_time": "2022-07-26T12:35:39.175260Z",
     "start_time": "2022-07-26T12:35:39.157624Z"
    },
    "hidden": true
   },
   "outputs": [
    {
     "name": "stdout",
     "output_type": "stream",
     "text": [
      "(17672, 3552)\n",
      "-128 127\n",
      "  (0, 672)\t14\n",
      "  (0, 673)\t14\n",
      "  (0, 674)\t14\n",
      "  (0, 675)\t14\n",
      "  (1, 0)\t24\n",
      "  (1, 1)\t24\n",
      "  (1, 2)\t24\n",
      "  (1, 3)\t24\n",
      "  (1, 4)\t-31\n",
      "  (1, 5)\t-32\n",
      "  (1, 6)\t-32\n",
      "  (1, 7)\t-33\n",
      "  (1, 8)\t104\n",
      "  (1, 9)\t104\n",
      "  (1, 10)\t104\n",
      "  (1, 11)\t104\n",
      "  (1, 12)\t61\n",
      "  (1, 13)\t59\n",
      "  (1, 14)\t58\n",
      "  (1, 15)\t58\n",
      "  (1, 16)\t26\n",
      "  (1, 17)\t26\n",
      "  (1, 18)\t26\n",
      "  (1, 19)\t26\n",
      "  (1, 20)\t31\n",
      "  :\t:\n",
      "  (17669, 1811)\t1\n",
      "  (17669, 2832)\t1\n",
      "  (17669, 2833)\t1\n",
      "  (17669, 2834)\t1\n",
      "  (17669, 2835)\t1\n",
      "  (17670, 1180)\t1\n",
      "  (17670, 1181)\t1\n",
      "  (17670, 1182)\t1\n",
      "  (17670, 1183)\t1\n",
      "  (17671, 1364)\t1\n",
      "  (17671, 1365)\t1\n",
      "  (17671, 1366)\t1\n",
      "  (17671, 1367)\t1\n",
      "  (17671, 1500)\t1\n",
      "  (17671, 1501)\t1\n",
      "  (17671, 1502)\t1\n",
      "  (17671, 1503)\t1\n",
      "  (17671, 2536)\t1\n",
      "  (17671, 2537)\t1\n",
      "  (17671, 2538)\t1\n",
      "  (17671, 2539)\t1\n",
      "  (17671, 3300)\t1\n",
      "  (17671, 3301)\t1\n",
      "  (17671, 3302)\t1\n",
      "  (17671, 3303)\t1\n"
     ]
    }
   ],
   "source": [
    "print(cl_counts.shape)\n",
    "print(cl_counts.min(), cl_counts.max())\n",
    "print(cl_counts)"
   ]
  },
  {
   "cell_type": "markdown",
   "id": "facdab39",
   "metadata": {
    "heading_collapsed": true,
    "hidden": true
   },
   "source": [
    "### `mtcv` step by step"
   ]
  },
  {
   "cell_type": "code",
   "execution_count": 157,
   "id": "619222eb",
   "metadata": {
    "ExecuteTime": {
     "end_time": "2022-07-26T11:16:20.294116Z",
     "start_time": "2022-07-26T11:16:20.276815Z"
    },
    "hidden": true
   },
   "outputs": [],
   "source": [
    "nfolds = conf.nfolds\n",
    "pfolds = None\n",
    "if nfolds is None and pfolds is None:\n",
    "    raise ValueError(\"nfolds or pfolds must be specified.\")\n",
    "if pfolds is not None and np.abs(np.sum(pfolds) - 1.0) > 1e-5:\n",
    "    raise ValueError(\"pfolds must sum to 1.0.\")\n",
    "if pfolds is None:\n",
    "    pfolds = np.ones(nfolds) / nfolds\n",
    "else:\n",
    "    nfolds = len(pfolds)"
   ]
  },
  {
   "cell_type": "code",
   "execution_count": 199,
   "id": "cdb5dc9d",
   "metadata": {
    "ExecuteTime": {
     "end_time": "2022-07-26T11:41:39.145764Z",
     "start_time": "2022-07-26T11:41:39.126630Z"
    },
    "hidden": true
   },
   "outputs": [
    {
     "name": "stdout",
     "output_type": "stream",
     "text": [
      "[0.2 0.2 0.2 0.2 0.2]\n",
      "5\n"
     ]
    }
   ],
   "source": [
    "print(pfolds)\n",
    "print(nfolds)"
   ]
  },
  {
   "cell_type": "code",
   "execution_count": 314,
   "id": "e27c0cc8",
   "metadata": {
    "ExecuteTime": {
     "end_time": "2022-07-26T13:18:27.008448Z",
     "start_time": "2022-07-26T13:18:26.991439Z"
    },
    "hidden": true
   },
   "outputs": [],
   "source": [
    "target_sizes = np.array(cl_counts.sum(0)).flatten() ## Sum cl_counts over targets\n",
    "comp_sizes   = np.array(cl_counts.sum(1)).flatten() ## sum cl_counts over compounds"
   ]
  },
  {
   "cell_type": "code",
   "execution_count": 311,
   "id": "f4a812f8",
   "metadata": {
    "ExecuteTime": {
     "end_time": "2022-07-26T13:16:37.536351Z",
     "start_time": "2022-07-26T13:16:37.513351Z"
    },
    "hidden": true
   },
   "outputs": [
    {
     "name": "stdout",
     "output_type": "stream",
     "text": [
      " cl_counts shape   :  (17672, 3552)\n",
      "\n",
      " target_sizes shape:  (3552,)\n",
      " Number of targets in each cluster:  [120 120 120 ... 498 761 752] 917039\n",
      " target_sizes < 0 :  153\n",
      " target_sizes > 0 :  3394\n",
      "\n",
      " comp_sizes shape  :  (17672,)\n",
      " Number of compounds in each cluster:  [   56 82909 56604 ...    12     4    16]\n",
      " comp_sizes < 0 :  48\n",
      " comp_sizes > 0 :  17624\n"
     ]
    }
   ],
   "source": [
    "print(' cl_counts shape   : ',cl_counts.shape)\n",
    "print()\n",
    "print(' target_sizes shape: ',target_sizes.shape)\n",
    "print(' Number of targets in each cluster: ', target_sizes, target_sizes.sum())\n",
    "print(' target_sizes < 0 : ', (target_sizes < 0).sum())\n",
    "print(' target_sizes > 0 : ', (target_sizes > 0).sum())\n",
    "print()\n",
    "print(' comp_sizes shape  : ', comp_sizes.shape)\n",
    "print(' Number of compounds in each cluster: ', comp_sizes)\n",
    "print(' comp_sizes < 0 : ', (comp_sizes < 0).sum())\n",
    "print(' comp_sizes > 0 : ', (comp_sizes > 0).sum())"
   ]
  },
  {
   "cell_type": "code",
   "execution_count": 312,
   "id": "e8a0ae5f",
   "metadata": {
    "ExecuteTime": {
     "end_time": "2022-07-26T13:17:15.280816Z",
     "start_time": "2022-07-26T13:17:15.256549Z"
    },
    "hidden": true
   },
   "outputs": [
    {
     "data": {
      "text/plain": [
       "(17672, 2)"
      ]
     },
     "execution_count": 312,
     "metadata": {},
     "output_type": "execute_result"
    }
   ],
   "source": [
    "df_10 = pd.DataFrame({\"row\": np.arange(cl_counts.shape[0]), \"size\": comp_sizes})\n",
    "df_10.shape"
   ]
  },
  {
   "cell_type": "code",
   "execution_count": 315,
   "id": "14c607ca",
   "metadata": {
    "ExecuteTime": {
     "end_time": "2022-07-26T13:18:34.970319Z",
     "start_time": "2022-07-26T13:18:34.940696Z"
    },
    "hidden": true
   },
   "outputs": [
    {
     "name": "stdout",
     "output_type": "stream",
     "text": [
      "<class 'pandas.core.frame.DataFrame'>\n",
      "RangeIndex: 17672 entries, 0 to 17671\n",
      "Data columns (total 2 columns):\n",
      " #   Column  Non-Null Count  Dtype\n",
      "---  ------  --------------  -----\n",
      " 0   row     17672 non-null  int64\n",
      " 1   size    17672 non-null  int64\n",
      "dtypes: int64(2)\n",
      "memory usage: 276.2 KB\n"
     ]
    },
    {
     "data": {
      "text/html": [
       "<div>\n",
       "<style scoped>\n",
       "    .dataframe tbody tr th:only-of-type {\n",
       "        vertical-align: middle;\n",
       "    }\n",
       "\n",
       "    .dataframe tbody tr th {\n",
       "        vertical-align: top;\n",
       "    }\n",
       "\n",
       "    .dataframe thead th {\n",
       "        text-align: right;\n",
       "    }\n",
       "</style>\n",
       "<table border=\"1\" class=\"dataframe\">\n",
       "  <thead>\n",
       "    <tr style=\"text-align: right;\">\n",
       "      <th></th>\n",
       "      <th>row</th>\n",
       "      <th>size</th>\n",
       "    </tr>\n",
       "  </thead>\n",
       "  <tbody>\n",
       "    <tr>\n",
       "      <th>0</th>\n",
       "      <td>0</td>\n",
       "      <td>56</td>\n",
       "    </tr>\n",
       "    <tr>\n",
       "      <th>1</th>\n",
       "      <td>1</td>\n",
       "      <td>82909</td>\n",
       "    </tr>\n",
       "    <tr>\n",
       "      <th>2</th>\n",
       "      <td>2</td>\n",
       "      <td>56604</td>\n",
       "    </tr>\n",
       "    <tr>\n",
       "      <th>3</th>\n",
       "      <td>3</td>\n",
       "      <td>472</td>\n",
       "    </tr>\n",
       "    <tr>\n",
       "      <th>4</th>\n",
       "      <td>4</td>\n",
       "      <td>272</td>\n",
       "    </tr>\n",
       "    <tr>\n",
       "      <th>...</th>\n",
       "      <td>...</td>\n",
       "      <td>...</td>\n",
       "    </tr>\n",
       "    <tr>\n",
       "      <th>17667</th>\n",
       "      <td>17667</td>\n",
       "      <td>8</td>\n",
       "    </tr>\n",
       "    <tr>\n",
       "      <th>17668</th>\n",
       "      <td>17668</td>\n",
       "      <td>8</td>\n",
       "    </tr>\n",
       "    <tr>\n",
       "      <th>17669</th>\n",
       "      <td>17669</td>\n",
       "      <td>12</td>\n",
       "    </tr>\n",
       "    <tr>\n",
       "      <th>17670</th>\n",
       "      <td>17670</td>\n",
       "      <td>4</td>\n",
       "    </tr>\n",
       "    <tr>\n",
       "      <th>17671</th>\n",
       "      <td>17671</td>\n",
       "      <td>16</td>\n",
       "    </tr>\n",
       "  </tbody>\n",
       "</table>\n",
       "<p>17672 rows × 2 columns</p>\n",
       "</div>"
      ],
      "text/plain": [
       "         row   size\n",
       "0          0     56\n",
       "1          1  82909\n",
       "2          2  56604\n",
       "3          3    472\n",
       "4          4    272\n",
       "...      ...    ...\n",
       "17667  17667      8\n",
       "17668  17668      8\n",
       "17669  17669     12\n",
       "17670  17670      4\n",
       "17671  17671     16\n",
       "\n",
       "[17672 rows x 2 columns]"
      ]
     },
     "execution_count": 315,
     "metadata": {},
     "output_type": "execute_result"
    }
   ],
   "source": [
    "df_10.info()\n",
    "df_10"
   ]
  },
  {
   "cell_type": "code",
   "execution_count": null,
   "id": "32295acd",
   "metadata": {
    "hidden": true
   },
   "outputs": [],
   "source": [
    "# Randomize df_10"
   ]
  },
  {
   "cell_type": "code",
   "execution_count": 316,
   "id": "81eb7d2d",
   "metadata": {
    "ExecuteTime": {
     "end_time": "2022-07-26T13:18:38.895235Z",
     "start_time": "2022-07-26T13:18:38.870486Z"
    },
    "hidden": true
   },
   "outputs": [],
   "source": [
    "df_11 = df_10.sample(frac=1)"
   ]
  },
  {
   "cell_type": "code",
   "execution_count": 317,
   "id": "08a3b196",
   "metadata": {
    "ExecuteTime": {
     "end_time": "2022-07-26T13:18:39.243424Z",
     "start_time": "2022-07-26T13:18:39.208144Z"
    },
    "hidden": true
   },
   "outputs": [
    {
     "name": "stdout",
     "output_type": "stream",
     "text": [
      "<class 'pandas.core.frame.DataFrame'>\n",
      "Int64Index: 17672 entries, 6420 to 3767\n",
      "Data columns (total 2 columns):\n",
      " #   Column  Non-Null Count  Dtype\n",
      "---  ------  --------------  -----\n",
      " 0   row     17672 non-null  int64\n",
      " 1   size    17672 non-null  int64\n",
      "dtypes: int64(2)\n",
      "memory usage: 414.2 KB\n"
     ]
    },
    {
     "data": {
      "text/html": [
       "<div>\n",
       "<style scoped>\n",
       "    .dataframe tbody tr th:only-of-type {\n",
       "        vertical-align: middle;\n",
       "    }\n",
       "\n",
       "    .dataframe tbody tr th {\n",
       "        vertical-align: top;\n",
       "    }\n",
       "\n",
       "    .dataframe thead th {\n",
       "        text-align: right;\n",
       "    }\n",
       "</style>\n",
       "<table border=\"1\" class=\"dataframe\">\n",
       "  <thead>\n",
       "    <tr style=\"text-align: right;\">\n",
       "      <th></th>\n",
       "      <th>row</th>\n",
       "      <th>size</th>\n",
       "    </tr>\n",
       "  </thead>\n",
       "  <tbody>\n",
       "    <tr>\n",
       "      <th>6420</th>\n",
       "      <td>6420</td>\n",
       "      <td>40</td>\n",
       "    </tr>\n",
       "    <tr>\n",
       "      <th>13961</th>\n",
       "      <td>13961</td>\n",
       "      <td>20</td>\n",
       "    </tr>\n",
       "    <tr>\n",
       "      <th>16567</th>\n",
       "      <td>16567</td>\n",
       "      <td>16</td>\n",
       "    </tr>\n",
       "    <tr>\n",
       "      <th>156</th>\n",
       "      <td>156</td>\n",
       "      <td>28</td>\n",
       "    </tr>\n",
       "    <tr>\n",
       "      <th>15820</th>\n",
       "      <td>15820</td>\n",
       "      <td>4</td>\n",
       "    </tr>\n",
       "    <tr>\n",
       "      <th>...</th>\n",
       "      <td>...</td>\n",
       "      <td>...</td>\n",
       "    </tr>\n",
       "    <tr>\n",
       "      <th>2908</th>\n",
       "      <td>2908</td>\n",
       "      <td>12</td>\n",
       "    </tr>\n",
       "    <tr>\n",
       "      <th>16049</th>\n",
       "      <td>16049</td>\n",
       "      <td>16</td>\n",
       "    </tr>\n",
       "    <tr>\n",
       "      <th>1413</th>\n",
       "      <td>1413</td>\n",
       "      <td>20</td>\n",
       "    </tr>\n",
       "    <tr>\n",
       "      <th>17577</th>\n",
       "      <td>17577</td>\n",
       "      <td>24</td>\n",
       "    </tr>\n",
       "    <tr>\n",
       "      <th>3767</th>\n",
       "      <td>3767</td>\n",
       "      <td>4</td>\n",
       "    </tr>\n",
       "  </tbody>\n",
       "</table>\n",
       "<p>17672 rows × 2 columns</p>\n",
       "</div>"
      ],
      "text/plain": [
       "         row  size\n",
       "6420    6420    40\n",
       "13961  13961    20\n",
       "16567  16567    16\n",
       "156      156    28\n",
       "15820  15820     4\n",
       "...      ...   ...\n",
       "2908    2908    12\n",
       "16049  16049    16\n",
       "1413    1413    20\n",
       "17577  17577    24\n",
       "3767    3767     4\n",
       "\n",
       "[17672 rows x 2 columns]"
      ]
     },
     "execution_count": 317,
     "metadata": {},
     "output_type": "execute_result"
    }
   ],
   "source": [
    "df_11.info()\n",
    "df_11.shape\n",
    "df_11"
   ]
  },
  {
   "cell_type": "code",
   "execution_count": null,
   "id": "ccc822ba",
   "metadata": {
    "hidden": true
   },
   "outputs": [],
   "source": [
    "## Sort in descending compound count order "
   ]
  },
  {
   "cell_type": "code",
   "execution_count": 318,
   "id": "464fed6d",
   "metadata": {
    "ExecuteTime": {
     "end_time": "2022-07-26T13:18:45.745306Z",
     "start_time": "2022-07-26T13:18:45.725023Z"
    },
    "hidden": true
   },
   "outputs": [],
   "source": [
    "df_11.sort_values(\"size\", inplace=True, ascending=False)"
   ]
  },
  {
   "cell_type": "code",
   "execution_count": 319,
   "id": "6b9ff117",
   "metadata": {
    "ExecuteTime": {
     "end_time": "2022-07-26T13:18:46.424577Z",
     "start_time": "2022-07-26T13:18:46.391574Z"
    },
    "hidden": true
   },
   "outputs": [
    {
     "name": "stdout",
     "output_type": "stream",
     "text": [
      "<class 'pandas.core.frame.DataFrame'>\n",
      "Int64Index: 17672 entries, 1 to 15151\n",
      "Data columns (total 2 columns):\n",
      " #   Column  Non-Null Count  Dtype\n",
      "---  ------  --------------  -----\n",
      " 0   row     17672 non-null  int64\n",
      " 1   size    17672 non-null  int64\n",
      "dtypes: int64(2)\n",
      "memory usage: 414.2 KB\n"
     ]
    },
    {
     "data": {
      "text/html": [
       "<div>\n",
       "<style scoped>\n",
       "    .dataframe tbody tr th:only-of-type {\n",
       "        vertical-align: middle;\n",
       "    }\n",
       "\n",
       "    .dataframe tbody tr th {\n",
       "        vertical-align: top;\n",
       "    }\n",
       "\n",
       "    .dataframe thead th {\n",
       "        text-align: right;\n",
       "    }\n",
       "</style>\n",
       "<table border=\"1\" class=\"dataframe\">\n",
       "  <thead>\n",
       "    <tr style=\"text-align: right;\">\n",
       "      <th></th>\n",
       "      <th>row</th>\n",
       "      <th>size</th>\n",
       "    </tr>\n",
       "  </thead>\n",
       "  <tbody>\n",
       "    <tr>\n",
       "      <th>1</th>\n",
       "      <td>1</td>\n",
       "      <td>82909</td>\n",
       "    </tr>\n",
       "    <tr>\n",
       "      <th>7</th>\n",
       "      <td>7</td>\n",
       "      <td>79806</td>\n",
       "    </tr>\n",
       "    <tr>\n",
       "      <th>2</th>\n",
       "      <td>2</td>\n",
       "      <td>56604</td>\n",
       "    </tr>\n",
       "    <tr>\n",
       "      <th>49</th>\n",
       "      <td>49</td>\n",
       "      <td>6921</td>\n",
       "    </tr>\n",
       "    <tr>\n",
       "      <th>3969</th>\n",
       "      <td>3969</td>\n",
       "      <td>1745</td>\n",
       "    </tr>\n",
       "    <tr>\n",
       "      <th>...</th>\n",
       "      <td>...</td>\n",
       "      <td>...</td>\n",
       "    </tr>\n",
       "    <tr>\n",
       "      <th>13443</th>\n",
       "      <td>13443</td>\n",
       "      <td>-539</td>\n",
       "    </tr>\n",
       "    <tr>\n",
       "      <th>13272</th>\n",
       "      <td>13272</td>\n",
       "      <td>-620</td>\n",
       "    </tr>\n",
       "    <tr>\n",
       "      <th>16191</th>\n",
       "      <td>16191</td>\n",
       "      <td>-740</td>\n",
       "    </tr>\n",
       "    <tr>\n",
       "      <th>606</th>\n",
       "      <td>606</td>\n",
       "      <td>-750</td>\n",
       "    </tr>\n",
       "    <tr>\n",
       "      <th>15151</th>\n",
       "      <td>15151</td>\n",
       "      <td>-802</td>\n",
       "    </tr>\n",
       "  </tbody>\n",
       "</table>\n",
       "<p>17672 rows × 2 columns</p>\n",
       "</div>"
      ],
      "text/plain": [
       "         row   size\n",
       "1          1  82909\n",
       "7          7  79806\n",
       "2          2  56604\n",
       "49        49   6921\n",
       "3969    3969   1745\n",
       "...      ...    ...\n",
       "13443  13443   -539\n",
       "13272  13272   -620\n",
       "16191  16191   -740\n",
       "606      606   -750\n",
       "15151  15151   -802\n",
       "\n",
       "[17672 rows x 2 columns]"
      ]
     },
     "execution_count": 319,
     "metadata": {},
     "output_type": "execute_result"
    }
   ],
   "source": [
    "df_11.info()\n",
    "df_11.shape\n",
    "df_11"
   ]
  },
  {
   "cell_type": "code",
   "execution_count": 320,
   "id": "9cfe85b1",
   "metadata": {
    "ExecuteTime": {
     "end_time": "2022-07-26T13:19:11.026679Z",
     "start_time": "2022-07-26T13:19:11.007800Z"
    },
    "hidden": true
   },
   "outputs": [],
   "source": [
    "fold_sizes = np.zeros((nfolds, cl_counts.shape[1]), dtype=np.int8)\n",
    "#max_fold_sizes = np.ceil(target_sizes / nfolds).astype(np.int)\n",
    "max_fold_sizes = np.ceil(np.outer(target_sizes, pfolds))\n"
   ]
  },
  {
   "cell_type": "code",
   "execution_count": 321,
   "id": "d911905e",
   "metadata": {
    "ExecuteTime": {
     "end_time": "2022-07-26T13:19:11.636553Z",
     "start_time": "2022-07-26T13:19:11.615569Z"
    },
    "hidden": true
   },
   "outputs": [
    {
     "name": "stdout",
     "output_type": "stream",
     "text": [
      "\n",
      " fold_sizes \n",
      "\n",
      "(5, 3552)\n",
      "[[0 0 0 ... 0 0 0]\n",
      " [0 0 0 ... 0 0 0]\n",
      " [0 0 0 ... 0 0 0]\n",
      " [0 0 0 ... 0 0 0]\n",
      " [0 0 0 ... 0 0 0]]\n",
      "\n",
      " pfolds & target_sizes \n",
      "\n",
      "(5,)\n",
      "[0.2 0.2 0.2 0.2 0.2]\n",
      "(3552,)\n",
      "[120 120 120 ... 498 761 752]\n",
      "\n",
      " np.outer(target_sizes, pfolds) \n",
      "\n",
      "(3552, 5)\n",
      "[[ 24.   24.   24.   24.   24. ]\n",
      " [ 24.   24.   24.   24.   24. ]\n",
      " [ 24.   24.   24.   24.   24. ]\n",
      " ...\n",
      " [ 99.6  99.6  99.6  99.6  99.6]\n",
      " [152.2 152.2 152.2 152.2 152.2]\n",
      " [150.4 150.4 150.4 150.4 150.4]]\n",
      "\n",
      " max_fold_sizes \n",
      "\n",
      "(3552, 5)\n",
      "[[ 24.  24.  24.  24.  24.]\n",
      " [ 24.  24.  24.  24.  24.]\n",
      " [ 24.  24.  24.  24.  24.]\n",
      " ...\n",
      " [100. 100. 100. 100. 100.]\n",
      " [153. 153. 153. 153. 153.]\n",
      " [151. 151. 151. 151. 151.]]\n"
     ]
    }
   ],
   "source": [
    "print('\\n fold_sizes \\n')\n",
    "print(fold_sizes.shape)\n",
    "print(fold_sizes)\n",
    "print('\\n pfolds & target_sizes \\n')\n",
    "print(pfolds.shape)\n",
    "print(pfolds)\n",
    "print(target_sizes.shape)\n",
    "print(target_sizes)\n",
    "print('\\n np.outer(target_sizes, pfolds) \\n')\n",
    "print(np.outer(target_sizes, pfolds).shape)\n",
    "print(np.outer(target_sizes, pfolds))\n",
    "print('\\n max_fold_sizes \\n')\n",
    "print(max_fold_sizes.shape)\n",
    "print(max_fold_sizes)\n"
   ]
  },
  {
   "cell_type": "code",
   "execution_count": 366,
   "id": "fe29a6a8",
   "metadata": {
    "ExecuteTime": {
     "end_time": "2022-07-26T13:41:28.351252Z",
     "start_time": "2022-07-26T13:41:28.335699Z"
    },
    "hidden": true
   },
   "outputs": [],
   "source": [
    "## output vector (initialized to -1)\n",
    "folds = np.zeros(cl_counts.shape[0], dtype=np.int8) - 1\n",
    "farray = np.arange(nfolds)    "
   ]
  },
  {
   "cell_type": "code",
   "execution_count": 367,
   "id": "9c7c9075",
   "metadata": {
    "ExecuteTime": {
     "end_time": "2022-07-26T13:41:29.550487Z",
     "start_time": "2022-07-26T13:41:29.534121Z"
    },
    "hidden": true
   },
   "outputs": [
    {
     "name": "stdout",
     "output_type": "stream",
     "text": [
      "\n",
      " folds\n",
      "\n",
      "(17672,)\n",
      "[-1 -1 -1 ... -1 -1 -1]\n",
      "[0 1 2 3 4]\n"
     ]
    }
   ],
   "source": [
    "print('\\n folds\\n')\n",
    "print(folds.shape)\n",
    "print(folds)\n",
    "print(farray)"
   ]
  },
  {
   "cell_type": "code",
   "execution_count": 368,
   "id": "e5632c3f",
   "metadata": {
    "ExecuteTime": {
     "end_time": "2022-07-26T13:41:34.249594Z",
     "start_time": "2022-07-26T13:41:34.232206Z"
    },
    "hidden": true
   },
   "outputs": [
    {
     "data": {
      "text/plain": [
       "(17672, 3552)"
      ]
     },
     "execution_count": 368,
     "metadata": {},
     "output_type": "execute_result"
    }
   ],
   "source": [
    "cl_counts.shape"
   ]
  },
  {
   "cell_type": "code",
   "execution_count": 369,
   "id": "c316fff3",
   "metadata": {
    "ExecuteTime": {
     "end_time": "2022-07-26T13:41:35.159421Z",
     "start_time": "2022-07-26T13:41:35.143184Z"
    },
    "hidden": true
   },
   "outputs": [],
   "source": [
    "# for i in range(cl_counts.shape[0]):\n",
    "i= 0"
   ]
  },
  {
   "cell_type": "code",
   "execution_count": 358,
   "id": "702235f2",
   "metadata": {
    "ExecuteTime": {
     "end_time": "2022-07-26T13:40:17.211332Z",
     "start_time": "2022-07-26T13:40:17.196824Z"
    },
    "hidden": true
   },
   "outputs": [],
   "source": [
    "i += 1\n"
   ]
  },
  {
   "cell_type": "code",
   "execution_count": 370,
   "id": "7d225fe4",
   "metadata": {
    "ExecuteTime": {
     "end_time": "2022-07-26T13:41:41.217505Z",
     "start_time": "2022-07-26T13:41:41.200200Z"
    },
    "hidden": true
   },
   "outputs": [
    {
     "name": "stdout",
     "output_type": "stream",
     "text": [
      "row: 0  index: 1         df_11['row'][idx]: 1         df_11['size'][idx]: 82909\n"
     ]
    }
   ],
   "source": [
    "# for i in range(mask.shape[0]):\n",
    "idx   = df_11.index[i]\n",
    "print(f\"row: {i}  index: {idx}         df_11['row'][idx]: {df_11['row'][idx]}         df_11['size'][idx]: {df_11['size'][idx]}\")"
   ]
  },
  {
   "cell_type": "code",
   "execution_count": 371,
   "id": "b77ff453",
   "metadata": {
    "ExecuteTime": {
     "end_time": "2022-07-26T13:41:43.489558Z",
     "start_time": "2022-07-26T13:41:43.472200Z"
    },
    "hidden": true
   },
   "outputs": [
    {
     "name": "stdout",
     "output_type": "stream",
     "text": [
      "[3 1 4 2 0]\n"
     ]
    }
   ],
   "source": [
    "random_folds =  np.random.choice(farray, size=nfolds, replace=False, p=pfolds)\n",
    "print(random_folds)\n",
    "random_folds = iter(random_folds)"
   ]
  },
  {
   "cell_type": "code",
   "execution_count": 361,
   "id": "902539e5",
   "metadata": {
    "ExecuteTime": {
     "end_time": "2022-07-26T13:40:20.896137Z",
     "start_time": "2022-07-26T13:40:20.872791Z"
    },
    "hidden": true
   },
   "outputs": [
    {
     "name": "stdout",
     "output_type": "stream",
     "text": [
      "2\n"
     ]
    }
   ],
   "source": [
    "# j  = next(random_folds)\n",
    "print(j)\n",
    "\n",
    "print('cl_counts[idx] : ', cl_counts[idx].shape, cl_counts[idx].sum())\n",
    "print((fold_sizes[j,:] + cl_counts[idx,:] > max_fold_sizes[:,j]).shape , (fold_sizes[j,:] + cl_counts[idx,:] > max_fold_sizes[:,j]))\n",
    "print((fold_sizes[j,:] + cl_counts[idx,:] > max_fold_sizes[:,j]).any())\n",
    "print(cl_counts[idx,:].dot((fold_sizes[j,:] + cl_counts[idx,:] > max_fold_sizes[:,j]).transpose()))\n",
    "print(cl_counts[idx,:].dot((fold_sizes[j,:] + cl_counts[idx,:] > max_fold_sizes[:,j]).transpose()) == 0)"
   ]
  },
  {
   "cell_type": "code",
   "execution_count": 372,
   "id": "dfa13b9f",
   "metadata": {
    "ExecuteTime": {
     "end_time": "2022-07-26T13:41:58.465415Z",
     "start_time": "2022-07-26T13:41:58.428792Z"
    },
    "hidden": true
   },
   "outputs": [
    {
     "name": "stdout",
     "output_type": "stream",
     "text": [
      "fold: 3\n",
      "   cl_counts[idx] :  (1, 3552) 82909\n",
      "   test shape     :  (1, 3552) [[False False False ... False False False]]\n",
      "   test.any()     :  True\n",
      "   dot operation  :  [[-119]]\n",
      "   dot op == 0    :  [[False]]\n",
      "fold: 1\n",
      "   cl_counts[idx] :  (1, 3552) 82909\n",
      "   test shape     :  (1, 3552) [[False False False ... False False False]]\n",
      "   test.any()     :  True\n",
      "   dot operation  :  [[-119]]\n",
      "   dot op == 0    :  [[False]]\n",
      "fold: 4\n",
      "   cl_counts[idx] :  (1, 3552) 82909\n",
      "   test shape     :  (1, 3552) [[False False False ... False False False]]\n",
      "   test.any()     :  True\n",
      "   dot operation  :  [[-119]]\n",
      "   dot op == 0    :  [[False]]\n",
      "fold: 2\n",
      "   cl_counts[idx] :  (1, 3552) 82909\n",
      "   test shape     :  (1, 3552) [[False False False ... False False False]]\n",
      "   test.any()     :  True\n",
      "   dot operation  :  [[-119]]\n",
      "   dot op == 0    :  [[False]]\n",
      "fold: 0\n",
      "   cl_counts[idx] :  (1, 3552) 82909\n",
      "   test shape     :  (1, 3552) [[False False False ... False False False]]\n",
      "   test.any()     :  True\n",
      "   dot operation  :  [[-119]]\n",
      "   dot op == 0    :  [[False]]\n"
     ]
    }
   ],
   "source": [
    "#for j in np.random.permutation(nfolds):\n",
    "# make a random list of the folds, and go through the list \n",
    "for j in random_folds:\n",
    "    print(f'fold: {j}')\n",
    "    print('   cl_counts[idx] : ', cl_counts[idx].shape, cl_counts[idx].sum())\n",
    "    print('   test shape     : ', (fold_sizes[j,:] + cl_counts[idx,:] > max_fold_sizes[:,j]).shape , (fold_sizes[j,:] + cl_counts[idx,:] > max_fold_sizes[:,j]))\n",
    "    print('   test.any()     : ', (fold_sizes[j,:] + cl_counts[idx,:] > max_fold_sizes[:,j]).any())\n",
    "    print('   dot operation  : ', cl_counts[idx,:].dot((fold_sizes[j,:] + cl_counts[idx,:] > max_fold_sizes[:,j]).transpose()))\n",
    "    print('   dot op == 0    : ', cl_counts[idx,:].dot((fold_sizes[j,:] + cl_counts[idx,:] > max_fold_sizes[:,j]).transpose()) == 0)    \n",
    "    if cl_counts[idx,:].dot((fold_sizes[j,:] + cl_counts[idx,:] > max_fold_sizes[:,j]).transpose()) == 0:\n",
    "        ## compound fits into fold j\n",
    "        print(f\" *** compound fits into fold {j}\")\n",
    "        folds[idx] = j\n",
    "        fold_sizes[j,:] += mask[idx,:]\n",
    "        break"
   ]
  },
  {
   "cell_type": "code",
   "execution_count": 373,
   "id": "abcacf6a",
   "metadata": {
    "ExecuteTime": {
     "end_time": "2022-07-26T13:42:02.563034Z",
     "start_time": "2022-07-26T13:42:02.546828Z"
    },
    "hidden": true
   },
   "outputs": [
    {
     "name": "stdout",
     "output_type": "stream",
     "text": [
      "-1\n"
     ]
    }
   ],
   "source": [
    "print(folds[idx])"
   ]
  },
  {
   "cell_type": "code",
   "execution_count": 374,
   "id": "e2a28146",
   "metadata": {
    "ExecuteTime": {
     "end_time": "2022-07-26T13:42:03.580629Z",
     "start_time": "2022-07-26T13:42:03.557434Z"
    },
    "hidden": true
   },
   "outputs": [
    {
     "name": "stdout",
     "output_type": "stream",
     "text": [
      " random assignment into 4 \n",
      " cl_counts[1]  :      (0, 0)\t24\n",
      "  (0, 1)\t24\n",
      "  (0, 2)\t24\n",
      "  (0, 3)\t24\n",
      "  (0, 4)\t-31\n",
      "  (0, 5)\t-32\n",
      "  (0, 6)\t-32\n",
      "  (0, 7)\t-33\n",
      "  (0, 8)\t104\n",
      "  (0, 9)\t104\n",
      "  (0, 10)\t104\n",
      "  (0, 11)\t104\n",
      "  (0, 12)\t61\n",
      "  (0, 13)\t59\n",
      "  (0, 14)\t58\n",
      "  (0, 15)\t58\n",
      "  (0, 16)\t26\n",
      "  (0, 17)\t26\n",
      "  (0, 18)\t26\n",
      "  (0, 19)\t26\n",
      "  (0, 20)\t31\n",
      "  (0, 21)\t31\n",
      "  (0, 22)\t31\n",
      "  (0, 23)\t31\n",
      "  (0, 24)\t31\n",
      "  :\t:\n",
      "  (0, 3527)\t56\n",
      "  (0, 3528)\t38\n",
      "  (0, 3529)\t38\n",
      "  (0, 3530)\t38\n",
      "  (0, 3531)\t38\n",
      "  (0, 3532)\t-94\n",
      "  (0, 3533)\t-94\n",
      "  (0, 3534)\t-94\n",
      "  (0, 3535)\t-94\n",
      "  (0, 3536)\t-80\n",
      "  (0, 3537)\t-80\n",
      "  (0, 3538)\t-80\n",
      "  (0, 3539)\t-80\n",
      "  (0, 3540)\t40\n",
      "  (0, 3541)\t40\n",
      "  (0, 3542)\t40\n",
      "  (0, 3543)\t40\n",
      "  (0, 3544)\t116\n",
      "  (0, 3545)\t122\n",
      "  (0, 3546)\t122\n",
      "  (0, 3547)\t122\n",
      "  (0, 3548)\t-59\n",
      "  (0, 3549)\t-59\n",
      "  (0, 3550)\t-128\n",
      "  (0, 3551)\t-128 \n",
      " fold_sizes[4,:]  :    [  24   24   24 ...  -59 -128 -128] \n"
     ]
    }
   ],
   "source": [
    "        \n",
    "## If still havent assigned, randomly assign to a fold.\n",
    "if folds[idx] == -1:\n",
    "    picked_fold = np.random.randint(0, nfolds)\n",
    "    folds[idx] = picked_fold\n",
    "    fold_sizes[folds[idx],:] += cl_counts[idx,:]\n",
    "    print(f\" random assignment into {picked_fold} \")\n",
    "    print(f\" cl_counts[{idx}]  :    {cl_counts[idx,:]} \")\n",
    "    print(f\" fold_sizes[{folds[idx]},:]  :    {fold_sizes[folds[idx],:]} \")"
   ]
  },
  {
   "cell_type": "code",
   "execution_count": 365,
   "id": "5a086e07",
   "metadata": {
    "ExecuteTime": {
     "end_time": "2022-07-26T13:41:13.242942Z",
     "start_time": "2022-07-26T13:41:13.226086Z"
    },
    "hidden": true
   },
   "outputs": [
    {
     "name": "stdout",
     "output_type": "stream",
     "text": [
      "[3 4 4 ... 3 2 0]\n"
     ]
    }
   ],
   "source": [
    "print(folds)"
   ]
  },
  {
   "cell_type": "code",
   "execution_count": null,
   "id": "625ecc23",
   "metadata": {
    "hidden": true
   },
   "outputs": [],
   "source": []
  },
  {
   "cell_type": "code",
   "execution_count": null,
   "id": "9ec5362d",
   "metadata": {
    "hidden": true
   },
   "outputs": [],
   "source": []
  }
 ],
 "metadata": {
  "kernelspec": {
   "display_name": "Python [conda env:pyt-gpu]",
   "language": "python",
   "name": "conda-env-pyt-gpu-py"
  },
  "language_info": {
   "codemirror_mode": {
    "name": "ipython",
    "version": 3
   },
   "file_extension": ".py",
   "mimetype": "text/x-python",
   "name": "python",
   "nbconvert_exporter": "python",
   "pygments_lexer": "ipython3",
   "version": "3.9.5"
  },
  "toc": {
   "base_numbering": 1,
   "nav_menu": {},
   "number_sections": true,
   "sideBar": true,
   "skip_h1_title": false,
   "title_cell": "Table of Contents",
   "title_sidebar": "Contents",
   "toc_cell": false,
   "toc_position": {},
   "toc_section_display": true,
   "toc_window_display": false
  }
 },
 "nbformat": 4,
 "nbformat_minor": 5
}
