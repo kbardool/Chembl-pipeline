{
 "cells": [
  {
   "cell_type": "code",
   "execution_count": 1,
   "id": "8fc9e3ee",
   "metadata": {
    "ExecuteTime": {
     "end_time": "2021-09-02T05:27:29.284857Z",
     "start_time": "2021-09-02T05:27:28.833129Z"
    }
   },
   "outputs": [],
   "source": [
    "import numpy as np\n",
    "import pandas as pd\n",
    "import scipy.sparse\n",
    "import argparse"
   ]
  },
  {
   "cell_type": "code",
   "execution_count": 2,
   "id": "c2334077",
   "metadata": {
    "ExecuteTime": {
     "end_time": "2021-09-02T05:27:31.803494Z",
     "start_time": "2021-09-02T05:27:31.793971Z"
    }
   },
   "outputs": [
    {
     "name": "stdout",
     "output_type": "stream",
     "text": [
      " parm: y             value: output/chembl_29/chembl_29_thresh.csv\n",
      " parm: compounds     value: output/chembl_29_X_cmpds.csv\n",
      " parm: clusters      value: output/clustering.npy\n",
      " parm: folding       value: output/folding.npy\n",
      " parm: nfolds        value: 5\n"
     ]
    }
   ],
   "source": [
    "parser = argparse.ArgumentParser(description=\"Multi-task clustered crossvalidation\")\n",
    "parser.add_argument('--y', type=str, required=True)\n",
    "parser.add_argument('--compounds', type=str, required=True)\n",
    "parser.add_argument('--clusters', type=str, required=True)\n",
    "parser.add_argument('--folding', type=str, default=\"output/folding.npy\")\n",
    "parser.add_argument('--nfolds', type=int, default=5)\n",
    "\n",
    "in_args = \"--y output/chembl_29/chembl_29_thresh.csv --clusters output/clustering.npy \" \\\n",
    "          \"--folding output/folding.npy --compounds output/chembl_29_X_cmpds.csv\"\n",
    "in_args = in_args.split()\n",
    "\n",
    "conf = parser.parse_args(in_args)\n",
    "conf_vars = vars(conf)\n",
    "for x in conf_vars:\n",
    "    print(f' parm: {x:10s}    value: {conf_vars[x]}')"
   ]
  },
  {
   "cell_type": "code",
   "execution_count": 13,
   "id": "7e12bc5a",
   "metadata": {
    "ExecuteTime": {
     "end_time": "2021-09-02T05:29:07.994685Z",
     "start_time": "2021-09-02T05:29:07.986649Z"
    }
   },
   "outputs": [
    {
     "name": "stdout",
     "output_type": "stream",
     "text": [
      "[ 8014  3958  3466 ... 10806 19103 13660]\n"
     ]
    }
   ],
   "source": [
    "#Load the clustering\n",
    "clusters = np.load(conf.clusters, allow_pickle=True)\n",
    "print(clusters)\n"
   ]
  },
  {
   "cell_type": "markdown",
   "id": "dab25d03",
   "metadata": {
    "ExecuteTime": {
     "end_time": "2021-08-31T04:13:39.003466Z",
     "start_time": "2021-08-31T04:13:37.018367Z"
    },
    "heading_collapsed": true
   },
   "source": [
    "#### Load y matrix and create the compund threshold file `output/chembl_29_thresh.csv`"
   ]
  },
  {
   "cell_type": "code",
   "execution_count": 23,
   "id": "04923da9",
   "metadata": {
    "ExecuteTime": {
     "end_time": "2021-09-02T16:48:14.971298Z",
     "start_time": "2021-09-02T16:48:13.302734Z"
    },
    "hidden": true
   },
   "outputs": [
    {
     "name": "stdout",
     "output_type": "stream",
     "text": [
      "             target_id        cmpd_id  variable  value\n",
      "0        CHEMBL1075097  CHEMBL1234777       5.5    1.0\n",
      "1        CHEMBL1075097  CHEMBL1812661       5.5    1.0\n",
      "2        CHEMBL1075097  CHEMBL1812662       5.5   -1.0\n",
      "3        CHEMBL1075097  CHEMBL2326084       5.5    1.0\n",
      "4        CHEMBL1075097  CHEMBL2326085       5.5    1.0\n",
      "...                ...            ...       ...    ...\n",
      "2612992     CHEMBL6175  CHEMBL4646564       8.5   -1.0\n",
      "2612993     CHEMBL6175  CHEMBL4648732       8.5   -1.0\n",
      "2612994     CHEMBL6175  CHEMBL4649004       8.5   -1.0\n",
      "2612995     CHEMBL6175   CHEMBL578512       8.5   -1.0\n",
      "2612996     CHEMBL6175    CHEMBL90852       8.5   -1.0\n",
      "\n",
      "[2612997 rows x 4 columns]\n"
     ]
    }
   ],
   "source": [
    "df = pd.read_csv(conf.y)\n",
    "\n",
    "Ncol  = len(df[\"target_id\"].unique()) * len(df[\"variable\"].unique())\n",
    "\n",
    "print(df)\n"
   ]
  },
  {
   "cell_type": "code",
   "execution_count": 25,
   "id": "94c0e343",
   "metadata": {
    "ExecuteTime": {
     "end_time": "2021-09-02T16:49:00.920651Z",
     "start_time": "2021-09-02T16:49:00.749082Z"
    },
    "hidden": true
   },
   "outputs": [
    {
     "name": "stdout",
     "output_type": "stream",
     "text": [
      "Number of rows   : 2612997\n",
      "Unique target ids:     888   \n",
      "Unique thresholds:       4\n",
      "Number of cols   :    3552\n"
     ]
    }
   ],
   "source": [
    "\n",
    "print(f\"Number of rows   : {len(df):7d}\")\n",
    "print(f\"Unique target ids: {len(df['target_id'].unique()):7d}   \")\n",
    "print(f\"Unique thresholds: {len(df['variable'].unique()):7d}\")\n",
    "print(f'Number of cols   : {Ncol:7d}')"
   ]
  },
  {
   "cell_type": "markdown",
   "id": "3fb36147",
   "metadata": {
    "ExecuteTime": {
     "end_time": "2021-08-31T04:14:23.050728Z",
     "start_time": "2021-08-31T04:14:22.783660Z"
    },
    "heading_collapsed": true
   },
   "source": [
    "#### Load compound list `output/chembl_29_X_cmpds.csv`"
   ]
  },
  {
   "cell_type": "code",
   "execution_count": 26,
   "id": "452a7132",
   "metadata": {
    "ExecuteTime": {
     "end_time": "2021-09-02T16:49:28.535972Z",
     "start_time": "2021-09-02T16:49:28.328657Z"
    },
    "hidden": true
   },
   "outputs": [
    {
     "name": "stdout",
     "output_type": "stream",
     "text": [
      "             0              1\n",
      "0            0   CHEMBL405398\n",
      "1            1   CHEMBL403325\n",
      "2            2   CHEMBL501943\n",
      "3            3   CHEMBL501094\n",
      "4            4   CHEMBL505943\n",
      "...        ...            ...\n",
      "423731  423731  CHEMBL4297644\n",
      "423732  423732  CHEMBL4297666\n",
      "423733  423733  CHEMBL4297674\n",
      "423734  423734  CHEMBL4298138\n",
      "423735  423735  CHEMBL4298140\n",
      "\n",
      "[423736 rows x 2 columns]\n"
     ]
    }
   ],
   "source": [
    "cmpd_list = pd.read_csv(conf.compounds, header=None)\n",
    "print(cmpd_list)"
   ]
  },
  {
   "cell_type": "code",
   "execution_count": 27,
   "id": "1df0add7",
   "metadata": {
    "ExecuteTime": {
     "end_time": "2021-09-02T16:49:40.143992Z",
     "start_time": "2021-09-02T16:49:40.076783Z"
    },
    "hidden": true
   },
   "outputs": [],
   "source": [
    "cmpd_list[\"cid\"] = range(len(cmpd_list))\n",
    "Ncmpd = len(set(cmpd_list[0]))"
   ]
  },
  {
   "cell_type": "code",
   "execution_count": 28,
   "id": "98fd913d",
   "metadata": {
    "ExecuteTime": {
     "end_time": "2021-09-02T16:49:43.156152Z",
     "start_time": "2021-09-02T16:49:43.145854Z"
    },
    "hidden": true,
    "scrolled": true
   },
   "outputs": [
    {
     "name": "stdout",
     "output_type": "stream",
     "text": [
      "Size of cmpd_list: 423736\n",
      "             0              1     cid\n",
      "0            0   CHEMBL405398       0\n",
      "1            1   CHEMBL403325       1\n",
      "2            2   CHEMBL501943       2\n",
      "3            3   CHEMBL501094       3\n",
      "4            4   CHEMBL505943       4\n",
      "...        ...            ...     ...\n",
      "423731  423731  CHEMBL4297644  423731\n",
      "423732  423732  CHEMBL4297666  423732\n",
      "423733  423733  CHEMBL4297674  423733\n",
      "423734  423734  CHEMBL4298138  423734\n",
      "423735  423735  CHEMBL4298140  423735\n",
      "\n",
      "[423736 rows x 3 columns]\n",
      "423736\n"
     ]
    }
   ],
   "source": [
    "print(f\"Size of cmpd_list: {len(cmpd_list)}\")\n",
    "print(cmpd_list)\n",
    "print(Ncmpd)"
   ]
  },
  {
   "cell_type": "markdown",
   "id": "8ed52a40",
   "metadata": {
    "heading_collapsed": true
   },
   "source": [
    "#### Load the clustering info `output/clustering.npy`"
   ]
  },
  {
   "cell_type": "code",
   "execution_count": 172,
   "id": "06db782f",
   "metadata": {
    "ExecuteTime": {
     "end_time": "2021-09-02T19:22:58.321794Z",
     "start_time": "2021-09-02T19:22:58.314150Z"
    },
    "hidden": true
   },
   "outputs": [
    {
     "name": "stdout",
     "output_type": "stream",
     "text": [
      "423736 [ 8014  3958  3466 ... 10806 19103 13660]\n"
     ]
    }
   ],
   "source": [
    "#Load the clustering\n",
    "clusters = np.load(conf.clusters, allow_pickle=True)\n",
    "print(len(clusters), clusters)\n"
   ]
  },
  {
   "cell_type": "markdown",
   "id": "c57bc016",
   "metadata": {
    "heading_collapsed": true
   },
   "source": [
    "#### Create mask"
   ]
  },
  {
   "cell_type": "code",
   "execution_count": 21,
   "id": "333f2336",
   "metadata": {
    "ExecuteTime": {
     "end_time": "2021-09-02T16:46:55.531522Z",
     "start_time": "2021-09-02T16:46:55.526868Z"
    },
    "hidden": true
   },
   "outputs": [],
   "source": [
    "assert len(clusters) == len(cmpd_list[0]), \"Number of compound must agree with the size of clustering vector\""
   ]
  },
  {
   "cell_type": "code",
   "execution_count": 29,
   "id": "dda5e09a",
   "metadata": {
    "ExecuteTime": {
     "end_time": "2021-09-02T16:50:58.180046Z",
     "start_time": "2021-09-02T16:50:58.174009Z"
    },
    "hidden": true
   },
   "outputs": [
    {
     "name": "stdout",
     "output_type": "stream",
     "text": [
      "Ncmpd: 423736    Ncol: 3552\n"
     ]
    }
   ],
   "source": [
    " \n",
    "print(f\"Ncmpd: {Ncmpd}    Ncol: {Ncol}\")"
   ]
  },
  {
   "cell_type": "markdown",
   "id": "43cf11c9",
   "metadata": {
    "heading_collapsed": true
   },
   "source": [
    "#### Create dataframe of unique target_ids "
   ]
  },
  {
   "cell_type": "code",
   "execution_count": 16,
   "id": "c11ce3a7",
   "metadata": {
    "ExecuteTime": {
     "end_time": "2021-09-02T16:42:19.970957Z",
     "start_time": "2021-09-02T16:42:19.596275Z"
    },
    "hidden": true
   },
   "outputs": [
    {
     "name": "stdout",
     "output_type": "stream",
     "text": [
      "                 0  tid\n",
      "0    CHEMBL1075097    0\n",
      "1    CHEMBL1075104    1\n",
      "2    CHEMBL1075138    2\n",
      "3    CHEMBL1075145    3\n",
      "4    CHEMBL1075165    4\n",
      "..             ...  ...\n",
      "883     CHEMBL6154  883\n",
      "884     CHEMBL6164  884\n",
      "885     CHEMBL6166  885\n",
      "886     CHEMBL6167  886\n",
      "887     CHEMBL6175  887\n",
      "\n",
      "[888 rows x 2 columns]\n"
     ]
    }
   ],
   "source": [
    "target_list = pd.DataFrame(df[\"target_id\"].unique())\n",
    "target_list[\"tid\"] = range(len(target_list))\n",
    "print(target_list)"
   ]
  },
  {
   "cell_type": "code",
   "execution_count": 8,
   "id": "a657a1ac",
   "metadata": {
    "ExecuteTime": {
     "end_time": "2021-09-02T05:27:41.487252Z",
     "start_time": "2021-09-02T05:27:41.446641Z"
    },
    "hidden": true
   },
   "outputs": [
    {
     "name": "stdout",
     "output_type": "stream",
     "text": [
      "     0  vid\n",
      "0  5.5    0\n",
      "1  6.5    1\n",
      "2  7.5    2\n",
      "3  8.5    3\n"
     ]
    }
   ],
   "source": [
    "variable_list = pd.DataFrame(df[\"variable\"].unique())\n",
    "variable_list[\"vid\"] = range(len(variable_list))\n",
    "print(variable_list)"
   ]
  },
  {
   "cell_type": "code",
   "execution_count": 9,
   "id": "b273a38b",
   "metadata": {
    "ExecuteTime": {
     "end_time": "2021-09-02T05:27:42.261587Z",
     "start_time": "2021-09-02T05:27:42.256548Z"
    },
    "hidden": true
   },
   "outputs": [
    {
     "name": "stdout",
     "output_type": "stream",
     "text": [
      "4\n"
     ]
    }
   ],
   "source": [
    "Nvar = len(variable_list)\n",
    "print(Nvar)"
   ]
  },
  {
   "cell_type": "markdown",
   "id": "75e98fe3",
   "metadata": {
    "heading_collapsed": true
   },
   "source": [
    "#### `tmp1` : Add unique target identifier to dataframe"
   ]
  },
  {
   "cell_type": "code",
   "execution_count": 33,
   "id": "c4a50e9f",
   "metadata": {
    "ExecuteTime": {
     "end_time": "2021-09-02T16:56:24.975652Z",
     "start_time": "2021-09-02T16:56:24.960918Z"
    },
    "hidden": true
   },
   "outputs": [
    {
     "name": "stdout",
     "output_type": "stream",
     "text": [
      "             target_id        cmpd_id  variable  value\n",
      "0        CHEMBL1075097  CHEMBL1234777       5.5    1.0\n",
      "1        CHEMBL1075097  CHEMBL1812661       5.5    1.0\n",
      "2        CHEMBL1075097  CHEMBL1812662       5.5   -1.0\n",
      "3        CHEMBL1075097  CHEMBL2326084       5.5    1.0\n",
      "4        CHEMBL1075097  CHEMBL2326085       5.5    1.0\n",
      "...                ...            ...       ...    ...\n",
      "2612992     CHEMBL6175  CHEMBL4646564       8.5   -1.0\n",
      "2612993     CHEMBL6175  CHEMBL4648732       8.5   -1.0\n",
      "2612994     CHEMBL6175  CHEMBL4649004       8.5   -1.0\n",
      "2612995     CHEMBL6175   CHEMBL578512       8.5   -1.0\n",
      "2612996     CHEMBL6175    CHEMBL90852       8.5   -1.0\n",
      "\n",
      "[2612997 rows x 4 columns]\n",
      "             0              1     cid\n",
      "0            0   CHEMBL405398       0\n",
      "1            1   CHEMBL403325       1\n",
      "2            2   CHEMBL501943       2\n",
      "3            3   CHEMBL501094       3\n",
      "4            4   CHEMBL505943       4\n",
      "...        ...            ...     ...\n",
      "423731  423731  CHEMBL4297644  423731\n",
      "423732  423732  CHEMBL4297666  423732\n",
      "423733  423733  CHEMBL4297674  423733\n",
      "423734  423734  CHEMBL4298138  423734\n",
      "423735  423735  CHEMBL4298140  423735\n",
      "\n",
      "[423736 rows x 3 columns]\n"
     ]
    }
   ],
   "source": [
    "print(df)\n",
    "print(cmpd_list)"
   ]
  },
  {
   "cell_type": "code",
   "execution_count": 35,
   "id": "badcf7b7",
   "metadata": {
    "ExecuteTime": {
     "end_time": "2021-09-02T16:57:59.751263Z",
     "start_time": "2021-09-02T16:57:59.424897Z"
    },
    "hidden": true
   },
   "outputs": [
    {
     "name": "stdout",
     "output_type": "stream",
     "text": [
      "             target_id        cmpd_id  variable  value              0  tid\n",
      "0        CHEMBL1075097  CHEMBL1234777       5.5    1.0  CHEMBL1075097    0\n",
      "1        CHEMBL1075097  CHEMBL1812661       5.5    1.0  CHEMBL1075097    0\n",
      "2        CHEMBL1075097  CHEMBL1812662       5.5   -1.0  CHEMBL1075097    0\n",
      "3        CHEMBL1075097  CHEMBL2326084       5.5    1.0  CHEMBL1075097    0\n",
      "4        CHEMBL1075097  CHEMBL2326085       5.5    1.0  CHEMBL1075097    0\n",
      "...                ...            ...       ...    ...            ...  ...\n",
      "2612992     CHEMBL6175  CHEMBL4646564       8.5   -1.0     CHEMBL6175  887\n",
      "2612993     CHEMBL6175  CHEMBL4648732       8.5   -1.0     CHEMBL6175  887\n",
      "2612994     CHEMBL6175  CHEMBL4649004       8.5   -1.0     CHEMBL6175  887\n",
      "2612995     CHEMBL6175   CHEMBL578512       8.5   -1.0     CHEMBL6175  887\n",
      "2612996     CHEMBL6175    CHEMBL90852       8.5   -1.0     CHEMBL6175  887\n",
      "\n",
      "[2612997 rows x 6 columns]\n"
     ]
    }
   ],
   "source": [
    "tmp1 = pd.merge(df,target_list, how=\"inner\", left_on=\"target_id\", right_on=0)\n",
    "print(tmp1)"
   ]
  },
  {
   "cell_type": "markdown",
   "id": "c9a65523",
   "metadata": {},
   "source": [
    "#### `tmp2` : Add unique compound identifier to tmp1 "
   ]
  },
  {
   "cell_type": "code",
   "execution_count": 36,
   "id": "b6fc002c",
   "metadata": {
    "ExecuteTime": {
     "end_time": "2021-09-02T16:59:43.540704Z",
     "start_time": "2021-09-02T16:59:43.521943Z"
    }
   },
   "outputs": [
    {
     "name": "stdout",
     "output_type": "stream",
     "text": [
      "             target_id        cmpd_id  variable  value              0  tid\n",
      "0        CHEMBL1075097  CHEMBL1234777       5.5    1.0  CHEMBL1075097    0\n",
      "1        CHEMBL1075097  CHEMBL1812661       5.5    1.0  CHEMBL1075097    0\n",
      "2        CHEMBL1075097  CHEMBL1812662       5.5   -1.0  CHEMBL1075097    0\n",
      "3        CHEMBL1075097  CHEMBL2326084       5.5    1.0  CHEMBL1075097    0\n",
      "4        CHEMBL1075097  CHEMBL2326085       5.5    1.0  CHEMBL1075097    0\n",
      "...                ...            ...       ...    ...            ...  ...\n",
      "2612992     CHEMBL6175  CHEMBL4646564       8.5   -1.0     CHEMBL6175  887\n",
      "2612993     CHEMBL6175  CHEMBL4648732       8.5   -1.0     CHEMBL6175  887\n",
      "2612994     CHEMBL6175  CHEMBL4649004       8.5   -1.0     CHEMBL6175  887\n",
      "2612995     CHEMBL6175   CHEMBL578512       8.5   -1.0     CHEMBL6175  887\n",
      "2612996     CHEMBL6175    CHEMBL90852       8.5   -1.0     CHEMBL6175  887\n",
      "\n",
      "[2612997 rows x 6 columns]\n",
      "             0              1     cid\n",
      "0            0   CHEMBL405398       0\n",
      "1            1   CHEMBL403325       1\n",
      "2            2   CHEMBL501943       2\n",
      "3            3   CHEMBL501094       3\n",
      "4            4   CHEMBL505943       4\n",
      "...        ...            ...     ...\n",
      "423731  423731  CHEMBL4297644  423731\n",
      "423732  423732  CHEMBL4297666  423732\n",
      "423733  423733  CHEMBL4297674  423733\n",
      "423734  423734  CHEMBL4298138  423734\n",
      "423735  423735  CHEMBL4298140  423735\n",
      "\n",
      "[423736 rows x 3 columns]\n"
     ]
    }
   ],
   "source": [
    "print(tmp1)\n",
    "print(cmpd_list)"
   ]
  },
  {
   "cell_type": "code",
   "execution_count": 60,
   "id": "c281533d",
   "metadata": {
    "ExecuteTime": {
     "end_time": "2021-09-02T17:15:43.449416Z",
     "start_time": "2021-09-02T17:15:42.630671Z"
    }
   },
   "outputs": [
    {
     "name": "stdout",
     "output_type": "stream",
     "text": [
      "             target_id        cmpd_id  variable  value            0_x  tid  \\\n",
      "0        CHEMBL1075097  CHEMBL1234777       5.5    1.0  CHEMBL1075097    0   \n",
      "1        CHEMBL1075097  CHEMBL1234777       6.5   -1.0  CHEMBL1075097    0   \n",
      "2        CHEMBL1075097  CHEMBL1234777       7.5   -1.0  CHEMBL1075097    0   \n",
      "3        CHEMBL1075097  CHEMBL1234777       8.5   -1.0  CHEMBL1075097    0   \n",
      "4        CHEMBL1075097  CHEMBL1812661       5.5    1.0  CHEMBL1075097    0   \n",
      "...                ...            ...       ...    ...            ...  ...   \n",
      "2612245     CHEMBL6175  CHEMBL4649004       7.5   -1.0     CHEMBL6175  887   \n",
      "2612246     CHEMBL6175  CHEMBL4649004       8.5   -1.0     CHEMBL6175  887   \n",
      "2612247     CHEMBL6175  CHEMBL4202719       6.5   -1.0     CHEMBL6175  887   \n",
      "2612248     CHEMBL6175  CHEMBL4202719       7.5   -1.0     CHEMBL6175  887   \n",
      "2612249     CHEMBL6175  CHEMBL4202719       8.5   -1.0     CHEMBL6175  887   \n",
      "\n",
      "            0_y              1     cid  \n",
      "0        173926  CHEMBL1234777  173926  \n",
      "1        173926  CHEMBL1234777  173926  \n",
      "2        173926  CHEMBL1234777  173926  \n",
      "3        173926  CHEMBL1234777  173926  \n",
      "4        150148  CHEMBL1812661  150148  \n",
      "...         ...            ...     ...  \n",
      "2612245  145835  CHEMBL4649004  145835  \n",
      "2612246  145835  CHEMBL4649004  145835  \n",
      "2612247  416262  CHEMBL4202719  416262  \n",
      "2612248  416262  CHEMBL4202719  416262  \n",
      "2612249  416262  CHEMBL4202719  416262  \n",
      "\n",
      "[2612250 rows x 9 columns]\n",
      "\n",
      "cid value counts : (423736,) \n",
      "\n",
      "87479     615\n",
      "334326    580\n",
      "125193    559\n",
      "25543     548\n",
      "237428    379\n",
      "         ... \n",
      "381828      1\n",
      "382004      1\n",
      "379455      1\n",
      "380204      1\n",
      "345640      1\n",
      "Name: cid, Length: 423736, dtype: int64\n",
      "\n",
      "Number of unqiue cids:  423736\n"
     ]
    }
   ],
   "source": [
    "tmp2 = pd.merge(tmp1, cmpd_list, left_on=\"cmpd_id\", right_on=1)\n",
    "print(tmp2)\n",
    "print()\n",
    "cid_value_counts = tmp2['cid'].value_counts()\n",
    "print(f'cid value counts : {cid_value_counts.shape} \\n')\n",
    "print(cid_value_counts)\n",
    "print(f\"\\nNumber of unqiue cids:  {tmp2['cid'].nunique()}\")\n",
    "\n"
   ]
  },
  {
   "cell_type": "markdown",
   "id": "fc1365f7",
   "metadata": {},
   "source": [
    "#### `join` : add unique threshold identifier to tmp2"
   ]
  },
  {
   "cell_type": "code",
   "execution_count": 37,
   "id": "f79aee58",
   "metadata": {
    "ExecuteTime": {
     "end_time": "2021-09-02T17:03:52.088901Z",
     "start_time": "2021-09-02T17:03:52.073179Z"
    }
   },
   "outputs": [
    {
     "name": "stdout",
     "output_type": "stream",
     "text": [
      "             target_id        cmpd_id  variable  value            0_x  tid  \\\n",
      "0        CHEMBL1075097  CHEMBL1234777       5.5    1.0  CHEMBL1075097    0   \n",
      "1        CHEMBL1075097  CHEMBL1234777       6.5   -1.0  CHEMBL1075097    0   \n",
      "2        CHEMBL1075097  CHEMBL1234777       7.5   -1.0  CHEMBL1075097    0   \n",
      "3        CHEMBL1075097  CHEMBL1234777       8.5   -1.0  CHEMBL1075097    0   \n",
      "4        CHEMBL1075097  CHEMBL1812661       5.5    1.0  CHEMBL1075097    0   \n",
      "...                ...            ...       ...    ...            ...  ...   \n",
      "2612245     CHEMBL6175  CHEMBL4649004       7.5   -1.0     CHEMBL6175  887   \n",
      "2612246     CHEMBL6175  CHEMBL4649004       8.5   -1.0     CHEMBL6175  887   \n",
      "2612247     CHEMBL6175  CHEMBL4202719       6.5   -1.0     CHEMBL6175  887   \n",
      "2612248     CHEMBL6175  CHEMBL4202719       7.5   -1.0     CHEMBL6175  887   \n",
      "2612249     CHEMBL6175  CHEMBL4202719       8.5   -1.0     CHEMBL6175  887   \n",
      "\n",
      "            0_y              1     cid  \n",
      "0        173926  CHEMBL1234777  173926  \n",
      "1        173926  CHEMBL1234777  173926  \n",
      "2        173926  CHEMBL1234777  173926  \n",
      "3        173926  CHEMBL1234777  173926  \n",
      "4        150148  CHEMBL1812661  150148  \n",
      "...         ...            ...     ...  \n",
      "2612245  145835  CHEMBL4649004  145835  \n",
      "2612246  145835  CHEMBL4649004  145835  \n",
      "2612247  416262  CHEMBL4202719  416262  \n",
      "2612248  416262  CHEMBL4202719  416262  \n",
      "2612249  416262  CHEMBL4202719  416262  \n",
      "\n",
      "[2612250 rows x 9 columns]\n",
      "     0  vid\n",
      "0  5.5    0\n",
      "1  6.5    1\n",
      "2  7.5    2\n",
      "3  8.5    3\n"
     ]
    }
   ],
   "source": [
    "print(tmp2)\n",
    "print(variable_list)"
   ]
  },
  {
   "cell_type": "code",
   "execution_count": 38,
   "id": "10dfc8e2",
   "metadata": {
    "ExecuteTime": {
     "end_time": "2021-09-02T17:03:57.815648Z",
     "start_time": "2021-09-02T17:03:57.245663Z"
    }
   },
   "outputs": [
    {
     "name": "stdout",
     "output_type": "stream",
     "text": [
      "             target_id        cmpd_id  variable  value            0_x  tid  \\\n",
      "0        CHEMBL1075097  CHEMBL1234777       5.5    1.0  CHEMBL1075097    0   \n",
      "1        CHEMBL1075097  CHEMBL1812661       5.5    1.0  CHEMBL1075097    0   \n",
      "2        CHEMBL1075097  CHEMBL1812662       5.5   -1.0  CHEMBL1075097    0   \n",
      "3        CHEMBL1075097  CHEMBL2326084       5.5    1.0  CHEMBL1075097    0   \n",
      "4        CHEMBL1075097  CHEMBL2326085       5.5    1.0  CHEMBL1075097    0   \n",
      "...                ...            ...       ...    ...            ...  ...   \n",
      "2612245     CHEMBL6175  CHEMBL4646339       8.5   -1.0     CHEMBL6175  887   \n",
      "2612246     CHEMBL6175  CHEMBL4646564       8.5   -1.0     CHEMBL6175  887   \n",
      "2612247     CHEMBL6175  CHEMBL4648732       8.5   -1.0     CHEMBL6175  887   \n",
      "2612248     CHEMBL6175  CHEMBL4649004       8.5   -1.0     CHEMBL6175  887   \n",
      "2612249     CHEMBL6175  CHEMBL4202719       8.5   -1.0     CHEMBL6175  887   \n",
      "\n",
      "            0_y              1     cid    0  vid  \n",
      "0        173926  CHEMBL1234777  173926  5.5    0  \n",
      "1        150148  CHEMBL1812661  150148  5.5    0  \n",
      "2        143524  CHEMBL1812662  143524  5.5    0  \n",
      "3        233208  CHEMBL2326084  233208  5.5    0  \n",
      "4        237771  CHEMBL2326085  237771  5.5    0  \n",
      "...         ...            ...     ...  ...  ...  \n",
      "2612245  145144  CHEMBL4646339  145144  8.5    3  \n",
      "2612246  145346  CHEMBL4646564  145346  8.5    3  \n",
      "2612247  146159  CHEMBL4648732  146159  8.5    3  \n",
      "2612248  145835  CHEMBL4649004  145835  8.5    3  \n",
      "2612249  416262  CHEMBL4202719  416262  8.5    3  \n",
      "\n",
      "[2612250 rows x 11 columns]\n"
     ]
    }
   ],
   "source": [
    "join = pd.merge(tmp2, variable_list, left_on=\"variable\", right_on=0) #WHY [0]\n",
    "print(join)"
   ]
  },
  {
   "cell_type": "markdown",
   "id": "2b4ae0c4",
   "metadata": {},
   "source": [
    "#### Create `Ymask` sparse matrix\n",
    "Dims:   `Ncmpd x NCol`"
   ]
  },
  {
   "cell_type": "code",
   "execution_count": 212,
   "id": "8d9ed61f",
   "metadata": {
    "ExecuteTime": {
     "end_time": "2021-09-02T19:53:58.874405Z",
     "start_time": "2021-09-02T19:53:58.860815Z"
    }
   },
   "outputs": [],
   "source": [
    "I = join[\"cid\"].to_numpy()\n",
    "J = (Nvar * join[\"tid\"] + join[\"vid\"]).to_numpy()\n",
    "V = np.ones(len(I))"
   ]
  },
  {
   "cell_type": "code",
   "execution_count": 220,
   "id": "dfd0f459",
   "metadata": {
    "ExecuteTime": {
     "end_time": "2021-09-02T20:08:09.537386Z",
     "start_time": "2021-09-02T20:08:09.529819Z"
    }
   },
   "outputs": [
    {
     "name": "stdout",
     "output_type": "stream",
     "text": [
      " Nvar: 4\n",
      " I Len: 2612250 - [173926 150148 143524 ... 146159 145835 416262]\n",
      " J Len: 2612250 - [   0    0    0 ... 3551 3551 3551]\n",
      " V Len: 2612250 - [1. 1. 1. ... 1. 1. 1.]\n"
     ]
    }
   ],
   "source": [
    "print(f' Nvar: {Nvar}')\n",
    "print(f' I Len: {len(I)} - {I}') ## Rows \n",
    "print(f' J Len: {len(J)} - {J}') ## Columns \n",
    "print(f' V Len: {len(V)} - {V}')"
   ]
  },
  {
   "cell_type": "code",
   "execution_count": null,
   "id": "7f8516b9",
   "metadata": {
    "ExecuteTime": {
     "end_time": "2021-09-02T22:55:18.026664Z",
     "start_time": "2021-09-02T22:55:17.673403Z"
    }
   },
   "outputs": [],
   "source": [
    "Ymask = scipy.sparse.coo_matrix((V,(I,J)),(Ncmpd,Ncol))"
   ]
  },
  {
   "cell_type": "code",
   "execution_count": 313,
   "id": "c56b3202",
   "metadata": {
    "ExecuteTime": {
     "end_time": "2021-09-02T22:56:44.401747Z",
     "start_time": "2021-09-02T22:56:44.078043Z"
    }
   },
   "outputs": [
    {
     "name": "stdout",
     "output_type": "stream",
     "text": [
      "(423736, 3552)\n",
      " Ymask        : <class 'scipy.sparse.coo.coo_matrix'> (423736, 3552)\n",
      " Ymask.data   : <class 'numpy.ndarray'> (2612250,)\n",
      " Ymask sum    : 2612250.0\n",
      " Ymask < 0 : 2612250\n",
      " Ymask > 0 : 0\n",
      " Ymask     : 2612250.0\n",
      "  (173926, 0)\t1.0\n",
      "  (150148, 0)\t1.0\n",
      "  (143524, 0)\t1.0\n",
      "  (233208, 0)\t1.0\n",
      "  (237771, 0)\t1.0\n",
      "  (237772, 0)\t1.0\n",
      "  (233837, 0)\t1.0\n",
      "  (234711, 0)\t1.0\n",
      "  (234125, 0)\t1.0\n",
      "  (234831, 0)\t1.0\n",
      "  (234129, 0)\t1.0\n",
      "  (234712, 0)\t1.0\n",
      "  (234713, 0)\t1.0\n",
      "  (234873, 0)\t1.0\n",
      "  (234874, 0)\t1.0\n",
      "  (234875, 0)\t1.0\n",
      "  (235156, 0)\t1.0\n",
      "  (233413, 0)\t1.0\n",
      "  (233568, 0)\t1.0\n",
      "  (241433, 0)\t1.0\n",
      "  (241434, 0)\t1.0\n",
      "  (241435, 0)\t1.0\n",
      "  (241436, 0)\t1.0\n",
      "  (241437, 0)\t1.0\n",
      "  (241076, 0)\t1.0\n",
      "  :\t:\n",
      "  (330963, 3551)\t1.0\n",
      "  (330967, 3551)\t1.0\n",
      "  (329646, 3551)\t1.0\n",
      "  (331536, 3551)\t1.0\n",
      "  (330033, 3551)\t1.0\n",
      "  (329648, 3551)\t1.0\n",
      "  (331247, 3551)\t1.0\n",
      "  (330208, 3551)\t1.0\n",
      "  (331399, 3551)\t1.0\n",
      "  (330899, 3551)\t1.0\n",
      "  (330804, 3551)\t1.0\n",
      "  (330811, 3551)\t1.0\n",
      "  (416189, 3551)\t1.0\n",
      "  (416397, 3551)\t1.0\n",
      "  (416876, 3551)\t1.0\n",
      "  (412842, 3551)\t1.0\n",
      "  (415697, 3551)\t1.0\n",
      "  (132580, 3551)\t1.0\n",
      "  (137533, 3551)\t1.0\n",
      "  (137735, 3551)\t1.0\n",
      "  (145144, 3551)\t1.0\n",
      "  (145346, 3551)\t1.0\n",
      "  (146159, 3551)\t1.0\n",
      "  (145835, 3551)\t1.0\n",
      "  (416262, 3551)\t1.0\n"
     ]
    }
   ],
   "source": [
    "Ymask_neg = (Ymask < 0)\n",
    "print(Ymask.shape)\n",
    "\n",
    "print(f\" Ymask        : {type(Ymask)} {Ymask.shape}\")    \n",
    "print(f\" Ymask.data   : {type(Ymask.data)} {Ymask.data.shape}\")\n",
    "print(f\" Ymask sum    : {Ymask.sum()}\")\n",
    "print(f\" Ymask < 0    : {(Ymask>0).sum()}\")\n",
    "print(f\" Ymask > 0    : {(Ymask<0).sum()}\")\n",
    "print(f\" Ymask        : {    Ymask.sum()}\")\n",
    "print(Ymask)"
   ]
  },
  {
   "cell_type": "markdown",
   "id": "78bcadb0",
   "metadata": {},
   "source": [
    "####  Create Y sparse matrix "
   ]
  },
  {
   "cell_type": "code",
   "execution_count": 321,
   "id": "cedaf0f9",
   "metadata": {
    "ExecuteTime": {
     "end_time": "2021-09-02T22:59:34.875932Z",
     "start_time": "2021-09-02T22:59:34.549901Z"
    }
   },
   "outputs": [
    {
     "name": "stdout",
     "output_type": "stream",
     "text": [
      "<423736x3552 sparse matrix of type '<class 'numpy.float64'>'\n",
      "\twith 2612250 stored elements in COOrdinate format>\n",
      "   Y < 0 : 933144\n",
      "   Y > 0 : 1679106\n",
      "   Y != 0: 2612250\n",
      "  (173926, 0)\t1.0\n",
      "  (150148, 0)\t1.0\n",
      "  (143524, 0)\t-1.0\n",
      "  (233208, 0)\t1.0\n",
      "  (237771, 0)\t1.0\n",
      "  (237772, 0)\t1.0\n",
      "  (233837, 0)\t1.0\n",
      "  (234711, 0)\t1.0\n",
      "  (234125, 0)\t1.0\n",
      "  (234831, 0)\t1.0\n",
      "  (234129, 0)\t-1.0\n",
      "  (234712, 0)\t1.0\n",
      "  (234713, 0)\t1.0\n",
      "  (234873, 0)\t1.0\n",
      "  (234874, 0)\t1.0\n",
      "  (234875, 0)\t1.0\n",
      "  (235156, 0)\t1.0\n",
      "  (233413, 0)\t1.0\n",
      "  (233568, 0)\t1.0\n",
      "  (241433, 0)\t1.0\n",
      "  (241434, 0)\t1.0\n",
      "  (241435, 0)\t1.0\n",
      "  (241436, 0)\t-1.0\n",
      "  (241437, 0)\t1.0\n",
      "  (241076, 0)\t-1.0\n",
      "  :\t:\n",
      "  (330963, 3551)\t-1.0\n",
      "  (330967, 3551)\t-1.0\n",
      "  (329646, 3551)\t-1.0\n",
      "  (331536, 3551)\t-1.0\n",
      "  (330033, 3551)\t-1.0\n",
      "  (329648, 3551)\t-1.0\n",
      "  (331247, 3551)\t-1.0\n",
      "  (330208, 3551)\t-1.0\n",
      "  (331399, 3551)\t-1.0\n",
      "  (330899, 3551)\t-1.0\n",
      "  (330804, 3551)\t-1.0\n",
      "  (330811, 3551)\t-1.0\n",
      "  (416189, 3551)\t-1.0\n",
      "  (416397, 3551)\t-1.0\n",
      "  (416876, 3551)\t-1.0\n",
      "  (412842, 3551)\t-1.0\n",
      "  (415697, 3551)\t-1.0\n",
      "  (132580, 3551)\t-1.0\n",
      "  (137533, 3551)\t-1.0\n",
      "  (137735, 3551)\t-1.0\n",
      "  (145144, 3551)\t-1.0\n",
      "  (145346, 3551)\t-1.0\n",
      "  (146159, 3551)\t-1.0\n",
      "  (145835, 3551)\t-1.0\n",
      "  (416262, 3551)\t-1.0\n"
     ]
    }
   ],
   "source": [
    "y_data = join[\"value\"].to_numpy()\n",
    "Y = scipy.sparse.coo_matrix((y_data,(I,J)),(Ncmpd, Ncol))\n",
    "print(repr(Y))\n",
    "\n",
    "\n",
    "print(f\"   Y < 0 : {(Y>0).sum()}\")\n",
    "print(f\"   Y > 0 : {(Y<0).sum()}\")\n",
    "print(f\"   Y != 0: {(Y!=0).sum()}\")\n",
    "print(Y)\n"
   ]
  },
  {
   "cell_type": "code",
   "execution_count": null,
   "id": "0f98b951",
   "metadata": {},
   "outputs": [],
   "source": []
  },
  {
   "cell_type": "markdown",
   "id": "9bcccb76",
   "metadata": {},
   "source": [
    "#### `mtcv_clustered()`"
   ]
  },
  {
   "cell_type": "code",
   "execution_count": 179,
   "id": "0a0c789a",
   "metadata": {
    "ExecuteTime": {
     "end_time": "2021-09-02T19:24:08.679847Z",
     "start_time": "2021-09-02T19:24:08.673795Z"
    }
   },
   "outputs": [
    {
     "data": {
      "text/plain": [
       "array([ 8014,  3958,  3466, ..., 10806, 19103, 13660])"
      ]
     },
     "execution_count": 179,
     "metadata": {},
     "output_type": "execute_result"
    }
   ],
   "source": [
    "clusters"
   ]
  },
  {
   "cell_type": "code",
   "execution_count": 388,
   "id": "7e87fbcc",
   "metadata": {
    "ExecuteTime": {
     "end_time": "2021-09-03T00:15:22.432669Z",
     "start_time": "2021-09-03T00:15:22.419853Z"
    }
   },
   "outputs": [],
   "source": [
    "def mtcv_clustered(Y_in, clusters, nfolds=None, pfolds=None, seed=None):\n",
    "    \"\"\"\n",
    "    splits rows of Y_in, based on clusters into either \n",
    "        a) equallY_in into nfolds \n",
    "        b) or according to the ratios defined bY_in pfolds\n",
    "        \n",
    "        Y_in: is the compound x target matrix\n",
    "    \"\"\"\n",
    "\n",
    "    assert clusters.shape[0] == Y_in.shape[0]\n",
    "    print(f\"* Y_in       : {type(Y_in)} \\t {Y_in.shape}\")\n",
    "    print(f\"* clusters: {type(clusters)}  \\t {clusters.shape} \")\n",
    "    print(f\"           Min: {clusters.min()} Max:{clusters.max()}\\n{clusters} \\n\")\n",
    "    \n",
    "    \n",
    "#     cl_uniq = np.sort(clusters.unique())\n",
    "    cl_uniq = clusters.unique()\n",
    "    print(f\"* cl_uniq: {type(cl_uniq)} {len(cl_uniq)}\\n{cl_uniq}\\n\")\n",
    "\n",
    "          \n",
    "    ## assign a unqiue id to the cluster numbers  \n",
    "    cl2id   = pd.Series(np.arange(cl_uniq.shape[0]), index=cl_uniq)\n",
    "        \n",
    "    print(f\"* cl2id: {type(cl2id)} {len(cl2id)}\\n{cl2id}\\n\")\n",
    "    print(f\" cl2id[0]: {cl2id[0]}\")\n",
    "    print(f\" cl2id[2321]: {cl2id[2321]}\")\n",
    "    print(f\" cl2id[13660]: {cl2id[13660]}\")\n",
    "    print(f\" cl2id[2321]: {cl2id[2321]}\")\n",
    "    print(f\" cl2id[5601]: \\n{cl2id[5599:5603]} \\n\")\n",
    "    \n",
    "    \n",
    "    cid     = cl2id[clusters]\n",
    "    print(f\"* cid:   {type(cid)} {len(cid)}\\n{cid}\\n\")\n",
    "#     print(f\" cid.values:\\n{cid.values}\")\n",
    "    \n",
    "    ## creating cluster2compound matrix\n",
    "    ##\n",
    "    ## Number of rows: cid.values\n",
    "    print(f\"* Create C sparse matrix - indicating the clusters compounds are assigned to.... \")\n",
    "    C    = scipy.sparse.csr_matrix(\n",
    "            (np.ones(cid.shape[0], dtype=np.int8), (cid.values, np.arange(cid.shape[0])))\n",
    "            )\n",
    "\n",
    "    print(f\"* Shape of sparse matrix: Rows(#clusters):{C.shape[0]} Columns(#compounds): {C.shape[1]} \\n\")\n",
    "    ## Create \n",
    "    Y_bin      = Y_in.copy()\n",
    "    print(f\"* Y_bin     :   {type(Y_bin)} {Y_bin.shape}\")\n",
    "    print(f\"* Y_bin.data:   {type(Y_bin.data)} {Y_bin.data.shape}\")\n",
    "    Y_bin_neg = Y_bin < 0\n",
    "    Y_bin_pos = Y_bin > 0 \n",
    "    print(f\" Sum: {(Y_bin_neg).sum()}\")\n",
    "    print(f\" Sum: {(Y_bin_pos).sum()}\")\n",
    "    print(f\" Sum: {(Y_bin).sum()}\")\n",
    "    \n",
    "    Y_bin.data = np.ones(Y_bin.data.shape[0], dtype=np.int8)\n",
    "    print(f\"* Y_bin.data:   {type(Y_bin.data)} {Y_bin.data.shape}\\n\")\n",
    "    Y_bin_neg = Y_bin < 0\n",
    "    Y_bin_pos = Y_bin > 0 \n",
    "    print(f\" Sum: {(Y_bin_neg).sum()}\")\n",
    "    print(f\" Sum: {(Y_bin_pos).sum()}\")\n",
    "    print(f\" Sum: {(Y_bin).sum()}\")\n",
    "    print() \n",
    "    \n",
    "    ## compute number of compounds per cluster/fingerprint\n",
    "    cl_counts = C.dot(Y_bin)\n",
    "    print(f\"* cl_counts     :   {type(cl_counts)} {cl_counts.shape}\")    \n",
    "    print(f\"* cl_counts.data:   {type(cl_counts.data)} {cl_counts.data.shape}\")\n",
    "    print(f\" {cl_counts}\\n\")\n",
    "    \n",
    "    cl_counts_neg = cl_counts < 0 \n",
    "    print(f\"* cl_counts_neg     :   {type(cl_counts_neg)}      {cl_counts_neg.shape}\")    \n",
    "    print(f\"* cl_counts_neg.data:   {type(cl_counts_neg.data)} {cl_counts_neg.data.shape}\")\n",
    "    print(f\" Sum: {cl_counts_neg.sum()}\")\n",
    "    print(f\" {cl_counts_neg} \\n\")    \n",
    "\n",
    "    ## get cluster folds\n",
    "    print(f\"* Call mtcv with nfolds: {nfolds}  \\t pfolds: {pfolds} \\t  seed: {seed}\")\n",
    "    folds = mtcv(mask=cl_counts, nfolds=nfolds, pfolds=pfolds, seed=seed)\n",
    "\n",
    "    print(f\"* cid:   {type(cid)} {len(cid)}\\n{cid}\\n\")\n",
    "    print(f'* folds:  {folds.shape} \\n {folds[cid]} \\n')\n",
    "    return folds[cid]\n"
   ]
  },
  {
   "cell_type": "code",
   "execution_count": 392,
   "id": "94b1b190",
   "metadata": {
    "ExecuteTime": {
     "end_time": "2021-09-03T00:19:04.699148Z",
     "start_time": "2021-09-03T00:19:04.683566Z"
    }
   },
   "outputs": [],
   "source": [
    "def mtcv(mask, nfolds=None, pfolds=None, seed=None):\n",
    "    \"\"\"\n",
    "    Return a vector of folds\n",
    "\n",
    "    Args:\n",
    "    mask     binary mask matrix of [compounds x targets]\n",
    "    nfolds   number of folds (integer)\n",
    "    pfolds   array, specifying fold sizes (probability)\n",
    "             If specified nfolds is ignored.\n",
    "             Must sum to 1.\n",
    "    \"\"\"\n",
    "    if nfolds is None and pfolds is None:\n",
    "        raise ValueError(\"nfolds or pfolds must be specified.\")\n",
    "    if pfolds is not None and np.abs(np.sum(pfolds) - 1.0) > 1e-5:\n",
    "        raise ValueError(\"pfolds must sum to 1.0.\")\n",
    "\n",
    "    if pfolds is None:\n",
    "        pfolds = np.ones(nfolds) / nfolds\n",
    "    else:\n",
    "        nfolds = len(pfolds)\n",
    "    \n",
    "    print(f\" Call mtcv with nfolds: {nfolds}  \\t pfolds: {pfolds} \\t  seed: {seed}\\n\\n\")\n",
    "    \n",
    "    target_sizes = np.array(mask.sum(0)).flatten()\n",
    "    comp_sizes   = np.array(mask.sum(1)).flatten()\n",
    "\n",
    "    print(f'* mask        : {mask.shape} \\t\\n {mask} \\n')\n",
    "    print(f'* Target sizes (mask sum along rows) : {target_sizes.shape} \\t {target_sizes} \\n')\n",
    "    print(f'* comp sizes   (mask sum over columns): {comp_sizes.shape}   \\t {comp_sizes} \\n')\n",
    "    if seed is not None:\n",
    "        np.random.seed(seed)\n",
    "\n",
    "    df = pd.DataFrame({\"row\": np.arange(mask.shape[0]), \"size\": comp_sizes})\n",
    "    print(f'\\n* df info')\n",
    "    print(df.info())\n",
    "    print(df)\n",
    "    \n",
    "    df1 = df.sample(frac=1)\n",
    "    print(f'\\n df1 info \\n')\n",
    "    print(df1.info())\n",
    "    print(df1)\n",
    "    \n",
    "    df1.sort_values(\"size\", inplace=True, ascending=False)\n",
    "    print(f'\\n df1 info (after sort by size descending)\\n')\n",
    "    print(df1.info())\n",
    "    print(df1)\n",
    "    \n",
    "    fold_sizes = np.zeros((nfolds, mask.shape[1]), dtype=np.int8)\n",
    "#     #max_fold_sizes = np.ceil(target_sizes / nfolds).astype(np.int)\n",
    "    max_fold_sizes = np.ceil(np.outer(target_sizes, pfolds))\n",
    "\n",
    "    print(f'* fold_sizes : {fold_sizes.shape} \\n {fold_sizes} \\n')\n",
    "#     print(f'* non zero folds: {(fold_sizes>0).sum()}\\n')\n",
    "    print(f'* max fold sizes: {max_fold_sizes.shape} \\n {max_fold_sizes}\\n')\n",
    "    \n",
    "    ## output vector (initialized to -1)\n",
    "    folds = np.zeros(mask.shape[0], dtype=np.int8) - 1\n",
    "    print(f'* folds : {folds.shape} \\n {folds} \\n')\n",
    "    \n",
    "    farray = np.arange(nfolds)    \n",
    "    \n",
    "    ## Starting at the cluster with the highest number of positive actions\n",
    "    ## \n",
    "    print(f'* mask        : {mask.shape} ')\n",
    "    for i in range(mask.shape[0]):\n",
    "        idx   = df1.index[i]\n",
    " \n",
    "\n",
    "        #for j in np.random.permutation(nfolds):\n",
    "        choices = np.random.choice(farray, size=nfolds, replace=False, p=pfolds)\n",
    "#         print(f' i: {i}   idx (cluster_id): {idx}   folds[{idx}] = {folds[idx]}   choices : {choices}')\n",
    "        \n",
    "        \n",
    "        for j in choices: ## np.random.choice(farray, size=nfolds, replace=False, p=pfolds):\n",
    "            fit_criteria = mask[idx,:].dot((fold_sizes[j,:] + mask[idx,:] > max_fold_sizes[:,j]).transpose())\n",
    "#             print(f'    fit_criteria = {fit_criteria}')\n",
    "            if fit_criteria == 0:\n",
    "                ## compound fits into fold j\n",
    "                folds[idx] = j\n",
    "                fold_sizes[j,:] += mask[idx,:]\n",
    "                \n",
    "#                 print(f'    folds[idx] <- j:  {folds[idx]}')\n",
    "#                 print(f'    fold_sizes[j] <- mask[{idx}]: {fold_sizes[j]}')\n",
    "                break\n",
    "                \n",
    "        if folds[idx] == -1:\n",
    "            j = np.random.randint(0, nfolds)\n",
    "#             print(f'    force to fold {j}')\n",
    "            folds[idx] = j\n",
    "            fold_sizes[j,:] += mask[idx,:]\n",
    "        \n",
    "#         if (i == 100):\n",
    "#             break\n",
    "            \n",
    "    print(' finished loop - i is:', i)\n",
    "    return folds\n",
    "\n",
    "\n",
    "\n"
   ]
  },
  {
   "cell_type": "code",
   "execution_count": null,
   "id": "c06d3048",
   "metadata": {},
   "outputs": [],
   "source": []
  },
  {
   "cell_type": "code",
   "execution_count": 393,
   "id": "15165888",
   "metadata": {
    "ExecuteTime": {
     "end_time": "2021-09-03T00:19:25.954435Z",
     "start_time": "2021-09-03T00:19:06.216926Z"
    }
   },
   "outputs": [
    {
     "name": "stdout",
     "output_type": "stream",
     "text": [
      "* Y_in       : <class 'scipy.sparse.coo.coo_matrix'> \t (423736, 3552)\n",
      "* clusters: <class 'pandas.core.series.Series'>  \t (423736,) \n",
      "           Min: 0 Max:26049\n",
      "0          8014\n",
      "1          3958\n",
      "2          3466\n",
      "3          2321\n",
      "4         14018\n",
      "          ...  \n",
      "423731     3148\n",
      "423732    16950\n",
      "423733    10806\n",
      "423734    19103\n",
      "423735    13660\n",
      "Length: 423736, dtype: int64 \n",
      "\n",
      "* cl_uniq: <class 'numpy.ndarray'> 26050\n",
      "[ 8014  3958  3466 ... 19783 20080 19103]\n",
      "\n",
      "* cl2id: <class 'pandas.core.series.Series'> 26050\n",
      "8014         0\n",
      "3958         1\n",
      "3466         2\n",
      "2321         3\n",
      "14018        4\n",
      "         ...  \n",
      "21688    26045\n",
      "23920    26046\n",
      "19783    26047\n",
      "20080    26048\n",
      "19103    26049\n",
      "Length: 26050, dtype: int64\n",
      "\n",
      " cl2id[0]: 21185\n",
      " cl2id[2321]: 3\n",
      " cl2id[13660]: 5601\n",
      " cl2id[2321]: 3\n",
      " cl2id[5601]: \n",
      "5328     5599\n",
      "14954    5600\n",
      "13660    5601\n",
      "8773     5602\n",
      "dtype: int64 \n",
      "\n",
      "* cid:   <class 'pandas.core.series.Series'> 423736\n",
      "8014         0\n",
      "3958         1\n",
      "3466         2\n",
      "2321         3\n",
      "14018        4\n",
      "         ...  \n",
      "3148      2665\n",
      "16950     9951\n",
      "10806    13388\n",
      "19103    26049\n",
      "13660     5601\n",
      "Length: 423736, dtype: int64\n",
      "\n",
      "* Create C sparse matrix - indicating the clusters compounds are assigned to.... \n",
      "* Shape of sparse matrix: Rows(#clusters):26050 Columns(#compounds): 423736 \n",
      "\n",
      "* Y_bin     :   <class 'scipy.sparse.coo.coo_matrix'> (423736, 3552)\n",
      "* Y_bin.data:   <class 'numpy.ndarray'> (2612250,)\n",
      " Sum: 0\n",
      " Sum: 2612250\n",
      " Sum: 2612250.0\n",
      "* Y_bin.data:   <class 'numpy.ndarray'> (2612250,)\n",
      "\n",
      " Sum: 0\n",
      " Sum: 2612250\n",
      " Sum: 2612250\n",
      "\n",
      "* cl_counts     :   <class 'scipy.sparse.csr.csr_matrix'> (26050, 3552)\n",
      "* cl_counts.data:   <class 'numpy.ndarray'> (421275,)\n",
      "   (0, 675)\t39\n",
      "  (0, 674)\t39\n",
      "  (0, 673)\t39\n",
      "  (0, 672)\t39\n",
      "  (1, 3491)\t1\n",
      "  (1, 3490)\t1\n",
      "  (1, 3489)\t1\n",
      "  (1, 3488)\t1\n",
      "  (1, 3443)\t1\n",
      "  (1, 3442)\t1\n",
      "  (1, 3441)\t1\n",
      "  (1, 3440)\t1\n",
      "  (1, 3371)\t1\n",
      "  (1, 3370)\t1\n",
      "  (1, 3369)\t1\n",
      "  (1, 3368)\t1\n",
      "  (1, 1135)\t1\n",
      "  (1, 1134)\t1\n",
      "  (1, 1133)\t1\n",
      "  (1, 1132)\t1\n",
      "  (1, 579)\t1\n",
      "  (1, 578)\t1\n",
      "  (1, 577)\t1\n",
      "  (1, 576)\t1\n",
      "  (1, 503)\t1\n",
      "  :\t:\n",
      "  (26046, 1724)\t1\n",
      "  (26047, 43)\t1\n",
      "  (26047, 42)\t1\n",
      "  (26047, 41)\t1\n",
      "  (26047, 40)\t1\n",
      "  (26048, 1183)\t1\n",
      "  (26048, 1182)\t1\n",
      "  (26048, 1181)\t1\n",
      "  (26048, 1180)\t1\n",
      "  (26049, 3303)\t1\n",
      "  (26049, 3302)\t1\n",
      "  (26049, 3301)\t1\n",
      "  (26049, 3300)\t1\n",
      "  (26049, 2539)\t1\n",
      "  (26049, 2538)\t1\n",
      "  (26049, 2537)\t1\n",
      "  (26049, 2536)\t1\n",
      "  (26049, 1503)\t1\n",
      "  (26049, 1502)\t1\n",
      "  (26049, 1501)\t1\n",
      "  (26049, 1500)\t1\n",
      "  (26049, 1367)\t1\n",
      "  (26049, 1366)\t1\n",
      "  (26049, 1365)\t1\n",
      "  (26049, 1364)\t1\n",
      "\n",
      "* cl_counts_neg     :   <class 'scipy.sparse.csr.csr_matrix'>      (26050, 3552)\n",
      "* cl_counts_neg.data:   <class 'numpy.ndarray'> (1079,)\n",
      " Sum: 1079\n",
      "   (3, 3464)\tTrue\n",
      "  (3, 3465)\tTrue\n",
      "  (3, 3466)\tTrue\n",
      "  (3, 3467)\tTrue\n",
      "  (10, 576)\tTrue\n",
      "  (10, 577)\tTrue\n",
      "  (10, 578)\tTrue\n",
      "  (10, 579)\tTrue\n",
      "  (10, 740)\tTrue\n",
      "  (10, 741)\tTrue\n",
      "  (10, 742)\tTrue\n",
      "  (10, 743)\tTrue\n",
      "  (17, 2581)\tTrue\n",
      "  (18, 2104)\tTrue\n",
      "  (18, 2105)\tTrue\n",
      "  (18, 2106)\tTrue\n",
      "  (18, 2107)\tTrue\n",
      "  (26, 248)\tTrue\n",
      "  (26, 288)\tTrue\n",
      "  (26, 289)\tTrue\n",
      "  (26, 290)\tTrue\n",
      "  (26, 291)\tTrue\n",
      "  (26, 348)\tTrue\n",
      "  (26, 349)\tTrue\n",
      "  (26, 350)\tTrue\n",
      "  :\t:\n",
      "  (24390, 1323)\tTrue\n",
      "  (24421, 2384)\tTrue\n",
      "  (24421, 2385)\tTrue\n",
      "  (24421, 2386)\tTrue\n",
      "  (24421, 2387)\tTrue\n",
      "  (24442, 1712)\tTrue\n",
      "  (24442, 1713)\tTrue\n",
      "  (24442, 1714)\tTrue\n",
      "  (24442, 1715)\tTrue\n",
      "  (24472, 3144)\tTrue\n",
      "  (24472, 3145)\tTrue\n",
      "  (24472, 3146)\tTrue\n",
      "  (24472, 3147)\tTrue\n",
      "  (24646, 1036)\tTrue\n",
      "  (24646, 1037)\tTrue\n",
      "  (24646, 1038)\tTrue\n",
      "  (24646, 1039)\tTrue\n",
      "  (24797, 3388)\tTrue\n",
      "  (24797, 3389)\tTrue\n",
      "  (24797, 3390)\tTrue\n",
      "  (24797, 3391)\tTrue\n",
      "  (24997, 3112)\tTrue\n",
      "  (24997, 3113)\tTrue\n",
      "  (24997, 3114)\tTrue\n",
      "  (24997, 3115)\tTrue \n",
      "\n",
      "* Call mtcv with nfolds: 5  \t pfolds: None \t  seed: None\n",
      " Call mtcv with nfolds: 5  \t pfolds: [0.2 0.2 0.2 0.2 0.2] \t  seed: None\n",
      "\n",
      "\n",
      "* mask        : (26050, 3552) \t\n",
      "   (0, 672)\t39\n",
      "  (0, 673)\t39\n",
      "  (0, 674)\t39\n",
      "  (0, 675)\t39\n",
      "  (1, 208)\t1\n",
      "  (1, 209)\t1\n",
      "  (1, 210)\t1\n",
      "  (1, 211)\t1\n",
      "  (1, 500)\t1\n",
      "  (1, 501)\t1\n",
      "  (1, 502)\t1\n",
      "  (1, 503)\t1\n",
      "  (1, 576)\t1\n",
      "  (1, 577)\t1\n",
      "  (1, 578)\t1\n",
      "  (1, 579)\t1\n",
      "  (1, 1056)\t91\n",
      "  (1, 1057)\t94\n",
      "  (1, 1058)\t94\n",
      "  (1, 1059)\t94\n",
      "  (1, 1100)\t13\n",
      "  (1, 1101)\t13\n",
      "  (1, 1102)\t13\n",
      "  (1, 1103)\t13\n",
      "  (1, 1104)\t13\n",
      "  :\t:\n",
      "  (26046, 1819)\t1\n",
      "  (26047, 40)\t1\n",
      "  (26047, 41)\t1\n",
      "  (26047, 42)\t1\n",
      "  (26047, 43)\t1\n",
      "  (26048, 1180)\t1\n",
      "  (26048, 1181)\t1\n",
      "  (26048, 1182)\t1\n",
      "  (26048, 1183)\t1\n",
      "  (26049, 1364)\t1\n",
      "  (26049, 1365)\t1\n",
      "  (26049, 1366)\t1\n",
      "  (26049, 1367)\t1\n",
      "  (26049, 1500)\t1\n",
      "  (26049, 1501)\t1\n",
      "  (26049, 1502)\t1\n",
      "  (26049, 1503)\t1\n",
      "  (26049, 2536)\t1\n",
      "  (26049, 2537)\t1\n",
      "  (26049, 2538)\t1\n",
      "  (26049, 2539)\t1\n",
      "  (26049, 3300)\t1\n",
      "  (26049, 3301)\t1\n",
      "  (26049, 3302)\t1\n",
      "  (26049, 3303)\t1 \n",
      "\n",
      "* Target sizes (mask sum along rows) : (3552,) \t [120 120 120 ... 678 595 592] \n",
      "\n",
      "* comp sizes   (mask sum over columns): (26050,)   \t [156 505  20 ...   4   4  16] \n",
      "\n",
      "\n",
      "* df info\n",
      "<class 'pandas.core.frame.DataFrame'>\n",
      "RangeIndex: 26050 entries, 0 to 26049\n",
      "Data columns (total 2 columns):\n",
      " #   Column  Non-Null Count  Dtype\n",
      "---  ------  --------------  -----\n",
      " 0   row     26050 non-null  int64\n",
      " 1   size    26050 non-null  int64\n",
      "dtypes: int64(2)\n",
      "memory usage: 407.2 KB\n",
      "None\n",
      "         row  size\n",
      "0          0   156\n",
      "1          1   505\n",
      "2          2    20\n",
      "3          3  1078\n",
      "4          4    96\n",
      "...      ...   ...\n",
      "26045  26045     4\n",
      "26046  26046     8\n",
      "26047  26047     4\n",
      "26048  26048     4\n",
      "26049  26049    16\n",
      "\n",
      "[26050 rows x 2 columns]\n",
      "\n",
      " df1 info \n",
      "\n",
      "<class 'pandas.core.frame.DataFrame'>\n",
      "Int64Index: 26050 entries, 19730 to 9468\n",
      "Data columns (total 2 columns):\n",
      " #   Column  Non-Null Count  Dtype\n",
      "---  ------  --------------  -----\n",
      " 0   row     26050 non-null  int64\n",
      " 1   size    26050 non-null  int64\n",
      "dtypes: int64(2)\n",
      "memory usage: 610.5 KB\n",
      "None\n",
      "         row  size\n",
      "19730  19730    20\n",
      "12040  12040    12\n",
      "4258    4258     8\n",
      "15425  15425    12\n",
      "11064  11064     4\n",
      "...      ...   ...\n",
      "6222    6222   328\n",
      "24426  24426   444\n",
      "25485  25485    80\n",
      "4356    4356     8\n",
      "9468    9468   144\n",
      "\n",
      "[26050 rows x 2 columns]\n",
      "\n",
      " df1 info (after sort by size descending)\n",
      "\n",
      "<class 'pandas.core.frame.DataFrame'>\n",
      "Int64Index: 26050 entries, 11261 to 22543\n",
      "Data columns (total 2 columns):\n",
      " #   Column  Non-Null Count  Dtype\n",
      "---  ------  --------------  -----\n",
      " 0   row     26050 non-null  int64\n",
      " 1   size    26050 non-null  int64\n",
      "dtypes: int64(2)\n",
      "memory usage: 610.5 KB\n",
      "None\n",
      "         row  size\n",
      "11261  11261  4356\n",
      "2493    2493  2650\n",
      "547      547  2558\n",
      "68        68  2277\n",
      "24260  24260  2130\n",
      "...      ...   ...\n",
      "24187  24187  -962\n",
      "7876    7876  -984\n",
      "24271  24271 -1089\n",
      "23372  23372 -1268\n",
      "22543  22543 -2046\n",
      "\n",
      "[26050 rows x 2 columns]\n",
      "* fold_sizes : (5, 3552) \n",
      " [[0 0 0 ... 0 0 0]\n",
      " [0 0 0 ... 0 0 0]\n",
      " [0 0 0 ... 0 0 0]\n",
      " [0 0 0 ... 0 0 0]\n",
      " [0 0 0 ... 0 0 0]] \n",
      "\n",
      "* max fold sizes: (3552, 5) \n",
      " [[ 24.  24.  24.  24.  24.]\n",
      " [ 24.  24.  24.  24.  24.]\n",
      " [ 24.  24.  24.  24.  24.]\n",
      " ...\n",
      " [136. 136. 136. 136. 136.]\n",
      " [119. 119. 119. 119. 119.]\n",
      " [119. 119. 119. 119. 119.]]\n",
      "\n",
      "* folds : (26050,) \n",
      " [-1 -1 -1 ... -1 -1 -1] \n",
      "\n",
      "* mask        : (26050, 3552) \n",
      " finished loop - i is: 26049\n",
      "* cid:   <class 'pandas.core.series.Series'> 423736\n",
      "8014         0\n",
      "3958         1\n",
      "3466         2\n",
      "2321         3\n",
      "14018        4\n",
      "         ...  \n",
      "3148      2665\n",
      "16950     9951\n",
      "10806    13388\n",
      "19103    26049\n",
      "13660     5601\n",
      "Length: 423736, dtype: int64\n",
      "\n",
      "* folds:  (26050,) \n",
      " [2 0 2 ... 1 4 3] \n",
      "\n"
     ]
    }
   ],
   "source": [
    "folds = mtcv_clustered(Ymask, pd.Series(clusters), conf.nfolds)\n"
   ]
  },
  {
   "cell_type": "code",
   "execution_count": 375,
   "id": "1a9fc793",
   "metadata": {
    "ExecuteTime": {
     "end_time": "2021-09-03T00:09:08.117618Z",
     "start_time": "2021-09-03T00:09:08.112063Z"
    }
   },
   "outputs": [
    {
     "name": "stdout",
     "output_type": "stream",
     "text": [
      "None\n"
     ]
    }
   ],
   "source": [
    "print(folds)"
   ]
  },
  {
   "cell_type": "code",
   "execution_count": null,
   "id": "175af977",
   "metadata": {},
   "outputs": [],
   "source": []
  },
  {
   "cell_type": "code",
   "execution_count": null,
   "id": "bd448f26",
   "metadata": {},
   "outputs": [],
   "source": []
  },
  {
   "cell_type": "code",
   "execution_count": null,
   "id": "e05540b3",
   "metadata": {},
   "outputs": [],
   "source": []
  },
  {
   "cell_type": "code",
   "execution_count": null,
   "id": "0eec6a31",
   "metadata": {},
   "outputs": [],
   "source": []
  },
  {
   "cell_type": "code",
   "execution_count": 63,
   "id": "adb56c12",
   "metadata": {
    "ExecuteTime": {
     "end_time": "2021-09-02T17:21:00.319418Z",
     "start_time": "2021-09-02T17:21:00.310781Z"
    }
   },
   "outputs": [
    {
     "ename": "NameError",
     "evalue": "name 'Ymask' is not defined",
     "output_type": "error",
     "traceback": [
      "\u001b[0;31m---------------------------------------------------------------------------\u001b[0m",
      "\u001b[0;31mNameError\u001b[0m                                 Traceback (most recent call last)",
      "\u001b[0;32m/tmp/ipykernel_28524/246608033.py\u001b[0m in \u001b[0;36m<module>\u001b[0;34m\u001b[0m\n\u001b[0;32m----> 1\u001b[0;31m \u001b[0mprint\u001b[0m\u001b[0;34m(\u001b[0m\u001b[0mYmask\u001b[0m\u001b[0;34m)\u001b[0m\u001b[0;34m\u001b[0m\u001b[0;34m\u001b[0m\u001b[0m\n\u001b[0m",
      "\u001b[0;31mNameError\u001b[0m: name 'Ymask' is not defined"
     ]
    }
   ],
   "source": [
    "print(Ymask)"
   ]
  },
  {
   "cell_type": "code",
   "execution_count": null,
   "id": "33f9de86",
   "metadata": {},
   "outputs": [],
   "source": []
  }
 ],
 "metadata": {
  "kernelspec": {
   "display_name": "Python [conda env:pyt-gpu]",
   "language": "python",
   "name": "conda-env-pyt-gpu-py"
  },
  "language_info": {
   "codemirror_mode": {
    "name": "ipython",
    "version": 3
   },
   "file_extension": ".py",
   "mimetype": "text/x-python",
   "name": "python",
   "nbconvert_exporter": "python",
   "pygments_lexer": "ipython3",
   "version": "3.9.7"
  },
  "toc": {
   "base_numbering": 1,
   "nav_menu": {},
   "number_sections": true,
   "sideBar": true,
   "skip_h1_title": false,
   "title_cell": "Table of Contents",
   "title_sidebar": "Contents",
   "toc_cell": false,
   "toc_position": {},
   "toc_section_display": true,
   "toc_window_display": false
  }
 },
 "nbformat": 4,
 "nbformat_minor": 5
}
