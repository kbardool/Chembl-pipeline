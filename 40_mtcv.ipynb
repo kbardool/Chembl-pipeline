{
 "cells": [
  {
   "cell_type": "markdown",
   "id": "53b150cd",
   "metadata": {},
   "source": [
    "##  MTCV : Multi Task Cross Validation"
   ]
  },
  {
   "cell_type": "code",
   "execution_count": 2,
   "id": "6206df39",
   "metadata": {
    "ExecuteTime": {
     "end_time": "2022-08-03T09:23:15.246559Z",
     "start_time": "2022-08-03T09:23:15.220774Z"
    }
   },
   "outputs": [
    {
     "data": {
      "text/html": [
       "<style>.container { width:98% !important; }</style>"
      ],
      "text/plain": [
       "<IPython.core.display.HTML object>"
      ]
     },
     "metadata": {},
     "output_type": "display_data"
    }
   ],
   "source": [
    "from IPython.core.display import display, HTML\n",
    "display(HTML(\"<style>.container { width:98% !important; }</style>\"))\n",
    "%load_ext autoreload\n",
    "%autoreload 2"
   ]
  },
  {
   "cell_type": "code",
   "execution_count": 3,
   "id": "8fc9e3ee",
   "metadata": {
    "ExecuteTime": {
     "end_time": "2022-08-03T09:23:16.031036Z",
     "start_time": "2022-08-03T09:23:15.427102Z"
    }
   },
   "outputs": [],
   "source": [
    "import numpy as np\n",
    "import pandas as pd\n",
    "import scipy.sparse\n",
    "import argparse\n",
    "pd.options.display.width = 132\n",
    "pd.options.display.max_rows = 100\n",
    "import os"
   ]
  },
  {
   "cell_type": "code",
   "execution_count": 4,
   "id": "4ef0822f",
   "metadata": {
    "ExecuteTime": {
     "end_time": "2022-08-03T09:23:16.052036Z",
     "start_time": "2022-08-03T09:23:16.035122Z"
    }
   },
   "outputs": [],
   "source": [
    "def load_sparse(dataroot = None , filename = None):\n",
    "    \"\"\"Loads sparse from Matrix market or Numpy .npy file.\"\"\"\n",
    "    if filename is None or dataroot is None:\n",
    "        return None\n",
    "    full_path = os.path.join(dataroot, filename)\n",
    "    print(f\" load sparse file from {full_path}\")\n",
    "    if filename.endswith('.mtx'):\n",
    "        return scipy.io.mmread(full_path).tocsr()\n",
    "    elif filename.endswith('.npy'):\n",
    "        return np.load(full_path, allow_pickle=True).item().tocsr()\n",
    "    elif filename.endswith('.npz'):\n",
    "        return scipy.sparse.load_npz(full_path).tocsr()\n",
    "    raise ValueError(f\"Loading '{full_path}' failed. It must have a suffix '.mtx', '.npy', '.npz'.\")\n"
   ]
  },
  {
   "cell_type": "code",
   "execution_count": 3,
   "id": "4f05bf66",
   "metadata": {
    "ExecuteTime": {
     "end_time": "2022-08-03T07:52:03.790932Z",
     "start_time": "2022-08-03T07:52:03.758694Z"
    }
   },
   "outputs": [],
   "source": [
    "def mtcv_clustered(Y_in, clusters, nfolds=None, pfolds=None, seed=None):\n",
    "    \"\"\"\n",
    "    splits rows of Y_in, based on clusters into either \n",
    "        a) equal Y_in into nfolds \n",
    "        b) or according to the ratios defined bY_in pfolds\n",
    "        \n",
    "        Y_in: is the compound x target matrix\n",
    "    \"\"\"\n",
    "\n",
    "    assert clusters.shape[0] == Y_in.shape[0]\n",
    "    print(f\"* Y_in       : {type(Y_in)} \\t {Y_in.shape}\")\n",
    "    print(f\"* clusters: {type(clusters)}  \\t {clusters.shape} \")\n",
    "    print(f\"           Min: {clusters.min()} Max:{clusters.max()}\\n{clusters} \\n\")\n",
    "    \n",
    "    \n",
    "#     cl_uniq = np.sort(clusters.unique())\n",
    "    cl_uniq = clusters.unique()\n",
    "    print(f\"* cl_uniq: {type(cl_uniq)} {len(cl_uniq)}\\n{cl_uniq}\\n\")\n",
    "\n",
    "          \n",
    "    ## assign a unqiue id to the cluster numbers  \n",
    "    cl2id   = pd.Series(np.arange(cl_uniq.shape[0]), index=cl_uniq)\n",
    "        \n",
    "#     print(f\"* cl2id: {type(cl2id)} {len(cl2id)}\\n{cl2id}\\n\")\n",
    "#     print(f\" cl2id[0]: {cl2id[0]}\")\n",
    "#     print(f\" cl2id[2321]: {cl2id[2321]}\")\n",
    "#     print(f\" cl2id[13660]: {cl2id[13660]}\")\n",
    "#     print(f\" cl2id[2321]: {cl2id[2321]}\")\n",
    "#     print(f\" cl2id[5601]: \\n{cl2id[5599:5603]} \\n\")\n",
    "    \n",
    "    \n",
    "    cid     = cl2id[clusters]\n",
    "    print(f\"* cid:   {type(cid)} {len(cid)}\\n{cid}\\n\")\n",
    "#     print(f\" cid.values:\\n{cid.values}\")\n",
    "    \n",
    "    ## creating cluster2compound matrix\n",
    "    ##\n",
    "    ## Number of rows: cid.values\n",
    "    print(f\"* Create C sparse matrix - indicating the clusters compounds are assigned to.... \")\n",
    "    C    = scipy.sparse.csr_matrix(\n",
    "            (np.ones(cid.shape[0], dtype=np.int8), (cid.values, np.arange(cid.shape[0])))\n",
    "            )\n",
    "\n",
    "    print(f\"* Shape of sparse matrix: Rows(#clusters):{C.shape[0]} Columns(#compounds): {C.shape[1]} \\n\")\n",
    "    ## Create \n",
    "    Y_bin      = Y_in.copy()\n",
    "    print(f\"* Y_bin     :   {type(Y_bin)} {Y_bin.shape}\")\n",
    "    print(f\"* Y_bin.data:   {type(Y_bin.data)} {Y_bin.data.shape}\")\n",
    "    Y_bin_neg = Y_bin < 0\n",
    "    Y_bin_pos = Y_bin > 0 \n",
    "    print(f\" Sum: {(Y_bin_neg).sum()}\")\n",
    "    print(f\" Sum: {(Y_bin_pos).sum()}\")\n",
    "    print(f\" Sum: {(Y_bin).sum()}\")\n",
    "    \n",
    "    Y_bin.data = np.ones(Y_bin.data.shape[0], dtype=np.int8)\n",
    "    print(f\"* Y_bin.data:   {type(Y_bin.data)} {Y_bin.data.shape}\\n\")\n",
    "    Y_bin_neg = Y_bin < 0\n",
    "    Y_bin_pos = Y_bin > 0 \n",
    "    print(f\" Sum: {(Y_bin_neg).sum()}\")\n",
    "    print(f\" Sum: {(Y_bin_pos).sum()}\")\n",
    "    print(f\" Sum: {(Y_bin).sum()}\")\n",
    "    print() \n",
    "    \n",
    "    ## compute number of compounds per cluster/fingerprint\n",
    "    cl_counts = C.dot(Y_bin)\n",
    "    print(f\"* cl_counts     :   {type(cl_counts)} {cl_counts.shape}\")    \n",
    "    print(f\"* cl_counts.data:   {type(cl_counts.data)} {cl_counts.data.shape}\")\n",
    "    print(f\" {cl_counts}\\n\")\n",
    "    \n",
    "    cl_counts_neg = cl_counts < 0 \n",
    "    print(f\"* cl_counts_neg     :   {type(cl_counts_neg)}      {cl_counts_neg.shape}\")    \n",
    "    print(f\"* cl_counts_neg.data:   {type(cl_counts_neg.data)} {cl_counts_neg.data.shape}\")\n",
    "    print(f\" Sum: {cl_counts_neg.sum()}\")\n",
    "    print(f\" {cl_counts_neg} \\n\")    \n",
    "\n",
    "    ## get cluster folds\n",
    "    print(f\"* Call mtcv with nfolds: {nfolds}  \\t pfolds: {pfolds} \\t  seed: {seed}\")\n",
    "    folds = mtcv(mask=cl_counts, nfolds=nfolds, pfolds=pfolds, seed=seed)\n",
    "\n",
    "    print(f\"* cid:   {type(cid)} {len(cid)}\\n{cid}\\n\")\n",
    "    print(f'* folds:  {folds.shape} \\n {folds[cid]} \\n')\n",
    "    return folds[cid]\n"
   ]
  },
  {
   "cell_type": "code",
   "execution_count": 4,
   "id": "da8c9f15",
   "metadata": {
    "ExecuteTime": {
     "end_time": "2022-08-03T07:52:04.215075Z",
     "start_time": "2022-08-03T07:52:04.191335Z"
    }
   },
   "outputs": [],
   "source": [
    "def mtcv(mask, nfolds=None, pfolds=None, seed=None):\n",
    "    \"\"\"\n",
    "    Return a vector of folds\n",
    "\n",
    "    Args:\n",
    "    mask     binary mask matrix of [compounds x targets]\n",
    "    nfolds   number of folds (integer)\n",
    "    pfolds   array, specifying fold sizes (probability)\n",
    "             If specified nfolds is ignored.\n",
    "             Must sum to 1.\n",
    "    \"\"\"\n",
    "    if nfolds is None and pfolds is None:\n",
    "        raise ValueError(\"nfolds or pfolds must be specified.\")\n",
    "    if pfolds is not None and np.abs(np.sum(pfolds) - 1.0) > 1e-5:\n",
    "        raise ValueError(\"pfolds must sum to 1.0.\")\n",
    "\n",
    "    if pfolds is None:\n",
    "        pfolds = np.ones(nfolds) / nfolds\n",
    "    else:\n",
    "        nfolds = len(pfolds)\n",
    "    \n",
    "    print(f\" Call mtcv with nfolds: {nfolds}  \\t pfolds: {pfolds} \\t  seed: {seed}\\n\\n\")\n",
    "    \n",
    "    target_sizes = np.array(mask.sum(0)).flatten()\n",
    "    comp_sizes   = np.array(mask.sum(1)).flatten()\n",
    "\n",
    "    print(f'* mask        : {mask.shape} \\t\\n {mask} \\n')\n",
    "    print(f'* Target sizes (mask sum along rows) : {target_sizes.shape} \\t {target_sizes} \\n')\n",
    "    print(f'* comp sizes   (mask sum over columns): {comp_sizes.shape}   \\t {comp_sizes} \\n')\n",
    "    if seed is not None:\n",
    "        np.random.seed(seed)\n",
    "\n",
    "    df = pd.DataFrame({\"row\": np.arange(mask.shape[0]), \"size\": comp_sizes})\n",
    "    print(f'\\n* df info')\n",
    "    print(df.info())\n",
    "    print(df)\n",
    "    \n",
    "    df1 = df.sample(frac=1)\n",
    "    print(f'\\n df1 info \\n')\n",
    "    print(df1.info())\n",
    "    print(df1)\n",
    "    \n",
    "    df1.sort_values(\"size\", inplace=True, ascending=False)\n",
    "    print(f'\\n df1 info (after sort by size descending)\\n')\n",
    "    print(df1.info())\n",
    "    print(df1)\n",
    "    \n",
    "    fold_sizes = np.zeros((nfolds, mask.shape[1]), dtype=np.int8)\n",
    "#     #max_fold_sizes = np.ceil(target_sizes / nfolds).astype(np.int)\n",
    "    max_fold_sizes = np.ceil(np.outer(target_sizes, pfolds))\n",
    "\n",
    "    print(f'* fold_sizes : {fold_sizes.shape} \\n {fold_sizes} \\n')\n",
    "#     print(f'* non zero folds: {(fold_sizes>0).sum()}\\n')\n",
    "    print(f'* max fold sizes: {max_fold_sizes.shape} \\n {max_fold_sizes}\\n')\n",
    "    \n",
    "    ## output vector (initialized to -1)\n",
    "    folds = np.zeros(mask.shape[0], dtype=np.int8) - 1\n",
    "    print(f'* folds : {folds.shape} \\n {folds} \\n')\n",
    "    \n",
    "    farray = np.arange(nfolds)    \n",
    "    \n",
    "    ## Starting at the cluster with the highest number of positive actions\n",
    "    ## \n",
    "    print(f'* mask        : {mask.shape} ')\n",
    "    for i in range(mask.shape[0]):\n",
    "        idx   = df1.index[i]\n",
    " \n",
    "\n",
    "        #for j in np.random.permutation(nfolds):\n",
    "        choices = np.random.choice(farray, size=nfolds, replace=False, p=pfolds)\n",
    "#         print(f' i: {i}   idx (cluster_id): {idx}   folds[{idx}] = {folds[idx]}   choices : {choices}')\n",
    "        \n",
    "        \n",
    "        for j in choices: ## np.random.choice(farray, size=nfolds, replace=False, p=pfolds):\n",
    "            fit_criteria = mask[idx,:].dot((fold_sizes[j,:] + mask[idx,:] > max_fold_sizes[:,j]).transpose())\n",
    "#             print(f'    fit_criteria = {fit_criteria}')\n",
    "            if fit_criteria == 0:\n",
    "                ## compound fits into fold j\n",
    "                folds[idx] = j\n",
    "                fold_sizes[j,:] += mask[idx,:]\n",
    "                \n",
    "#                 print(f'    folds[idx] <- j:  {folds[idx]}')\n",
    "#                 print(f'    fold_sizes[j] <- mask[{idx}]: {fold_sizes[j]}')\n",
    "                break\n",
    "                \n",
    "        if folds[idx] == -1:\n",
    "            j = np.random.randint(0, nfolds)\n",
    "#             print(f'    force to fold {j}')\n",
    "            folds[idx] = j\n",
    "            fold_sizes[j,:] += mask[idx,:]\n",
    "        \n",
    "#         if (i == 100):\n",
    "#             break\n",
    "            \n",
    "    print(' finished loop - i is:', i)\n",
    "    return folds\n",
    "\n",
    "\n",
    "\n"
   ]
  },
  {
   "cell_type": "code",
   "execution_count": 5,
   "id": "c2334077",
   "metadata": {
    "ExecuteTime": {
     "end_time": "2022-08-03T07:53:08.825815Z",
     "start_time": "2022-08-03T07:53:08.806613Z"
    }
   },
   "outputs": [
    {
     "name": "stdout",
     "output_type": "stream",
     "text": [
      "\n",
      " input parm - thresh  :   value: output/chembl_29_dev/chembl_29_dev_thresholds.csv\n",
      " input parm - clusters:   value: output/chembl_29_dev/chembl_29_dev_clustering.npy\n",
      " input parm - compounds:  value: output/chembl_29_dev/chembl_29_dev_X_cmpds.csv\n",
      " input parm - nfolds:     value: 5\n",
      " output parm - y :        value: output/chembl_29_dev/chembl_29_dev_Y_all.npy\n",
      " output parm - folding:   value: output/chembl_29_dev/chembl_29_dev_folding.npy\n"
     ]
    }
   ],
   "source": [
    "parser = argparse.ArgumentParser(description=\"Multi-task clustered crossvalidation\")\n",
    "parser.add_argument('--thresh', type=str, required=True)\n",
    "parser.add_argument('--y', type=str, required=True)\n",
    "parser.add_argument('--compounds', type=str, required=True)\n",
    "parser.add_argument('--clusters', type=str, required=True)\n",
    "parser.add_argument('--folding', type=str, default=\"output/folding.npy\")\n",
    "parser.add_argument('--nfolds', type=int, default=5)\n",
    "VERSION = \"chembl_29_dev\"\n",
    "\n",
    "in_args = f\" --thresh    output/{VERSION}/{VERSION}_thresholds.csv\"\\\n",
    "          f\" --clusters  output/{VERSION}/{VERSION}_clustering.npy \" \\\n",
    "          f\" --compounds output/{VERSION}/{VERSION}_X_cmpds.csv\" \\\n",
    "          f\" --y         output/{VERSION}/{VERSION}_Y_all.npy\"\\\n",
    "          f\" --folding   output/{VERSION}/{VERSION}_folding.npy\"\\\n",
    "          \" --nfolds    5\"\n",
    "in_args = in_args.split()\n",
    "\n",
    "conf = parser.parse_args(in_args)\n",
    "conf_vars = vars(conf)\n",
    "print()\n",
    "print(f\" input parm - thresh  :   value: {conf_vars['thresh']}\")\n",
    "print(f\" input parm - clusters:   value: {conf_vars['clusters']}\")\n",
    "print(f\" input parm - compounds:  value: {conf_vars['compounds']}\")\n",
    "\n",
    "print(f\" input parm - nfolds:     value: {conf_vars['nfolds']}\")\n",
    "print(f\" output parm - y :        value: {conf_vars['y']}\")\n",
    "print(f\" output parm - folding:   value: {conf_vars['folding']}\")"
   ]
  },
  {
   "cell_type": "markdown",
   "id": "dab25d03",
   "metadata": {
    "ExecuteTime": {
     "end_time": "2021-08-31T04:13:39.003466Z",
     "start_time": "2021-08-31T04:13:37.018367Z"
    }
   },
   "source": [
    "### Load compound id / target id /  threshold file `output/chembl_29_thresh.csv`"
   ]
  },
  {
   "cell_type": "code",
   "execution_count": 6,
   "id": "718296c9",
   "metadata": {
    "ExecuteTime": {
     "end_time": "2022-08-03T07:53:19.984226Z",
     "start_time": "2022-08-03T07:53:17.774804Z"
    }
   },
   "outputs": [
    {
     "name": "stdout",
     "output_type": "stream",
     "text": [
      "             target_id        cmpd_id  task_group  variable  value\n",
      "0        CHEMBL1075097  CHEMBL1234777           1       5.5    1.0\n",
      "1        CHEMBL1075097  CHEMBL1812661           1       5.5    1.0\n",
      "2        CHEMBL1075097  CHEMBL1812662           1       5.5   -1.0\n",
      "3        CHEMBL1075097  CHEMBL2326084           1       5.5    1.0\n",
      "4        CHEMBL1075097  CHEMBL2326085           1       5.5    1.0\n",
      "...                ...            ...         ...       ...    ...\n",
      "2615830     CHEMBL6175  CHEMBL4646564         836       8.5   -1.0\n",
      "2615831     CHEMBL6175  CHEMBL4648732         836       8.5   -1.0\n",
      "2615832     CHEMBL6175  CHEMBL4649004         836       8.5   -1.0\n",
      "2615833     CHEMBL6175   CHEMBL578512         836       8.5   -1.0\n",
      "2615834     CHEMBL6175    CHEMBL90852         836       8.5   -1.0\n",
      "\n",
      "[2615835 rows x 5 columns]\n",
      "<class 'pandas.core.frame.DataFrame'>\n",
      "RangeIndex: 2615835 entries, 0 to 2615834\n",
      "Data columns (total 5 columns):\n",
      " #   Column      Dtype  \n",
      "---  ------      -----  \n",
      " 0   target_id   object \n",
      " 1   cmpd_id     object \n",
      " 2   task_group  int64  \n",
      " 3   variable    float64\n",
      " 4   value       float64\n",
      "dtypes: float64(2), int64(1), object(2)\n",
      "memory usage: 99.8+ MB\n"
     ]
    },
    {
     "data": {
      "text/plain": [
       "target_id        888\n",
       "cmpd_id       423809\n",
       "task_group        10\n",
       "variable           4\n",
       "value              2\n",
       "dtype: int64"
      ]
     },
     "execution_count": 6,
     "metadata": {},
     "output_type": "execute_result"
    }
   ],
   "source": [
    "df = pd.read_csv(conf.thresh)\n",
    "print(df)\n",
    "df.info()\n",
    "df.nunique()"
   ]
  },
  {
   "cell_type": "code",
   "execution_count": 7,
   "id": "94c0e343",
   "metadata": {
    "ExecuteTime": {
     "end_time": "2022-08-03T07:55:09.192342Z",
     "start_time": "2022-08-03T07:55:08.479353Z"
    },
    "scrolled": false
   },
   "outputs": [
    {
     "name": "stdout",
     "output_type": "stream",
     "text": [
      "Number of rows              : 2615835\n",
      "Number of unique targets    :     888   \n",
      "Number of unique compounds  :  423809   \n",
      "Number of unique thresholds :       4\n",
      "Number of unique task groups:      10\n",
      "Number of lables (targets x thresholds) :    3552\n"
     ]
    },
    {
     "data": {
      "text/plain": [
       "6       702358\n",
       "11      336268\n",
       "1028    323550\n",
       "1       310129\n",
       "0       270580\n",
       "10      155195\n",
       "1005    149430\n",
       "836     130131\n",
       "1031    126561\n",
       "643     111633\n",
       "Name: task_group, dtype: int64"
      ]
     },
     "execution_count": 7,
     "metadata": {},
     "output_type": "execute_result"
    }
   ],
   "source": [
    "print(f\"Number of rows              : {len(df):7d}\")\n",
    "print(f\"Number of unique targets    : {len(df['target_id'].unique()):7d}   \")\n",
    "print(f\"Number of unique compounds  : {len(df['cmpd_id'].unique()):7d}   \")\n",
    "print(f\"Number of unique thresholds : {len(df['variable'].unique()):7d}\")\n",
    "print(f\"Number of unique task groups: {len(df['task_group'].unique()):7d}\")\n",
    "print(f'Number of lables (targets x thresholds) : {len(df[\"target_id\"].unique()) * len(df[\"variable\"].unique()):7d}')\n",
    "\n",
    "df[\"task_group\"].value_counts(normalize = False)"
   ]
  },
  {
   "cell_type": "code",
   "execution_count": 8,
   "id": "95698cdb",
   "metadata": {
    "ExecuteTime": {
     "end_time": "2022-08-03T07:55:10.953821Z",
     "start_time": "2022-08-03T07:55:10.790021Z"
    }
   },
   "outputs": [
    {
     "data": {
      "text/html": [
       "<div>\n",
       "<style scoped>\n",
       "    .dataframe tbody tr th:only-of-type {\n",
       "        vertical-align: middle;\n",
       "    }\n",
       "\n",
       "    .dataframe tbody tr th {\n",
       "        vertical-align: top;\n",
       "    }\n",
       "\n",
       "    .dataframe thead th {\n",
       "        text-align: right;\n",
       "    }\n",
       "</style>\n",
       "<table border=\"1\" class=\"dataframe\">\n",
       "  <thead>\n",
       "    <tr style=\"text-align: right;\">\n",
       "      <th></th>\n",
       "      <th>target_id</th>\n",
       "      <th>cmpd_id</th>\n",
       "      <th>task_group</th>\n",
       "      <th>variable</th>\n",
       "      <th>value</th>\n",
       "    </tr>\n",
       "  </thead>\n",
       "  <tbody>\n",
       "    <tr>\n",
       "      <th>2040646</th>\n",
       "      <td>CHEMBL1938210</td>\n",
       "      <td>CHEMBL3621882</td>\n",
       "      <td>836</td>\n",
       "      <td>8.5</td>\n",
       "      <td>-1.0</td>\n",
       "    </tr>\n",
       "    <tr>\n",
       "      <th>2040647</th>\n",
       "      <td>CHEMBL1938210</td>\n",
       "      <td>CHEMBL3774537</td>\n",
       "      <td>836</td>\n",
       "      <td>8.5</td>\n",
       "      <td>-1.0</td>\n",
       "    </tr>\n",
       "    <tr>\n",
       "      <th>2040648</th>\n",
       "      <td>CHEMBL1938210</td>\n",
       "      <td>CHEMBL3774598</td>\n",
       "      <td>836</td>\n",
       "      <td>8.5</td>\n",
       "      <td>-1.0</td>\n",
       "    </tr>\n",
       "    <tr>\n",
       "      <th>2040649</th>\n",
       "      <td>CHEMBL1938210</td>\n",
       "      <td>CHEMBL3774692</td>\n",
       "      <td>836</td>\n",
       "      <td>8.5</td>\n",
       "      <td>-1.0</td>\n",
       "    </tr>\n",
       "    <tr>\n",
       "      <th>2040650</th>\n",
       "      <td>CHEMBL1938210</td>\n",
       "      <td>CHEMBL3774747</td>\n",
       "      <td>836</td>\n",
       "      <td>8.5</td>\n",
       "      <td>-1.0</td>\n",
       "    </tr>\n",
       "    <tr>\n",
       "      <th>2040651</th>\n",
       "      <td>CHEMBL1938210</td>\n",
       "      <td>CHEMBL3775262</td>\n",
       "      <td>836</td>\n",
       "      <td>8.5</td>\n",
       "      <td>-1.0</td>\n",
       "    </tr>\n",
       "    <tr>\n",
       "      <th>2040652</th>\n",
       "      <td>CHEMBL1938210</td>\n",
       "      <td>CHEMBL3775272</td>\n",
       "      <td>836</td>\n",
       "      <td>8.5</td>\n",
       "      <td>-1.0</td>\n",
       "    </tr>\n",
       "    <tr>\n",
       "      <th>2040653</th>\n",
       "      <td>CHEMBL1938210</td>\n",
       "      <td>CHEMBL3775380</td>\n",
       "      <td>836</td>\n",
       "      <td>8.5</td>\n",
       "      <td>-1.0</td>\n",
       "    </tr>\n",
       "    <tr>\n",
       "      <th>2040654</th>\n",
       "      <td>CHEMBL1938210</td>\n",
       "      <td>CHEMBL3775668</td>\n",
       "      <td>836</td>\n",
       "      <td>8.5</td>\n",
       "      <td>-1.0</td>\n",
       "    </tr>\n",
       "    <tr>\n",
       "      <th>2040655</th>\n",
       "      <td>CHEMBL1938210</td>\n",
       "      <td>CHEMBL3775867</td>\n",
       "      <td>836</td>\n",
       "      <td>8.5</td>\n",
       "      <td>-1.0</td>\n",
       "    </tr>\n",
       "    <tr>\n",
       "      <th>2040656</th>\n",
       "      <td>CHEMBL1938210</td>\n",
       "      <td>CHEMBL3775894</td>\n",
       "      <td>836</td>\n",
       "      <td>8.5</td>\n",
       "      <td>-1.0</td>\n",
       "    </tr>\n",
       "    <tr>\n",
       "      <th>2040657</th>\n",
       "      <td>CHEMBL1938210</td>\n",
       "      <td>CHEMBL3775899</td>\n",
       "      <td>836</td>\n",
       "      <td>8.5</td>\n",
       "      <td>-1.0</td>\n",
       "    </tr>\n",
       "    <tr>\n",
       "      <th>2040658</th>\n",
       "      <td>CHEMBL1938210</td>\n",
       "      <td>CHEMBL3775977</td>\n",
       "      <td>836</td>\n",
       "      <td>8.5</td>\n",
       "      <td>-1.0</td>\n",
       "    </tr>\n",
       "    <tr>\n",
       "      <th>2040659</th>\n",
       "      <td>CHEMBL1938210</td>\n",
       "      <td>CHEMBL3785164</td>\n",
       "      <td>836</td>\n",
       "      <td>8.5</td>\n",
       "      <td>-1.0</td>\n",
       "    </tr>\n",
       "    <tr>\n",
       "      <th>2040660</th>\n",
       "      <td>CHEMBL1938210</td>\n",
       "      <td>CHEMBL3785984</td>\n",
       "      <td>836</td>\n",
       "      <td>8.5</td>\n",
       "      <td>-1.0</td>\n",
       "    </tr>\n",
       "    <tr>\n",
       "      <th>2040661</th>\n",
       "      <td>CHEMBL1938210</td>\n",
       "      <td>CHEMBL3786952</td>\n",
       "      <td>836</td>\n",
       "      <td>8.5</td>\n",
       "      <td>-1.0</td>\n",
       "    </tr>\n",
       "    <tr>\n",
       "      <th>2040662</th>\n",
       "      <td>CHEMBL1938210</td>\n",
       "      <td>CHEMBL4283409</td>\n",
       "      <td>836</td>\n",
       "      <td>8.5</td>\n",
       "      <td>-1.0</td>\n",
       "    </tr>\n",
       "    <tr>\n",
       "      <th>2040663</th>\n",
       "      <td>CHEMBL1938210</td>\n",
       "      <td>CHEMBL4288093</td>\n",
       "      <td>836</td>\n",
       "      <td>8.5</td>\n",
       "      <td>-1.0</td>\n",
       "    </tr>\n",
       "    <tr>\n",
       "      <th>2040664</th>\n",
       "      <td>CHEMBL1938210</td>\n",
       "      <td>CHEMBL4294926</td>\n",
       "      <td>836</td>\n",
       "      <td>8.5</td>\n",
       "      <td>-1.0</td>\n",
       "    </tr>\n",
       "    <tr>\n",
       "      <th>2040665</th>\n",
       "      <td>CHEMBL1938210</td>\n",
       "      <td>CHEMBL4447515</td>\n",
       "      <td>836</td>\n",
       "      <td>8.5</td>\n",
       "      <td>-1.0</td>\n",
       "    </tr>\n",
       "    <tr>\n",
       "      <th>2040666</th>\n",
       "      <td>CHEMBL1938210</td>\n",
       "      <td>CHEMBL4449500</td>\n",
       "      <td>836</td>\n",
       "      <td>8.5</td>\n",
       "      <td>-1.0</td>\n",
       "    </tr>\n",
       "    <tr>\n",
       "      <th>2040667</th>\n",
       "      <td>CHEMBL1938210</td>\n",
       "      <td>CHEMBL4516101</td>\n",
       "      <td>836</td>\n",
       "      <td>8.5</td>\n",
       "      <td>-1.0</td>\n",
       "    </tr>\n",
       "    <tr>\n",
       "      <th>2040668</th>\n",
       "      <td>CHEMBL1938210</td>\n",
       "      <td>CHEMBL4525269</td>\n",
       "      <td>836</td>\n",
       "      <td>8.5</td>\n",
       "      <td>-1.0</td>\n",
       "    </tr>\n",
       "    <tr>\n",
       "      <th>2040669</th>\n",
       "      <td>CHEMBL1938210</td>\n",
       "      <td>CHEMBL4536443</td>\n",
       "      <td>836</td>\n",
       "      <td>8.5</td>\n",
       "      <td>-1.0</td>\n",
       "    </tr>\n",
       "    <tr>\n",
       "      <th>2040670</th>\n",
       "      <td>CHEMBL1938210</td>\n",
       "      <td>CHEMBL4542928</td>\n",
       "      <td>836</td>\n",
       "      <td>8.5</td>\n",
       "      <td>-1.0</td>\n",
       "    </tr>\n",
       "    <tr>\n",
       "      <th>2040671</th>\n",
       "      <td>CHEMBL1938210</td>\n",
       "      <td>CHEMBL4585876</td>\n",
       "      <td>836</td>\n",
       "      <td>8.5</td>\n",
       "      <td>-1.0</td>\n",
       "    </tr>\n",
       "    <tr>\n",
       "      <th>2040672</th>\n",
       "      <td>CHEMBL1938210</td>\n",
       "      <td>CHEMBL4592908</td>\n",
       "      <td>836</td>\n",
       "      <td>8.5</td>\n",
       "      <td>-1.0</td>\n",
       "    </tr>\n",
       "    <tr>\n",
       "      <th>2040673</th>\n",
       "      <td>CHEMBL1938210</td>\n",
       "      <td>CHEMBL4646431</td>\n",
       "      <td>836</td>\n",
       "      <td>8.5</td>\n",
       "      <td>-1.0</td>\n",
       "    </tr>\n",
       "    <tr>\n",
       "      <th>2040674</th>\n",
       "      <td>CHEMBL1938210</td>\n",
       "      <td>CHEMBL51979</td>\n",
       "      <td>836</td>\n",
       "      <td>8.5</td>\n",
       "      <td>-1.0</td>\n",
       "    </tr>\n",
       "    <tr>\n",
       "      <th>2040675</th>\n",
       "      <td>CHEMBL1938210</td>\n",
       "      <td>CHEMBL90852</td>\n",
       "      <td>836</td>\n",
       "      <td>8.5</td>\n",
       "      <td>-1.0</td>\n",
       "    </tr>\n",
       "  </tbody>\n",
       "</table>\n",
       "</div>"
      ],
      "text/plain": [
       "             target_id        cmpd_id  task_group  variable  value\n",
       "2040646  CHEMBL1938210  CHEMBL3621882         836       8.5   -1.0\n",
       "2040647  CHEMBL1938210  CHEMBL3774537         836       8.5   -1.0\n",
       "2040648  CHEMBL1938210  CHEMBL3774598         836       8.5   -1.0\n",
       "2040649  CHEMBL1938210  CHEMBL3774692         836       8.5   -1.0\n",
       "2040650  CHEMBL1938210  CHEMBL3774747         836       8.5   -1.0\n",
       "2040651  CHEMBL1938210  CHEMBL3775262         836       8.5   -1.0\n",
       "2040652  CHEMBL1938210  CHEMBL3775272         836       8.5   -1.0\n",
       "2040653  CHEMBL1938210  CHEMBL3775380         836       8.5   -1.0\n",
       "2040654  CHEMBL1938210  CHEMBL3775668         836       8.5   -1.0\n",
       "2040655  CHEMBL1938210  CHEMBL3775867         836       8.5   -1.0\n",
       "2040656  CHEMBL1938210  CHEMBL3775894         836       8.5   -1.0\n",
       "2040657  CHEMBL1938210  CHEMBL3775899         836       8.5   -1.0\n",
       "2040658  CHEMBL1938210  CHEMBL3775977         836       8.5   -1.0\n",
       "2040659  CHEMBL1938210  CHEMBL3785164         836       8.5   -1.0\n",
       "2040660  CHEMBL1938210  CHEMBL3785984         836       8.5   -1.0\n",
       "2040661  CHEMBL1938210  CHEMBL3786952         836       8.5   -1.0\n",
       "2040662  CHEMBL1938210  CHEMBL4283409         836       8.5   -1.0\n",
       "2040663  CHEMBL1938210  CHEMBL4288093         836       8.5   -1.0\n",
       "2040664  CHEMBL1938210  CHEMBL4294926         836       8.5   -1.0\n",
       "2040665  CHEMBL1938210  CHEMBL4447515         836       8.5   -1.0\n",
       "2040666  CHEMBL1938210  CHEMBL4449500         836       8.5   -1.0\n",
       "2040667  CHEMBL1938210  CHEMBL4516101         836       8.5   -1.0\n",
       "2040668  CHEMBL1938210  CHEMBL4525269         836       8.5   -1.0\n",
       "2040669  CHEMBL1938210  CHEMBL4536443         836       8.5   -1.0\n",
       "2040670  CHEMBL1938210  CHEMBL4542928         836       8.5   -1.0\n",
       "2040671  CHEMBL1938210  CHEMBL4585876         836       8.5   -1.0\n",
       "2040672  CHEMBL1938210  CHEMBL4592908         836       8.5   -1.0\n",
       "2040673  CHEMBL1938210  CHEMBL4646431         836       8.5   -1.0\n",
       "2040674  CHEMBL1938210    CHEMBL51979         836       8.5   -1.0\n",
       "2040675  CHEMBL1938210    CHEMBL90852         836       8.5   -1.0"
      ]
     },
     "execution_count": 8,
     "metadata": {},
     "output_type": "execute_result"
    }
   ],
   "source": [
    "disp = df[df['target_id'] == 'CHEMBL1938210']\n",
    "disp[-30:]"
   ]
  },
  {
   "cell_type": "markdown",
   "id": "3fb36147",
   "metadata": {
    "ExecuteTime": {
     "end_time": "2021-08-31T04:14:23.050728Z",
     "start_time": "2021-08-31T04:14:22.783660Z"
    }
   },
   "source": [
    "### Load compound list `output/chembl_29_X_cmpds.csv`"
   ]
  },
  {
   "cell_type": "code",
   "execution_count": 9,
   "id": "452a7132",
   "metadata": {
    "ExecuteTime": {
     "end_time": "2022-08-03T07:55:24.400256Z",
     "start_time": "2022-08-03T07:55:24.029834Z"
    }
   },
   "outputs": [
    {
     "name": "stdout",
     "output_type": "stream",
     "text": [
      "<class 'pandas.core.frame.DataFrame'>\n",
      "RangeIndex: 423737 entries, 0 to 423736\n",
      "Data columns (total 2 columns):\n",
      " #   Column  Non-Null Count   Dtype \n",
      "---  ------  --------------   ----- \n",
      " 0   0       423737 non-null  int64 \n",
      " 1   1       423737 non-null  object\n",
      "dtypes: int64(1), object(1)\n",
      "memory usage: 6.5+ MB\n",
      "length of cmpd_list:  423737\n",
      "                    1\n",
      "0        CHEMBL405398\n",
      "1        CHEMBL403325\n",
      "2        CHEMBL501943\n",
      "3        CHEMBL501094\n",
      "4        CHEMBL505943\n",
      "...               ...\n",
      "423732  CHEMBL4297644\n",
      "423733  CHEMBL4297666\n",
      "423734  CHEMBL4297674\n",
      "423735  CHEMBL4298138\n",
      "423736  CHEMBL4298140\n",
      "\n",
      "[423737 rows x 1 columns]\n",
      "\n"
     ]
    }
   ],
   "source": [
    "cmpd_list = pd.read_csv(conf.compounds, header=None)\n",
    "cmpd_list.info()\n",
    "cmpd_list.nunique()\n",
    "cmpd_list.drop(columns=0, inplace = True)\n",
    "\n",
    "print(f\"length of cmpd_list:  {len(cmpd_list)}\")\n",
    "print(cmpd_list)\n",
    "print()"
   ]
  },
  {
   "cell_type": "code",
   "execution_count": 10,
   "id": "1df0add7",
   "metadata": {
    "ExecuteTime": {
     "end_time": "2022-08-03T07:55:36.524797Z",
     "start_time": "2022-08-03T07:55:36.487816Z"
    }
   },
   "outputs": [
    {
     "name": "stdout",
     "output_type": "stream",
     "text": [
      "Size of cmpd_list: 423737\n",
      "                    1     cid\n",
      "0        CHEMBL405398       0\n",
      "1        CHEMBL403325       1\n",
      "2        CHEMBL501943       2\n",
      "3        CHEMBL501094       3\n",
      "4        CHEMBL505943       4\n",
      "...               ...     ...\n",
      "423732  CHEMBL4297644  423732\n",
      "423733  CHEMBL4297666  423733\n",
      "423734  CHEMBL4297674  423734\n",
      "423735  CHEMBL4298138  423735\n",
      "423736  CHEMBL4298140  423736\n",
      "\n",
      "[423737 rows x 2 columns]\n"
     ]
    }
   ],
   "source": [
    "cmpd_list[\"cid\"] = range(len(cmpd_list))\n",
    "print(f\"Size of cmpd_list: {len(cmpd_list)}\") \n",
    "print(cmpd_list)"
   ]
  },
  {
   "cell_type": "markdown",
   "id": "8ed52a40",
   "metadata": {},
   "source": [
    "### Load the clustering info `output/clustering.npy`"
   ]
  },
  {
   "cell_type": "code",
   "execution_count": 11,
   "id": "31f34cdf",
   "metadata": {
    "ExecuteTime": {
     "end_time": "2022-08-03T07:55:40.551372Z",
     "start_time": "2022-08-03T07:55:40.534474Z"
    }
   },
   "outputs": [
    {
     "name": "stdout",
     "output_type": "stream",
     "text": [
      "423737 [11919 11919 22648 ... 10256 26021 11919]\n"
     ]
    }
   ],
   "source": [
    "#Load the clustering assignment\n",
    "clusters = np.load(conf.clusters, allow_pickle=True)\n",
    "print(len(clusters), clusters)"
   ]
  },
  {
   "cell_type": "code",
   "execution_count": 12,
   "id": "c2935dc1",
   "metadata": {
    "ExecuteTime": {
     "end_time": "2022-08-03T07:56:34.131328Z",
     "start_time": "2022-08-03T07:56:34.117435Z"
    }
   },
   "outputs": [],
   "source": [
    "assert len(clusters) == len(cmpd_list), \"Number of compound must agree with the size of clustering vector\""
   ]
  },
  {
   "cell_type": "markdown",
   "id": "c57bc016",
   "metadata": {},
   "source": [
    "### Check length of cluster list and compute `Ncmpd` and `Ncol`"
   ]
  },
  {
   "cell_type": "code",
   "execution_count": 13,
   "id": "dda5e09a",
   "metadata": {
    "ExecuteTime": {
     "end_time": "2022-08-03T07:56:35.101710Z",
     "start_time": "2022-08-03T07:56:34.677189Z"
    }
   },
   "outputs": [
    {
     "name": "stdout",
     "output_type": "stream",
     "text": [
      "\n",
      " # of compounds Ncmpd: 423737    \n",
      " # of columns   Ncol : (# unique target_ids x # unique thresholds ) = (888 x 4): 3552\n"
     ]
    }
   ],
   "source": [
    "print()\n",
    "Ncmpd = len(set(cmpd_list['cid']))\n",
    "Ncol  = len(df[\"target_id\"].unique()) * len(df[\"variable\"].unique())\n",
    "\n",
    "\n",
    "print(f\" # of compounds Ncmpd: {Ncmpd}    \")\n",
    "print(f\" # of columns   Ncol : (# unique target_ids x # unique thresholds ) = ({len(df['target_id'].unique())} x {len(df['variable'].unique())}): {Ncol}\")"
   ]
  },
  {
   "cell_type": "markdown",
   "id": "43cf11c9",
   "metadata": {},
   "source": [
    "### Create dataframe of unique target_ids "
   ]
  },
  {
   "cell_type": "code",
   "execution_count": 14,
   "id": "c11ce3a7",
   "metadata": {
    "ExecuteTime": {
     "end_time": "2022-08-03T07:57:07.005249Z",
     "start_time": "2022-08-03T07:57:06.853793Z"
    }
   },
   "outputs": [
    {
     "name": "stdout",
     "output_type": "stream",
     "text": [
      "                 0  tid\n",
      "0    CHEMBL1075097    0\n",
      "1    CHEMBL1075104    1\n",
      "2    CHEMBL1075138    2\n",
      "3    CHEMBL1075145    3\n",
      "4    CHEMBL1075165    4\n",
      "..             ...  ...\n",
      "883     CHEMBL6154  883\n",
      "884     CHEMBL6164  884\n",
      "885     CHEMBL6166  885\n",
      "886     CHEMBL6167  886\n",
      "887     CHEMBL6175  887\n",
      "\n",
      "[888 rows x 2 columns]\n"
     ]
    }
   ],
   "source": [
    "target_list = pd.DataFrame(df[\"target_id\"].unique())\n",
    "target_list[\"tid\"] = range(len(target_list))\n",
    "print(target_list)"
   ]
  },
  {
   "cell_type": "markdown",
   "id": "dbd0e00b",
   "metadata": {},
   "source": [
    "### create data frame of unique thresholds"
   ]
  },
  {
   "cell_type": "code",
   "execution_count": 15,
   "id": "a657a1ac",
   "metadata": {
    "ExecuteTime": {
     "end_time": "2022-08-03T07:57:10.830105Z",
     "start_time": "2022-08-03T07:57:10.781519Z"
    }
   },
   "outputs": [
    {
     "name": "stdout",
     "output_type": "stream",
     "text": [
      "     0  vid\n",
      "0  5.5    0\n",
      "1  6.5    1\n",
      "2  7.5    2\n",
      "3  8.5    3\n",
      " len(variable_list) : 4\n"
     ]
    }
   ],
   "source": [
    "variable_list = pd.DataFrame(df[\"variable\"].unique())\n",
    "variable_list[\"vid\"] = range(len(variable_list))\n",
    "print(variable_list)\n",
    "\n",
    "Nvar = len(variable_list)\n",
    "print(f\" len(variable_list) : {Nvar}\")"
   ]
  },
  {
   "cell_type": "markdown",
   "id": "c9a65523",
   "metadata": {},
   "source": [
    "### `tmp1` : Add unique compound identifier to tmp1 "
   ]
  },
  {
   "cell_type": "code",
   "execution_count": 16,
   "id": "b6fc002c",
   "metadata": {
    "ExecuteTime": {
     "end_time": "2022-08-03T07:57:14.445817Z",
     "start_time": "2022-08-03T07:57:14.395518Z"
    }
   },
   "outputs": [
    {
     "name": "stdout",
     "output_type": "stream",
     "text": [
      "<class 'pandas.core.frame.DataFrame'>\n",
      "RangeIndex: 2615835 entries, 0 to 2615834\n",
      "Data columns (total 5 columns):\n",
      " #   Column      Dtype  \n",
      "---  ------      -----  \n",
      " 0   target_id   object \n",
      " 1   cmpd_id     object \n",
      " 2   task_group  int64  \n",
      " 3   variable    float64\n",
      " 4   value       float64\n",
      "dtypes: float64(2), int64(1), object(2)\n",
      "memory usage: 99.8+ MB\n",
      "None\n",
      "\n",
      "<class 'pandas.core.frame.DataFrame'>\n",
      "RangeIndex: 423737 entries, 0 to 423736\n",
      "Data columns (total 2 columns):\n",
      " #   Column  Non-Null Count   Dtype \n",
      "---  ------  --------------   ----- \n",
      " 0   1       423737 non-null  object\n",
      " 1   cid     423737 non-null  int64 \n",
      "dtypes: int64(1), object(1)\n",
      "memory usage: 6.5+ MB\n",
      "None\n",
      "\n",
      "             target_id        cmpd_id  task_group  variable  value\n",
      "0        CHEMBL1075097  CHEMBL1234777           1       5.5    1.0\n",
      "1        CHEMBL1075097  CHEMBL1812661           1       5.5    1.0\n",
      "2        CHEMBL1075097  CHEMBL1812662           1       5.5   -1.0\n",
      "3        CHEMBL1075097  CHEMBL2326084           1       5.5    1.0\n",
      "4        CHEMBL1075097  CHEMBL2326085           1       5.5    1.0\n",
      "...                ...            ...         ...       ...    ...\n",
      "2615830     CHEMBL6175  CHEMBL4646564         836       8.5   -1.0\n",
      "2615831     CHEMBL6175  CHEMBL4648732         836       8.5   -1.0\n",
      "2615832     CHEMBL6175  CHEMBL4649004         836       8.5   -1.0\n",
      "2615833     CHEMBL6175   CHEMBL578512         836       8.5   -1.0\n",
      "2615834     CHEMBL6175    CHEMBL90852         836       8.5   -1.0\n",
      "\n",
      "[2615835 rows x 5 columns]\n",
      "\n",
      "                    1     cid\n",
      "0        CHEMBL405398       0\n",
      "1        CHEMBL403325       1\n",
      "2        CHEMBL501943       2\n",
      "3        CHEMBL501094       3\n",
      "4        CHEMBL505943       4\n",
      "...               ...     ...\n",
      "423732  CHEMBL4297644  423732\n",
      "423733  CHEMBL4297666  423733\n",
      "423734  CHEMBL4297674  423734\n",
      "423735  CHEMBL4298138  423735\n",
      "423736  CHEMBL4298140  423736\n",
      "\n",
      "[423737 rows x 2 columns]\n"
     ]
    }
   ],
   "source": [
    "print(df.info())\n",
    "print()\n",
    "print(cmpd_list.info())\n",
    "print()\n",
    "print(df)\n",
    "print()\n",
    "print(cmpd_list)"
   ]
  },
  {
   "cell_type": "code",
   "execution_count": 17,
   "id": "ded37144",
   "metadata": {
    "ExecuteTime": {
     "end_time": "2022-08-03T07:57:50.572019Z",
     "start_time": "2022-08-03T07:57:49.557506Z"
    }
   },
   "outputs": [],
   "source": [
    "tmp1 = pd.merge(df, cmpd_list, left_on=\"cmpd_id\", right_on=1)"
   ]
  },
  {
   "cell_type": "code",
   "execution_count": 18,
   "id": "659d3267",
   "metadata": {
    "ExecuteTime": {
     "end_time": "2022-08-03T07:57:52.008994Z",
     "start_time": "2022-08-03T07:57:51.167394Z"
    }
   },
   "outputs": [
    {
     "name": "stdout",
     "output_type": "stream",
     "text": [
      "<class 'pandas.core.frame.DataFrame'>\n",
      "Int64Index: 2615084 entries, 0 to 2615083\n",
      "Data columns (total 7 columns):\n",
      " #   Column      Dtype  \n",
      "---  ------      -----  \n",
      " 0   target_id   object \n",
      " 1   cmpd_id     object \n",
      " 2   task_group  int64  \n",
      " 3   variable    float64\n",
      " 4   value       float64\n",
      " 5   1           object \n",
      " 6   cid         int64  \n",
      "dtypes: float64(2), int64(2), object(3)\n",
      "memory usage: 159.6+ MB\n",
      "None\n",
      "target_id        888\n",
      "cmpd_id       423737\n",
      "task_group        10\n",
      "variable           4\n",
      "value              2\n",
      "1             423737\n",
      "cid           423737\n",
      "dtype: int64\n",
      "             target_id        cmpd_id  task_group  variable  value              1     cid\n",
      "0        CHEMBL1075097  CHEMBL1234777           1       5.5    1.0  CHEMBL1234777  173927\n",
      "1        CHEMBL1075097  CHEMBL1234777           1       6.5   -1.0  CHEMBL1234777  173927\n",
      "2        CHEMBL1075097  CHEMBL1234777           1       7.5   -1.0  CHEMBL1234777  173927\n",
      "3        CHEMBL1075097  CHEMBL1234777           1       8.5   -1.0  CHEMBL1234777  173927\n",
      "4        CHEMBL1075097  CHEMBL1812661           1       5.5    1.0  CHEMBL1812661  150148\n",
      "...                ...            ...         ...       ...    ...            ...     ...\n",
      "2615079     CHEMBL5113  CHEMBL4647127          11       8.5   -1.0  CHEMBL4647127  145687\n",
      "2615080     CHEMBL5141  CHEMBL2147092        1031       8.5   -1.0  CHEMBL2147092  227992\n",
      "2615081     CHEMBL5145  CHEMBL3754116           6       8.5   -1.0  CHEMBL3754116  328259\n",
      "2615082     CHEMBL5406   CHEMBL570550         836       8.5   -1.0   CHEMBL570550  140043\n",
      "2615083     CHEMBL5406   CHEMBL571217         836       8.5   -1.0   CHEMBL571217  139232\n",
      "\n",
      "[2615084 rows x 7 columns]\n"
     ]
    }
   ],
   "source": [
    "print(tmp1.info())\n",
    "print(tmp1.nunique())\n",
    "print(tmp1)"
   ]
  },
  {
   "cell_type": "code",
   "execution_count": 18,
   "id": "c281533d",
   "metadata": {
    "ExecuteTime": {
     "end_time": "2022-08-02T09:59:09.530689Z",
     "start_time": "2022-08-02T09:59:09.511704Z"
    }
   },
   "outputs": [],
   "source": [
    "# cid_value_counts = tmp2['cid'].value_counts()\n",
    "# print(f'cid value counts : {cid_value_counts.shape} \\n')\n",
    "# print(cid_value_counts)\n",
    "# print(f\"\\nNumber of unqiue cids:  {tmp2['cid'].nunique()}\")"
   ]
  },
  {
   "cell_type": "code",
   "execution_count": 19,
   "id": "fa3fd446",
   "metadata": {
    "ExecuteTime": {
     "end_time": "2022-08-03T07:59:22.240097Z",
     "start_time": "2022-08-03T07:59:14.519327Z"
    }
   },
   "outputs": [],
   "source": [
    "tmp1.to_csv('Step40/1_merge_with_cmpd_id.csv')"
   ]
  },
  {
   "cell_type": "markdown",
   "id": "fc1365f7",
   "metadata": {},
   "source": [
    "### `tmp2` : add unique threshold identifier to tmp2"
   ]
  },
  {
   "cell_type": "code",
   "execution_count": 20,
   "id": "cb3914c1",
   "metadata": {
    "ExecuteTime": {
     "end_time": "2022-08-03T08:00:37.517516Z",
     "start_time": "2022-08-03T08:00:37.502857Z"
    }
   },
   "outputs": [],
   "source": [
    "# tmp1 = pd.read_csv('Step40/1_merge_with_cmpd_id.csv')"
   ]
  },
  {
   "cell_type": "code",
   "execution_count": 23,
   "id": "f79aee58",
   "metadata": {
    "ExecuteTime": {
     "end_time": "2022-08-03T08:01:21.917093Z",
     "start_time": "2022-08-03T08:01:21.884280Z"
    }
   },
   "outputs": [
    {
     "name": "stdout",
     "output_type": "stream",
     "text": [
      "<class 'pandas.core.frame.DataFrame'>\n",
      "RangeIndex: 4 entries, 0 to 3\n",
      "Data columns (total 2 columns):\n",
      " #   Column  Non-Null Count  Dtype  \n",
      "---  ------  --------------  -----  \n",
      " 0   0       4 non-null      float64\n",
      " 1   vid     4 non-null      int64  \n",
      "dtypes: float64(1), int64(1)\n",
      "memory usage: 192.0 bytes\n",
      "\n",
      "     0  vid\n",
      "0  5.5    0\n",
      "1  6.5    1\n",
      "2  7.5    2\n",
      "3  8.5    3\n",
      "=======================================\n",
      "<class 'pandas.core.frame.DataFrame'>\n",
      "Int64Index: 2615084 entries, 0 to 2615083\n",
      "Data columns (total 7 columns):\n",
      " #   Column      Dtype  \n",
      "---  ------      -----  \n",
      " 0   target_id   object \n",
      " 1   cmpd_id     object \n",
      " 2   task_group  int64  \n",
      " 3   variable    float64\n",
      " 4   value       float64\n",
      " 5   1           object \n",
      " 6   cid         int64  \n",
      "dtypes: float64(2), int64(2), object(3)\n",
      "memory usage: 159.6+ MB\n",
      "\n",
      "             target_id        cmpd_id  task_group  variable  value              1     cid\n",
      "0        CHEMBL1075097  CHEMBL1234777           1       5.5    1.0  CHEMBL1234777  173927\n",
      "1        CHEMBL1075097  CHEMBL1234777           1       6.5   -1.0  CHEMBL1234777  173927\n",
      "2        CHEMBL1075097  CHEMBL1234777           1       7.5   -1.0  CHEMBL1234777  173927\n",
      "3        CHEMBL1075097  CHEMBL1234777           1       8.5   -1.0  CHEMBL1234777  173927\n",
      "4        CHEMBL1075097  CHEMBL1812661           1       5.5    1.0  CHEMBL1812661  150148\n",
      "...                ...            ...         ...       ...    ...            ...     ...\n",
      "2615079     CHEMBL5113  CHEMBL4647127          11       8.5   -1.0  CHEMBL4647127  145687\n",
      "2615080     CHEMBL5141  CHEMBL2147092        1031       8.5   -1.0  CHEMBL2147092  227992\n",
      "2615081     CHEMBL5145  CHEMBL3754116           6       8.5   -1.0  CHEMBL3754116  328259\n",
      "2615082     CHEMBL5406   CHEMBL570550         836       8.5   -1.0   CHEMBL570550  140043\n",
      "2615083     CHEMBL5406   CHEMBL571217         836       8.5   -1.0   CHEMBL571217  139232\n",
      "\n",
      "[2615084 rows x 7 columns]\n"
     ]
    }
   ],
   "source": [
    "variable_list.info()\n",
    "print()\n",
    "print(variable_list)\n",
    "print('=======================================')\n",
    "tmp1.info()\n",
    "print()\n",
    "print(tmp1)"
   ]
  },
  {
   "cell_type": "code",
   "execution_count": 24,
   "id": "9a9ef260",
   "metadata": {
    "ExecuteTime": {
     "end_time": "2022-08-03T08:01:58.658872Z",
     "start_time": "2022-08-03T08:01:58.072927Z"
    }
   },
   "outputs": [],
   "source": [
    "tmp2 = pd.merge(tmp1, variable_list, left_on=\"variable\", right_on=0) "
   ]
  },
  {
   "cell_type": "code",
   "execution_count": 25,
   "id": "10dfc8e2",
   "metadata": {
    "ExecuteTime": {
     "end_time": "2022-08-03T08:02:07.186420Z",
     "start_time": "2022-08-03T08:02:06.090320Z"
    }
   },
   "outputs": [
    {
     "name": "stdout",
     "output_type": "stream",
     "text": [
      "<class 'pandas.core.frame.DataFrame'>\n",
      "Int64Index: 2615084 entries, 0 to 2615083\n",
      "Data columns (total 9 columns):\n",
      " #   Column      Dtype  \n",
      "---  ------      -----  \n",
      " 0   target_id   object \n",
      " 1   cmpd_id     object \n",
      " 2   task_group  int64  \n",
      " 3   variable    float64\n",
      " 4   value       float64\n",
      " 5   1           object \n",
      " 6   cid         int64  \n",
      " 7   0           float64\n",
      " 8   vid         int64  \n",
      "dtypes: float64(3), int64(3), object(3)\n",
      "memory usage: 199.5+ MB\n",
      "\n",
      "target_id        888\n",
      "cmpd_id       423737\n",
      "task_group        10\n",
      "variable           4\n",
      "value              2\n",
      "1             423737\n",
      "cid           423737\n",
      "0                  4\n",
      "vid                4\n",
      "dtype: int64\n",
      "\n",
      "             target_id        cmpd_id  task_group  variable  value              1     cid    0  vid\n",
      "0        CHEMBL1075097  CHEMBL1234777           1       5.5    1.0  CHEMBL1234777  173927  5.5    0\n",
      "1        CHEMBL1075097  CHEMBL1812661           1       5.5    1.0  CHEMBL1812661  150148  5.5    0\n",
      "2        CHEMBL1075097  CHEMBL1812662           1       5.5   -1.0  CHEMBL1812662  143524  5.5    0\n",
      "3        CHEMBL1075097  CHEMBL2326084           1       5.5    1.0  CHEMBL2326084  233209  5.5    0\n",
      "4        CHEMBL1075097  CHEMBL2326085           1       5.5    1.0  CHEMBL2326085  237772  5.5    0\n",
      "...                ...            ...         ...       ...    ...            ...     ...  ...  ...\n",
      "2615079     CHEMBL5113  CHEMBL4647127          11       8.5   -1.0  CHEMBL4647127  145687  8.5    3\n",
      "2615080     CHEMBL5141  CHEMBL2147092        1031       8.5   -1.0  CHEMBL2147092  227992  8.5    3\n",
      "2615081     CHEMBL5145  CHEMBL3754116           6       8.5   -1.0  CHEMBL3754116  328259  8.5    3\n",
      "2615082     CHEMBL5406   CHEMBL570550         836       8.5   -1.0   CHEMBL570550  140043  8.5    3\n",
      "2615083     CHEMBL5406   CHEMBL571217         836       8.5   -1.0   CHEMBL571217  139232  8.5    3\n",
      "\n",
      "[2615084 rows x 9 columns]\n"
     ]
    }
   ],
   "source": [
    "tmp2.info()\n",
    "print()\n",
    "print(tmp2.nunique())\n",
    "print()\n",
    "print(tmp2)"
   ]
  },
  {
   "cell_type": "code",
   "execution_count": 26,
   "id": "41a97e74",
   "metadata": {
    "ExecuteTime": {
     "end_time": "2022-08-03T08:02:50.677226Z",
     "start_time": "2022-08-03T08:02:40.600547Z"
    }
   },
   "outputs": [],
   "source": [
    "tmp2.to_csv('Step40/2_merge_with_variable_list.csv')"
   ]
  },
  {
   "cell_type": "markdown",
   "id": "bc973db2",
   "metadata": {},
   "source": [
    "### `join` : Add unique target identifier to dataframe"
   ]
  },
  {
   "cell_type": "code",
   "execution_count": 27,
   "id": "3dd13563",
   "metadata": {
    "ExecuteTime": {
     "end_time": "2022-08-03T08:13:58.061343Z",
     "start_time": "2022-08-03T08:13:58.048153Z"
    }
   },
   "outputs": [],
   "source": [
    "# tmp2 = pd.read_csv('Step40/2_merge_with_variable_list.csv')"
   ]
  },
  {
   "cell_type": "code",
   "execution_count": 29,
   "id": "22c384f1",
   "metadata": {
    "ExecuteTime": {
     "end_time": "2022-08-03T08:14:21.988746Z",
     "start_time": "2022-08-03T08:14:21.925916Z"
    }
   },
   "outputs": [
    {
     "name": "stdout",
     "output_type": "stream",
     "text": [
      "<class 'pandas.core.frame.DataFrame'>\n",
      "RangeIndex: 888 entries, 0 to 887\n",
      "Data columns (total 2 columns):\n",
      " #   Column  Non-Null Count  Dtype \n",
      "---  ------  --------------  ----- \n",
      " 0   0       888 non-null    object\n",
      " 1   tid     888 non-null    int64 \n",
      "dtypes: int64(1), object(1)\n",
      "memory usage: 14.0+ KB\n",
      "None\n",
      "\n",
      "                 0  tid\n",
      "0    CHEMBL1075097    0\n",
      "1    CHEMBL1075104    1\n",
      "2    CHEMBL1075138    2\n",
      "3    CHEMBL1075145    3\n",
      "4    CHEMBL1075165    4\n",
      "..             ...  ...\n",
      "883     CHEMBL6154  883\n",
      "884     CHEMBL6164  884\n",
      "885     CHEMBL6166  885\n",
      "886     CHEMBL6167  886\n",
      "887     CHEMBL6175  887\n",
      "\n",
      "[888 rows x 2 columns]\n",
      "===============================================\n",
      "<class 'pandas.core.frame.DataFrame'>\n",
      "Int64Index: 2615084 entries, 0 to 2615083\n",
      "Data columns (total 9 columns):\n",
      " #   Column      Dtype  \n",
      "---  ------      -----  \n",
      " 0   target_id   object \n",
      " 1   cmpd_id     object \n",
      " 2   task_group  int64  \n",
      " 3   variable    float64\n",
      " 4   value       float64\n",
      " 5   1           object \n",
      " 6   cid         int64  \n",
      " 7   0           float64\n",
      " 8   vid         int64  \n",
      "dtypes: float64(3), int64(3), object(3)\n",
      "memory usage: 199.5+ MB\n",
      "None\n",
      "             target_id        cmpd_id  task_group  variable  value              1     cid    0  vid\n",
      "0        CHEMBL1075097  CHEMBL1234777           1       5.5    1.0  CHEMBL1234777  173927  5.5    0\n",
      "1        CHEMBL1075097  CHEMBL1812661           1       5.5    1.0  CHEMBL1812661  150148  5.5    0\n",
      "2        CHEMBL1075097  CHEMBL1812662           1       5.5   -1.0  CHEMBL1812662  143524  5.5    0\n",
      "3        CHEMBL1075097  CHEMBL2326084           1       5.5    1.0  CHEMBL2326084  233209  5.5    0\n",
      "4        CHEMBL1075097  CHEMBL2326085           1       5.5    1.0  CHEMBL2326085  237772  5.5    0\n",
      "...                ...            ...         ...       ...    ...            ...     ...  ...  ...\n",
      "2615079     CHEMBL5113  CHEMBL4647127          11       8.5   -1.0  CHEMBL4647127  145687  8.5    3\n",
      "2615080     CHEMBL5141  CHEMBL2147092        1031       8.5   -1.0  CHEMBL2147092  227992  8.5    3\n",
      "2615081     CHEMBL5145  CHEMBL3754116           6       8.5   -1.0  CHEMBL3754116  328259  8.5    3\n",
      "2615082     CHEMBL5406   CHEMBL570550         836       8.5   -1.0   CHEMBL570550  140043  8.5    3\n",
      "2615083     CHEMBL5406   CHEMBL571217         836       8.5   -1.0   CHEMBL571217  139232  8.5    3\n",
      "\n",
      "[2615084 rows x 9 columns]\n"
     ]
    }
   ],
   "source": [
    "print(target_list.info())\n",
    "print()\n",
    "print(target_list)\n",
    "print(\"===============================================\\n\")\n",
    "print(tmp2.info())\n",
    "print(tmp2)"
   ]
  },
  {
   "cell_type": "code",
   "execution_count": 30,
   "id": "e3580e04",
   "metadata": {
    "ExecuteTime": {
     "end_time": "2022-08-03T08:14:40.336082Z",
     "start_time": "2022-08-03T08:14:39.758291Z"
    }
   },
   "outputs": [
    {
     "name": "stdout",
     "output_type": "stream",
     "text": [
      "<class 'pandas.core.frame.DataFrame'>\n",
      "Int64Index: 2615084 entries, 0 to 2615083\n",
      "Data columns (total 11 columns):\n",
      " #   Column      Dtype  \n",
      "---  ------      -----  \n",
      " 0   target_id   object \n",
      " 1   cmpd_id     object \n",
      " 2   task_group  int64  \n",
      " 3   variable    float64\n",
      " 4   value       float64\n",
      " 5   1           object \n",
      " 6   cid         int64  \n",
      " 7   0_left      float64\n",
      " 8   vid         int64  \n",
      " 9   0_right     object \n",
      " 10  tid         int64  \n",
      "dtypes: float64(3), int64(4), object(4)\n",
      "memory usage: 239.4+ MB\n",
      "             target_id        cmpd_id  task_group  variable  value              1     cid  0_left  vid        0_right  tid\n",
      "0        CHEMBL1075097  CHEMBL1234777           1       5.5    1.0  CHEMBL1234777  173927     5.5    0  CHEMBL1075097    0\n",
      "1        CHEMBL1075097  CHEMBL1812661           1       5.5    1.0  CHEMBL1812661  150148     5.5    0  CHEMBL1075097    0\n",
      "2        CHEMBL1075097  CHEMBL1812662           1       5.5   -1.0  CHEMBL1812662  143524     5.5    0  CHEMBL1075097    0\n",
      "3        CHEMBL1075097  CHEMBL2326084           1       5.5    1.0  CHEMBL2326084  233209     5.5    0  CHEMBL1075097    0\n",
      "4        CHEMBL1075097  CHEMBL2326085           1       5.5    1.0  CHEMBL2326085  237772     5.5    0  CHEMBL1075097    0\n",
      "...                ...            ...         ...       ...    ...            ...     ...     ...  ...            ...  ...\n",
      "2615079     CHEMBL5966   CHEMBL526861           0       8.5   -1.0   CHEMBL526861  119481     8.5    3     CHEMBL5966  866\n",
      "2615080     CHEMBL5966   CHEMBL527054           0       8.5   -1.0   CHEMBL527054  167338     8.5    3     CHEMBL5966  866\n",
      "2615081     CHEMBL5966   CHEMBL527072           0       8.5   -1.0   CHEMBL527072     211     8.5    3     CHEMBL5966  866\n",
      "2615082     CHEMBL5966   CHEMBL527080           0       8.5   -1.0   CHEMBL527080  118961     8.5    3     CHEMBL5966  866\n",
      "2615083     CHEMBL5966   CHEMBL527084           0       8.5   -1.0   CHEMBL527084     159     8.5    3     CHEMBL5966  866\n",
      "\n",
      "[2615084 rows x 11 columns]\n"
     ]
    }
   ],
   "source": [
    "join = pd.merge(tmp2,target_list, how=\"inner\", left_on=\"target_id\", right_on=0, suffixes = ['_left', '_right'])\n",
    "join.info()\n",
    "print(join)"
   ]
  },
  {
   "cell_type": "code",
   "execution_count": 31,
   "id": "ec6df538",
   "metadata": {
    "ExecuteTime": {
     "end_time": "2022-08-03T08:15:10.671783Z",
     "start_time": "2022-08-03T08:15:10.134105Z"
    }
   },
   "outputs": [],
   "source": [
    "join.drop(columns=[1, '0_left', '0_right'],inplace=True)"
   ]
  },
  {
   "cell_type": "code",
   "execution_count": 32,
   "id": "2f0b8077",
   "metadata": {
    "ExecuteTime": {
     "end_time": "2022-08-03T08:15:13.192830Z",
     "start_time": "2022-08-03T08:15:12.648838Z"
    }
   },
   "outputs": [
    {
     "name": "stdout",
     "output_type": "stream",
     "text": [
      "<class 'pandas.core.frame.DataFrame'>\n",
      "Int64Index: 2615084 entries, 0 to 2615083\n",
      "Data columns (total 8 columns):\n",
      " #   Column      Dtype  \n",
      "---  ------      -----  \n",
      " 0   target_id   object \n",
      " 1   cmpd_id     object \n",
      " 2   task_group  int64  \n",
      " 3   variable    float64\n",
      " 4   value       float64\n",
      " 5   cid         int64  \n",
      " 6   vid         int64  \n",
      " 7   tid         int64  \n",
      "dtypes: float64(2), int64(4), object(2)\n",
      "memory usage: 179.6+ MB\n",
      "\n",
      "target_id        888\n",
      "cmpd_id       423737\n",
      "task_group        10\n",
      "variable           4\n",
      "value              2\n",
      "cid           423737\n",
      "vid                4\n",
      "tid              888\n",
      "dtype: int64\n",
      "\n",
      "             target_id        cmpd_id  task_group  variable  value     cid  vid  tid\n",
      "0        CHEMBL1075097  CHEMBL1234777           1       5.5    1.0  173927    0    0\n",
      "1        CHEMBL1075097  CHEMBL1812661           1       5.5    1.0  150148    0    0\n",
      "2        CHEMBL1075097  CHEMBL1812662           1       5.5   -1.0  143524    0    0\n",
      "3        CHEMBL1075097  CHEMBL2326084           1       5.5    1.0  233209    0    0\n",
      "4        CHEMBL1075097  CHEMBL2326085           1       5.5    1.0  237772    0    0\n",
      "...                ...            ...         ...       ...    ...     ...  ...  ...\n",
      "2615079     CHEMBL5966   CHEMBL526861           0       8.5   -1.0  119481    3  866\n",
      "2615080     CHEMBL5966   CHEMBL527054           0       8.5   -1.0  167338    3  866\n",
      "2615081     CHEMBL5966   CHEMBL527072           0       8.5   -1.0     211    3  866\n",
      "2615082     CHEMBL5966   CHEMBL527080           0       8.5   -1.0  118961    3  866\n",
      "2615083     CHEMBL5966   CHEMBL527084           0       8.5   -1.0     159    3  866\n",
      "\n",
      "[2615084 rows x 8 columns]\n"
     ]
    }
   ],
   "source": [
    "join.info()\n",
    "print()\n",
    "print(join.nunique())\n",
    "print()\n",
    "print(join)"
   ]
  },
  {
   "cell_type": "code",
   "execution_count": 33,
   "id": "4432fb71",
   "metadata": {
    "ExecuteTime": {
     "end_time": "2022-08-03T08:16:39.911729Z",
     "start_time": "2022-08-03T08:16:39.859393Z"
    }
   },
   "outputs": [
    {
     "name": "stdout",
     "output_type": "stream",
     "text": [
      "6       702258\n",
      "11      336091\n",
      "1028    323448\n",
      "1       309909\n",
      "0       270448\n",
      "10      155187\n",
      "1005    149426\n",
      "836     130131\n",
      "1031    126553\n",
      "643     111633\n",
      "Name: task_group, dtype: int64\n",
      "total   2615084\n"
     ]
    }
   ],
   "source": [
    "print(join['task_group'].value_counts())\n",
    "ttl_counts = 0\n",
    "for i in join['task_group'].value_counts():\n",
    "    ttl_counts += i\n",
    "print (f\"total   {ttl_counts}\")"
   ]
  },
  {
   "cell_type": "code",
   "execution_count": 34,
   "id": "783c11e5",
   "metadata": {
    "ExecuteTime": {
     "end_time": "2022-08-03T08:18:19.396673Z",
     "start_time": "2022-08-03T08:18:11.865017Z"
    }
   },
   "outputs": [],
   "source": [
    "join.to_csv('Step40/2_merge_with_target_list.csv')"
   ]
  },
  {
   "cell_type": "markdown",
   "id": "a71bf2a7",
   "metadata": {},
   "source": [
    "## `join` data analysis"
   ]
  },
  {
   "cell_type": "code",
   "execution_count": 35,
   "id": "bc5f7cff",
   "metadata": {
    "ExecuteTime": {
     "end_time": "2022-08-03T08:18:28.466152Z",
     "start_time": "2022-08-03T08:18:28.450045Z"
    }
   },
   "outputs": [],
   "source": [
    "# join = pd.read_csv('Step40/2_merge_with_target_list.csv')"
   ]
  },
  {
   "cell_type": "markdown",
   "id": "c499354c",
   "metadata": {},
   "source": [
    "Note: \n",
    "    The following targets are connected to 2 different task groups:\n",
    "    \n",
    "    CHEMBL3521       2\n",
    "    CHEMBL4105860    2\n",
    "    CHEMBL4958       2\n",
    "    CHEMBL4081       2"
   ]
  },
  {
   "cell_type": "code",
   "execution_count": 36,
   "id": "13dbb034",
   "metadata": {
    "ExecuteTime": {
     "end_time": "2022-08-03T08:18:46.354330Z",
     "start_time": "2022-08-03T08:18:44.799689Z"
    },
    "scrolled": true
   },
   "outputs": [
    {
     "data": {
      "text/html": [
       "<div>\n",
       "<style scoped>\n",
       "    .dataframe tbody tr th:only-of-type {\n",
       "        vertical-align: middle;\n",
       "    }\n",
       "\n",
       "    .dataframe tbody tr th {\n",
       "        vertical-align: top;\n",
       "    }\n",
       "\n",
       "    .dataframe thead th {\n",
       "        text-align: right;\n",
       "    }\n",
       "</style>\n",
       "<table border=\"1\" class=\"dataframe\">\n",
       "  <thead>\n",
       "    <tr style=\"text-align: right;\">\n",
       "      <th></th>\n",
       "      <th>cmpd_id</th>\n",
       "      <th>task_group</th>\n",
       "      <th>variable</th>\n",
       "      <th>value</th>\n",
       "      <th>cid</th>\n",
       "      <th>vid</th>\n",
       "      <th>tid</th>\n",
       "    </tr>\n",
       "    <tr>\n",
       "      <th>target_id</th>\n",
       "      <th></th>\n",
       "      <th></th>\n",
       "      <th></th>\n",
       "      <th></th>\n",
       "      <th></th>\n",
       "      <th></th>\n",
       "      <th></th>\n",
       "    </tr>\n",
       "  </thead>\n",
       "  <tbody>\n",
       "    <tr>\n",
       "      <th>CHEMBL1075097</th>\n",
       "      <td>120</td>\n",
       "      <td>1</td>\n",
       "      <td>4</td>\n",
       "      <td>2</td>\n",
       "      <td>120</td>\n",
       "      <td>4</td>\n",
       "      <td>1</td>\n",
       "    </tr>\n",
       "    <tr>\n",
       "      <th>CHEMBL3988583</th>\n",
       "      <td>1094</td>\n",
       "      <td>1</td>\n",
       "      <td>4</td>\n",
       "      <td>2</td>\n",
       "      <td>1094</td>\n",
       "      <td>4</td>\n",
       "      <td>1</td>\n",
       "    </tr>\n",
       "    <tr>\n",
       "      <th>CHEMBL3988599</th>\n",
       "      <td>321</td>\n",
       "      <td>1</td>\n",
       "      <td>4</td>\n",
       "      <td>2</td>\n",
       "      <td>321</td>\n",
       "      <td>4</td>\n",
       "      <td>1</td>\n",
       "    </tr>\n",
       "    <tr>\n",
       "      <th>CHEMBL3989381</th>\n",
       "      <td>114</td>\n",
       "      <td>1</td>\n",
       "      <td>4</td>\n",
       "      <td>1</td>\n",
       "      <td>114</td>\n",
       "      <td>4</td>\n",
       "      <td>1</td>\n",
       "    </tr>\n",
       "    <tr>\n",
       "      <th>CHEMBL3991</th>\n",
       "      <td>211</td>\n",
       "      <td>1</td>\n",
       "      <td>4</td>\n",
       "      <td>2</td>\n",
       "      <td>211</td>\n",
       "      <td>4</td>\n",
       "      <td>1</td>\n",
       "    </tr>\n",
       "    <tr>\n",
       "      <th>...</th>\n",
       "      <td>...</td>\n",
       "      <td>...</td>\n",
       "      <td>...</td>\n",
       "      <td>...</td>\n",
       "      <td>...</td>\n",
       "      <td>...</td>\n",
       "      <td>...</td>\n",
       "    </tr>\n",
       "    <tr>\n",
       "      <th>CHEMBL245</th>\n",
       "      <td>887</td>\n",
       "      <td>1</td>\n",
       "      <td>4</td>\n",
       "      <td>2</td>\n",
       "      <td>887</td>\n",
       "      <td>4</td>\n",
       "      <td>1</td>\n",
       "    </tr>\n",
       "    <tr>\n",
       "      <th>CHEMBL3521</th>\n",
       "      <td>214</td>\n",
       "      <td>2</td>\n",
       "      <td>4</td>\n",
       "      <td>2</td>\n",
       "      <td>214</td>\n",
       "      <td>4</td>\n",
       "      <td>1</td>\n",
       "    </tr>\n",
       "    <tr>\n",
       "      <th>CHEMBL4105860</th>\n",
       "      <td>204</td>\n",
       "      <td>2</td>\n",
       "      <td>4</td>\n",
       "      <td>1</td>\n",
       "      <td>204</td>\n",
       "      <td>4</td>\n",
       "      <td>1</td>\n",
       "    </tr>\n",
       "    <tr>\n",
       "      <th>CHEMBL4958</th>\n",
       "      <td>181</td>\n",
       "      <td>2</td>\n",
       "      <td>4</td>\n",
       "      <td>2</td>\n",
       "      <td>181</td>\n",
       "      <td>4</td>\n",
       "      <td>1</td>\n",
       "    </tr>\n",
       "    <tr>\n",
       "      <th>CHEMBL4081</th>\n",
       "      <td>110</td>\n",
       "      <td>2</td>\n",
       "      <td>4</td>\n",
       "      <td>2</td>\n",
       "      <td>110</td>\n",
       "      <td>4</td>\n",
       "      <td>1</td>\n",
       "    </tr>\n",
       "  </tbody>\n",
       "</table>\n",
       "<p>888 rows × 7 columns</p>\n",
       "</div>"
      ],
      "text/plain": [
       "               cmpd_id  task_group  variable  value   cid  vid  tid\n",
       "target_id                                                          \n",
       "CHEMBL1075097      120           1         4      2   120    4    1\n",
       "CHEMBL3988583     1094           1         4      2  1094    4    1\n",
       "CHEMBL3988599      321           1         4      2   321    4    1\n",
       "CHEMBL3989381      114           1         4      1   114    4    1\n",
       "CHEMBL3991         211           1         4      2   211    4    1\n",
       "...                ...         ...       ...    ...   ...  ...  ...\n",
       "CHEMBL245          887           1         4      2   887    4    1\n",
       "CHEMBL3521         214           2         4      2   214    4    1\n",
       "CHEMBL4105860      204           2         4      1   204    4    1\n",
       "CHEMBL4958         181           2         4      2   181    4    1\n",
       "CHEMBL4081         110           2         4      2   110    4    1\n",
       "\n",
       "[888 rows x 7 columns]"
      ]
     },
     "execution_count": 36,
     "metadata": {},
     "output_type": "execute_result"
    }
   ],
   "source": [
    "# join.groupby(by=['target_id']).nunique('task_group').sort_values(by='task_group')\n",
    "join.groupby(by=['target_id']).nunique('task_group').sort_values(by='task_group')"
   ]
  },
  {
   "cell_type": "code",
   "execution_count": 37,
   "id": "dcb0ae72",
   "metadata": {
    "ExecuteTime": {
     "end_time": "2022-08-03T08:19:09.479694Z",
     "start_time": "2022-08-03T08:19:09.183433Z"
    }
   },
   "outputs": [
    {
     "data": {
      "text/plain": [
       "target_id\n",
       "CHEMBL3521       2\n",
       "CHEMBL4105860    2\n",
       "CHEMBL4958       2\n",
       "CHEMBL4081       2\n",
       "CHEMBL1075097    1\n",
       "CHEMBL3988583    1\n",
       "CHEMBL3988599    1\n",
       "CHEMBL3989381    1\n",
       "CHEMBL3991       1\n",
       "CHEMBL3991501    1\n",
       "Name: task_group, dtype: int64"
      ]
     },
     "execution_count": 37,
     "metadata": {},
     "output_type": "execute_result"
    }
   ],
   "source": [
    "join.groupby('target_id')['task_group'].nunique().sort_values().nlargest(10)"
   ]
  },
  {
   "cell_type": "code",
   "execution_count": 38,
   "id": "70a1ac31",
   "metadata": {
    "ExecuteTime": {
     "end_time": "2022-08-03T08:19:20.006126Z",
     "start_time": "2022-08-03T08:19:19.895046Z"
    }
   },
   "outputs": [
    {
     "data": {
      "text/html": [
       "<div>\n",
       "<style scoped>\n",
       "    .dataframe tbody tr th:only-of-type {\n",
       "        vertical-align: middle;\n",
       "    }\n",
       "\n",
       "    .dataframe tbody tr th {\n",
       "        vertical-align: top;\n",
       "    }\n",
       "\n",
       "    .dataframe thead th {\n",
       "        text-align: right;\n",
       "    }\n",
       "</style>\n",
       "<table border=\"1\" class=\"dataframe\">\n",
       "  <thead>\n",
       "    <tr style=\"text-align: right;\">\n",
       "      <th></th>\n",
       "      <th>target_id</th>\n",
       "      <th>cmpd_id</th>\n",
       "      <th>task_group</th>\n",
       "      <th>variable</th>\n",
       "      <th>value</th>\n",
       "      <th>counter</th>\n",
       "    </tr>\n",
       "  </thead>\n",
       "  <tbody>\n",
       "    <tr>\n",
       "      <th>0</th>\n",
       "      <td>CHEMBL1075097</td>\n",
       "      <td>CHEMBL1234777</td>\n",
       "      <td>1</td>\n",
       "      <td>5.5</td>\n",
       "      <td>1.0</td>\n",
       "      <td>1</td>\n",
       "    </tr>\n",
       "    <tr>\n",
       "      <th>1</th>\n",
       "      <td>CHEMBL1075097</td>\n",
       "      <td>CHEMBL1812661</td>\n",
       "      <td>1</td>\n",
       "      <td>5.5</td>\n",
       "      <td>1.0</td>\n",
       "      <td>1</td>\n",
       "    </tr>\n",
       "    <tr>\n",
       "      <th>2</th>\n",
       "      <td>CHEMBL1075097</td>\n",
       "      <td>CHEMBL1812662</td>\n",
       "      <td>1</td>\n",
       "      <td>5.5</td>\n",
       "      <td>-1.0</td>\n",
       "      <td>1</td>\n",
       "    </tr>\n",
       "    <tr>\n",
       "      <th>3</th>\n",
       "      <td>CHEMBL1075097</td>\n",
       "      <td>CHEMBL2326084</td>\n",
       "      <td>1</td>\n",
       "      <td>5.5</td>\n",
       "      <td>1.0</td>\n",
       "      <td>1</td>\n",
       "    </tr>\n",
       "    <tr>\n",
       "      <th>4</th>\n",
       "      <td>CHEMBL1075097</td>\n",
       "      <td>CHEMBL2326085</td>\n",
       "      <td>1</td>\n",
       "      <td>5.5</td>\n",
       "      <td>1.0</td>\n",
       "      <td>1</td>\n",
       "    </tr>\n",
       "    <tr>\n",
       "      <th>...</th>\n",
       "      <td>...</td>\n",
       "      <td>...</td>\n",
       "      <td>...</td>\n",
       "      <td>...</td>\n",
       "      <td>...</td>\n",
       "      <td>...</td>\n",
       "    </tr>\n",
       "    <tr>\n",
       "      <th>2615079</th>\n",
       "      <td>CHEMBL5966</td>\n",
       "      <td>CHEMBL526861</td>\n",
       "      <td>0</td>\n",
       "      <td>8.5</td>\n",
       "      <td>-1.0</td>\n",
       "      <td>1</td>\n",
       "    </tr>\n",
       "    <tr>\n",
       "      <th>2615080</th>\n",
       "      <td>CHEMBL5966</td>\n",
       "      <td>CHEMBL527054</td>\n",
       "      <td>0</td>\n",
       "      <td>8.5</td>\n",
       "      <td>-1.0</td>\n",
       "      <td>1</td>\n",
       "    </tr>\n",
       "    <tr>\n",
       "      <th>2615081</th>\n",
       "      <td>CHEMBL5966</td>\n",
       "      <td>CHEMBL527072</td>\n",
       "      <td>0</td>\n",
       "      <td>8.5</td>\n",
       "      <td>-1.0</td>\n",
       "      <td>1</td>\n",
       "    </tr>\n",
       "    <tr>\n",
       "      <th>2615082</th>\n",
       "      <td>CHEMBL5966</td>\n",
       "      <td>CHEMBL527080</td>\n",
       "      <td>0</td>\n",
       "      <td>8.5</td>\n",
       "      <td>-1.0</td>\n",
       "      <td>1</td>\n",
       "    </tr>\n",
       "    <tr>\n",
       "      <th>2615083</th>\n",
       "      <td>CHEMBL5966</td>\n",
       "      <td>CHEMBL527084</td>\n",
       "      <td>0</td>\n",
       "      <td>8.5</td>\n",
       "      <td>-1.0</td>\n",
       "      <td>1</td>\n",
       "    </tr>\n",
       "  </tbody>\n",
       "</table>\n",
       "<p>2615084 rows × 6 columns</p>\n",
       "</div>"
      ],
      "text/plain": [
       "             target_id        cmpd_id  task_group  variable  value  counter\n",
       "0        CHEMBL1075097  CHEMBL1234777           1       5.5    1.0        1\n",
       "1        CHEMBL1075097  CHEMBL1812661           1       5.5    1.0        1\n",
       "2        CHEMBL1075097  CHEMBL1812662           1       5.5   -1.0        1\n",
       "3        CHEMBL1075097  CHEMBL2326084           1       5.5    1.0        1\n",
       "4        CHEMBL1075097  CHEMBL2326085           1       5.5    1.0        1\n",
       "...                ...            ...         ...       ...    ...      ...\n",
       "2615079     CHEMBL5966   CHEMBL526861           0       8.5   -1.0        1\n",
       "2615080     CHEMBL5966   CHEMBL527054           0       8.5   -1.0        1\n",
       "2615081     CHEMBL5966   CHEMBL527072           0       8.5   -1.0        1\n",
       "2615082     CHEMBL5966   CHEMBL527080           0       8.5   -1.0        1\n",
       "2615083     CHEMBL5966   CHEMBL527084           0       8.5   -1.0        1\n",
       "\n",
       "[2615084 rows x 6 columns]"
      ]
     },
     "execution_count": 38,
     "metadata": {},
     "output_type": "execute_result"
    }
   ],
   "source": [
    "# join.groupby(by=['target_id']).nunique('task_group').sort_values(by='task_group')\n",
    "# join.groupby(by=['tid','cid']).nunique('task_group').sort_values(by=['task_group'])\n",
    "tst = join.drop(columns=['cid', 'tid', 'vid'])\n",
    "tst['counter'] = 1\n",
    "tst"
   ]
  },
  {
   "cell_type": "code",
   "execution_count": 39,
   "id": "07028c6b",
   "metadata": {
    "ExecuteTime": {
     "end_time": "2022-08-03T08:19:34.783226Z",
     "start_time": "2022-08-03T08:19:34.538884Z"
    }
   },
   "outputs": [
    {
     "name": "stdout",
     "output_type": "stream",
     "text": [
      "             target_id        cmpd_id  task_group  variable  value     cid  vid  tid\n",
      "0        CHEMBL1075097  CHEMBL1234777           1       5.5    1.0  173927    0    0\n",
      "480         CHEMBL1808  CHEMBL4476621        1028       5.5    1.0   82782    0   74\n",
      "3219        CHEMBL1951  CHEMBL4476621          10       5.5    1.0   82782    0  133\n",
      "14968        CHEMBL204  CHEMBL4476621        1028       5.5    1.0   82782    0  172\n",
      "26765        CHEMBL205  CHEMBL4476621           1       5.5    1.0   82782    0  177\n",
      "...                ...            ...         ...       ...    ...     ...  ...  ...\n",
      "2611004     CHEMBL5413  CHEMBL1163732          11       5.5    1.0  159280    0  804\n",
      "2611408     CHEMBL5480  CHEMBL1795350        1005       5.5   -1.0  105276    0  812\n",
      "2612828     CHEMBL5649  CHEMBL3448261          11       5.5   -1.0  270814    0  831\n",
      "2613472     CHEMBL5689  CHEMBL2103855          10       5.5    1.0  228385    0  835\n",
      "2614252     CHEMBL5966  CHEMBL1089944           0       5.5   -1.0  159144    0  866\n",
      "\n",
      "[892 rows x 8 columns]\n"
     ]
    },
    {
     "data": {
      "text/plain": [
       "target_id    \n",
       "CHEMBL4105860    2\n",
       "CHEMBL4081       2\n",
       "CHEMBL3521       2\n",
       "CHEMBL4958       2\n",
       "CHEMBL1075097    1\n",
       "                ..\n",
       "CHEMBL2447       1\n",
       "CHEMBL245        1\n",
       "CHEMBL2473       1\n",
       "CHEMBL2474       1\n",
       "CHEMBL6175       1\n",
       "Length: 888, dtype: int64"
      ]
     },
     "execution_count": 39,
     "metadata": {},
     "output_type": "execute_result"
    }
   ],
   "source": [
    "dups =join.drop_duplicates(subset=['target_id', 'task_group'])\n",
    "print(dups)\n",
    "dups[['target_id']].value_counts()"
   ]
  },
  {
   "cell_type": "code",
   "execution_count": 40,
   "id": "95d3c33a",
   "metadata": {
    "ExecuteTime": {
     "end_time": "2022-08-03T08:20:27.358090Z",
     "start_time": "2022-08-03T08:20:25.697730Z"
    }
   },
   "outputs": [
    {
     "name": "stdout",
     "output_type": "stream",
     "text": [
      "<class 'pandas.core.frame.DataFrame'>\n",
      "RangeIndex: 2612254 entries, 0 to 2612253\n",
      "Data columns (total 6 columns):\n",
      " #   Column      Dtype  \n",
      "---  ------      -----  \n",
      " 0   target_id   object \n",
      " 1   cmpd_id     object \n",
      " 2   variable    float64\n",
      " 3   task_group  int64  \n",
      " 4   value       int64  \n",
      " 5   counter     int64  \n",
      "dtypes: float64(1), int64(3), object(2)\n",
      "memory usage: 119.6+ MB\n"
     ]
    },
    {
     "data": {
      "text/html": [
       "<div>\n",
       "<style scoped>\n",
       "    .dataframe tbody tr th:only-of-type {\n",
       "        vertical-align: middle;\n",
       "    }\n",
       "\n",
       "    .dataframe tbody tr th {\n",
       "        vertical-align: top;\n",
       "    }\n",
       "\n",
       "    .dataframe thead th {\n",
       "        text-align: right;\n",
       "    }\n",
       "</style>\n",
       "<table border=\"1\" class=\"dataframe\">\n",
       "  <thead>\n",
       "    <tr style=\"text-align: right;\">\n",
       "      <th></th>\n",
       "      <th>target_id</th>\n",
       "      <th>cmpd_id</th>\n",
       "      <th>variable</th>\n",
       "      <th>task_group</th>\n",
       "      <th>value</th>\n",
       "      <th>counter</th>\n",
       "    </tr>\n",
       "  </thead>\n",
       "  <tbody>\n",
       "    <tr>\n",
       "      <th>0</th>\n",
       "      <td>CHEMBL1075097</td>\n",
       "      <td>CHEMBL1234777</td>\n",
       "      <td>5.5</td>\n",
       "      <td>1</td>\n",
       "      <td>1</td>\n",
       "      <td>1</td>\n",
       "    </tr>\n",
       "    <tr>\n",
       "      <th>1</th>\n",
       "      <td>CHEMBL1075097</td>\n",
       "      <td>CHEMBL1234777</td>\n",
       "      <td>6.5</td>\n",
       "      <td>1</td>\n",
       "      <td>1</td>\n",
       "      <td>1</td>\n",
       "    </tr>\n",
       "    <tr>\n",
       "      <th>2</th>\n",
       "      <td>CHEMBL1075097</td>\n",
       "      <td>CHEMBL1234777</td>\n",
       "      <td>7.5</td>\n",
       "      <td>1</td>\n",
       "      <td>1</td>\n",
       "      <td>1</td>\n",
       "    </tr>\n",
       "    <tr>\n",
       "      <th>3</th>\n",
       "      <td>CHEMBL1075097</td>\n",
       "      <td>CHEMBL1234777</td>\n",
       "      <td>8.5</td>\n",
       "      <td>1</td>\n",
       "      <td>1</td>\n",
       "      <td>1</td>\n",
       "    </tr>\n",
       "    <tr>\n",
       "      <th>4</th>\n",
       "      <td>CHEMBL1075097</td>\n",
       "      <td>CHEMBL1812661</td>\n",
       "      <td>5.5</td>\n",
       "      <td>1</td>\n",
       "      <td>1</td>\n",
       "      <td>1</td>\n",
       "    </tr>\n",
       "  </tbody>\n",
       "</table>\n",
       "</div>"
      ],
      "text/plain": [
       "       target_id        cmpd_id  variable  task_group  value  counter\n",
       "0  CHEMBL1075097  CHEMBL1234777       5.5           1      1        1\n",
       "1  CHEMBL1075097  CHEMBL1234777       6.5           1      1        1\n",
       "2  CHEMBL1075097  CHEMBL1234777       7.5           1      1        1\n",
       "3  CHEMBL1075097  CHEMBL1234777       8.5           1      1        1\n",
       "4  CHEMBL1075097  CHEMBL1812661       5.5           1      1        1"
      ]
     },
     "execution_count": 40,
     "metadata": {},
     "output_type": "execute_result"
    }
   ],
   "source": [
    "tst1 = tst.groupby(by=['target_id','cmpd_id', 'variable']).count() ##.sort_values(by=['task_group'])\n",
    "tst1.reset_index(inplace=True)\n",
    "tst1.info()\n",
    "tst1.head()"
   ]
  },
  {
   "cell_type": "code",
   "execution_count": 45,
   "id": "e57a7d36",
   "metadata": {
    "ExecuteTime": {
     "end_time": "2022-08-03T08:23:43.449675Z",
     "start_time": "2022-08-03T08:23:43.431255Z"
    }
   },
   "outputs": [
    {
     "data": {
      "text/plain": [
       "2615084"
      ]
     },
     "execution_count": 45,
     "metadata": {},
     "output_type": "execute_result"
    }
   ],
   "source": [
    "tst1['counter'].sum()"
   ]
  },
  {
   "cell_type": "code",
   "execution_count": 46,
   "id": "c6d0fa50",
   "metadata": {
    "ExecuteTime": {
     "end_time": "2022-08-03T08:24:04.586803Z",
     "start_time": "2022-08-03T08:24:04.254727Z"
    }
   },
   "outputs": [
    {
     "name": "stdout",
     "output_type": "stream",
     "text": [
      "tst shape:  (2615084, 6)\n",
      " tst[task_group] < 0  (0, 6)\n",
      " tst[task_group] > 0  (2612254, 6)\n",
      " tst[task_group] = 0  (0, 6)\n",
      " tst[task_group] = 1  (2609424, 6)\n",
      " tst[task_group] = 2  (2830, 6)\n",
      " tst[task_group] = 3  (0, 6)\n"
     ]
    }
   ],
   "source": [
    "# tst[tst['task_group']!= 1]\n",
    "tst_lt_0  = tst1[tst1['task_group'] <  0]\n",
    "tst_gt_0  = tst1[tst1['task_group'] >  0]\n",
    "tst_0     = tst1[tst1['task_group'] == 0]\n",
    "tst_1     = tst1[tst1['task_group'] == 1]\n",
    "tst_2     = tst1[tst1['task_group'] == 2]\n",
    "tst_3     = tst1[tst1['task_group'] == 3]\n",
    "print('tst shape: ', tst.shape)\n",
    "print(' tst[task_group] < 0 ', tst_lt_0.shape[0])\n",
    "print(' tst[task_group] > 0 ', tst_gt_0.shape[0])\n",
    "print(' tst[task_group] = 0 ', tst_0.shape[0])\n",
    "print(' tst[task_group] = 1 ', tst_1.shape[0])\n",
    "print(' tst[task_group] = 2 ', tst_2.shape[0])\n",
    "print(' tst[task_group] = 3 ', tst_3.shape[0])\n"
   ]
  },
  {
   "cell_type": "code",
   "execution_count": 47,
   "id": "02722459",
   "metadata": {
    "ExecuteTime": {
     "end_time": "2022-08-03T08:25:31.909252Z",
     "start_time": "2022-08-03T08:25:31.893566Z"
    }
   },
   "outputs": [
    {
     "name": "stdout",
     "output_type": "stream",
     "text": [
      " Join Shape   : (2615084, 8)\n",
      "\n",
      " #(join < 0) : 0\n",
      " #(join > 0) : 2612254\n"
     ]
    }
   ],
   "source": [
    "print(f\" Join Shape   : {join.shape}\")    \n",
    "print()\n",
    "print(f\" #(join < 0) : {tst_lt_0.shape[0]}\")\n",
    "print(f\" #(join > 0) : {tst_gt_0.shape[0]}\")\n"
   ]
  },
  {
   "cell_type": "code",
   "execution_count": 48,
   "id": "c0ad04c2",
   "metadata": {
    "ExecuteTime": {
     "end_time": "2022-08-03T08:26:05.797631Z",
     "start_time": "2022-08-03T08:26:05.640835Z"
    }
   },
   "outputs": [
    {
     "data": {
      "text/html": [
       "<div>\n",
       "<style scoped>\n",
       "    .dataframe tbody tr th:only-of-type {\n",
       "        vertical-align: middle;\n",
       "    }\n",
       "\n",
       "    .dataframe tbody tr th {\n",
       "        vertical-align: top;\n",
       "    }\n",
       "\n",
       "    .dataframe thead th {\n",
       "        text-align: right;\n",
       "    }\n",
       "</style>\n",
       "<table border=\"1\" class=\"dataframe\">\n",
       "  <thead>\n",
       "    <tr style=\"text-align: right;\">\n",
       "      <th></th>\n",
       "      <th>target_id</th>\n",
       "      <th>cmpd_id</th>\n",
       "      <th>task_group</th>\n",
       "      <th>variable</th>\n",
       "      <th>value</th>\n",
       "      <th>cid</th>\n",
       "      <th>vid</th>\n",
       "      <th>tid</th>\n",
       "    </tr>\n",
       "  </thead>\n",
       "  <tbody>\n",
       "    <tr>\n",
       "      <th>2462632</th>\n",
       "      <td>CHEMBL1938210</td>\n",
       "      <td>CHEMBL51979</td>\n",
       "      <td>836</td>\n",
       "      <td>5.5</td>\n",
       "      <td>1.0</td>\n",
       "      <td>7715</td>\n",
       "      <td>0</td>\n",
       "      <td>122</td>\n",
       "    </tr>\n",
       "    <tr>\n",
       "      <th>2462633</th>\n",
       "      <td>CHEMBL1938210</td>\n",
       "      <td>CHEMBL1229308</td>\n",
       "      <td>836</td>\n",
       "      <td>5.5</td>\n",
       "      <td>1.0</td>\n",
       "      <td>163717</td>\n",
       "      <td>0</td>\n",
       "      <td>122</td>\n",
       "    </tr>\n",
       "    <tr>\n",
       "      <th>2462634</th>\n",
       "      <td>CHEMBL1938210</td>\n",
       "      <td>CHEMBL1230640</td>\n",
       "      <td>836</td>\n",
       "      <td>5.5</td>\n",
       "      <td>-1.0</td>\n",
       "      <td>171856</td>\n",
       "      <td>0</td>\n",
       "      <td>122</td>\n",
       "    </tr>\n",
       "    <tr>\n",
       "      <th>2462635</th>\n",
       "      <td>CHEMBL1938210</td>\n",
       "      <td>CHEMBL1255743</td>\n",
       "      <td>836</td>\n",
       "      <td>5.5</td>\n",
       "      <td>-1.0</td>\n",
       "      <td>180434</td>\n",
       "      <td>0</td>\n",
       "      <td>122</td>\n",
       "    </tr>\n",
       "    <tr>\n",
       "      <th>2462636</th>\n",
       "      <td>CHEMBL1938210</td>\n",
       "      <td>CHEMBL1614745</td>\n",
       "      <td>836</td>\n",
       "      <td>5.5</td>\n",
       "      <td>-1.0</td>\n",
       "      <td>172828</td>\n",
       "      <td>0</td>\n",
       "      <td>122</td>\n",
       "    </tr>\n",
       "    <tr>\n",
       "      <th>...</th>\n",
       "      <td>...</td>\n",
       "      <td>...</td>\n",
       "      <td>...</td>\n",
       "      <td>...</td>\n",
       "      <td>...</td>\n",
       "      <td>...</td>\n",
       "      <td>...</td>\n",
       "      <td>...</td>\n",
       "    </tr>\n",
       "    <tr>\n",
       "      <th>2463026</th>\n",
       "      <td>CHEMBL1938210</td>\n",
       "      <td>CHEMBL4542928</td>\n",
       "      <td>836</td>\n",
       "      <td>8.5</td>\n",
       "      <td>-1.0</td>\n",
       "      <td>122939</td>\n",
       "      <td>3</td>\n",
       "      <td>122</td>\n",
       "    </tr>\n",
       "    <tr>\n",
       "      <th>2463027</th>\n",
       "      <td>CHEMBL1938210</td>\n",
       "      <td>CHEMBL4585876</td>\n",
       "      <td>836</td>\n",
       "      <td>8.5</td>\n",
       "      <td>-1.0</td>\n",
       "      <td>142470</td>\n",
       "      <td>3</td>\n",
       "      <td>122</td>\n",
       "    </tr>\n",
       "    <tr>\n",
       "      <th>2463028</th>\n",
       "      <td>CHEMBL1938210</td>\n",
       "      <td>CHEMBL4592908</td>\n",
       "      <td>836</td>\n",
       "      <td>8.5</td>\n",
       "      <td>-1.0</td>\n",
       "      <td>144809</td>\n",
       "      <td>3</td>\n",
       "      <td>122</td>\n",
       "    </tr>\n",
       "    <tr>\n",
       "      <th>2463029</th>\n",
       "      <td>CHEMBL1938210</td>\n",
       "      <td>CHEMBL90852</td>\n",
       "      <td>836</td>\n",
       "      <td>8.5</td>\n",
       "      <td>-1.0</td>\n",
       "      <td>14505</td>\n",
       "      <td>3</td>\n",
       "      <td>122</td>\n",
       "    </tr>\n",
       "    <tr>\n",
       "      <th>2463030</th>\n",
       "      <td>CHEMBL1938210</td>\n",
       "      <td>CHEMBL4646431</td>\n",
       "      <td>836</td>\n",
       "      <td>8.5</td>\n",
       "      <td>-1.0</td>\n",
       "      <td>145467</td>\n",
       "      <td>3</td>\n",
       "      <td>122</td>\n",
       "    </tr>\n",
       "  </tbody>\n",
       "</table>\n",
       "<p>399 rows × 8 columns</p>\n",
       "</div>"
      ],
      "text/plain": [
       "             target_id        cmpd_id  task_group  variable  value     cid  vid  tid\n",
       "2462632  CHEMBL1938210    CHEMBL51979         836       5.5    1.0    7715    0  122\n",
       "2462633  CHEMBL1938210  CHEMBL1229308         836       5.5    1.0  163717    0  122\n",
       "2462634  CHEMBL1938210  CHEMBL1230640         836       5.5   -1.0  171856    0  122\n",
       "2462635  CHEMBL1938210  CHEMBL1255743         836       5.5   -1.0  180434    0  122\n",
       "2462636  CHEMBL1938210  CHEMBL1614745         836       5.5   -1.0  172828    0  122\n",
       "...                ...            ...         ...       ...    ...     ...  ...  ...\n",
       "2463026  CHEMBL1938210  CHEMBL4542928         836       8.5   -1.0  122939    3  122\n",
       "2463027  CHEMBL1938210  CHEMBL4585876         836       8.5   -1.0  142470    3  122\n",
       "2463028  CHEMBL1938210  CHEMBL4592908         836       8.5   -1.0  144809    3  122\n",
       "2463029  CHEMBL1938210    CHEMBL90852         836       8.5   -1.0   14505    3  122\n",
       "2463030  CHEMBL1938210  CHEMBL4646431         836       8.5   -1.0  145467    3  122\n",
       "\n",
       "[399 rows x 8 columns]"
      ]
     },
     "execution_count": 48,
     "metadata": {},
     "output_type": "execute_result"
    }
   ],
   "source": [
    "disp = join[join['target_id'] == 'CHEMBL1938210']\n",
    "disp"
   ]
  },
  {
   "cell_type": "code",
   "execution_count": 124,
   "id": "398caffc",
   "metadata": {
    "ExecuteTime": {
     "end_time": "2022-08-02T14:00:21.927637Z",
     "start_time": "2022-08-02T14:00:21.738002Z"
    }
   },
   "outputs": [
    {
     "data": {
      "text/html": [
       "<div>\n",
       "<style scoped>\n",
       "    .dataframe tbody tr th:only-of-type {\n",
       "        vertical-align: middle;\n",
       "    }\n",
       "\n",
       "    .dataframe tbody tr th {\n",
       "        vertical-align: top;\n",
       "    }\n",
       "\n",
       "    .dataframe thead th {\n",
       "        text-align: right;\n",
       "    }\n",
       "</style>\n",
       "<table border=\"1\" class=\"dataframe\">\n",
       "  <thead>\n",
       "    <tr style=\"text-align: right;\">\n",
       "      <th></th>\n",
       "      <th>target_id</th>\n",
       "      <th>cmpd_id</th>\n",
       "      <th>task_group</th>\n",
       "      <th>variable</th>\n",
       "      <th>value</th>\n",
       "      <th>cid</th>\n",
       "      <th>vid</th>\n",
       "      <th>tid</th>\n",
       "    </tr>\n",
       "  </thead>\n",
       "  <tbody>\n",
       "    <tr>\n",
       "      <th>2545436</th>\n",
       "      <td>CHEMBL1938210</td>\n",
       "      <td>CHEMBL51979</td>\n",
       "      <td>836</td>\n",
       "      <td>5.5</td>\n",
       "      <td>1.0</td>\n",
       "      <td>7715</td>\n",
       "      <td>0</td>\n",
       "      <td>122</td>\n",
       "    </tr>\n",
       "    <tr>\n",
       "      <th>2545437</th>\n",
       "      <td>CHEMBL1938210</td>\n",
       "      <td>CHEMBL51979</td>\n",
       "      <td>836</td>\n",
       "      <td>5.5</td>\n",
       "      <td>1.0</td>\n",
       "      <td>7715</td>\n",
       "      <td>0</td>\n",
       "      <td>122</td>\n",
       "    </tr>\n",
       "    <tr>\n",
       "      <th>2545438</th>\n",
       "      <td>CHEMBL1938210</td>\n",
       "      <td>CHEMBL1229308</td>\n",
       "      <td>836</td>\n",
       "      <td>5.5</td>\n",
       "      <td>1.0</td>\n",
       "      <td>163717</td>\n",
       "      <td>0</td>\n",
       "      <td>122</td>\n",
       "    </tr>\n",
       "    <tr>\n",
       "      <th>2545439</th>\n",
       "      <td>CHEMBL1938210</td>\n",
       "      <td>CHEMBL1229308</td>\n",
       "      <td>836</td>\n",
       "      <td>5.5</td>\n",
       "      <td>1.0</td>\n",
       "      <td>163717</td>\n",
       "      <td>0</td>\n",
       "      <td>122</td>\n",
       "    </tr>\n",
       "    <tr>\n",
       "      <th>2545440</th>\n",
       "      <td>CHEMBL1938210</td>\n",
       "      <td>CHEMBL1230640</td>\n",
       "      <td>836</td>\n",
       "      <td>5.5</td>\n",
       "      <td>-1.0</td>\n",
       "      <td>171856</td>\n",
       "      <td>0</td>\n",
       "      <td>122</td>\n",
       "    </tr>\n",
       "    <tr>\n",
       "      <th>...</th>\n",
       "      <td>...</td>\n",
       "      <td>...</td>\n",
       "      <td>...</td>\n",
       "      <td>...</td>\n",
       "      <td>...</td>\n",
       "      <td>...</td>\n",
       "      <td>...</td>\n",
       "      <td>...</td>\n",
       "    </tr>\n",
       "    <tr>\n",
       "      <th>2546229</th>\n",
       "      <td>CHEMBL1938210</td>\n",
       "      <td>CHEMBL4592908</td>\n",
       "      <td>836</td>\n",
       "      <td>8.5</td>\n",
       "      <td>-1.0</td>\n",
       "      <td>144809</td>\n",
       "      <td>3</td>\n",
       "      <td>122</td>\n",
       "    </tr>\n",
       "    <tr>\n",
       "      <th>2546230</th>\n",
       "      <td>CHEMBL1938210</td>\n",
       "      <td>CHEMBL90852</td>\n",
       "      <td>836</td>\n",
       "      <td>8.5</td>\n",
       "      <td>-1.0</td>\n",
       "      <td>14505</td>\n",
       "      <td>3</td>\n",
       "      <td>122</td>\n",
       "    </tr>\n",
       "    <tr>\n",
       "      <th>2546231</th>\n",
       "      <td>CHEMBL1938210</td>\n",
       "      <td>CHEMBL90852</td>\n",
       "      <td>836</td>\n",
       "      <td>8.5</td>\n",
       "      <td>-1.0</td>\n",
       "      <td>14505</td>\n",
       "      <td>3</td>\n",
       "      <td>122</td>\n",
       "    </tr>\n",
       "    <tr>\n",
       "      <th>2546232</th>\n",
       "      <td>CHEMBL1938210</td>\n",
       "      <td>CHEMBL4646431</td>\n",
       "      <td>836</td>\n",
       "      <td>8.5</td>\n",
       "      <td>-1.0</td>\n",
       "      <td>145467</td>\n",
       "      <td>3</td>\n",
       "      <td>122</td>\n",
       "    </tr>\n",
       "    <tr>\n",
       "      <th>2546233</th>\n",
       "      <td>CHEMBL1938210</td>\n",
       "      <td>CHEMBL4646431</td>\n",
       "      <td>836</td>\n",
       "      <td>8.5</td>\n",
       "      <td>-1.0</td>\n",
       "      <td>145467</td>\n",
       "      <td>3</td>\n",
       "      <td>122</td>\n",
       "    </tr>\n",
       "  </tbody>\n",
       "</table>\n",
       "<p>798 rows × 8 columns</p>\n",
       "</div>"
      ],
      "text/plain": [
       "             target_id        cmpd_id  task_group  variable  value     cid  vid  tid\n",
       "2545436  CHEMBL1938210    CHEMBL51979         836       5.5    1.0    7715    0  122\n",
       "2545437  CHEMBL1938210    CHEMBL51979         836       5.5    1.0    7715    0  122\n",
       "2545438  CHEMBL1938210  CHEMBL1229308         836       5.5    1.0  163717    0  122\n",
       "2545439  CHEMBL1938210  CHEMBL1229308         836       5.5    1.0  163717    0  122\n",
       "2545440  CHEMBL1938210  CHEMBL1230640         836       5.5   -1.0  171856    0  122\n",
       "...                ...            ...         ...       ...    ...     ...  ...  ...\n",
       "2546229  CHEMBL1938210  CHEMBL4592908         836       8.5   -1.0  144809    3  122\n",
       "2546230  CHEMBL1938210    CHEMBL90852         836       8.5   -1.0   14505    3  122\n",
       "2546231  CHEMBL1938210    CHEMBL90852         836       8.5   -1.0   14505    3  122\n",
       "2546232  CHEMBL1938210  CHEMBL4646431         836       8.5   -1.0  145467    3  122\n",
       "2546233  CHEMBL1938210  CHEMBL4646431         836       8.5   -1.0  145467    3  122\n",
       "\n",
       "[798 rows x 8 columns]"
      ]
     },
     "execution_count": 124,
     "metadata": {},
     "output_type": "execute_result"
    }
   ],
   "source": [
    "disp = join[join['target_id'] == 'CHEMBL1938210']\n",
    "disp"
   ]
  },
  {
   "cell_type": "code",
   "execution_count": 50,
   "id": "618909bb",
   "metadata": {
    "ExecuteTime": {
     "end_time": "2022-08-03T08:26:49.613630Z",
     "start_time": "2022-08-03T08:26:49.586619Z"
    },
    "scrolled": true
   },
   "outputs": [
    {
     "data": {
      "text/html": [
       "<div>\n",
       "<style scoped>\n",
       "    .dataframe tbody tr th:only-of-type {\n",
       "        vertical-align: middle;\n",
       "    }\n",
       "\n",
       "    .dataframe tbody tr th {\n",
       "        vertical-align: top;\n",
       "    }\n",
       "\n",
       "    .dataframe thead th {\n",
       "        text-align: right;\n",
       "    }\n",
       "</style>\n",
       "<table border=\"1\" class=\"dataframe\">\n",
       "  <thead>\n",
       "    <tr style=\"text-align: right;\">\n",
       "      <th></th>\n",
       "      <th>target_id</th>\n",
       "      <th>cmpd_id</th>\n",
       "      <th>variable</th>\n",
       "      <th>task_group</th>\n",
       "      <th>value</th>\n",
       "      <th>counter</th>\n",
       "    </tr>\n",
       "  </thead>\n",
       "  <tbody>\n",
       "    <tr>\n",
       "      <th>1684987</th>\n",
       "      <td>CHEMBL3521</td>\n",
       "      <td>CHEMBL1077438</td>\n",
       "      <td>5.5</td>\n",
       "      <td>2</td>\n",
       "      <td>2</td>\n",
       "      <td>2</td>\n",
       "    </tr>\n",
       "    <tr>\n",
       "      <th>1684988</th>\n",
       "      <td>CHEMBL3521</td>\n",
       "      <td>CHEMBL1077438</td>\n",
       "      <td>6.5</td>\n",
       "      <td>2</td>\n",
       "      <td>2</td>\n",
       "      <td>2</td>\n",
       "    </tr>\n",
       "    <tr>\n",
       "      <th>1684989</th>\n",
       "      <td>CHEMBL3521</td>\n",
       "      <td>CHEMBL1077438</td>\n",
       "      <td>7.5</td>\n",
       "      <td>2</td>\n",
       "      <td>2</td>\n",
       "      <td>2</td>\n",
       "    </tr>\n",
       "    <tr>\n",
       "      <th>1684990</th>\n",
       "      <td>CHEMBL3521</td>\n",
       "      <td>CHEMBL1077438</td>\n",
       "      <td>8.5</td>\n",
       "      <td>2</td>\n",
       "      <td>2</td>\n",
       "      <td>2</td>\n",
       "    </tr>\n",
       "    <tr>\n",
       "      <th>1684991</th>\n",
       "      <td>CHEMBL3521</td>\n",
       "      <td>CHEMBL108721</td>\n",
       "      <td>5.5</td>\n",
       "      <td>2</td>\n",
       "      <td>2</td>\n",
       "      <td>2</td>\n",
       "    </tr>\n",
       "    <tr>\n",
       "      <th>...</th>\n",
       "      <td>...</td>\n",
       "      <td>...</td>\n",
       "      <td>...</td>\n",
       "      <td>...</td>\n",
       "      <td>...</td>\n",
       "      <td>...</td>\n",
       "    </tr>\n",
       "    <tr>\n",
       "      <th>2390234</th>\n",
       "      <td>CHEMBL4958</td>\n",
       "      <td>CHEMBL69590</td>\n",
       "      <td>8.5</td>\n",
       "      <td>2</td>\n",
       "      <td>2</td>\n",
       "      <td>2</td>\n",
       "    </tr>\n",
       "    <tr>\n",
       "      <th>2390235</th>\n",
       "      <td>CHEMBL4958</td>\n",
       "      <td>CHEMBL77030</td>\n",
       "      <td>5.5</td>\n",
       "      <td>2</td>\n",
       "      <td>2</td>\n",
       "      <td>2</td>\n",
       "    </tr>\n",
       "    <tr>\n",
       "      <th>2390236</th>\n",
       "      <td>CHEMBL4958</td>\n",
       "      <td>CHEMBL77030</td>\n",
       "      <td>6.5</td>\n",
       "      <td>2</td>\n",
       "      <td>2</td>\n",
       "      <td>2</td>\n",
       "    </tr>\n",
       "    <tr>\n",
       "      <th>2390237</th>\n",
       "      <td>CHEMBL4958</td>\n",
       "      <td>CHEMBL77030</td>\n",
       "      <td>7.5</td>\n",
       "      <td>2</td>\n",
       "      <td>2</td>\n",
       "      <td>2</td>\n",
       "    </tr>\n",
       "    <tr>\n",
       "      <th>2390238</th>\n",
       "      <td>CHEMBL4958</td>\n",
       "      <td>CHEMBL77030</td>\n",
       "      <td>8.5</td>\n",
       "      <td>2</td>\n",
       "      <td>2</td>\n",
       "      <td>2</td>\n",
       "    </tr>\n",
       "  </tbody>\n",
       "</table>\n",
       "<p>2830 rows × 6 columns</p>\n",
       "</div>"
      ],
      "text/plain": [
       "          target_id        cmpd_id  variable  task_group  value  counter\n",
       "1684987  CHEMBL3521  CHEMBL1077438       5.5           2      2        2\n",
       "1684988  CHEMBL3521  CHEMBL1077438       6.5           2      2        2\n",
       "1684989  CHEMBL3521  CHEMBL1077438       7.5           2      2        2\n",
       "1684990  CHEMBL3521  CHEMBL1077438       8.5           2      2        2\n",
       "1684991  CHEMBL3521   CHEMBL108721       5.5           2      2        2\n",
       "...             ...            ...       ...         ...    ...      ...\n",
       "2390234  CHEMBL4958    CHEMBL69590       8.5           2      2        2\n",
       "2390235  CHEMBL4958    CHEMBL77030       5.5           2      2        2\n",
       "2390236  CHEMBL4958    CHEMBL77030       6.5           2      2        2\n",
       "2390237  CHEMBL4958    CHEMBL77030       7.5           2      2        2\n",
       "2390238  CHEMBL4958    CHEMBL77030       8.5           2      2        2\n",
       "\n",
       "[2830 rows x 6 columns]"
      ]
     },
     "execution_count": 50,
     "metadata": {},
     "output_type": "execute_result"
    }
   ],
   "source": [
    "tst2 = tst1[tst1['value'] == +2]\n",
    "tst2"
   ]
  },
  {
   "cell_type": "code",
   "execution_count": 51,
   "id": "290f7c75",
   "metadata": {
    "ExecuteTime": {
     "end_time": "2022-08-03T08:27:31.121244Z",
     "start_time": "2022-08-03T08:27:31.104489Z"
    }
   },
   "outputs": [
    {
     "name": "stdout",
     "output_type": "stream",
     "text": [
      "\n",
      " tgt_id       entries\n",
      "CHEMBL3521       856\n",
      "CHEMBL4105860    816\n",
      "CHEMBL4958       724\n",
      "CHEMBL4081       434\n",
      "Name: target_id, dtype: int64\n",
      "4\n"
     ]
    }
   ],
   "source": [
    "# join.groupby(by=['target_id']).nunique('task_group').sort_values(by='task_group')\n",
    "# join.groupby(by=['tid','cid']).nunique('task_group').sort_values(by=['task_group'])\n",
    "# tst = join.groupby(by=['target_id','cmpd_id', 'variable']).sum() ##.sort_values(by=['task_group'])\n",
    "\n",
    "# tst_2.info()\n",
    "# tst_2.head()\n",
    "\n",
    "print('\\n tgt_id       entries')\n",
    "print(tst_2['target_id'].value_counts())\n",
    "print(len(tst_2['target_id'].unique()))"
   ]
  },
  {
   "cell_type": "code",
   "execution_count": 52,
   "id": "20c85282",
   "metadata": {
    "ExecuteTime": {
     "end_time": "2022-08-02T13:19:15.100723Z",
     "start_time": "2022-08-02T13:19:15.063998Z"
    }
   },
   "outputs": [
    {
     "name": "stdout",
     "output_type": "stream",
     "text": [
      "<class 'pandas.core.frame.DataFrame'>\n",
      "Int64Index: 76889 entries, 134185 to 2539764\n",
      "Data columns (total 6 columns):\n",
      " #   Column      Non-Null Count  Dtype  \n",
      "---  ------      --------------  -----  \n",
      " 0   target_id   76889 non-null  object \n",
      " 1   cmpd_id     76889 non-null  object \n",
      " 2   variable    76889 non-null  float64\n",
      " 3   task_group  76889 non-null  int64  \n",
      " 4   value       76889 non-null  int64  \n",
      " 5   counter     76889 non-null  int64  \n",
      "dtypes: float64(1), int64(3), object(2)\n",
      "memory usage: 4.1+ MB\n",
      "\n",
      " tgt_id       entries\n",
      "CHEMBL2971       22864\n",
      "CHEMBL2835       15859\n",
      "CHEMBL2148       14684\n",
      "CHEMBL3553        5449\n",
      "CHEMBL5747        1988\n",
      "CHEMBL2424504     1917\n",
      "CHEMBL1795177     1872\n",
      "CHEMBL2345        1595\n",
      "CHEMBL3784        1185\n",
      "CHEMBL3906        1176\n",
      "CHEMBL3521         856\n",
      "CHEMBL5500         847\n",
      "CHEMBL4105860      816\n",
      "CHEMBL3108638      732\n",
      "CHEMBL4958         724\n",
      "CHEMBL2163176      638\n",
      "CHEMBL3588739      516\n",
      "CHEMBL2424510      495\n",
      "CHEMBL4237         494\n",
      "CHEMBL2176772      460\n",
      "CHEMBL2553         455\n",
      "CHEMBL1938212      434\n",
      "CHEMBL4081         434\n",
      "CHEMBL1938210      399\n",
      "Name: target_id, dtype: int64\n",
      "24\n"
     ]
    }
   ],
   "source": [
    "# join.groupby(by=['target_id']).nunique('task_group').sort_values(by='task_group')\n",
    "# join.groupby(by=['tid','cid']).nunique('task_group').sort_values(by=['task_group'])\n",
    "# tst = join.groupby(by=['target_id','cmpd_id', 'variable']).sum() ##.sort_values(by=['task_group'])\n",
    "\n",
    "tst_2.info()\n",
    "# tst_2.head()\n",
    "\n",
    "print('\\n tgt_id       entries')\n",
    "print(tst_2['target_id'].value_counts())\n",
    "print(len(tst_2['target_id'].unique()))"
   ]
  },
  {
   "cell_type": "code",
   "execution_count": 60,
   "id": "e6489d5b",
   "metadata": {
    "ExecuteTime": {
     "end_time": "2022-08-02T13:21:54.084823Z",
     "start_time": "2022-08-02T13:21:54.045751Z"
    }
   },
   "outputs": [
    {
     "name": "stdout",
     "output_type": "stream",
     "text": [
      "<class 'pandas.core.frame.DataFrame'>\n",
      "Int64Index: 76889 entries, 134185 to 2539764\n",
      "Data columns (total 6 columns):\n",
      " #   Column      Non-Null Count  Dtype  \n",
      "---  ------      --------------  -----  \n",
      " 0   target_id   76889 non-null  object \n",
      " 1   cmpd_id     76889 non-null  object \n",
      " 2   variable    76889 non-null  float64\n",
      " 3   task_group  76889 non-null  int64  \n",
      " 4   value       76889 non-null  int64  \n",
      " 5   counter     76889 non-null  int64  \n",
      "dtypes: float64(1), int64(3), object(2)\n",
      "memory usage: 4.1+ MB\n",
      "None\n",
      "            target_id        cmpd_id  variable  task_group  value  counter\n",
      "134185  CHEMBL1795177  CHEMBL1829304       5.5           2      2        2\n",
      "134186  CHEMBL1795177  CHEMBL1829304       6.5           2      2        2\n",
      "134187  CHEMBL1795177  CHEMBL1829304       7.5           2      2        2\n",
      "134188  CHEMBL1795177  CHEMBL1829304       8.5           2      2        2\n",
      "134189  CHEMBL1795177  CHEMBL2204995       5.5           2      2        2\n"
     ]
    }
   ],
   "source": [
    "# tst2 = tst[tst['value'] == +2]\n",
    "# print(tst2.info())\n",
    "# print(tst2.head())\n",
    "\n",
    "# print(tst2['target_id'].nunique())\n",
    "# print(tst2['target_id'].unique())"
   ]
  },
  {
   "cell_type": "code",
   "execution_count": 52,
   "id": "10f24c4f",
   "metadata": {
    "ExecuteTime": {
     "end_time": "2022-08-03T08:28:09.022016Z",
     "start_time": "2022-08-03T08:28:08.998747Z"
    }
   },
   "outputs": [
    {
     "data": {
      "text/html": [
       "<div>\n",
       "<style scoped>\n",
       "    .dataframe tbody tr th:only-of-type {\n",
       "        vertical-align: middle;\n",
       "    }\n",
       "\n",
       "    .dataframe tbody tr th {\n",
       "        vertical-align: top;\n",
       "    }\n",
       "\n",
       "    .dataframe thead th {\n",
       "        text-align: right;\n",
       "    }\n",
       "</style>\n",
       "<table border=\"1\" class=\"dataframe\">\n",
       "  <thead>\n",
       "    <tr style=\"text-align: right;\">\n",
       "      <th></th>\n",
       "      <th>cmpd_id</th>\n",
       "    </tr>\n",
       "    <tr>\n",
       "      <th>target_id</th>\n",
       "      <th></th>\n",
       "    </tr>\n",
       "  </thead>\n",
       "  <tbody>\n",
       "    <tr>\n",
       "      <th>CHEMBL3521</th>\n",
       "      <td>856</td>\n",
       "    </tr>\n",
       "    <tr>\n",
       "      <th>CHEMBL4081</th>\n",
       "      <td>434</td>\n",
       "    </tr>\n",
       "    <tr>\n",
       "      <th>CHEMBL4105860</th>\n",
       "      <td>816</td>\n",
       "    </tr>\n",
       "    <tr>\n",
       "      <th>CHEMBL4958</th>\n",
       "      <td>724</td>\n",
       "    </tr>\n",
       "  </tbody>\n",
       "</table>\n",
       "</div>"
      ],
      "text/plain": [
       "               cmpd_id\n",
       "target_id             \n",
       "CHEMBL3521         856\n",
       "CHEMBL4081         434\n",
       "CHEMBL4105860      816\n",
       "CHEMBL4958         724"
      ]
     },
     "execution_count": 52,
     "metadata": {},
     "output_type": "execute_result"
    }
   ],
   "source": [
    "tst22 = tst2[['target_id', 'cmpd_id']].groupby(by=['target_id']).count()\n",
    "tst22"
   ]
  },
  {
   "cell_type": "code",
   "execution_count": 74,
   "id": "b73f57c5",
   "metadata": {
    "ExecuteTime": {
     "end_time": "2022-08-02T13:29:53.295674Z",
     "start_time": "2022-08-02T13:29:53.261221Z"
    }
   },
   "outputs": [
    {
     "data": {
      "text/html": [
       "<div>\n",
       "<style scoped>\n",
       "    .dataframe tbody tr th:only-of-type {\n",
       "        vertical-align: middle;\n",
       "    }\n",
       "\n",
       "    .dataframe tbody tr th {\n",
       "        vertical-align: top;\n",
       "    }\n",
       "\n",
       "    .dataframe thead th {\n",
       "        text-align: right;\n",
       "    }\n",
       "</style>\n",
       "<table border=\"1\" class=\"dataframe\">\n",
       "  <thead>\n",
       "    <tr style=\"text-align: right;\">\n",
       "      <th></th>\n",
       "      <th>cmpd_id</th>\n",
       "    </tr>\n",
       "    <tr>\n",
       "      <th>target_id</th>\n",
       "      <th></th>\n",
       "    </tr>\n",
       "  </thead>\n",
       "  <tbody>\n",
       "    <tr>\n",
       "      <th>CHEMBL1795177</th>\n",
       "      <td>1872</td>\n",
       "    </tr>\n",
       "    <tr>\n",
       "      <th>CHEMBL1938210</th>\n",
       "      <td>399</td>\n",
       "    </tr>\n",
       "    <tr>\n",
       "      <th>CHEMBL1938212</th>\n",
       "      <td>434</td>\n",
       "    </tr>\n",
       "    <tr>\n",
       "      <th>CHEMBL2148</th>\n",
       "      <td>14684</td>\n",
       "    </tr>\n",
       "    <tr>\n",
       "      <th>CHEMBL2163176</th>\n",
       "      <td>638</td>\n",
       "    </tr>\n",
       "    <tr>\n",
       "      <th>CHEMBL2176772</th>\n",
       "      <td>460</td>\n",
       "    </tr>\n",
       "    <tr>\n",
       "      <th>CHEMBL2345</th>\n",
       "      <td>1595</td>\n",
       "    </tr>\n",
       "    <tr>\n",
       "      <th>CHEMBL2424504</th>\n",
       "      <td>1917</td>\n",
       "    </tr>\n",
       "    <tr>\n",
       "      <th>CHEMBL2424510</th>\n",
       "      <td>495</td>\n",
       "    </tr>\n",
       "    <tr>\n",
       "      <th>CHEMBL2553</th>\n",
       "      <td>455</td>\n",
       "    </tr>\n",
       "    <tr>\n",
       "      <th>CHEMBL2835</th>\n",
       "      <td>15859</td>\n",
       "    </tr>\n",
       "    <tr>\n",
       "      <th>CHEMBL2971</th>\n",
       "      <td>22864</td>\n",
       "    </tr>\n",
       "    <tr>\n",
       "      <th>CHEMBL3108638</th>\n",
       "      <td>732</td>\n",
       "    </tr>\n",
       "    <tr>\n",
       "      <th>CHEMBL3521</th>\n",
       "      <td>856</td>\n",
       "    </tr>\n",
       "    <tr>\n",
       "      <th>CHEMBL3553</th>\n",
       "      <td>5449</td>\n",
       "    </tr>\n",
       "    <tr>\n",
       "      <th>CHEMBL3588739</th>\n",
       "      <td>516</td>\n",
       "    </tr>\n",
       "    <tr>\n",
       "      <th>CHEMBL3784</th>\n",
       "      <td>1185</td>\n",
       "    </tr>\n",
       "    <tr>\n",
       "      <th>CHEMBL3906</th>\n",
       "      <td>1176</td>\n",
       "    </tr>\n",
       "    <tr>\n",
       "      <th>CHEMBL4081</th>\n",
       "      <td>434</td>\n",
       "    </tr>\n",
       "    <tr>\n",
       "      <th>CHEMBL4105860</th>\n",
       "      <td>816</td>\n",
       "    </tr>\n",
       "    <tr>\n",
       "      <th>CHEMBL4237</th>\n",
       "      <td>494</td>\n",
       "    </tr>\n",
       "    <tr>\n",
       "      <th>CHEMBL4958</th>\n",
       "      <td>724</td>\n",
       "    </tr>\n",
       "    <tr>\n",
       "      <th>CHEMBL5500</th>\n",
       "      <td>847</td>\n",
       "    </tr>\n",
       "    <tr>\n",
       "      <th>CHEMBL5747</th>\n",
       "      <td>1988</td>\n",
       "    </tr>\n",
       "  </tbody>\n",
       "</table>\n",
       "</div>"
      ],
      "text/plain": [
       "               cmpd_id\n",
       "target_id             \n",
       "CHEMBL1795177     1872\n",
       "CHEMBL1938210      399\n",
       "CHEMBL1938212      434\n",
       "CHEMBL2148       14684\n",
       "CHEMBL2163176      638\n",
       "CHEMBL2176772      460\n",
       "CHEMBL2345        1595\n",
       "CHEMBL2424504     1917\n",
       "CHEMBL2424510      495\n",
       "CHEMBL2553         455\n",
       "CHEMBL2835       15859\n",
       "CHEMBL2971       22864\n",
       "CHEMBL3108638      732\n",
       "CHEMBL3521         856\n",
       "CHEMBL3553        5449\n",
       "CHEMBL3588739      516\n",
       "CHEMBL3784        1185\n",
       "CHEMBL3906        1176\n",
       "CHEMBL4081         434\n",
       "CHEMBL4105860      816\n",
       "CHEMBL4237         494\n",
       "CHEMBL4958         724\n",
       "CHEMBL5500         847\n",
       "CHEMBL5747        1988"
      ]
     },
     "execution_count": 74,
     "metadata": {},
     "output_type": "execute_result"
    }
   ],
   "source": [
    "tst22 = tst2[['target_id', 'cmpd_id']].groupby(by=['target_id']).count()\n",
    "tst22"
   ]
  },
  {
   "cell_type": "code",
   "execution_count": 53,
   "id": "3a23454d",
   "metadata": {
    "ExecuteTime": {
     "end_time": "2022-08-03T08:28:56.802099Z",
     "start_time": "2022-08-03T08:28:56.777743Z"
    }
   },
   "outputs": [
    {
     "name": "stdout",
     "output_type": "stream",
     "text": [
      "<class 'pandas.core.frame.DataFrame'>\n",
      "Int64Index: 0 entries\n",
      "Data columns (total 6 columns):\n",
      " #   Column      Non-Null Count  Dtype  \n",
      "---  ------      --------------  -----  \n",
      " 0   target_id   0 non-null      object \n",
      " 1   cmpd_id     0 non-null      object \n",
      " 2   variable    0 non-null      float64\n",
      " 3   task_group  0 non-null      int64  \n",
      " 4   value       0 non-null      int64  \n",
      " 5   counter     0 non-null      int64  \n",
      "dtypes: float64(1), int64(3), object(2)\n",
      "memory usage: 0.0+ bytes\n",
      "None\n",
      "Empty DataFrame\n",
      "Columns: [target_id, cmpd_id, variable, task_group, value, counter]\n",
      "Index: []\n",
      "0\n"
     ]
    }
   ],
   "source": [
    "tst3 = tst1[tst1['value'] == +3]\n",
    "print(tst3.info())\n",
    "print(tst3.head())\n",
    "\n",
    "print(tst3['target_id'].nunique())"
   ]
  },
  {
   "cell_type": "code",
   "execution_count": 113,
   "id": "ab63d7a9",
   "metadata": {
    "ExecuteTime": {
     "end_time": "2022-08-02T13:48:27.417594Z",
     "start_time": "2022-08-02T13:48:27.391439Z"
    }
   },
   "outputs": [
    {
     "name": "stdout",
     "output_type": "stream",
     "text": [
      "target_id      cmpd_id        task_group\n",
      "CHEMBL3132741  CHEMBL1346130  3             4\n",
      "CHEMBL6175     CHEMBL3775262  3             4\n",
      "               CHEMBL3775431  3             4\n",
      "               CHEMBL3775380  3             4\n",
      "               CHEMBL3775366  3             4\n",
      "                                           ..\n",
      "               CHEMBL3786963  3             1\n",
      "               CHEMBL3786862  3             1\n",
      "               CHEMBL3786644  3             1\n",
      "               CHEMBL3785491  3             1\n",
      "CHEMBL5896     CHEMBL3786644  3             1\n",
      "Length: 1206, dtype: int64\n"
     ]
    }
   ],
   "source": [
    "print(tst3[['target_id','cmpd_id', 'task_group']].value_counts())"
   ]
  },
  {
   "cell_type": "code",
   "execution_count": 106,
   "id": "7c2d1a4b",
   "metadata": {
    "ExecuteTime": {
     "end_time": "2022-08-02T13:44:12.700101Z",
     "start_time": "2022-08-02T13:44:12.349656Z"
    }
   },
   "outputs": [
    {
     "data": {
      "text/html": [
       "<div>\n",
       "<style scoped>\n",
       "    .dataframe tbody tr th:only-of-type {\n",
       "        vertical-align: middle;\n",
       "    }\n",
       "\n",
       "    .dataframe tbody tr th {\n",
       "        vertical-align: top;\n",
       "    }\n",
       "\n",
       "    .dataframe thead th {\n",
       "        text-align: right;\n",
       "    }\n",
       "</style>\n",
       "<table border=\"1\" class=\"dataframe\">\n",
       "  <thead>\n",
       "    <tr style=\"text-align: right;\">\n",
       "      <th></th>\n",
       "      <th></th>\n",
       "    </tr>\n",
       "    <tr>\n",
       "      <th>target_id</th>\n",
       "      <th>task_group</th>\n",
       "    </tr>\n",
       "  </thead>\n",
       "  <tbody>\n",
       "    <tr>\n",
       "      <th>CHEMBL1075097</th>\n",
       "      <th>1</th>\n",
       "    </tr>\n",
       "    <tr>\n",
       "      <th>CHEMBL1075104</th>\n",
       "      <th>1</th>\n",
       "    </tr>\n",
       "    <tr>\n",
       "      <th>CHEMBL1075138</th>\n",
       "      <th>1</th>\n",
       "    </tr>\n",
       "    <tr>\n",
       "      <th>CHEMBL1075145</th>\n",
       "      <th>1</th>\n",
       "    </tr>\n",
       "    <tr>\n",
       "      <th>CHEMBL1075165</th>\n",
       "      <th>1</th>\n",
       "    </tr>\n",
       "    <tr>\n",
       "      <th>...</th>\n",
       "      <th>...</th>\n",
       "    </tr>\n",
       "    <tr>\n",
       "      <th>CHEMBL6154</th>\n",
       "      <th>1</th>\n",
       "    </tr>\n",
       "    <tr>\n",
       "      <th>CHEMBL6164</th>\n",
       "      <th>1</th>\n",
       "    </tr>\n",
       "    <tr>\n",
       "      <th>CHEMBL6166</th>\n",
       "      <th>1</th>\n",
       "    </tr>\n",
       "    <tr>\n",
       "      <th>CHEMBL6167</th>\n",
       "      <th>1</th>\n",
       "    </tr>\n",
       "    <tr>\n",
       "      <th>CHEMBL6175</th>\n",
       "      <th>3</th>\n",
       "    </tr>\n",
       "  </tbody>\n",
       "</table>\n",
       "<p>888 rows × 0 columns</p>\n",
       "</div>"
      ],
      "text/plain": [
       "Empty DataFrame\n",
       "Columns: []\n",
       "Index: [(CHEMBL1075097, 1), (CHEMBL1075104, 1), (CHEMBL1075138, 1), (CHEMBL1075145, 1), (CHEMBL1075165, 1), (CHEMBL1075315, 1), (CHEMBL1075317, 1), (CHEMBL1075319, 1), (CHEMBL1075322, 1), (CHEMBL1163101, 1), (CHEMBL1163125, 1), (CHEMBL1250348, 1), (CHEMBL1250411, 1), (CHEMBL1255126, 1), (CHEMBL1275212, 1), (CHEMBL1275221, 1), (CHEMBL1287622, 1), (CHEMBL1287623, 1), (CHEMBL1287625, 1), (CHEMBL1287628, 1), (CHEMBL1293194, 1), (CHEMBL1293222, 1), (CHEMBL1293224, 1), (CHEMBL1293229, 1), (CHEMBL1293240, 1), (CHEMBL1293249, 1), (CHEMBL1293255, 1), (CHEMBL1293265, 1), (CHEMBL1293266, 1), (CHEMBL1293267, 1), (CHEMBL1293274, 1), (CHEMBL1293286, 1), (CHEMBL1293287, 1), (CHEMBL1293289, 1), (CHEMBL1293292, 1), (CHEMBL1293293, 1), (CHEMBL1615381, 1), (CHEMBL1615382, 1), (CHEMBL1615387, 1), (CHEMBL1628481, 1), (CHEMBL1697668, 1), (CHEMBL1741162, 1), (CHEMBL1741176, 1), (CHEMBL1741179, 1), (CHEMBL1741186, 1), (CHEMBL1741200, 1), (CHEMBL1741207, 1), (CHEMBL1741208, 1), (CHEMBL1741213, 1), (CHEMBL1741215, 1), (CHEMBL1741217, 1), (CHEMBL1741221, 1), (CHEMBL1743128, 1), (CHEMBL1743183, 1), (CHEMBL1744525, 1), (CHEMBL1764946, 1), (CHEMBL1781, 1), (CHEMBL1782, 1), (CHEMBL1784, 1), (CHEMBL1785, 1), (CHEMBL1787, 1), (CHEMBL1790, 1), (CHEMBL1792, 1), (CHEMBL1795093, 1), (CHEMBL1795094, 1), (CHEMBL1795098, 1), (CHEMBL1795117, 1), (CHEMBL1795177, 2), (CHEMBL1795186, 1), (CHEMBL1798, 1), (CHEMBL1800, 1), (CHEMBL1801, 1), (CHEMBL1804, 1), (CHEMBL1806, 1), (CHEMBL1808, 1), (CHEMBL1811, 1), (CHEMBL1821, 1), (CHEMBL1824, 1), (CHEMBL1825, 1), (CHEMBL1827, 1), (CHEMBL1829, 1), (CHEMBL1832, 1), (CHEMBL1833, 1), (CHEMBL1835, 1), (CHEMBL1836, 1), (CHEMBL1841, 1), (CHEMBL1844, 1), (CHEMBL1853, 1), (CHEMBL1855, 1), (CHEMBL1856, 1), (CHEMBL1859, 1), (CHEMBL1860, 1), (CHEMBL1862, 1), (CHEMBL1865, 1), (CHEMBL1867, 1), (CHEMBL1868, 1), (CHEMBL1871, 1), (CHEMBL1873, 1), (CHEMBL1878, 1), (CHEMBL1881, 1), ...]\n",
       "\n",
       "[888 rows x 0 columns]"
      ]
     },
     "execution_count": 106,
     "metadata": {},
     "output_type": "execute_result"
    }
   ],
   "source": [
    "tst32 = tst[['target_id', 'task_group']].groupby(by=['target_id', 'task_group']).count()  \n",
    "tst32"
   ]
  },
  {
   "cell_type": "code",
   "execution_count": 101,
   "id": "fc58931d",
   "metadata": {
    "ExecuteTime": {
     "end_time": "2022-08-02T13:42:07.944036Z",
     "start_time": "2022-08-02T13:42:07.922001Z"
    }
   },
   "outputs": [
    {
     "data": {
      "text/html": [
       "<div>\n",
       "<style scoped>\n",
       "    .dataframe tbody tr th:only-of-type {\n",
       "        vertical-align: middle;\n",
       "    }\n",
       "\n",
       "    .dataframe tbody tr th {\n",
       "        vertical-align: top;\n",
       "    }\n",
       "\n",
       "    .dataframe thead th {\n",
       "        text-align: right;\n",
       "    }\n",
       "</style>\n",
       "<table border=\"1\" class=\"dataframe\">\n",
       "  <thead>\n",
       "    <tr style=\"text-align: right;\">\n",
       "      <th></th>\n",
       "      <th>target_id</th>\n",
       "      <th>task_group</th>\n",
       "    </tr>\n",
       "  </thead>\n",
       "  <tbody>\n",
       "    <tr>\n",
       "      <th>1440117</th>\n",
       "      <td>CHEMBL3132741</td>\n",
       "      <td>3</td>\n",
       "    </tr>\n",
       "    <tr>\n",
       "      <th>1440118</th>\n",
       "      <td>CHEMBL3132741</td>\n",
       "      <td>3</td>\n",
       "    </tr>\n",
       "    <tr>\n",
       "      <th>1440119</th>\n",
       "      <td>CHEMBL3132741</td>\n",
       "      <td>3</td>\n",
       "    </tr>\n",
       "    <tr>\n",
       "      <th>1440120</th>\n",
       "      <td>CHEMBL3132741</td>\n",
       "      <td>3</td>\n",
       "    </tr>\n",
       "    <tr>\n",
       "      <th>1440121</th>\n",
       "      <td>CHEMBL3132741</td>\n",
       "      <td>3</td>\n",
       "    </tr>\n",
       "  </tbody>\n",
       "</table>\n",
       "</div>"
      ],
      "text/plain": [
       "             target_id  task_group\n",
       "1440117  CHEMBL3132741           3\n",
       "1440118  CHEMBL3132741           3\n",
       "1440119  CHEMBL3132741           3\n",
       "1440120  CHEMBL3132741           3\n",
       "1440121  CHEMBL3132741           3"
      ]
     },
     "execution_count": 101,
     "metadata": {},
     "output_type": "execute_result"
    }
   ],
   "source": [
    " tst3[['target_id', 'task_group']] "
   ]
  },
  {
   "cell_type": "code",
   "execution_count": 10,
   "id": "0c4631fb",
   "metadata": {
    "ExecuteTime": {
     "end_time": "2022-08-02T13:11:35.581716Z",
     "start_time": "2022-08-02T13:11:35.562239Z"
    }
   },
   "outputs": [],
   "source": [
    "# print(tst2.nunique())\n",
    "# print(tst2['target_id'].value_counts())\n",
    "# print(tst2)"
   ]
  },
  {
   "cell_type": "code",
   "execution_count": 11,
   "id": "7ac6ebff",
   "metadata": {
    "ExecuteTime": {
     "end_time": "2022-08-02T13:11:35.615698Z",
     "start_time": "2022-08-02T13:11:35.587463Z"
    },
    "scrolled": true
   },
   "outputs": [],
   "source": [
    "# tst22 = tst2.groupby(by=['target_id']).sum()\n",
    "# tst22"
   ]
  },
  {
   "cell_type": "code",
   "execution_count": 12,
   "id": "e54bb08d",
   "metadata": {
    "ExecuteTime": {
     "end_time": "2022-08-02T13:11:35.644565Z",
     "start_time": "2022-08-02T13:11:35.620760Z"
    }
   },
   "outputs": [],
   "source": [
    "# tst2['target_id'].value_counts()"
   ]
  },
  {
   "cell_type": "code",
   "execution_count": 13,
   "id": "5ef6608c",
   "metadata": {
    "ExecuteTime": {
     "end_time": "2022-08-02T13:11:35.669122Z",
     "start_time": "2022-08-02T13:11:35.648317Z"
    }
   },
   "outputs": [],
   "source": [
    "# tst2_sum = tst2.groupby(by=['target_id']).count().sum(axis=0)\n",
    "# tst2_sum"
   ]
  },
  {
   "cell_type": "code",
   "execution_count": 14,
   "id": "319a93e8",
   "metadata": {
    "ExecuteTime": {
     "end_time": "2022-08-02T13:11:35.692421Z",
     "start_time": "2022-08-02T13:11:35.673232Z"
    }
   },
   "outputs": [],
   "source": [
    "# tst3 = tst[tst['value'] == +3]\n",
    "# tst3.info()\n",
    "# tst3.head()\n",
    "\n",
    "# print(tst3.nunique())\n",
    "# tst3"
   ]
  },
  {
   "cell_type": "code",
   "execution_count": 15,
   "id": "2b405430",
   "metadata": {
    "ExecuteTime": {
     "end_time": "2022-08-02T13:11:35.715333Z",
     "start_time": "2022-08-02T13:11:35.695812Z"
    },
    "scrolled": true
   },
   "outputs": [],
   "source": [
    "# tst2.groupby(by=['target_id']).count()"
   ]
  },
  {
   "cell_type": "code",
   "execution_count": null,
   "id": "586c278d",
   "metadata": {},
   "outputs": [],
   "source": []
  },
  {
   "cell_type": "markdown",
   "id": "20635246",
   "metadata": {
    "heading_collapsed": true
   },
   "source": [
    "## Create `Ymask` sparse matrix"
   ]
  },
  {
   "cell_type": "markdown",
   "id": "2b4ae0c4",
   "metadata": {
    "hidden": true
   },
   "source": [
    "    #-----------------------------------------------------------------------------------------------------\n",
    "    # Build COOrdiante formatted sparse matrices for Ymask and  Y\n",
    "    #\n",
    "    # Ymask =  coo_matrix((data, (i, j)), [shape=(M, N)])\n",
    "    # to construct from three arrays:\n",
    "    # data[:] the entries of the matrix, in any order\n",
    "    # \n",
    "    # i[:] the row indices of the matrix entries\n",
    "    # j[:] the column indices of the matrix entries\n",
    "    # \n",
    "    # Where A[i[k], j[k]] = data[k]. When shape is not specified, it is inferred from the index arrays\n",
    "    #\n",
    "    # Number of rows    : Ncmpd - Unique compound ids \n",
    "    # Number of columns : Ncol  - Number of unique target ids x number of unqiue thresholds \n",
    "    #\n",
    "    #\n",
    "    #-----------------------------------------------------------------------------------------------------\n",
    "    \n",
    "    Dims:   `Ncmpd x NCol`"
   ]
  },
  {
   "cell_type": "code",
   "execution_count": 54,
   "id": "29811f62",
   "metadata": {
    "ExecuteTime": {
     "end_time": "2022-08-03T08:29:21.207213Z",
     "start_time": "2022-08-03T08:29:20.776524Z"
    },
    "hidden": true
   },
   "outputs": [
    {
     "name": "stdout",
     "output_type": "stream",
     "text": [
      "\n",
      " # of compounds Ncmpd: 423737    \n",
      " # of columns   Ncol : (# unique target_ids x # unique thresholds ) = (888 x 4): 3552\n"
     ]
    }
   ],
   "source": [
    "print()\n",
    "Ncmpd = len(set(cmpd_list['cid']))\n",
    "Ncol  = len(df[\"target_id\"].unique()) * len(df[\"variable\"].unique())\n",
    "\n",
    "print(f\" # of compounds Ncmpd: {Ncmpd}    \")\n",
    "print(f\" # of columns   Ncol : (# unique target_ids x # unique thresholds ) = ({len(df['target_id'].unique())} x {len(df['variable'].unique())}): {Ncol}\")\n",
    "\n",
    "I = join[\"cid\"].to_numpy()                         ## Rows: Compund Ids\n",
    "J = (Nvar * join[\"tid\"] + join[\"vid\"]).to_numpy()  ## Columns: (4 x tid) + vid\n",
    "V = np.ones(len(I))\n",
    "\n",
    "Ymask = scipy.sparse.coo_matrix((V,(I,J)),(Ncmpd,Ncol))"
   ]
  },
  {
   "cell_type": "code",
   "execution_count": 55,
   "id": "dfd0f459",
   "metadata": {
    "ExecuteTime": {
     "end_time": "2022-08-03T08:29:26.852225Z",
     "start_time": "2022-08-03T08:29:26.537204Z"
    },
    "hidden": true
   },
   "outputs": [
    {
     "name": "stdout",
     "output_type": "stream",
     "text": [
      " I (Row coordiantes) Len: 2615084 - [173927 150148 143524 ...    211 118961    159]\n",
      " J (Col coordiantes) Len: 2615084 - [   0    0    0 ... 3467 3467 3467]\n",
      " V (Data)            Len: 2615084 - [1. 1. 1. ... 1. 1. 1.] min: 1.0 max: 1.0\n"
     ]
    }
   ],
   "source": [
    "print(f' I (Row coordiantes) Len: {len(I)} - {I}') ## Rows \n",
    "print(f' J (Col coordiantes) Len: {len(J)} - {J}') ## Columns \n",
    "print(f' V (Data)            Len: {len(V)} - {V} min: {min(V)} max: {max(V)}') # Data"
   ]
  },
  {
   "cell_type": "code",
   "execution_count": 56,
   "id": "c56b3202",
   "metadata": {
    "ExecuteTime": {
     "end_time": "2022-08-03T08:29:30.235414Z",
     "start_time": "2022-08-03T08:29:29.249121Z"
    },
    "hidden": true
   },
   "outputs": [
    {
     "name": "stdout",
     "output_type": "stream",
     "text": [
      " Ymask        : <class 'scipy.sparse.coo.coo_matrix'>      Shape: (423737, 3552)\n",
      " Ymask.data   : <class 'numpy.ndarray'> Shape: (2615084,)\n",
      "\n",
      " #(Ymask < 0) : 0\n",
      " #(Ymask > 0) : 2612254\n",
      " #(Ymask = 1) : 2609424\n",
      " #(Ymask = 2) : 2830\n",
      " #(Ymask = 3) : 0\n",
      " #(Ymask = 4) : 0\n",
      " #(Ymask = 5) : 0\n",
      " #(Ymask > 5) : 0\n",
      " Ymask.sum()  : 2615084.0\n"
     ]
    }
   ],
   "source": [
    "Ymask_neg = (Ymask < 0)\n",
    "\n",
    "print(f\" Ymask        : {type(Ymask)}      Shape: {Ymask.shape}\")    \n",
    "print(f\" Ymask.data   : {type(Ymask.data)} Shape: {Ymask.data.shape}\")\n",
    "print()\n",
    "print(f\" #(Ymask < 0) : {(Ymask<0).sum()}\")\n",
    "print(f\" #(Ymask > 0) : {(Ymask>0).sum()}\")\n",
    "print(f\" #(Ymask = 1) : {(Ymask==1).sum()}\")\n",
    "print(f\" #(Ymask = 2) : {(Ymask==2).sum()}\")\n",
    "print(f\" #(Ymask = 3) : {(Ymask==3).sum()}\")\n",
    "print(f\" #(Ymask = 4) : {(Ymask==4).sum()}\")\n",
    "print(f\" #(Ymask = 5) : {(Ymask==5).sum()}\")\n",
    "print(f\" #(Ymask > 5) : {(Ymask>5).sum()}\")\n",
    "print(f\" Ymask.sum()  : {Ymask.sum()}\")\n",
    "# print(Ymask)"
   ]
  },
  {
   "cell_type": "markdown",
   "id": "78bcadb0",
   "metadata": {
    "heading_collapsed": true
   },
   "source": [
    "##  Create Y sparse matrix "
   ]
  },
  {
   "cell_type": "code",
   "execution_count": 57,
   "id": "93660ce3",
   "metadata": {
    "ExecuteTime": {
     "end_time": "2022-08-03T08:29:41.779014Z",
     "start_time": "2022-08-03T08:29:41.461016Z"
    },
    "hidden": true
   },
   "outputs": [
    {
     "name": "stdout",
     "output_type": "stream",
     "text": [
      " I (Row coordiantes) Len: 2615084 - [173927 150148 143524 ...    211 118961    159]\n",
      " J (Col coordiantes) Len: 2615084 - [   0    0    0 ... 3467 3467 3467]\n",
      " V (Data)            Len: 2615084 - [ 1.  1. -1. ... -1. -1. -1.] min: -1.0 max: 1.0\n"
     ]
    }
   ],
   "source": [
    "y_data = join[\"value\"].to_numpy()\n",
    "\n",
    "print(f' I (Row coordiantes) Len: {len(I)} - {I}') ## Rows \n",
    "print(f' J (Col coordiantes) Len: {len(J)} - {J}') ## Columns \n",
    "print(f' V (Data)            Len: {len(y_data)} - {y_data} min: {min(y_data)} max: {max(y_data)}') # Data"
   ]
  },
  {
   "cell_type": "code",
   "execution_count": 58,
   "id": "17903b67",
   "metadata": {
    "ExecuteTime": {
     "end_time": "2022-08-03T08:29:43.582044Z",
     "start_time": "2022-08-03T08:29:43.552569Z"
    },
    "hidden": true
   },
   "outputs": [],
   "source": [
    "Y_coo = scipy.sparse.coo_matrix((y_data,(I,J)),(Ncmpd, Ncol))"
   ]
  },
  {
   "cell_type": "code",
   "execution_count": 59,
   "id": "76a1260f",
   "metadata": {
    "ExecuteTime": {
     "end_time": "2022-08-03T08:29:43.898807Z",
     "start_time": "2022-08-03T08:29:43.747136Z"
    },
    "hidden": true
   },
   "outputs": [],
   "source": [
    "Y = scipy.sparse.csr_matrix((y_data,(I,J)),(Ncmpd, Ncol))"
   ]
  },
  {
   "cell_type": "code",
   "execution_count": 62,
   "id": "a9713f75",
   "metadata": {
    "ExecuteTime": {
     "end_time": "2022-08-03T08:30:51.679210Z",
     "start_time": "2022-08-03T08:30:51.508469Z"
    },
    "hidden": true
   },
   "outputs": [
    {
     "name": "stdout",
     "output_type": "stream",
     "text": [
      "<423737x3552 sparse matrix of type '<class 'numpy.float64'>'\n",
      "\twith 2612254 stored elements in Compressed Sparse Row format>\n",
      " #  (Y < 0 ) : 1679110\n",
      " #  (Y != 0) : 2612254\n",
      " #  (Y > 0)  : 933144\n",
      "\n",
      " #  (Y <= -3): 0\n",
      " #  (Y = -2) : 0\n",
      " #  (Y = -1) : 1679110\n",
      " #  (Y = 1)  : 933144\n",
      " #  (Y = 2)  : 0\n",
      " #  (Y >= 3) : 0\n",
      " Y.sum()     : -745966.0\n"
     ]
    }
   ],
   "source": [
    "print(repr(Y))\n",
    "print(f\" #  (Y < 0 ) : {(Y<0).sum()}\")\n",
    "print(f\" #  (Y != 0) : {(Y!=0).sum()}\")\n",
    "print(f\" #  (Y > 0)  : {(Y>0).sum()}\")\n",
    "print()\n",
    "print(f\" #  (Y <= -3): {(Y <=-3).sum()}\")\n",
    "print(f\" #  (Y = -2) : {(Y ==-2).sum()}\")\n",
    "print(f\" #  (Y = -1) : {(Y ==-1).sum()}\")\n",
    "print(f\" #  (Y = 1)  : {(Y == 1).sum()}\")\n",
    "print(f\" #  (Y = 2)  : {(Y == 2).sum()}\")\n",
    "print(f\" #  (Y >= 3) : {(Y >= 3).sum()}\")\n",
    "print(f\" Y.sum()     : {Y.sum()}\")"
   ]
  },
  {
   "cell_type": "code",
   "execution_count": 61,
   "id": "cedaf0f9",
   "metadata": {
    "ExecuteTime": {
     "end_time": "2022-08-03T08:29:57.372055Z",
     "start_time": "2022-08-03T08:29:57.253592Z"
    },
    "hidden": true
   },
   "outputs": [
    {
     "name": "stdout",
     "output_type": "stream",
     "text": [
      " ============ MODIFY > +1 ===========\n",
      " ============ MODIFY < -1 ===========\n"
     ]
    }
   ],
   "source": [
    "if (Y >= +2).sum():\n",
    "    print(\" ============ MODIFY > +1 ===========\")\n",
    "    Y[Y >= +2] = +1\n",
    "#     modify = True\n",
    "\n",
    "if (Y <= -2).sum():\n",
    "    print(\" ============ MODIFY < -1 ===========\")\n",
    "    Y[Y <= -1] = -1\n",
    "#     modify = True# print(Y)"
   ]
  },
  {
   "cell_type": "markdown",
   "id": "00a1ba32",
   "metadata": {
    "ExecuteTime": {
     "end_time": "2022-07-25T15:15:48.071263Z",
     "start_time": "2022-07-25T15:15:48.057069Z"
    }
   },
   "source": [
    "## Write Y file"
   ]
  },
  {
   "cell_type": "code",
   "execution_count": 63,
   "id": "5f9e6f2e",
   "metadata": {
    "ExecuteTime": {
     "end_time": "2022-08-03T08:31:06.327638Z",
     "start_time": "2022-08-03T08:31:06.311704Z"
    }
   },
   "outputs": [
    {
     "name": "stdout",
     "output_type": "stream",
     "text": [
      "output/chembl_29_dev/chembl_29_dev_Y_all.npy\n"
     ]
    }
   ],
   "source": [
    "conf.y\n",
    "all_Y_filename = conf.y[:-3]+\"npy\"\n",
    "print(all_Y_filename)"
   ]
  },
  {
   "cell_type": "code",
   "execution_count": 64,
   "id": "8425c1ef",
   "metadata": {
    "ExecuteTime": {
     "end_time": "2022-08-03T08:31:09.670947Z",
     "start_time": "2022-08-03T08:31:09.616251Z"
    }
   },
   "outputs": [
    {
     "name": "stdout",
     "output_type": "stream",
     "text": [
      "write Y file to: output/chembl_29_dev/chembl_29_dev_Y_all.npy\n"
     ]
    }
   ],
   "source": [
    "np.save(all_Y_filename, Y)\n",
    "print(f\"write Y file to: {all_Y_filename}\")"
   ]
  },
  {
   "cell_type": "markdown",
   "id": "814b9518",
   "metadata": {
    "ExecuteTime": {
     "end_time": "2022-07-25T15:15:48.071263Z",
     "start_time": "2022-07-25T15:15:48.057069Z"
    },
    "heading_collapsed": true
   },
   "source": [
    "## Write Y file for each task group"
   ]
  },
  {
   "cell_type": "code",
   "execution_count": 65,
   "id": "e4c239ef",
   "metadata": {
    "ExecuteTime": {
     "end_time": "2022-08-03T08:31:18.653345Z",
     "start_time": "2022-08-03T08:31:18.567885Z"
    },
    "hidden": true
   },
   "outputs": [
    {
     "name": "stdout",
     "output_type": "stream",
     "text": [
      "10 [   1 1028   10   11    0 1005    6  836  643 1031]\n",
      " threshold count 4\n",
      "6       702258\n",
      "11      336091\n",
      "1028    323448\n",
      "1       309909\n",
      "0       270448\n",
      "10      155187\n",
      "1005    149426\n",
      "836     130131\n",
      "1031    126553\n",
      "643     111633\n",
      "Name: task_group, dtype: int64\n"
     ]
    }
   ],
   "source": [
    "task_groups = join['task_group'].unique()\n",
    "print(len(task_groups), task_groups)\n",
    "\n",
    "threshold_count = len(df[\"variable\"].unique())\n",
    "print(f\" threshold count {threshold_count}\")\n",
    "print(join['task_group'].value_counts())"
   ]
  },
  {
   "cell_type": "markdown",
   "id": "3849fb22",
   "metadata": {
    "hidden": true
   },
   "source": [
    "    Previous:\n",
    "    ----------------\n",
    "    10 [   1 1028   10   11    0 1005    6  836  643 1031]\n",
    "     threshold count 4\n",
    "    6       764834\n",
    "    11      336091\n",
    "    1028    323448\n",
    "    1       309909\n",
    "    0       270448\n",
    "    10      155187\n",
    "    836     150758\n",
    "    1005    149426\n",
    "    1031    126553\n",
    "    643     111633\n",
    "    Name: task_group, dtype: int64"
   ]
  },
  {
   "cell_type": "code",
   "execution_count": null,
   "id": "9d043ffc",
   "metadata": {
    "hidden": true
   },
   "outputs": [],
   "source": []
  },
  {
   "cell_type": "code",
   "execution_count": 115,
   "id": "2eb7bc35",
   "metadata": {
    "ExecuteTime": {
     "end_time": "2022-08-03T08:58:15.552643Z",
     "start_time": "2022-08-03T08:58:14.193719Z"
    },
    "hidden": true,
    "scrolled": false
   },
   "outputs": [
    {
     "name": "stdout",
     "output_type": "stream",
     "text": [
      "\n",
      "---------------------\n",
      "   Taskgroup    1 \n",
      "---------------------\n",
      "\n",
      " Taskgroup      1 - rows: 309909\n",
      " Target_list shape      : (156, 2)\n",
      " tg_targer_count        : 156\n",
      " Number of columns      : 624\n",
      " I (Row coordiantes) Len: 309909 - [173927 150148 143524 ... 226340 225143 225274]\n",
      " J (Col coordiantes) Len: 309909 - [  0   0   0 ... 623 623 623]\n",
      " V (Data)            Len: 309909 - [ 1.  1. -1. ... -1. -1. -1.] min: -1.0 max: 1.0\n",
      " Sparse matrix shape    : (423737, 624)\n",
      "<423737x624 sparse matrix of type '<class 'numpy.float64'>'\n",
      "\twith 309909 stored elements in Compressed Sparse Row format>\n",
      " #  (Y < 0 ) : 219244\n",
      " #  (Y > 0)  : 90665\n",
      " #  (Y != 0) : 309909\n",
      "\n",
      " #  (Y < -3) : 0\n",
      " #  (Y = -3) : 0\n",
      " #  (Y = -2) : 0\n",
      " #  (Y = -1) : 219244\n",
      " #  (Y = +1) : 90665\n",
      " #  (Y = +2) : 0\n",
      " #  (Y = +3) : 0\n",
      " #  (Y > +3) : 0\n",
      " Y.sum() +   : -128579.0\n",
      " Taskgroup 1 written to output/chembl_29_dev/chembl_29_dev_Y_tg_1_cols_624.npy \n",
      "\n",
      "---------------------\n",
      "   Taskgroup 1028 \n",
      "---------------------\n",
      "\n",
      " Taskgroup   1028 - rows: 323448\n",
      " Target_list shape      : (86, 2)\n",
      " tg_targer_count        : 86\n",
      " Number of columns      : 344\n",
      " I (Row coordiantes) Len: 323448 - [ 82782    551 260842 ... 139402 142397 142220]\n",
      " J (Col coordiantes) Len: 323448 - [  0   0   0 ... 343 343 343]\n",
      " V (Data)            Len: 323448 - [ 1. -1. -1. ... -1. -1. -1.] min: -1.0 max: 1.0\n",
      " Sparse matrix shape    : (423737, 344)\n",
      "<423737x344 sparse matrix of type '<class 'numpy.float64'>'\n",
      "\twith 323448 stored elements in Compressed Sparse Row format>\n",
      " #  (Y < 0 ) : 213199\n",
      " #  (Y > 0)  : 110249\n",
      " #  (Y != 0) : 323448\n",
      "\n",
      " #  (Y < -3) : 0\n",
      " #  (Y = -3) : 0\n",
      " #  (Y = -2) : 0\n",
      " #  (Y = -1) : 213199\n",
      " #  (Y = +1) : 110249\n",
      " #  (Y = +2) : 0\n",
      " #  (Y = +3) : 0\n",
      " #  (Y > +3) : 0\n",
      " Y.sum() +   : -102950.0\n",
      " Taskgroup 1028 written to output/chembl_29_dev/chembl_29_dev_Y_tg_1028_cols_344.npy \n",
      "\n",
      "---------------------\n",
      "   Taskgroup   10 \n",
      "---------------------\n",
      "\n",
      " Taskgroup     10 - rows: 155187\n",
      " Target_list shape      : (48, 2)\n",
      " tg_targer_count        : 48\n",
      " Number of columns      : 192\n",
      " I (Row coordiantes) Len: 155187 - [ 82782  17572   1614 ... 147287 146325 146703]\n",
      " J (Col coordiantes) Len: 155187 - [  0   0   0 ... 191 191 191]\n",
      " V (Data)            Len: 155187 - [ 1.  1. -1. ... -1. -1. -1.] min: -1.0 max: 1.0\n",
      " Sparse matrix shape    : (423737, 192)\n",
      "<423737x192 sparse matrix of type '<class 'numpy.float64'>'\n",
      "\twith 155187 stored elements in Compressed Sparse Row format>\n",
      " #  (Y < 0 ) : 110611\n",
      " #  (Y > 0)  : 44576\n",
      " #  (Y != 0) : 155187\n",
      "\n",
      " #  (Y < -3) : 0\n",
      " #  (Y = -3) : 0\n",
      " #  (Y = -2) : 0\n",
      " #  (Y = -1) : 110611\n",
      " #  (Y = +1) : 44576\n",
      " #  (Y = +2) : 0\n",
      " #  (Y = +3) : 0\n",
      " #  (Y > +3) : 0\n",
      " Y.sum() +   : -66035.0\n",
      " Taskgroup 10 written to output/chembl_29_dev/chembl_29_dev_Y_tg_10_cols_192.npy \n",
      "\n",
      "---------------------\n",
      "   Taskgroup   11 \n",
      "---------------------\n",
      "\n",
      " Taskgroup     11 - rows: 336091\n",
      " Target_list shape      : (155, 2)\n",
      " tg_targer_count        : 155\n",
      " Number of columns      : 620\n",
      " I (Row coordiantes) Len: 336091 - [ 82782 411590 171276 ... 137105 134055 136709]\n",
      " J (Col coordiantes) Len: 336091 - [  0   0   0 ... 619 619 619]\n",
      " V (Data)            Len: 336091 - [ 1.  1.  1. ... -1. -1. -1.] min: -1.0 max: 1.0\n",
      " Sparse matrix shape    : (423737, 620)\n",
      "<423737x620 sparse matrix of type '<class 'numpy.float64'>'\n",
      "\twith 336091 stored elements in Compressed Sparse Row format>\n",
      " #  (Y < 0 ) : 193933\n",
      " #  (Y > 0)  : 142158\n",
      " #  (Y != 0) : 336091\n",
      "\n",
      " #  (Y < -3) : 0\n",
      " #  (Y = -3) : 0\n",
      " #  (Y = -2) : 0\n",
      " #  (Y = -1) : 193933\n",
      " #  (Y = +1) : 142158\n",
      " #  (Y = +2) : 0\n",
      " #  (Y = +3) : 0\n",
      " #  (Y > +3) : 0\n",
      " Y.sum() +   : -51775.0\n",
      " Taskgroup 11 written to output/chembl_29_dev/chembl_29_dev_Y_tg_11_cols_620.npy \n",
      "\n",
      "---------------------\n",
      "   Taskgroup    0 \n",
      "---------------------\n",
      "\n",
      " Taskgroup      0 - rows: 270448\n",
      " Target_list shape      : (118, 2)\n",
      " tg_targer_count        : 118\n",
      " Number of columns      : 472\n",
      " I (Row coordiantes) Len: 270448 - [ 82782 166853  69067 ...    211 118961    159]\n",
      " J (Col coordiantes) Len: 270448 - [  0   0   0 ... 471 471 471]\n",
      " V (Data)            Len: 270448 - [ 1. -1. -1. ... -1. -1. -1.] min: -1.0 max: 1.0\n",
      " Sparse matrix shape    : (423737, 472)\n",
      "<423737x472 sparse matrix of type '<class 'numpy.float64'>'\n",
      "\twith 270448 stored elements in Compressed Sparse Row format>\n",
      " #  (Y < 0 ) : 188511\n",
      " #  (Y > 0)  : 81937\n",
      " #  (Y != 0) : 270448\n",
      "\n",
      " #  (Y < -3) : 0\n",
      " #  (Y = -3) : 0\n",
      " #  (Y = -2) : 0\n",
      " #  (Y = -1) : 188511\n",
      " #  (Y = +1) : 81937\n",
      " #  (Y = +2) : 0\n",
      " #  (Y = +3) : 0\n",
      " #  (Y > +3) : 0\n",
      " Y.sum() +   : -106574.0\n",
      " Taskgroup 0 written to output/chembl_29_dev/chembl_29_dev_Y_tg_0_cols_472.npy \n",
      "\n",
      "---------------------\n",
      "   Taskgroup 1005 \n",
      "---------------------\n",
      "\n",
      " Taskgroup   1005 - rows: 149426\n",
      " Target_list shape      : (37, 2)\n",
      " tg_targer_count        : 37\n",
      " Number of columns      : 148\n",
      " I (Row coordiantes) Len: 149426 - [ 82782 249924 267481 ... 117050 117131 117217]\n",
      " J (Col coordiantes) Len: 149426 - [  0   0   0 ... 147 147 147]\n",
      " V (Data)            Len: 149426 - [ 1. -1. -1. ... -1. -1. -1.] min: -1.0 max: 1.0\n",
      " Sparse matrix shape    : (423737, 148)\n",
      "<423737x148 sparse matrix of type '<class 'numpy.float64'>'\n",
      "\twith 149426 stored elements in Compressed Sparse Row format>\n",
      " #  (Y < 0 ) : 104361\n",
      " #  (Y > 0)  : 45065\n",
      " #  (Y != 0) : 149426\n",
      "\n",
      " #  (Y < -3) : 0\n",
      " #  (Y = -3) : 0\n",
      " #  (Y = -2) : 0\n",
      " #  (Y = -1) : 104361\n",
      " #  (Y = +1) : 45065\n",
      " #  (Y = +2) : 0\n",
      " #  (Y = +3) : 0\n",
      " #  (Y > +3) : 0\n",
      " Y.sum() +   : -59296.0\n",
      " Taskgroup 1005 written to output/chembl_29_dev/chembl_29_dev_Y_tg_1005_cols_148.npy \n",
      "\n",
      "---------------------\n",
      "   Taskgroup    6 \n",
      "---------------------\n",
      "\n",
      " Taskgroup      6 - rows: 702258\n",
      " Target_list shape      : (172, 2)\n",
      " tg_targer_count        : 172\n",
      " Number of columns      : 688\n",
      " I (Row coordiantes) Len: 702258 - [ 82782 247618 247619 ... 276707 280039 279060]\n",
      " J (Col coordiantes) Len: 702258 - [  0   0   0 ... 687 687 687]\n",
      " V (Data)            Len: 702258 - [ 1.  1.  1. ... -1. -1. -1.] min: -1.0 max: 1.0\n",
      " Sparse matrix shape    : (423737, 688)\n",
      "<423737x688 sparse matrix of type '<class 'numpy.float64'>'\n",
      "\twith 702258 stored elements in Compressed Sparse Row format>\n",
      " #  (Y < 0 ) : 382164\n",
      " #  (Y > 0)  : 320094\n",
      " #  (Y != 0) : 702258\n",
      "\n",
      " #  (Y < -3) : 0\n",
      " #  (Y = -3) : 0\n",
      " #  (Y = -2) : 0\n",
      " #  (Y = -1) : 382164\n",
      " #  (Y = +1) : 320094\n",
      " #  (Y = +2) : 0\n",
      " #  (Y = +3) : 0\n",
      " #  (Y > +3) : 0\n",
      " Y.sum() +   : -62070.0\n",
      " Taskgroup 6 written to output/chembl_29_dev/chembl_29_dev_Y_tg_6_cols_688.npy \n",
      "\n",
      "---------------------\n",
      "   Taskgroup  836 \n",
      "---------------------\n",
      "\n",
      " Taskgroup    836 - rows: 130131\n",
      " Target_list shape      : (56, 2)\n",
      " tg_targer_count        : 56\n",
      " Number of columns      : 224\n",
      " I (Row coordiantes) Len: 130131 - [199285 199784 199013 ... 420516 423380 423622]\n",
      " J (Col coordiantes) Len: 130131 - [  0   0   0 ... 223 223 223]\n",
      " V (Data)            Len: 130131 - [-1.  1. -1. ... -1. -1. -1.] min: -1.0 max: 1.0\n",
      " Sparse matrix shape    : (423737, 224)\n",
      "<423737x224 sparse matrix of type '<class 'numpy.float64'>'\n",
      "\twith 130131 stored elements in Compressed Sparse Row format>\n",
      " #  (Y < 0 ) : 91904\n",
      " #  (Y > 0)  : 38227\n",
      " #  (Y != 0) : 130131\n",
      "\n",
      " #  (Y < -3) : 0\n",
      " #  (Y = -3) : 0\n",
      " #  (Y = -2) : 0\n",
      " #  (Y = -1) : 91904\n",
      " #  (Y = +1) : 38227\n",
      " #  (Y = +2) : 0\n",
      " #  (Y = +3) : 0\n",
      " #  (Y > +3) : 0\n",
      " Y.sum() +   : -53677.0\n",
      " Taskgroup 836 written to output/chembl_29_dev/chembl_29_dev_Y_tg_836_cols_224.npy \n",
      "\n",
      "---------------------\n",
      "   Taskgroup  643 \n",
      "---------------------\n",
      "\n",
      " Taskgroup    643 - rows: 111633\n",
      " Target_list shape      : (46, 2)\n",
      " tg_targer_count        : 46\n",
      " Number of columns      : 184\n",
      " I (Row coordiantes) Len: 111633 - [200706 346235  78309 ... 148868 147673 146621]\n",
      " J (Col coordiantes) Len: 111633 - [  0   0   0 ... 183 183 183]\n",
      " V (Data)            Len: 111633 - [ 1.  1.  1. ... -1. -1. -1.] min: -1.0 max: 1.0\n",
      " Sparse matrix shape    : (423737, 184)\n",
      "<423737x184 sparse matrix of type '<class 'numpy.float64'>'\n",
      "\twith 111633 stored elements in Compressed Sparse Row format>\n",
      " #  (Y < 0 ) : 69820\n",
      " #  (Y > 0)  : 41813\n",
      " #  (Y != 0) : 111633\n",
      "\n",
      " #  (Y < -3) : 0\n",
      " #  (Y = -3) : 0\n",
      " #  (Y = -2) : 0\n",
      " #  (Y = -1) : 69820\n",
      " #  (Y = +1) : 41813\n",
      " #  (Y = +2) : 0\n",
      " #  (Y = +3) : 0\n",
      " #  (Y > +3) : 0\n",
      " Y.sum() +   : -28007.0\n",
      " Taskgroup 643 written to output/chembl_29_dev/chembl_29_dev_Y_tg_643_cols_184.npy \n",
      "\n",
      "---------------------\n",
      "   Taskgroup 1031 \n",
      "---------------------\n",
      "\n",
      " Taskgroup   1031 - rows: 126553\n",
      " Target_list shape      : (18, 2)\n",
      " tg_targer_count        : 18\n",
      " Number of columns      : 72\n",
      " I (Row coordiantes) Len: 126553 - [236291 233697 236292 ... 140117   9155   1138]\n",
      " J (Col coordiantes) Len: 126553 - [ 0  0  0 ... 71 71 71]\n",
      " V (Data)            Len: 126553 - [ 1. -1. -1. ... -1. -1. -1.] min: -1.0 max: 1.0\n",
      " Sparse matrix shape    : (423737, 72)\n",
      "<423737x72 sparse matrix of type '<class 'numpy.float64'>'\n",
      "\twith 126553 stored elements in Compressed Sparse Row format>\n",
      " #  (Y < 0 ) : 107922\n",
      " #  (Y > 0)  : 18631\n",
      " #  (Y != 0) : 126553\n",
      "\n",
      " #  (Y < -3) : 0\n",
      " #  (Y = -3) : 0\n",
      " #  (Y = -2) : 0\n",
      " #  (Y = -1) : 107922\n",
      " #  (Y = +1) : 18631\n",
      " #  (Y = +2) : 0\n",
      " #  (Y = +3) : 0\n",
      " #  (Y > +3) : 0\n",
      " Y.sum() +   : -89291.0\n",
      " Taskgroup 1031 written to output/chembl_29_dev/chembl_29_dev_Y_tg_1031_cols_72.npy \n",
      "ttl_cols: 3568\n"
     ]
    }
   ],
   "source": [
    "ttl_cols = 0\n",
    "\n",
    "for i in task_groups:\n",
    "    print(\"\\n---------------------\")\n",
    "    print(f\"   Taskgroup {i:4d} \")\n",
    "    print(\"---------------------\")\n",
    "    \n",
    "    tg_join = join[join['task_group'] == i]\n",
    "    tg_target_list = pd.DataFrame(tg_join['tid'].unique())    \n",
    "    tg_target_count = len(tg_target_list) \n",
    "    tg_target_list[\"col_id\"] = range(len(tg_target_list))\n",
    "    tg_join = pd.merge(tg_join, tg_target_list, how=\"inner\", left_on=\"tid\", right_on=0)    \n",
    "    \n",
    "#     print(tg_join)    \n",
    "#     print(tg_join['tid'].unique())\n",
    "#     print(tg_target_list)    \n",
    "#     print(tg_join)        \n",
    "\n",
    "    Ncol = tg_target_count * threshold_count   \n",
    "    ttl_cols += Ncol\n",
    "    I = tg_join[\"cid\"].to_numpy()\n",
    "    J = (Nvar * tg_join[\"col_id\"] + tg_join[\"vid\"]).to_numpy()\n",
    "    V = tg_join[\"value\"].to_numpy()\n",
    "    tg_Y = scipy.sparse.csr_matrix((V,(I,J)),(Ncmpd, Ncol))\n",
    "    \n",
    "#     tg_Ymask_data = np.ones(len(I))\n",
    "#     tg_Ymask = scipy.sparse.coo_matrix((y_mask_data,(I,J)),(Ncmpd,Ncol))\n",
    "    print()\n",
    "    print(f\" Taskgroup {i:6d} - rows: {len(tg_join)}\")\n",
    "    print(f\" Target_list shape      : {tg_target_list.shape}\")\n",
    "    print(f\" tg_targer_count        : {tg_target_count}\")\n",
    "    print(f' Number of columns      : {Ncol}')\n",
    "    print(f' I (Row coordiantes) Len: {len(I)} - {I}') ## Rows \n",
    "    print(f' J (Col coordiantes) Len: {len(J)} - {J}') ## Columns \n",
    "    print(f' V (Data)            Len: {len(V)} - {V} min: {min(V)} max: {max(V)}') # Data   \n",
    "    print(f' Sparse matrix shape    : {tg_Y.shape}')\n",
    "\n",
    "    print(repr(tg_Y))\n",
    "    print(f\" #  (Y < 0 ) : {(tg_Y < 0).sum()}\")\n",
    "    print(f\" #  (Y > 0)  : {(tg_Y > 0).sum()}\")\n",
    "    print(f\" #  (Y != 0) : {(tg_Y !=0).sum()}\")    \n",
    "    print()\n",
    "    print(f\" #  (Y < -3) : {(tg_Y  < -3).sum()}\")\n",
    "    print(f\" #  (Y = -3) : {(tg_Y == -3).sum()}\")\n",
    "    print(f\" #  (Y = -2) : {(tg_Y == -2).sum()}\")\n",
    "    print(f\" #  (Y = -1) : {(tg_Y == -1).sum()}\")\n",
    "    print(f\" #  (Y = +1) : {(tg_Y == 1).sum()}\")\n",
    "    print(f\" #  (Y = +2) : {(tg_Y == 2).sum()}\")\n",
    "    print(f\" #  (Y = +3) : {(tg_Y == 3).sum()}\")\n",
    "    print(f\" #  (Y > +3) : {(tg_Y  > 3).sum()}\")\n",
    "    print(f\" Y.sum() +   : {tg_Y.sum()}\")  \n",
    "    \n",
    "    modify = False\n",
    "    if (tg_Y >= +2).sum():\n",
    "        print(\" ============ MODIFY > +1 ===========\")\n",
    "        tg_Y[tg_Y >= +2] = +1\n",
    "        modify = True\n",
    "        \n",
    "    if (tg_Y <= -2).sum():\n",
    "        print(\" ============ MODIFY < -1 ===========\")\n",
    "        tg_Y[tg_Y <= -1] = -1\n",
    "        modify = True\n",
    "        \n",
    "    if modify:\n",
    "        print(f\" Write Y file for task group {i} to: {tg_Y_filename}\")\n",
    "        print(f\" #  (Y < 0 ) : {(tg_Y < 0).sum()}\")\n",
    "        print(f\" #  (Y > 0)  : {(tg_Y > 0).sum()}\")\n",
    "        print(f\" #  (Y != 0) : {(tg_Y !=0).sum()}\")        \n",
    "        print()\n",
    "        print(f\" #  (Y < -5) : {(tg_Y  < -5).sum()}\")\n",
    "        print(f\" #  (Y = -5) : {(tg_Y == -5).sum()}\")\n",
    "        print(f\" #  (Y = -4) : {(tg_Y == -4).sum()}\")\n",
    "        print(f\" #  (Y = -3) : {(tg_Y == -3).sum()}\")\n",
    "        print(f\" #  (Y = -2) : {(tg_Y == -2).sum()}\")\n",
    "        print(f\" #  (Y = -1) : {(tg_Y == -1).sum()}\")\n",
    "        print(f\" #  (Y = +1)  : {(tg_Y == 1).sum()}\")\n",
    "        print(f\" #  (Y = +2)  : {(tg_Y == 2).sum()}\")\n",
    "        print(f\" #  (Y = +3)  : {(tg_Y == 3).sum()}\")\n",
    "        print(f\" #  (Y = +4)  : {(tg_Y == 4).sum()}\")\n",
    "        print(f\" #  (Y = +5)  : {(tg_Y == 5).sum()}\")\n",
    "        print(f\" #  (Y > +5)  : {(tg_Y  > 5).sum()}\")\n",
    "        print(f\" Y.sum() +    : {tg_Y.sum()}\")  \n",
    "\n",
    "        \n",
    "    tg_Y_filename= f\"{conf.y[:-8]}_tg_{i}_cols_{Ncol}.npy\"\n",
    "\n",
    "#     np.save(tg_Y_filename, tg_Y)\n",
    "    print(f\" Taskgroup {i} written to {tg_Y_filename } \")\n",
    "print(f\"ttl_cols: {ttl_cols}\")"
   ]
  },
  {
   "cell_type": "markdown",
   "id": "49fed323",
   "metadata": {},
   "source": [
    "##  Create Folding file and save to `xxxx_folding.npy`"
   ]
  },
  {
   "cell_type": "code",
   "execution_count": 67,
   "id": "a36d9516",
   "metadata": {
    "ExecuteTime": {
     "end_time": "2022-08-03T08:33:52.192595Z",
     "start_time": "2022-08-03T08:33:52.166792Z"
    }
   },
   "outputs": [
    {
     "name": "stdout",
     "output_type": "stream",
     "text": [
      "(423737, 3552)\n",
      "Calculate folding... nfolds: 5\n"
     ]
    }
   ],
   "source": [
    "print(Ymask.shape)\n",
    "\n",
    "print(f\"Calculate folding... nfolds: {conf.nfolds}\")"
   ]
  },
  {
   "cell_type": "code",
   "execution_count": 68,
   "id": "15165888",
   "metadata": {
    "ExecuteTime": {
     "end_time": "2022-08-03T08:34:12.952803Z",
     "start_time": "2022-08-03T08:33:57.420283Z"
    },
    "scrolled": true
   },
   "outputs": [
    {
     "name": "stdout",
     "output_type": "stream",
     "text": [
      "* Y_in       : <class 'scipy.sparse.coo.coo_matrix'> \t (423737, 3552)\n",
      "* clusters: <class 'pandas.core.series.Series'>  \t (423737,) \n",
      "           Min: 0 Max:26090\n",
      "0         11919\n",
      "1         11919\n",
      "2         22648\n",
      "3         11919\n",
      "4         22648\n",
      "          ...  \n",
      "423732     3361\n",
      "423733    26021\n",
      "423734    10256\n",
      "423735    26021\n",
      "423736    11919\n",
      "Length: 423737, dtype: int64 \n",
      "\n",
      "* cl_uniq: <class 'numpy.ndarray'> 15835\n",
      "[11919 22648 22247 ...  4024 25988 10256]\n",
      "\n",
      "* cid:   <class 'pandas.core.series.Series'> 423737\n",
      "11919        0\n",
      "11919        0\n",
      "22648        1\n",
      "11919        0\n",
      "22648        1\n",
      "         ...  \n",
      "3361      1643\n",
      "26021        4\n",
      "10256    15834\n",
      "26021        4\n",
      "11919        0\n",
      "Length: 423737, dtype: int64\n",
      "\n",
      "* Create C sparse matrix - indicating the clusters compounds are assigned to.... \n",
      "* Shape of sparse matrix: Rows(#clusters):15835 Columns(#compounds): 423737 \n",
      "\n",
      "* Y_bin     :   <class 'scipy.sparse.coo.coo_matrix'> (423737, 3552)\n",
      "* Y_bin.data:   <class 'numpy.ndarray'> (2615084,)\n",
      " Sum: 0\n",
      " Sum: 2612254\n",
      " Sum: 2615084.0\n",
      "* Y_bin.data:   <class 'numpy.ndarray'> (2615084,)\n",
      "\n",
      " Sum: 0\n",
      " Sum: 2612254\n",
      " Sum: 2615084\n",
      "\n",
      "* cl_counts     :   <class 'scipy.sparse.csr.csr_matrix'> (15835, 3552)\n",
      "* cl_counts.data:   <class 'numpy.ndarray'> (186115,)\n",
      "   (0, 3139)\t1\n",
      "  (0, 3138)\t1\n",
      "  (0, 3137)\t1\n",
      "  (0, 3136)\t53\n",
      "  (0, 2179)\t22\n",
      "  (0, 2178)\t22\n",
      "  (0, 653)\t17\n",
      "  (0, 652)\t23\n",
      "  (0, 671)\t17\n",
      "  (0, 670)\t17\n",
      "  (0, 669)\t17\n",
      "  (0, 668)\t17\n",
      "  (0, 2663)\t10\n",
      "  (0, 2662)\t10\n",
      "  (0, 2661)\t10\n",
      "  (0, 2660)\t10\n",
      "  (0, 2177)\t-128\n",
      "  (0, 2176)\t-128\n",
      "  (0, 2115)\t11\n",
      "  (0, 2114)\t11\n",
      "  (0, 2113)\t11\n",
      "  (0, 2112)\t11\n",
      "  (0, 2075)\t19\n",
      "  (0, 2074)\t19\n",
      "  (0, 2073)\t19\n",
      "  :\t:\n",
      "  (15833, 1180)\t1\n",
      "  (15834, 3147)\t1\n",
      "  (15834, 3146)\t1\n",
      "  (15834, 3145)\t1\n",
      "  (15834, 3144)\t1\n",
      "  (15834, 2219)\t1\n",
      "  (15834, 2218)\t1\n",
      "  (15834, 2217)\t1\n",
      "  (15834, 2216)\t1\n",
      "  (15834, 1631)\t1\n",
      "  (15834, 1630)\t1\n",
      "  (15834, 1629)\t1\n",
      "  (15834, 1628)\t1\n",
      "  (15834, 1599)\t1\n",
      "  (15834, 1598)\t1\n",
      "  (15834, 1597)\t1\n",
      "  (15834, 1596)\t1\n",
      "  (15834, 1135)\t1\n",
      "  (15834, 1134)\t1\n",
      "  (15834, 1133)\t1\n",
      "  (15834, 1132)\t1\n",
      "  (15834, 675)\t1\n",
      "  (15834, 674)\t1\n",
      "  (15834, 673)\t1\n",
      "  (15834, 672)\t1\n",
      "\n",
      "* cl_counts_neg     :   <class 'scipy.sparse.csr.csr_matrix'>      (15835, 3552)\n",
      "* cl_counts_neg.data:   <class 'numpy.ndarray'> (2785,)\n",
      " Sum: 2785\n",
      "   (0, 8)\tTrue\n",
      "  (0, 9)\tTrue\n",
      "  (0, 10)\tTrue\n",
      "  (0, 11)\tTrue\n",
      "  (0, 28)\tTrue\n",
      "  (0, 29)\tTrue\n",
      "  (0, 30)\tTrue\n",
      "  (0, 31)\tTrue\n",
      "  (0, 32)\tTrue\n",
      "  (0, 33)\tTrue\n",
      "  (0, 34)\tTrue\n",
      "  (0, 35)\tTrue\n",
      "  (0, 44)\tTrue\n",
      "  (0, 45)\tTrue\n",
      "  (0, 52)\tTrue\n",
      "  (0, 53)\tTrue\n",
      "  (0, 54)\tTrue\n",
      "  (0, 55)\tTrue\n",
      "  (0, 124)\tTrue\n",
      "  (0, 125)\tTrue\n",
      "  (0, 126)\tTrue\n",
      "  (0, 127)\tTrue\n",
      "  (0, 132)\tTrue\n",
      "  (0, 133)\tTrue\n",
      "  (0, 134)\tTrue\n",
      "  :\t:\n",
      "  (14475, 2579)\tTrue\n",
      "  (14481, 2384)\tTrue\n",
      "  (14481, 2385)\tTrue\n",
      "  (14481, 2386)\tTrue\n",
      "  (14481, 2387)\tTrue\n",
      "  (14482, 2172)\tTrue\n",
      "  (14482, 2173)\tTrue\n",
      "  (14482, 2174)\tTrue\n",
      "  (14482, 2175)\tTrue\n",
      "  (14484, 1320)\tTrue\n",
      "  (14484, 1321)\tTrue\n",
      "  (14484, 1322)\tTrue\n",
      "  (14484, 1323)\tTrue\n",
      "  (14637, 1036)\tTrue\n",
      "  (14637, 1037)\tTrue\n",
      "  (14637, 1038)\tTrue\n",
      "  (14637, 1039)\tTrue\n",
      "  (14679, 2172)\tTrue\n",
      "  (14679, 2173)\tTrue\n",
      "  (14679, 2174)\tTrue\n",
      "  (14679, 2175)\tTrue\n",
      "  (15000, 3112)\tTrue\n",
      "  (15000, 3113)\tTrue\n",
      "  (15000, 3114)\tTrue\n",
      "  (15000, 3115)\tTrue \n",
      "\n",
      "* Call mtcv with nfolds: 5  \t pfolds: None \t  seed: None\n",
      " Call mtcv with nfolds: 5  \t pfolds: [0.2 0.2 0.2 0.2 0.2] \t  seed: None\n",
      "\n",
      "\n",
      "* mask        : (15835, 3552) \t\n",
      "   (0, 0)\t24\n",
      "  (0, 1)\t24\n",
      "  (0, 2)\t24\n",
      "  (0, 3)\t24\n",
      "  (0, 4)\t93\n",
      "  (0, 5)\t112\n",
      "  (0, 6)\t112\n",
      "  (0, 7)\t111\n",
      "  (0, 8)\t-113\n",
      "  (0, 9)\t-113\n",
      "  (0, 10)\t-113\n",
      "  (0, 11)\t-113\n",
      "  (0, 12)\t120\n",
      "  (0, 13)\t108\n",
      "  (0, 14)\t103\n",
      "  (0, 15)\t103\n",
      "  (0, 16)\t48\n",
      "  (0, 17)\t48\n",
      "  (0, 18)\t48\n",
      "  (0, 19)\t48\n",
      "  (0, 20)\t19\n",
      "  (0, 21)\t19\n",
      "  (0, 22)\t19\n",
      "  (0, 23)\t19\n",
      "  (0, 24)\t61\n",
      "  :\t:\n",
      "  (15833, 1183)\t1\n",
      "  (15834, 672)\t1\n",
      "  (15834, 673)\t1\n",
      "  (15834, 674)\t1\n",
      "  (15834, 675)\t1\n",
      "  (15834, 1132)\t1\n",
      "  (15834, 1133)\t1\n",
      "  (15834, 1134)\t1\n",
      "  (15834, 1135)\t1\n",
      "  (15834, 1596)\t1\n",
      "  (15834, 1597)\t1\n",
      "  (15834, 1598)\t1\n",
      "  (15834, 1599)\t1\n",
      "  (15834, 1628)\t1\n",
      "  (15834, 1629)\t1\n",
      "  (15834, 1630)\t1\n",
      "  (15834, 1631)\t1\n",
      "  (15834, 2216)\t1\n",
      "  (15834, 2217)\t1\n",
      "  (15834, 2218)\t1\n",
      "  (15834, 2219)\t1\n",
      "  (15834, 3144)\t1\n",
      "  (15834, 3145)\t1\n",
      "  (15834, 3146)\t1\n",
      "  (15834, 3147)\t1 \n",
      "\n",
      "* Target sizes (mask sum along rows) : (3552,) \t [120 120 120 ... 166  83  80] \n",
      "\n",
      "* comp sizes   (mask sum over columns): (15835,)   \t [81326 93377  5730 ...     8     4    24] \n",
      "\n",
      "\n",
      "* df info\n",
      "<class 'pandas.core.frame.DataFrame'>\n",
      "RangeIndex: 15835 entries, 0 to 15834\n",
      "Data columns (total 2 columns):\n",
      " #   Column  Non-Null Count  Dtype\n",
      "---  ------  --------------  -----\n",
      " 0   row     15835 non-null  int64\n",
      " 1   size    15835 non-null  int64\n",
      "dtypes: int64(2)\n",
      "memory usage: 247.5 KB\n",
      "None\n",
      "         row   size\n",
      "0          0  81326\n",
      "1          1  93377\n",
      "2          2   5730\n",
      "3          3    804\n",
      "4          4  74853\n",
      "...      ...    ...\n",
      "15830  15830      4\n",
      "15831  15831      8\n",
      "15832  15832      8\n",
      "15833  15833      4\n",
      "15834  15834     24\n",
      "\n",
      "[15835 rows x 2 columns]\n",
      "\n",
      " df1 info \n",
      "\n",
      "<class 'pandas.core.frame.DataFrame'>\n",
      "Int64Index: 15835 entries, 2083 to 5511\n",
      "Data columns (total 2 columns):\n",
      " #   Column  Non-Null Count  Dtype\n",
      "---  ------  --------------  -----\n",
      " 0   row     15835 non-null  int64\n",
      " 1   size    15835 non-null  int64\n",
      "dtypes: int64(2)\n",
      "memory usage: 371.1 KB\n",
      "None\n",
      "         row  size\n",
      "2083    2083    28\n",
      "9782    9782     8\n",
      "11114  11114    16\n",
      "725      725    36\n",
      "12835  12835     4\n",
      "...      ...   ...\n",
      "12205  12205     8\n",
      "6735    6735    12\n",
      "3199    3199     4\n",
      "14218  14218     4\n",
      "5511    5511     8\n",
      "\n",
      "[15835 rows x 2 columns]\n",
      "\n",
      " df1 info (after sort by size descending)\n",
      "\n",
      "<class 'pandas.core.frame.DataFrame'>\n",
      "Int64Index: 15835 entries, 1 to 13190\n",
      "Data columns (total 2 columns):\n",
      " #   Column  Non-Null Count  Dtype\n",
      "---  ------  --------------  -----\n",
      " 0   row     15835 non-null  int64\n",
      " 1   size    15835 non-null  int64\n",
      "dtypes: int64(2)\n",
      "memory usage: 371.1 KB\n",
      "None\n",
      "         row   size\n",
      "1          1  93377\n",
      "0          0  81326\n",
      "4          4  74853\n",
      "2          2   5730\n",
      "4364    4364   2003\n",
      "...      ...    ...\n",
      "13551  13551   -707\n",
      "13555  13555   -828\n",
      "13600  13600   -834\n",
      "12510  12510  -1408\n",
      "13190  13190  -1728\n",
      "\n",
      "[15835 rows x 2 columns]\n",
      "* fold_sizes : (5, 3552) \n",
      " [[0 0 0 ... 0 0 0]\n",
      " [0 0 0 ... 0 0 0]\n",
      " [0 0 0 ... 0 0 0]\n",
      " [0 0 0 ... 0 0 0]\n",
      " [0 0 0 ... 0 0 0]] \n",
      "\n",
      "* max fold sizes: (3552, 5) \n",
      " [[24. 24. 24. 24. 24.]\n",
      " [24. 24. 24. 24. 24.]\n",
      " [24. 24. 24. 24. 24.]\n",
      " ...\n",
      " [34. 34. 34. 34. 34.]\n",
      " [17. 17. 17. 17. 17.]\n",
      " [16. 16. 16. 16. 16.]]\n",
      "\n",
      "* folds : (15835,) \n",
      " [-1 -1 -1 ... -1 -1 -1] \n",
      "\n",
      "* mask        : (15835, 3552) \n",
      " finished loop - i is: 15834\n",
      "* cid:   <class 'pandas.core.series.Series'> 423737\n",
      "11919        0\n",
      "11919        0\n",
      "22648        1\n",
      "11919        0\n",
      "22648        1\n",
      "         ...  \n",
      "3361      1643\n",
      "26021        4\n",
      "10256    15834\n",
      "26021        4\n",
      "11919        0\n",
      "Length: 423737, dtype: int64\n",
      "\n",
      "* folds:  (15835,) \n",
      " [3 3 3 ... 4 2 3] \n",
      "\n"
     ]
    }
   ],
   "source": [
    "folds = mtcv_clustered(Ymask, pd.Series(clusters), conf.nfolds)"
   ]
  },
  {
   "cell_type": "code",
   "execution_count": 69,
   "id": "1a9fc793",
   "metadata": {
    "ExecuteTime": {
     "end_time": "2022-08-03T08:34:49.615839Z",
     "start_time": "2022-08-03T08:34:49.600548Z"
    }
   },
   "outputs": [
    {
     "name": "stdout",
     "output_type": "stream",
     "text": [
      "(423737,)\n",
      "0 4\n"
     ]
    }
   ],
   "source": [
    "print(folds.shape)\n",
    "print(folds.min(), folds.max())"
   ]
  },
  {
   "cell_type": "code",
   "execution_count": 70,
   "id": "3f4b24dd",
   "metadata": {
    "ExecuteTime": {
     "end_time": "2022-08-03T08:34:51.598392Z",
     "start_time": "2022-08-03T08:34:51.573823Z"
    }
   },
   "outputs": [
    {
     "name": "stdout",
     "output_type": "stream",
     "text": [
      "output/chembl_29_dev/chembl_29_dev_folding.npy\n"
     ]
    }
   ],
   "source": [
    "print(conf.folding)"
   ]
  },
  {
   "cell_type": "code",
   "execution_count": 71,
   "id": "bbf9475e",
   "metadata": {
    "ExecuteTime": {
     "end_time": "2022-08-03T08:34:54.142519Z",
     "start_time": "2022-08-03T08:34:54.128466Z"
    }
   },
   "outputs": [
    {
     "name": "stdout",
     "output_type": "stream",
     "text": [
      "save folding file to output/chembl_29_dev/chembl_29_dev_folding.npy\n"
     ]
    }
   ],
   "source": [
    "#TODO: save folding\n",
    "np.save(conf.folding, folds)\n",
    "print(f\"save folding file to {conf.folding}\")"
   ]
  },
  {
   "cell_type": "code",
   "execution_count": null,
   "id": "175af977",
   "metadata": {},
   "outputs": [],
   "source": []
  },
  {
   "cell_type": "markdown",
   "id": "d6cdbbd3",
   "metadata": {
    "heading_collapsed": true
   },
   "source": [
    "## Check Y file for > +1 or <-1 entries"
   ]
  },
  {
   "cell_type": "code",
   "execution_count": 11,
   "id": "0412d8a6",
   "metadata": {
    "ExecuteTime": {
     "end_time": "2022-08-03T09:52:32.172943Z",
     "start_time": "2022-08-03T09:52:32.157152Z"
    },
    "hidden": true
   },
   "outputs": [
    {
     "name": "stdout",
     "output_type": "stream",
     "text": [
      "chembl_29_Y_tg_1031_cols_72.npy\n",
      "chembl_29_Y_tg_0_cols_472.npy\n",
      "chembl_29_Y_tg_6_cols_688.npy\n",
      "chembl_29_Y_tg_1028_cols_344.npy\n",
      "chembl_29_Y_tg_836_cols_224.npy\n",
      "chembl_29_Y_tg_11_cols_620.npy\n",
      "chembl_29_Y_tg_10_cols_192.npy\n",
      "chembl_29_Y_tg_1_cols_624.npy\n",
      "chembl_29_Y_tg_643_cols_184.npy\n",
      "chembl_29_Y_tg_1005_cols_148.npy\n"
     ]
    }
   ],
   "source": [
    "import glob\n",
    "filelist = [i.replace('output/chembl_29/', '') for i in glob.glob('output/chembl_29/chembl_29_Y_tg*')]\n",
    "for i in filelist:\n",
    "    print(i)\n",
    " "
   ]
  },
  {
   "cell_type": "code",
   "execution_count": 13,
   "id": "2c800068",
   "metadata": {
    "ExecuteTime": {
     "end_time": "2022-08-03T09:52:40.811802Z",
     "start_time": "2022-08-03T09:52:40.797745Z"
    },
    "hidden": true
   },
   "outputs": [],
   "source": [
    "filelist = ['chembl_29_Y_all.npy']"
   ]
  },
  {
   "cell_type": "code",
   "execution_count": 14,
   "id": "e855cdad",
   "metadata": {
    "ExecuteTime": {
     "end_time": "2022-08-03T09:52:42.451160Z",
     "start_time": "2022-08-03T09:52:42.244378Z"
    },
    "hidden": true
   },
   "outputs": [
    {
     "name": "stdout",
     "output_type": "stream",
     "text": [
      " load sparse file from output/chembl_29_dev/chembl_29_Y_all.npy\n",
      " load sparse file from output/chembl_29_10task/chembl_29_Y_all.npy\n",
      "<class 'bool'> False\n",
      "chembl_29_Y_all.npy  -- files are NOT equial\n",
      "  (38, 2180)\tTrue\n",
      "  (38, 2181)\tTrue\n",
      "  (38, 2182)\tTrue\n",
      "  (38, 2183)\tTrue\n",
      "  (38, 3264)\tTrue\n",
      "  (38, 3265)\tTrue\n",
      "  (38, 3266)\tTrue\n",
      "  (38, 3267)\tTrue\n",
      "  (360, 828)\tTrue\n",
      "  (360, 829)\tTrue\n",
      "  (360, 830)\tTrue\n",
      "  (360, 831)\tTrue\n",
      "  (360, 1600)\tTrue\n",
      "  (360, 1601)\tTrue\n",
      "  (360, 1602)\tTrue\n",
      "  (360, 1603)\tTrue\n",
      "  (533, 1088)\tTrue\n",
      "  (533, 1089)\tTrue\n",
      "  (533, 1090)\tTrue\n",
      "  (533, 1091)\tTrue\n",
      "  (533, 2280)\tTrue\n",
      "  (533, 2281)\tTrue\n",
      "  (533, 2282)\tTrue\n",
      "  (533, 2283)\tTrue\n",
      "  (533, 2528)\tTrue\n",
      "  :\t:\n",
      "  (423698, 497)\tTrue\n",
      "  (423698, 498)\tTrue\n",
      "  (423698, 499)\tTrue\n",
      "  (423702, 1600)\tTrue\n",
      "  (423702, 1601)\tTrue\n",
      "  (423702, 1602)\tTrue\n",
      "  (423702, 1603)\tTrue\n",
      "  (423705, 1160)\tTrue\n",
      "  (423705, 1161)\tTrue\n",
      "  (423705, 1162)\tTrue\n",
      "  (423705, 1163)\tTrue\n",
      "  (423705, 3424)\tTrue\n",
      "  (423705, 3425)\tTrue\n",
      "  (423705, 3426)\tTrue\n",
      "  (423705, 3427)\tTrue\n",
      "  (423708, 1160)\tTrue\n",
      "  (423708, 1161)\tTrue\n",
      "  (423708, 3424)\tTrue\n",
      "  (423708, 3425)\tTrue\n",
      "  (423708, 3548)\tTrue\n",
      "  (423708, 3549)\tTrue\n",
      "  (423718, 1728)\tTrue\n",
      "  (423718, 1729)\tTrue\n",
      "  (423718, 1730)\tTrue\n",
      "  (423718, 1731)\tTrue\n"
     ]
    }
   ],
   "source": [
    "for test_file in filelist:\n",
    "    Y_new = load_sparse(dataroot = 'output/chembl_29_dev', filename = test_file)\n",
    "\n",
    "    Y_old = load_sparse(dataroot = 'output/chembl_29_10task', filename = test_file)\n",
    "\n",
    "    repr(Y_new)\n",
    "    # Y_new[0,672] = 5\n",
    "    # print(Y_new)\n",
    "\n",
    "    repr(Y_old)\n",
    "\n",
    "    tst_equal = ((Y_new != Y_old).nnz == 0)\n",
    "    print(type(tst_equal), tst_equal)\n",
    "    if (tst_equal):\n",
    "        print( f'{test_file}  -- files are  equal')\n",
    "    else:\n",
    "        print( f'{test_file}  -- files are NOT equial')\n",
    "        print(Y_new != Y_old)\n",
    "\n",
    "\n"
   ]
  },
  {
   "cell_type": "code",
   "execution_count": 16,
   "id": "ead9f176",
   "metadata": {
    "ExecuteTime": {
     "end_time": "2022-08-03T09:53:44.954696Z",
     "start_time": "2022-08-03T09:53:44.939279Z"
    },
    "hidden": true
   },
   "outputs": [
    {
     "name": "stdout",
     "output_type": "stream",
     "text": [
      "  (0, 0)\t-2.0\n",
      "  (0, 1)\t-2.0\n",
      "  (0, 2)\t-2.0\n",
      "  (0, 3)\t-2.0\n",
      "  (0, 0)\t-1.0\n",
      "  (0, 1)\t-1.0\n",
      "  (0, 2)\t-1.0\n",
      "  (0, 3)\t-1.0\n"
     ]
    }
   ],
   "source": [
    "print(Y_old[38,2180:2184])\n",
    "print(Y_new[38,2180:2184])"
   ]
  },
  {
   "cell_type": "markdown",
   "id": "97cc3963",
   "metadata": {
    "hidden": true
   },
   "source": [
    "###  Dedupe `chembl_29_Y_all_with_dups`\n",
    "\n",
    "This will previously contained > +1 and < -1 entries. Convery those entires to +/-1 and make sure it matches the Y generated by the modified pipeline process"
   ]
  },
  {
   "cell_type": "code",
   "execution_count": 19,
   "id": "bbf15ecd",
   "metadata": {
    "ExecuteTime": {
     "end_time": "2022-08-03T10:06:00.445533Z",
     "start_time": "2022-08-03T10:06:00.275486Z"
    },
    "hidden": true
   },
   "outputs": [
    {
     "name": "stdout",
     "output_type": "stream",
     "text": [
      " load sparse file from output/chembl_29_10task/chembl_29_Y_all_with_dups.npy\n"
     ]
    }
   ],
   "source": [
    "Y = load_sparse(dataroot = 'output/chembl_29_10task', filename = 'chembl_29_Y_all_with_dups.npy')"
   ]
  },
  {
   "cell_type": "code",
   "execution_count": 31,
   "id": "5f999264",
   "metadata": {
    "ExecuteTime": {
     "end_time": "2022-08-03T10:11:26.727864Z",
     "start_time": "2022-08-03T10:11:26.705653Z"
    },
    "hidden": true
   },
   "outputs": [
    {
     "name": "stdout",
     "output_type": "stream",
     "text": [
      " load sparse file from output/chembl_29/chembl_29_Y_all.npy\n"
     ]
    }
   ],
   "source": [
    "Y_new = load_sparse(dataroot = 'output/chembl_29', filename = 'chembl_29_Y_all.npy')"
   ]
  },
  {
   "cell_type": "code",
   "execution_count": 20,
   "id": "03d36729",
   "metadata": {
    "ExecuteTime": {
     "end_time": "2022-08-03T10:06:02.011720Z",
     "start_time": "2022-08-03T10:06:01.855802Z"
    },
    "hidden": true,
    "scrolled": true
   },
   "outputs": [
    {
     "name": "stdout",
     "output_type": "stream",
     "text": [
      "<423737x3552 sparse matrix of type '<class 'numpy.float64'>'\n",
      "\twith 2612254 stored elements in Compressed Sparse Row format>\n",
      " #  (Y < 0 ) : 1679110\n",
      " #  (Y != 0) : 2612254\n",
      " #  (Y > 0)  : 933144\n",
      " #  (Y <= -3): 3322\n",
      " #  (Y = -2) : 40605\n",
      " #  (Y = -1) : 1635183\n",
      " #  (Y = 1)  : 895610\n",
      " #  (Y = 2)  : 36284\n",
      " #  (Y >= 3) : 1250\n",
      " Y.sum()     :  -754431.0\n"
     ]
    }
   ],
   "source": [
    "print(repr(Y))\n",
    "print(f\" #  (Y < 0 ) : {(Y <0).sum()}\")\n",
    "print(f\" #  (Y != 0) : {(Y !=0).sum()}\")\n",
    "print(f\" #  (Y > 0)  : {(Y >0).sum()}\")\n",
    "print(f\" #  (Y <= -3): {(Y <=-3).sum()}\")\n",
    "print(f\" #  (Y = -2) : {(Y ==-2).sum()}\")\n",
    "print(f\" #  (Y = -1) : {(Y ==-1).sum()}\")\n",
    "print(f\" #  (Y = 1)  : {(Y == 1).sum()}\")\n",
    "print(f\" #  (Y = 2)  : {(Y == 2).sum()}\")\n",
    "print(f\" #  (Y >= 3) : {(Y >= 3).sum()}\")\n",
    "print(f\" Y.sum()     :  {Y.sum()}\")"
   ]
  },
  {
   "cell_type": "code",
   "execution_count": 21,
   "id": "07f0848a",
   "metadata": {
    "ExecuteTime": {
     "end_time": "2022-08-03T10:06:34.763164Z",
     "start_time": "2022-08-03T10:06:34.629726Z"
    },
    "hidden": true
   },
   "outputs": [
    {
     "name": "stdout",
     "output_type": "stream",
     "text": [
      " ============ MODIFY > +1 ===========\n",
      " ============ MODIFY < -1 ===========\n"
     ]
    }
   ],
   "source": [
    "if (Y >= +2).sum():\n",
    "    print(\" ============ MODIFY > +1 ===========\")\n",
    "    Y[Y >= +2] = +1\n",
    "#     modify = True\n",
    "\n",
    "if (Y <= -2).sum():\n",
    "    print(\" ============ MODIFY < -1 ===========\")\n",
    "    Y[Y <= -1] = -1\n",
    "#     modify = True# print(Y)"
   ]
  },
  {
   "cell_type": "code",
   "execution_count": 22,
   "id": "d66e7485",
   "metadata": {
    "ExecuteTime": {
     "end_time": "2022-08-03T10:06:40.898509Z",
     "start_time": "2022-08-03T10:06:40.739287Z"
    },
    "hidden": true,
    "scrolled": true
   },
   "outputs": [
    {
     "name": "stdout",
     "output_type": "stream",
     "text": [
      "<423737x3552 sparse matrix of type '<class 'numpy.float64'>'\n",
      "\twith 2612254 stored elements in Compressed Sparse Row format>\n",
      " #  (Y < 0 ) : 1679110\n",
      " #  (Y != 0) : 2612254\n",
      " #  (Y > 0)  : 933144\n",
      " #  (Y <= -3): 0\n",
      " #  (Y = -2) : 0\n",
      " #  (Y = -1) : 1679110\n",
      " #  (Y = 1)  : 933144\n",
      " #  (Y = 2)  : 0\n",
      " #  (Y >= 3) : 0\n",
      " Y.sum()     :  -745966.0\n"
     ]
    }
   ],
   "source": [
    "print(repr(Y))\n",
    "print(f\" #  (Y < 0 ) : {(Y <0).sum()}\")\n",
    "print(f\" #  (Y != 0) : {(Y !=0).sum()}\")\n",
    "print(f\" #  (Y > 0)  : {(Y >0).sum()}\")\n",
    "print(f\" #  (Y <= -3): {(Y <=-3).sum()}\")\n",
    "print(f\" #  (Y = -2) : {(Y ==-2).sum()}\")\n",
    "print(f\" #  (Y = -1) : {(Y ==-1).sum()}\")\n",
    "print(f\" #  (Y = 1)  : {(Y == 1).sum()}\")\n",
    "print(f\" #  (Y = 2)  : {(Y == 2).sum()}\")\n",
    "print(f\" #  (Y >= 3) : {(Y >= 3).sum()}\")\n",
    "print(f\" Y.sum()     :  {Y.sum()}\")"
   ]
  },
  {
   "cell_type": "code",
   "execution_count": 32,
   "id": "741665d1",
   "metadata": {
    "ExecuteTime": {
     "end_time": "2022-08-03T10:11:32.612356Z",
     "start_time": "2022-08-03T10:11:32.578941Z"
    },
    "hidden": true
   },
   "outputs": [
    {
     "name": "stdout",
     "output_type": "stream",
     "text": [
      "<class 'bool'> True\n",
      "chembl_29_Y_all.npy  -- files are  equal\n"
     ]
    }
   ],
   "source": [
    "tst_equal = ((Y_new != Y).nnz == 0)\n",
    "print(type(tst_equal), tst_equal)\n",
    "if (tst_equal):\n",
    "    print( f'{test_file}  -- files are  equal')\n",
    "else:\n",
    "    print( f'{test_file}  -- files are NOT equial')\n",
    "    print(Y_new != Y_old)\n",
    "\n"
   ]
  },
  {
   "cell_type": "code",
   "execution_count": 27,
   "id": "6a0a718c",
   "metadata": {
    "ExecuteTime": {
     "end_time": "2022-08-03T10:08:31.337537Z",
     "start_time": "2022-08-03T10:08:31.323931Z"
    },
    "hidden": true
   },
   "outputs": [
    {
     "name": "stdout",
     "output_type": "stream",
     "text": [
      "output/chembl_29_10task/chembl_29_Y_all.npy\n"
     ]
    }
   ],
   "source": [
    "all_Y_filename = 'output/chembl_29_10task/chembl_29_Y_all.npy'\n",
    "print(all_Y_filename)\n",
    "\n",
    "np.save(all_Y_filename, Y)\n",
    "print(f\"write Y file to: {all_Y_filename}\")"
   ]
  },
  {
   "cell_type": "markdown",
   "id": "847dbfe4",
   "metadata": {},
   "source": [
    "## Step by Step"
   ]
  },
  {
   "cell_type": "markdown",
   "id": "3abdd413",
   "metadata": {
    "heading_collapsed": true
   },
   "source": [
    "### `mtcv_clustered` step by step"
   ]
  },
  {
   "cell_type": "code",
   "execution_count": 275,
   "id": "7eea1eb7",
   "metadata": {
    "ExecuteTime": {
     "end_time": "2022-07-26T12:14:57.687999Z",
     "start_time": "2022-07-26T12:14:57.662704Z"
    },
    "hidden": true
   },
   "outputs": [
    {
     "name": "stdout",
     "output_type": "stream",
     "text": [
      "(423737,)\n"
     ]
    },
    {
     "data": {
      "text/plain": [
       "0         12266\n",
       "1         10766\n",
       "2         10766\n",
       "3          4557\n",
       "4          4557\n",
       "          ...  \n",
       "423732     4557\n",
       "423733    15081\n",
       "423734     8125\n",
       "423735    25220\n",
       "423736    15081\n",
       "Length: 423737, dtype: int64"
      ]
     },
     "execution_count": 275,
     "metadata": {},
     "output_type": "execute_result"
    }
   ],
   "source": [
    "print(clusters.shape)\n",
    "clusters_ser = pd.Series(clusters)\n",
    "clusters_ser"
   ]
  },
  {
   "cell_type": "code",
   "execution_count": 276,
   "id": "412d32ed",
   "metadata": {
    "ExecuteTime": {
     "end_time": "2022-07-26T12:14:58.321171Z",
     "start_time": "2022-07-26T12:14:58.305305Z"
    },
    "hidden": true
   },
   "outputs": [],
   "source": [
    "assert clusters_ser.shape[0] == Y.shape[0]"
   ]
  },
  {
   "cell_type": "code",
   "execution_count": null,
   "id": "12833b23",
   "metadata": {
    "ExecuteTime": {
     "end_time": "2022-07-26T12:14:59.492341Z",
     "start_time": "2022-07-26T12:14:59.447335Z"
    },
    "hidden": true
   },
   "outputs": [],
   "source": [
    "## Assign a sequential number to the cluster ids\n",
    "cl_uniq = clusters_ser.unique()\n",
    "cl2id   = pd.Series(np.arange(cl_uniq.shape[0]), index=cl_uniq)\n",
    "cid     = cl2id[clusters]"
   ]
  },
  {
   "cell_type": "code",
   "execution_count": 283,
   "id": "e05540b3",
   "metadata": {
    "ExecuteTime": {
     "end_time": "2022-07-26T12:20:08.903374Z",
     "start_time": "2022-07-26T12:20:08.882121Z"
    },
    "hidden": true
   },
   "outputs": [
    {
     "name": "stdout",
     "output_type": "stream",
     "text": [
      " Number of unique clusters: (17672,)\n",
      " cl2id: (17672,)\n",
      "12266        0\n",
      "10766        1\n",
      "4557         2\n",
      "9771         3\n",
      "14746        4\n",
      "         ...  \n",
      "7565     17667\n",
      "1755     17668\n",
      "13401    17669\n",
      "22801    17670\n",
      "25220    17671\n",
      "Length: 17672, dtype: int64\n",
      " cid  : (423737,)\n",
      "12266        0\n",
      "10766        1\n",
      "10766        1\n",
      "4557         2\n",
      "4557         2\n",
      "         ...  \n",
      "4557         2\n",
      "15081        7\n",
      "8125      6788\n",
      "25220    17671\n",
      "15081        7\n",
      "Length: 423737, dtype: int64\n"
     ]
    }
   ],
   "source": [
    "print(f\" Number of unique clusters: {cl_uniq.shape}\")\n",
    "print(f\" cl2id: {cl2id.shape}\")\n",
    "print(cl2id)\n"
   ]
  },
  {
   "cell_type": "code",
   "execution_count": 278,
   "id": "62b9bd86",
   "metadata": {
    "ExecuteTime": {
     "end_time": "2022-07-26T12:15:06.615664Z",
     "start_time": "2022-07-26T12:15:06.598601Z"
    },
    "hidden": true
   },
   "outputs": [
    {
     "name": "stdout",
     "output_type": "stream",
     "text": [
      "[12266 10766  4557 ... 13401 22801 25220]\n",
      "(17672,) 0 25993\n"
     ]
    }
   ],
   "source": [
    "print(cl_uniq)\n",
    "print(cl_uniq.shape, cl_uniq.min(), cl_uniq.max())"
   ]
  },
  {
   "cell_type": "code",
   "execution_count": 284,
   "id": "0eec6a31",
   "metadata": {
    "ExecuteTime": {
     "end_time": "2022-07-26T12:21:04.344731Z",
     "start_time": "2022-07-26T12:21:04.321192Z"
    },
    "hidden": true
   },
   "outputs": [
    {
     "name": "stdout",
     "output_type": "stream",
     "text": [
      " cid  : (423737,)\n",
      " cid.values:  [    0     1     1 ...  6788 17671     7]\n",
      " cid.shape :  (423737,)\n",
      "12266        0\n",
      "10766        1\n",
      "10766        1\n",
      "4557         2\n",
      "4557         2\n",
      "         ...  \n",
      "4557         2\n",
      "15081        7\n",
      "8125      6788\n",
      "25220    17671\n",
      "15081        7\n",
      "Length: 423737, dtype: int64\n"
     ]
    }
   ],
   "source": [
    "print(f\" cid  : {cid.shape}\")\n",
    "print(' cid.values: ', cid.values)\n",
    "print(' cid.shape : ', cid.shape)\n",
    "print(cid)"
   ]
  },
  {
   "cell_type": "code",
   "execution_count": 132,
   "id": "33f9de86",
   "metadata": {
    "ExecuteTime": {
     "end_time": "2022-07-26T11:01:57.744474Z",
     "start_time": "2022-07-26T11:01:57.711041Z"
    },
    "hidden": true
   },
   "outputs": [],
   "source": [
    "## creating cluster2compound matrix\n",
    "## csr_matrix( (data,(row_ind,col_ind)))\n",
    "##    where data, row_ind and col_ind satisfy the relationship a[row_ind[k], col_ind[k]] = data[k].\n",
    "##   \n",
    "##   Number of rows:     cid.values (cluster ids)\n",
    "##   Number of columns : number of rows in Y file ()\n",
    "##   Clusters x Y Rows\n",
    "## \n",
    "##   in each row (cluster) there will be a '1' in the columns (compounds) \n",
    "##   where the compound has been assigned to the cluster\n",
    "##   each compound is only assigned to one cluster, so the sum of each column \n",
    "##   is == 1 (i.e., C[:,i].sum() == 1)\n",
    "\n",
    "C    = scipy.sparse.csr_matrix(\n",
    "        (np.ones(cid.shape[0], dtype=np.int8), \n",
    "        (cid.values, np.arange(cid.shape[0])) )\n",
    "        )\n"
   ]
  },
  {
   "cell_type": "code",
   "execution_count": 294,
   "id": "e708a965",
   "metadata": {
    "ExecuteTime": {
     "end_time": "2022-07-26T12:27:18.856958Z",
     "start_time": "2022-07-26T12:27:18.832029Z"
    },
    "hidden": true
   },
   "outputs": [
    {
     "name": "stdout",
     "output_type": "stream",
     "text": [
      "<17672x423737 sparse matrix of type '<class 'numpy.int8'>'\n",
      "\twith 423737 stored elements in Compressed Sparse Row format>\n",
      "1\n"
     ]
    }
   ],
   "source": [
    "print(repr(C))\n",
    "print(C[:,1].sum())"
   ]
  },
  {
   "cell_type": "code",
   "execution_count": 296,
   "id": "c520db5a",
   "metadata": {
    "ExecuteTime": {
     "end_time": "2022-07-26T12:34:04.897331Z",
     "start_time": "2022-07-26T12:34:04.882090Z"
    },
    "hidden": true
   },
   "outputs": [],
   "source": [
    "## Ybin : Inidcates which compound / labels are present in the Y dataset"
   ]
  },
  {
   "cell_type": "code",
   "execution_count": 139,
   "id": "1928de47",
   "metadata": {
    "ExecuteTime": {
     "end_time": "2022-07-26T11:05:21.281982Z",
     "start_time": "2022-07-26T11:05:21.165549Z"
    },
    "hidden": true
   },
   "outputs": [],
   "source": [
    "Ybin      = Y.copy()"
   ]
  },
  {
   "cell_type": "code",
   "execution_count": 140,
   "id": "5da11732",
   "metadata": {
    "ExecuteTime": {
     "end_time": "2022-07-26T11:05:22.951890Z",
     "start_time": "2022-07-26T11:05:22.918262Z"
    },
    "hidden": true
   },
   "outputs": [
    {
     "name": "stdout",
     "output_type": "stream",
     "text": [
      "(423737, 3552)\n",
      "(2698287,)\n",
      "[ 1.  1. -1. ... -1. -1. -1.]\n"
     ]
    }
   ],
   "source": [
    "print(Ybin.shape)\n",
    "print(Ybin.data.shape)\n",
    "print(Ybin.data)"
   ]
  },
  {
   "cell_type": "code",
   "execution_count": 141,
   "id": "80946747",
   "metadata": {
    "ExecuteTime": {
     "end_time": "2022-07-26T11:06:00.937731Z",
     "start_time": "2022-07-26T11:06:00.920915Z"
    },
    "hidden": true
   },
   "outputs": [],
   "source": [
    "Ybin.data = np.ones(Ybin.data.shape[0], dtype=np.int8)"
   ]
  },
  {
   "cell_type": "code",
   "execution_count": 301,
   "id": "62073fb2",
   "metadata": {
    "ExecuteTime": {
     "end_time": "2022-07-26T13:12:53.122891Z",
     "start_time": "2022-07-26T13:12:51.382591Z"
    },
    "hidden": true
   },
   "outputs": [
    {
     "name": "stdout",
     "output_type": "stream",
     "text": [
      "(423737, 3552)\n",
      "(2698287,)\n",
      " #  (Y < 0 ) : 0\n",
      " #  (Y != 0) : 2612254\n",
      " #  (Y > 0)  : 2612254\n",
      "\n",
      " #  (Y < -5) : 0\n",
      " #  (Y = -5) : 0\n",
      " #  (Y = -4) : 0\n",
      " #  (Y = -3) : 0\n",
      " #  (Y = -2) : 0\n",
      " #  (Y = -1) : 0\n",
      " #  (Y = 1)  : 2530793\n",
      " #  (Y = 2)  : 76889\n",
      " #  (Y = 3)  : 4572\n",
      " #  (Y = 4)  : 0\n",
      " #  (Y = 5)  : 0\n",
      " #  (Y > 5)  : 0\n",
      " Y.sum()     : 2698287\n"
     ]
    }
   ],
   "source": [
    "print(Ybin.shape)\n",
    "print(Ybin.data.shape)\n",
    "# print(Ybin)\n",
    "print(f\" #  (Y < 0 ) : {(Ybin<0).sum()}\")\n",
    "print(f\" #  (Y != 0) : {(Ybin!=0).sum()}\")\n",
    "print(f\" #  (Y > 0)  : {(Ybin>0).sum()}\")\n",
    "print()\n",
    "print(f\" #  (Y < -5) : {(Ybin<-5).sum()}\")\n",
    "print(f\" #  (Y = -5) : {(Ybin==-5).sum()}\")\n",
    "print(f\" #  (Y = -4) : {(Ybin==-4).sum()}\")\n",
    "print(f\" #  (Y = -3) : {(Ybin==-3).sum()}\")\n",
    "print(f\" #  (Y = -2) : {(Ybin==-2).sum()}\")\n",
    "print(f\" #  (Y = -1) : {(Ybin==-1).sum()}\")\n",
    "print(f\" #  (Y = 1)  : {(Ybin==1).sum()}\")\n",
    "print(f\" #  (Y = 2)  : {(Ybin==2).sum()}\")\n",
    "print(f\" #  (Y = 3)  : {(Ybin==3).sum()}\")\n",
    "print(f\" #  (Y = 4)  : {(Ybin==4).sum()}\")\n",
    "print(f\" #  (Y = 5)  : {(Ybin==5).sum()}\")\n",
    "print(f\" #  (Y > 5)  : {(Ybin>5).sum()}\")\n",
    "print(f\" Y.sum()     : {Ybin.sum()}\")"
   ]
  },
  {
   "cell_type": "code",
   "execution_count": 146,
   "id": "e712fd9c",
   "metadata": {
    "ExecuteTime": {
     "end_time": "2022-07-26T11:10:43.950258Z",
     "start_time": "2022-07-26T11:10:43.783143Z"
    },
    "hidden": true
   },
   "outputs": [],
   "source": [
    "## Get a count of labels in each cluster  \n",
    "## C (17672x423737) dot (423737, 3552) = 17672 x 3552\n",
    "cl_counts = C.dot(Ybin)"
   ]
  },
  {
   "cell_type": "code",
   "execution_count": 300,
   "id": "7bc2aa54",
   "metadata": {
    "ExecuteTime": {
     "end_time": "2022-07-26T12:35:39.175260Z",
     "start_time": "2022-07-26T12:35:39.157624Z"
    },
    "hidden": true
   },
   "outputs": [
    {
     "name": "stdout",
     "output_type": "stream",
     "text": [
      "(17672, 3552)\n",
      "-128 127\n",
      "  (0, 672)\t14\n",
      "  (0, 673)\t14\n",
      "  (0, 674)\t14\n",
      "  (0, 675)\t14\n",
      "  (1, 0)\t24\n",
      "  (1, 1)\t24\n",
      "  (1, 2)\t24\n",
      "  (1, 3)\t24\n",
      "  (1, 4)\t-31\n",
      "  (1, 5)\t-32\n",
      "  (1, 6)\t-32\n",
      "  (1, 7)\t-33\n",
      "  (1, 8)\t104\n",
      "  (1, 9)\t104\n",
      "  (1, 10)\t104\n",
      "  (1, 11)\t104\n",
      "  (1, 12)\t61\n",
      "  (1, 13)\t59\n",
      "  (1, 14)\t58\n",
      "  (1, 15)\t58\n",
      "  (1, 16)\t26\n",
      "  (1, 17)\t26\n",
      "  (1, 18)\t26\n",
      "  (1, 19)\t26\n",
      "  (1, 20)\t31\n",
      "  :\t:\n",
      "  (17669, 1811)\t1\n",
      "  (17669, 2832)\t1\n",
      "  (17669, 2833)\t1\n",
      "  (17669, 2834)\t1\n",
      "  (17669, 2835)\t1\n",
      "  (17670, 1180)\t1\n",
      "  (17670, 1181)\t1\n",
      "  (17670, 1182)\t1\n",
      "  (17670, 1183)\t1\n",
      "  (17671, 1364)\t1\n",
      "  (17671, 1365)\t1\n",
      "  (17671, 1366)\t1\n",
      "  (17671, 1367)\t1\n",
      "  (17671, 1500)\t1\n",
      "  (17671, 1501)\t1\n",
      "  (17671, 1502)\t1\n",
      "  (17671, 1503)\t1\n",
      "  (17671, 2536)\t1\n",
      "  (17671, 2537)\t1\n",
      "  (17671, 2538)\t1\n",
      "  (17671, 2539)\t1\n",
      "  (17671, 3300)\t1\n",
      "  (17671, 3301)\t1\n",
      "  (17671, 3302)\t1\n",
      "  (17671, 3303)\t1\n"
     ]
    }
   ],
   "source": [
    "print(cl_counts.shape)\n",
    "print(cl_counts.min(), cl_counts.max())\n",
    "print(cl_counts)"
   ]
  },
  {
   "cell_type": "markdown",
   "id": "facdab39",
   "metadata": {
    "heading_collapsed": true
   },
   "source": [
    "### `mtcv` step by step"
   ]
  },
  {
   "cell_type": "code",
   "execution_count": 157,
   "id": "619222eb",
   "metadata": {
    "ExecuteTime": {
     "end_time": "2022-07-26T11:16:20.294116Z",
     "start_time": "2022-07-26T11:16:20.276815Z"
    },
    "hidden": true
   },
   "outputs": [],
   "source": [
    "nfolds = conf.nfolds\n",
    "pfolds = None\n",
    "if nfolds is None and pfolds is None:\n",
    "    raise ValueError(\"nfolds or pfolds must be specified.\")\n",
    "if pfolds is not None and np.abs(np.sum(pfolds) - 1.0) > 1e-5:\n",
    "    raise ValueError(\"pfolds must sum to 1.0.\")\n",
    "if pfolds is None:\n",
    "    pfolds = np.ones(nfolds) / nfolds\n",
    "else:\n",
    "    nfolds = len(pfolds)"
   ]
  },
  {
   "cell_type": "code",
   "execution_count": 199,
   "id": "cdb5dc9d",
   "metadata": {
    "ExecuteTime": {
     "end_time": "2022-07-26T11:41:39.145764Z",
     "start_time": "2022-07-26T11:41:39.126630Z"
    },
    "hidden": true
   },
   "outputs": [
    {
     "name": "stdout",
     "output_type": "stream",
     "text": [
      "[0.2 0.2 0.2 0.2 0.2]\n",
      "5\n"
     ]
    }
   ],
   "source": [
    "print(pfolds)\n",
    "print(nfolds)"
   ]
  },
  {
   "cell_type": "code",
   "execution_count": 314,
   "id": "e27c0cc8",
   "metadata": {
    "ExecuteTime": {
     "end_time": "2022-07-26T13:18:27.008448Z",
     "start_time": "2022-07-26T13:18:26.991439Z"
    },
    "hidden": true
   },
   "outputs": [],
   "source": [
    "target_sizes = np.array(cl_counts.sum(0)).flatten() ## Sum cl_counts over targets\n",
    "comp_sizes   = np.array(cl_counts.sum(1)).flatten() ## sum cl_counts over compounds"
   ]
  },
  {
   "cell_type": "code",
   "execution_count": 311,
   "id": "f4a812f8",
   "metadata": {
    "ExecuteTime": {
     "end_time": "2022-07-26T13:16:37.536351Z",
     "start_time": "2022-07-26T13:16:37.513351Z"
    },
    "hidden": true
   },
   "outputs": [
    {
     "name": "stdout",
     "output_type": "stream",
     "text": [
      " cl_counts shape   :  (17672, 3552)\n",
      "\n",
      " target_sizes shape:  (3552,)\n",
      " Number of targets in each cluster:  [120 120 120 ... 498 761 752] 917039\n",
      " target_sizes < 0 :  153\n",
      " target_sizes > 0 :  3394\n",
      "\n",
      " comp_sizes shape  :  (17672,)\n",
      " Number of compounds in each cluster:  [   56 82909 56604 ...    12     4    16]\n",
      " comp_sizes < 0 :  48\n",
      " comp_sizes > 0 :  17624\n"
     ]
    }
   ],
   "source": [
    "print(' cl_counts shape   : ',cl_counts.shape)\n",
    "print()\n",
    "print(' target_sizes shape: ',target_sizes.shape)\n",
    "print(' Number of targets in each cluster: ', target_sizes, target_sizes.sum())\n",
    "print(' target_sizes < 0 : ', (target_sizes < 0).sum())\n",
    "print(' target_sizes > 0 : ', (target_sizes > 0).sum())\n",
    "print()\n",
    "print(' comp_sizes shape  : ', comp_sizes.shape)\n",
    "print(' Number of compounds in each cluster: ', comp_sizes)\n",
    "print(' comp_sizes < 0 : ', (comp_sizes < 0).sum())\n",
    "print(' comp_sizes > 0 : ', (comp_sizes > 0).sum())"
   ]
  },
  {
   "cell_type": "code",
   "execution_count": 312,
   "id": "e8a0ae5f",
   "metadata": {
    "ExecuteTime": {
     "end_time": "2022-07-26T13:17:15.280816Z",
     "start_time": "2022-07-26T13:17:15.256549Z"
    },
    "hidden": true
   },
   "outputs": [
    {
     "data": {
      "text/plain": [
       "(17672, 2)"
      ]
     },
     "execution_count": 312,
     "metadata": {},
     "output_type": "execute_result"
    }
   ],
   "source": [
    "df_10 = pd.DataFrame({\"row\": np.arange(cl_counts.shape[0]), \"size\": comp_sizes})\n",
    "df_10.shape"
   ]
  },
  {
   "cell_type": "code",
   "execution_count": 315,
   "id": "14c607ca",
   "metadata": {
    "ExecuteTime": {
     "end_time": "2022-07-26T13:18:34.970319Z",
     "start_time": "2022-07-26T13:18:34.940696Z"
    },
    "hidden": true
   },
   "outputs": [
    {
     "name": "stdout",
     "output_type": "stream",
     "text": [
      "<class 'pandas.core.frame.DataFrame'>\n",
      "RangeIndex: 17672 entries, 0 to 17671\n",
      "Data columns (total 2 columns):\n",
      " #   Column  Non-Null Count  Dtype\n",
      "---  ------  --------------  -----\n",
      " 0   row     17672 non-null  int64\n",
      " 1   size    17672 non-null  int64\n",
      "dtypes: int64(2)\n",
      "memory usage: 276.2 KB\n"
     ]
    },
    {
     "data": {
      "text/html": [
       "<div>\n",
       "<style scoped>\n",
       "    .dataframe tbody tr th:only-of-type {\n",
       "        vertical-align: middle;\n",
       "    }\n",
       "\n",
       "    .dataframe tbody tr th {\n",
       "        vertical-align: top;\n",
       "    }\n",
       "\n",
       "    .dataframe thead th {\n",
       "        text-align: right;\n",
       "    }\n",
       "</style>\n",
       "<table border=\"1\" class=\"dataframe\">\n",
       "  <thead>\n",
       "    <tr style=\"text-align: right;\">\n",
       "      <th></th>\n",
       "      <th>row</th>\n",
       "      <th>size</th>\n",
       "    </tr>\n",
       "  </thead>\n",
       "  <tbody>\n",
       "    <tr>\n",
       "      <th>0</th>\n",
       "      <td>0</td>\n",
       "      <td>56</td>\n",
       "    </tr>\n",
       "    <tr>\n",
       "      <th>1</th>\n",
       "      <td>1</td>\n",
       "      <td>82909</td>\n",
       "    </tr>\n",
       "    <tr>\n",
       "      <th>2</th>\n",
       "      <td>2</td>\n",
       "      <td>56604</td>\n",
       "    </tr>\n",
       "    <tr>\n",
       "      <th>3</th>\n",
       "      <td>3</td>\n",
       "      <td>472</td>\n",
       "    </tr>\n",
       "    <tr>\n",
       "      <th>4</th>\n",
       "      <td>4</td>\n",
       "      <td>272</td>\n",
       "    </tr>\n",
       "    <tr>\n",
       "      <th>...</th>\n",
       "      <td>...</td>\n",
       "      <td>...</td>\n",
       "    </tr>\n",
       "    <tr>\n",
       "      <th>17667</th>\n",
       "      <td>17667</td>\n",
       "      <td>8</td>\n",
       "    </tr>\n",
       "    <tr>\n",
       "      <th>17668</th>\n",
       "      <td>17668</td>\n",
       "      <td>8</td>\n",
       "    </tr>\n",
       "    <tr>\n",
       "      <th>17669</th>\n",
       "      <td>17669</td>\n",
       "      <td>12</td>\n",
       "    </tr>\n",
       "    <tr>\n",
       "      <th>17670</th>\n",
       "      <td>17670</td>\n",
       "      <td>4</td>\n",
       "    </tr>\n",
       "    <tr>\n",
       "      <th>17671</th>\n",
       "      <td>17671</td>\n",
       "      <td>16</td>\n",
       "    </tr>\n",
       "  </tbody>\n",
       "</table>\n",
       "<p>17672 rows × 2 columns</p>\n",
       "</div>"
      ],
      "text/plain": [
       "         row   size\n",
       "0          0     56\n",
       "1          1  82909\n",
       "2          2  56604\n",
       "3          3    472\n",
       "4          4    272\n",
       "...      ...    ...\n",
       "17667  17667      8\n",
       "17668  17668      8\n",
       "17669  17669     12\n",
       "17670  17670      4\n",
       "17671  17671     16\n",
       "\n",
       "[17672 rows x 2 columns]"
      ]
     },
     "execution_count": 315,
     "metadata": {},
     "output_type": "execute_result"
    }
   ],
   "source": [
    "df_10.info()\n",
    "df_10"
   ]
  },
  {
   "cell_type": "code",
   "execution_count": null,
   "id": "32295acd",
   "metadata": {
    "hidden": true
   },
   "outputs": [],
   "source": [
    "# Randomize df_10"
   ]
  },
  {
   "cell_type": "code",
   "execution_count": 316,
   "id": "81eb7d2d",
   "metadata": {
    "ExecuteTime": {
     "end_time": "2022-07-26T13:18:38.895235Z",
     "start_time": "2022-07-26T13:18:38.870486Z"
    },
    "hidden": true
   },
   "outputs": [],
   "source": [
    "df_11 = df_10.sample(frac=1)"
   ]
  },
  {
   "cell_type": "code",
   "execution_count": 317,
   "id": "08a3b196",
   "metadata": {
    "ExecuteTime": {
     "end_time": "2022-07-26T13:18:39.243424Z",
     "start_time": "2022-07-26T13:18:39.208144Z"
    },
    "hidden": true
   },
   "outputs": [
    {
     "name": "stdout",
     "output_type": "stream",
     "text": [
      "<class 'pandas.core.frame.DataFrame'>\n",
      "Int64Index: 17672 entries, 6420 to 3767\n",
      "Data columns (total 2 columns):\n",
      " #   Column  Non-Null Count  Dtype\n",
      "---  ------  --------------  -----\n",
      " 0   row     17672 non-null  int64\n",
      " 1   size    17672 non-null  int64\n",
      "dtypes: int64(2)\n",
      "memory usage: 414.2 KB\n"
     ]
    },
    {
     "data": {
      "text/html": [
       "<div>\n",
       "<style scoped>\n",
       "    .dataframe tbody tr th:only-of-type {\n",
       "        vertical-align: middle;\n",
       "    }\n",
       "\n",
       "    .dataframe tbody tr th {\n",
       "        vertical-align: top;\n",
       "    }\n",
       "\n",
       "    .dataframe thead th {\n",
       "        text-align: right;\n",
       "    }\n",
       "</style>\n",
       "<table border=\"1\" class=\"dataframe\">\n",
       "  <thead>\n",
       "    <tr style=\"text-align: right;\">\n",
       "      <th></th>\n",
       "      <th>row</th>\n",
       "      <th>size</th>\n",
       "    </tr>\n",
       "  </thead>\n",
       "  <tbody>\n",
       "    <tr>\n",
       "      <th>6420</th>\n",
       "      <td>6420</td>\n",
       "      <td>40</td>\n",
       "    </tr>\n",
       "    <tr>\n",
       "      <th>13961</th>\n",
       "      <td>13961</td>\n",
       "      <td>20</td>\n",
       "    </tr>\n",
       "    <tr>\n",
       "      <th>16567</th>\n",
       "      <td>16567</td>\n",
       "      <td>16</td>\n",
       "    </tr>\n",
       "    <tr>\n",
       "      <th>156</th>\n",
       "      <td>156</td>\n",
       "      <td>28</td>\n",
       "    </tr>\n",
       "    <tr>\n",
       "      <th>15820</th>\n",
       "      <td>15820</td>\n",
       "      <td>4</td>\n",
       "    </tr>\n",
       "    <tr>\n",
       "      <th>...</th>\n",
       "      <td>...</td>\n",
       "      <td>...</td>\n",
       "    </tr>\n",
       "    <tr>\n",
       "      <th>2908</th>\n",
       "      <td>2908</td>\n",
       "      <td>12</td>\n",
       "    </tr>\n",
       "    <tr>\n",
       "      <th>16049</th>\n",
       "      <td>16049</td>\n",
       "      <td>16</td>\n",
       "    </tr>\n",
       "    <tr>\n",
       "      <th>1413</th>\n",
       "      <td>1413</td>\n",
       "      <td>20</td>\n",
       "    </tr>\n",
       "    <tr>\n",
       "      <th>17577</th>\n",
       "      <td>17577</td>\n",
       "      <td>24</td>\n",
       "    </tr>\n",
       "    <tr>\n",
       "      <th>3767</th>\n",
       "      <td>3767</td>\n",
       "      <td>4</td>\n",
       "    </tr>\n",
       "  </tbody>\n",
       "</table>\n",
       "<p>17672 rows × 2 columns</p>\n",
       "</div>"
      ],
      "text/plain": [
       "         row  size\n",
       "6420    6420    40\n",
       "13961  13961    20\n",
       "16567  16567    16\n",
       "156      156    28\n",
       "15820  15820     4\n",
       "...      ...   ...\n",
       "2908    2908    12\n",
       "16049  16049    16\n",
       "1413    1413    20\n",
       "17577  17577    24\n",
       "3767    3767     4\n",
       "\n",
       "[17672 rows x 2 columns]"
      ]
     },
     "execution_count": 317,
     "metadata": {},
     "output_type": "execute_result"
    }
   ],
   "source": [
    "df_11.info()\n",
    "df_11.shape\n",
    "df_11"
   ]
  },
  {
   "cell_type": "code",
   "execution_count": null,
   "id": "ccc822ba",
   "metadata": {
    "hidden": true
   },
   "outputs": [],
   "source": [
    "## Sort in descending compound count order "
   ]
  },
  {
   "cell_type": "code",
   "execution_count": 318,
   "id": "464fed6d",
   "metadata": {
    "ExecuteTime": {
     "end_time": "2022-07-26T13:18:45.745306Z",
     "start_time": "2022-07-26T13:18:45.725023Z"
    },
    "hidden": true
   },
   "outputs": [],
   "source": [
    "df_11.sort_values(\"size\", inplace=True, ascending=False)"
   ]
  },
  {
   "cell_type": "code",
   "execution_count": 319,
   "id": "6b9ff117",
   "metadata": {
    "ExecuteTime": {
     "end_time": "2022-07-26T13:18:46.424577Z",
     "start_time": "2022-07-26T13:18:46.391574Z"
    },
    "hidden": true
   },
   "outputs": [
    {
     "name": "stdout",
     "output_type": "stream",
     "text": [
      "<class 'pandas.core.frame.DataFrame'>\n",
      "Int64Index: 17672 entries, 1 to 15151\n",
      "Data columns (total 2 columns):\n",
      " #   Column  Non-Null Count  Dtype\n",
      "---  ------  --------------  -----\n",
      " 0   row     17672 non-null  int64\n",
      " 1   size    17672 non-null  int64\n",
      "dtypes: int64(2)\n",
      "memory usage: 414.2 KB\n"
     ]
    },
    {
     "data": {
      "text/html": [
       "<div>\n",
       "<style scoped>\n",
       "    .dataframe tbody tr th:only-of-type {\n",
       "        vertical-align: middle;\n",
       "    }\n",
       "\n",
       "    .dataframe tbody tr th {\n",
       "        vertical-align: top;\n",
       "    }\n",
       "\n",
       "    .dataframe thead th {\n",
       "        text-align: right;\n",
       "    }\n",
       "</style>\n",
       "<table border=\"1\" class=\"dataframe\">\n",
       "  <thead>\n",
       "    <tr style=\"text-align: right;\">\n",
       "      <th></th>\n",
       "      <th>row</th>\n",
       "      <th>size</th>\n",
       "    </tr>\n",
       "  </thead>\n",
       "  <tbody>\n",
       "    <tr>\n",
       "      <th>1</th>\n",
       "      <td>1</td>\n",
       "      <td>82909</td>\n",
       "    </tr>\n",
       "    <tr>\n",
       "      <th>7</th>\n",
       "      <td>7</td>\n",
       "      <td>79806</td>\n",
       "    </tr>\n",
       "    <tr>\n",
       "      <th>2</th>\n",
       "      <td>2</td>\n",
       "      <td>56604</td>\n",
       "    </tr>\n",
       "    <tr>\n",
       "      <th>49</th>\n",
       "      <td>49</td>\n",
       "      <td>6921</td>\n",
       "    </tr>\n",
       "    <tr>\n",
       "      <th>3969</th>\n",
       "      <td>3969</td>\n",
       "      <td>1745</td>\n",
       "    </tr>\n",
       "    <tr>\n",
       "      <th>...</th>\n",
       "      <td>...</td>\n",
       "      <td>...</td>\n",
       "    </tr>\n",
       "    <tr>\n",
       "      <th>13443</th>\n",
       "      <td>13443</td>\n",
       "      <td>-539</td>\n",
       "    </tr>\n",
       "    <tr>\n",
       "      <th>13272</th>\n",
       "      <td>13272</td>\n",
       "      <td>-620</td>\n",
       "    </tr>\n",
       "    <tr>\n",
       "      <th>16191</th>\n",
       "      <td>16191</td>\n",
       "      <td>-740</td>\n",
       "    </tr>\n",
       "    <tr>\n",
       "      <th>606</th>\n",
       "      <td>606</td>\n",
       "      <td>-750</td>\n",
       "    </tr>\n",
       "    <tr>\n",
       "      <th>15151</th>\n",
       "      <td>15151</td>\n",
       "      <td>-802</td>\n",
       "    </tr>\n",
       "  </tbody>\n",
       "</table>\n",
       "<p>17672 rows × 2 columns</p>\n",
       "</div>"
      ],
      "text/plain": [
       "         row   size\n",
       "1          1  82909\n",
       "7          7  79806\n",
       "2          2  56604\n",
       "49        49   6921\n",
       "3969    3969   1745\n",
       "...      ...    ...\n",
       "13443  13443   -539\n",
       "13272  13272   -620\n",
       "16191  16191   -740\n",
       "606      606   -750\n",
       "15151  15151   -802\n",
       "\n",
       "[17672 rows x 2 columns]"
      ]
     },
     "execution_count": 319,
     "metadata": {},
     "output_type": "execute_result"
    }
   ],
   "source": [
    "df_11.info()\n",
    "df_11.shape\n",
    "df_11"
   ]
  },
  {
   "cell_type": "code",
   "execution_count": 320,
   "id": "9cfe85b1",
   "metadata": {
    "ExecuteTime": {
     "end_time": "2022-07-26T13:19:11.026679Z",
     "start_time": "2022-07-26T13:19:11.007800Z"
    },
    "hidden": true
   },
   "outputs": [],
   "source": [
    "fold_sizes = np.zeros((nfolds, cl_counts.shape[1]), dtype=np.int8)\n",
    "#max_fold_sizes = np.ceil(target_sizes / nfolds).astype(np.int)\n",
    "max_fold_sizes = np.ceil(np.outer(target_sizes, pfolds))\n"
   ]
  },
  {
   "cell_type": "code",
   "execution_count": 321,
   "id": "d911905e",
   "metadata": {
    "ExecuteTime": {
     "end_time": "2022-07-26T13:19:11.636553Z",
     "start_time": "2022-07-26T13:19:11.615569Z"
    },
    "hidden": true
   },
   "outputs": [
    {
     "name": "stdout",
     "output_type": "stream",
     "text": [
      "\n",
      " fold_sizes \n",
      "\n",
      "(5, 3552)\n",
      "[[0 0 0 ... 0 0 0]\n",
      " [0 0 0 ... 0 0 0]\n",
      " [0 0 0 ... 0 0 0]\n",
      " [0 0 0 ... 0 0 0]\n",
      " [0 0 0 ... 0 0 0]]\n",
      "\n",
      " pfolds & target_sizes \n",
      "\n",
      "(5,)\n",
      "[0.2 0.2 0.2 0.2 0.2]\n",
      "(3552,)\n",
      "[120 120 120 ... 498 761 752]\n",
      "\n",
      " np.outer(target_sizes, pfolds) \n",
      "\n",
      "(3552, 5)\n",
      "[[ 24.   24.   24.   24.   24. ]\n",
      " [ 24.   24.   24.   24.   24. ]\n",
      " [ 24.   24.   24.   24.   24. ]\n",
      " ...\n",
      " [ 99.6  99.6  99.6  99.6  99.6]\n",
      " [152.2 152.2 152.2 152.2 152.2]\n",
      " [150.4 150.4 150.4 150.4 150.4]]\n",
      "\n",
      " max_fold_sizes \n",
      "\n",
      "(3552, 5)\n",
      "[[ 24.  24.  24.  24.  24.]\n",
      " [ 24.  24.  24.  24.  24.]\n",
      " [ 24.  24.  24.  24.  24.]\n",
      " ...\n",
      " [100. 100. 100. 100. 100.]\n",
      " [153. 153. 153. 153. 153.]\n",
      " [151. 151. 151. 151. 151.]]\n"
     ]
    }
   ],
   "source": [
    "print('\\n fold_sizes \\n')\n",
    "print(fold_sizes.shape)\n",
    "print(fold_sizes)\n",
    "print('\\n pfolds & target_sizes \\n')\n",
    "print(pfolds.shape)\n",
    "print(pfolds)\n",
    "print(target_sizes.shape)\n",
    "print(target_sizes)\n",
    "print('\\n np.outer(target_sizes, pfolds) \\n')\n",
    "print(np.outer(target_sizes, pfolds).shape)\n",
    "print(np.outer(target_sizes, pfolds))\n",
    "print('\\n max_fold_sizes \\n')\n",
    "print(max_fold_sizes.shape)\n",
    "print(max_fold_sizes)\n"
   ]
  },
  {
   "cell_type": "code",
   "execution_count": 366,
   "id": "fe29a6a8",
   "metadata": {
    "ExecuteTime": {
     "end_time": "2022-07-26T13:41:28.351252Z",
     "start_time": "2022-07-26T13:41:28.335699Z"
    },
    "hidden": true
   },
   "outputs": [],
   "source": [
    "## output vector (initialized to -1)\n",
    "folds = np.zeros(cl_counts.shape[0], dtype=np.int8) - 1\n",
    "farray = np.arange(nfolds)    "
   ]
  },
  {
   "cell_type": "code",
   "execution_count": 367,
   "id": "9c7c9075",
   "metadata": {
    "ExecuteTime": {
     "end_time": "2022-07-26T13:41:29.550487Z",
     "start_time": "2022-07-26T13:41:29.534121Z"
    },
    "hidden": true
   },
   "outputs": [
    {
     "name": "stdout",
     "output_type": "stream",
     "text": [
      "\n",
      " folds\n",
      "\n",
      "(17672,)\n",
      "[-1 -1 -1 ... -1 -1 -1]\n",
      "[0 1 2 3 4]\n"
     ]
    }
   ],
   "source": [
    "print('\\n folds\\n')\n",
    "print(folds.shape)\n",
    "print(folds)\n",
    "print(farray)"
   ]
  },
  {
   "cell_type": "code",
   "execution_count": 368,
   "id": "e5632c3f",
   "metadata": {
    "ExecuteTime": {
     "end_time": "2022-07-26T13:41:34.249594Z",
     "start_time": "2022-07-26T13:41:34.232206Z"
    },
    "hidden": true
   },
   "outputs": [
    {
     "data": {
      "text/plain": [
       "(17672, 3552)"
      ]
     },
     "execution_count": 368,
     "metadata": {},
     "output_type": "execute_result"
    }
   ],
   "source": [
    "cl_counts.shape"
   ]
  },
  {
   "cell_type": "code",
   "execution_count": 369,
   "id": "c316fff3",
   "metadata": {
    "ExecuteTime": {
     "end_time": "2022-07-26T13:41:35.159421Z",
     "start_time": "2022-07-26T13:41:35.143184Z"
    },
    "hidden": true
   },
   "outputs": [],
   "source": [
    "# for i in range(cl_counts.shape[0]):\n",
    "i= 0"
   ]
  },
  {
   "cell_type": "code",
   "execution_count": 358,
   "id": "702235f2",
   "metadata": {
    "ExecuteTime": {
     "end_time": "2022-07-26T13:40:17.211332Z",
     "start_time": "2022-07-26T13:40:17.196824Z"
    },
    "hidden": true
   },
   "outputs": [],
   "source": [
    "i += 1\n"
   ]
  },
  {
   "cell_type": "code",
   "execution_count": 370,
   "id": "7d225fe4",
   "metadata": {
    "ExecuteTime": {
     "end_time": "2022-07-26T13:41:41.217505Z",
     "start_time": "2022-07-26T13:41:41.200200Z"
    },
    "hidden": true
   },
   "outputs": [
    {
     "name": "stdout",
     "output_type": "stream",
     "text": [
      "row: 0  index: 1         df_11['row'][idx]: 1         df_11['size'][idx]: 82909\n"
     ]
    }
   ],
   "source": [
    "# for i in range(mask.shape[0]):\n",
    "idx   = df_11.index[i]\n",
    "print(f\"row: {i}  index: {idx}         df_11['row'][idx]: {df_11['row'][idx]}         df_11['size'][idx]: {df_11['size'][idx]}\")"
   ]
  },
  {
   "cell_type": "code",
   "execution_count": 371,
   "id": "b77ff453",
   "metadata": {
    "ExecuteTime": {
     "end_time": "2022-07-26T13:41:43.489558Z",
     "start_time": "2022-07-26T13:41:43.472200Z"
    },
    "hidden": true
   },
   "outputs": [
    {
     "name": "stdout",
     "output_type": "stream",
     "text": [
      "[3 1 4 2 0]\n"
     ]
    }
   ],
   "source": [
    "random_folds =  np.random.choice(farray, size=nfolds, replace=False, p=pfolds)\n",
    "print(random_folds)\n",
    "random_folds = iter(random_folds)"
   ]
  },
  {
   "cell_type": "code",
   "execution_count": 361,
   "id": "902539e5",
   "metadata": {
    "ExecuteTime": {
     "end_time": "2022-07-26T13:40:20.896137Z",
     "start_time": "2022-07-26T13:40:20.872791Z"
    },
    "hidden": true
   },
   "outputs": [
    {
     "name": "stdout",
     "output_type": "stream",
     "text": [
      "2\n"
     ]
    }
   ],
   "source": [
    "# j  = next(random_folds)\n",
    "print(j)\n",
    "\n",
    "print('cl_counts[idx] : ', cl_counts[idx].shape, cl_counts[idx].sum())\n",
    "print((fold_sizes[j,:] + cl_counts[idx,:] > max_fold_sizes[:,j]).shape , (fold_sizes[j,:] + cl_counts[idx,:] > max_fold_sizes[:,j]))\n",
    "print((fold_sizes[j,:] + cl_counts[idx,:] > max_fold_sizes[:,j]).any())\n",
    "print(cl_counts[idx,:].dot((fold_sizes[j,:] + cl_counts[idx,:] > max_fold_sizes[:,j]).transpose()))\n",
    "print(cl_counts[idx,:].dot((fold_sizes[j,:] + cl_counts[idx,:] > max_fold_sizes[:,j]).transpose()) == 0)"
   ]
  },
  {
   "cell_type": "code",
   "execution_count": 372,
   "id": "dfa13b9f",
   "metadata": {
    "ExecuteTime": {
     "end_time": "2022-07-26T13:41:58.465415Z",
     "start_time": "2022-07-26T13:41:58.428792Z"
    },
    "hidden": true
   },
   "outputs": [
    {
     "name": "stdout",
     "output_type": "stream",
     "text": [
      "fold: 3\n",
      "   cl_counts[idx] :  (1, 3552) 82909\n",
      "   test shape     :  (1, 3552) [[False False False ... False False False]]\n",
      "   test.any()     :  True\n",
      "   dot operation  :  [[-119]]\n",
      "   dot op == 0    :  [[False]]\n",
      "fold: 1\n",
      "   cl_counts[idx] :  (1, 3552) 82909\n",
      "   test shape     :  (1, 3552) [[False False False ... False False False]]\n",
      "   test.any()     :  True\n",
      "   dot operation  :  [[-119]]\n",
      "   dot op == 0    :  [[False]]\n",
      "fold: 4\n",
      "   cl_counts[idx] :  (1, 3552) 82909\n",
      "   test shape     :  (1, 3552) [[False False False ... False False False]]\n",
      "   test.any()     :  True\n",
      "   dot operation  :  [[-119]]\n",
      "   dot op == 0    :  [[False]]\n",
      "fold: 2\n",
      "   cl_counts[idx] :  (1, 3552) 82909\n",
      "   test shape     :  (1, 3552) [[False False False ... False False False]]\n",
      "   test.any()     :  True\n",
      "   dot operation  :  [[-119]]\n",
      "   dot op == 0    :  [[False]]\n",
      "fold: 0\n",
      "   cl_counts[idx] :  (1, 3552) 82909\n",
      "   test shape     :  (1, 3552) [[False False False ... False False False]]\n",
      "   test.any()     :  True\n",
      "   dot operation  :  [[-119]]\n",
      "   dot op == 0    :  [[False]]\n"
     ]
    }
   ],
   "source": [
    "#for j in np.random.permutation(nfolds):\n",
    "# make a random list of the folds, and go through the list \n",
    "for j in random_folds:\n",
    "    print(f'fold: {j}')\n",
    "    print('   cl_counts[idx] : ', cl_counts[idx].shape, cl_counts[idx].sum())\n",
    "    print('   test shape     : ', (fold_sizes[j,:] + cl_counts[idx,:] > max_fold_sizes[:,j]).shape , (fold_sizes[j,:] + cl_counts[idx,:] > max_fold_sizes[:,j]))\n",
    "    print('   test.any()     : ', (fold_sizes[j,:] + cl_counts[idx,:] > max_fold_sizes[:,j]).any())\n",
    "    print('   dot operation  : ', cl_counts[idx,:].dot((fold_sizes[j,:] + cl_counts[idx,:] > max_fold_sizes[:,j]).transpose()))\n",
    "    print('   dot op == 0    : ', cl_counts[idx,:].dot((fold_sizes[j,:] + cl_counts[idx,:] > max_fold_sizes[:,j]).transpose()) == 0)    \n",
    "    if cl_counts[idx,:].dot((fold_sizes[j,:] + cl_counts[idx,:] > max_fold_sizes[:,j]).transpose()) == 0:\n",
    "        ## compound fits into fold j\n",
    "        print(f\" *** compound fits into fold {j}\")\n",
    "        folds[idx] = j\n",
    "        fold_sizes[j,:] += mask[idx,:]\n",
    "        break"
   ]
  },
  {
   "cell_type": "code",
   "execution_count": 373,
   "id": "abcacf6a",
   "metadata": {
    "ExecuteTime": {
     "end_time": "2022-07-26T13:42:02.563034Z",
     "start_time": "2022-07-26T13:42:02.546828Z"
    },
    "hidden": true
   },
   "outputs": [
    {
     "name": "stdout",
     "output_type": "stream",
     "text": [
      "-1\n"
     ]
    }
   ],
   "source": [
    "print(folds[idx])"
   ]
  },
  {
   "cell_type": "code",
   "execution_count": 374,
   "id": "e2a28146",
   "metadata": {
    "ExecuteTime": {
     "end_time": "2022-07-26T13:42:03.580629Z",
     "start_time": "2022-07-26T13:42:03.557434Z"
    },
    "hidden": true
   },
   "outputs": [
    {
     "name": "stdout",
     "output_type": "stream",
     "text": [
      " random assignment into 4 \n",
      " cl_counts[1]  :      (0, 0)\t24\n",
      "  (0, 1)\t24\n",
      "  (0, 2)\t24\n",
      "  (0, 3)\t24\n",
      "  (0, 4)\t-31\n",
      "  (0, 5)\t-32\n",
      "  (0, 6)\t-32\n",
      "  (0, 7)\t-33\n",
      "  (0, 8)\t104\n",
      "  (0, 9)\t104\n",
      "  (0, 10)\t104\n",
      "  (0, 11)\t104\n",
      "  (0, 12)\t61\n",
      "  (0, 13)\t59\n",
      "  (0, 14)\t58\n",
      "  (0, 15)\t58\n",
      "  (0, 16)\t26\n",
      "  (0, 17)\t26\n",
      "  (0, 18)\t26\n",
      "  (0, 19)\t26\n",
      "  (0, 20)\t31\n",
      "  (0, 21)\t31\n",
      "  (0, 22)\t31\n",
      "  (0, 23)\t31\n",
      "  (0, 24)\t31\n",
      "  :\t:\n",
      "  (0, 3527)\t56\n",
      "  (0, 3528)\t38\n",
      "  (0, 3529)\t38\n",
      "  (0, 3530)\t38\n",
      "  (0, 3531)\t38\n",
      "  (0, 3532)\t-94\n",
      "  (0, 3533)\t-94\n",
      "  (0, 3534)\t-94\n",
      "  (0, 3535)\t-94\n",
      "  (0, 3536)\t-80\n",
      "  (0, 3537)\t-80\n",
      "  (0, 3538)\t-80\n",
      "  (0, 3539)\t-80\n",
      "  (0, 3540)\t40\n",
      "  (0, 3541)\t40\n",
      "  (0, 3542)\t40\n",
      "  (0, 3543)\t40\n",
      "  (0, 3544)\t116\n",
      "  (0, 3545)\t122\n",
      "  (0, 3546)\t122\n",
      "  (0, 3547)\t122\n",
      "  (0, 3548)\t-59\n",
      "  (0, 3549)\t-59\n",
      "  (0, 3550)\t-128\n",
      "  (0, 3551)\t-128 \n",
      " fold_sizes[4,:]  :    [  24   24   24 ...  -59 -128 -128] \n"
     ]
    }
   ],
   "source": [
    "        \n",
    "## If still havent assigned, randomly assign to a fold.\n",
    "if folds[idx] == -1:\n",
    "    picked_fold = np.random.randint(0, nfolds)\n",
    "    folds[idx] = picked_fold\n",
    "    fold_sizes[folds[idx],:] += cl_counts[idx,:]\n",
    "    print(f\" random assignment into {picked_fold} \")\n",
    "    print(f\" cl_counts[{idx}]  :    {cl_counts[idx,:]} \")\n",
    "    print(f\" fold_sizes[{folds[idx]},:]  :    {fold_sizes[folds[idx],:]} \")"
   ]
  },
  {
   "cell_type": "code",
   "execution_count": 365,
   "id": "5a086e07",
   "metadata": {
    "ExecuteTime": {
     "end_time": "2022-07-26T13:41:13.242942Z",
     "start_time": "2022-07-26T13:41:13.226086Z"
    },
    "hidden": true
   },
   "outputs": [
    {
     "name": "stdout",
     "output_type": "stream",
     "text": [
      "[3 4 4 ... 3 2 0]\n"
     ]
    }
   ],
   "source": [
    "print(folds)"
   ]
  },
  {
   "cell_type": "code",
   "execution_count": null,
   "id": "625ecc23",
   "metadata": {
    "hidden": true
   },
   "outputs": [],
   "source": []
  },
  {
   "cell_type": "code",
   "execution_count": null,
   "id": "9ec5362d",
   "metadata": {
    "hidden": true
   },
   "outputs": [],
   "source": []
  }
 ],
 "metadata": {
  "kernelspec": {
   "display_name": "Python [conda env:pyt-gpu]",
   "language": "python",
   "name": "conda-env-pyt-gpu-py"
  },
  "language_info": {
   "codemirror_mode": {
    "name": "ipython",
    "version": 3
   },
   "file_extension": ".py",
   "mimetype": "text/x-python",
   "name": "python",
   "nbconvert_exporter": "python",
   "pygments_lexer": "ipython3",
   "version": "3.9.5"
  },
  "toc": {
   "base_numbering": 1,
   "nav_menu": {},
   "number_sections": true,
   "sideBar": true,
   "skip_h1_title": false,
   "title_cell": "Table of Contents",
   "title_sidebar": "Contents",
   "toc_cell": false,
   "toc_position": {},
   "toc_section_display": true,
   "toc_window_display": false
  }
 },
 "nbformat": 4,
 "nbformat_minor": 5
}
