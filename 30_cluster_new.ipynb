{
 "cells": [
  {
   "cell_type": "markdown",
   "id": "3a6cccdc",
   "metadata": {},
   "source": [
    "# Clustering"
   ]
  },
  {
   "cell_type": "code",
   "execution_count": 1,
   "id": "63bf128b",
   "metadata": {
    "ExecuteTime": {
     "end_time": "2022-08-09T13:44:50.864671Z",
     "start_time": "2022-08-09T13:44:50.829156Z"
    }
   },
   "outputs": [
    {
     "data": {
      "text/html": [
       "<style>.container { width:98% !important; }</style>"
      ],
      "text/plain": [
       "<IPython.core.display.HTML object>"
      ]
     },
     "metadata": {},
     "output_type": "display_data"
    }
   ],
   "source": [
    "from IPython.core.display import display, HTML\n",
    "display(HTML(\"<style>.container { width:98% !important; }</style>\"))\n",
    "%load_ext autoreload\n",
    "%autoreload 2"
   ]
  },
  {
   "cell_type": "code",
   "execution_count": 2,
   "id": "168164ca",
   "metadata": {
    "ExecuteTime": {
     "end_time": "2022-08-09T13:44:51.759941Z",
     "start_time": "2022-08-09T13:44:51.538828Z"
    }
   },
   "outputs": [
    {
     "name": "stdout",
     "output_type": "stream",
     "text": [
      "append .. to sys.path\n",
      "['/home/kbardool/WSL-projs/chembl_pipeline', '/home/kbardool/miniconda3/envs/pyt-gpu/lib/python39.zip', '/home/kbardool/miniconda3/envs/pyt-gpu/lib/python3.9', '/home/kbardool/miniconda3/envs/pyt-gpu/lib/python3.9/lib-dynload', '', '/home/kbardool/miniconda3/envs/pyt-gpu/lib/python3.9/site-packages', '/home/kbardool/WSL-projs/leader_follower', '/home/kbardool/miniconda3/envs/pyt-gpu/lib/python3.9/site-packages/IPython/extensions', '/home/kbardool/.ipython', '..']\n"
     ]
    }
   ],
   "source": [
    "import sys\n",
    "\n",
    "if ('..' not in sys.path):\n",
    "    print('append .. to sys.path')\n",
    "    sys.path.append('..')\n",
    "print(sys.path)\n",
    "\n",
    "import numpy as np\n",
    "import scipy.sparse\n",
    "# import sparsechem as sc\n",
    "import argparse\n",
    "import leader_follower as lf"
   ]
  },
  {
   "cell_type": "code",
   "execution_count": 3,
   "id": "0dacaaa7",
   "metadata": {
    "ExecuteTime": {
     "end_time": "2022-08-09T13:45:51.429024Z",
     "start_time": "2022-08-09T13:45:51.407001Z"
    }
   },
   "outputs": [
    {
     "name": "stdout",
     "output_type": "stream",
     "text": [
      "/home/kbardool/WSL-projs/chembl_pipeline\n",
      "/home/kbardool/miniconda3/envs/pyt-gpu/lib/python39.zip\n",
      "/home/kbardool/miniconda3/envs/pyt-gpu/lib/python3.9\n",
      "/home/kbardool/miniconda3/envs/pyt-gpu/lib/python3.9/lib-dynload\n",
      "\n",
      "/home/kbardool/miniconda3/envs/pyt-gpu/lib/python3.9/site-packages\n",
      "/home/kbardool/WSL-projs/leader_follower\n",
      "/home/kbardool/miniconda3/envs/pyt-gpu/lib/python3.9/site-packages/IPython/extensions\n",
      "/home/kbardool/.ipython\n",
      "..\n"
     ]
    }
   ],
   "source": [
    "for i in sys.path:\n",
    "    print(i)"
   ]
  },
  {
   "cell_type": "code",
   "execution_count": 4,
   "id": "eb865ea7",
   "metadata": {
    "ExecuteTime": {
     "end_time": "2022-08-09T13:45:52.359312Z",
     "start_time": "2022-08-09T13:45:52.341964Z"
    }
   },
   "outputs": [],
   "source": [
    "def print_dbg(text, verbose = False):\n",
    "    if verbose:\n",
    "        print(text)"
   ]
  },
  {
   "cell_type": "code",
   "execution_count": 5,
   "id": "08cd1c61",
   "metadata": {
    "ExecuteTime": {
     "end_time": "2022-08-09T13:45:52.900527Z",
     "start_time": "2022-08-09T13:45:52.884927Z"
    }
   },
   "outputs": [],
   "source": [
    "def load_sparse(filename):\n",
    "    \"\"\"Loads sparse from Matrix market or Numpy .npy file.\"\"\"\n",
    "    if filename is None:\n",
    "        return None\n",
    "    if filename.endswith('.mtx'):\n",
    "        return scipy.io.mmread(filename).tocsr()\n",
    "    elif filename.endswith('.npy'):\n",
    "        return np.load(filename, allow_pickle=True).item().tocsr()\n",
    "    elif filename.endswith('.npz'):\n",
    "        return scipy.sparse.load_npz(filename).tocsr()\n",
    "    raise ValueError(f\"Loading '{filename}' failed. It must have a suffix '.mtx', '.npy', '.npz'.\")\n"
   ]
  },
  {
   "cell_type": "code",
   "execution_count": 6,
   "id": "e504e011",
   "metadata": {
    "ExecuteTime": {
     "end_time": "2022-08-09T13:45:53.337223Z",
     "start_time": "2022-08-09T13:45:53.310924Z"
    }
   },
   "outputs": [],
   "source": [
    "def hierarchical_clustering(X, dists, verbose = False):\n",
    "    \"\"\"\n",
    "    Args:\n",
    "        X       compound matrix in CSR\n",
    "        dists   list of (increasing) distances\n",
    "    Sequentially clusters with each dists, returns final cluster ids\n",
    "    \"\"\"\n",
    "    assert type(X) == scipy.sparse.csr.csr_matrix, \"X should be csr_matrix (scipy.sparse)\"\n",
    "    \n",
    "    print(f\"X shape: {X.shape}\")\n",
    "    cl0 = np.arange(X.shape[0])\n",
    "    Xc  = X\n",
    "\n",
    "    for dist in dists:\n",
    "        print(f\"Running clustering for distance: {dist}\")\n",
    "        cl, cent = cluster(Xc, dist, verbose)\n",
    "        Xc       = Xc[cent]\n",
    "        cl0      = cl[cl0]\n",
    "\n",
    "    return cl0\n"
   ]
  },
  {
   "cell_type": "code",
   "execution_count": null,
   "id": "52341d44",
   "metadata": {},
   "outputs": [],
   "source": []
  },
  {
   "cell_type": "markdown",
   "id": "2d46376e",
   "metadata": {},
   "source": [
    "## main"
   ]
  },
  {
   "cell_type": "code",
   "execution_count": 7,
   "id": "bea13c63",
   "metadata": {
    "ExecuteTime": {
     "end_time": "2022-08-09T13:45:55.013077Z",
     "start_time": "2022-08-09T13:45:54.981157Z"
    }
   },
   "outputs": [
    {
     "name": "stdout",
     "output_type": "stream",
     "text": [
      "['python', '../leader_follower/cluster.py', '--x', 'output/chembl_29_dev/chembl_29_dev_X.npy', '--out', 'output/chembl_29_dev/chembl_29_dev_clustering.npy', '--dist', '0.5', '0.7']\n",
      "{'x': 'output/chembl_29_dev/chembl_29_dev_X.npy', 'out': 'output/chembl_29_dev/chembl_29_dev_clustering.npy', 'dists': [0.5, 0.7]}\n"
     ]
    }
   ],
   "source": [
    "parser = argparse.ArgumentParser(description=\"Training a multi-task model.\")\n",
    "parser.add_argument(\"--x\"  , help=\"Descriptor file (matrix market or numpy)\", type=str, required=True)\n",
    "parser.add_argument(\"--out\", help=\"Output file for the clusters (.npy)\", type=str, required=True)\n",
    "parser.add_argument(\"--dists\", nargs=\"+\", help=\"Distances\", default=[], type=float, required=True)\n",
    "\n",
    "\n",
    "input_args =  \"python ../leader_follower/cluster.py\"\\\n",
    "              \" --x      output/chembl_29_dev/chembl_29_dev_X.npy \" \\\n",
    "              \" --out    output/chembl_29_dev/chembl_29_dev_clustering.npy \"\\\n",
    "              \" --dist   0.5 0.7\".split()\n",
    "print(input_args)\n",
    "\n",
    "args = parser.parse_args(input_args[2:])\n",
    "print(vars(args))\n",
    "dists = args.dists"
   ]
  },
  {
   "cell_type": "code",
   "execution_count": 8,
   "id": "ca197ffb",
   "metadata": {
    "ExecuteTime": {
     "end_time": "2022-08-09T13:45:56.015952Z",
     "start_time": "2022-08-09T13:45:55.820125Z"
    }
   },
   "outputs": [
    {
     "name": "stdout",
     "output_type": "stream",
     "text": [
      "Loading 'output/chembl_29_dev/chembl_29_dev_X.npy'.\n"
     ]
    }
   ],
   "source": [
    "print(f\"Loading '{args.x}'.\")\n",
    "# X = sc.load_sparse(args.x).tocsr()\n",
    "X = load_sparse(args.x).tocsr()"
   ]
  },
  {
   "cell_type": "code",
   "execution_count": 9,
   "id": "24743107",
   "metadata": {
    "ExecuteTime": {
     "end_time": "2022-08-09T13:46:00.268441Z",
     "start_time": "2022-08-09T13:46:00.205730Z"
    }
   },
   "outputs": [
    {
     "name": "stdout",
     "output_type": "stream",
     "text": [
      "(423737, 32000)\n",
      "<423737x32000 sparse matrix of type '<class 'numpy.float64'>'\n",
      "\twith 32838752 stored elements in Compressed Sparse Row format>\n",
      "{'_shape': (423737, 32000), 'maxprint': 50, 'indices': array([  349,   520,  1482, ..., 31109, 31834, 31968], dtype=int32), 'indptr': array([       0,       79,      162, ..., 32838606, 32838684, 32838752],\n",
      "      dtype=int32), 'data': array([1., 1., 1., ..., 1., 1., 1.]), '_has_canonical_format': True, '_has_sorted_indices': True}\n",
      " _shape                         :    (423737, 32000)\n",
      " maxprint                       :    50\n",
      " indices                        :    [  349   520  1482 ... 31109 31834 31968]\n",
      " indptr                         :    [       0       79      162 ... 32838606 32838684 32838752]\n",
      " data                           :    [1. 1. 1. ... 1. 1. 1.]\n",
      " _has_canonical_format          :    True\n",
      " _has_sorted_indices            :    True\n",
      "True\n"
     ]
    }
   ],
   "source": [
    "print(X.shape)\n",
    "print(repr(X))\n",
    "print(X.__dict__)\n",
    "for i in X.__dict__:\n",
    "    print(f\" {i:30s} :    {X.__dict__[i]}\")\n",
    "# Xnorm = np.array((X != 0).sum(axis = 1)).flatten()\n",
    "# Xnorm.shape\n",
    "print((X.data == 1.0).all())"
   ]
  },
  {
   "cell_type": "markdown",
   "id": "5e5bfbfa",
   "metadata": {},
   "source": [
    "## `cluster` code "
   ]
  },
  {
   "cell_type": "code",
   "execution_count": 10,
   "id": "720298ed",
   "metadata": {
    "ExecuteTime": {
     "end_time": "2022-08-09T13:46:03.602563Z",
     "start_time": "2022-08-09T13:46:03.203088Z"
    }
   },
   "outputs": [],
   "source": [
    "%load_ext Cython\n",
    "# del cluster"
   ]
  },
  {
   "cell_type": "code",
   "execution_count": 11,
   "id": "21477d3e",
   "metadata": {
    "ExecuteTime": {
     "end_time": "2022-08-09T13:46:04.282785Z",
     "start_time": "2022-08-09T13:46:04.268123Z"
    }
   },
   "outputs": [],
   "source": [
    "# del cluster"
   ]
  },
  {
   "cell_type": "code",
   "execution_count": 12,
   "id": "e5ca7397",
   "metadata": {
    "ExecuteTime": {
     "end_time": "2022-08-09T13:46:13.576308Z",
     "start_time": "2022-08-09T13:46:05.025975Z"
    },
    "scrolled": true
   },
   "outputs": [
    {
     "name": "stderr",
     "output_type": "stream",
     "text": [
      "/home/kbardool/.cache/ipython/cython/_cython_magic_d6a5b9e7ae5cee4346f96c4bde2375e1.cpp: In function ‘PyObject* __pyx_pf_46_cython_magic_d6a5b9e7ae5cee4346f96c4bde2375e1_cluster(PyObject*, PyObject*, PyObject*, PyObject*, PyObject*)’:\n",
      "/home/kbardool/.cache/ipython/cython/_cython_magic_d6a5b9e7ae5cee4346f96c4bde2375e1.cpp:4245:39: warning: comparison of integer expressions of different signedness: ‘int’ and ‘std::vector<int>::size_type’ {aka ‘long unsigned int’} [-Wsign-compare]\n",
      " 4245 |       for (__pyx_t_21 = 0; __pyx_t_21 < __pyx_t_23; __pyx_t_21+=1) {\n",
      "      |                            ~~~~~~~~~~~^~~~~~~~~~~~\n",
      "/home/kbardool/.cache/ipython/cython/_cython_magic_d6a5b9e7ae5cee4346f96c4bde2375e1.cpp:4297:37: warning: comparison of integer expressions of different signedness: ‘int’ and ‘std::vector<double>::size_type’ {aka ‘long unsigned int’} [-Wsign-compare]\n",
      " 4297 |     for (__pyx_t_17 = 0; __pyx_t_17 < __pyx_t_27; __pyx_t_17+=1) {\n",
      "      |                          ~~~~~~~~~~~^~~~~~~~~~~~\n",
      "/home/kbardool/.cache/ipython/cython/_cython_magic_d6a5b9e7ae5cee4346f96c4bde2375e1.cpp:5676:39: warning: comparison of integer expressions of different signedness: ‘int’ and ‘std::vector<int>::size_type’ {aka ‘long unsigned int’} [-Wsign-compare]\n",
      " 5676 |       for (__pyx_t_21 = 0; __pyx_t_21 < __pyx_t_23; __pyx_t_21+=1) {\n",
      "      |                            ~~~~~~~~~~~^~~~~~~~~~~~\n",
      "/home/kbardool/.cache/ipython/cython/_cython_magic_d6a5b9e7ae5cee4346f96c4bde2375e1.cpp:5731:37: warning: comparison of integer expressions of different signedness: ‘int’ and ‘std::vector<double>::size_type’ {aka ‘long unsigned int’} [-Wsign-compare]\n",
      " 5731 |     for (__pyx_t_17 = 0; __pyx_t_17 < __pyx_t_27; __pyx_t_17+=1) {\n",
      "      |                          ~~~~~~~~~~~^~~~~~~~~~~~\n"
     ]
    }
   ],
   "source": [
    "%%cython --cplus --force\n",
    "\n",
    "from libcpp.vector cimport vector\n",
    "import numpy as np\n",
    "np.set_printoptions(linewidth = 132)\n",
    "def cluster(X, radius, verbose1 = False, verbose2 = False):\n",
    "    \n",
    "    cdef int i, j, k, row, col, closest\n",
    "    cdef double min_dist, tmp_dist\n",
    "    cdef int num_changed\n",
    "    \n",
    "    cdef int tmp_i = 10\n",
    "    cdef int test_limit = 5\n",
    "    \n",
    "    cdef int [:] x_indptr  = X.indptr\n",
    "    cdef int [:] x_indices = X.indices\n",
    "    cdef double [:] x_data = X.data\n",
    "\n",
    "    cdef int X_shape0 = X.shape[0]\n",
    "    cdef int X_shape1 = X.shape[1]\n",
    "\n",
    "\n",
    "    cdef vector[double]      dist\n",
    "    cdef vector[vector[int]] centers\n",
    "    cdef vector[double]      Cnorm\n",
    "    cdef vector[int]         center_ids\n",
    "\n",
    "    ## Xnorm[]: no of non-zero columns in each row\n",
    "    cdef long   [:] Xnorm = np.array((X != 0).sum(axis = 1)).flatten()\n",
    "    \n",
    "    ## row_dists[]:\n",
    "    cdef double [:] row_dists = np.zeros(X_shape0, dtype=np.float64)\n",
    "\n",
    "    ## Clusters[] : cluster assignment of each X row\n",
    "    cdef long [:] clusters = np.zeros(X.shape[0], dtype = np.int64) - 1\n",
    "    \n",
    "    ## perm_ids[] : Random permutation of row numbers to provide randomize selection of rows \n",
    "    cdef long [:] perm_ids = np.random.permutation(X.shape[0])       \n",
    "\n",
    "    \n",
    "    print( f\"X shape        :      {X.shape}\")\n",
    "    print( f\"X.indptr  shape:      {X.indptr.shape}\")\n",
    "    print( f\"X.indices shape:      {X.indices.shape}\")    \n",
    "    print( f\"X.data    shape:      {X.data.shape}\")    \n",
    "#     print(f\" ==== perm ids:       {np.asarray(perm_ids)[0:100]}\")\n",
    "\n",
    "    print(f\"\\n ==== perm_ids - randomized list of rows \")\n",
    "    print(f\" ==== perm_ids size:   {perm_ids.shape}\")\n",
    "    print(f\" ==== perm_ids[:{tmp_i}]:   {np.asarray(perm_ids)[:tmp_i]}. . . . .\")\n",
    "\n",
    "\n",
    "    print(f\"\\n ==== Xnorm[x] - Norm of row id <x> == number of non-zero columns in row <x>\")\n",
    "    print(f\" ==== Xnorm shape:     {Xnorm.shape}\")\n",
    "    print(f\" ==== Xnorm [:{tmp_i}]:     {np.asarray(Xnorm)[:tmp_i]} . . . . .\" )\n",
    "\n",
    "    print()\n",
    "    print(f\"\\n ==== Cnorm[x] - Norm of cluster <x> centroid \")\n",
    "    print(f\" ==== Cnorm size :     {Cnorm.size()}\")  \n",
    "    print(f\" ==== Cnorm[:{tmp_i}]:     {np.asarray(Cnorm)[:tmp_i]} . . . . .\") \n",
    "    \n",
    "    print(f\"\\n ==== row_dists - distance of current row to centroids\")\n",
    "    print(f\" ==== row_dists size     :      {row_dists.shape}\")\n",
    "    print(f\" ==== row_dists[:{tmp_i}]:      {np.asarray(row_dists)[:tmp_i]} . . . . .\")\n",
    "\n",
    "    print(f\"\\n ==== dist - ???\")\n",
    "    print(f\" ==== dist size:       {dist.size()}\")\n",
    "    print(f\" ==== dist[:{tmp_i}]:       {np.asarray(dist)[:tmp_i]} . . . . .\")    \n",
    "    \n",
    "    print(f\"\\n ==== centers - ???\")\n",
    "    print(f\" ==== centers size     {centers.size()}\")\n",
    "    print(f\" ==== centers[:{tmp_i}]:    {np.asarray(centers)[:tmp_i]} . . . . .\")     \n",
    "    centers.resize(X_shape1)\n",
    "    print(f\" ==== centers size     {centers.size()}\")\n",
    "    print(f\" ==== centers[:{tmp_i}]:    {np.asarray(centers)[:tmp_i]} . . . . .\") \n",
    "    \n",
    "\n",
    "    print()\n",
    "    print(f\"\\n ==== center_ids[i] - row # corresponding to centriod of cluster <i> \")    \n",
    "    print(f\" ==== center_ids size: {center_ids.size()}\")    \n",
    "    print(f\" ==== center_ids[:{tmp_i}]: {np.asarray(center_ids)[:tmp_i]} . . . . .\")    \n",
    "    print()    \n",
    "    \n",
    "    print(f\"\\n ==== clusters[x] - cluster row x is assigned to \")\n",
    "    print(f\" ==== clusters size:   {clusters.shape}\")\n",
    "    print(f\" ==== clusters[:{tmp_i}]:   {np.asarray(clusters)[:tmp_i]} . . . . .\")\n",
    "    print()    \n",
    "    \n",
    "\n",
    "\n",
    "    ## algorithm part\n",
    "\n",
    "    print(\"=====================================\")\n",
    "    print(\" Creating initial Cluster Centroids  \")\n",
    "    print(\"=====================================\")  \n",
    "    \n",
    "    for i in range(X_shape0):\n",
    " \n",
    "        if i % 10000 == 0:\n",
    "            print(f\"Row {i}.\")\n",
    "                \n",
    "        row = perm_ids[i]\n",
    "        \n",
    "        ## Initialize list of distances to all centroids to zero\n",
    "        row_dists[0 : Cnorm.size()] = 0.0\n",
    "        \n",
    "#         if verbose1:\n",
    "#             print(f\"\\n    1 - {i:2d}/{X_shape0} - row = perm_ids[i]: {perm_ids[i]:6d}  - x_indptrs: \"\n",
    "#                   f\"{x_indptr[row]:9d}  ~ {x_indptr[row+1]:9d}   #elems: {x_indptr[row+1]-x_indptr[row]:9d}   size(Cnorm): {Cnorm.size()}  Xnorm[row]: {Xnorm[row]}\")\n",
    "                        \n",
    "        ## for current row, get column indices and data of populated columns \n",
    "        for j in range(x_indptr[row], x_indptr[row+1]):\n",
    "            # get column number\n",
    "            col = x_indices[j]\n",
    "#             if verbose1:\n",
    "#                 print(f\"      1.1 - j: {j-x_indptr[row] :4d}   row: {row:8d}   col: {col:5d}  data: {x_data[j]}    k= size(centers[{col:5d}]): {centers[col].size()}\")\n",
    "                \n",
    "            for k in range(centers[col].size()):\n",
    "#                 if verbose1:\n",
    "#                     print(f\"      1.2  k:  {k:4d}    set row_dists[centers[{col:4d}][{k:4d}]] = row_dists[{centers[col][k]}] = {row_dists[centers[col][k]]} += 1 ->  {row_dists[centers[col][k]]+1}\")\n",
    "                row_dists[ centers[col][k] ] += 1.0\n",
    "                \n",
    "#         if verbose1:\n",
    "#             print(f\"      1.3  i: {i:2d}/{X_shape0} - row = {perm_ids[i]:6d}  elems: {x_indptr[row+1]-x_indptr[row]:9d}   size(Cnorm): {Cnorm.size()}\")\n",
    "                \n",
    "        closest = -1\n",
    "        min_dist = radius\n",
    "        \n",
    "        ## Calculate Distance from Centroids \n",
    "#         if verbose1:\n",
    "#             print(f\"\\n    2 - Calculate distance from {Cnorm.size()} centroids\")\n",
    "            \n",
    "        for j in range(Cnorm.size()):\n",
    "#             if verbose1:\n",
    "#                 print(f\"      2.1 - j/ cluster id: {j}   Xnorm[{row}]: {Xnorm[row]} -  row_dists[{j}] = 1.0 - {row_dists[j]} / ({Xnorm[row]} + {Cnorm[j]} - {row_dists[j]})\"\\\n",
    "#                       f\" = { 1.0 - row_dists[j] / (Xnorm[row] + Cnorm[j] - row_dists[j]):.4f}\")            \n",
    "            row_dists[j] = 1.0 - row_dists[j] / (Xnorm[row] + Cnorm[j] - row_dists[j])\n",
    "            if row_dists[j] < min_dist:\n",
    "#                 if verbose1:\n",
    "#                     print(f\"      2.2 - {row_dists[j]} < {min_dist} - closest set to {j} \")                         \n",
    "                min_dist = row_dists[j]\n",
    "                closest  = j\n",
    "        \n",
    "        # If a centroid was found within min_distance, assign row to that centroid\n",
    "        # and move on to next row\n",
    "        if closest >= 0:\n",
    "            clusters[row] = closest\n",
    "#             if verbose1:\n",
    "#                 print(f\"      2.3 - assign row {row} to cluster : {closest} \") \n",
    "            continue\n",
    "\n",
    "        ## Otherwise, create a new cluster\n",
    "#         if verbose1:\n",
    "#             print(f\"\\n    3 - Assign Create a new cluster k: {Cnorm.size()}  (Cnorm.size())   Norm of centroid (Xnorm[row]) : {Xnorm[row]}\")\n",
    "  \n",
    "        k = Cnorm.size()\n",
    "        \n",
    "        for j in range(x_indptr[row], x_indptr[row+1]):\n",
    "            # Add new element at end of centers\n",
    "            # centers[ x_indices[j] ].push_back(k)\n",
    "            col = x_indices[j]\n",
    "            centers[col].push_back(k)\n",
    "#             if verbose1:\n",
    "#                 print(f\"      3.1 - j: {j-x_indptr[row]:4d}  - :  centers[{x_indices[j]:5d}] append k = {k:3d} \"\\\n",
    "#                   f\" to centers[{x_indices[j]:5d}]  -  length(centers[{x_indices[j]:5d}]) is now {centers[ x_indices[j]].size():5d}\")\n",
    "                \n",
    "        clusters[row] = k\n",
    "        Cnorm.push_back(Xnorm[row])\n",
    "        center_ids.push_back(row)\n",
    "#         if verbose1:\n",
    "#             print(f\"      3.2 - clusters[{row}] = {k}     Cnorm.append(norm of row{row})  ({Xnorm[row]}) - len(Cnorm):{Cnorm.size()}  center_ids.append({row}) - len(center_ids): {center_ids.size()})\")\n",
    "#             print(\"      \", Cnorm)\n",
    "#             print(f\"       center_ids.add(row: {row})    new size(center_ids):{center_ids.size()}\")\n",
    "#             print(\"      \", center_ids)\n",
    "    \n",
    "    \n",
    "    print(\"=====================================\")\n",
    "    print(f\" Cluster Centroids Created - {len(center_ids)} clusters.\")\n",
    "    print(\"=====================================\")  \n",
    "        \n",
    "    print(f\"\\n ==== perm_ids - randomized list of rows \")\n",
    "    print(f\" ==== perm_ids size:   {perm_ids.shape}\")\n",
    "    print(f\" ==== perm_ids[:{tmp_i}]:   {np.asarray(perm_ids)[:tmp_i]}. . . . .\")\n",
    "\n",
    "\n",
    "    print(f\"\\n ==== Xnorm - number of non-zero columns in each row\")\n",
    "    print(f\" ==== Xnorm shape:     {Xnorm.shape}\")\n",
    "    print(f\" ==== Xnorm [:{tmp_i}]:     {np.asarray(Xnorm)[:tmp_i]} . . . . .\" )\n",
    "    \n",
    "    print(f\"\\n ==== row_dists - distance of current row to centroids\")\n",
    "    print(f\" ==== row_dists size     :      {row_dists.shape}\")\n",
    "    print(f\" ==== row_dists[:{tmp_i}]:      {np.asarray(row_dists)[:tmp_i]} . . . . .\")\n",
    "    print()\n",
    "\n",
    "    print(f\"\\n ==== dist - ???\")\n",
    "    print(f\" ==== dist size:       {dist.size()}\")\n",
    "    print(f\" ==== dist[:{tmp_i}]:       {np.asarray(dist)[:tmp_i]} . . . . .\")    \n",
    "    print()\n",
    "    \n",
    "    print(f\"\\n ==== centers \")\n",
    "    print(f\" ==== centers size     {centers.size()}\")\n",
    "#     print(f\" ==== centers[:{tmp_i}]:    {np.asarray(centers)[:tmp_i]} . . . . .\")     \n",
    "\n",
    "    \n",
    "    print()\n",
    "    print(f\"\\n ==== Cnorm - ???\")\n",
    "    print(f\" ==== Cnorm size :     {Cnorm.size()}\")  \n",
    "    print(f\" ==== Cnorm[:{tmp_i}]:     {np.asarray(Cnorm)[:tmp_i]} . . . . .\") \n",
    "    print()\n",
    "    print(f\"\\n ==== center_ids - list of centroid row ids\")    \n",
    "    print(f\" ==== center_ids size: {center_ids.size()}\")    \n",
    "    print(f\" ==== center_ids[:{tmp_i}]: {np.asarray(center_ids)[:tmp_i]} . . . . .\")    \n",
    "    print()    \n",
    "    \n",
    "    print(f\"\\n ==== clusters - ???\")\n",
    "    print(f\" ==== clusters size:   {clusters.shape}\")\n",
    "    print(f\" ==== clusters[:{tmp_i}]:   {np.asarray(clusters)[:tmp_i]} . . . . .\")\n",
    "    print()    \n",
    "    \n",
    "#     return np.asarray(clusters), np.asarray(center_ids)\n",
    "    \n",
    "    print(\"==============================================\")\n",
    "    print(\"Reassigning compounds to the closest clusters.\")\n",
    "    print(\"==============================================\") \n",
    "    num_changed = 0\n",
    "    \n",
    "    for row in range(X_shape0):\n",
    "\n",
    "        if row % 50000 == 0:\n",
    "            print(f\"Row {row}.\")\n",
    "        \n",
    "        row_dists[0 : Cnorm.size()] = 0.0\n",
    "        ## compute distances to all clusters, assign to the closest\n",
    "        for j in range(x_indptr[row], x_indptr[row+1]):\n",
    "            col = x_indices[j]\n",
    "            for k in range(centers[col].size()):\n",
    "                row_dists[ centers[col][k] ] += 1.0\n",
    "\n",
    "        closest = -1\n",
    "        min_dist = radius + 1e-5\n",
    "        \n",
    "        # iterate over centroids, calculate distance to Clusters\n",
    "        for j in range(Cnorm.size()):\n",
    "            try:\n",
    "                tmp_dist = 1.0 - row_dists[j] / (Xnorm[row] + Cnorm[j] - row_dists[j])\n",
    "            except ZeroDivisionError:\n",
    "                print(f\" Zero Division Error Encountered  - row:{row}   j: {j}\"\\\n",
    "                      f\" Xnorm[{row}]:   {Xnorm[row]}    Cnorm[{j}]:   {Cnorm[j]}      row_dists[{j}]:   {row_dists[j]}\")\n",
    "            else:\n",
    "                if tmp_dist < min_dist:\n",
    "                    min_dist = tmp_dist\n",
    "                    closest  = j\n",
    "                    if min_dist == 0:\n",
    "                        ## best possible found, distance is zero\n",
    "                        break\n",
    "                        \n",
    "        if (closest >= 0) and (clusters[row] != closest):\n",
    "            clusters[row]  = closest\n",
    "            num_changed   += 1\n",
    "\n",
    "    print(f\"Reassignement changed {num_changed} assignments.\")\n",
    "    print(f\"Total {len(center_ids)} clusters.\")\n",
    "\n",
    "    return np.asarray(clusters), np.asarray(center_ids)"
   ]
  },
  {
   "cell_type": "markdown",
   "id": "6a1bdda1",
   "metadata": {},
   "source": [
    "## Hierarchical Clustering"
   ]
  },
  {
   "cell_type": "code",
   "execution_count": 13,
   "id": "20a283ef",
   "metadata": {
    "ExecuteTime": {
     "end_time": "2022-08-09T13:46:13.603976Z",
     "start_time": "2022-08-09T13:46:13.580928Z"
    }
   },
   "outputs": [
    {
     "data": {
      "text/plain": [
       "'/home/kbardool/WSL-projs/chembl_pipeline'"
      ]
     },
     "execution_count": 13,
     "metadata": {},
     "output_type": "execute_result"
    }
   ],
   "source": [
    "import os \n",
    "os.getcwd()"
   ]
  },
  {
   "cell_type": "code",
   "execution_count": null,
   "id": "d243c7ff",
   "metadata": {
    "ExecuteTime": {
     "start_time": "2022-08-09T13:46:17.625Z"
    },
    "scrolled": false
   },
   "outputs": [
    {
     "name": "stdout",
     "output_type": "stream",
     "text": [
      "Clustering.\n",
      "X shape: (423737, 32000)\n",
      "Running clustering for distance: 0.5\n",
      "X shape        :      (423737, 32000)\n",
      "X.indptr  shape:      (423738,)\n",
      "X.indices shape:      (32838752,)\n",
      "X.data    shape:      (32838752,)\n",
      "\n",
      " ==== perm_ids - randomized list of rows \n",
      " ==== perm_ids size:   [423737, 0, 0, 0, 0, 0, 0, 0]\n",
      " ==== perm_ids[:10]:   [ 62136 266478 335073 416630 109178 388027 398708 325484 261843  64512]. . . . .\n",
      "\n",
      " ==== Xnorm[x] - Norm of row id <x> == number of non-zero columns in row <x>\n",
      " ==== Xnorm shape:     [423737, 0, 0, 0, 0, 0, 0, 0]\n",
      " ==== Xnorm [:10]:     [ 79  83  87 185  49 167 127  78  81  97] . . . . .\n",
      "\n",
      "\n",
      " ==== Cnorm[x] - Norm of cluster <x> centroid \n",
      " ==== Cnorm size :     0\n",
      " ==== Cnorm[:10]:     [] . . . . .\n",
      "\n",
      " ==== row_dists - distance of current row to centroids\n",
      " ==== row_dists size     :      [423737, 0, 0, 0, 0, 0, 0, 0]\n",
      " ==== row_dists[:10]:      [0. 0. 0. 0. 0. 0. 0. 0. 0. 0.] . . . . .\n",
      "\n",
      " ==== dist - ???\n",
      " ==== dist size:       0\n",
      " ==== dist[:10]:       [] . . . . .\n",
      "\n",
      " ==== centers - ???\n",
      " ==== centers size     0\n",
      " ==== centers[:10]:    [] . . . . .\n",
      " ==== centers size     32000\n",
      " ==== centers[:10]:    [] . . . . .\n",
      "\n",
      "\n",
      " ==== center_ids[i] - row # corresponding to centriod of cluster <i> \n",
      " ==== center_ids size: 0\n",
      " ==== center_ids[:10]: [] . . . . .\n",
      "\n",
      "\n",
      " ==== clusters[x] - cluster row x is assigned to \n",
      " ==== clusters size:   [423737, 0, 0, 0, 0, 0, 0, 0]\n",
      " ==== clusters[:10]:   [-1 -1 -1 -1 -1 -1 -1 -1 -1 -1] . . . . .\n",
      "\n",
      "=====================================\n",
      " Creating initial Cluster Centroids  \n",
      "=====================================\n",
      "Row 0.\n",
      "Row 10000.\n",
      "Row 20000.\n",
      "Row 30000.\n",
      "Row 40000.\n",
      "Row 50000.\n",
      "Row 60000.\n",
      "Row 70000.\n",
      "Row 80000.\n",
      "Row 90000.\n",
      "Row 100000.\n",
      "Row 110000.\n",
      "Row 120000.\n",
      "Row 130000.\n",
      "Row 140000.\n",
      "Row 150000.\n",
      "Row 160000.\n",
      "Row 170000.\n",
      "Row 180000.\n",
      "Row 190000.\n",
      "Row 200000.\n",
      "Row 210000.\n",
      "Row 220000.\n",
      "Row 230000.\n",
      "Row 240000.\n",
      "Row 250000.\n",
      "Row 260000.\n",
      "Row 270000.\n",
      "Row 280000.\n",
      "Row 290000.\n",
      "Row 300000.\n",
      "Row 310000.\n",
      "Row 320000.\n",
      "Row 330000.\n",
      "Row 340000.\n",
      "Row 350000.\n",
      "Row 360000.\n",
      "Row 370000.\n",
      "Row 380000.\n",
      "Row 390000.\n",
      "Row 400000.\n",
      "Row 410000.\n",
      "Row 420000.\n",
      "=====================================\n",
      " Cluster Centroids Created - 88023 clusters.\n",
      "=====================================\n",
      "\n",
      " ==== perm_ids - randomized list of rows \n",
      " ==== perm_ids size:   [423737, 0, 0, 0, 0, 0, 0, 0]\n",
      " ==== perm_ids[:10]:   [ 62136 266478 335073 416630 109178 388027 398708 325484 261843  64512]. . . . .\n",
      "\n",
      " ==== Xnorm - number of non-zero columns in each row\n",
      " ==== Xnorm shape:     [423737, 0, 0, 0, 0, 0, 0, 0]\n",
      " ==== Xnorm [:10]:     [ 79  83  87 185  49 167 127  78  81  97] . . . . .\n",
      "\n",
      " ==== row_dists - distance of current row to centroids\n",
      " ==== row_dists size     :      [423737, 0, 0, 0, 0, 0, 0, 0]\n",
      " ==== row_dists[:10]:      [0.94117647 0.88732394 0.84431138 0.94478528 0.92222222 0.92356688 0.89102564 0.94413408 0.8757764  0.89375   ] . . . . .\n",
      "\n",
      "\n",
      " ==== dist - ???\n",
      " ==== dist size:       0\n",
      " ==== dist[:10]:       [] . . . . .\n",
      "\n",
      "\n",
      " ==== centers \n",
      " ==== centers size     32000\n",
      "\n",
      "\n",
      " ==== Cnorm - ???\n",
      " ==== Cnorm size :     88023\n",
      " ==== Cnorm[:10]:     [ 77.  73. 108.  87. 109.  84.  88. 104.  96.  92.] . . . . .\n",
      "\n",
      "\n",
      " ==== center_ids - list of centroid row ids\n",
      " ==== center_ids size: 88023\n",
      " ==== center_ids[:10]: [ 62136 266478 335073 416630 109178 388027 398708 325484 261843  64512] . . . . .\n",
      "\n",
      "\n",
      " ==== clusters - ???\n",
      " ==== clusters size:   [423737, 0, 0, 0, 0, 0, 0, 0]\n",
      " ==== clusters[:10]:   [21927  1820 73098 17067 27588   254 38515 21473 21941  4610] . . . . .\n",
      "\n",
      "==============================================\n",
      "Reassigning compounds to the closest clusters.\n",
      "==============================================\n",
      "Row 0.\n"
     ]
    }
   ],
   "source": [
    "print(\"Clustering.\")\n",
    "# two step clustering, first at 0.5, then at 0.6\n",
    "cl_hier = hierarchical_clustering(X, dists=args.dists, verbose = True)\n",
    "# cl, cent = cluster(X, 0.5 )"
   ]
  },
  {
   "cell_type": "code",
   "execution_count": null,
   "id": "b59c310e",
   "metadata": {},
   "outputs": [],
   "source": []
  },
  {
   "cell_type": "code",
   "execution_count": 19,
   "id": "be27b6ff",
   "metadata": {
    "ExecuteTime": {
     "end_time": "2022-08-08T17:29:52.226269Z",
     "start_time": "2022-08-08T17:29:52.198719Z"
    }
   },
   "outputs": [
    {
     "ename": "NameError",
     "evalue": "name 'cl_hier' is not defined",
     "output_type": "error",
     "traceback": [
      "\u001b[0;31m---------------------------------------------------------------------------\u001b[0m",
      "\u001b[0;31mNameError\u001b[0m                                 Traceback (most recent call last)",
      "\u001b[0;32m/tmp/ipykernel_30258/2106482453.py\u001b[0m in \u001b[0;36m<module>\u001b[0;34m\u001b[0m\n\u001b[0;32m----> 1\u001b[0;31m \u001b[0mprint\u001b[0m\u001b[0;34m(\u001b[0m\u001b[0mtype\u001b[0m\u001b[0;34m(\u001b[0m\u001b[0mcl_hier\u001b[0m\u001b[0;34m)\u001b[0m\u001b[0;34m,\u001b[0m \u001b[0mcl_hier\u001b[0m\u001b[0;34m.\u001b[0m\u001b[0mshape\u001b[0m\u001b[0;34m)\u001b[0m\u001b[0;34m\u001b[0m\u001b[0;34m\u001b[0m\u001b[0m\n\u001b[0m\u001b[1;32m      2\u001b[0m \u001b[0;31m# cl_hier.min()\u001b[0m\u001b[0;34m\u001b[0m\u001b[0;34m\u001b[0m\u001b[0;34m\u001b[0m\u001b[0m\n",
      "\u001b[0;31mNameError\u001b[0m: name 'cl_hier' is not defined"
     ]
    }
   ],
   "source": [
    "print(type(cl_hier), cl_hier.shape)\n",
    "# cl_hier.min()"
   ]
  },
  {
   "cell_type": "code",
   "execution_count": 53,
   "id": "64837cc1",
   "metadata": {
    "ExecuteTime": {
     "end_time": "2022-08-05T11:36:54.313350Z",
     "start_time": "2022-08-05T11:36:54.298284Z"
    }
   },
   "outputs": [],
   "source": [
    "# tmp =  np.array((X != 0).sum(axis=1))\n",
    "# print(tmp.shape)\n",
    "# tmp = tmp.flatten()\n",
    "# print(tmp.shape)\n",
    "# print(type(tmp))\n",
    "# print(tmp[1000:1200])\n",
    "# del tmp"
   ]
  },
  {
   "cell_type": "markdown",
   "id": "86fb7a76",
   "metadata": {},
   "source": [
    "\n",
    "    /home/kbardool/WSL-projs/chembl-pipeline-original/../leader_follower/cluster.py:36: \n",
    "    DeprecationWarning: `np.int` is a deprecated alias for the builtin `int`. \n",
    "    To silence this warning, use `int` by itself. Doing this will not modify any behavior and is safe. \n",
    "    When replacing `np.int`, you may wish to use e.g. `np.int64` or `np.int32` to specify the precision. If you wish\n",
    "    to review your current use, check the release note link for additional information.\n",
    "    Deprecated in NumPy 1.20; for more details and guidance: https://numpy.org/devdocs/release/1.20.0-notes.html#deprecations\n",
    "      cl_hier = leader_follower.hierarchical_clustering(X, dists=args.dists)\n",
    "    Row 0.\n"
   ]
  },
  {
   "cell_type": "code",
   "execution_count": 14,
   "id": "12bcd07e",
   "metadata": {
    "ExecuteTime": {
     "end_time": "2022-08-02T21:56:21.105344Z",
     "start_time": "2022-08-02T21:56:21.066726Z"
    },
    "scrolled": false
   },
   "outputs": [
    {
     "name": "stdout",
     "output_type": "stream",
     "text": [
      "Saved clusters into 'output/chembl_29_dev/chembl_29_dev_clustering.npy'.\n"
     ]
    }
   ],
   "source": [
    "np.save(args.out, cl_hier)\n",
    "print(f\"Saved clusters into '{args.out}'.\")"
   ]
  },
  {
   "cell_type": "markdown",
   "id": "804f736d",
   "metadata": {
    "ExecuteTime": {
     "end_time": "2021-11-16T13:45:47.716048Z",
     "start_time": "2021-11-16T13:45:47.716031Z"
    },
    "heading_collapsed": true
   },
   "source": [
    "### Investigate X file"
   ]
  },
  {
   "cell_type": "code",
   "execution_count": 50,
   "id": "6b693971",
   "metadata": {
    "ExecuteTime": {
     "end_time": "2021-11-17T09:58:59.495095Z",
     "start_time": "2021-11-17T09:58:59.236578Z"
    },
    "hidden": true
   },
   "outputs": [],
   "source": [
    "print(f\"Loading '{args.x}'.\")\n",
    "# X = sc.load_sparse(args.x).tocsr()\n",
    "X_orig = load_sparse(args.x).tocsr()\n",
    "X = X_orig[:100, :15000]\n",
    "print(\" X.indptr : \" , len(X.indptr), X.indptr)\n",
    "print(\" X.indices: \" , len(X.indices) , X.indices)\n",
    "print(X)\n",
    "X"
   ]
  },
  {
   "cell_type": "code",
   "execution_count": null,
   "id": "5693d883",
   "metadata": {
    "ExecuteTime": {
     "end_time": "2021-09-01T23:57:30.845456Z",
     "start_time": "2021-09-01T23:57:30.838840Z"
    },
    "hidden": true,
    "scrolled": true
   },
   "outputs": [],
   "source": []
  },
  {
   "cell_type": "code",
   "execution_count": null,
   "id": "5db0c903",
   "metadata": {
    "ExecuteTime": {
     "end_time": "2021-09-01T23:57:31.815006Z",
     "start_time": "2021-09-01T23:57:31.809485Z"
    },
    "hidden": true
   },
   "outputs": [],
   "source": [
    "print(f\"X shape: {X.shape}\")\n",
    "cl0 = np.arange(X.shape[0])\n",
    "Xc  = X"
   ]
  },
  {
   "cell_type": "code",
   "execution_count": null,
   "id": "f07c4cc5",
   "metadata": {
    "ExecuteTime": {
     "end_time": "2021-09-01T23:57:33.901803Z",
     "start_time": "2021-09-01T23:57:33.884230Z"
    },
    "hidden": true
   },
   "outputs": [],
   "source": [
    "for dist in dists:\n",
    "    print(f\"Running clustering for distance: {dist}\")\n",
    "    cl, cent = cluster(Xc, dist)\n",
    "    Xc       = Xc[cent]\n",
    "    cl0      = cl[cl0]\n",
    "\n",
    "\n"
   ]
  },
  {
   "cell_type": "code",
   "execution_count": null,
   "id": "92ae5a4e",
   "metadata": {
    "hidden": true
   },
   "outputs": [],
   "source": []
  },
  {
   "cell_type": "markdown",
   "id": "5728c11e",
   "metadata": {
    "heading_collapsed": true
   },
   "source": [
    "### `clustering()` Line by line"
   ]
  },
  {
   "cell_type": "code",
   "execution_count": null,
   "id": "29a3d314",
   "metadata": {
    "ExecuteTime": {
     "end_time": "2021-09-01T23:57:31.815006Z",
     "start_time": "2021-09-01T23:57:31.809485Z"
    },
    "hidden": true
   },
   "outputs": [],
   "source": [
    "from libcpp.vector cimport vector\n",
    "import numpy as np\n",
    "import scipy.sparse"
   ]
  },
  {
   "cell_type": "code",
   "execution_count": null,
   "id": "2c7498b7",
   "metadata": {
    "ExecuteTime": {
     "end_time": "2021-09-01T23:52:40.180626Z",
     "start_time": "2021-09-01T23:52:40.172694Z"
    },
    "hidden": true
   },
   "outputs": [],
   "source": [
    "X_shape0 = X.shape[0]\n",
    "X_shape1 = X.shape[1]\n",
    "x_indptr  = X.indptr\n",
    "x_indices = X.indices\n",
    "\n",
    "print(X_shape0, X_shape1, len(x_indptr), len(x_indices))"
   ]
  },
  {
   "cell_type": "code",
   "execution_count": null,
   "id": "b2be62c6",
   "metadata": {
    "ExecuteTime": {
     "end_time": "2021-09-01T22:25:41.290058Z",
     "start_time": "2021-09-01T22:25:41.081013Z"
    },
    "hidden": true
   },
   "outputs": [],
   "source": [
    "## Number of non zero columns \n",
    "Xnorm = np.array((X != 0).sum(axis = 1)).flatten()\n",
    "\n",
    "print(Xnorm.shape)\n",
    "print(Xnorm.sum())"
   ]
  },
  {
   "cell_type": "code",
   "execution_count": null,
   "id": "17f03178",
   "metadata": {
    "ExecuteTime": {
     "end_time": "2021-09-01T22:26:32.066440Z",
     "start_time": "2021-09-01T22:26:32.060911Z"
    },
    "hidden": true
   },
   "outputs": [],
   "source": [
    "dists = np.zeros(X.shape[0], dtype=np.float64)\n",
    "print(dists.shape)"
   ]
  },
  {
   "cell_type": "code",
   "execution_count": null,
   "id": "71d85a5a",
   "metadata": {
    "ExecuteTime": {
     "end_time": "2021-09-01T22:30:57.664200Z",
     "start_time": "2021-09-01T22:30:57.644680Z"
    },
    "hidden": true
   },
   "outputs": [],
   "source": [
    "clusters = np.zeros(X.shape[0], dtype = int) - 1\n",
    "perm_ids = np.random.permutation(X.shape[0])       \n",
    "\n",
    "print(clusters)\n",
    "print(perm_ids)"
   ]
  },
  {
   "cell_type": "code",
   "execution_count": null,
   "id": "44d44e1b",
   "metadata": {
    "hidden": true
   },
   "outputs": [],
   "source": [
    "\n",
    "for i in range(X_shape0):\n",
    "    if i % 10000 == 0:\n",
    "        print(f\"Row {i}.\")\n",
    "    row = perm_ids[i]\n",
    "\n",
    "    ## computing distances to all centers\n",
    "    dists[0 : Cnorm.size()] = 0.0\n",
    "    for j in range(x_indptr[row], x_indptr[row+1]):\n",
    "        col = x_indices[j]\n",
    "        for k in range(centers[col].size()):\n",
    "            dists[ centers[col][k] ] += 1.0\n",
    "\n",
    "    closest = -1\n",
    "    min_dist = radius\n",
    "    for j in range(Cnorm.size()):\n",
    "        dists[j] = 1.0 - dists[j] / (Xnorm[row] + Cnorm[j] - dists[j])\n",
    "        if dists[j] < min_dist:\n",
    "            min_dist = dists[j]\n",
    "            closest  = j\n",
    "\n",
    "    if closest >= 0:\n",
    "        clusters[row] = closest\n",
    "        continue\n",
    "\n",
    "    ## create a new cluster\n",
    "    k = Cnorm.size()\n",
    "    for j in range(x_indptr[row], x_indptr[row+1]):\n",
    "        centers[ x_indices[j] ].push_back(k)\n",
    "    clusters[row] = k\n",
    "    Cnorm.push_back(Xnorm[row])\n",
    "    center_ids.push_back(row)\n",
    "\n",
    "print(\"Reassigning compounds to the closest clusters.\")\n",
    "num_changed = 0\n",
    "for row in range(X_shape0):\n",
    "    if row % 10000 == 0:\n",
    "        print(f\"Row {row}.\")\n",
    "    ## compute distances to all clusters, assign to the closest\n",
    "    for j in range(x_indptr[row], x_indptr[row+1]):\n",
    "        col = x_indices[j]\n",
    "        for k in range(centers[col].size()):\n",
    "            dists[ centers[col][k] ] += 1.0\n",
    "\n",
    "    closest = -1\n",
    "    min_dist = radius + 1e-5\n",
    "    for j in range(Cnorm.size()):\n",
    "        tmp_dist = 1.0 - dists[j] / (Xnorm[row] + Cnorm[j] - dists[j])\n",
    "        if tmp_dist < min_dist:\n",
    "            min_dist = tmp_dist\n",
    "            closest  = j\n",
    "            if min_dist == 0:\n",
    "                ## best possible\n",
    "                break\n",
    "    if (closest >= 0) and (clusters[row] != closest):\n",
    "        clusters[row]  = closest\n",
    "        num_changed   += 1\n",
    "\n",
    "print(f\"Reassignement changed {num_changed} assignments.\")\n",
    "print(f\"Total {len(center_ids)} clusters.\")\n",
    "\n",
    "return np.asarray(clusters), np.asarray(center_ids)"
   ]
  },
  {
   "cell_type": "code",
   "execution_count": null,
   "id": "8b4d5d5d",
   "metadata": {
    "hidden": true
   },
   "outputs": [],
   "source": []
  },
  {
   "cell_type": "code",
   "execution_count": null,
   "id": "425dc162",
   "metadata": {
    "hidden": true
   },
   "outputs": [],
   "source": []
  },
  {
   "cell_type": "code",
   "execution_count": null,
   "id": "2fd539dc",
   "metadata": {
    "hidden": true
   },
   "outputs": [],
   "source": []
  }
 ],
 "metadata": {
  "kernelspec": {
   "display_name": "Python [conda env:pyt-gpu]",
   "language": "python",
   "name": "conda-env-pyt-gpu-py"
  },
  "language_info": {
   "codemirror_mode": {
    "name": "ipython",
    "version": 3
   },
   "file_extension": ".py",
   "mimetype": "text/x-python",
   "name": "python",
   "nbconvert_exporter": "python",
   "pygments_lexer": "ipython3",
   "version": "3.9.5"
  },
  "toc": {
   "base_numbering": 1,
   "nav_menu": {},
   "number_sections": true,
   "sideBar": true,
   "skip_h1_title": false,
   "title_cell": "Table of Contents",
   "title_sidebar": "Contents",
   "toc_cell": false,
   "toc_position": {},
   "toc_section_display": true,
   "toc_window_display": false
  }
 },
 "nbformat": 4,
 "nbformat_minor": 5
}
