{
 "cells": [
  {
   "cell_type": "markdown",
   "id": "3a6cccdc",
   "metadata": {},
   "source": [
    "# Clustering"
   ]
  },
  {
   "cell_type": "code",
   "execution_count": 1,
   "id": "63bf128b",
   "metadata": {
    "ExecuteTime": {
     "end_time": "2021-11-17T15:11:59.626189Z",
     "start_time": "2021-11-17T15:11:59.596866Z"
    }
   },
   "outputs": [
    {
     "data": {
      "text/html": [
       "<style>.container { width:90% !important; }</style>"
      ],
      "text/plain": [
       "<IPython.core.display.HTML object>"
      ]
     },
     "metadata": {},
     "output_type": "display_data"
    }
   ],
   "source": [
    "from IPython.core.display import display, HTML\n",
    "display(HTML(\"<style>.container { width:90% !important; }</style>\"))\n",
    "%load_ext autoreload\n",
    "%autoreload 2"
   ]
  },
  {
   "cell_type": "code",
   "execution_count": 2,
   "id": "168164ca",
   "metadata": {
    "ExecuteTime": {
     "end_time": "2021-11-17T15:11:59.741350Z",
     "start_time": "2021-11-17T15:11:59.628196Z"
    }
   },
   "outputs": [],
   "source": [
    "import sys\n",
    "import numpy as np\n",
    "import scipy.sparse\n",
    "# import sparsechem as sc\n",
    "import argparse"
   ]
  },
  {
   "cell_type": "code",
   "execution_count": 3,
   "id": "0dacaaa7",
   "metadata": {
    "ExecuteTime": {
     "end_time": "2021-11-17T15:11:59.753609Z",
     "start_time": "2021-11-17T15:11:59.742956Z"
    }
   },
   "outputs": [
    {
     "name": "stdout",
     "output_type": "stream",
     "text": [
      "/home/kevin/projects/chembl-pipeline\n",
      "/home/kevin/miniconda3/envs/pyt-gpu/lib/python39.zip\n",
      "/home/kevin/miniconda3/envs/pyt-gpu/lib/python3.9\n",
      "/home/kevin/miniconda3/envs/pyt-gpu/lib/python3.9/lib-dynload\n",
      "\n",
      "/home/kevin/miniconda3/envs/pyt-gpu/lib/python3.9/site-packages\n",
      "/home/kevin/miniconda3/envs/pyt-gpu/lib/python3.9/site-packages/IPython/extensions\n",
      "/home/kevin/.ipython\n"
     ]
    }
   ],
   "source": [
    "for i in sys.path:\n",
    "    print(i)"
   ]
  },
  {
   "cell_type": "code",
   "execution_count": 4,
   "id": "e40e3b4d",
   "metadata": {
    "ExecuteTime": {
     "end_time": "2021-11-17T15:11:59.886951Z",
     "start_time": "2021-11-17T15:11:59.756348Z"
    }
   },
   "outputs": [
    {
     "name": "stdout",
     "output_type": "stream",
     "text": [
      "['/home/kevin/projects/chembl-pipeline', '/home/kevin/miniconda3/envs/pyt-gpu/lib/python39.zip', '/home/kevin/miniconda3/envs/pyt-gpu/lib/python3.9', '/home/kevin/miniconda3/envs/pyt-gpu/lib/python3.9/lib-dynload', '', '/home/kevin/miniconda3/envs/pyt-gpu/lib/python3.9/site-packages', '/home/kevin/miniconda3/envs/pyt-gpu/lib/python3.9/site-packages/IPython/extensions', '/home/kevin/.ipython', '..']\n"
     ]
    }
   ],
   "source": [
    "if ('../..' not in sys.path):\n",
    "    sys.path.append('..')\n",
    "print(sys.path)"
   ]
  },
  {
   "cell_type": "code",
   "execution_count": 5,
   "id": "646c6ded",
   "metadata": {
    "ExecuteTime": {
     "end_time": "2021-11-17T15:11:59.962640Z",
     "start_time": "2021-11-17T15:11:59.888306Z"
    }
   },
   "outputs": [],
   "source": [
    "import leader_follower as lf"
   ]
  },
  {
   "cell_type": "code",
   "execution_count": 6,
   "id": "08cd1c61",
   "metadata": {
    "ExecuteTime": {
     "end_time": "2021-11-17T15:11:59.977164Z",
     "start_time": "2021-11-17T15:11:59.964373Z"
    }
   },
   "outputs": [],
   "source": [
    "def load_sparse(filename):\n",
    "    \"\"\"Loads sparse from Matrix market or Numpy .npy file.\"\"\"\n",
    "    if filename is None:\n",
    "        return None\n",
    "    if filename.endswith('.mtx'):\n",
    "        return scipy.io.mmread(filename).tocsr()\n",
    "    elif filename.endswith('.npy'):\n",
    "        return np.load(filename, allow_pickle=True) \n",
    "    elif filename.endswith('.npz'):\n",
    "        return scipy.sparse.load_npz(filename).tocsr()\n",
    "    raise ValueError(f\"Loading '{filename}' failed. It must have a suffix '.mtx', '.npy', '.npz'.\")\n"
   ]
  },
  {
   "cell_type": "code",
   "execution_count": 7,
   "id": "e504e011",
   "metadata": {
    "ExecuteTime": {
     "end_time": "2021-11-17T15:11:59.989812Z",
     "start_time": "2021-11-17T15:11:59.978689Z"
    }
   },
   "outputs": [],
   "source": [
    "def hierarchical_clustering(X, dists):\n",
    "    \"\"\"\n",
    "    Args:\n",
    "        X       compound matrix in CSR\n",
    "        dists   list of (increasing) distances\n",
    "    Sequentially clusters with each dists, returns final cluster ids\n",
    "    \"\"\"\n",
    "    assert type(X) == scipy.sparse.csr.csr_matrix, \"X should be csr_matrix (scipy.sparse)\"\n",
    "    \n",
    "    print(f\"X shape: {X.shape}\")\n",
    "    cl0 = np.arange(X.shape[0])\n",
    "    Xc  = X\n",
    "\n",
    "    for dist in dists:\n",
    "        print(f\"Running clustering for distance: {dist}\")\n",
    "        cl, cent = cluster(Xc, dist)\n",
    "        Xc       = Xc[cent]\n",
    "        cl0      = cl[cl0]\n",
    "\n",
    "    return cl0\n"
   ]
  },
  {
   "cell_type": "code",
   "execution_count": 8,
   "id": "720298ed",
   "metadata": {
    "ExecuteTime": {
     "end_time": "2021-11-17T15:12:00.325345Z",
     "start_time": "2021-11-17T15:11:59.991498Z"
    }
   },
   "outputs": [],
   "source": [
    "%load_ext Cython\n",
    "# del cluster"
   ]
  },
  {
   "cell_type": "code",
   "execution_count": 9,
   "id": "e5ca7397",
   "metadata": {
    "ExecuteTime": {
     "end_time": "2021-11-17T15:12:06.285971Z",
     "start_time": "2021-11-17T15:12:00.327289Z"
    },
    "scrolled": true
   },
   "outputs": [
    {
     "name": "stderr",
     "output_type": "stream",
     "text": [
      "/home/kevin/.cache/ipython/cython/_cython_magic_d0874efed0c7606c0529a237ce09b307.cpp: In function ‘PyObject* __pyx_pf_46_cython_magic_d0874efed0c7606c0529a237ce09b307_cluster(PyObject*, PyObject*, PyObject*)’:\n",
      "/home/kevin/.cache/ipython/cython/_cython_magic_d0874efed0c7606c0529a237ce09b307.cpp:3586:39: warning: comparison of integer expressions of different signedness: ‘int’ and ‘std::vector<int>::size_type’ {aka ‘long unsigned int’} [-Wsign-compare]\n",
      " 3586 |       for (__pyx_t_21 = 0; __pyx_t_21 < __pyx_t_23; __pyx_t_21+=1) {\n",
      "      |                            ~~~~~~~~~~~^~~~~~~~~~~~\n",
      "/home/kevin/.cache/ipython/cython/_cython_magic_d0874efed0c7606c0529a237ce09b307.cpp:3638:37: warning: comparison of integer expressions of different signedness: ‘int’ and ‘std::vector<double>::size_type’ {aka ‘long unsigned int’} [-Wsign-compare]\n",
      " 3638 |     for (__pyx_t_17 = 0; __pyx_t_17 < __pyx_t_27; __pyx_t_17+=1) {\n",
      "      |                          ~~~~~~~~~~~^~~~~~~~~~~~\n",
      "/home/kevin/.cache/ipython/cython/_cython_magic_d0874efed0c7606c0529a237ce09b307.cpp:4092:39: warning: comparison of integer expressions of different signedness: ‘int’ and ‘std::vector<int>::size_type’ {aka ‘long unsigned int’} [-Wsign-compare]\n",
      " 4092 |       for (__pyx_t_21 = 0; __pyx_t_21 < __pyx_t_23; __pyx_t_21+=1) {\n",
      "      |                            ~~~~~~~~~~~^~~~~~~~~~~~\n",
      "/home/kevin/.cache/ipython/cython/_cython_magic_d0874efed0c7606c0529a237ce09b307.cpp:4147:37: warning: comparison of integer expressions of different signedness: ‘int’ and ‘std::vector<double>::size_type’ {aka ‘long unsigned int’} [-Wsign-compare]\n",
      " 4147 |     for (__pyx_t_17 = 0; __pyx_t_17 < __pyx_t_27; __pyx_t_17+=1) {\n",
      "      |                          ~~~~~~~~~~~^~~~~~~~~~~~\n"
     ]
    }
   ],
   "source": [
    "%%cython --cplus --force\n",
    "\n",
    "from libcpp.vector cimport vector\n",
    "import numpy as np\n",
    "\n",
    "\n",
    "def cluster(X, radius):\n",
    "\n",
    "    print( f\"X shape        :  {X.shape}\")\n",
    "    print( f\"X.indptr shape :  {X.indptr.shape}\")\n",
    "    print( f\"X.indices shape:  {X.indices.shape}\")\n",
    "    \n",
    "    cdef int i, j, k, row, col, closest\n",
    "    cdef int [:] x_indptr  = X.indptr\n",
    "    cdef int [:] x_indices = X.indices\n",
    "#     cdef double [:] x_data = X.data\n",
    "\n",
    "    cdef int X_shape0 = X.shape[0]\n",
    "    cdef int X_shape1 = X.shape[1]\n",
    "\n",
    "    ## algorithm part\n",
    "\n",
    "    cdef vector[double]      dist\n",
    "    cdef vector[vector[int]] centers\n",
    "    cdef vector[double]      Cnorm\n",
    "    cdef vector[int]         center_ids\n",
    "\n",
    "    ## Xnorm: no of non-zero columns in each row\n",
    "    cdef long   [:] Xnorm = np.array((X != 0).sum(axis = 1)).flatten()\n",
    "    cdef double [:] dists = np.zeros(X_shape0, dtype=np.float64)\n",
    "\n",
    "    ## Clusters[] : cluster assignment of each X row\n",
    "    cdef long [:] clusters = np.zeros(X.shape[0], dtype = np.int) - 1\n",
    "    cdef long [:] perm_ids = np.random.permutation(X.shape[0])       \n",
    "\n",
    "    cdef double min_dist, tmp_dist\n",
    "    cdef int num_changed\n",
    "    \n",
    "#     print(f\" ==== perm ids:       {np.asarray(perm_ids)[0:100]}\")\n",
    "\n",
    "    print(f\" ==== Xnorm shape:    {Xnorm.shape}\")\n",
    "    print(f\" ==== Xnorm size:     {Xnorm.shape}\")\n",
    "    print(f\" ==== Xnorm:          {np.asarray(Xnorm)[:50]}\" )\n",
    "    print()\n",
    "\n",
    "    print(f\" ==== dists size:     {dists.shape}\")\n",
    "    print(f\" ==== dists:          {np.asarray(dists)[:50]}\")\n",
    "    print()\n",
    "\n",
    "    print(f\" ==== dist size:      {dist.size()}\")\n",
    "    print(f\" ==== dist :          {np.asarray(dist)[:50]}\")    \n",
    "    print()\n",
    "    \n",
    "    print(f\" ==== centers size    {centers.size()}\")\n",
    "    centers.resize(X_shape1)\n",
    "    print(f\" ==== centers size    {centers.size()}\")\n",
    "    print()\n",
    "    \n",
    "    print(f\" ==== Cnorm size      {Cnorm.size()}\")  \n",
    "    print(f\" ==== Cnorm :         {np.asarray(Cnorm)[:50]}\") \n",
    "    print()\n",
    "    \n",
    "    print(f\" ==== center_ids size {center_ids.size()}\")    \n",
    "    print(f\" ==== center_ids      {np.asarray(center_ids)}\")    \n",
    "    print()    \n",
    "    \n",
    "    print(f\" ==== clusters size:  {clusters.shape}\")\n",
    "    print(f\" ==== clusters  :     {np.asarray(clusters)}\")\n",
    "    print()    \n",
    "    \n",
    "    print(f\" ==== perm_ids size:  {perm_ids.shape}\")\n",
    "    print(f\" ==== perm_ids :      {np.asarray(perm_ids)[:10]}. . . . .\")\n",
    "          \n",
    "    for i in range(X_shape0):\n",
    " \n",
    "        if i % 10000 == 0:\n",
    "            print(f\"Row {i}.\")\n",
    "                \n",
    "        row = perm_ids[i]\n",
    "#         print(f\">> i: {i:2d} - row = perm_ids[i]: {perm_ids[i]:6d}  - x_indptr[{row:6d}]: \"\n",
    "#               f\"{x_indptr[row]:9d}  x_indptr[{row+1:6d}]: {x_indptr[row+1]:9d}  Cnorm.size(): {Cnorm.size()}\")\n",
    "#         print(f\" Cnorm:  {np.asarray(Cnorm)}\")\n",
    "        \n",
    "        \n",
    "        \n",
    "        ## computing distances to all centers\n",
    "        dists[0 : Cnorm.size()] = 0.0\n",
    "        \n",
    "        ## for current row, get column indices and populated columns data for current row \n",
    "        \n",
    "#         print(f\"\\t 2.0  for j in range({x_indptr[row]}, {x_indptr[row+1]})\")\n",
    "        \n",
    "        for j in range(x_indptr[row], x_indptr[row+1]):\n",
    "            col = x_indices[j]\n",
    "#             print(f\"\\t\\t 2.1  row: {row}   x_indices[{j}] col: {col}   for k in range({centers[col].size()})   {centers[col]}\")\n",
    "            for k in range(centers[col].size()):\n",
    "#                 print(f\"\\t\\t\\t 2.2  k: {k} set dists[centers[{col}][{k}]] : dists[{centers[col][k]}] += 1 : {dists[centers[col][k]]} +=1 --> {dists[centers[col][k]]+1}\" )\n",
    "                dists[ centers[col][k] ] += 1.0\n",
    "                \n",
    "        closest = -1\n",
    "        min_dist = radius\n",
    "        \n",
    "        ## Calculate Distance from Centroids \n",
    "        for j in range(Cnorm.size()):\n",
    "#             print(f\"   3 - j: {j} of {Cnorm.size()} :  dists[j] = 1.0 - {dists[j]} / ({Xnorm[row]} + {Cnorm[j]} - {dists[j]})\")            \n",
    "            dists[j] = 1.0 - dists[j] / (Xnorm[row] + Cnorm[j] - dists[j])\n",
    "#             print(f\"   3 - dists[{j}] : {dists[j]:.5f}    min_dist: {min_dist:.5f}\")\n",
    "            if dists[j] < min_dist:\n",
    "                min_dist = dists[j]\n",
    "                closest  = j\n",
    "\n",
    "        if closest >= 0:\n",
    "            clusters[row] = closest\n",
    "            continue\n",
    "\n",
    "        ## create a new cluster\n",
    "\n",
    "        k = Cnorm.size()\n",
    "        \n",
    "        for j in range(x_indptr[row], x_indptr[row+1]):\n",
    "            ## Add new element at end of centers\n",
    "            centers[ x_indices[j] ].push_back(k)\n",
    "#             print(f\"4-  j: {j} - :  add k = Cnorm.size() = {k} to centers[{x_indices[j]}]: {np.asarray(centers[ x_indices[j]])}\")\n",
    "                \n",
    "        clusters[row] = k\n",
    "        Cnorm.push_back(Xnorm[row])\n",
    "        center_ids.push_back(row)\n",
    "\n",
    "#         print(f\"4-    clusters[{row}] = {k}\")\n",
    "#         print(f\"4-    Cnorm.add(Xnorm[{row}] = {Xnorm[row]}):  new Cnorm size:{Cnorm.size()}\")\n",
    "#         print(f\"4-    Cnorm  : {Cnorm}\")\n",
    "#         print(f\"4-    center_ids.add(row: {row}): new center_ids size:{center_ids.size()}\")\n",
    "#         print(f\"4-    cneter_ids: {center_ids}\")\n",
    "\n",
    "\n",
    "        \n",
    "    print(\"==============================================\")\n",
    "    print(\"Reassigning compounds to the closest clusters.\")\n",
    "    print(\"==============================================\") \n",
    "    num_changed = 0\n",
    "    \n",
    "    for row in range(X_shape0):\n",
    "        if row % 50000 == 0:\n",
    "            print(f\"Row {row}.\")\n",
    "            \n",
    "        ## compute distances to all clusters, assign to the closest\n",
    "        for j in range(x_indptr[row], x_indptr[row+1]):\n",
    "            col = x_indices[j]\n",
    "            for k in range(centers[col].size()):\n",
    "                dists[ centers[col][k] ] += 1.0\n",
    "\n",
    "        closest = -1\n",
    "        min_dist = radius + 1e-5\n",
    "        \n",
    "        # calculate distance to Clusters\n",
    "        for j in range(Cnorm.size()):\n",
    "            try:\n",
    "                tmp_dist = 1.0 - dists[j] / (Xnorm[row] + Cnorm[j] - dists[j])\n",
    "            except ZeroDivisionError:\n",
    "                print(' Zero Division Error Encountered  - row:', row)\n",
    "#                 print(' Xnorm[row] ', Xnorm[row])\n",
    "#                 print(' Cnorm[j]   ', Cnorm[j])\n",
    "#                 print(' dists[j]   ', dists[j])\n",
    "            else:\n",
    "                if tmp_dist < min_dist:\n",
    "                    min_dist = tmp_dist\n",
    "                    closest  = j\n",
    "                    if min_dist == 0:\n",
    "                        ## best possible\n",
    "                        break\n",
    "                        \n",
    "            if (closest >= 0) and (clusters[row] != closest):\n",
    "                clusters[row]  = closest\n",
    "                num_changed   += 1\n",
    "\n",
    "    print(f\"Reassignement changed {num_changed} assignments.\")\n",
    "    print(f\"Total {len(center_ids)} clusters.\")\n",
    "\n",
    "    return np.asarray(clusters), np.asarray(center_ids)"
   ]
  },
  {
   "cell_type": "markdown",
   "id": "11807be8",
   "metadata": {},
   "source": [
    "### main"
   ]
  },
  {
   "cell_type": "code",
   "execution_count": 10,
   "id": "4f4f6253",
   "metadata": {
    "ExecuteTime": {
     "end_time": "2021-11-17T15:12:06.308752Z",
     "start_time": "2021-11-17T15:12:06.290959Z"
    }
   },
   "outputs": [
    {
     "name": "stdout",
     "output_type": "stream",
     "text": [
      "['python', '../leader_follower/cluster.py', '--x', 'output/20_chembl_29_X.npy', '--out', 'output/30_clustering.npy', '--dist', '0.5', '0.7']\n",
      "{'x': 'output/20_chembl_29_X.npy', 'out': 'output/30_clustering.npy', 'dists': [0.5, 0.7]}\n"
     ]
    }
   ],
   "source": [
    "parser = argparse.ArgumentParser(description=\"Training a multi-task model.\")\n",
    "parser.add_argument(\"--x\"  , help=\"Descriptor file (matrix market or numpy)\", type=str, required=True)\n",
    "parser.add_argument(\"--out\", help=\"Output file for the clusters (.npy)\", type=str, required=True)\n",
    "parser.add_argument(\"--dists\", nargs=\"+\", help=\"Distances\", default=[], type=float, required=True)\n",
    "\n",
    "\n",
    "input_args =  \"python ../leader_follower/cluster.py --x output/20_chembl_29_X.npy --out output/30_clustering.npy --dist 0.5 0.7\".split()\n",
    "print(input_args)\n",
    "\n",
    "args = parser.parse_args(input_args[2:])\n",
    "print(vars(args))\n",
    "dists = args.dists\n"
   ]
  },
  {
   "cell_type": "code",
   "execution_count": 11,
   "id": "8e2b2659",
   "metadata": {
    "ExecuteTime": {
     "end_time": "2021-11-17T15:12:06.588468Z",
     "start_time": "2021-11-17T15:12:06.310133Z"
    }
   },
   "outputs": [
    {
     "name": "stdout",
     "output_type": "stream",
     "text": [
      "Loading 'output/20_chembl_29_X.npy'.\n",
      "<class 'scipy.sparse.csr.csr_matrix'>\n",
      "[  0  79 162 249 434 483 650 777 855 936]\n",
      "[ 349  520 1482 2138 2589 3701 4708 5316 5501 5548]\n",
      "[1. 1. 1. 1. 1. 1. 1. 1. 1. 1.]\n"
     ]
    }
   ],
   "source": [
    "print(f\"Loading '{args.x}'.\")\n",
    "# X = sc.load_sparse(args.x).tocsr()\n",
    "X = load_sparse(args.x).item()\n",
    "\n",
    "print(type(X))\n",
    "print(X.indptr[:10])\n",
    "print(X.indices[:10])\n",
    "print(X.data[:10])\n",
    "# Xnorm = np.array((X != 0).sum(axis = 1)).flatten()\n",
    "\n",
    "# Xnorm.shape\n",
    "\n"
   ]
  },
  {
   "cell_type": "markdown",
   "id": "6a1bdda1",
   "metadata": {},
   "source": [
    "### Hierarchical Clustering"
   ]
  },
  {
   "cell_type": "code",
   "execution_count": 13,
   "id": "d243c7ff",
   "metadata": {
    "ExecuteTime": {
     "end_time": "2021-11-17T15:23:45.569050Z",
     "start_time": "2021-11-17T15:23:45.551925Z"
    },
    "scrolled": false
   },
   "outputs": [
    {
     "name": "stdout",
     "output_type": "stream",
     "text": [
      "Clustering.\n"
     ]
    }
   ],
   "source": [
    "print(\"Clustering.\")\n",
    "# two step clustering, first at 0.5, then at 0.6\n",
    "cl_hier = hierarchical_clustering(X, dists=args.dists)"
   ]
  },
  {
   "cell_type": "markdown",
   "id": "38d78445",
   "metadata": {},
   "source": [
    "###  Save Clustering Results"
   ]
  },
  {
   "cell_type": "code",
   "execution_count": null,
   "id": "12bcd07e",
   "metadata": {
    "ExecuteTime": {
     "end_time": "2021-11-17T13:27:35.023883Z",
     "start_time": "2021-11-17T13:27:35.023869Z"
    },
    "scrolled": false
   },
   "outputs": [],
   "source": [
    "np.save(args.out, cl_hier)\n",
    "print(f\"Saved clusters into '{args.out}'.\")"
   ]
  },
  {
   "cell_type": "code",
   "execution_count": null,
   "id": "b7838895",
   "metadata": {
    "ExecuteTime": {
     "end_time": "2021-11-16T13:45:47.716048Z",
     "start_time": "2021-11-16T13:45:47.716031Z"
    }
   },
   "outputs": [],
   "source": [
    "type(cl_hier)\n",
    "cl_hier"
   ]
  },
  {
   "cell_type": "code",
   "execution_count": null,
   "id": "6b693971",
   "metadata": {
    "ExecuteTime": {
     "end_time": "2021-11-17T09:58:59.495095Z",
     "start_time": "2021-11-17T09:58:59.236578Z"
    }
   },
   "outputs": [],
   "source": [
    "print(f\"Loading '{args.x}'.\")\n",
    "# X = sc.load_sparse(args.x).tocsr()\n",
    "X_orig = load_sparse(args.x).tocsr()\n",
    "X = X_orig[:100, :15000]\n",
    "print(\" X.indptr : \" , len(X.indptr), X.indptr)\n",
    "print(\" X.indices: \" , len(X.indices) , X.indices)\n",
    "print(X)\n",
    "X"
   ]
  },
  {
   "cell_type": "code",
   "execution_count": null,
   "id": "5693d883",
   "metadata": {
    "ExecuteTime": {
     "end_time": "2021-09-01T23:57:30.845456Z",
     "start_time": "2021-09-01T23:57:30.838840Z"
    },
    "scrolled": true
   },
   "outputs": [],
   "source": []
  },
  {
   "cell_type": "code",
   "execution_count": null,
   "id": "5db0c903",
   "metadata": {
    "ExecuteTime": {
     "end_time": "2021-09-01T23:57:31.815006Z",
     "start_time": "2021-09-01T23:57:31.809485Z"
    }
   },
   "outputs": [],
   "source": [
    "print(f\"X shape: {X.shape}\")\n",
    "cl0 = np.arange(X.shape[0])\n",
    "Xc  = X"
   ]
  },
  {
   "cell_type": "code",
   "execution_count": null,
   "id": "f07c4cc5",
   "metadata": {
    "ExecuteTime": {
     "end_time": "2021-09-01T23:57:33.901803Z",
     "start_time": "2021-09-01T23:57:33.884230Z"
    }
   },
   "outputs": [],
   "source": [
    "for dist in dists:\n",
    "    print(f\"Running clustering for distance: {dist}\")\n",
    "    cl, cent = cluster(Xc, dist)\n",
    "    Xc       = Xc[cent]\n",
    "    cl0      = cl[cl0]\n",
    "\n",
    "\n"
   ]
  },
  {
   "cell_type": "code",
   "execution_count": null,
   "id": "92ae5a4e",
   "metadata": {},
   "outputs": [],
   "source": []
  },
  {
   "cell_type": "markdown",
   "id": "5728c11e",
   "metadata": {},
   "source": [
    "### `clustering()` Line by line"
   ]
  },
  {
   "cell_type": "code",
   "execution_count": null,
   "id": "29a3d314",
   "metadata": {
    "ExecuteTime": {
     "end_time": "2021-09-01T23:57:31.815006Z",
     "start_time": "2021-09-01T23:57:31.809485Z"
    }
   },
   "outputs": [],
   "source": [
    "from libcpp.vector cimport vector\n",
    "import numpy as np\n",
    "import scipy.sparse"
   ]
  },
  {
   "cell_type": "code",
   "execution_count": null,
   "id": "2c7498b7",
   "metadata": {
    "ExecuteTime": {
     "end_time": "2021-09-01T23:52:40.180626Z",
     "start_time": "2021-09-01T23:52:40.172694Z"
    }
   },
   "outputs": [],
   "source": [
    "X_shape0 = X.shape[0]\n",
    "X_shape1 = X.shape[1]\n",
    "x_indptr  = X.indptr\n",
    "x_indices = X.indices\n",
    "\n",
    "print(X_shape0, X_shape1, len(x_indptr), len(x_indices))"
   ]
  },
  {
   "cell_type": "code",
   "execution_count": null,
   "id": "b2be62c6",
   "metadata": {
    "ExecuteTime": {
     "end_time": "2021-09-01T22:25:41.290058Z",
     "start_time": "2021-09-01T22:25:41.081013Z"
    }
   },
   "outputs": [],
   "source": [
    "## Number of non zero columns \n",
    "Xnorm = np.array((X != 0).sum(axis = 1)).flatten()\n",
    "\n",
    "print(Xnorm.shape)\n",
    "print(Xnorm.sum())"
   ]
  },
  {
   "cell_type": "code",
   "execution_count": null,
   "id": "17f03178",
   "metadata": {
    "ExecuteTime": {
     "end_time": "2021-09-01T22:26:32.066440Z",
     "start_time": "2021-09-01T22:26:32.060911Z"
    }
   },
   "outputs": [],
   "source": [
    "dists = np.zeros(X.shape[0], dtype=np.float64)\n",
    "print(dists.shape)"
   ]
  },
  {
   "cell_type": "code",
   "execution_count": null,
   "id": "71d85a5a",
   "metadata": {
    "ExecuteTime": {
     "end_time": "2021-09-01T22:30:57.664200Z",
     "start_time": "2021-09-01T22:30:57.644680Z"
    }
   },
   "outputs": [],
   "source": [
    "clusters = np.zeros(X.shape[0], dtype = int) - 1\n",
    "perm_ids = np.random.permutation(X.shape[0])       \n",
    "\n",
    "print(clusters)\n",
    "print(perm_ids)"
   ]
  },
  {
   "cell_type": "code",
   "execution_count": null,
   "id": "44d44e1b",
   "metadata": {},
   "outputs": [],
   "source": [
    "\n",
    "for i in range(X_shape0):\n",
    "    if i % 10000 == 0:\n",
    "        print(f\"Row {i}.\")\n",
    "    row = perm_ids[i]\n",
    "\n",
    "    ## computing distances to all centers\n",
    "    dists[0 : Cnorm.size()] = 0.0\n",
    "    for j in range(x_indptr[row], x_indptr[row+1]):\n",
    "        col = x_indices[j]\n",
    "        for k in range(centers[col].size()):\n",
    "            dists[ centers[col][k] ] += 1.0\n",
    "\n",
    "    closest = -1\n",
    "    min_dist = radius\n",
    "    for j in range(Cnorm.size()):\n",
    "        dists[j] = 1.0 - dists[j] / (Xnorm[row] + Cnorm[j] - dists[j])\n",
    "        if dists[j] < min_dist:\n",
    "            min_dist = dists[j]\n",
    "            closest  = j\n",
    "\n",
    "    if closest >= 0:\n",
    "        clusters[row] = closest\n",
    "        continue\n",
    "\n",
    "    ## create a new cluster\n",
    "    k = Cnorm.size()\n",
    "    for j in range(x_indptr[row], x_indptr[row+1]):\n",
    "        centers[ x_indices[j] ].push_back(k)\n",
    "    clusters[row] = k\n",
    "    Cnorm.push_back(Xnorm[row])\n",
    "    center_ids.push_back(row)\n",
    "\n",
    "print(\"Reassigning compounds to the closest clusters.\")\n",
    "num_changed = 0\n",
    "for row in range(X_shape0):\n",
    "    if row % 10000 == 0:\n",
    "        print(f\"Row {row}.\")\n",
    "    ## compute distances to all clusters, assign to the closest\n",
    "    for j in range(x_indptr[row], x_indptr[row+1]):\n",
    "        col = x_indices[j]\n",
    "        for k in range(centers[col].size()):\n",
    "            dists[ centers[col][k] ] += 1.0\n",
    "\n",
    "    closest = -1\n",
    "    min_dist = radius + 1e-5\n",
    "    for j in range(Cnorm.size()):\n",
    "        tmp_dist = 1.0 - dists[j] / (Xnorm[row] + Cnorm[j] - dists[j])\n",
    "        if tmp_dist < min_dist:\n",
    "            min_dist = tmp_dist\n",
    "            closest  = j\n",
    "            if min_dist == 0:\n",
    "                ## best possible\n",
    "                break\n",
    "    if (closest >= 0) and (clusters[row] != closest):\n",
    "        clusters[row]  = closest\n",
    "        num_changed   += 1\n",
    "\n",
    "print(f\"Reassignement changed {num_changed} assignments.\")\n",
    "print(f\"Total {len(center_ids)} clusters.\")\n",
    "\n",
    "return np.asarray(clusters), np.asarray(center_ids)"
   ]
  },
  {
   "cell_type": "code",
   "execution_count": null,
   "id": "8b4d5d5d",
   "metadata": {},
   "outputs": [],
   "source": []
  },
  {
   "cell_type": "code",
   "execution_count": null,
   "id": "425dc162",
   "metadata": {},
   "outputs": [],
   "source": []
  },
  {
   "cell_type": "code",
   "execution_count": null,
   "id": "2fd539dc",
   "metadata": {},
   "outputs": [],
   "source": []
  }
 ],
 "metadata": {
  "kernelspec": {
   "display_name": "Python [conda env:pyt-gpu]",
   "language": "python",
   "name": "conda-env-pyt-gpu-py"
  },
  "language_info": {
   "codemirror_mode": {
    "name": "ipython",
    "version": 3
   },
   "file_extension": ".py",
   "mimetype": "text/x-python",
   "name": "python",
   "nbconvert_exporter": "python",
   "pygments_lexer": "ipython3",
   "version": "3.9.7"
  },
  "toc": {
   "base_numbering": 1,
   "nav_menu": {},
   "number_sections": true,
   "sideBar": true,
   "skip_h1_title": false,
   "title_cell": "Table of Contents",
   "title_sidebar": "Contents",
   "toc_cell": false,
   "toc_position": {},
   "toc_section_display": true,
   "toc_window_display": false
  }
 },
 "nbformat": 4,
 "nbformat_minor": 5
}
