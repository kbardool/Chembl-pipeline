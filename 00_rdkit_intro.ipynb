{
 "cells": [
  {
   "cell_type": "code",
   "execution_count": 1,
   "id": "7f234eb7",
   "metadata": {
    "ExecuteTime": {
     "end_time": "2021-11-16T12:03:50.239553Z",
     "start_time": "2021-11-16T12:03:47.833583Z"
    }
   },
   "outputs": [],
   "source": [
    "from rdkit import Chem\n",
    "from rdkit.Chem import AllChem\n",
    "from os.path import expanduser\n",
    "import argparse\n",
    "import csv\n",
    "import sys\n",
    "import pandas as pd\n",
    "import numpy as np\n",
    "from scipy.sparse import csr_matrix"
   ]
  },
  {
   "cell_type": "code",
   "execution_count": 2,
   "id": "8e8354d8",
   "metadata": {
    "ExecuteTime": {
     "end_time": "2021-11-16T12:03:50.244971Z",
     "start_time": "2021-11-16T12:03:50.241747Z"
    }
   },
   "outputs": [],
   "source": [
    "from IPython.display import SVG\n",
    "from rdkit import Chem\n",
    "from rdkit.Chem import rdDepictor\n",
    "from rdkit.Chem.Draw import rdMolDraw2D"
   ]
  },
  {
   "cell_type": "code",
   "execution_count": 3,
   "id": "019c2b67",
   "metadata": {
    "ExecuteTime": {
     "end_time": "2021-11-16T12:03:51.525057Z",
     "start_time": "2021-11-16T12:03:51.511732Z"
    }
   },
   "outputs": [],
   "source": [
    "def defaultSupplFile():\n",
    "  return '%s/chembl_19/chembl_19.sdf' % datadir\n",
    "\n",
    "def saveFingerprints(results, filename):\n",
    "  \"\"\" results is a dictionary: chembl_id -> [fingerprints] \"\"\"\n",
    "  with open(filename, 'w') as csvfile:\n",
    "    fpwriter = csv.writer(csvfile, delimiter=\",\", quoting=csv.QUOTE_NONE)\n",
    "    fpwriter.writerow([\"compound\",\"feature\"])\n",
    "    for compound in results:\n",
    "        for feature in results[compound]:\n",
    "            fpwriter.writerow( [compound, feature] )\n",
    "\n",
    "def saveFingerprintsNpy(results, filename, cmpdlist, ecfp_fold=32000):\n",
    "    \"\"\" write fingerprints to a npy \"\"\"\n",
    "    fp2 =[(x,(np.array(list(results[x].keys())), np.array(list(results[x].values())))) for x in results] #TODO: Modify to save compound list\n",
    "    cmpd, ecfp   = zip(*fp2)\n",
    "    feat, counts = zip(*ecfp)\n",
    "    lens    = np.array([len(f) for f in feat])\n",
    "    indptr  = np.concatenate([[0], np.cumsum(lens)])\n",
    "    indices = np.concatenate(feat) % ecfp_fold\n",
    "    data = np.ones(indices.shape[0])\n",
    "    csr = csr_matrix((data, indices, indptr), shape=(len(feat), ecfp_fold))\n",
    "    csr.sum_duplicates()\n",
    "    csr.data[:] = 1.0\n",
    "\n",
    "    np.save(filename, csr)\n",
    "    pd.DataFrame(cmpd).to_csv(cmpdlist, header=False)\n",
    "       "
   ]
  },
  {
   "cell_type": "code",
   "execution_count": 4,
   "id": "41755777",
   "metadata": {
    "ExecuteTime": {
     "end_time": "2021-11-16T12:03:52.906642Z",
     "start_time": "2021-11-16T12:03:52.902035Z"
    }
   },
   "outputs": [],
   "source": [
    "def getChemblIDs(ic50file):\n",
    "  a = pd.read_csv(ic50file, header = None)\n",
    "  chembl = a[0].values \n",
    "  return chembl"
   ]
  },
  {
   "cell_type": "code",
   "execution_count": 5,
   "id": "9c248c60",
   "metadata": {
    "ExecuteTime": {
     "end_time": "2021-11-16T12:03:54.526876Z",
     "start_time": "2021-11-16T12:03:54.519818Z"
    }
   },
   "outputs": [],
   "source": [
    "def printMol(mol, width = 450, height = 150):\n",
    "    bits = AllChem.GetMorganFingerprint(mol, 3) \n",
    "    print ('Chembl-id:    %s' % mol.GetProp('chembl_id'))\n",
    "    print ('Num of Atoms: %d' % mol.GetNumAtoms())\n",
    "    print (\"#bits:        %d\" % len(bits.GetNonzeroElements()))\n",
    "    print ('Smiles:       %s' % Chem.MolToSmiles(mol, isomericSmiles=True))\n",
    "    print (\"\")\n",
    "    drawMol(mol, width, height)\n"
   ]
  },
  {
   "cell_type": "code",
   "execution_count": 6,
   "id": "81639ae3",
   "metadata": {
    "ExecuteTime": {
     "end_time": "2021-11-16T12:03:55.723035Z",
     "start_time": "2021-11-16T12:03:55.716571Z"
    }
   },
   "outputs": [],
   "source": [
    "def drawMol(mol, width = 450, height = 150):\n",
    "#     molSize = (width, height)\n",
    "    mc = Chem.Mol(mol.ToBinary())\n",
    "\n",
    "    if not mc.GetNumConformers():\n",
    "        rdDepictor.Compute2DCoords(mc)\n",
    "\n",
    "    drawer = rdMolDraw2D.MolDraw2DSVG(width, height)\n",
    "    drawer.DrawMolecule(mc)\n",
    "    drawer.FinishDrawing()\n",
    "    svg = drawer.GetDrawingText()\n",
    "    display(SVG(svg.replace('svg:','')))"
   ]
  },
  {
   "cell_type": "code",
   "execution_count": 7,
   "id": "b2d061c6",
   "metadata": {
    "ExecuteTime": {
     "end_time": "2021-11-16T12:03:56.677105Z",
     "start_time": "2021-11-16T12:03:56.672172Z"
    }
   },
   "outputs": [],
   "source": [
    "def whatisthis(s):\n",
    "    if isinstance(s, str):\n",
    "        print(\"ordinary string\")\n",
    "    elif isinstance(s, unicode):\n",
    "        print (\"unicode string\")\n",
    "    else:\n",
    "        print (\"not a string\")"
   ]
  },
  {
   "cell_type": "code",
   "execution_count": 8,
   "id": "3bb0e021",
   "metadata": {
    "ExecuteTime": {
     "end_time": "2021-11-16T12:03:57.435577Z",
     "start_time": "2021-11-16T12:03:57.421316Z"
    }
   },
   "outputs": [],
   "source": [
    "class SDF:\n",
    "  def __init__(self, supplFile):\n",
    "    self.supplFile = supplFile\n",
    "    print(\"supplFile: \", supplFile)\n",
    "    self.suppl = Chem.SDMolSupplier( self.supplFile)\n",
    "    print('Total number of molcules loaded: ', len(self.suppl))\n",
    "\n",
    "  def getMol(self, n = 10e+9):\n",
    "    \"\"\" function for looping over all molecules \"\"\"\n",
    "    self.suppl.reset()\n",
    "    i = 0\n",
    "    for rdmol in self.suppl:\n",
    "      if rdmol is None: continue\n",
    "      i += 1\n",
    "      yield rdmol\n",
    "      if i >= n: return\n",
    "\n",
    "  def print4Mol(self):\n",
    "    for mol in self.getMol(4):\n",
    "      print(type(mol)) \n",
    "      bits = AllChem.GetMorganFingerprint(mol, 3) \n",
    "      print ('Chembl-id: %s' % mol.GetProp('chembl_id'))\n",
    "      print (\"#bits:     %d\" % len(bits.GetNonzeroElements()))\n",
    "      print ('Smiles:    %s' % Chem.MolToSmiles(mol, isomericSmiles=True))\n",
    "      print (\"\")\n",
    "\n",
    "  def getMorganFingerPrints(self, chemblIDs, nMorgan):\n",
    "    ids = set(chemblIDs)\n",
    "    results = dict()\n",
    "    i=0\n",
    "    for mol in self.getMol():\n",
    "      i+=1\n",
    "      if i %20000 == 0:\n",
    "          print(\"Processed: %d compounds\"%i)\n",
    "      chembl_id = mol.GetProp('chembl_id') \n",
    "      if chembl_id not in ids:\n",
    "        continue\n",
    "      results[chembl_id] = AllChem.GetMorganFingerprint(mol, nMorgan).GetNonzeroElements()\n",
    "    return results\n",
    "\n",
    "  def getMorganFingerPrintsAll(self, nMorgan):\n",
    "    results = dict()\n",
    "    for mol in self.getMol():\n",
    "      chembl_id = mol.GetProp('chembl_id') \n",
    "      results[chembl_id] = AllChem.GetMorganFingerprint(mol, nMorgan).GetNonzeroElements()\n",
    "    return results\n",
    "##### end of class SDF ######"
   ]
  },
  {
   "cell_type": "code",
   "execution_count": 9,
   "id": "a7777b72",
   "metadata": {
    "ExecuteTime": {
     "end_time": "2021-11-16T12:03:57.537607Z",
     "start_time": "2021-11-16T12:03:57.453015Z"
    }
   },
   "outputs": [
    {
     "data": {
      "text/plain": [
       "_StoreTrueAction(option_strings=['--numids'], dest='numids', nargs=0, const=True, default=False, type=None, choices=None, help=None, metavar=None)"
      ]
     },
     "execution_count": 9,
     "metadata": {},
     "output_type": "execute_result"
    }
   ],
   "source": [
    "  parser = argparse.ArgumentParser(description='Generate Morgan(3) fingerprints from raw SDF.')\n",
    "  parser.add_argument('-c', '--compounds', metavar='FILE', help=\"CSV file of compounds (CHEMBL IDs). If not supplied all compounds are saved.\", default=None)\n",
    "  parser.add_argument('-s', '--sdf', help=\"Input SDF file.\", required=True)\n",
    "  parser.add_argument('-o', '--out', help=\"Output file name (CSV file of fingerprints).\", required=True)\n",
    "  parser.add_argument('-r', '--radius', metavar='R', type=int, help=\"ECFP radius (default 3)\", default=3)\n",
    "  parser.add_argument('--numids', action='store_true')"
   ]
  },
  {
   "cell_type": "code",
   "execution_count": 10,
   "id": "18c04009",
   "metadata": {
    "ExecuteTime": {
     "end_time": "2021-11-16T12:03:58.483919Z",
     "start_time": "2021-11-16T12:03:58.478862Z"
    }
   },
   "outputs": [
    {
     "name": "stdout",
     "output_type": "stream",
     "text": [
      "['-s', 'input/chembl_29.sdf', '-o', 'output/chembl_29_X.csv', '-c', 'output/chembl_29/chembl_29_compounds.csv']\n"
     ]
    }
   ],
   "source": [
    "in_args = \"-s input/chembl_29.sdf -o output/chembl_29_X.csv -c output/chembl_29/chembl_29_compounds.csv\"\n",
    "in_args = in_args.split()\n",
    "print(in_args)"
   ]
  },
  {
   "cell_type": "code",
   "execution_count": 11,
   "id": "5be76403",
   "metadata": {
    "ExecuteTime": {
     "end_time": "2021-11-16T12:03:59.206731Z",
     "start_time": "2021-11-16T12:03:59.200111Z"
    }
   },
   "outputs": [
    {
     "data": {
      "text/plain": [
       "{'compounds': 'output/chembl_29/chembl_29_compounds.csv',\n",
       " 'sdf': 'input/chembl_29.sdf',\n",
       " 'out': 'output/chembl_29_X.csv',\n",
       " 'radius': 3,\n",
       " 'numids': False}"
      ]
     },
     "execution_count": 11,
     "metadata": {},
     "output_type": "execute_result"
    }
   ],
   "source": [
    "args = vars(parser.parse_args(in_args))\n",
    "args\n",
    "# args_sdf = args['sdf'].encode('utf-8')\n",
    "# args_sdf = args['sdf'].encode('utf-8').decode('ascii')\n",
    "# args_sdf"
   ]
  },
  {
   "cell_type": "code",
   "execution_count": 12,
   "id": "136ad04c",
   "metadata": {
    "ExecuteTime": {
     "end_time": "2021-11-16T12:04:30.605236Z",
     "start_time": "2021-11-16T12:04:00.366912Z"
    },
    "scrolled": true
   },
   "outputs": [
    {
     "name": "stdout",
     "output_type": "stream",
     "text": [
      "supplFile:  input/chembl_29.sdf\n",
      "Total number of molcules loaded:  2084724\n"
     ]
    }
   ],
   "source": [
    "sdf = SDF(args['sdf'])"
   ]
  },
  {
   "cell_type": "code",
   "execution_count": 13,
   "id": "2f012e53",
   "metadata": {
    "ExecuteTime": {
     "end_time": "2021-11-16T12:04:30.633910Z",
     "start_time": "2021-11-16T12:04:30.608353Z"
    }
   },
   "outputs": [],
   "source": [
    "sdf.suppl.reset()"
   ]
  },
  {
   "cell_type": "code",
   "execution_count": 14,
   "id": "65fe2611",
   "metadata": {
    "ExecuteTime": {
     "end_time": "2021-11-16T12:04:30.651434Z",
     "start_time": "2021-11-16T12:04:30.636097Z"
    }
   },
   "outputs": [
    {
     "data": {
      "text/plain": [
       "2084724"
      ]
     },
     "execution_count": 14,
     "metadata": {},
     "output_type": "execute_result"
    }
   ],
   "source": [
    "len(sdf.suppl)"
   ]
  },
  {
   "cell_type": "code",
   "execution_count": 15,
   "id": "d9ff305c",
   "metadata": {
    "ExecuteTime": {
     "end_time": "2021-11-16T12:05:04.211555Z",
     "start_time": "2021-11-16T12:05:04.207234Z"
    }
   },
   "outputs": [],
   "source": [
    "rdmol_gen = sdf.getMol()"
   ]
  },
  {
   "cell_type": "code",
   "execution_count": 16,
   "id": "dee30f06",
   "metadata": {
    "ExecuteTime": {
     "end_time": "2021-11-16T12:05:05.068814Z",
     "start_time": "2021-11-16T12:05:05.033283Z"
    }
   },
   "outputs": [],
   "source": [
    "curr_mol = next(rdmol_gen)"
   ]
  },
  {
   "cell_type": "code",
   "execution_count": 17,
   "id": "d1988d73",
   "metadata": {
    "ExecuteTime": {
     "end_time": "2021-11-16T12:05:05.617268Z",
     "start_time": "2021-11-16T12:05:05.529770Z"
    },
    "scrolled": false
   },
   "outputs": [
    {
     "name": "stdout",
     "output_type": "stream",
     "text": [
      "Chembl-id:    CHEMBL153534\n",
      "Num of Atoms: 16\n",
      "#bits:        45\n",
      "Smiles:       Cc1cc(-c2csc(N=C(N)N)n2)cn1C\n",
      "\n"
     ]
    },
    {
     "data": {
      "image/svg+xml": [
       "<svg xmlns=\"http://www.w3.org/2000/svg\" xmlns:rdkit=\"http://www.rdkit.org/xml\" xmlns:xlink=\"http://www.w3.org/1999/xlink\" version=\"1.1\" baseProfile=\"full\" xml:space=\"preserve\" width=\"250px\" height=\"250px\" viewBox=\"0 0 250 250\">\n",
       "<!-- END OF HEADER -->\n",
       "<rect style=\"opacity:1.0;fill:#FFFFFF;stroke:none\" width=\"250\" height=\"250\" x=\"0\" y=\"0\"> </rect>\n",
       "<path class=\"bond-2 atom-3 atom-0\" d=\"M 148.125,139.916 L 170.078,123.163\" style=\"fill:none;fill-rule:evenodd;stroke:#000000;stroke-width:2.0px;stroke-linecap:butt;stroke-linejoin:miter;stroke-opacity:1\"/>\n",
       "<path class=\"bond-5 atom-6 atom-0\" d=\"M 167.189,95.4296 L 170.078,123.163\" style=\"fill:none;fill-rule:evenodd;stroke:#000000;stroke-width:2.0px;stroke-linecap:butt;stroke-linejoin:miter;stroke-opacity:1\"/>\n",
       "<path class=\"bond-5 atom-6 atom-0\" d=\"M 173.636,98.9633 L 175.658,118.377\" style=\"fill:none;fill-rule:evenodd;stroke:#000000;stroke-width:2.0px;stroke-linecap:butt;stroke-linejoin:miter;stroke-opacity:1\"/>\n",
       "<path class=\"bond-6 atom-7 atom-0\" d=\"M 197.233,128.745 L 170.078,123.163\" style=\"fill:none;fill-rule:evenodd;stroke:#000000;stroke-width:2.0px;stroke-linecap:butt;stroke-linejoin:miter;stroke-opacity:1\"/>\n",
       "<path class=\"bond-0 atom-1 atom-2\" d=\"M 105.949,154.362 L 111.799,146.116\" style=\"fill:none;fill-rule:evenodd;stroke:#000000;stroke-width:2.0px;stroke-linecap:butt;stroke-linejoin:miter;stroke-opacity:1\"/>\n",
       "<path class=\"bond-0 atom-1 atom-2\" d=\"M 111.799,146.116 L 117.648,137.87\" style=\"fill:none;fill-rule:evenodd;stroke:#0000FF;stroke-width:2.0px;stroke-linecap:butt;stroke-linejoin:miter;stroke-opacity:1\"/>\n",
       "<path class=\"bond-0 atom-1 atom-2\" d=\"M 112.635,155.386 L 116.73,149.614\" style=\"fill:none;fill-rule:evenodd;stroke:#000000;stroke-width:2.0px;stroke-linecap:butt;stroke-linejoin:miter;stroke-opacity:1\"/>\n",
       "<path class=\"bond-0 atom-1 atom-2\" d=\"M 116.73,149.614 L 120.824,143.841\" style=\"fill:none;fill-rule:evenodd;stroke:#0000FF;stroke-width:2.0px;stroke-linecap:butt;stroke-linejoin:miter;stroke-opacity:1\"/>\n",
       "<path class=\"bond-3 atom-4 atom-1\" d=\"M 82.9676,154.841 L 94.4583,154.602\" style=\"fill:none;fill-rule:evenodd;stroke:#0000FF;stroke-width:2.0px;stroke-linecap:butt;stroke-linejoin:miter;stroke-opacity:1\"/>\n",
       "<path class=\"bond-3 atom-4 atom-1\" d=\"M 94.4583,154.602 L 105.949,154.362\" style=\"fill:none;fill-rule:evenodd;stroke:#000000;stroke-width:2.0px;stroke-linecap:butt;stroke-linejoin:miter;stroke-opacity:1\"/>\n",
       "<path class=\"bond-16 atom-9 atom-1\" d=\"M 118.581,170.915 L 112.265,162.638\" style=\"fill:none;fill-rule:evenodd;stroke:#CCCC00;stroke-width:2.0px;stroke-linecap:butt;stroke-linejoin:miter;stroke-opacity:1\"/>\n",
       "<path class=\"bond-16 atom-9 atom-1\" d=\"M 112.265,162.638 L 105.949,154.362\" style=\"fill:none;fill-rule:evenodd;stroke:#000000;stroke-width:2.0px;stroke-linecap:butt;stroke-linejoin:miter;stroke-opacity:1\"/>\n",
       "<path class=\"bond-1 atom-2 atom-3\" d=\"M 126.677,133.293 L 137.401,136.605\" style=\"fill:none;fill-rule:evenodd;stroke:#0000FF;stroke-width:2.0px;stroke-linecap:butt;stroke-linejoin:miter;stroke-opacity:1\"/>\n",
       "<path class=\"bond-1 atom-2 atom-3\" d=\"M 137.401,136.605 L 148.125,139.916\" style=\"fill:none;fill-rule:evenodd;stroke:#000000;stroke-width:2.0px;stroke-linecap:butt;stroke-linejoin:miter;stroke-opacity:1\"/>\n",
       "<path class=\"bond-10 atom-11 atom-3\" d=\"M 148.703,167.455 L 148.125,139.916\" style=\"fill:none;fill-rule:evenodd;stroke:#000000;stroke-width:2.0px;stroke-linecap:butt;stroke-linejoin:miter;stroke-opacity:1\"/>\n",
       "<path class=\"bond-10 atom-11 atom-3\" d=\"M 142.571,163.451 L 142.167,144.174\" style=\"fill:none;fill-rule:evenodd;stroke:#000000;stroke-width:2.0px;stroke-linecap:butt;stroke-linejoin:miter;stroke-opacity:1\"/>\n",
       "<path class=\"bond-9 atom-10 atom-4\" d=\"M 50.4861,157.963 L 61.9752,154.94\" style=\"fill:none;fill-rule:evenodd;stroke:#000000;stroke-width:2.0px;stroke-linecap:butt;stroke-linejoin:miter;stroke-opacity:1\"/>\n",
       "<path class=\"bond-9 atom-10 atom-4\" d=\"M 61.9752,154.94 L 73.4644,151.917\" style=\"fill:none;fill-rule:evenodd;stroke:#0000FF;stroke-width:2.0px;stroke-linecap:butt;stroke-linejoin:miter;stroke-opacity:1\"/>\n",
       "<path class=\"bond-9 atom-10 atom-4\" d=\"M 50.4861,151.917 L 61.9752,154.94\" style=\"fill:none;fill-rule:evenodd;stroke:#000000;stroke-width:2.0px;stroke-linecap:butt;stroke-linejoin:miter;stroke-opacity:1\"/>\n",
       "<path class=\"bond-9 atom-10 atom-4\" d=\"M 61.9752,154.94 L 73.4644,157.963\" style=\"fill:none;fill-rule:evenodd;stroke:#0000FF;stroke-width:2.0px;stroke-linecap:butt;stroke-linejoin:miter;stroke-opacity:1\"/>\n",
       "<path class=\"bond-4 atom-5 atom-6\" d=\"M 187.669,86.3609 L 177.429,90.8953\" style=\"fill:none;fill-rule:evenodd;stroke:#0000FF;stroke-width:2.0px;stroke-linecap:butt;stroke-linejoin:miter;stroke-opacity:1\"/>\n",
       "<path class=\"bond-4 atom-5 atom-6\" d=\"M 177.429,90.8953 L 167.189,95.4296\" style=\"fill:none;fill-rule:evenodd;stroke:#000000;stroke-width:2.0px;stroke-linecap:butt;stroke-linejoin:miter;stroke-opacity:1\"/>\n",
       "<path class=\"bond-13 atom-14 atom-5\" d=\"M 197.811,57.1063 L 195.714,67.6611\" style=\"fill:none;fill-rule:evenodd;stroke:#000000;stroke-width:2.0px;stroke-linecap:butt;stroke-linejoin:miter;stroke-opacity:1\"/>\n",
       "<path class=\"bond-13 atom-14 atom-5\" d=\"M 195.714,67.6611 L 193.617,78.2159\" style=\"fill:none;fill-rule:evenodd;stroke:#0000FF;stroke-width:2.0px;stroke-linecap:butt;stroke-linejoin:miter;stroke-opacity:1\"/>\n",
       "<path class=\"bond-15 atom-5 atom-8\" d=\"M 197.167,89.45 L 204.132,97.0632\" style=\"fill:none;fill-rule:evenodd;stroke:#0000FF;stroke-width:2.0px;stroke-linecap:butt;stroke-linejoin:miter;stroke-opacity:1\"/>\n",
       "<path class=\"bond-15 atom-5 atom-8\" d=\"M 204.132,97.0632 L 211.098,104.676\" style=\"fill:none;fill-rule:evenodd;stroke:#000000;stroke-width:2.0px;stroke-linecap:butt;stroke-linejoin:miter;stroke-opacity:1\"/>\n",
       "<path class=\"bond-7 atom-8 atom-7\" d=\"M 211.098,104.676 L 197.233,128.745\" style=\"fill:none;fill-rule:evenodd;stroke:#000000;stroke-width:2.0px;stroke-linecap:butt;stroke-linejoin:miter;stroke-opacity:1\"/>\n",
       "<path class=\"bond-7 atom-8 atom-7\" d=\"M 203.78,105.269 L 194.074,122.117\" style=\"fill:none;fill-rule:evenodd;stroke:#000000;stroke-width:2.0px;stroke-linecap:butt;stroke-linejoin:miter;stroke-opacity:1\"/>\n",
       "<path class=\"bond-14 atom-15 atom-8\" d=\"M 238.636,101.593 L 211.098,104.676\" style=\"fill:none;fill-rule:evenodd;stroke:#000000;stroke-width:2.0px;stroke-linecap:butt;stroke-linejoin:miter;stroke-opacity:1\"/>\n",
       "<path class=\"bond-8 atom-9 atom-11\" d=\"M 126.82,174.912 L 137.761,171.183\" style=\"fill:none;fill-rule:evenodd;stroke:#CCCC00;stroke-width:2.0px;stroke-linecap:butt;stroke-linejoin:miter;stroke-opacity:1\"/>\n",
       "<path class=\"bond-8 atom-9 atom-11\" d=\"M 137.761,171.183 L 148.703,167.455\" style=\"fill:none;fill-rule:evenodd;stroke:#000000;stroke-width:2.0px;stroke-linecap:butt;stroke-linejoin:miter;stroke-opacity:1\"/>\n",
       "<path class=\"bond-11 atom-12 atom-10\" d=\"M 40.0774,136.722 L 45.2817,145.831\" style=\"fill:none;fill-rule:evenodd;stroke:#0000FF;stroke-width:2.0px;stroke-linecap:butt;stroke-linejoin:miter;stroke-opacity:1\"/>\n",
       "<path class=\"bond-11 atom-12 atom-10\" d=\"M 45.2817,145.831 L 50.4861,154.94\" style=\"fill:none;fill-rule:evenodd;stroke:#000000;stroke-width:2.0px;stroke-linecap:butt;stroke-linejoin:miter;stroke-opacity:1\"/>\n",
       "<path class=\"bond-12 atom-13 atom-10\" d=\"M 40.1548,172.589 L 45.3204,163.765\" style=\"fill:none;fill-rule:evenodd;stroke:#0000FF;stroke-width:2.0px;stroke-linecap:butt;stroke-linejoin:miter;stroke-opacity:1\"/>\n",
       "<path class=\"bond-12 atom-13 atom-10\" d=\"M 45.3204,163.765 L 50.4861,154.94\" style=\"fill:none;fill-rule:evenodd;stroke:#000000;stroke-width:2.0px;stroke-linecap:butt;stroke-linejoin:miter;stroke-opacity:1\"/>\n",
       "<path class=\"atom-2\" d=\"M 119.568 126.478 L 123.074 132.146 Q 123.422 132.705, 123.981 133.718 Q 124.541 134.73, 124.571 134.791 L 124.571 126.478 L 125.992 126.478 L 125.992 137.179 L 124.525 137.179 L 120.762 130.982 Q 120.324 130.256, 119.855 129.425 Q 119.402 128.594, 119.266 128.337 L 119.266 137.179 L 117.875 137.179 L 117.875 126.478 L 119.568 126.478 \" fill=\"#0000FF\"/>\n",
       "<path class=\"atom-4\" d=\"M 75.8505 149.589 L 79.357 155.257 Q 79.7046 155.817, 80.2639 156.829 Q 80.8231 157.842, 80.8533 157.902 L 80.8533 149.589 L 82.2741 149.589 L 82.2741 160.29 L 80.808 160.29 L 77.0445 154.093 Q 76.6062 153.368, 76.1377 152.537 Q 75.6842 151.705, 75.5482 151.448 L 75.5482 160.29 L 74.1577 160.29 L 74.1577 149.589 L 75.8505 149.589 \" fill=\"#0000FF\"/>\n",
       "<path class=\"atom-5\" d=\"M 190.051 78.9079 L 193.558 84.5758 Q 193.905 85.1351, 194.465 86.1477 Q 195.024 87.1604, 195.054 87.2208 L 195.054 78.9079 L 196.475 78.9079 L 196.475 89.6089 L 195.009 89.6089 L 191.245 83.412 Q 190.807 82.6865, 190.338 81.8552 Q 189.885 81.024, 189.749 80.767 L 189.749 89.6089 L 188.358 89.6089 L 188.358 78.9079 L 190.051 78.9079 \" fill=\"#0000FF\"/>\n",
       "<path class=\"atom-9\" d=\"M 119.68 179.988 Q 119.801 180.033, 120.299 180.245 Q 120.798 180.456, 121.342 180.592 Q 121.901 180.713, 122.446 180.713 Q 123.458 180.713, 124.048 180.23 Q 124.637 179.731, 124.637 178.869 Q 124.637 178.28, 124.335 177.917 Q 124.048 177.554, 123.594 177.358 Q 123.141 177.161, 122.385 176.935 Q 121.433 176.647, 120.859 176.375 Q 120.299 176.103, 119.891 175.529 Q 119.498 174.955, 119.498 173.987 Q 119.498 172.642, 120.405 171.811 Q 121.327 170.98, 123.141 170.98 Q 124.38 170.98, 125.786 171.569 L 125.438 172.733 Q 124.153 172.204, 123.186 172.204 Q 122.143 172.204, 121.569 172.642 Q 120.995 173.065, 121.01 173.806 Q 121.01 174.38, 121.297 174.728 Q 121.599 175.076, 122.022 175.272 Q 122.461 175.469, 123.186 175.695 Q 124.153 175.998, 124.728 176.3 Q 125.302 176.602, 125.71 177.222 Q 126.133 177.826, 126.133 178.869 Q 126.133 180.35, 125.136 181.152 Q 124.153 181.937, 122.506 181.937 Q 121.554 181.937, 120.828 181.726 Q 120.118 181.529, 119.272 181.182 L 119.68 179.988 \" fill=\"#CCCC00\"/>\n",
       "<path class=\"atom-12\" d=\"M 17.678 125.322 L 19.129 125.322 L 19.129 129.872 L 24.6004 129.872 L 24.6004 125.322 L 26.0514 125.322 L 26.0514 136.023 L 24.6004 136.023 L 24.6004 131.081 L 19.129 131.081 L 19.129 136.023 L 17.678 136.023 L 17.678 125.322 \" fill=\"#0000FF\"/>\n",
       "<path class=\"atom-12\" d=\"M 26.5701 135.648 Q 26.8295 134.98, 27.4479 134.611 Q 28.0664 134.231, 28.9243 134.231 Q 29.9917 134.231, 30.5902 134.81 Q 31.1887 135.389, 31.1887 136.416 Q 31.1887 137.464, 30.4107 138.441 Q 29.6425 139.419, 28.0465 140.576 L 31.3084 140.576 L 31.3084 141.374 L 26.5501 141.374 L 26.5501 140.706 Q 27.8669 139.768, 28.645 139.07 Q 29.4331 138.371, 29.8121 137.743 Q 30.1912 137.114, 30.1912 136.466 Q 30.1912 135.788, 29.852 135.409 Q 29.5129 135.029, 28.9243 135.029 Q 28.3557 135.029, 27.9766 135.259 Q 27.5976 135.488, 27.3282 135.997 L 26.5701 135.648 \" fill=\"#0000FF\"/>\n",
       "<path class=\"atom-12\" d=\"M 34.2557 125.322 L 37.7623 130.99 Q 38.1099 131.55, 38.6691 132.562 Q 39.2284 133.575, 39.2586 133.635 L 39.2586 125.322 L 40.6794 125.322 L 40.6794 136.023 L 39.2133 136.023 L 35.4498 129.827 Q 35.0115 129.101, 34.5429 128.27 Q 34.0895 127.438, 33.9535 127.182 L 33.9535 136.023 L 32.5629 136.023 L 32.5629 125.322 L 34.2557 125.322 \" fill=\"#0000FF\"/>\n",
       "<path class=\"atom-13\" d=\"M 17.678 173.275 L 19.129 173.275 L 19.129 177.825 L 24.6004 177.825 L 24.6004 173.275 L 26.0514 173.275 L 26.0514 183.976 L 24.6004 183.976 L 24.6004 179.034 L 19.129 179.034 L 19.129 183.976 L 17.678 183.976 L 17.678 173.275 \" fill=\"#0000FF\"/>\n",
       "<path class=\"atom-13\" d=\"M 26.5701 183.601 Q 26.8295 182.932, 27.4479 182.563 Q 28.0664 182.184, 28.9243 182.184 Q 29.9917 182.184, 30.5902 182.763 Q 31.1887 183.341, 31.1887 184.369 Q 31.1887 185.416, 30.4107 186.394 Q 29.6425 187.372, 28.0465 188.529 L 31.3084 188.529 L 31.3084 189.327 L 26.5501 189.327 L 26.5501 188.658 Q 27.8669 187.721, 28.645 187.022 Q 29.4331 186.324, 29.8121 185.696 Q 30.1912 185.067, 30.1912 184.419 Q 30.1912 183.74, 29.852 183.361 Q 29.5129 182.982, 28.9243 182.982 Q 28.3557 182.982, 27.9766 183.212 Q 27.5976 183.441, 27.3282 183.95 L 26.5701 183.601 \" fill=\"#0000FF\"/>\n",
       "<path class=\"atom-13\" d=\"M 34.2557 173.275 L 37.7623 178.943 Q 38.1099 179.502, 38.6691 180.515 Q 39.2284 181.528, 39.2586 181.588 L 39.2586 173.275 L 40.6794 173.275 L 40.6794 183.976 L 39.2133 183.976 L 35.4498 177.779 Q 35.0115 177.054, 34.5429 176.223 Q 34.0895 175.391, 33.9535 175.134 L 33.9535 183.976 L 32.5629 183.976 L 32.5629 173.275 L 34.2557 173.275 \" fill=\"#0000FF\"/>\n",
       "</svg>"
      ],
      "text/plain": [
       "<IPython.core.display.SVG object>"
      ]
     },
     "metadata": {},
     "output_type": "display_data"
    }
   ],
   "source": [
    "printMol(curr_mol, 250,250)"
   ]
  },
  {
   "cell_type": "code",
   "execution_count": 18,
   "id": "9bd85622",
   "metadata": {
    "ExecuteTime": {
     "end_time": "2021-11-16T12:05:39.985430Z",
     "start_time": "2021-11-16T12:05:39.884122Z"
    }
   },
   "outputs": [
    {
     "ename": "NameError",
     "evalue": "name 'mol' is not defined",
     "output_type": "error",
     "traceback": [
      "\u001b[0;31m---------------------------------------------------------------------------\u001b[0m",
      "\u001b[0;31mNameError\u001b[0m                                 Traceback (most recent call last)",
      "\u001b[0;32m/tmp/ipykernel_2676765/185112865.py\u001b[0m in \u001b[0;36m<module>\u001b[0;34m\u001b[0m\n\u001b[0;32m----> 1\u001b[0;31m \u001b[0mmgf\u001b[0m \u001b[0;34m=\u001b[0m \u001b[0mAllChem\u001b[0m\u001b[0;34m.\u001b[0m\u001b[0mGetMorganFingerprint\u001b[0m\u001b[0;34m(\u001b[0m\u001b[0mmol\u001b[0m\u001b[0;34m,\u001b[0m \u001b[0;36m3\u001b[0m\u001b[0;34m)\u001b[0m\u001b[0;34m\u001b[0m\u001b[0;34m\u001b[0m\u001b[0m\n\u001b[0m\u001b[1;32m      2\u001b[0m \u001b[0mprint\u001b[0m\u001b[0;34m(\u001b[0m\u001b[0mmgf\u001b[0m\u001b[0;34m)\u001b[0m\u001b[0;34m\u001b[0m\u001b[0;34m\u001b[0m\u001b[0m\n\u001b[1;32m      3\u001b[0m \u001b[0mprint\u001b[0m\u001b[0;34m(\u001b[0m\u001b[0mmgf\u001b[0m\u001b[0;34m.\u001b[0m\u001b[0mGetNonzeroElements\u001b[0m\u001b[0;34m(\u001b[0m\u001b[0;34m)\u001b[0m\u001b[0;34m)\u001b[0m\u001b[0;34m\u001b[0m\u001b[0;34m\u001b[0m\u001b[0m\n",
      "\u001b[0;31mNameError\u001b[0m: name 'mol' is not defined"
     ]
    }
   ],
   "source": [
    "mgf = AllChem.GetMorganFingerprint(mol, 3)\n",
    "print(mgf)\n",
    "print(mgf.GetNonzeroElements())"
   ]
  },
  {
   "cell_type": "code",
   "execution_count": 187,
   "id": "092740e4",
   "metadata": {
    "ExecuteTime": {
     "end_time": "2021-08-31T00:27:05.016093Z",
     "start_time": "2021-08-31T00:27:05.009070Z"
    }
   },
   "outputs": [],
   "source": [
    "curr_mol2 = next(rdmol_gen)\n"
   ]
  },
  {
   "cell_type": "code",
   "execution_count": 190,
   "id": "764837d3",
   "metadata": {
    "ExecuteTime": {
     "end_time": "2021-08-31T00:27:38.705809Z",
     "start_time": "2021-08-31T00:27:38.655539Z"
    }
   },
   "outputs": [
    {
     "name": "stdout",
     "output_type": "stream",
     "text": [
      "Chembl-id: CHEMBL440249\n",
      "#bits:     248\n",
      "Smiles:    CC(C)C[C@@H]1NC(=O)CNC(=O)[C@H](c2ccc(O)cc2)NC(=O)[C@@H]([C@@H](C)O)NC(=O)[C@H](c2ccc(O[C@H]3O[C@H](CO)[C@@H](O)[C@H](O)[C@@H]3O[C@H]3O[C@H](CO)[C@@H](O)[C@H](O)[C@@H]3O)cc2)NC(=O)[C@@H](CCCN)NC(=O)[C@H](Cc2ccccc2)NC(=O)[C@H]([C@@H](C)O)NC(=O)[C@@H](c2ccc(O)cc2)NC(=O)[C@H](c2ccc(O)cc2)NC(=O)[C@@H](C(C)C)NC(=O)[C@@H](CCCN)NC(=O)[C@@H](c2ccc(O)cc2)NC(=O)[C@@H](CNC(=O)[C@H](CC(N)=O)NC(=O)Cc2cccc3ccccc23)[C@@H](C(N)=O)OC(=O)[C@H](c2ccc(O)c(Cl)c2)NC(=O)[C@@H](C)NC1=O\n",
      "\n"
     ]
    },
    {
     "data": {
      "image/svg+xml": [
       "<svg xmlns=\"http://www.w3.org/2000/svg\" xmlns:rdkit=\"http://www.rdkit.org/xml\" xmlns:xlink=\"http://www.w3.org/1999/xlink\" version=\"1.1\" baseProfile=\"full\" xml:space=\"preserve\" width=\"650px\" height=\"650px\" viewBox=\"0 0 650 650\">\n",
       "<!-- END OF HEADER -->\n",
       "<rect style=\"opacity:1.0;fill:#FFFFFF;stroke:none\" width=\"650\" height=\"650\" x=\"0\" y=\"0\"> </rect>\n",
       "<path class=\"bond-0\" d=\"M 114.877,396.546 L 94.2648,408.607\" style=\"fill:none;fill-rule:evenodd;stroke:#000000;stroke-width:2px;stroke-linecap:butt;stroke-linejoin:miter;stroke-opacity:1\"/>\n",
       "<path class=\"bond-0\" d=\"M 109.373,394.233 L 94.9444,402.676\" style=\"fill:none;fill-rule:evenodd;stroke:#000000;stroke-width:2px;stroke-linecap:butt;stroke-linejoin:miter;stroke-opacity:1;stroke-dasharray:6,6\"/>\n",
       "<path class=\"bond-4\" d=\"M 114.877,396.546 L 114.735,372.665\" style=\"fill:none;fill-rule:evenodd;stroke:#000000;stroke-width:2px;stroke-linecap:butt;stroke-linejoin:miter;stroke-opacity:1\"/>\n",
       "<path class=\"bond-4\" d=\"M 110.08,392.992 L 109.981,376.275\" style=\"fill:none;fill-rule:evenodd;stroke:#000000;stroke-width:2px;stroke-linecap:butt;stroke-linejoin:miter;stroke-opacity:1;stroke-dasharray:6,6\"/>\n",
       "<path class=\"bond-98\" d=\"M 114.877,396.546 L 135.663,408.33\" style=\"fill:none;fill-rule:evenodd;stroke:#000000;stroke-width:2px;stroke-linecap:butt;stroke-linejoin:miter;stroke-opacity:1\"/>\n",
       "<path class=\"bond-1\" d=\"M 94.2648,408.607 L 73.5138,396.788\" style=\"fill:none;fill-rule:evenodd;stroke:#000000;stroke-width:2px;stroke-linecap:butt;stroke-linejoin:miter;stroke-opacity:1\"/>\n",
       "<path class=\"bond-1\" d=\"M 93.516,402.684 L 78.9904,394.41\" style=\"fill:none;fill-rule:evenodd;stroke:#000000;stroke-width:2px;stroke-linecap:butt;stroke-linejoin:miter;stroke-opacity:1;stroke-dasharray:6,6\"/>\n",
       "<path class=\"bond-2\" d=\"M 73.5138,396.788 L 73.3738,372.907\" style=\"fill:none;fill-rule:evenodd;stroke:#000000;stroke-width:2px;stroke-linecap:butt;stroke-linejoin:miter;stroke-opacity:1\"/>\n",
       "<path class=\"bond-2\" d=\"M 78.2689,393.177 L 78.1709,376.461\" style=\"fill:none;fill-rule:evenodd;stroke:#000000;stroke-width:2px;stroke-linecap:butt;stroke-linejoin:miter;stroke-opacity:1;stroke-dasharray:6,6\"/>\n",
       "<path class=\"bond-3\" d=\"M 73.3738,372.907 L 93.9846,360.845\" style=\"fill:none;fill-rule:evenodd;stroke:#000000;stroke-width:2px;stroke-linecap:butt;stroke-linejoin:miter;stroke-opacity:1\"/>\n",
       "<path class=\"bond-3\" d=\"M 78.8777,375.22 L 93.3053,366.777\" style=\"fill:none;fill-rule:evenodd;stroke:#000000;stroke-width:2px;stroke-linecap:butt;stroke-linejoin:miter;stroke-opacity:1;stroke-dasharray:6,6\"/>\n",
       "<path class=\"bond-5\" d=\"M 93.9846,360.845 L 114.735,372.665\" style=\"fill:none;fill-rule:evenodd;stroke:#000000;stroke-width:2px;stroke-linecap:butt;stroke-linejoin:miter;stroke-opacity:1\"/>\n",
       "<path class=\"bond-5\" d=\"M 94.7333,366.768 L 109.259,375.042\" style=\"fill:none;fill-rule:evenodd;stroke:#000000;stroke-width:2px;stroke-linecap:butt;stroke-linejoin:miter;stroke-opacity:1;stroke-dasharray:6,6\"/>\n",
       "<path class=\"bond-6\" d=\"M 426.402,453.207 L 406.18,465.913\" style=\"fill:none;fill-rule:evenodd;stroke:#000000;stroke-width:2px;stroke-linecap:butt;stroke-linejoin:miter;stroke-opacity:1\"/>\n",
       "<path class=\"bond-14\" d=\"M 426.402,453.207 L 433.202,447.604\" style=\"fill:none;fill-rule:evenodd;stroke:#000000;stroke-width:2px;stroke-linecap:butt;stroke-linejoin:miter;stroke-opacity:1\"/>\n",
       "<path class=\"bond-14\" d=\"M 433.202,447.604 L 440.002,442.001\" style=\"fill:none;fill-rule:evenodd;stroke:#0000FF;stroke-width:2px;stroke-linecap:butt;stroke-linejoin:miter;stroke-opacity:1\"/>\n",
       "<path class=\"bond-55\" d=\"M 424.465,454.604 L 428.619,460.361\" style=\"fill:none;fill-rule:evenodd;stroke:#000000;stroke-width:2px;stroke-linecap:butt;stroke-linejoin:miter;stroke-opacity:1\"/>\n",
       "<path class=\"bond-55\" d=\"M 428.619,460.361 L 432.773,466.117\" style=\"fill:none;fill-rule:evenodd;stroke:#FF0000;stroke-width:2px;stroke-linecap:butt;stroke-linejoin:miter;stroke-opacity:1\"/>\n",
       "<path class=\"bond-55\" d=\"M 428.339,451.81 L 432.492,457.566\" style=\"fill:none;fill-rule:evenodd;stroke:#000000;stroke-width:2px;stroke-linecap:butt;stroke-linejoin:miter;stroke-opacity:1\"/>\n",
       "<path class=\"bond-55\" d=\"M 432.492,457.566 L 436.646,463.322\" style=\"fill:none;fill-rule:evenodd;stroke:#FF0000;stroke-width:2px;stroke-linecap:butt;stroke-linejoin:miter;stroke-opacity:1\"/>\n",
       "<path class=\"bond-7\" d=\"M 406.18,465.913 L 398.79,469.327\" style=\"fill:none;fill-rule:evenodd;stroke:#000000;stroke-width:2px;stroke-linecap:butt;stroke-linejoin:miter;stroke-opacity:1\"/>\n",
       "<path class=\"bond-7\" d=\"M 398.79,469.327 L 391.4,472.741\" style=\"fill:none;fill-rule:evenodd;stroke:#0000FF;stroke-width:2px;stroke-linecap:butt;stroke-linejoin:miter;stroke-opacity:1\"/>\n",
       "<path class=\"bond-47\" d=\"M 406.18,465.913 L 418.504,485.375\" style=\"fill:none;fill-rule:evenodd;stroke:#000000;stroke-width:2px;stroke-linecap:butt;stroke-linejoin:miter;stroke-opacity:1\"/>\n",
       "<path class=\"bond-104\" d=\"M 377.601,478.098 L 369.66,480.594\" style=\"fill:none;fill-rule:evenodd;stroke:#0000FF;stroke-width:2px;stroke-linecap:butt;stroke-linejoin:miter;stroke-opacity:1\"/>\n",
       "<path class=\"bond-104\" d=\"M 369.66,480.594 L 361.72,483.09\" style=\"fill:none;fill-rule:evenodd;stroke:#000000;stroke-width:2px;stroke-linecap:butt;stroke-linejoin:miter;stroke-opacity:1\"/>\n",
       "<path class=\"bond-8\" d=\"M 500.818,334.774 L 501.93,324.898\" style=\"fill:none;fill-rule:evenodd;stroke:#000000;stroke-width:2px;stroke-linecap:butt;stroke-linejoin:miter;stroke-opacity:1\"/>\n",
       "<path class=\"bond-8\" d=\"M 501.93,324.898 L 503.043,315.023\" style=\"fill:none;fill-rule:evenodd;stroke:#0000FF;stroke-width:2px;stroke-linecap:butt;stroke-linejoin:miter;stroke-opacity:1\"/>\n",
       "<path class=\"bond-11\" d=\"M 500.818,334.774 L 495.131,357.967\" style=\"fill:none;fill-rule:evenodd;stroke:#000000;stroke-width:2px;stroke-linecap:butt;stroke-linejoin:miter;stroke-opacity:1\"/>\n",
       "<path class=\"bond-61\" d=\"M 500.399,337.125 L 507.945,338.469\" style=\"fill:none;fill-rule:evenodd;stroke:#000000;stroke-width:2px;stroke-linecap:butt;stroke-linejoin:miter;stroke-opacity:1\"/>\n",
       "<path class=\"bond-61\" d=\"M 507.945,338.469 L 515.491,339.812\" style=\"fill:none;fill-rule:evenodd;stroke:#FF0000;stroke-width:2px;stroke-linecap:butt;stroke-linejoin:miter;stroke-opacity:1\"/>\n",
       "<path class=\"bond-61\" d=\"M 501.237,332.423 L 508.782,333.766\" style=\"fill:none;fill-rule:evenodd;stroke:#000000;stroke-width:2px;stroke-linecap:butt;stroke-linejoin:miter;stroke-opacity:1\"/>\n",
       "<path class=\"bond-61\" d=\"M 508.782,333.766 L 516.328,335.11\" style=\"fill:none;fill-rule:evenodd;stroke:#FF0000;stroke-width:2px;stroke-linecap:butt;stroke-linejoin:miter;stroke-opacity:1\"/>\n",
       "<path class=\"bond-9\" d=\"M 503.427,307.062 L 503.268,297.113\" style=\"fill:none;fill-rule:evenodd;stroke:#0000FF;stroke-width:2px;stroke-linecap:butt;stroke-linejoin:miter;stroke-opacity:1\"/>\n",
       "<path class=\"bond-9\" d=\"M 503.268,297.113 L 503.109,287.165\" style=\"fill:none;fill-rule:evenodd;stroke:#000000;stroke-width:2px;stroke-linecap:butt;stroke-linejoin:miter;stroke-opacity:1\"/>\n",
       "<path class=\"bond-20\" d=\"M 503.109,287.165 L 499.675,263.532\" style=\"fill:none;fill-rule:evenodd;stroke:#000000;stroke-width:2px;stroke-linecap:butt;stroke-linejoin:miter;stroke-opacity:1\"/>\n",
       "<path class=\"bond-62\" d=\"M 503.109,287.165 L 518.979,285.889\" style=\"fill:none;fill-rule:evenodd;stroke:#000000;stroke-width:2px;stroke-linecap:butt;stroke-linejoin:miter;stroke-opacity:1\"/>\n",
       "<path class=\"bond-10\" d=\"M 475.143,401.236 L 479.755,392.729\" style=\"fill:none;fill-rule:evenodd;stroke:#000000;stroke-width:2px;stroke-linecap:butt;stroke-linejoin:miter;stroke-opacity:1\"/>\n",
       "<path class=\"bond-10\" d=\"M 479.755,392.729 L 484.368,384.223\" style=\"fill:none;fill-rule:evenodd;stroke:#0000FF;stroke-width:2px;stroke-linecap:butt;stroke-linejoin:miter;stroke-opacity:1\"/>\n",
       "<path class=\"bond-13\" d=\"M 475.143,401.236 L 461.168,420.602\" style=\"fill:none;fill-rule:evenodd;stroke:#000000;stroke-width:2px;stroke-linecap:butt;stroke-linejoin:miter;stroke-opacity:1\"/>\n",
       "<path class=\"bond-56\" d=\"M 473.872,403.258 L 480.101,407.172\" style=\"fill:none;fill-rule:evenodd;stroke:#000000;stroke-width:2px;stroke-linecap:butt;stroke-linejoin:miter;stroke-opacity:1\"/>\n",
       "<path class=\"bond-56\" d=\"M 480.101,407.172 L 486.33,411.087\" style=\"fill:none;fill-rule:evenodd;stroke:#FF0000;stroke-width:2px;stroke-linecap:butt;stroke-linejoin:miter;stroke-opacity:1\"/>\n",
       "<path class=\"bond-56\" d=\"M 476.414,399.214 L 482.643,403.128\" style=\"fill:none;fill-rule:evenodd;stroke:#000000;stroke-width:2px;stroke-linecap:butt;stroke-linejoin:miter;stroke-opacity:1\"/>\n",
       "<path class=\"bond-56\" d=\"M 482.643,403.128 L 488.872,407.043\" style=\"fill:none;fill-rule:evenodd;stroke:#FF0000;stroke-width:2px;stroke-linecap:butt;stroke-linejoin:miter;stroke-opacity:1\"/>\n",
       "<path class=\"bond-12\" d=\"M 488.064,376.263 L 491.597,367.115\" style=\"fill:none;fill-rule:evenodd;stroke:#0000FF;stroke-width:2px;stroke-linecap:butt;stroke-linejoin:miter;stroke-opacity:1\"/>\n",
       "<path class=\"bond-12\" d=\"M 491.597,367.115 L 495.131,357.967\" style=\"fill:none;fill-rule:evenodd;stroke:#000000;stroke-width:2px;stroke-linecap:butt;stroke-linejoin:miter;stroke-opacity:1\"/>\n",
       "<path class=\"bond-57\" d=\"M 495.131,357.967 L 500.414,381.48\" style=\"fill:none;fill-rule:evenodd;stroke:#000000;stroke-width:2px;stroke-linecap:butt;stroke-linejoin:miter;stroke-opacity:1\"/>\n",
       "<path class=\"bond-15\" d=\"M 461.168,420.602 L 454.866,427.321\" style=\"fill:none;fill-rule:evenodd;stroke:#000000;stroke-width:2px;stroke-linecap:butt;stroke-linejoin:miter;stroke-opacity:1\"/>\n",
       "<path class=\"bond-15\" d=\"M 454.866,427.321 L 448.564,434.04\" style=\"fill:none;fill-rule:evenodd;stroke:#0000FF;stroke-width:2px;stroke-linecap:butt;stroke-linejoin:miter;stroke-opacity:1\"/>\n",
       "<path class=\"bond-16\" d=\"M 203.496,449.636 L 196.792,443.741\" style=\"fill:none;fill-rule:evenodd;stroke:#000000;stroke-width:2px;stroke-linecap:butt;stroke-linejoin:miter;stroke-opacity:1\"/>\n",
       "<path class=\"bond-16\" d=\"M 196.792,443.741 L 190.088,437.845\" style=\"fill:none;fill-rule:evenodd;stroke:#0000FF;stroke-width:2px;stroke-linecap:butt;stroke-linejoin:miter;stroke-opacity:1\"/>\n",
       "<path class=\"bond-101\" d=\"M 203.496,449.636 L 223.298,462.982\" style=\"fill:none;fill-rule:evenodd;stroke:#000000;stroke-width:2px;stroke-linecap:butt;stroke-linejoin:miter;stroke-opacity:1\"/>\n",
       "<path class=\"bond-122\" d=\"M 203.496,449.636 L 188.738,468.687\" style=\"fill:none;fill-rule:evenodd;stroke:#000000;stroke-width:2px;stroke-linecap:butt;stroke-linejoin:miter;stroke-opacity:1\"/>\n",
       "<path class=\"bond-17\" d=\"M 182.062,429.885 L 175.927,422.909\" style=\"fill:none;fill-rule:evenodd;stroke:#0000FF;stroke-width:2px;stroke-linecap:butt;stroke-linejoin:miter;stroke-opacity:1\"/>\n",
       "<path class=\"bond-17\" d=\"M 175.927,422.909 L 169.792,415.932\" style=\"fill:none;fill-rule:evenodd;stroke:#000000;stroke-width:2px;stroke-linecap:butt;stroke-linejoin:miter;stroke-opacity:1\"/>\n",
       "<path class=\"bond-18\" d=\"M 169.792,415.932 L 156.446,396.13\" style=\"fill:none;fill-rule:evenodd;stroke:#000000;stroke-width:2px;stroke-linecap:butt;stroke-linejoin:miter;stroke-opacity:1\"/>\n",
       "<path class=\"bond-100\" d=\"M 168.333,414.041 L 162.629,418.443\" style=\"fill:none;fill-rule:evenodd;stroke:#000000;stroke-width:2px;stroke-linecap:butt;stroke-linejoin:miter;stroke-opacity:1\"/>\n",
       "<path class=\"bond-100\" d=\"M 162.629,418.443 L 156.924,422.844\" style=\"fill:none;fill-rule:evenodd;stroke:#FF0000;stroke-width:2px;stroke-linecap:butt;stroke-linejoin:miter;stroke-opacity:1\"/>\n",
       "<path class=\"bond-100\" d=\"M 171.251,417.823 L 165.547,422.224\" style=\"fill:none;fill-rule:evenodd;stroke:#000000;stroke-width:2px;stroke-linecap:butt;stroke-linejoin:miter;stroke-opacity:1\"/>\n",
       "<path class=\"bond-100\" d=\"M 165.547,422.224 L 159.842,426.626\" style=\"fill:none;fill-rule:evenodd;stroke:#FF0000;stroke-width:2px;stroke-linecap:butt;stroke-linejoin:miter;stroke-opacity:1\"/>\n",
       "<path class=\"bond-19\" d=\"M 156.446,396.13 L 152.091,387.446\" style=\"fill:none;fill-rule:evenodd;stroke:#000000;stroke-width:2px;stroke-linecap:butt;stroke-linejoin:miter;stroke-opacity:1\"/>\n",
       "<path class=\"bond-19\" d=\"M 152.091,387.446 L 147.735,378.762\" style=\"fill:none;fill-rule:evenodd;stroke:#0000FF;stroke-width:2px;stroke-linecap:butt;stroke-linejoin:miter;stroke-opacity:1\"/>\n",
       "<path class=\"bond-99\" d=\"M 156.446,396.13 L 135.663,408.33\" style=\"fill:none;fill-rule:evenodd;stroke:#000000;stroke-width:2px;stroke-linecap:butt;stroke-linejoin:miter;stroke-opacity:1\"/>\n",
       "<path class=\"bond-30\" d=\"M 144.347,370.802 L 141.099,361.522\" style=\"fill:none;fill-rule:evenodd;stroke:#0000FF;stroke-width:2px;stroke-linecap:butt;stroke-linejoin:miter;stroke-opacity:1\"/>\n",
       "<path class=\"bond-30\" d=\"M 141.099,361.522 L 137.852,352.242\" style=\"fill:none;fill-rule:evenodd;stroke:#000000;stroke-width:2px;stroke-linecap:butt;stroke-linejoin:miter;stroke-opacity:1\"/>\n",
       "<path class=\"bond-21\" d=\"M 499.675,263.532 L 497.017,254.022\" style=\"fill:none;fill-rule:evenodd;stroke:#000000;stroke-width:2px;stroke-linecap:butt;stroke-linejoin:miter;stroke-opacity:1\"/>\n",
       "<path class=\"bond-21\" d=\"M 497.017,254.022 L 494.36,244.512\" style=\"fill:none;fill-rule:evenodd;stroke:#0000FF;stroke-width:2px;stroke-linecap:butt;stroke-linejoin:miter;stroke-opacity:1\"/>\n",
       "<path class=\"bond-63\" d=\"M 500.169,265.869 L 507.657,264.285\" style=\"fill:none;fill-rule:evenodd;stroke:#000000;stroke-width:2px;stroke-linecap:butt;stroke-linejoin:miter;stroke-opacity:1\"/>\n",
       "<path class=\"bond-63\" d=\"M 507.657,264.285 L 515.144,262.702\" style=\"fill:none;fill-rule:evenodd;stroke:#FF0000;stroke-width:2px;stroke-linecap:butt;stroke-linejoin:miter;stroke-opacity:1\"/>\n",
       "<path class=\"bond-63\" d=\"M 499.181,261.196 L 506.668,259.612\" style=\"fill:none;fill-rule:evenodd;stroke:#000000;stroke-width:2px;stroke-linecap:butt;stroke-linejoin:miter;stroke-opacity:1\"/>\n",
       "<path class=\"bond-63\" d=\"M 506.668,259.612 L 514.156,258.029\" style=\"fill:none;fill-rule:evenodd;stroke:#FF0000;stroke-width:2px;stroke-linecap:butt;stroke-linejoin:miter;stroke-opacity:1\"/>\n",
       "<path class=\"bond-22\" d=\"M 491.562,236.551 L 487.747,227.547\" style=\"fill:none;fill-rule:evenodd;stroke:#0000FF;stroke-width:2px;stroke-linecap:butt;stroke-linejoin:miter;stroke-opacity:1\"/>\n",
       "<path class=\"bond-22\" d=\"M 487.747,227.547 L 483.933,218.542\" style=\"fill:none;fill-rule:evenodd;stroke:#000000;stroke-width:2px;stroke-linecap:butt;stroke-linejoin:miter;stroke-opacity:1\"/>\n",
       "<path class=\"bond-23\" d=\"M 483.933,218.542 L 471.882,197.925\" style=\"fill:none;fill-rule:evenodd;stroke:#000000;stroke-width:2px;stroke-linecap:butt;stroke-linejoin:miter;stroke-opacity:1\"/>\n",
       "<path class=\"bond-64\" d=\"M 483.933,218.542 L 506.941,217.432\" style=\"fill:none;fill-rule:evenodd;stroke:#000000;stroke-width:2px;stroke-linecap:butt;stroke-linejoin:miter;stroke-opacity:1\"/>\n",
       "<path class=\"bond-24\" d=\"M 471.882,197.925 L 466.124,190.461\" style=\"fill:none;fill-rule:evenodd;stroke:#000000;stroke-width:2px;stroke-linecap:butt;stroke-linejoin:miter;stroke-opacity:1\"/>\n",
       "<path class=\"bond-24\" d=\"M 466.124,190.461 L 460.365,182.998\" style=\"fill:none;fill-rule:evenodd;stroke:#FF0000;stroke-width:2px;stroke-linecap:butt;stroke-linejoin:miter;stroke-opacity:1\"/>\n",
       "<path class=\"bond-71\" d=\"M 473.217,199.905 L 479.28,195.819\" style=\"fill:none;fill-rule:evenodd;stroke:#000000;stroke-width:2px;stroke-linecap:butt;stroke-linejoin:miter;stroke-opacity:1\"/>\n",
       "<path class=\"bond-71\" d=\"M 479.28,195.819 L 485.342,191.733\" style=\"fill:none;fill-rule:evenodd;stroke:#FF0000;stroke-width:2px;stroke-linecap:butt;stroke-linejoin:miter;stroke-opacity:1\"/>\n",
       "<path class=\"bond-71\" d=\"M 470.548,195.945 L 476.61,191.858\" style=\"fill:none;fill-rule:evenodd;stroke:#000000;stroke-width:2px;stroke-linecap:butt;stroke-linejoin:miter;stroke-opacity:1\"/>\n",
       "<path class=\"bond-71\" d=\"M 476.61,191.858 L 482.673,187.772\" style=\"fill:none;fill-rule:evenodd;stroke:#FF0000;stroke-width:2px;stroke-linecap:butt;stroke-linejoin:miter;stroke-opacity:1\"/>\n",
       "<path class=\"bond-25\" d=\"M 453.577,175.301 L 446.992,168.716\" style=\"fill:none;fill-rule:evenodd;stroke:#FF0000;stroke-width:2px;stroke-linecap:butt;stroke-linejoin:miter;stroke-opacity:1\"/>\n",
       "<path class=\"bond-25\" d=\"M 446.992,168.716 L 440.407,162.132\" style=\"fill:none;fill-rule:evenodd;stroke:#000000;stroke-width:2px;stroke-linecap:butt;stroke-linejoin:miter;stroke-opacity:1\"/>\n",
       "<path class=\"bond-26\" d=\"M 440.407,162.132 L 421.5,147.544\" style=\"fill:none;fill-rule:evenodd;stroke:#000000;stroke-width:2px;stroke-linecap:butt;stroke-linejoin:miter;stroke-opacity:1\"/>\n",
       "<path class=\"bond-72\" d=\"M 440.407,162.132 L 456.285,144.005\" style=\"fill:none;fill-rule:evenodd;stroke:#000000;stroke-width:2px;stroke-linecap:butt;stroke-linejoin:miter;stroke-opacity:1\"/>\n",
       "<path class=\"bond-27\" d=\"M 421.5,147.544 L 400.883,135.494\" style=\"fill:none;fill-rule:evenodd;stroke:#000000;stroke-width:2px;stroke-linecap:butt;stroke-linejoin:miter;stroke-opacity:1\"/>\n",
       "<path class=\"bond-153\" d=\"M 421.5,147.544 L 427.367,124.171\" style=\"fill:none;fill-rule:evenodd;stroke:#000000;stroke-width:2px;stroke-linecap:butt;stroke-linejoin:miter;stroke-opacity:1\"/>\n",
       "<path class=\"bond-28\" d=\"M 400.883,135.494 L 393.338,132.297\" style=\"fill:none;fill-rule:evenodd;stroke:#000000;stroke-width:2px;stroke-linecap:butt;stroke-linejoin:miter;stroke-opacity:1\"/>\n",
       "<path class=\"bond-28\" d=\"M 393.338,132.297 L 385.793,129.1\" style=\"fill:none;fill-rule:evenodd;stroke:#0000FF;stroke-width:2px;stroke-linecap:butt;stroke-linejoin:miter;stroke-opacity:1\"/>\n",
       "<path class=\"bond-75\" d=\"M 403.018,136.564 L 406.302,130.015\" style=\"fill:none;fill-rule:evenodd;stroke:#000000;stroke-width:2px;stroke-linecap:butt;stroke-linejoin:miter;stroke-opacity:1\"/>\n",
       "<path class=\"bond-75\" d=\"M 406.302,130.015 L 409.585,123.466\" style=\"fill:none;fill-rule:evenodd;stroke:#FF0000;stroke-width:2px;stroke-linecap:butt;stroke-linejoin:miter;stroke-opacity:1\"/>\n",
       "<path class=\"bond-75\" d=\"M 398.748,134.423 L 402.032,127.874\" style=\"fill:none;fill-rule:evenodd;stroke:#000000;stroke-width:2px;stroke-linecap:butt;stroke-linejoin:miter;stroke-opacity:1\"/>\n",
       "<path class=\"bond-75\" d=\"M 402.032,127.874 L 405.316,121.326\" style=\"fill:none;fill-rule:evenodd;stroke:#FF0000;stroke-width:2px;stroke-linecap:butt;stroke-linejoin:miter;stroke-opacity:1\"/>\n",
       "<path class=\"bond-29\" d=\"M 371.994,124.25 L 363.943,122.001\" style=\"fill:none;fill-rule:evenodd;stroke:#0000FF;stroke-width:2px;stroke-linecap:butt;stroke-linejoin:miter;stroke-opacity:1\"/>\n",
       "<path class=\"bond-29\" d=\"M 363.943,122.001 L 355.893,119.752\" style=\"fill:none;fill-rule:evenodd;stroke:#000000;stroke-width:2px;stroke-linecap:butt;stroke-linejoin:miter;stroke-opacity:1\"/>\n",
       "<path class=\"bond-36\" d=\"M 355.893,119.752 L 332.26,116.317\" style=\"fill:none;fill-rule:evenodd;stroke:#000000;stroke-width:2px;stroke-linecap:butt;stroke-linejoin:miter;stroke-opacity:1\"/>\n",
       "<path class=\"bond-76\" d=\"M 355.893,119.752 L 374.948,106.807\" style=\"fill:none;fill-rule:evenodd;stroke:#000000;stroke-width:2px;stroke-linecap:butt;stroke-linejoin:miter;stroke-opacity:1\"/>\n",
       "<path class=\"bond-31\" d=\"M 137.852,352.242 L 132.912,328.877\" style=\"fill:none;fill-rule:evenodd;stroke:#000000;stroke-width:2px;stroke-linecap:butt;stroke-linejoin:miter;stroke-opacity:1\"/>\n",
       "<path class=\"bond-97\" d=\"M 137.21,349.942 L 129.869,351.993\" style=\"fill:none;fill-rule:evenodd;stroke:#000000;stroke-width:2px;stroke-linecap:butt;stroke-linejoin:miter;stroke-opacity:1\"/>\n",
       "<path class=\"bond-97\" d=\"M 129.869,351.993 L 122.527,354.044\" style=\"fill:none;fill-rule:evenodd;stroke:#FF0000;stroke-width:2px;stroke-linecap:butt;stroke-linejoin:miter;stroke-opacity:1\"/>\n",
       "<path class=\"bond-97\" d=\"M 138.495,354.542 L 131.154,356.593\" style=\"fill:none;fill-rule:evenodd;stroke:#000000;stroke-width:2px;stroke-linecap:butt;stroke-linejoin:miter;stroke-opacity:1\"/>\n",
       "<path class=\"bond-97\" d=\"M 131.154,356.593 L 123.813,358.644\" style=\"fill:none;fill-rule:evenodd;stroke:#FF0000;stroke-width:2px;stroke-linecap:butt;stroke-linejoin:miter;stroke-opacity:1\"/>\n",
       "<path class=\"bond-32\" d=\"M 132.912,328.877 L 132.116,318.965\" style=\"fill:none;fill-rule:evenodd;stroke:#000000;stroke-width:2px;stroke-linecap:butt;stroke-linejoin:miter;stroke-opacity:1\"/>\n",
       "<path class=\"bond-32\" d=\"M 132.116,318.965 L 131.32,309.054\" style=\"fill:none;fill-rule:evenodd;stroke:#0000FF;stroke-width:2px;stroke-linecap:butt;stroke-linejoin:miter;stroke-opacity:1\"/>\n",
       "<path class=\"bond-94\" d=\"M 132.912,328.877 L 111.709,340.33\" style=\"fill:none;fill-rule:evenodd;stroke:#000000;stroke-width:2px;stroke-linecap:butt;stroke-linejoin:miter;stroke-opacity:1\"/>\n",
       "<path class=\"bond-33\" d=\"M 131.191,301.094 L 131.67,291.157\" style=\"fill:none;fill-rule:evenodd;stroke:#0000FF;stroke-width:2px;stroke-linecap:butt;stroke-linejoin:miter;stroke-opacity:1\"/>\n",
       "<path class=\"bond-33\" d=\"M 131.67,291.157 L 132.148,281.22\" style=\"fill:none;fill-rule:evenodd;stroke:#000000;stroke-width:2px;stroke-linecap:butt;stroke-linejoin:miter;stroke-opacity:1\"/>\n",
       "<path class=\"bond-34\" d=\"M 132.148,281.22 L 136.337,257.708\" style=\"fill:none;fill-rule:evenodd;stroke:#000000;stroke-width:2px;stroke-linecap:butt;stroke-linejoin:miter;stroke-opacity:1\"/>\n",
       "<path class=\"bond-162\" d=\"M 132.415,278.847 L 124.782,277.986\" style=\"fill:none;fill-rule:evenodd;stroke:#000000;stroke-width:2px;stroke-linecap:butt;stroke-linejoin:miter;stroke-opacity:1\"/>\n",
       "<path class=\"bond-162\" d=\"M 124.782,277.986 L 117.149,277.126\" style=\"fill:none;fill-rule:evenodd;stroke:#FF0000;stroke-width:2px;stroke-linecap:butt;stroke-linejoin:miter;stroke-opacity:1\"/>\n",
       "<path class=\"bond-162\" d=\"M 131.88,283.593 L 124.247,282.733\" style=\"fill:none;fill-rule:evenodd;stroke:#000000;stroke-width:2px;stroke-linecap:butt;stroke-linejoin:miter;stroke-opacity:1\"/>\n",
       "<path class=\"bond-162\" d=\"M 124.247,282.733 L 116.614,281.872\" style=\"fill:none;fill-rule:evenodd;stroke:#FF0000;stroke-width:2px;stroke-linecap:butt;stroke-linejoin:miter;stroke-opacity:1\"/>\n",
       "<path class=\"bond-35\" d=\"M 136.337,257.708 L 139.292,248.308\" style=\"fill:none;fill-rule:evenodd;stroke:#000000;stroke-width:2px;stroke-linecap:butt;stroke-linejoin:miter;stroke-opacity:1\"/>\n",
       "<path class=\"bond-35\" d=\"M 139.292,248.308 L 142.246,238.908\" style=\"fill:none;fill-rule:evenodd;stroke:#0000FF;stroke-width:2px;stroke-linecap:butt;stroke-linejoin:miter;stroke-opacity:1\"/>\n",
       "<path class=\"bond-164\" d=\"M 136.337,257.708 L 113.645,253.747\" style=\"fill:none;fill-rule:evenodd;stroke:#000000;stroke-width:2px;stroke-linecap:butt;stroke-linejoin:miter;stroke-opacity:1\"/>\n",
       "<path class=\"bond-43\" d=\"M 145.336,230.947 L 149.425,222.097\" style=\"fill:none;fill-rule:evenodd;stroke:#0000FF;stroke-width:2px;stroke-linecap:butt;stroke-linejoin:miter;stroke-opacity:1\"/>\n",
       "<path class=\"bond-43\" d=\"M 149.425,222.097 L 153.513,213.247\" style=\"fill:none;fill-rule:evenodd;stroke:#000000;stroke-width:2px;stroke-linecap:butt;stroke-linejoin:miter;stroke-opacity:1\"/>\n",
       "<path class=\"bond-37\" d=\"M 332.26,116.317 L 323.771,116.182\" style=\"fill:none;fill-rule:evenodd;stroke:#000000;stroke-width:2px;stroke-linecap:butt;stroke-linejoin:miter;stroke-opacity:1\"/>\n",
       "<path class=\"bond-37\" d=\"M 323.771,116.182 L 315.282,116.046\" style=\"fill:none;fill-rule:evenodd;stroke:#0000FF;stroke-width:2px;stroke-linecap:butt;stroke-linejoin:miter;stroke-opacity:1\"/>\n",
       "<path class=\"bond-163\" d=\"M 334.641,116.509 L 335.246,108.978\" style=\"fill:none;fill-rule:evenodd;stroke:#000000;stroke-width:2px;stroke-linecap:butt;stroke-linejoin:miter;stroke-opacity:1\"/>\n",
       "<path class=\"bond-163\" d=\"M 335.246,108.978 L 335.851,101.446\" style=\"fill:none;fill-rule:evenodd;stroke:#FF0000;stroke-width:2px;stroke-linecap:butt;stroke-linejoin:miter;stroke-opacity:1\"/>\n",
       "<path class=\"bond-163\" d=\"M 329.88,116.126 L 330.485,108.595\" style=\"fill:none;fill-rule:evenodd;stroke:#000000;stroke-width:2px;stroke-linecap:butt;stroke-linejoin:miter;stroke-opacity:1\"/>\n",
       "<path class=\"bond-163\" d=\"M 330.485,108.595 L 331.09,101.064\" style=\"fill:none;fill-rule:evenodd;stroke:#FF0000;stroke-width:2px;stroke-linecap:butt;stroke-linejoin:miter;stroke-opacity:1\"/>\n",
       "<path class=\"bond-38\" d=\"M 301.483,116.713 L 293.067,117.662\" style=\"fill:none;fill-rule:evenodd;stroke:#0000FF;stroke-width:2px;stroke-linecap:butt;stroke-linejoin:miter;stroke-opacity:1\"/>\n",
       "<path class=\"bond-38\" d=\"M 293.067,117.662 L 284.651,118.61\" style=\"fill:none;fill-rule:evenodd;stroke:#000000;stroke-width:2px;stroke-linecap:butt;stroke-linejoin:miter;stroke-opacity:1\"/>\n",
       "<path class=\"bond-39\" d=\"M 284.651,118.61 L 261.458,124.295\" style=\"fill:none;fill-rule:evenodd;stroke:#000000;stroke-width:2px;stroke-linecap:butt;stroke-linejoin:miter;stroke-opacity:1\"/>\n",
       "<path class=\"bond-84\" d=\"M 284.651,118.61 L 280.471,94.8772\" style=\"fill:none;fill-rule:evenodd;stroke:#000000;stroke-width:2px;stroke-linecap:butt;stroke-linejoin:miter;stroke-opacity:1\"/>\n",
       "<path class=\"bond-40\" d=\"M 261.458,124.295 L 253.77,127.266\" style=\"fill:none;fill-rule:evenodd;stroke:#000000;stroke-width:2px;stroke-linecap:butt;stroke-linejoin:miter;stroke-opacity:1\"/>\n",
       "<path class=\"bond-40\" d=\"M 253.77,127.266 L 246.082,130.236\" style=\"fill:none;fill-rule:evenodd;stroke:#0000FF;stroke-width:2px;stroke-linecap:butt;stroke-linejoin:miter;stroke-opacity:1\"/>\n",
       "<path class=\"bond-88\" d=\"M 263.736,123.579 L 261.498,116.457\" style=\"fill:none;fill-rule:evenodd;stroke:#000000;stroke-width:2px;stroke-linecap:butt;stroke-linejoin:miter;stroke-opacity:1\"/>\n",
       "<path class=\"bond-88\" d=\"M 261.498,116.457 L 259.259,109.335\" style=\"fill:none;fill-rule:evenodd;stroke:#FF0000;stroke-width:2px;stroke-linecap:butt;stroke-linejoin:miter;stroke-opacity:1\"/>\n",
       "<path class=\"bond-88\" d=\"M 259.18,125.011 L 256.941,117.889\" style=\"fill:none;fill-rule:evenodd;stroke:#000000;stroke-width:2px;stroke-linecap:butt;stroke-linejoin:miter;stroke-opacity:1\"/>\n",
       "<path class=\"bond-88\" d=\"M 256.941,117.889 L 254.703,110.767\" style=\"fill:none;fill-rule:evenodd;stroke:#FF0000;stroke-width:2px;stroke-linecap:butt;stroke-linejoin:miter;stroke-opacity:1\"/>\n",
       "<path class=\"bond-41\" d=\"M 232.282,136.643 L 225.236,140.464\" style=\"fill:none;fill-rule:evenodd;stroke:#0000FF;stroke-width:2px;stroke-linecap:butt;stroke-linejoin:miter;stroke-opacity:1\"/>\n",
       "<path class=\"bond-41\" d=\"M 225.236,140.464 L 218.189,144.285\" style=\"fill:none;fill-rule:evenodd;stroke:#000000;stroke-width:2px;stroke-linecap:butt;stroke-linejoin:miter;stroke-opacity:1\"/>\n",
       "<path class=\"bond-42\" d=\"M 198.823,158.26 L 218.189,144.285\" style=\"fill:none;fill-rule:evenodd;stroke:#000000;stroke-width:2px;stroke-linecap:butt;stroke-linejoin:miter;stroke-opacity:1\"/>\n",
       "<path class=\"bond-45\" d=\"M 198.823,158.26 L 192.236,164.438\" style=\"fill:none;fill-rule:evenodd;stroke:#000000;stroke-width:2px;stroke-linecap:butt;stroke-linejoin:miter;stroke-opacity:1\"/>\n",
       "<path class=\"bond-45\" d=\"M 192.236,164.438 L 185.649,170.616\" style=\"fill:none;fill-rule:evenodd;stroke:#0000FF;stroke-width:2px;stroke-linecap:butt;stroke-linejoin:miter;stroke-opacity:1\"/>\n",
       "<path class=\"bond-92\" d=\"M 200.666,156.742 L 196.232,151.36\" style=\"fill:none;fill-rule:evenodd;stroke:#000000;stroke-width:2px;stroke-linecap:butt;stroke-linejoin:miter;stroke-opacity:1\"/>\n",
       "<path class=\"bond-92\" d=\"M 196.232,151.36 L 191.797,145.978\" style=\"fill:none;fill-rule:evenodd;stroke:#FF0000;stroke-width:2px;stroke-linecap:butt;stroke-linejoin:miter;stroke-opacity:1\"/>\n",
       "<path class=\"bond-92\" d=\"M 196.98,159.779 L 192.546,154.397\" style=\"fill:none;fill-rule:evenodd;stroke:#000000;stroke-width:2px;stroke-linecap:butt;stroke-linejoin:miter;stroke-opacity:1\"/>\n",
       "<path class=\"bond-92\" d=\"M 192.546,154.397 L 188.111,149.015\" style=\"fill:none;fill-rule:evenodd;stroke:#FF0000;stroke-width:2px;stroke-linecap:butt;stroke-linejoin:miter;stroke-opacity:1\"/>\n",
       "<path class=\"bond-89\" d=\"M 218.189,144.285 L 205.328,123.905\" style=\"fill:none;fill-rule:evenodd;stroke:#000000;stroke-width:2px;stroke-linecap:butt;stroke-linejoin:miter;stroke-opacity:1\"/>\n",
       "<path class=\"bond-44\" d=\"M 153.513,213.247 L 166.218,193.028\" style=\"fill:none;fill-rule:evenodd;stroke:#000000;stroke-width:2px;stroke-linecap:butt;stroke-linejoin:miter;stroke-opacity:1\"/>\n",
       "<path class=\"bond-93\" d=\"M 154.652,211.148 L 148.113,207.602\" style=\"fill:none;fill-rule:evenodd;stroke:#000000;stroke-width:2px;stroke-linecap:butt;stroke-linejoin:miter;stroke-opacity:1\"/>\n",
       "<path class=\"bond-93\" d=\"M 148.113,207.602 L 141.574,204.057\" style=\"fill:none;fill-rule:evenodd;stroke:#FF0000;stroke-width:2px;stroke-linecap:butt;stroke-linejoin:miter;stroke-opacity:1\"/>\n",
       "<path class=\"bond-93\" d=\"M 152.375,215.346 L 145.836,211.801\" style=\"fill:none;fill-rule:evenodd;stroke:#000000;stroke-width:2px;stroke-linecap:butt;stroke-linejoin:miter;stroke-opacity:1\"/>\n",
       "<path class=\"bond-93\" d=\"M 145.836,211.801 L 139.298,208.255\" style=\"fill:none;fill-rule:evenodd;stroke:#FF0000;stroke-width:2px;stroke-linecap:butt;stroke-linejoin:miter;stroke-opacity:1\"/>\n",
       "<path class=\"bond-46\" d=\"M 166.218,193.028 L 172.172,185.802\" style=\"fill:none;fill-rule:evenodd;stroke:#000000;stroke-width:2px;stroke-linecap:butt;stroke-linejoin:miter;stroke-opacity:1\"/>\n",
       "<path class=\"bond-46\" d=\"M 172.172,185.802 L 178.125,178.577\" style=\"fill:none;fill-rule:evenodd;stroke:#0000FF;stroke-width:2px;stroke-linecap:butt;stroke-linejoin:miter;stroke-opacity:1\"/>\n",
       "<path class=\"bond-172\" d=\"M 166.218,193.028 L 146.666,180.839\" style=\"fill:none;fill-rule:evenodd;stroke:#000000;stroke-width:2px;stroke-linecap:butt;stroke-linejoin:miter;stroke-opacity:1\"/>\n",
       "<path class=\"bond-48\" d=\"M 418.504,485.375 L 407.418,506.527\" style=\"fill:none;fill-rule:evenodd;stroke:#000000;stroke-width:2px;stroke-linecap:butt;stroke-linejoin:miter;stroke-opacity:1\"/>\n",
       "<path class=\"bond-48\" d=\"M 421.071,490.765 L 413.311,505.571\" style=\"fill:none;fill-rule:evenodd;stroke:#000000;stroke-width:2px;stroke-linecap:butt;stroke-linejoin:miter;stroke-opacity:1;stroke-dasharray:6,6\"/>\n",
       "<path class=\"bond-52\" d=\"M 418.504,485.375 L 442.364,484.399\" style=\"fill:none;fill-rule:evenodd;stroke:#000000;stroke-width:2px;stroke-linecap:butt;stroke-linejoin:miter;stroke-opacity:1\"/>\n",
       "<path class=\"bond-52\" d=\"M 422.278,490 L 438.98,489.317\" style=\"fill:none;fill-rule:evenodd;stroke:#000000;stroke-width:2px;stroke-linecap:butt;stroke-linejoin:miter;stroke-opacity:1;stroke-dasharray:6,6\"/>\n",
       "<path class=\"bond-49\" d=\"M 407.418,506.527 L 420.193,526.703\" style=\"fill:none;fill-rule:evenodd;stroke:#000000;stroke-width:2px;stroke-linecap:butt;stroke-linejoin:miter;stroke-opacity:1\"/>\n",
       "<path class=\"bond-49\" d=\"M 413.37,506.998 L 422.312,521.121\" style=\"fill:none;fill-rule:evenodd;stroke:#000000;stroke-width:2px;stroke-linecap:butt;stroke-linejoin:miter;stroke-opacity:1;stroke-dasharray:6,6\"/>\n",
       "<path class=\"bond-50\" d=\"M 420.193,526.703 L 444.055,525.727\" style=\"fill:none;fill-rule:evenodd;stroke:#000000;stroke-width:2px;stroke-linecap:butt;stroke-linejoin:miter;stroke-opacity:1\"/>\n",
       "<path class=\"bond-50\" d=\"M 423.577,521.784 L 440.28,521.101\" style=\"fill:none;fill-rule:evenodd;stroke:#000000;stroke-width:2px;stroke-linecap:butt;stroke-linejoin:miter;stroke-opacity:1;stroke-dasharray:6,6\"/>\n",
       "<path class=\"bond-51\" d=\"M 444.055,525.727 L 455.14,504.575\" style=\"fill:none;fill-rule:evenodd;stroke:#000000;stroke-width:2px;stroke-linecap:butt;stroke-linejoin:miter;stroke-opacity:1\"/>\n",
       "<path class=\"bond-51\" d=\"M 441.487,520.337 L 449.247,505.531\" style=\"fill:none;fill-rule:evenodd;stroke:#000000;stroke-width:2px;stroke-linecap:butt;stroke-linejoin:miter;stroke-opacity:1;stroke-dasharray:6,6\"/>\n",
       "<path class=\"bond-54\" d=\"M 444.055,525.727 L 447.905,531.808\" style=\"fill:none;fill-rule:evenodd;stroke:#000000;stroke-width:2px;stroke-linecap:butt;stroke-linejoin:miter;stroke-opacity:1\"/>\n",
       "<path class=\"bond-54\" d=\"M 447.905,531.808 L 451.756,537.889\" style=\"fill:none;fill-rule:evenodd;stroke:#FF0000;stroke-width:2px;stroke-linecap:butt;stroke-linejoin:miter;stroke-opacity:1\"/>\n",
       "<path class=\"bond-53\" d=\"M 455.14,504.575 L 442.364,484.399\" style=\"fill:none;fill-rule:evenodd;stroke:#000000;stroke-width:2px;stroke-linecap:butt;stroke-linejoin:miter;stroke-opacity:1\"/>\n",
       "<path class=\"bond-53\" d=\"M 449.189,504.104 L 440.245,489.98\" style=\"fill:none;fill-rule:evenodd;stroke:#000000;stroke-width:2px;stroke-linecap:butt;stroke-linejoin:miter;stroke-opacity:1;stroke-dasharray:6,6\"/>\n",
       "<path class=\"bond-58\" d=\"M 500.414,381.48 L 523.217,388.614\" style=\"fill:none;fill-rule:evenodd;stroke:#000000;stroke-width:2px;stroke-linecap:butt;stroke-linejoin:miter;stroke-opacity:1\"/>\n",
       "<path class=\"bond-59\" d=\"M 523.217,388.614 L 527.405,407.254\" style=\"fill:none;fill-rule:evenodd;stroke:#000000;stroke-width:2px;stroke-linecap:butt;stroke-linejoin:miter;stroke-opacity:1\"/>\n",
       "<path class=\"bond-60\" d=\"M 523.217,388.614 L 537.27,375.672\" style=\"fill:none;fill-rule:evenodd;stroke:#000000;stroke-width:2px;stroke-linecap:butt;stroke-linejoin:miter;stroke-opacity:1\"/>\n",
       "<path class=\"bond-65\" d=\"M 506.941,217.432 L 519.864,237.516\" style=\"fill:none;fill-rule:evenodd;stroke:#000000;stroke-width:2px;stroke-linecap:butt;stroke-linejoin:miter;stroke-opacity:1\"/>\n",
       "<path class=\"bond-65\" d=\"M 512.896,217.861 L 521.942,231.919\" style=\"fill:none;fill-rule:evenodd;stroke:#000000;stroke-width:2px;stroke-linecap:butt;stroke-linejoin:miter;stroke-opacity:1;stroke-dasharray:6,6\"/>\n",
       "<path class=\"bond-69\" d=\"M 506.941,217.432 L 517.871,196.201\" style=\"fill:none;fill-rule:evenodd;stroke:#000000;stroke-width:2px;stroke-linecap:butt;stroke-linejoin:miter;stroke-opacity:1\"/>\n",
       "<path class=\"bond-69\" d=\"M 512.827,216.434 L 520.478,201.571\" style=\"fill:none;fill-rule:evenodd;stroke:#000000;stroke-width:2px;stroke-linecap:butt;stroke-linejoin:miter;stroke-opacity:1;stroke-dasharray:6,6\"/>\n",
       "<path class=\"bond-66\" d=\"M 519.864,237.516 L 543.716,236.365\" style=\"fill:none;fill-rule:evenodd;stroke:#000000;stroke-width:2px;stroke-linecap:butt;stroke-linejoin:miter;stroke-opacity:1\"/>\n",
       "<path class=\"bond-66\" d=\"M 523.211,232.573 L 539.908,231.767\" style=\"fill:none;fill-rule:evenodd;stroke:#000000;stroke-width:2px;stroke-linecap:butt;stroke-linejoin:miter;stroke-opacity:1;stroke-dasharray:6,6\"/>\n",
       "<path class=\"bond-67\" d=\"M 543.716,236.365 L 554.647,215.134\" style=\"fill:none;fill-rule:evenodd;stroke:#000000;stroke-width:2px;stroke-linecap:butt;stroke-linejoin:miter;stroke-opacity:1\"/>\n",
       "<path class=\"bond-67\" d=\"M 541.109,230.994 L 548.761,216.132\" style=\"fill:none;fill-rule:evenodd;stroke:#000000;stroke-width:2px;stroke-linecap:butt;stroke-linejoin:miter;stroke-opacity:1;stroke-dasharray:6,6\"/>\n",
       "<path class=\"bond-68\" d=\"M 554.647,215.134 L 541.724,195.051\" style=\"fill:none;fill-rule:evenodd;stroke:#000000;stroke-width:2px;stroke-linecap:butt;stroke-linejoin:miter;stroke-opacity:1\"/>\n",
       "<path class=\"bond-68\" d=\"M 548.692,214.706 L 539.646,200.648\" style=\"fill:none;fill-rule:evenodd;stroke:#000000;stroke-width:2px;stroke-linecap:butt;stroke-linejoin:miter;stroke-opacity:1;stroke-dasharray:6,6\"/>\n",
       "<path class=\"bond-152\" d=\"M 554.647,215.134 L 560.605,214.846\" style=\"fill:none;fill-rule:evenodd;stroke:#000000;stroke-width:2px;stroke-linecap:butt;stroke-linejoin:miter;stroke-opacity:1\"/>\n",
       "<path class=\"bond-152\" d=\"M 560.605,214.846 L 566.563,214.559\" style=\"fill:none;fill-rule:evenodd;stroke:#FF0000;stroke-width:2px;stroke-linecap:butt;stroke-linejoin:miter;stroke-opacity:1\"/>\n",
       "<path class=\"bond-70\" d=\"M 541.724,195.051 L 517.871,196.201\" style=\"fill:none;fill-rule:evenodd;stroke:#000000;stroke-width:2px;stroke-linecap:butt;stroke-linejoin:miter;stroke-opacity:1\"/>\n",
       "<path class=\"bond-70\" d=\"M 538.376,199.994 L 521.679,200.799\" style=\"fill:none;fill-rule:evenodd;stroke:#000000;stroke-width:2px;stroke-linecap:butt;stroke-linejoin:miter;stroke-opacity:1;stroke-dasharray:6,6\"/>\n",
       "<path class=\"bond-151\" d=\"M 541.724,195.051 L 544.343,189.964\" style=\"fill:none;fill-rule:evenodd;stroke:#000000;stroke-width:2px;stroke-linecap:butt;stroke-linejoin:miter;stroke-opacity:1\"/>\n",
       "<path class=\"bond-151\" d=\"M 544.343,189.964 L 546.962,184.876\" style=\"fill:none;fill-rule:evenodd;stroke:#00CC00;stroke-width:2px;stroke-linecap:butt;stroke-linejoin:miter;stroke-opacity:1\"/>\n",
       "<path class=\"bond-73\" d=\"M 458.546,143.237 L 456.151,136.181\" style=\"fill:none;fill-rule:evenodd;stroke:#000000;stroke-width:2px;stroke-linecap:butt;stroke-linejoin:miter;stroke-opacity:1\"/>\n",
       "<path class=\"bond-73\" d=\"M 456.151,136.181 L 453.757,129.125\" style=\"fill:none;fill-rule:evenodd;stroke:#FF0000;stroke-width:2px;stroke-linecap:butt;stroke-linejoin:miter;stroke-opacity:1\"/>\n",
       "<path class=\"bond-73\" d=\"M 454.024,144.773 L 451.629,137.717\" style=\"fill:none;fill-rule:evenodd;stroke:#000000;stroke-width:2px;stroke-linecap:butt;stroke-linejoin:miter;stroke-opacity:1\"/>\n",
       "<path class=\"bond-73\" d=\"M 451.629,137.717 L 449.234,130.661\" style=\"fill:none;fill-rule:evenodd;stroke:#FF0000;stroke-width:2px;stroke-linecap:butt;stroke-linejoin:miter;stroke-opacity:1\"/>\n",
       "<path class=\"bond-74\" d=\"M 456.285,144.005 L 459.979,144.739\" style=\"fill:none;fill-rule:evenodd;stroke:#000000;stroke-width:2px;stroke-linecap:butt;stroke-linejoin:miter;stroke-opacity:1\"/>\n",
       "<path class=\"bond-74\" d=\"M 459.979,144.739 L 463.674,145.472\" style=\"fill:none;fill-rule:evenodd;stroke:#0000FF;stroke-width:2px;stroke-linecap:butt;stroke-linejoin:miter;stroke-opacity:1\"/>\n",
       "<path class=\"bond-77\" d=\"M 374.948,106.807 L 373.203,82.9893\" style=\"fill:none;fill-rule:evenodd;stroke:#000000;stroke-width:2px;stroke-linecap:butt;stroke-linejoin:miter;stroke-opacity:1\"/>\n",
       "<path class=\"bond-77\" d=\"M 379.45,102.885 L 378.228,86.2129\" style=\"fill:none;fill-rule:evenodd;stroke:#000000;stroke-width:2px;stroke-linecap:butt;stroke-linejoin:miter;stroke-opacity:1;stroke-dasharray:6,6\"/>\n",
       "<path class=\"bond-81\" d=\"M 374.948,106.807 L 396.446,117.206\" style=\"fill:none;fill-rule:evenodd;stroke:#000000;stroke-width:2px;stroke-linecap:butt;stroke-linejoin:miter;stroke-opacity:1\"/>\n",
       "<path class=\"bond-81\" d=\"M 380.253,104.067 L 395.301,111.346\" style=\"fill:none;fill-rule:evenodd;stroke:#000000;stroke-width:2px;stroke-linecap:butt;stroke-linejoin:miter;stroke-opacity:1;stroke-dasharray:6,6\"/>\n",
       "<path class=\"bond-78\" d=\"M 373.203,82.9893 L 392.958,69.5714\" style=\"fill:none;fill-rule:evenodd;stroke:#000000;stroke-width:2px;stroke-linecap:butt;stroke-linejoin:miter;stroke-opacity:1\"/>\n",
       "<path class=\"bond-78\" d=\"M 378.85,84.9276 L 392.678,75.5351\" style=\"fill:none;fill-rule:evenodd;stroke:#000000;stroke-width:2px;stroke-linecap:butt;stroke-linejoin:miter;stroke-opacity:1;stroke-dasharray:6,6\"/>\n",
       "<path class=\"bond-79\" d=\"M 392.958,69.5714 L 414.455,79.9692\" style=\"fill:none;fill-rule:evenodd;stroke:#000000;stroke-width:2px;stroke-linecap:butt;stroke-linejoin:miter;stroke-opacity:1\"/>\n",
       "<path class=\"bond-79\" d=\"M 394.103,75.4308 L 409.151,82.7092\" style=\"fill:none;fill-rule:evenodd;stroke:#000000;stroke-width:2px;stroke-linecap:butt;stroke-linejoin:miter;stroke-opacity:1;stroke-dasharray:6,6\"/>\n",
       "<path class=\"bond-80\" d=\"M 414.455,79.9692 L 416.2,103.786\" style=\"fill:none;fill-rule:evenodd;stroke:#000000;stroke-width:2px;stroke-linecap:butt;stroke-linejoin:miter;stroke-opacity:1\"/>\n",
       "<path class=\"bond-80\" d=\"M 409.953,83.8907 L 411.175,100.563\" style=\"fill:none;fill-rule:evenodd;stroke:#000000;stroke-width:2px;stroke-linecap:butt;stroke-linejoin:miter;stroke-opacity:1;stroke-dasharray:6,6\"/>\n",
       "<path class=\"bond-83\" d=\"M 414.455,79.9692 L 419.427,76.5916\" style=\"fill:none;fill-rule:evenodd;stroke:#000000;stroke-width:2px;stroke-linecap:butt;stroke-linejoin:miter;stroke-opacity:1\"/>\n",
       "<path class=\"bond-83\" d=\"M 419.427,76.5916 L 424.399,73.214\" style=\"fill:none;fill-rule:evenodd;stroke:#FF0000;stroke-width:2px;stroke-linecap:butt;stroke-linejoin:miter;stroke-opacity:1\"/>\n",
       "<path class=\"bond-82\" d=\"M 416.2,103.786 L 396.446,117.206\" style=\"fill:none;fill-rule:evenodd;stroke:#000000;stroke-width:2px;stroke-linecap:butt;stroke-linejoin:miter;stroke-opacity:1\"/>\n",
       "<path class=\"bond-82\" d=\"M 410.553,101.849 L 396.725,111.242\" style=\"fill:none;fill-rule:evenodd;stroke:#000000;stroke-width:2px;stroke-linecap:butt;stroke-linejoin:miter;stroke-opacity:1;stroke-dasharray:6,6\"/>\n",
       "<path class=\"bond-85\" d=\"M 280.471,94.8772 L 298.767,79.5091\" style=\"fill:none;fill-rule:evenodd;stroke:#000000;stroke-width:2px;stroke-linecap:butt;stroke-linejoin:miter;stroke-opacity:1\"/>\n",
       "<path class=\"bond-86\" d=\"M 298.767,79.5091 L 294.621,55.9768\" style=\"fill:none;fill-rule:evenodd;stroke:#000000;stroke-width:2px;stroke-linecap:butt;stroke-linejoin:miter;stroke-opacity:1\"/>\n",
       "<path class=\"bond-87\" d=\"M 294.621,55.9768 L 299.329,52.0221\" style=\"fill:none;fill-rule:evenodd;stroke:#000000;stroke-width:2px;stroke-linecap:butt;stroke-linejoin:miter;stroke-opacity:1\"/>\n",
       "<path class=\"bond-87\" d=\"M 299.329,52.0221 L 304.038,48.0674\" style=\"fill:none;fill-rule:evenodd;stroke:#0000FF;stroke-width:2px;stroke-linecap:butt;stroke-linejoin:miter;stroke-opacity:1\"/>\n",
       "<path class=\"bond-90\" d=\"M 205.328,123.905 L 186.238,124.646\" style=\"fill:none;fill-rule:evenodd;stroke:#000000;stroke-width:2px;stroke-linecap:butt;stroke-linejoin:miter;stroke-opacity:1\"/>\n",
       "<path class=\"bond-91\" d=\"M 205.328,123.905 L 214.228,107.001\" style=\"fill:none;fill-rule:evenodd;stroke:#000000;stroke-width:2px;stroke-linecap:butt;stroke-linejoin:miter;stroke-opacity:1\"/>\n",
       "<path class=\"bond-95\" d=\"M 111.709,340.33 L 111.49,347.888\" style=\"fill:none;fill-rule:evenodd;stroke:#000000;stroke-width:2px;stroke-linecap:butt;stroke-linejoin:miter;stroke-opacity:1\"/>\n",
       "<path class=\"bond-95\" d=\"M 111.49,347.888 L 111.272,355.447\" style=\"fill:none;fill-rule:evenodd;stroke:#FF0000;stroke-width:2px;stroke-linecap:butt;stroke-linejoin:miter;stroke-opacity:1\"/>\n",
       "<path class=\"bond-96\" d=\"M 111.709,340.33 L 95.4445,330.308\" style=\"fill:none;fill-rule:evenodd;stroke:#000000;stroke-width:2px;stroke-linecap:butt;stroke-linejoin:miter;stroke-opacity:1\"/>\n",
       "<path class=\"bond-102\" d=\"M 221.236,461.777 L 217.579,468.034\" style=\"fill:none;fill-rule:evenodd;stroke:#000000;stroke-width:2px;stroke-linecap:butt;stroke-linejoin:miter;stroke-opacity:1\"/>\n",
       "<path class=\"bond-102\" d=\"M 217.579,468.034 L 213.923,474.291\" style=\"fill:none;fill-rule:evenodd;stroke:#FF0000;stroke-width:2px;stroke-linecap:butt;stroke-linejoin:miter;stroke-opacity:1\"/>\n",
       "<path class=\"bond-102\" d=\"M 225.36,464.187 L 221.703,470.444\" style=\"fill:none;fill-rule:evenodd;stroke:#000000;stroke-width:2px;stroke-linecap:butt;stroke-linejoin:miter;stroke-opacity:1\"/>\n",
       "<path class=\"bond-102\" d=\"M 221.703,470.444 L 218.046,476.701\" style=\"fill:none;fill-rule:evenodd;stroke:#FF0000;stroke-width:2px;stroke-linecap:butt;stroke-linejoin:miter;stroke-opacity:1\"/>\n",
       "<path class=\"bond-103\" d=\"M 223.298,462.982 L 230.522,466.605\" style=\"fill:none;fill-rule:evenodd;stroke:#000000;stroke-width:2px;stroke-linecap:butt;stroke-linejoin:miter;stroke-opacity:1\"/>\n",
       "<path class=\"bond-103\" d=\"M 230.522,466.605 L 237.746,470.227\" style=\"fill:none;fill-rule:evenodd;stroke:#0000FF;stroke-width:2px;stroke-linecap:butt;stroke-linejoin:miter;stroke-opacity:1\"/>\n",
       "<path class=\"bond-112\" d=\"M 251.546,476.101 L 259.366,478.838\" style=\"fill:none;fill-rule:evenodd;stroke:#0000FF;stroke-width:2px;stroke-linecap:butt;stroke-linejoin:miter;stroke-opacity:1\"/>\n",
       "<path class=\"bond-112\" d=\"M 259.366,478.838 L 267.186,481.574\" style=\"fill:none;fill-rule:evenodd;stroke:#000000;stroke-width:2px;stroke-linecap:butt;stroke-linejoin:miter;stroke-opacity:1\"/>\n",
       "<path class=\"bond-105\" d=\"M 361.72,483.09 L 338.208,487.279\" style=\"fill:none;fill-rule:evenodd;stroke:#000000;stroke-width:2px;stroke-linecap:butt;stroke-linejoin:miter;stroke-opacity:1\"/>\n",
       "<path class=\"bond-106\" d=\"M 359.4,483.659 L 361.187,490.946\" style=\"fill:none;fill-rule:evenodd;stroke:#000000;stroke-width:2px;stroke-linecap:butt;stroke-linejoin:miter;stroke-opacity:1\"/>\n",
       "<path class=\"bond-106\" d=\"M 361.187,490.946 L 362.973,498.234\" style=\"fill:none;fill-rule:evenodd;stroke:#FF0000;stroke-width:2px;stroke-linecap:butt;stroke-linejoin:miter;stroke-opacity:1\"/>\n",
       "<path class=\"bond-106\" d=\"M 364.039,482.521 L 365.826,489.809\" style=\"fill:none;fill-rule:evenodd;stroke:#000000;stroke-width:2px;stroke-linecap:butt;stroke-linejoin:miter;stroke-opacity:1\"/>\n",
       "<path class=\"bond-106\" d=\"M 365.826,489.809 L 367.612,497.097\" style=\"fill:none;fill-rule:evenodd;stroke:#FF0000;stroke-width:2px;stroke-linecap:butt;stroke-linejoin:miter;stroke-opacity:1\"/>\n",
       "<path class=\"bond-107\" d=\"M 338.208,487.279 L 340.861,511.231\" style=\"fill:none;fill-rule:evenodd;stroke:#000000;stroke-width:2px;stroke-linecap:butt;stroke-linejoin:miter;stroke-opacity:1\"/>\n",
       "<path class=\"bond-110\" d=\"M 338.208,487.279 L 329.731,487.687\" style=\"fill:none;fill-rule:evenodd;stroke:#000000;stroke-width:2px;stroke-linecap:butt;stroke-linejoin:miter;stroke-opacity:1\"/>\n",
       "<path class=\"bond-110\" d=\"M 329.731,487.687 L 321.254,488.095\" style=\"fill:none;fill-rule:evenodd;stroke:#0000FF;stroke-width:2px;stroke-linecap:butt;stroke-linejoin:miter;stroke-opacity:1\"/>\n",
       "<path class=\"bond-108\" d=\"M 340.861,511.231 L 335.872,514.903\" style=\"fill:none;fill-rule:evenodd;stroke:#000000;stroke-width:2px;stroke-linecap:butt;stroke-linejoin:miter;stroke-opacity:1\"/>\n",
       "<path class=\"bond-108\" d=\"M 335.872,514.903 L 330.882,518.575\" style=\"fill:none;fill-rule:evenodd;stroke:#FF0000;stroke-width:2px;stroke-linecap:butt;stroke-linejoin:miter;stroke-opacity:1\"/>\n",
       "<path class=\"bond-109\" d=\"M 340.861,511.231 L 358.359,518.899\" style=\"fill:none;fill-rule:evenodd;stroke:#000000;stroke-width:2px;stroke-linecap:butt;stroke-linejoin:miter;stroke-opacity:1\"/>\n",
       "<path class=\"bond-111\" d=\"M 307.455,487.872 L 299.003,487.193\" style=\"fill:none;fill-rule:evenodd;stroke:#0000FF;stroke-width:2px;stroke-linecap:butt;stroke-linejoin:miter;stroke-opacity:1\"/>\n",
       "<path class=\"bond-111\" d=\"M 299.003,487.193 L 290.551,486.515\" style=\"fill:none;fill-rule:evenodd;stroke:#000000;stroke-width:2px;stroke-linecap:butt;stroke-linejoin:miter;stroke-opacity:1\"/>\n",
       "<path class=\"bond-113\" d=\"M 290.551,486.515 L 267.186,481.574\" style=\"fill:none;fill-rule:evenodd;stroke:#000000;stroke-width:2px;stroke-linecap:butt;stroke-linejoin:miter;stroke-opacity:1\"/>\n",
       "<path class=\"bond-114\" d=\"M 288.188,486.171 L 287.104,493.635\" style=\"fill:none;fill-rule:evenodd;stroke:#000000;stroke-width:2px;stroke-linecap:butt;stroke-linejoin:miter;stroke-opacity:1\"/>\n",
       "<path class=\"bond-114\" d=\"M 287.104,493.635 L 286.02,501.098\" style=\"fill:none;fill-rule:evenodd;stroke:#FF0000;stroke-width:2px;stroke-linecap:butt;stroke-linejoin:miter;stroke-opacity:1\"/>\n",
       "<path class=\"bond-114\" d=\"M 292.915,486.858 L 291.831,494.321\" style=\"fill:none;fill-rule:evenodd;stroke:#000000;stroke-width:2px;stroke-linecap:butt;stroke-linejoin:miter;stroke-opacity:1\"/>\n",
       "<path class=\"bond-114\" d=\"M 291.831,494.321 L 290.747,501.785\" style=\"fill:none;fill-rule:evenodd;stroke:#FF0000;stroke-width:2px;stroke-linecap:butt;stroke-linejoin:miter;stroke-opacity:1\"/>\n",
       "<path class=\"bond-115\" d=\"M 267.186,481.574 L 247.343,493.271\" style=\"fill:none;fill-rule:evenodd;stroke:#000000;stroke-width:2px;stroke-linecap:butt;stroke-linejoin:miter;stroke-opacity:1\"/>\n",
       "<path class=\"bond-116\" d=\"M 247.343,493.271 L 226.554,481.517\" style=\"fill:none;fill-rule:evenodd;stroke:#000000;stroke-width:2px;stroke-linecap:butt;stroke-linejoin:miter;stroke-opacity:1\"/>\n",
       "<path class=\"bond-116\" d=\"M 241.874,495.666 L 227.321,487.438\" style=\"fill:none;fill-rule:evenodd;stroke:#000000;stroke-width:2px;stroke-linecap:butt;stroke-linejoin:miter;stroke-opacity:1;stroke-dasharray:6,6\"/>\n",
       "<path class=\"bond-120\" d=\"M 247.343,493.271 L 247.558,517.151\" style=\"fill:none;fill-rule:evenodd;stroke:#000000;stroke-width:2px;stroke-linecap:butt;stroke-linejoin:miter;stroke-opacity:1\"/>\n",
       "<path class=\"bond-120\" d=\"M 242.599,496.896 L 242.75,513.612\" style=\"fill:none;fill-rule:evenodd;stroke:#000000;stroke-width:2px;stroke-linecap:butt;stroke-linejoin:miter;stroke-opacity:1;stroke-dasharray:6,6\"/>\n",
       "<path class=\"bond-117\" d=\"M 226.554,481.517 L 205.981,493.644\" style=\"fill:none;fill-rule:evenodd;stroke:#000000;stroke-width:2px;stroke-linecap:butt;stroke-linejoin:miter;stroke-opacity:1\"/>\n",
       "<path class=\"bond-117\" d=\"M 225.893,487.451 L 211.492,495.939\" style=\"fill:none;fill-rule:evenodd;stroke:#000000;stroke-width:2px;stroke-linecap:butt;stroke-linejoin:miter;stroke-opacity:1;stroke-dasharray:6,6\"/>\n",
       "<path class=\"bond-118\" d=\"M 205.981,493.644 L 206.196,517.523\" style=\"fill:none;fill-rule:evenodd;stroke:#000000;stroke-width:2px;stroke-linecap:butt;stroke-linejoin:miter;stroke-opacity:1\"/>\n",
       "<path class=\"bond-118\" d=\"M 210.789,497.183 L 210.94,513.898\" style=\"fill:none;fill-rule:evenodd;stroke:#000000;stroke-width:2px;stroke-linecap:butt;stroke-linejoin:miter;stroke-opacity:1;stroke-dasharray:6,6\"/>\n",
       "<path class=\"bond-119\" d=\"M 206.196,517.523 L 226.984,529.277\" style=\"fill:none;fill-rule:evenodd;stroke:#000000;stroke-width:2px;stroke-linecap:butt;stroke-linejoin:miter;stroke-opacity:1\"/>\n",
       "<path class=\"bond-119\" d=\"M 211.665,515.129 L 226.216,523.357\" style=\"fill:none;fill-rule:evenodd;stroke:#000000;stroke-width:2px;stroke-linecap:butt;stroke-linejoin:miter;stroke-opacity:1;stroke-dasharray:6,6\"/>\n",
       "<path class=\"bond-126\" d=\"M 206.196,517.523 L 197.775,522.51\" style=\"fill:none;fill-rule:evenodd;stroke:#000000;stroke-width:2px;stroke-linecap:butt;stroke-linejoin:miter;stroke-opacity:1\"/>\n",
       "<path class=\"bond-126\" d=\"M 197.775,522.51 L 189.354,527.496\" style=\"fill:none;fill-rule:evenodd;stroke:#FF0000;stroke-width:2px;stroke-linecap:butt;stroke-linejoin:miter;stroke-opacity:1\"/>\n",
       "<path class=\"bond-121\" d=\"M 226.984,529.277 L 247.558,517.151\" style=\"fill:none;fill-rule:evenodd;stroke:#000000;stroke-width:2px;stroke-linecap:butt;stroke-linejoin:miter;stroke-opacity:1\"/>\n",
       "<path class=\"bond-121\" d=\"M 227.645,523.344 L 242.047,514.855\" style=\"fill:none;fill-rule:evenodd;stroke:#000000;stroke-width:2px;stroke-linecap:butt;stroke-linejoin:miter;stroke-opacity:1;stroke-dasharray:6,6\"/>\n",
       "<path class=\"bond-123\" d=\"M 188.738,468.687 L 165.06,465.474\" style=\"fill:none;fill-rule:evenodd;stroke:#000000;stroke-width:2px;stroke-linecap:butt;stroke-linejoin:miter;stroke-opacity:1\"/>\n",
       "<path class=\"bond-124\" d=\"M 165.06,465.474 L 150.428,484.364\" style=\"fill:none;fill-rule:evenodd;stroke:#000000;stroke-width:2px;stroke-linecap:butt;stroke-linejoin:miter;stroke-opacity:1\"/>\n",
       "<path class=\"bond-125\" d=\"M 150.428,484.364 L 146.654,483.851\" style=\"fill:none;fill-rule:evenodd;stroke:#000000;stroke-width:2px;stroke-linecap:butt;stroke-linejoin:miter;stroke-opacity:1\"/>\n",
       "<path class=\"bond-125\" d=\"M 146.654,483.851 L 142.88,483.339\" style=\"fill:none;fill-rule:evenodd;stroke:#0000FF;stroke-width:2px;stroke-linecap:butt;stroke-linejoin:miter;stroke-opacity:1\"/>\n",
       "<path class=\"bond-127\" d=\"M 185.678,533.678 L 185.781,543.634\" style=\"fill:none;fill-rule:evenodd;stroke:#FF0000;stroke-width:2px;stroke-linecap:butt;stroke-linejoin:miter;stroke-opacity:1\"/>\n",
       "<path class=\"bond-127\" d=\"M 185.781,543.634 L 185.885,553.591\" style=\"fill:none;fill-rule:evenodd;stroke:#000000;stroke-width:2px;stroke-linecap:butt;stroke-linejoin:miter;stroke-opacity:1\"/>\n",
       "<path class=\"bond-128\" d=\"M 185.885,553.591 L 194.44,558.39\" style=\"fill:none;fill-rule:evenodd;stroke:#000000;stroke-width:2px;stroke-linecap:butt;stroke-linejoin:miter;stroke-opacity:1\"/>\n",
       "<path class=\"bond-128\" d=\"M 194.44,558.39 L 202.996,563.189\" style=\"fill:none;fill-rule:evenodd;stroke:#FF0000;stroke-width:2px;stroke-linecap:butt;stroke-linejoin:miter;stroke-opacity:1\"/>\n",
       "<path class=\"bond-132\" d=\"M 185.885,553.591 L 165.355,565.79\" style=\"fill:none;fill-rule:evenodd;stroke:#000000;stroke-width:2px;stroke-linecap:butt;stroke-linejoin:miter;stroke-opacity:1\"/>\n",
       "<path class=\"bond-129\" d=\"M 206.763,569.254 L 206.887,579.203\" style=\"fill:none;fill-rule:evenodd;stroke:#FF0000;stroke-width:2px;stroke-linecap:butt;stroke-linejoin:miter;stroke-opacity:1\"/>\n",
       "<path class=\"bond-129\" d=\"M 206.887,579.203 L 207.011,589.153\" style=\"fill:none;fill-rule:evenodd;stroke:#000000;stroke-width:2px;stroke-linecap:butt;stroke-linejoin:miter;stroke-opacity:1\"/>\n",
       "<path class=\"bond-130\" d=\"M 207.011,589.153 L 186.48,601.35\" style=\"fill:none;fill-rule:evenodd;stroke:#000000;stroke-width:2px;stroke-linecap:butt;stroke-linejoin:miter;stroke-opacity:1\"/>\n",
       "<path class=\"bond-137\" d=\"M 207.011,589.153 L 227.875,600.799\" style=\"fill:none;fill-rule:evenodd;stroke:#000000;stroke-width:2px;stroke-linecap:butt;stroke-linejoin:miter;stroke-opacity:1\"/>\n",
       "<path class=\"bond-131\" d=\"M 186.48,601.35 L 165.651,589.669\" style=\"fill:none;fill-rule:evenodd;stroke:#000000;stroke-width:2px;stroke-linecap:butt;stroke-linejoin:miter;stroke-opacity:1\"/>\n",
       "<path class=\"bond-136\" d=\"M 186.48,601.35 L 186.575,608.912\" style=\"fill:none;fill-rule:evenodd;stroke:#000000;stroke-width:2px;stroke-linecap:butt;stroke-linejoin:miter;stroke-opacity:1\"/>\n",
       "<path class=\"bond-136\" d=\"M 186.575,608.912 L 186.669,616.474\" style=\"fill:none;fill-rule:evenodd;stroke:#FF0000;stroke-width:2px;stroke-linecap:butt;stroke-linejoin:miter;stroke-opacity:1\"/>\n",
       "<path class=\"bond-133\" d=\"M 165.651,589.669 L 165.355,565.79\" style=\"fill:none;fill-rule:evenodd;stroke:#000000;stroke-width:2px;stroke-linecap:butt;stroke-linejoin:miter;stroke-opacity:1\"/>\n",
       "<path class=\"bond-135\" d=\"M 165.651,589.669 L 160.789,592.558\" style=\"fill:none;fill-rule:evenodd;stroke:#000000;stroke-width:2px;stroke-linecap:butt;stroke-linejoin:miter;stroke-opacity:1\"/>\n",
       "<path class=\"bond-135\" d=\"M 160.789,592.558 L 155.927,595.446\" style=\"fill:none;fill-rule:evenodd;stroke:#FF0000;stroke-width:2px;stroke-linecap:butt;stroke-linejoin:miter;stroke-opacity:1\"/>\n",
       "<path class=\"bond-134\" d=\"M 165.355,565.79 L 156.805,560.972\" style=\"fill:none;fill-rule:evenodd;stroke:#000000;stroke-width:2px;stroke-linecap:butt;stroke-linejoin:miter;stroke-opacity:1\"/>\n",
       "<path class=\"bond-134\" d=\"M 156.805,560.972 L 148.255,556.154\" style=\"fill:none;fill-rule:evenodd;stroke:#FF0000;stroke-width:2px;stroke-linecap:butt;stroke-linejoin:miter;stroke-opacity:1\"/>\n",
       "<path class=\"bond-139\" d=\"M 140.82,556.254 L 132.391,561.231\" style=\"fill:none;fill-rule:evenodd;stroke:#FF0000;stroke-width:2px;stroke-linecap:butt;stroke-linejoin:miter;stroke-opacity:1\"/>\n",
       "<path class=\"bond-139\" d=\"M 132.391,561.231 L 123.963,566.208\" style=\"fill:none;fill-rule:evenodd;stroke:#000000;stroke-width:2px;stroke-linecap:butt;stroke-linejoin:miter;stroke-opacity:1\"/>\n",
       "<path class=\"bond-138\" d=\"M 227.875,600.799 L 232.741,597.899\" style=\"fill:none;fill-rule:evenodd;stroke:#000000;stroke-width:2px;stroke-linecap:butt;stroke-linejoin:miter;stroke-opacity:1\"/>\n",
       "<path class=\"bond-138\" d=\"M 232.741,597.899 L 237.607,594.999\" style=\"fill:none;fill-rule:evenodd;stroke:#FF0000;stroke-width:2px;stroke-linecap:butt;stroke-linejoin:miter;stroke-opacity:1\"/>\n",
       "<path class=\"bond-140\" d=\"M 123.963,566.208 L 115.828,571.282\" style=\"fill:none;fill-rule:evenodd;stroke:#000000;stroke-width:2px;stroke-linecap:butt;stroke-linejoin:miter;stroke-opacity:1\"/>\n",
       "<path class=\"bond-140\" d=\"M 115.828,571.282 L 107.694,576.356\" style=\"fill:none;fill-rule:evenodd;stroke:#FF0000;stroke-width:2px;stroke-linecap:butt;stroke-linejoin:miter;stroke-opacity:1\"/>\n",
       "<path class=\"bond-144\" d=\"M 123.963,566.208 L 124.312,542.655\" style=\"fill:none;fill-rule:evenodd;stroke:#000000;stroke-width:2px;stroke-linecap:butt;stroke-linejoin:miter;stroke-opacity:1\"/>\n",
       "<path class=\"bond-141\" d=\"M 100.259,576.575 L 91.7199,571.754\" style=\"fill:none;fill-rule:evenodd;stroke:#FF0000;stroke-width:2px;stroke-linecap:butt;stroke-linejoin:miter;stroke-opacity:1\"/>\n",
       "<path class=\"bond-141\" d=\"M 91.7199,571.754 L 83.1808,566.933\" style=\"fill:none;fill-rule:evenodd;stroke:#000000;stroke-width:2px;stroke-linecap:butt;stroke-linejoin:miter;stroke-opacity:1\"/>\n",
       "<path class=\"bond-142\" d=\"M 83.1808,566.933 L 82.95,543.053\" style=\"fill:none;fill-rule:evenodd;stroke:#000000;stroke-width:2px;stroke-linecap:butt;stroke-linejoin:miter;stroke-opacity:1\"/>\n",
       "<path class=\"bond-149\" d=\"M 83.1808,566.933 L 62.6289,579.121\" style=\"fill:none;fill-rule:evenodd;stroke:#000000;stroke-width:2px;stroke-linecap:butt;stroke-linejoin:miter;stroke-opacity:1\"/>\n",
       "<path class=\"bond-143\" d=\"M 82.95,543.053 L 103.515,530.914\" style=\"fill:none;fill-rule:evenodd;stroke:#000000;stroke-width:2px;stroke-linecap:butt;stroke-linejoin:miter;stroke-opacity:1\"/>\n",
       "<path class=\"bond-148\" d=\"M 82.95,543.053 L 79.5433,541.13\" style=\"fill:none;fill-rule:evenodd;stroke:#000000;stroke-width:2px;stroke-linecap:butt;stroke-linejoin:miter;stroke-opacity:1\"/>\n",
       "<path class=\"bond-148\" d=\"M 79.5433,541.13 L 76.1366,539.207\" style=\"fill:none;fill-rule:evenodd;stroke:#FF0000;stroke-width:2px;stroke-linecap:butt;stroke-linejoin:miter;stroke-opacity:1\"/>\n",
       "<path class=\"bond-145\" d=\"M 103.515,530.914 L 124.312,542.655\" style=\"fill:none;fill-rule:evenodd;stroke:#000000;stroke-width:2px;stroke-linecap:butt;stroke-linejoin:miter;stroke-opacity:1\"/>\n",
       "<path class=\"bond-147\" d=\"M 103.515,530.914 L 103.442,523.352\" style=\"fill:none;fill-rule:evenodd;stroke:#000000;stroke-width:2px;stroke-linecap:butt;stroke-linejoin:miter;stroke-opacity:1\"/>\n",
       "<path class=\"bond-147\" d=\"M 103.442,523.352 L 103.37,515.791\" style=\"fill:none;fill-rule:evenodd;stroke:#FF0000;stroke-width:2px;stroke-linecap:butt;stroke-linejoin:miter;stroke-opacity:1\"/>\n",
       "<path class=\"bond-146\" d=\"M 124.312,542.655 L 127.748,540.683\" style=\"fill:none;fill-rule:evenodd;stroke:#000000;stroke-width:2px;stroke-linecap:butt;stroke-linejoin:miter;stroke-opacity:1\"/>\n",
       "<path class=\"bond-146\" d=\"M 127.748,540.683 L 131.185,538.71\" style=\"fill:none;fill-rule:evenodd;stroke:#FF0000;stroke-width:2px;stroke-linecap:butt;stroke-linejoin:miter;stroke-opacity:1\"/>\n",
       "<path class=\"bond-150\" d=\"M 62.6289,579.121 L 62.7121,586.683\" style=\"fill:none;fill-rule:evenodd;stroke:#000000;stroke-width:2px;stroke-linecap:butt;stroke-linejoin:miter;stroke-opacity:1\"/>\n",
       "<path class=\"bond-150\" d=\"M 62.7121,586.683 L 62.7953,594.244\" style=\"fill:none;fill-rule:evenodd;stroke:#FF0000;stroke-width:2px;stroke-linecap:butt;stroke-linejoin:miter;stroke-opacity:1\"/>\n",
       "<path class=\"bond-154\" d=\"M 427.367,124.171 L 435.404,121.874\" style=\"fill:none;fill-rule:evenodd;stroke:#000000;stroke-width:2px;stroke-linecap:butt;stroke-linejoin:miter;stroke-opacity:1\"/>\n",
       "<path class=\"bond-154\" d=\"M 435.404,121.874 L 443.441,119.577\" style=\"fill:none;fill-rule:evenodd;stroke:#0000FF;stroke-width:2px;stroke-linecap:butt;stroke-linejoin:miter;stroke-opacity:1\"/>\n",
       "<path class=\"bond-155\" d=\"M 451.339,113.625 L 453.748,104.028\" style=\"fill:none;fill-rule:evenodd;stroke:#0000FF;stroke-width:2px;stroke-linecap:butt;stroke-linejoin:miter;stroke-opacity:1\"/>\n",
       "<path class=\"bond-155\" d=\"M 453.748,104.028 L 456.158,94.4315\" style=\"fill:none;fill-rule:evenodd;stroke:#000000;stroke-width:2px;stroke-linecap:butt;stroke-linejoin:miter;stroke-opacity:1\"/>\n",
       "<path class=\"bond-156\" d=\"M 457.819,92.7157 L 452.814,87.8706\" style=\"fill:none;fill-rule:evenodd;stroke:#000000;stroke-width:2px;stroke-linecap:butt;stroke-linejoin:miter;stroke-opacity:1\"/>\n",
       "<path class=\"bond-156\" d=\"M 452.814,87.8706 L 447.809,83.0255\" style=\"fill:none;fill-rule:evenodd;stroke:#FF0000;stroke-width:2px;stroke-linecap:butt;stroke-linejoin:miter;stroke-opacity:1\"/>\n",
       "<path class=\"bond-156\" d=\"M 454.497,96.1472 L 449.492,91.3022\" style=\"fill:none;fill-rule:evenodd;stroke:#000000;stroke-width:2px;stroke-linecap:butt;stroke-linejoin:miter;stroke-opacity:1\"/>\n",
       "<path class=\"bond-156\" d=\"M 449.492,91.3022 L 444.487,86.4571\" style=\"fill:none;fill-rule:evenodd;stroke:#FF0000;stroke-width:2px;stroke-linecap:butt;stroke-linejoin:miter;stroke-opacity:1\"/>\n",
       "<path class=\"bond-157\" d=\"M 456.158,94.4315 L 479.133,87.8658\" style=\"fill:none;fill-rule:evenodd;stroke:#000000;stroke-width:2px;stroke-linecap:butt;stroke-linejoin:miter;stroke-opacity:1\"/>\n",
       "<path class=\"bond-158\" d=\"M 479.133,87.8658 L 485.665,94.1775\" style=\"fill:none;fill-rule:evenodd;stroke:#000000;stroke-width:2px;stroke-linecap:butt;stroke-linejoin:miter;stroke-opacity:1\"/>\n",
       "<path class=\"bond-158\" d=\"M 485.665,94.1775 L 492.197,100.489\" style=\"fill:none;fill-rule:evenodd;stroke:#0000FF;stroke-width:2px;stroke-linecap:butt;stroke-linejoin:miter;stroke-opacity:1\"/>\n",
       "<path class=\"bond-161\" d=\"M 479.133,87.8658 L 484.88,64.6742\" style=\"fill:none;fill-rule:evenodd;stroke:#000000;stroke-width:2px;stroke-linecap:butt;stroke-linejoin:miter;stroke-opacity:1\"/>\n",
       "<path class=\"bond-159\" d=\"M 503.215,102.498 L 511.252,100.202\" style=\"fill:none;fill-rule:evenodd;stroke:#0000FF;stroke-width:2px;stroke-linecap:butt;stroke-linejoin:miter;stroke-opacity:1\"/>\n",
       "<path class=\"bond-159\" d=\"M 511.252,100.202 L 519.289,97.9053\" style=\"fill:none;fill-rule:evenodd;stroke:#000000;stroke-width:2px;stroke-linecap:butt;stroke-linejoin:miter;stroke-opacity:1\"/>\n",
       "<path class=\"bond-160\" d=\"M 521.606,98.4846 L 523.426,91.2073\" style=\"fill:none;fill-rule:evenodd;stroke:#000000;stroke-width:2px;stroke-linecap:butt;stroke-linejoin:miter;stroke-opacity:1\"/>\n",
       "<path class=\"bond-160\" d=\"M 523.426,91.2073 L 525.245,83.93\" style=\"fill:none;fill-rule:evenodd;stroke:#FF0000;stroke-width:2px;stroke-linecap:butt;stroke-linejoin:miter;stroke-opacity:1\"/>\n",
       "<path class=\"bond-160\" d=\"M 516.972,97.3261 L 518.792,90.0487\" style=\"fill:none;fill-rule:evenodd;stroke:#000000;stroke-width:2px;stroke-linecap:butt;stroke-linejoin:miter;stroke-opacity:1\"/>\n",
       "<path class=\"bond-160\" d=\"M 518.792,90.0487 L 520.612,82.7714\" style=\"fill:none;fill-rule:evenodd;stroke:#FF0000;stroke-width:2px;stroke-linecap:butt;stroke-linejoin:miter;stroke-opacity:1\"/>\n",
       "<path class=\"bond-183\" d=\"M 519.289,97.9053 L 536.472,114.509\" style=\"fill:none;fill-rule:evenodd;stroke:#000000;stroke-width:2px;stroke-linecap:butt;stroke-linejoin:miter;stroke-opacity:1\"/>\n",
       "<path class=\"bond-180\" d=\"M 484.88,64.6742 L 467.678,48.0898\" style=\"fill:none;fill-rule:evenodd;stroke:#000000;stroke-width:2px;stroke-linecap:butt;stroke-linejoin:miter;stroke-opacity:1\"/>\n",
       "<path class=\"bond-165\" d=\"M 113.645,253.747 L 105.439,231.32\" style=\"fill:none;fill-rule:evenodd;stroke:#000000;stroke-width:2px;stroke-linecap:butt;stroke-linejoin:miter;stroke-opacity:1\"/>\n",
       "<path class=\"bond-165\" d=\"M 107.929,252.024 L 102.185,236.325\" style=\"fill:none;fill-rule:evenodd;stroke:#000000;stroke-width:2px;stroke-linecap:butt;stroke-linejoin:miter;stroke-opacity:1;stroke-dasharray:6,6\"/>\n",
       "<path class=\"bond-169\" d=\"M 113.645,253.747 L 98.3261,272.067\" style=\"fill:none;fill-rule:evenodd;stroke:#000000;stroke-width:2px;stroke-linecap:butt;stroke-linejoin:miter;stroke-opacity:1\"/>\n",
       "<path class=\"bond-169\" d=\"M 107.683,253.432 L 96.9599,266.255\" style=\"fill:none;fill-rule:evenodd;stroke:#000000;stroke-width:2px;stroke-linecap:butt;stroke-linejoin:miter;stroke-opacity:1;stroke-dasharray:6,6\"/>\n",
       "<path class=\"bond-166\" d=\"M 105.439,231.32 L 81.9151,227.214\" style=\"fill:none;fill-rule:evenodd;stroke:#000000;stroke-width:2px;stroke-linecap:butt;stroke-linejoin:miter;stroke-opacity:1\"/>\n",
       "<path class=\"bond-166\" d=\"M 101.09,235.409 L 84.6226,232.535\" style=\"fill:none;fill-rule:evenodd;stroke:#000000;stroke-width:2px;stroke-linecap:butt;stroke-linejoin:miter;stroke-opacity:1;stroke-dasharray:6,6\"/>\n",
       "<path class=\"bond-167\" d=\"M 81.9151,227.214 L 66.5948,245.534\" style=\"fill:none;fill-rule:evenodd;stroke:#000000;stroke-width:2px;stroke-linecap:butt;stroke-linejoin:miter;stroke-opacity:1\"/>\n",
       "<path class=\"bond-167\" d=\"M 83.2809,233.026 L 72.5567,245.85\" style=\"fill:none;fill-rule:evenodd;stroke:#000000;stroke-width:2px;stroke-linecap:butt;stroke-linejoin:miter;stroke-opacity:1;stroke-dasharray:6,6\"/>\n",
       "<path class=\"bond-168\" d=\"M 66.5948,245.534 L 74.8002,267.961\" style=\"fill:none;fill-rule:evenodd;stroke:#000000;stroke-width:2px;stroke-linecap:butt;stroke-linejoin:miter;stroke-opacity:1\"/>\n",
       "<path class=\"bond-168\" d=\"M 72.311,247.257 L 78.0548,262.956\" style=\"fill:none;fill-rule:evenodd;stroke:#000000;stroke-width:2px;stroke-linecap:butt;stroke-linejoin:miter;stroke-opacity:1;stroke-dasharray:6,6\"/>\n",
       "<path class=\"bond-171\" d=\"M 66.5948,245.534 L 60.7685,244.517\" style=\"fill:none;fill-rule:evenodd;stroke:#000000;stroke-width:2px;stroke-linecap:butt;stroke-linejoin:miter;stroke-opacity:1\"/>\n",
       "<path class=\"bond-171\" d=\"M 60.7685,244.517 L 54.9421,243.499\" style=\"fill:none;fill-rule:evenodd;stroke:#FF0000;stroke-width:2px;stroke-linecap:butt;stroke-linejoin:miter;stroke-opacity:1\"/>\n",
       "<path class=\"bond-170\" d=\"M 74.8002,267.961 L 98.3261,272.067\" style=\"fill:none;fill-rule:evenodd;stroke:#000000;stroke-width:2px;stroke-linecap:butt;stroke-linejoin:miter;stroke-opacity:1\"/>\n",
       "<path class=\"bond-170\" d=\"M 79.1503,263.872 L 95.6184,266.746\" style=\"fill:none;fill-rule:evenodd;stroke:#000000;stroke-width:2px;stroke-linecap:butt;stroke-linejoin:miter;stroke-opacity:1;stroke-dasharray:6,6\"/>\n",
       "<path class=\"bond-173\" d=\"M 146.666,180.839 L 147.475,156.971\" style=\"fill:none;fill-rule:evenodd;stroke:#000000;stroke-width:2px;stroke-linecap:butt;stroke-linejoin:miter;stroke-opacity:1\"/>\n",
       "<path class=\"bond-173\" d=\"M 142.014,177.097 L 142.58,160.389\" style=\"fill:none;fill-rule:evenodd;stroke:#000000;stroke-width:2px;stroke-linecap:butt;stroke-linejoin:miter;stroke-opacity:1;stroke-dasharray:6,6\"/>\n",
       "<path class=\"bond-177\" d=\"M 146.666,180.839 L 125.592,192.073\" style=\"fill:none;fill-rule:evenodd;stroke:#000000;stroke-width:2px;stroke-linecap:butt;stroke-linejoin:miter;stroke-opacity:1\"/>\n",
       "<path class=\"bond-177\" d=\"M 141.258,178.309 L 126.506,186.173\" style=\"fill:none;fill-rule:evenodd;stroke:#000000;stroke-width:2px;stroke-linecap:butt;stroke-linejoin:miter;stroke-opacity:1;stroke-dasharray:6,6\"/>\n",
       "<path class=\"bond-174\" d=\"M 147.475,156.971 L 127.209,144.338\" style=\"fill:none;fill-rule:evenodd;stroke:#000000;stroke-width:2px;stroke-linecap:butt;stroke-linejoin:miter;stroke-opacity:1\"/>\n",
       "<path class=\"bond-174\" d=\"M 141.908,159.129 L 127.722,150.286\" style=\"fill:none;fill-rule:evenodd;stroke:#000000;stroke-width:2px;stroke-linecap:butt;stroke-linejoin:miter;stroke-opacity:1;stroke-dasharray:6,6\"/>\n",
       "<path class=\"bond-175\" d=\"M 127.209,144.338 L 106.135,155.571\" style=\"fill:none;fill-rule:evenodd;stroke:#000000;stroke-width:2px;stroke-linecap:butt;stroke-linejoin:miter;stroke-opacity:1\"/>\n",
       "<path class=\"bond-175\" d=\"M 126.295,150.238 L 111.543,158.101\" style=\"fill:none;fill-rule:evenodd;stroke:#000000;stroke-width:2px;stroke-linecap:butt;stroke-linejoin:miter;stroke-opacity:1;stroke-dasharray:6,6\"/>\n",
       "<path class=\"bond-176\" d=\"M 106.135,155.571 L 105.326,179.438\" style=\"fill:none;fill-rule:evenodd;stroke:#000000;stroke-width:2px;stroke-linecap:butt;stroke-linejoin:miter;stroke-opacity:1\"/>\n",
       "<path class=\"bond-176\" d=\"M 110.787,159.313 L 110.221,176.02\" style=\"fill:none;fill-rule:evenodd;stroke:#000000;stroke-width:2px;stroke-linecap:butt;stroke-linejoin:miter;stroke-opacity:1;stroke-dasharray:6,6\"/>\n",
       "<path class=\"bond-179\" d=\"M 106.135,155.571 L 101.222,152.508\" style=\"fill:none;fill-rule:evenodd;stroke:#000000;stroke-width:2px;stroke-linecap:butt;stroke-linejoin:miter;stroke-opacity:1\"/>\n",
       "<path class=\"bond-179\" d=\"M 101.222,152.508 L 96.3079,149.445\" style=\"fill:none;fill-rule:evenodd;stroke:#FF0000;stroke-width:2px;stroke-linecap:butt;stroke-linejoin:miter;stroke-opacity:1\"/>\n",
       "<path class=\"bond-178\" d=\"M 105.326,179.438 L 125.592,192.073\" style=\"fill:none;fill-rule:evenodd;stroke:#000000;stroke-width:2px;stroke-linecap:butt;stroke-linejoin:miter;stroke-opacity:1\"/>\n",
       "<path class=\"bond-178\" d=\"M 110.893,177.28 L 125.079,186.124\" style=\"fill:none;fill-rule:evenodd;stroke:#000000;stroke-width:2px;stroke-linecap:butt;stroke-linejoin:miter;stroke-opacity:1;stroke-dasharray:6,6\"/>\n",
       "<path class=\"bond-181\" d=\"M 469.996,48.6643 L 471.801,41.3822\" style=\"fill:none;fill-rule:evenodd;stroke:#000000;stroke-width:2px;stroke-linecap:butt;stroke-linejoin:miter;stroke-opacity:1\"/>\n",
       "<path class=\"bond-181\" d=\"M 471.801,41.3822 L 473.605,34.1001\" style=\"fill:none;fill-rule:evenodd;stroke:#FF0000;stroke-width:2px;stroke-linecap:butt;stroke-linejoin:miter;stroke-opacity:1\"/>\n",
       "<path class=\"bond-181\" d=\"M 465.36,47.5152 L 467.165,40.2332\" style=\"fill:none;fill-rule:evenodd;stroke:#000000;stroke-width:2px;stroke-linecap:butt;stroke-linejoin:miter;stroke-opacity:1\"/>\n",
       "<path class=\"bond-181\" d=\"M 467.165,40.2332 L 468.97,32.9511\" style=\"fill:none;fill-rule:evenodd;stroke:#FF0000;stroke-width:2px;stroke-linecap:butt;stroke-linejoin:miter;stroke-opacity:1\"/>\n",
       "<path class=\"bond-182\" d=\"M 467.678,48.0898 L 464.143,49.1077\" style=\"fill:none;fill-rule:evenodd;stroke:#000000;stroke-width:2px;stroke-linecap:butt;stroke-linejoin:miter;stroke-opacity:1\"/>\n",
       "<path class=\"bond-182\" d=\"M 464.143,49.1077 L 460.608,50.1257\" style=\"fill:none;fill-rule:evenodd;stroke:#0000FF;stroke-width:2px;stroke-linecap:butt;stroke-linejoin:miter;stroke-opacity:1\"/>\n",
       "<path class=\"bond-184\" d=\"M 536.472,114.509 L 559.447,107.943\" style=\"fill:none;fill-rule:evenodd;stroke:#000000;stroke-width:2px;stroke-linecap:butt;stroke-linejoin:miter;stroke-opacity:1\"/>\n",
       "<path class=\"bond-185\" d=\"M 559.447,107.943 L 565.234,84.5734\" style=\"fill:none;fill-rule:evenodd;stroke:#000000;stroke-width:2px;stroke-linecap:butt;stroke-linejoin:miter;stroke-opacity:1\"/>\n",
       "<path class=\"bond-185\" d=\"M 564.951,105.586 L 569.002,89.2269\" style=\"fill:none;fill-rule:evenodd;stroke:#000000;stroke-width:2px;stroke-linecap:butt;stroke-linejoin:miter;stroke-opacity:1;stroke-dasharray:6,6\"/>\n",
       "<path class=\"bond-188\" d=\"M 559.447,107.943 L 576.538,124.577\" style=\"fill:none;fill-rule:evenodd;stroke:#000000;stroke-width:2px;stroke-linecap:butt;stroke-linejoin:miter;stroke-opacity:1\"/>\n",
       "<path class=\"bond-188\" d=\"M 565.342,107.016 L 577.306,118.659\" style=\"fill:none;fill-rule:evenodd;stroke:#000000;stroke-width:2px;stroke-linecap:butt;stroke-linejoin:miter;stroke-opacity:1;stroke-dasharray:6,6\"/>\n",
       "<path class=\"bond-186\" d=\"M 565.234,84.5734 L 588.174,78.0921\" style=\"fill:none;fill-rule:evenodd;stroke:#000000;stroke-width:2px;stroke-linecap:butt;stroke-linejoin:miter;stroke-opacity:1\"/>\n",
       "<path class=\"bond-186\" d=\"M 569.974,88.1975 L 586.032,83.6606\" style=\"fill:none;fill-rule:evenodd;stroke:#000000;stroke-width:2px;stroke-linecap:butt;stroke-linejoin:miter;stroke-opacity:1;stroke-dasharray:6,6\"/>\n",
       "<path class=\"bond-187\" d=\"M 588.174,78.0921 L 605.335,94.9918\" style=\"fill:none;fill-rule:evenodd;stroke:#000000;stroke-width:2px;stroke-linecap:butt;stroke-linejoin:miter;stroke-opacity:1\"/>\n",
       "<path class=\"bond-187\" d=\"M 587.397,84.0301 L 599.41,95.8599\" style=\"fill:none;fill-rule:evenodd;stroke:#000000;stroke-width:2px;stroke-linecap:butt;stroke-linejoin:miter;stroke-opacity:1;stroke-dasharray:6,6\"/>\n",
       "<path class=\"bond-189\" d=\"M 605.335,94.9918 L 599.478,118.096\" style=\"fill:none;fill-rule:evenodd;stroke:#000000;stroke-width:2px;stroke-linecap:butt;stroke-linejoin:miter;stroke-opacity:1\"/>\n",
       "<path class=\"bond-189\" d=\"M 599.827,97.2837 L 595.727,113.457\" style=\"fill:none;fill-rule:evenodd;stroke:#000000;stroke-width:2px;stroke-linecap:butt;stroke-linejoin:miter;stroke-opacity:1;stroke-dasharray:6,6\"/>\n",
       "<path class=\"bond-190\" d=\"M 576.538,124.577 L 599.478,118.096\" style=\"fill:none;fill-rule:evenodd;stroke:#000000;stroke-width:2px;stroke-linecap:butt;stroke-linejoin:miter;stroke-opacity:1\"/>\n",
       "<path class=\"bond-190\" d=\"M 578.68,119.009 L 594.738,114.472\" style=\"fill:none;fill-rule:evenodd;stroke:#000000;stroke-width:2px;stroke-linecap:butt;stroke-linejoin:miter;stroke-opacity:1;stroke-dasharray:6,6\"/>\n",
       "<path class=\"bond-194\" d=\"M 576.538,124.577 L 570.681,147.681\" style=\"fill:none;fill-rule:evenodd;stroke:#000000;stroke-width:2px;stroke-linecap:butt;stroke-linejoin:miter;stroke-opacity:1\"/>\n",
       "<path class=\"bond-194\" d=\"M 580.289,129.216 L 576.189,145.389\" style=\"fill:none;fill-rule:evenodd;stroke:#000000;stroke-width:2px;stroke-linecap:butt;stroke-linejoin:miter;stroke-opacity:1;stroke-dasharray:6,6\"/>\n",
       "<path class=\"bond-191\" d=\"M 599.478,118.096 L 616.559,134.717\" style=\"fill:none;fill-rule:evenodd;stroke:#000000;stroke-width:2px;stroke-linecap:butt;stroke-linejoin:miter;stroke-opacity:1\"/>\n",
       "<path class=\"bond-191\" d=\"M 598.709,124.012 L 610.666,135.647\" style=\"fill:none;fill-rule:evenodd;stroke:#000000;stroke-width:2px;stroke-linecap:butt;stroke-linejoin:miter;stroke-opacity:1;stroke-dasharray:6,6\"/>\n",
       "<path class=\"bond-192\" d=\"M 616.559,134.717 L 610.702,157.821\" style=\"fill:none;fill-rule:evenodd;stroke:#000000;stroke-width:2px;stroke-linecap:butt;stroke-linejoin:miter;stroke-opacity:1\"/>\n",
       "<path class=\"bond-192\" d=\"M 611.051,137.009 L 606.951,153.182\" style=\"fill:none;fill-rule:evenodd;stroke:#000000;stroke-width:2px;stroke-linecap:butt;stroke-linejoin:miter;stroke-opacity:1;stroke-dasharray:6,6\"/>\n",
       "<path class=\"bond-193\" d=\"M 610.702,157.821 L 587.762,164.302\" style=\"fill:none;fill-rule:evenodd;stroke:#000000;stroke-width:2px;stroke-linecap:butt;stroke-linejoin:miter;stroke-opacity:1\"/>\n",
       "<path class=\"bond-193\" d=\"M 605.962,154.197 L 589.904,158.734\" style=\"fill:none;fill-rule:evenodd;stroke:#000000;stroke-width:2px;stroke-linecap:butt;stroke-linejoin:miter;stroke-opacity:1;stroke-dasharray:6,6\"/>\n",
       "<path class=\"bond-195\" d=\"M 587.762,164.302 L 570.681,147.681\" style=\"fill:none;fill-rule:evenodd;stroke:#000000;stroke-width:2px;stroke-linecap:butt;stroke-linejoin:miter;stroke-opacity:1\"/>\n",
       "<path class=\"bond-195\" d=\"M 588.531,158.386 L 576.574,146.751\" style=\"fill:none;fill-rule:evenodd;stroke:#000000;stroke-width:2px;stroke-linecap:butt;stroke-linejoin:miter;stroke-opacity:1;stroke-dasharray:6,6\"/>\n",
       "<text x=\"377.601\" y=\"479.909\" style=\"font-size:7px;font-style:normal;font-weight:normal;fill-opacity:1;stroke:none;font-family:sans-serif;text-anchor:start;fill:#0000FF\"><tspan>NH</tspan></text>\n",
       "<text x=\"496.592\" y=\"315.023\" style=\"font-size:7px;font-style:normal;font-weight:normal;fill-opacity:1;stroke:none;font-family:sans-serif;text-anchor:start;fill:#0000FF\"><tspan>NH</tspan></text>\n",
       "<text x=\"479.627\" y=\"384.223\" style=\"font-size:7px;font-style:normal;font-weight:normal;fill-opacity:1;stroke:none;font-family:sans-serif;text-anchor:start;fill:#0000FF\"><tspan>NH</tspan></text>\n",
       "<text x=\"437.932\" y=\"442.001\" style=\"font-size:7px;font-style:normal;font-weight:normal;fill-opacity:1;stroke:none;font-family:sans-serif;text-anchor:start;fill:#0000FF\"><tspan>NH</tspan></text>\n",
       "<text x=\"178.662\" y=\"437.845\" style=\"font-size:7px;font-style:normal;font-weight:normal;fill-opacity:1;stroke:none;font-family:sans-serif;text-anchor:start;fill:#0000FF\"><tspan>NH</tspan></text>\n",
       "<text x=\"138.84\" y=\"378.762\" style=\"font-size:7px;font-style:normal;font-weight:normal;fill-opacity:1;stroke:none;font-family:sans-serif;text-anchor:start;fill:#0000FF\"><tspan>NH</tspan></text>\n",
       "<text x=\"486.348\" y=\"244.512\" style=\"font-size:7px;font-style:normal;font-weight:normal;fill-opacity:1;stroke:none;font-family:sans-serif;text-anchor:start;fill:#0000FF\"><tspan>NH</tspan></text>\n",
       "<text x=\"453.577\" y=\"182.998\" style=\"font-size:7px;font-style:normal;font-weight:normal;fill-opacity:1;stroke:none;font-family:sans-serif;text-anchor:start;fill:#FF0000\"><tspan>O</tspan></text>\n",
       "<text x=\"371.994\" y=\"130.157\" style=\"font-size:7px;font-style:normal;font-weight:normal;fill-opacity:1;stroke:none;font-family:sans-serif;text-anchor:start;fill:#0000FF\"><tspan>NH</tspan></text>\n",
       "<text x=\"124.1\" y=\"309.054\" style=\"font-size:7px;font-style:normal;font-weight:normal;fill-opacity:1;stroke:none;font-family:sans-serif;text-anchor:start;fill:#0000FF\"><tspan>NH</tspan></text>\n",
       "<text x=\"136.598\" y=\"238.908\" style=\"font-size:7px;font-style:normal;font-weight:normal;fill-opacity:1;stroke:none;font-family:sans-serif;text-anchor:start;fill:#0000FF\"><tspan>NH</tspan></text>\n",
       "<text x=\"301.483\" y=\"119.916\" style=\"font-size:7px;font-style:normal;font-weight:normal;fill-opacity:1;stroke:none;font-family:sans-serif;text-anchor:start;fill:#0000FF\"><tspan>NH</tspan></text>\n",
       "<text x=\"232.282\" y=\"136.882\" style=\"font-size:7px;font-style:normal;font-weight:normal;fill-opacity:1;stroke:none;font-family:sans-serif;text-anchor:start;fill:#0000FF\"><tspan>NH</tspan></text>\n",
       "<text x=\"174.505\" y=\"178.577\" style=\"font-size:7px;font-style:normal;font-weight:normal;fill-opacity:1;stroke:none;font-family:sans-serif;text-anchor:start;fill:#0000FF\"><tspan>NH</tspan></text>\n",
       "<text x=\"447.109\" y=\"545.849\" style=\"font-size:7px;font-style:normal;font-weight:normal;fill-opacity:1;stroke:none;font-family:sans-serif;text-anchor:start;fill:#FF0000\"><tspan>OH</tspan></text>\n",
       "<text x=\"433.864\" y=\"472.68\" style=\"font-size:7px;font-style:normal;font-weight:normal;fill-opacity:1;stroke:none;font-family:sans-serif;text-anchor:start;fill:#FF0000\"><tspan>O</tspan></text>\n",
       "<text x=\"487.601\" y=\"415.381\" style=\"font-size:7px;font-style:normal;font-weight:normal;fill-opacity:1;stroke:none;font-family:sans-serif;text-anchor:start;fill:#FF0000\"><tspan>O</tspan></text>\n",
       "<text x=\"515.909\" y=\"342.104\" style=\"font-size:7px;font-style:normal;font-weight:normal;fill-opacity:1;stroke:none;font-family:sans-serif;text-anchor:start;fill:#FF0000\"><tspan>O</tspan></text>\n",
       "<text x=\"514.65\" y=\"263.559\" style=\"font-size:7px;font-style:normal;font-weight:normal;fill-opacity:1;stroke:none;font-family:sans-serif;text-anchor:start;fill:#FF0000\"><tspan>O</tspan></text>\n",
       "<text x=\"484.008\" y=\"191.227\" style=\"font-size:7px;font-style:normal;font-weight:normal;fill-opacity:1;stroke:none;font-family:sans-serif;text-anchor:start;fill:#FF0000\"><tspan>O</tspan></text>\n",
       "<text x=\"446.427\" y=\"129.893\" style=\"font-size:7px;font-style:normal;font-weight:normal;fill-opacity:1;stroke:none;font-family:sans-serif;text-anchor:start;fill:#FF0000\"><tspan>O</tspan></text>\n",
       "<text x=\"463.674\" y=\"151.485\" style=\"font-size:7px;font-style:normal;font-weight:normal;fill-opacity:1;stroke:none;font-family:sans-serif;text-anchor:start;fill:#0000FF\"><tspan>NH</tspan><tspan style=\"baseline-shift:sub;font-size:5.25px;\">2</tspan><tspan/></text>\n",
       "<text x=\"405.729\" y=\"122.396\" style=\"font-size:7px;font-style:normal;font-weight:normal;fill-opacity:1;stroke:none;font-family:sans-serif;text-anchor:start;fill:#FF0000\"><tspan>O</tspan></text>\n",
       "<text x=\"423.091\" y=\"73.214\" style=\"font-size:7px;font-style:normal;font-weight:normal;fill-opacity:1;stroke:none;font-family:sans-serif;text-anchor:start;fill:#FF0000\"><tspan>OH</tspan></text>\n",
       "<text x=\"301.022\" y=\"48.0674\" style=\"font-size:7px;font-style:normal;font-weight:normal;fill-opacity:1;stroke:none;font-family:sans-serif;text-anchor:start;fill:#0000FF\"><tspan>NH</tspan><tspan style=\"baseline-shift:sub;font-size:5.25px;\">2</tspan><tspan/></text>\n",
       "<text x=\"252.013\" y=\"110.051\" style=\"font-size:7px;font-style:normal;font-weight:normal;fill-opacity:1;stroke:none;font-family:sans-serif;text-anchor:start;fill:#FF0000\"><tspan>O</tspan></text>\n",
       "<text x=\"182.957\" y=\"147.496\" style=\"font-size:7px;font-style:normal;font-weight:normal;fill-opacity:1;stroke:none;font-family:sans-serif;text-anchor:start;fill:#FF0000\"><tspan>O</tspan></text>\n",
       "<text x=\"133.001\" y=\"208.12\" style=\"font-size:7px;font-style:normal;font-weight:normal;fill-opacity:1;stroke:none;font-family:sans-serif;text-anchor:start;fill:#FF0000\"><tspan>O</tspan></text>\n",
       "<text x=\"103.989\" y=\"363.407\" style=\"font-size:7px;font-style:normal;font-weight:normal;fill-opacity:1;stroke:none;font-family:sans-serif;text-anchor:start;fill:#FF0000\"><tspan>OH</tspan></text>\n",
       "<text x=\"115.735\" y=\"361.363\" style=\"font-size:7px;font-style:normal;font-weight:normal;fill-opacity:1;stroke:none;font-family:sans-serif;text-anchor:start;fill:#FF0000\"><tspan>O</tspan></text>\n",
       "<text x=\"150.949\" y=\"431.584\" style=\"font-size:7px;font-style:normal;font-weight:normal;fill-opacity:1;stroke:none;font-family:sans-serif;text-anchor:start;fill:#FF0000\"><tspan>O</tspan></text>\n",
       "<text x=\"209.941\" y=\"483.456\" style=\"font-size:7px;font-style:normal;font-weight:normal;fill-opacity:1;stroke:none;font-family:sans-serif;text-anchor:start;fill:#FF0000\"><tspan>O</tspan></text>\n",
       "<text x=\"237.746\" y=\"477.667\" style=\"font-size:7px;font-style:normal;font-weight:normal;fill-opacity:1;stroke:none;font-family:sans-serif;text-anchor:start;fill:#0000FF\"><tspan>NH</tspan></text>\n",
       "<text x=\"362.551\" y=\"505.626\" style=\"font-size:7px;font-style:normal;font-weight:normal;fill-opacity:1;stroke:none;font-family:sans-serif;text-anchor:start;fill:#FF0000\"><tspan>O</tspan></text>\n",
       "<text x=\"318.308\" y=\"526.536\" style=\"font-size:7px;font-style:normal;font-weight:normal;fill-opacity:1;stroke:none;font-family:sans-serif;text-anchor:start;fill:#FF0000\"><tspan>HO</tspan></text>\n",
       "<text x=\"307.455\" y=\"492.407\" style=\"font-size:7px;font-style:normal;font-weight:normal;fill-opacity:1;stroke:none;font-family:sans-serif;text-anchor:start;fill:#0000FF\"><tspan>NH</tspan></text>\n",
       "<text x=\"284.088\" y=\"509.402\" style=\"font-size:7px;font-style:normal;font-weight:normal;fill-opacity:1;stroke:none;font-family:sans-serif;text-anchor:start;fill:#FF0000\"><tspan>O</tspan></text>\n",
       "<text x=\"126.424\" y=\"486.6\" style=\"font-size:7px;font-style:normal;font-weight:normal;fill-opacity:1;stroke:none;font-family:sans-serif;text-anchor:start;fill:#0000FF\"><tspan>H</tspan><tspan style=\"baseline-shift:sub;font-size:5.25px;\">2</tspan><tspan>N</tspan></text>\n",
       "<text x=\"181.919\" y=\"533.678\" style=\"font-size:7px;font-style:normal;font-weight:normal;fill-opacity:1;stroke:none;font-family:sans-serif;text-anchor:start;fill:#FF0000\"><tspan>O</tspan></text>\n",
       "<text x=\"202.996\" y=\"569.254\" style=\"font-size:7px;font-style:normal;font-weight:normal;fill-opacity:1;stroke:none;font-family:sans-serif;text-anchor:start;fill:#FF0000\"><tspan>O</tspan></text>\n",
       "<text x=\"140.82\" y=\"558.039\" style=\"font-size:7px;font-style:normal;font-weight:normal;fill-opacity:1;stroke:none;font-family:sans-serif;text-anchor:start;fill:#FF0000\"><tspan>O</tspan></text>\n",
       "<text x=\"142.06\" y=\"603.407\" style=\"font-size:7px;font-style:normal;font-weight:normal;fill-opacity:1;stroke:none;font-family:sans-serif;text-anchor:start;fill:#FF0000\"><tspan>HO</tspan></text>\n",
       "<text x=\"179.552\" y=\"624.435\" style=\"font-size:7px;font-style:normal;font-weight:normal;fill-opacity:1;stroke:none;font-family:sans-serif;text-anchor:start;fill:#FF0000\"><tspan>OH</tspan></text>\n",
       "<text x=\"237.119\" y=\"594.999\" style=\"font-size:7px;font-style:normal;font-weight:normal;fill-opacity:1;stroke:none;font-family:sans-serif;text-anchor:start;fill:#FF0000\"><tspan>OH</tspan></text>\n",
       "<text x=\"100.259\" y=\"582.654\" style=\"font-size:7px;font-style:normal;font-weight:normal;fill-opacity:1;stroke:none;font-family:sans-serif;text-anchor:start;fill:#FF0000\"><tspan>O</tspan></text>\n",
       "<text x=\"130.953\" y=\"538.71\" style=\"font-size:7px;font-style:normal;font-weight:normal;fill-opacity:1;stroke:none;font-family:sans-serif;text-anchor:start;fill:#FF0000\"><tspan>OH</tspan></text>\n",
       "<text x=\"96.1644\" y=\"515.791\" style=\"font-size:7px;font-style:normal;font-weight:normal;fill-opacity:1;stroke:none;font-family:sans-serif;text-anchor:start;fill:#FF0000\"><tspan>OH</tspan></text>\n",
       "<text x=\"61.9192\" y=\"539.207\" style=\"font-size:7px;font-style:normal;font-weight:normal;fill-opacity:1;stroke:none;font-family:sans-serif;text-anchor:start;fill:#FF0000\"><tspan>HO</tspan></text>\n",
       "<text x=\"55.6719\" y=\"602.205\" style=\"font-size:7px;font-style:normal;font-weight:normal;fill-opacity:1;stroke:none;font-family:sans-serif;text-anchor:start;fill:#FF0000\"><tspan>OH</tspan></text>\n",
       "<text x=\"544.501\" y=\"184.876\" style=\"font-size:7px;font-style:normal;font-weight:normal;fill-opacity:1;stroke:none;font-family:sans-serif;text-anchor:start;fill:#00CC00\"><tspan>Cl</tspan></text>\n",
       "<text x=\"566.563\" y=\"218.193\" style=\"font-size:7px;font-style:normal;font-weight:normal;fill-opacity:1;stroke:none;font-family:sans-serif;text-anchor:start;fill:#FF0000\"><tspan>OH</tspan></text>\n",
       "<text x=\"443.441\" y=\"121.586\" style=\"font-size:7px;font-style:normal;font-weight:normal;fill-opacity:1;stroke:none;font-family:sans-serif;text-anchor:start;fill:#0000FF\"><tspan>NH</tspan></text>\n",
       "<text x=\"438.713\" y=\"85.1227\" style=\"font-size:7px;font-style:normal;font-weight:normal;fill-opacity:1;stroke:none;font-family:sans-serif;text-anchor:start;fill:#FF0000\"><tspan>O</tspan></text>\n",
       "<text x=\"489.416\" y=\"108.45\" style=\"font-size:7px;font-style:normal;font-weight:normal;fill-opacity:1;stroke:none;font-family:sans-serif;text-anchor:start;fill:#0000FF\"><tspan>NH</tspan></text>\n",
       "<text x=\"520.206\" y=\"83.3507\" style=\"font-size:7px;font-style:normal;font-weight:normal;fill-opacity:1;stroke:none;font-family:sans-serif;text-anchor:start;fill:#FF0000\"><tspan>O</tspan></text>\n",
       "<text x=\"109.447\" y=\"283.06\" style=\"font-size:7px;font-style:normal;font-weight:normal;fill-opacity:1;stroke:none;font-family:sans-serif;text-anchor:start;fill:#FF0000\"><tspan>O</tspan></text>\n",
       "<text x=\"330.073\" y=\"101.255\" style=\"font-size:7px;font-style:normal;font-weight:normal;fill-opacity:1;stroke:none;font-family:sans-serif;text-anchor:start;fill:#FF0000\"><tspan>O</tspan></text>\n",
       "<text x=\"40.6079\" y=\"246.228\" style=\"font-size:7px;font-style:normal;font-weight:normal;fill-opacity:1;stroke:none;font-family:sans-serif;text-anchor:start;fill:#FF0000\"><tspan>HO</tspan></text>\n",
       "<text x=\"82.7561\" y=\"149.445\" style=\"font-size:7px;font-style:normal;font-weight:normal;fill-opacity:1;stroke:none;font-family:sans-serif;text-anchor:start;fill:#FF0000\"><tspan>HO</tspan></text>\n",
       "<text x=\"468.557\" y=\"33.5256\" style=\"font-size:7px;font-style:normal;font-weight:normal;fill-opacity:1;stroke:none;font-family:sans-serif;text-anchor:start;fill:#FF0000\"><tspan>O</tspan></text>\n",
       "<text x=\"444.152\" y=\"56.8731\" style=\"font-size:7px;font-style:normal;font-weight:normal;fill-opacity:1;stroke:none;font-family:sans-serif;text-anchor:start;fill:#0000FF\"><tspan>H</tspan><tspan style=\"baseline-shift:sub;font-size:5.25px;\">2</tspan><tspan>N</tspan></text>\n",
       "</svg>"
      ],
      "text/plain": [
       "<IPython.core.display.SVG object>"
      ]
     },
     "metadata": {},
     "output_type": "display_data"
    }
   ],
   "source": [
    "printMol(curr_mol2, 650, 650)"
   ]
  },
  {
   "cell_type": "code",
   "execution_count": 191,
   "id": "a28272cf",
   "metadata": {
    "ExecuteTime": {
     "end_time": "2021-08-31T00:27:54.907167Z",
     "start_time": "2021-08-31T00:27:54.903253Z"
    }
   },
   "outputs": [],
   "source": [
    "curr_mol3 = next(rdmol_gen)"
   ]
  },
  {
   "cell_type": "code",
   "execution_count": 193,
   "id": "0ac8a80f",
   "metadata": {
    "ExecuteTime": {
     "end_time": "2021-08-31T00:28:12.305651Z",
     "start_time": "2021-08-31T00:28:12.289350Z"
    }
   },
   "outputs": [
    {
     "name": "stdout",
     "output_type": "stream",
     "text": [
      "Chembl-id: CHEMBL405398\n",
      "#bits:     79\n",
      "Smiles:    Brc1cccc(Nc2ncnc3ccncc23)c1NCCN1CCOCC1\n",
      "\n"
     ]
    },
    {
     "data": {
      "image/svg+xml": [
       "<svg xmlns=\"http://www.w3.org/2000/svg\" xmlns:rdkit=\"http://www.rdkit.org/xml\" xmlns:xlink=\"http://www.w3.org/1999/xlink\" version=\"1.1\" baseProfile=\"full\" xml:space=\"preserve\" width=\"450px\" height=\"450px\" viewBox=\"0 0 450 450\">\n",
       "<!-- END OF HEADER -->\n",
       "<rect style=\"opacity:1.0;fill:#FFFFFF;stroke:none\" width=\"450\" height=\"450\" x=\"0\" y=\"0\"> </rect>\n",
       "<path class=\"bond-6\" d=\"M 33.3463,245.448 L 33.316,266.332\" style=\"fill:none;fill-rule:evenodd;stroke:#0000FF;stroke-width:2px;stroke-linecap:butt;stroke-linejoin:miter;stroke-opacity:1\"/>\n",
       "<path class=\"bond-6\" d=\"M 33.316,266.332 L 33.2857,287.216\" style=\"fill:none;fill-rule:evenodd;stroke:#000000;stroke-width:2px;stroke-linecap:butt;stroke-linejoin:miter;stroke-opacity:1\"/>\n",
       "<path class=\"bond-6\" d=\"M 44.0553,251.729 L 44.0341,266.347\" style=\"fill:none;fill-rule:evenodd;stroke:#0000FF;stroke-width:2px;stroke-linecap:butt;stroke-linejoin:miter;stroke-opacity:1;stroke-dasharray:6,6\"/>\n",
       "<path class=\"bond-6\" d=\"M 44.0341,266.347 L 44.0128,280.966\" style=\"fill:none;fill-rule:evenodd;stroke:#000000;stroke-width:2px;stroke-linecap:butt;stroke-linejoin:miter;stroke-opacity:1;stroke-dasharray:6,6\"/>\n",
       "<path class=\"bond-18\" d=\"M 39.8578,234.178 L 57.7995,223.773\" style=\"fill:none;fill-rule:evenodd;stroke:#0000FF;stroke-width:2px;stroke-linecap:butt;stroke-linejoin:miter;stroke-opacity:1\"/>\n",
       "<path class=\"bond-18\" d=\"M 57.7995,223.773 L 75.7413,213.368\" style=\"fill:none;fill-rule:evenodd;stroke:#000000;stroke-width:2px;stroke-linecap:butt;stroke-linejoin:miter;stroke-opacity:1\"/>\n",
       "<path class=\"bond-18\" d=\"M 50.6173,240.328 L 63.1766,233.045\" style=\"fill:none;fill-rule:evenodd;stroke:#0000FF;stroke-width:2px;stroke-linecap:butt;stroke-linejoin:miter;stroke-opacity:1;stroke-dasharray:6,6\"/>\n",
       "<path class=\"bond-18\" d=\"M 63.1766,233.045 L 75.7358,225.761\" style=\"fill:none;fill-rule:evenodd;stroke:#000000;stroke-width:2px;stroke-linecap:butt;stroke-linejoin:miter;stroke-opacity:1;stroke-dasharray:6,6\"/>\n",
       "<path class=\"bond-23\" d=\"M 33.2857,287.216 L 75.8484,311.796\" style=\"fill:none;fill-rule:evenodd;stroke:#000000;stroke-width:2px;stroke-linecap:butt;stroke-linejoin:miter;stroke-opacity:1\"/>\n",
       "<path class=\"bond-23\" d=\"M 45.0302,281.621 L 74.8241,298.827\" style=\"fill:none;fill-rule:evenodd;stroke:#000000;stroke-width:2px;stroke-linecap:butt;stroke-linejoin:miter;stroke-opacity:1;stroke-dasharray:6,6\"/>\n",
       "<path class=\"bond-2\" d=\"M 75.8484,311.796 L 118.387,286.966\" style=\"fill:none;fill-rule:evenodd;stroke:#000000;stroke-width:2px;stroke-linecap:butt;stroke-linejoin:miter;stroke-opacity:1\"/>\n",
       "<path class=\"bond-2\" d=\"M 76.8262,298.815 L 106.603,281.434\" style=\"fill:none;fill-rule:evenodd;stroke:#000000;stroke-width:2px;stroke-linecap:butt;stroke-linejoin:miter;stroke-opacity:1;stroke-dasharray:6,6\"/>\n",
       "<path class=\"bond-13\" d=\"M 75.7413,213.368 L 118.34,237.734\" style=\"fill:none;fill-rule:evenodd;stroke:#000000;stroke-width:2px;stroke-linecap:butt;stroke-linejoin:miter;stroke-opacity:1\"/>\n",
       "<path class=\"bond-13\" d=\"M 76.8095,226.326 L 106.628,243.382\" style=\"fill:none;fill-rule:evenodd;stroke:#000000;stroke-width:2px;stroke-linecap:butt;stroke-linejoin:miter;stroke-opacity:1;stroke-dasharray:6,6\"/>\n",
       "<path class=\"bond-0\" d=\"M 118.34,237.734 L 118.387,286.966\" style=\"fill:none;fill-rule:evenodd;stroke:#000000;stroke-width:2px;stroke-linecap:butt;stroke-linejoin:miter;stroke-opacity:1\"/>\n",
       "<path class=\"bond-0\" d=\"M 107.629,245.129 L 107.662,279.591\" style=\"fill:none;fill-rule:evenodd;stroke:#000000;stroke-width:2px;stroke-linecap:butt;stroke-linejoin:miter;stroke-opacity:1;stroke-dasharray:6,6\"/>\n",
       "<path class=\"bond-16\" d=\"M 118.34,237.734 L 160.641,213.07\" style=\"fill:none;fill-rule:evenodd;stroke:#000000;stroke-width:2px;stroke-linecap:butt;stroke-linejoin:miter;stroke-opacity:1\"/>\n",
       "<path class=\"bond-16\" d=\"M 130.083,243.293 L 159.694,226.029\" style=\"fill:none;fill-rule:evenodd;stroke:#000000;stroke-width:2px;stroke-linecap:butt;stroke-linejoin:miter;stroke-opacity:1;stroke-dasharray:6,6\"/>\n",
       "<path class=\"bond-4\" d=\"M 118.387,286.966 L 136.433,297.334\" style=\"fill:none;fill-rule:evenodd;stroke:#000000;stroke-width:2px;stroke-linecap:butt;stroke-linejoin:miter;stroke-opacity:1\"/>\n",
       "<path class=\"bond-4\" d=\"M 136.433,297.334 L 154.479,307.703\" style=\"fill:none;fill-rule:evenodd;stroke:#0000FF;stroke-width:2px;stroke-linecap:butt;stroke-linejoin:miter;stroke-opacity:1\"/>\n",
       "<path class=\"bond-4\" d=\"M 129.141,280.783 L 141.773,288.041\" style=\"fill:none;fill-rule:evenodd;stroke:#000000;stroke-width:2px;stroke-linecap:butt;stroke-linejoin:miter;stroke-opacity:1;stroke-dasharray:6,6\"/>\n",
       "<path class=\"bond-4\" d=\"M 141.773,288.041 L 154.405,295.299\" style=\"fill:none;fill-rule:evenodd;stroke:#0000FF;stroke-width:2px;stroke-linecap:butt;stroke-linejoin:miter;stroke-opacity:1;stroke-dasharray:6,6\"/>\n",
       "<path class=\"bond-9\" d=\"M 167.481,307.667 L 185.518,297.203\" style=\"fill:none;fill-rule:evenodd;stroke:#0000FF;stroke-width:2px;stroke-linecap:butt;stroke-linejoin:miter;stroke-opacity:1\"/>\n",
       "<path class=\"bond-9\" d=\"M 185.518,297.203 L 203.555,286.739\" style=\"fill:none;fill-rule:evenodd;stroke:#000000;stroke-width:2px;stroke-linecap:butt;stroke-linejoin:miter;stroke-opacity:1\"/>\n",
       "<path class=\"bond-9\" d=\"M 167.513,295.257 L 180.139,287.932\" style=\"fill:none;fill-rule:evenodd;stroke:#0000FF;stroke-width:2px;stroke-linecap:butt;stroke-linejoin:miter;stroke-opacity:1;stroke-dasharray:6,6\"/>\n",
       "<path class=\"bond-9\" d=\"M 180.139,287.932 L 192.765,280.607\" style=\"fill:none;fill-rule:evenodd;stroke:#000000;stroke-width:2px;stroke-linecap:butt;stroke-linejoin:miter;stroke-opacity:1;stroke-dasharray:6,6\"/>\n",
       "<path class=\"bond-11\" d=\"M 203.555,286.739 L 203.232,265.852\" style=\"fill:none;fill-rule:evenodd;stroke:#000000;stroke-width:2px;stroke-linecap:butt;stroke-linejoin:miter;stroke-opacity:1\"/>\n",
       "<path class=\"bond-11\" d=\"M 203.232,265.852 L 202.909,244.966\" style=\"fill:none;fill-rule:evenodd;stroke:#0000FF;stroke-width:2px;stroke-linecap:butt;stroke-linejoin:miter;stroke-opacity:1\"/>\n",
       "<path class=\"bond-11\" d=\"M 192.741,280.639 L 192.515,266.018\" style=\"fill:none;fill-rule:evenodd;stroke:#000000;stroke-width:2px;stroke-linecap:butt;stroke-linejoin:miter;stroke-opacity:1;stroke-dasharray:6,6\"/>\n",
       "<path class=\"bond-11\" d=\"M 192.515,266.018 L 192.289,251.398\" style=\"fill:none;fill-rule:evenodd;stroke:#0000FF;stroke-width:2px;stroke-linecap:butt;stroke-linejoin:miter;stroke-opacity:1;stroke-dasharray:6,6\"/>\n",
       "<path class=\"bond-14\" d=\"M 160.641,213.07 L 178.466,223.387\" style=\"fill:none;fill-rule:evenodd;stroke:#000000;stroke-width:2px;stroke-linecap:butt;stroke-linejoin:miter;stroke-opacity:1\"/>\n",
       "<path class=\"bond-14\" d=\"M 178.466,223.387 L 196.292,233.703\" style=\"fill:none;fill-rule:evenodd;stroke:#0000FF;stroke-width:2px;stroke-linecap:butt;stroke-linejoin:miter;stroke-opacity:1\"/>\n",
       "<path class=\"bond-14\" d=\"M 160.619,225.442 L 173.097,232.663\" style=\"fill:none;fill-rule:evenodd;stroke:#000000;stroke-width:2px;stroke-linecap:butt;stroke-linejoin:miter;stroke-opacity:1;stroke-dasharray:6,6\"/>\n",
       "<path class=\"bond-14\" d=\"M 173.097,232.663 L 185.575,239.885\" style=\"fill:none;fill-rule:evenodd;stroke:#0000FF;stroke-width:2px;stroke-linecap:butt;stroke-linejoin:miter;stroke-opacity:1;stroke-dasharray:6,6\"/>\n",
       "<path class=\"bond-21\" d=\"M 160.641,213.07 L 160.532,192.258\" style=\"fill:none;fill-rule:evenodd;stroke:#000000;stroke-width:2px;stroke-linecap:butt;stroke-linejoin:miter;stroke-opacity:1\"/>\n",
       "<path class=\"bond-21\" d=\"M 160.532,192.258 L 160.424,171.446\" style=\"fill:none;fill-rule:evenodd;stroke:#0000FF;stroke-width:2px;stroke-linecap:butt;stroke-linejoin:miter;stroke-opacity:1\"/>\n",
       "<path class=\"bond-22\" d=\"M 173.215,156.446 L 188.004,147.801\" style=\"fill:none;fill-rule:evenodd;stroke:#0000FF;stroke-width:2px;stroke-linecap:butt;stroke-linejoin:miter;stroke-opacity:1\"/>\n",
       "<path class=\"bond-22\" d=\"M 188.004,147.801 L 202.793,139.157\" style=\"fill:none;fill-rule:evenodd;stroke:#000000;stroke-width:2px;stroke-linecap:butt;stroke-linejoin:miter;stroke-opacity:1\"/>\n",
       "<path class=\"bond-8\" d=\"M 202.793,139.157 L 202.161,90.336\" style=\"fill:none;fill-rule:evenodd;stroke:#000000;stroke-width:2px;stroke-linecap:butt;stroke-linejoin:miter;stroke-opacity:1\"/>\n",
       "<path class=\"bond-8\" d=\"M 213.415,131.695 L 212.973,97.5206\" style=\"fill:none;fill-rule:evenodd;stroke:#000000;stroke-width:2px;stroke-linecap:butt;stroke-linejoin:miter;stroke-opacity:1;stroke-dasharray:6,6\"/>\n",
       "<path class=\"bond-24\" d=\"M 202.793,139.157 L 245.195,163.701\" style=\"fill:none;fill-rule:evenodd;stroke:#000000;stroke-width:2px;stroke-linecap:butt;stroke-linejoin:miter;stroke-opacity:1\"/>\n",
       "<path class=\"bond-24\" d=\"M 214.522,133.562 L 244.204,150.744\" style=\"fill:none;fill-rule:evenodd;stroke:#000000;stroke-width:2px;stroke-linecap:butt;stroke-linejoin:miter;stroke-opacity:1;stroke-dasharray:6,6\"/>\n",
       "<path class=\"bond-1\" d=\"M 245.195,163.701 L 287.579,138.954\" style=\"fill:none;fill-rule:evenodd;stroke:#000000;stroke-width:2px;stroke-linecap:butt;stroke-linejoin:miter;stroke-opacity:1\"/>\n",
       "<path class=\"bond-1\" d=\"M 246.148,150.733 L 275.817,133.411\" style=\"fill:none;fill-rule:evenodd;stroke:#000000;stroke-width:2px;stroke-linecap:butt;stroke-linejoin:miter;stroke-opacity:1;stroke-dasharray:6,6\"/>\n",
       "<path class=\"bond-12\" d=\"M 245.195,163.701 L 245.232,184.514\" style=\"fill:none;fill-rule:evenodd;stroke:#000000;stroke-width:2px;stroke-linecap:butt;stroke-linejoin:miter;stroke-opacity:1\"/>\n",
       "<path class=\"bond-12\" d=\"M 245.232,184.514 L 245.27,205.326\" style=\"fill:none;fill-rule:evenodd;stroke:#0000FF;stroke-width:2px;stroke-linecap:butt;stroke-linejoin:miter;stroke-opacity:1\"/>\n",
       "<path class=\"bond-3\" d=\"M 287.579,138.954 L 287.34,89.7762\" style=\"fill:none;fill-rule:evenodd;stroke:#000000;stroke-width:2px;stroke-linecap:butt;stroke-linejoin:miter;stroke-opacity:1\"/>\n",
       "<path class=\"bond-3\" d=\"M 276.825,131.63 L 276.658,97.2049\" style=\"fill:none;fill-rule:evenodd;stroke:#000000;stroke-width:2px;stroke-linecap:butt;stroke-linejoin:miter;stroke-opacity:1;stroke-dasharray:6,6\"/>\n",
       "<path class=\"bond-10\" d=\"M 287.579,138.954 L 304.406,148.561\" style=\"fill:none;fill-rule:evenodd;stroke:#000000;stroke-width:2px;stroke-linecap:butt;stroke-linejoin:miter;stroke-opacity:1\"/>\n",
       "<path class=\"bond-10\" d=\"M 304.406,148.561 L 321.233,158.168\" style=\"fill:none;fill-rule:evenodd;stroke:#7F4C19;stroke-width:2px;stroke-linecap:butt;stroke-linejoin:miter;stroke-opacity:1\"/>\n",
       "<path class=\"bond-5\" d=\"M 287.34,89.7762 L 244.373,65.4521\" style=\"fill:none;fill-rule:evenodd;stroke:#000000;stroke-width:2px;stroke-linecap:butt;stroke-linejoin:miter;stroke-opacity:1\"/>\n",
       "<path class=\"bond-5\" d=\"M 275.615,95.4548 L 245.538,78.428\" style=\"fill:none;fill-rule:evenodd;stroke:#000000;stroke-width:2px;stroke-linecap:butt;stroke-linejoin:miter;stroke-opacity:1;stroke-dasharray:6,6\"/>\n",
       "<path class=\"bond-7\" d=\"M 244.373,65.4521 L 202.161,90.336\" style=\"fill:none;fill-rule:evenodd;stroke:#000000;stroke-width:2px;stroke-linecap:butt;stroke-linejoin:miter;stroke-opacity:1\"/>\n",
       "<path class=\"bond-7\" d=\"M 243.484,78.4178 L 213.936,95.8366\" style=\"fill:none;fill-rule:evenodd;stroke:#000000;stroke-width:2px;stroke-linecap:butt;stroke-linejoin:miter;stroke-opacity:1;stroke-dasharray:6,6\"/>\n",
       "<path class=\"bond-15\" d=\"M 258.285,220.298 L 273.081,228.802\" style=\"fill:none;fill-rule:evenodd;stroke:#0000FF;stroke-width:2px;stroke-linecap:butt;stroke-linejoin:miter;stroke-opacity:1\"/>\n",
       "<path class=\"bond-15\" d=\"M 273.081,228.802 L 287.876,237.305\" style=\"fill:none;fill-rule:evenodd;stroke:#000000;stroke-width:2px;stroke-linecap:butt;stroke-linejoin:miter;stroke-opacity:1\"/>\n",
       "<path class=\"bond-17\" d=\"M 287.876,237.305 L 287.972,286.43\" style=\"fill:none;fill-rule:evenodd;stroke:#000000;stroke-width:2px;stroke-linecap:butt;stroke-linejoin:miter;stroke-opacity:1\"/>\n",
       "<path class=\"bond-19\" d=\"M 287.972,286.43 L 306.015,296.801\" style=\"fill:none;fill-rule:evenodd;stroke:#000000;stroke-width:2px;stroke-linecap:butt;stroke-linejoin:miter;stroke-opacity:1\"/>\n",
       "<path class=\"bond-19\" d=\"M 306.015,296.801 L 324.058,307.172\" style=\"fill:none;fill-rule:evenodd;stroke:#0000FF;stroke-width:2px;stroke-linecap:butt;stroke-linejoin:miter;stroke-opacity:1\"/>\n",
       "<path class=\"bond-20\" d=\"M 330.573,318.409 L 330.613,339.242\" style=\"fill:none;fill-rule:evenodd;stroke:#0000FF;stroke-width:2px;stroke-linecap:butt;stroke-linejoin:miter;stroke-opacity:1\"/>\n",
       "<path class=\"bond-20\" d=\"M 330.613,339.242 L 330.654,360.075\" style=\"fill:none;fill-rule:evenodd;stroke:#000000;stroke-width:2px;stroke-linecap:butt;stroke-linejoin:miter;stroke-opacity:1\"/>\n",
       "<path class=\"bond-25\" d=\"M 337.059,307.126 L 355.054,296.656\" style=\"fill:none;fill-rule:evenodd;stroke:#0000FF;stroke-width:2px;stroke-linecap:butt;stroke-linejoin:miter;stroke-opacity:1\"/>\n",
       "<path class=\"bond-25\" d=\"M 355.054,296.656 L 373.05,286.185\" style=\"fill:none;fill-rule:evenodd;stroke:#000000;stroke-width:2px;stroke-linecap:butt;stroke-linejoin:miter;stroke-opacity:1\"/>\n",
       "<path class=\"bond-26\" d=\"M 330.654,360.075 L 373.002,384.548\" style=\"fill:none;fill-rule:evenodd;stroke:#000000;stroke-width:2px;stroke-linecap:butt;stroke-linejoin:miter;stroke-opacity:1\"/>\n",
       "<path class=\"bond-27\" d=\"M 373.002,384.548 L 390.82,374.339\" style=\"fill:none;fill-rule:evenodd;stroke:#000000;stroke-width:2px;stroke-linecap:butt;stroke-linejoin:miter;stroke-opacity:1\"/>\n",
       "<path class=\"bond-27\" d=\"M 390.82,374.339 L 408.637,364.13\" style=\"fill:none;fill-rule:evenodd;stroke:#FF0000;stroke-width:2px;stroke-linecap:butt;stroke-linejoin:miter;stroke-opacity:1\"/>\n",
       "<path class=\"bond-28\" d=\"M 415.646,352.617 L 415.656,331.774\" style=\"fill:none;fill-rule:evenodd;stroke:#FF0000;stroke-width:2px;stroke-linecap:butt;stroke-linejoin:miter;stroke-opacity:1\"/>\n",
       "<path class=\"bond-28\" d=\"M 415.656,331.774 L 415.666,310.932\" style=\"fill:none;fill-rule:evenodd;stroke:#000000;stroke-width:2px;stroke-linecap:butt;stroke-linejoin:miter;stroke-opacity:1\"/>\n",
       "<path class=\"bond-29\" d=\"M 415.666,310.932 L 373.05,286.185\" style=\"fill:none;fill-rule:evenodd;stroke:#000000;stroke-width:2px;stroke-linecap:butt;stroke-linejoin:miter;stroke-opacity:1\"/>\n",
       "<text x=\"26.8566\" y=\"245.448\" style=\"font-size:15px;font-style:normal;font-weight:normal;fill-opacity:1;stroke:none;font-family:sans-serif;text-anchor:start;fill:#0000FF\"><tspan>N</tspan></text>\n",
       "<text x=\"154.479\" y=\"318.939\" style=\"font-size:15px;font-style:normal;font-weight:normal;fill-opacity:1;stroke:none;font-family:sans-serif;text-anchor:start;fill:#0000FF\"><tspan>N</tspan></text>\n",
       "<text x=\"147.383\" y=\"171.446\" style=\"font-size:15px;font-style:normal;font-weight:normal;fill-opacity:1;stroke:none;font-family:sans-serif;text-anchor:start;fill:#0000FF\"><tspan>NH</tspan></text>\n",
       "<text x=\"321.233\" y=\"170.808\" style=\"font-size:15px;font-style:normal;font-weight:normal;fill-opacity:1;stroke:none;font-family:sans-serif;text-anchor:start;fill:#7F4C19\"><tspan>Br</tspan></text>\n",
       "<text x=\"232.283\" y=\"220.326\" style=\"font-size:15px;font-style:normal;font-weight:normal;fill-opacity:1;stroke:none;font-family:sans-serif;text-anchor:start;fill:#0000FF\"><tspan>NH</tspan></text>\n",
       "<text x=\"196.292\" y=\"244.966\" style=\"font-size:15px;font-style:normal;font-weight:normal;fill-opacity:1;stroke:none;font-family:sans-serif;text-anchor:start;fill:#0000FF\"><tspan>N</tspan></text>\n",
       "<text x=\"324.058\" y=\"318.409\" style=\"font-size:15px;font-style:normal;font-weight:normal;fill-opacity:1;stroke:none;font-family:sans-serif;text-anchor:start;fill:#0000FF\"><tspan>N</tspan></text>\n",
       "<text x=\"408.637\" y=\"367.617\" style=\"font-size:15px;font-style:normal;font-weight:normal;fill-opacity:1;stroke:none;font-family:sans-serif;text-anchor:start;fill:#FF0000\"><tspan>O</tspan></text>\n",
       "</svg>"
      ],
      "text/plain": [
       "<IPython.core.display.SVG object>"
      ]
     },
     "metadata": {},
     "output_type": "display_data"
    }
   ],
   "source": [
    "printMol(curr_mol3, 450,450)"
   ]
  },
  {
   "cell_type": "code",
   "execution_count": 194,
   "id": "c36367ed",
   "metadata": {
    "ExecuteTime": {
     "end_time": "2021-08-31T00:29:01.210225Z",
     "start_time": "2021-08-31T00:29:01.200792Z"
    }
   },
   "outputs": [
    {
     "data": {
      "image/svg+xml": [
       "<svg xmlns=\"http://www.w3.org/2000/svg\" xmlns:rdkit=\"http://www.rdkit.org/xml\" xmlns:xlink=\"http://www.w3.org/1999/xlink\" version=\"1.1\" baseProfile=\"full\" xml:space=\"preserve\" width=\"450px\" height=\"150px\" viewBox=\"0 0 450 150\">\n",
       "<!-- END OF HEADER -->\n",
       "<rect style=\"opacity:1.0;fill:#FFFFFF;stroke:none\" width=\"450\" height=\"150\" x=\"0\" y=\"0\"> </rect>\n",
       "<path class=\"bond-0\" d=\"M 201.372,143.182 L 122.642,143.182\" style=\"fill:none;fill-rule:evenodd;stroke:#000000;stroke-width:2px;stroke-linecap:butt;stroke-linejoin:miter;stroke-opacity:1\"/>\n",
       "<path class=\"bond-0\" d=\"M 189.562,127.436 L 134.452,127.436\" style=\"fill:none;fill-rule:evenodd;stroke:#000000;stroke-width:2px;stroke-linecap:butt;stroke-linejoin:miter;stroke-opacity:1;stroke-dasharray:6,6\"/>\n",
       "<path class=\"bond-6\" d=\"M 201.372,143.182 L 240.736,75\" style=\"fill:none;fill-rule:evenodd;stroke:#000000;stroke-width:2px;stroke-linecap:butt;stroke-linejoin:miter;stroke-opacity:1\"/>\n",
       "<path class=\"bond-6\" d=\"M 193.64,125.082 L 221.195,77.3543\" style=\"fill:none;fill-rule:evenodd;stroke:#000000;stroke-width:2px;stroke-linecap:butt;stroke-linejoin:miter;stroke-opacity:1;stroke-dasharray:6,6\"/>\n",
       "<path class=\"bond-1\" d=\"M 122.642,143.182 L 83.2773,75\" style=\"fill:none;fill-rule:evenodd;stroke:#000000;stroke-width:2px;stroke-linecap:butt;stroke-linejoin:miter;stroke-opacity:1\"/>\n",
       "<path class=\"bond-1\" d=\"M 130.374,125.082 L 102.818,77.3543\" style=\"fill:none;fill-rule:evenodd;stroke:#000000;stroke-width:2px;stroke-linecap:butt;stroke-linejoin:miter;stroke-opacity:1;stroke-dasharray:6,6\"/>\n",
       "<path class=\"bond-2\" d=\"M 83.2773,75 L 122.642,6.81818\" style=\"fill:none;fill-rule:evenodd;stroke:#000000;stroke-width:2px;stroke-linecap:butt;stroke-linejoin:miter;stroke-opacity:1\"/>\n",
       "<path class=\"bond-2\" d=\"M 102.818,72.6457 L 130.374,24.9184\" style=\"fill:none;fill-rule:evenodd;stroke:#000000;stroke-width:2px;stroke-linecap:butt;stroke-linejoin:miter;stroke-opacity:1;stroke-dasharray:6,6\"/>\n",
       "<path class=\"bond-3\" d=\"M 122.642,6.81818 L 158.757,6.81818\" style=\"fill:none;fill-rule:evenodd;stroke:#000000;stroke-width:2px;stroke-linecap:butt;stroke-linejoin:miter;stroke-opacity:1\"/>\n",
       "<path class=\"bond-3\" d=\"M 158.757,6.81818 L 194.871,6.81818\" style=\"fill:none;fill-rule:evenodd;stroke:#0000FF;stroke-width:2px;stroke-linecap:butt;stroke-linejoin:miter;stroke-opacity:1\"/>\n",
       "<path class=\"bond-3\" d=\"M 133.476,22.5641 L 158.757,22.5641\" style=\"fill:none;fill-rule:evenodd;stroke:#000000;stroke-width:2px;stroke-linecap:butt;stroke-linejoin:miter;stroke-opacity:1;stroke-dasharray:6,6\"/>\n",
       "<path class=\"bond-3\" d=\"M 158.757,22.5641 L 184.037,22.5641\" style=\"fill:none;fill-rule:evenodd;stroke:#0000FF;stroke-width:2px;stroke-linecap:butt;stroke-linejoin:miter;stroke-opacity:1;stroke-dasharray:6,6\"/>\n",
       "<path class=\"bond-4\" d=\"M 205.702,14.3182 L 223.219,44.6591\" style=\"fill:none;fill-rule:evenodd;stroke:#0000FF;stroke-width:2px;stroke-linecap:butt;stroke-linejoin:miter;stroke-opacity:1\"/>\n",
       "<path class=\"bond-4\" d=\"M 223.219,44.6591 L 240.736,75\" style=\"fill:none;fill-rule:evenodd;stroke:#000000;stroke-width:2px;stroke-linecap:butt;stroke-linejoin:miter;stroke-opacity:1\"/>\n",
       "<path class=\"bond-4\" d=\"M 197.321,31.2934 L 209.583,52.532\" style=\"fill:none;fill-rule:evenodd;stroke:#0000FF;stroke-width:2px;stroke-linecap:butt;stroke-linejoin:miter;stroke-opacity:1;stroke-dasharray:6,6\"/>\n",
       "<path class=\"bond-4\" d=\"M 209.583,52.532 L 221.845,73.7707\" style=\"fill:none;fill-rule:evenodd;stroke:#000000;stroke-width:2px;stroke-linecap:butt;stroke-linejoin:miter;stroke-opacity:1;stroke-dasharray:6,6\"/>\n",
       "<path class=\"bond-5\" d=\"M 240.736,75 L 273.349,75\" style=\"fill:none;fill-rule:evenodd;stroke:#000000;stroke-width:2px;stroke-linecap:butt;stroke-linejoin:miter;stroke-opacity:1\"/>\n",
       "<path class=\"bond-5\" d=\"M 273.349,75 L 305.961,75\" style=\"fill:none;fill-rule:evenodd;stroke:#FF0000;stroke-width:2px;stroke-linecap:butt;stroke-linejoin:miter;stroke-opacity:1\"/>\n",
       "<text x=\"194.871\" y=\"14.3182\" style=\"font-size:14px;font-style:normal;font-weight:normal;fill-opacity:1;stroke:none;font-family:sans-serif;text-anchor:start;fill:#0000FF\"><tspan>N</tspan></text>\n",
       "<text x=\"305.961\" y=\"82.5\" style=\"font-size:14px;font-style:normal;font-weight:normal;fill-opacity:1;stroke:none;font-family:sans-serif;text-anchor:start;fill:#FF0000\"><tspan>OH</tspan></text>\n",
       "</svg>"
      ],
      "text/plain": [
       "<IPython.core.display.SVG object>"
      ]
     },
     "metadata": {},
     "output_type": "display_data"
    }
   ],
   "source": [
    "mol = Chem.MolFromSmiles('c1cccnc1O')\n",
    "drawMol(mol)"
   ]
  },
  {
   "cell_type": "code",
   "execution_count": null,
   "id": "cd11f8b9",
   "metadata": {},
   "outputs": [],
   "source": []
  },
  {
   "cell_type": "code",
   "execution_count": null,
   "id": "f5f48761",
   "metadata": {},
   "outputs": [],
   "source": []
  },
  {
   "cell_type": "code",
   "execution_count": 205,
   "id": "d2f172e9",
   "metadata": {
    "ExecuteTime": {
     "end_time": "2021-08-31T00:40:46.495617Z",
     "start_time": "2021-08-31T00:40:46.242366Z"
    }
   },
   "outputs": [
    {
     "name": "stdout",
     "output_type": "stream",
     "text": [
      "output/chembl_29/chembl_29_compounds.csv\n",
      " Number of unique compounds:  423808\n",
      "['CHEMBL1234777' 'CHEMBL1812661' 'CHEMBL1812662' 'CHEMBL2326084'\n",
      " 'CHEMBL2326085']\n"
     ]
    }
   ],
   "source": [
    "print(args['compounds'])\n",
    "compoundIDs = getChemblIDs(args['compounds'])\n",
    "print(' Number of unique compounds: ',len(compoundIDs))\n",
    "print(compoundIDs[:5])"
   ]
  },
  {
   "cell_type": "code",
   "execution_count": 206,
   "id": "c01cc557",
   "metadata": {
    "ExecuteTime": {
     "end_time": "2021-08-31T00:55:29.165524Z",
     "start_time": "2021-08-31T00:44:19.307403Z"
    }
   },
   "outputs": [
    {
     "name": "stdout",
     "output_type": "stream",
     "text": [
      "Processed: 20000 compounds\n"
     ]
    },
    {
     "name": "stderr",
     "output_type": "stream",
     "text": [
      "RDKit WARNING: [17:44:27] Warning: conflicting stereochemistry at atom 11 ignored.\n",
      "[17:44:27] Warning: conflicting stereochemistry at atom 11 ignored.\n"
     ]
    },
    {
     "name": "stdout",
     "output_type": "stream",
     "text": [
      "Processed: 40000 compounds\n",
      "Processed: 60000 compounds\n"
     ]
    },
    {
     "name": "stderr",
     "output_type": "stream",
     "text": [
      "RDKit WARNING: [17:44:40] Warning: conflicting stereochemistry at atom 14 ignored.\n",
      "[17:44:40] Warning: conflicting stereochemistry at atom 14 ignored.\n"
     ]
    },
    {
     "name": "stdout",
     "output_type": "stream",
     "text": [
      "Processed: 80000 compounds\n"
     ]
    },
    {
     "name": "stderr",
     "output_type": "stream",
     "text": [
      "RDKit WARNING: [17:44:49] Warning: conflicting stereochemistry at atom 6 ignored.\n",
      "RDKit WARNING: [17:44:49] Warning: conflicting stereochemistry at atom 6 ignored.\n",
      "[17:44:49] Warning: conflicting stereochemistry at atom 6 ignored.\n",
      "[17:44:49] Warning: conflicting stereochemistry at atom 6 ignored.\n"
     ]
    },
    {
     "name": "stdout",
     "output_type": "stream",
     "text": [
      "Processed: 100000 compounds\n",
      "Processed: 120000 compounds\n"
     ]
    },
    {
     "name": "stderr",
     "output_type": "stream",
     "text": [
      "RDKit WARNING: [17:44:58] Warning: conflicting stereochemistry at atom 48 ignored.\n",
      "[17:44:58] Warning: conflicting stereochemistry at atom 48 ignored.\n",
      "RDKit WARNING: [17:44:58] Warning: conflicting stereochemistry at atom 48 ignored.\n",
      "[17:44:58] Warning: conflicting stereochemistry at atom 48 ignored.\n",
      "RDKit WARNING: [17:44:58] Warning: conflicting stereochemistry at atom 0 ignored.\n",
      "RDKit WARNING: [17:44:58] Warning: conflicting stereochemistry at atom 0 ignored.\n",
      "[17:44:58] Warning: conflicting stereochemistry at atom 0 ignored.\n",
      "[17:44:58] Warning: conflicting stereochemistry at atom 0 ignored.\n",
      "RDKit WARNING: [17:44:59] Warning: conflicting stereochemistry at atom 0 ignored.\n",
      "[17:44:59] Warning: conflicting stereochemistry at atom 0 ignored.\n",
      "RDKit WARNING: [17:44:59] Warning: conflicting stereochemistry at atom 0 ignored.\n",
      "[17:44:59] Warning: conflicting stereochemistry at atom 0 ignored.\n"
     ]
    },
    {
     "name": "stdout",
     "output_type": "stream",
     "text": [
      "Processed: 140000 compounds\n",
      "Processed: 160000 compounds\n",
      "Processed: 180000 compounds\n",
      "Processed: 200000 compounds\n",
      "Processed: 220000 compounds\n",
      "Processed: 240000 compounds\n",
      "Processed: 260000 compounds\n",
      "Processed: 280000 compounds\n",
      "Processed: 300000 compounds\n",
      "Processed: 320000 compounds\n"
     ]
    },
    {
     "name": "stderr",
     "output_type": "stream",
     "text": [
      "RDKit WARNING: [17:46:05] Warning: conflicting stereochemistry at atom 5 ignored.\n",
      "[17:46:05] Warning: conflicting stereochemistry at atom 5 ignored.\n"
     ]
    },
    {
     "name": "stdout",
     "output_type": "stream",
     "text": [
      "Processed: 340000 compounds\n",
      "Processed: 360000 compounds\n",
      "Processed: 380000 compounds\n",
      "Processed: 400000 compounds\n",
      "Processed: 420000 compounds\n"
     ]
    },
    {
     "name": "stderr",
     "output_type": "stream",
     "text": [
      "RDKit WARNING: [17:46:38] Warning: conflicting stereochemistry at atom 26 ignored.\n",
      "[17:46:38] Warning: conflicting stereochemistry at atom 26 ignored.\n"
     ]
    },
    {
     "name": "stdout",
     "output_type": "stream",
     "text": [
      "Processed: 440000 compounds\n",
      "Processed: 460000 compounds\n",
      "Processed: 480000 compounds\n",
      "Processed: 500000 compounds\n",
      "Processed: 520000 compounds\n",
      "Processed: 540000 compounds\n",
      "Processed: 560000 compounds\n",
      "Processed: 580000 compounds\n",
      "Processed: 600000 compounds\n",
      "Processed: 620000 compounds\n",
      "Processed: 640000 compounds\n",
      "Processed: 660000 compounds\n",
      "Processed: 680000 compounds\n",
      "Processed: 700000 compounds\n",
      "Processed: 720000 compounds\n"
     ]
    },
    {
     "name": "stderr",
     "output_type": "stream",
     "text": [
      "RDKit WARNING: [17:48:15] Warning: conflicting stereochemistry at atom 1 ignored.\n",
      "RDKit WARNING: [17:48:15] Warning: conflicting stereochemistry at atom 2 ignored.\n",
      "RDKit WARNING: [17:48:15] Warning: conflicting stereochemistry at atom 1 ignored.\n",
      "RDKit WARNING: [17:48:15] Warning: conflicting stereochemistry at atom 2 ignored.\n",
      "[17:48:15] Warning: conflicting stereochemistry at atom 1 ignored.\n",
      "[17:48:15] Warning: conflicting stereochemistry at atom 2 ignored.\n",
      "[17:48:15] Warning: conflicting stereochemistry at atom 1 ignored.\n",
      "[17:48:15] Warning: conflicting stereochemistry at atom 2 ignored.\n",
      "RDKit WARNING: [17:48:15] Warning: conflicting stereochemistry at atom 1 ignored.\n",
      "[17:48:15] Warning: conflicting stereochemistry at atom 1 ignored.\n",
      "RDKit WARNING: [17:48:15] Warning: conflicting stereochemistry at atom 1 ignored.\n",
      "RDKit WARNING: [17:48:15] Warning: conflicting stereochemistry at atom 4 ignored.\n",
      "RDKit WARNING: [17:48:15] Warning: conflicting stereochemistry at atom 4 ignored.\n",
      "[17:48:15] Warning: conflicting stereochemistry at atom 1 ignored.\n",
      "[17:48:15] Warning: conflicting stereochemistry at atom 4 ignored.\n",
      "[17:48:15] Warning: conflicting stereochemistry at atom 4 ignored.\n"
     ]
    },
    {
     "name": "stdout",
     "output_type": "stream",
     "text": [
      "Processed: 740000 compounds\n",
      "Processed: 760000 compounds\n",
      "Processed: 780000 compounds\n",
      "Processed: 800000 compounds\n"
     ]
    },
    {
     "name": "stderr",
     "output_type": "stream",
     "text": [
      "RDKit WARNING: [17:48:42] Warning: conflicting stereochemistry at atom 5 ignored.\n",
      "[17:48:42] Warning: conflicting stereochemistry at atom 5 ignored.\n"
     ]
    },
    {
     "name": "stdout",
     "output_type": "stream",
     "text": [
      "Processed: 820000 compounds\n",
      "Processed: 840000 compounds\n",
      "Processed: 860000 compounds\n",
      "Processed: 880000 compounds\n",
      "Processed: 900000 compounds\n",
      "Processed: 920000 compounds\n",
      "Processed: 940000 compounds\n",
      "Processed: 960000 compounds\n",
      "Processed: 980000 compounds\n",
      "Processed: 1000000 compounds\n",
      "Processed: 1020000 compounds\n",
      "Processed: 1040000 compounds\n",
      "Processed: 1060000 compounds\n",
      "Processed: 1080000 compounds\n",
      "Processed: 1100000 compounds\n",
      "Processed: 1120000 compounds\n",
      "Processed: 1140000 compounds\n",
      "Processed: 1160000 compounds\n",
      "Processed: 1180000 compounds\n",
      "Processed: 1200000 compounds\n",
      "Processed: 1220000 compounds\n",
      "Processed: 1240000 compounds\n",
      "Processed: 1260000 compounds\n",
      "Processed: 1280000 compounds\n",
      "Processed: 1300000 compounds\n",
      "Processed: 1320000 compounds\n"
     ]
    },
    {
     "name": "stderr",
     "output_type": "stream",
     "text": [
      "RDKit WARNING: [17:51:12] WARNING: not removing hydrogen atom without neighbors\n",
      "[17:51:12] WARNING: not removing hydrogen atom without neighbors\n"
     ]
    },
    {
     "name": "stdout",
     "output_type": "stream",
     "text": [
      "Processed: 1340000 compounds\n",
      "Processed: 1360000 compounds\n",
      "Processed: 1380000 compounds\n"
     ]
    },
    {
     "name": "stderr",
     "output_type": "stream",
     "text": [
      "RDKit WARNING: [17:51:33] Warning: conflicting stereochemistry at atom 0 ignored.\n",
      "RDKit WARNING: [17:51:33] Warning: conflicting stereochemistry at atom 0 ignored.\n",
      "[17:51:33] Warning: conflicting stereochemistry at atom 0 ignored.\n",
      "[17:51:33] Warning: conflicting stereochemistry at atom 0 ignored.\n"
     ]
    },
    {
     "name": "stdout",
     "output_type": "stream",
     "text": [
      "Processed: 1400000 compounds\n",
      "Processed: 1420000 compounds\n",
      "Processed: 1440000 compounds\n",
      "Processed: 1460000 compounds\n"
     ]
    },
    {
     "name": "stderr",
     "output_type": "stream",
     "text": [
      "RDKit WARNING: [17:52:03] Warning: conflicting stereochemistry at atom 13 ignored.\n",
      "[17:52:03] Warning: conflicting stereochemistry at atom 13 ignored.\n",
      "RDKit WARNING: [17:52:03] Warning: conflicting stereochemistry at atom 13 ignored.\n",
      "[17:52:03] Warning: conflicting stereochemistry at atom 13 ignored.\n"
     ]
    },
    {
     "name": "stdout",
     "output_type": "stream",
     "text": [
      "Processed: 1480000 compounds\n",
      "Processed: 1500000 compounds\n",
      "Processed: 1520000 compounds\n",
      "Processed: 1540000 compounds\n"
     ]
    },
    {
     "name": "stderr",
     "output_type": "stream",
     "text": [
      "RDKit WARNING: [17:52:30] WARNING: not removing hydrogen atom without neighbors\n",
      "[17:52:30] WARNING: not removing hydrogen atom without neighbors\n"
     ]
    },
    {
     "name": "stdout",
     "output_type": "stream",
     "text": [
      "Processed: 1560000 compounds\n"
     ]
    },
    {
     "name": "stderr",
     "output_type": "stream",
     "text": [
      "RDKit WARNING: [17:52:38] WARNING: not removing hydrogen atom without neighbors\n",
      "[17:52:38] WARNING: not removing hydrogen atom without neighbors\n"
     ]
    },
    {
     "name": "stdout",
     "output_type": "stream",
     "text": [
      "Processed: 1580000 compounds\n"
     ]
    },
    {
     "name": "stderr",
     "output_type": "stream",
     "text": [
      "RDKit WARNING: [17:52:44] WARNING: not removing hydrogen atom without neighbors\n",
      "[17:52:44] WARNING: not removing hydrogen atom without neighbors\n"
     ]
    },
    {
     "name": "stdout",
     "output_type": "stream",
     "text": [
      "Processed: 1600000 compounds\n",
      "Processed: 1620000 compounds\n",
      "Processed: 1640000 compounds\n",
      "Processed: 1660000 compounds\n",
      "Processed: 1680000 compounds\n",
      "Processed: 1700000 compounds\n",
      "Processed: 1720000 compounds\n",
      "Processed: 1740000 compounds\n",
      "Processed: 1760000 compounds\n",
      "Processed: 1780000 compounds\n",
      "Processed: 1800000 compounds\n",
      "Processed: 1820000 compounds\n",
      "Processed: 1840000 compounds\n",
      "Processed: 1860000 compounds\n",
      "Processed: 1880000 compounds\n",
      "Processed: 1900000 compounds\n",
      "Processed: 1920000 compounds\n",
      "Processed: 1940000 compounds\n"
     ]
    },
    {
     "name": "stderr",
     "output_type": "stream",
     "text": [
      "RDKit WARNING: [17:54:39] WARNING: not removing hydrogen atom without neighbors\n",
      "[17:54:39] WARNING: not removing hydrogen atom without neighbors\n",
      "RDKit WARNING: [17:54:39] WARNING: not removing hydrogen atom without neighbors\n",
      "[17:54:39] WARNING: not removing hydrogen atom without neighbors\n",
      "RDKit WARNING: [17:54:39] WARNING: not removing hydrogen atom without neighbors\n",
      "[17:54:39] WARNING: not removing hydrogen atom without neighbors\n"
     ]
    },
    {
     "name": "stdout",
     "output_type": "stream",
     "text": [
      "Processed: 1960000 compounds\n",
      "Processed: 1980000 compounds\n"
     ]
    },
    {
     "name": "stderr",
     "output_type": "stream",
     "text": [
      "RDKit WARNING: [17:54:50] Warning: conflicting stereochemistry at atom 84 ignored.\n",
      "[17:54:50] Warning: conflicting stereochemistry at atom 84 ignored.\n",
      "RDKit WARNING: [17:54:50] Warning: conflicting stereochemistry at atom 84 ignored.\n",
      "[17:54:50] Warning: conflicting stereochemistry at atom 84 ignored.\n"
     ]
    },
    {
     "name": "stdout",
     "output_type": "stream",
     "text": [
      "Processed: 2000000 compounds\n",
      "Processed: 2020000 compounds\n",
      "Processed: 2040000 compounds\n",
      "Processed: 2060000 compounds\n",
      "Processed: 2080000 compounds\n"
     ]
    }
   ],
   "source": [
    "fp = sdf.getMorganFingerPrints(compoundIDs[:5],3)"
   ]
  },
  {
   "cell_type": "code",
   "execution_count": 221,
   "id": "bdd2b187",
   "metadata": {
    "ExecuteTime": {
     "end_time": "2021-08-31T03:04:17.661041Z",
     "start_time": "2021-08-31T03:04:17.654398Z"
    }
   },
   "outputs": [
    {
     "data": {
      "text/plain": [
       "dict"
      ]
     },
     "execution_count": 221,
     "metadata": {},
     "output_type": "execute_result"
    }
   ],
   "source": [
    "type(fp)"
   ]
  },
  {
   "cell_type": "code",
   "execution_count": 227,
   "id": "dc3a483b",
   "metadata": {
    "ExecuteTime": {
     "end_time": "2021-08-31T03:10:19.022911Z",
     "start_time": "2021-08-31T03:10:19.015349Z"
    }
   },
   "outputs": [
    {
     "name": "stdout",
     "output_type": "stream",
     "text": [
      " key:  CHEMBL1812662  value : {231908188: 1, 311369715: 1, 568485248: 1, 640334467: 1, 719273437: 1, 847957139: 1, 864662311: 3, 864942730: 1, 1033828962: 1, 1064551719: 1, 1146214010: 1, 1206482154: 1, 1211200385: 1, 1510328189: 1, 1510461303: 2, 1516486173: 2, 1533864325: 1, 1583009052: 1, 1681238019: 1, 2197104911: 1, 2245277810: 1, 2245384272: 4, 2246699815: 1, 2246728737: 1, 2445863990: 1, 2599969443: 1, 3096701258: 1, 3537123720: 1, 3609116172: 1, 3850856377: 1, 3930943943: 1}\n",
      " key:  CHEMBL1812661  value : {21411075: 1, 311369715: 1, 568485248: 1, 847957139: 1, 864662311: 3, 864942730: 1, 974683699: 1, 1064551719: 1, 1146214010: 1, 1206482154: 1, 1211200385: 1, 1510328189: 1, 1510461303: 2, 1516486173: 2, 1532373404: 1, 1533864325: 1, 1583799011: 1, 1710994835: 1, 2197104911: 1, 2245273601: 1, 2245384272: 4, 2246699815: 1, 2273576161: 1, 2368749857: 1, 2599973650: 1, 2765660118: 1, 3855312692: 1, 3956283135: 1, 4274980665: 1}\n",
      " key:  CHEMBL1234777  value : {43375061: 1, 517586202: 1, 680739744: 1, 717512901: 1, 787069595: 1, 847957139: 1, 847961216: 2, 849275503: 1, 857075109: 1, 864662311: 2, 864942730: 1, 1392089540: 1, 1510328189: 1, 1533864325: 1, 1583799011: 1, 1710994835: 1, 1828291084: 1, 1940648898: 1, 2186243679: 1, 2245273601: 1, 2245384272: 2, 2246699815: 2, 2328755054: 1, 2455228386: 1, 2461764143: 1, 2599973650: 1, 2669055056: 1, 2895460256: 1, 3771658752: 1, 3855312692: 1, 3956283135: 1, 4274980665: 1}\n",
      " key:  CHEMBL2326084  value : {231908188: 1, 311369715: 1, 331179867: 1, 367257450: 1, 568485248: 1, 589609474: 1, 592593828: 1, 603510687: 2, 628407456: 1, 672920087: 1, 847957139: 1, 848128881: 1, 864662311: 4, 864942730: 1, 887907272: 1, 991520787: 1, 1064551719: 1, 1146214010: 1, 1206482154: 1, 1211200385: 1, 1214058429: 1, 1510328189: 1, 1510461303: 2, 1516486173: 2, 1533864325: 1, 1535166686: 1, 1583009052: 2, 1630036155: 1, 2088247820: 1, 2189701585: 1, 2197104911: 1, 2245277810: 1, 2245384272: 9, 2246699815: 1, 2246728737: 1, 2415751959: 1, 2599969443: 1, 2814730268: 1, 3010410747: 1, 3080790146: 1, 3315644536: 1, 3405476480: 1, 3542456614: 1, 3609116172: 1, 3850856377: 1, 3947823600: 1, 4023654873: 1}\n",
      " key:  CHEMBL2326085  value : {231908188: 1, 311369715: 1, 331179867: 1, 568485248: 1, 589609474: 1, 592593828: 2, 603510687: 1, 628407456: 1, 847957139: 1, 848128881: 1, 864662311: 3, 864942730: 1, 887907272: 1, 991520787: 1, 1064551719: 1, 1146214010: 1, 1206482154: 1, 1211200385: 1, 1214058429: 2, 1319836587: 1, 1510328189: 1, 1510461303: 2, 1516486173: 2, 1533864325: 1, 1583009052: 2, 1630036155: 1, 2088247820: 1, 2189701585: 1, 2197104911: 1, 2245277810: 1, 2245384272: 8, 2246699815: 1, 2246728737: 2, 2599969443: 1, 2885491308: 1, 3010410747: 1, 3080790146: 1, 3315644536: 1, 3542456614: 2, 3609116172: 1, 3780648243: 1, 3850856377: 1}\n"
     ]
    }
   ],
   "source": [
    "for x in fp:\n",
    "    print(' key: ', x ,' value :', fp[x])"
   ]
  },
  {
   "cell_type": "code",
   "execution_count": 222,
   "id": "165c10fa",
   "metadata": {
    "ExecuteTime": {
     "end_time": "2021-08-31T03:04:48.708031Z",
     "start_time": "2021-08-31T03:04:48.701640Z"
    }
   },
   "outputs": [
    {
     "data": {
      "text/plain": [
       "dict_keys(['CHEMBL1812662', 'CHEMBL1812661', 'CHEMBL1234777', 'CHEMBL2326084', 'CHEMBL2326085'])"
      ]
     },
     "execution_count": 222,
     "metadata": {},
     "output_type": "execute_result"
    }
   ],
   "source": [
    "fp.keys()"
   ]
  },
  {
   "cell_type": "code",
   "execution_count": 223,
   "id": "08c104b1",
   "metadata": {
    "ExecuteTime": {
     "end_time": "2021-08-31T03:05:16.014804Z",
     "start_time": "2021-08-31T03:05:16.007919Z"
    }
   },
   "outputs": [
    {
     "data": {
      "text/plain": [
       "{231908188: 1,\n",
       " 311369715: 1,\n",
       " 568485248: 1,\n",
       " 640334467: 1,\n",
       " 719273437: 1,\n",
       " 847957139: 1,\n",
       " 864662311: 3,\n",
       " 864942730: 1,\n",
       " 1033828962: 1,\n",
       " 1064551719: 1,\n",
       " 1146214010: 1,\n",
       " 1206482154: 1,\n",
       " 1211200385: 1,\n",
       " 1510328189: 1,\n",
       " 1510461303: 2,\n",
       " 1516486173: 2,\n",
       " 1533864325: 1,\n",
       " 1583009052: 1,\n",
       " 1681238019: 1,\n",
       " 2197104911: 1,\n",
       " 2245277810: 1,\n",
       " 2245384272: 4,\n",
       " 2246699815: 1,\n",
       " 2246728737: 1,\n",
       " 2445863990: 1,\n",
       " 2599969443: 1,\n",
       " 3096701258: 1,\n",
       " 3537123720: 1,\n",
       " 3609116172: 1,\n",
       " 3850856377: 1,\n",
       " 3930943943: 1}"
      ]
     },
     "execution_count": 223,
     "metadata": {},
     "output_type": "execute_result"
    }
   ],
   "source": [
    "fp['CHEMBL1812662']"
   ]
  },
  {
   "cell_type": "code",
   "execution_count": 225,
   "id": "6b674a6a",
   "metadata": {
    "ExecuteTime": {
     "end_time": "2021-08-31T03:09:21.833622Z",
     "start_time": "2021-08-31T03:09:21.829043Z"
    }
   },
   "outputs": [],
   "source": [
    "   fp2 =[(x,(np.array(list(fp[x].keys())), np.array(list(fp[x].values())))) for x in fp] "
   ]
  },
  {
   "cell_type": "code",
   "execution_count": 230,
   "id": "292891de",
   "metadata": {
    "ExecuteTime": {
     "end_time": "2021-08-31T03:10:57.930506Z",
     "start_time": "2021-08-31T03:10:57.925351Z"
    }
   },
   "outputs": [
    {
     "name": "stdout",
     "output_type": "stream",
     "text": [
      "<class 'list'>\n"
     ]
    }
   ],
   "source": [
    "print(type(fp2))"
   ]
  },
  {
   "cell_type": "code",
   "execution_count": 243,
   "id": "3d79cc4c",
   "metadata": {
    "ExecuteTime": {
     "end_time": "2021-08-31T03:13:49.099195Z",
     "start_time": "2021-08-31T03:13:49.082998Z"
    }
   },
   "outputs": [
    {
     "name": "stdout",
     "output_type": "stream",
     "text": [
      " key:  CHEMBL1812662 \n",
      "  [ 231908188  311369715  568485248  640334467  719273437  847957139\n",
      "  864662311  864942730 1033828962 1064551719 1146214010 1206482154\n",
      " 1211200385 1510328189 1510461303 1516486173 1533864325 1583009052\n",
      " 1681238019 2197104911 2245277810 2245384272 2246699815 2246728737\n",
      " 2445863990 2599969443 3096701258 3537123720 3609116172 3850856377\n",
      " 3930943943]  \n",
      "  [1 1 1 1 1 1 3 1 1 1 1 1 1 1 2 2 1 1 1 1 1 4 1 1 1 1 1 1 1 1 1]\n",
      " key:  CHEMBL1812661 \n",
      "  [  21411075  311369715  568485248  847957139  864662311  864942730\n",
      "  974683699 1064551719 1146214010 1206482154 1211200385 1510328189\n",
      " 1510461303 1516486173 1532373404 1533864325 1583799011 1710994835\n",
      " 2197104911 2245273601 2245384272 2246699815 2273576161 2368749857\n",
      " 2599973650 2765660118 3855312692 3956283135 4274980665]  \n",
      "  [1 1 1 1 3 1 1 1 1 1 1 1 2 2 1 1 1 1 1 1 4 1 1 1 1 1 1 1 1]\n",
      " key:  CHEMBL1234777 \n",
      "  [  43375061  517586202  680739744  717512901  787069595  847957139\n",
      "  847961216  849275503  857075109  864662311  864942730 1392089540\n",
      " 1510328189 1533864325 1583799011 1710994835 1828291084 1940648898\n",
      " 2186243679 2245273601 2245384272 2246699815 2328755054 2455228386\n",
      " 2461764143 2599973650 2669055056 2895460256 3771658752 3855312692\n",
      " 3956283135 4274980665]  \n",
      "  [1 1 1 1 1 1 2 1 1 2 1 1 1 1 1 1 1 1 1 1 2 2 1 1 1 1 1 1 1 1 1 1]\n",
      " key:  CHEMBL2326084 \n",
      "  [ 231908188  311369715  331179867  367257450  568485248  589609474\n",
      "  592593828  603510687  628407456  672920087  847957139  848128881\n",
      "  864662311  864942730  887907272  991520787 1064551719 1146214010\n",
      " 1206482154 1211200385 1214058429 1510328189 1510461303 1516486173\n",
      " 1533864325 1535166686 1583009052 1630036155 2088247820 2189701585\n",
      " 2197104911 2245277810 2245384272 2246699815 2246728737 2415751959\n",
      " 2599969443 2814730268 3010410747 3080790146 3315644536 3405476480\n",
      " 3542456614 3609116172 3850856377 3947823600 4023654873]  \n",
      "  [1 1 1 1 1 1 1 2 1 1 1 1 4 1 1 1 1 1 1 1 1 1 2 2 1 1 2 1 1 1 1 1 9 1 1 1 1\n",
      " 1 1 1 1 1 1 1 1 1 1]\n",
      " key:  CHEMBL2326085 \n",
      "  [ 231908188  311369715  331179867  568485248  589609474  592593828\n",
      "  603510687  628407456  847957139  848128881  864662311  864942730\n",
      "  887907272  991520787 1064551719 1146214010 1206482154 1211200385\n",
      " 1214058429 1319836587 1510328189 1510461303 1516486173 1533864325\n",
      " 1583009052 1630036155 2088247820 2189701585 2197104911 2245277810\n",
      " 2245384272 2246699815 2246728737 2599969443 2885491308 3010410747\n",
      " 3080790146 3315644536 3542456614 3609116172 3780648243 3850856377]  \n",
      "  [1 1 1 1 1 2 1 1 1 1 3 1 1 1 1 1 1 1 2 1 1 2 2 1 2 1 1 1 1 1 8 1 2 1 1 1 1\n",
      " 1 2 1 1 1]\n"
     ]
    }
   ],
   "source": [
    "for x in fp2:\n",
    "    print(' key: ', x[0], '\\n ', x[1][0], ' \\n ', x[1][1] )"
   ]
  },
  {
   "cell_type": "code",
   "execution_count": null,
   "id": "eb7ed7c8",
   "metadata": {},
   "outputs": [],
   "source": []
  }
 ],
 "metadata": {
  "kernelspec": {
   "display_name": "Python [conda env:pyt-gpu]",
   "language": "python",
   "name": "conda-env-pyt-gpu-py"
  },
  "language_info": {
   "codemirror_mode": {
    "name": "ipython",
    "version": 3
   },
   "file_extension": ".py",
   "mimetype": "text/x-python",
   "name": "python",
   "nbconvert_exporter": "python",
   "pygments_lexer": "ipython3",
   "version": "3.9.5"
  },
  "toc": {
   "base_numbering": 1,
   "nav_menu": {},
   "number_sections": true,
   "sideBar": true,
   "skip_h1_title": false,
   "title_cell": "Table of Contents",
   "title_sidebar": "Contents",
   "toc_cell": false,
   "toc_position": {},
   "toc_section_display": true,
   "toc_window_display": false
  }
 },
 "nbformat": 4,
 "nbformat_minor": 5
}
