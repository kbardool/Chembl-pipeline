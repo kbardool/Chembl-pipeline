{
 "cells": [
  {
   "cell_type": "markdown",
   "id": "c2a48932",
   "metadata": {},
   "source": [
    "###  Step 20 \n",
    "\n",
    "Use the Chembl SDF file to create a list of compounds, features, and feature counts.\n",
    "\n",
    "Outputs:\n",
    " \n",
    " * output/chembl_29/chembl_29_X.csv           csv list of compounds, features \n",
    " \n",
    " * Step20/2.1_fp_32000.npy                    npy folded file\n",
    " \n",
    " * Step20/2.2_cmpd_list_X.csv                 csv list: seq_number,compound"
   ]
  },
  {
   "cell_type": "code",
   "execution_count": 4,
   "id": "b16aa9f0",
   "metadata": {
    "ExecuteTime": {
     "end_time": "2022-08-01T12:56:57.410679Z",
     "start_time": "2022-08-01T12:56:57.394642Z"
    }
   },
   "outputs": [
    {
     "data": {
      "text/html": [
       "<style>.container { width:98% !important; }</style>"
      ],
      "text/plain": [
       "<IPython.core.display.HTML object>"
      ]
     },
     "metadata": {},
     "output_type": "display_data"
    },
    {
     "name": "stdout",
     "output_type": "stream",
     "text": [
      "The autoreload extension is already loaded. To reload it, use:\n",
      "  %reload_ext autoreload\n"
     ]
    }
   ],
   "source": [
    "from IPython.core.display import display, HTML\n",
    "display(HTML(\"<style>.container { width:98% !important; }</style>\"))\n",
    "%load_ext autoreload\n",
    "%autoreload 2"
   ]
  },
  {
   "cell_type": "code",
   "execution_count": 5,
   "id": "7f234eb7",
   "metadata": {
    "ExecuteTime": {
     "end_time": "2022-08-01T12:56:58.038277Z",
     "start_time": "2022-08-01T12:56:57.650982Z"
    }
   },
   "outputs": [],
   "source": [
    "from os.path import expanduser\n",
    "import argparse\n",
    "import csv\n",
    "import sys\n",
    "import pandas as pd\n",
    "import numpy as np\n",
    "from scipy.sparse import csr_matrix\n",
    "from IPython.display import SVG"
   ]
  },
  {
   "cell_type": "code",
   "execution_count": 6,
   "id": "8e8354d8",
   "metadata": {
    "ExecuteTime": {
     "end_time": "2022-08-01T12:56:58.155892Z",
     "start_time": "2022-08-01T12:56:58.043001Z"
    }
   },
   "outputs": [],
   "source": [
    "from rdkit import Chem\n",
    "from rdkit.Chem import AllChem\n",
    "from rdkit.Chem import rdDepictor\n",
    "from rdkit.Chem.Draw import rdMolDraw2D"
   ]
  },
  {
   "cell_type": "code",
   "execution_count": 7,
   "id": "019c2b67",
   "metadata": {
    "ExecuteTime": {
     "end_time": "2022-08-01T12:56:58.185669Z",
     "start_time": "2022-08-01T12:56:58.161131Z"
    }
   },
   "outputs": [],
   "source": [
    "def defaultSupplFile():\n",
    "  return '%s/chembl_19/chembl_19.sdf' % datadir\n",
    "\n",
    "def saveFingerprints(results, filename):\n",
    "  \"\"\" results is a dictionary: chembl_id -> [fingerprints] \"\"\"\n",
    "  with open(filename, 'w') as csvfile:\n",
    "    fpwriter = csv.writer(csvfile, delimiter=\",\", quoting=csv.QUOTE_NONE)\n",
    "    fpwriter.writerow([\"compound\",\"feature\"])\n",
    "    for compound in results:\n",
    "        for feature in results[compound]:\n",
    "            fpwriter.writerow( [compound, feature] )\n",
    "    print(f\" => fingerprints written to {filename} \")    \n",
    "    \n",
    "    \n",
    "def saveFingerprintsNpy(results, filename, cmpdlist, ecfp_fold=32000):\n",
    "    \"\"\" write fingerprints to npy, compunds to CSV file \"\"\"\n",
    "    ## fp2 : list of tuples : each tuple: (compound id, (array of features, array of counts))\n",
    "    fp2 =[(x,(np.array(list(results[x].keys())), np.array(list(results[x].values())))) for x in results] #TODO: Modify to save compound list\n",
    "    \n",
    "    ## cmpd: tuple of strings, each representing a chembl compound\n",
    "    ## ecfp: tuple of tuples each tuple being an array of (features, counts)\n",
    "    cmpd, ecfp   = zip(*fp2) \n",
    "    \n",
    "    ## feat  : tuple of ndarrays, each member being a ndarray of features \n",
    "    ## counts: tuple of ndarrays, each member being a ndarray of counts \n",
    "    feat, counts = zip(*ecfp)\n",
    "    \n",
    "    ## Create indicies for csr matrix\n",
    "    ## the column indices for row i are stored in indices[indptr[i]:indptr[i+1]] \n",
    "    ## their corresponding values are stored in data[indptr[i]:indptr[i+1]]\n",
    "    lens    = np.array([len(f) for f in feat])\n",
    "    indptr  = np.concatenate([[0], np.cumsum(lens)])\n",
    "    indices = np.concatenate(feat) % ecfp_fold\n",
    "    data    = np.ones(indices.shape[0])\n",
    "    \n",
    "    ## Create CSR matrix\n",
    "    csr     = csr_matrix((data, indices, indptr), shape=(len(feat), ecfp_fold))\n",
    "    csr.sum_duplicates()\n",
    "    csr.data[:] = 1.0\n",
    "    \n",
    "    # write fingerprint data to numpy CSR sparse matrix \n",
    "    np.save(filename, csr)\n",
    "    print(f\" => fingerprints written to {filename} \")    \n",
    "    \n",
    "    # write compounds to csv file \n",
    "    pd.DataFrame(cmpd).to_csv(cmpdlist, header=False)\n",
    "    print(f\" => compounds written to {cmpdlist} \")       "
   ]
  },
  {
   "cell_type": "code",
   "execution_count": 8,
   "id": "41755777",
   "metadata": {
    "ExecuteTime": {
     "end_time": "2022-08-01T12:56:58.229454Z",
     "start_time": "2022-08-01T12:56:58.209860Z"
    }
   },
   "outputs": [],
   "source": [
    "def getChemblIDs(ic50file):\n",
    "    a = pd.read_csv(ic50file, header = None)\n",
    "    chembl = a[0].values \n",
    "    print(f\"  getChemblIds - Read {len(chembl)} Compounds\")\n",
    "    return chembl"
   ]
  },
  {
   "cell_type": "code",
   "execution_count": 9,
   "id": "9c248c60",
   "metadata": {
    "ExecuteTime": {
     "end_time": "2022-08-01T12:56:58.418563Z",
     "start_time": "2022-08-01T12:56:58.393527Z"
    }
   },
   "outputs": [],
   "source": [
    "def printMol(mol, width = 450, height = 150):\n",
    "    bits = AllChem.GetMorganFingerprint(mol, 3) \n",
    "    print ('Chembl-id:    %s' % mol.GetProp('chembl_id'))\n",
    "    print ('Num of Atoms: %d' % mol.GetNumAtoms())\n",
    "    print (\"#bits:        %d\" % len(bits.GetNonzeroElements()))\n",
    "    print ('Smiles:       %s' % Chem.MolToSmiles(mol, isomericSmiles=True))\n",
    "    print (\"\")\n",
    "    drawMol(mol, width, height)\n"
   ]
  },
  {
   "cell_type": "code",
   "execution_count": 10,
   "id": "81639ae3",
   "metadata": {
    "ExecuteTime": {
     "end_time": "2022-08-01T12:56:58.551203Z",
     "start_time": "2022-08-01T12:56:58.536021Z"
    }
   },
   "outputs": [],
   "source": [
    "def drawMol(mol, width = 450, height = 150):\n",
    "#     molSize = (width, height)\n",
    "    mc = Chem.Mol(mol.ToBinary())\n",
    "\n",
    "    if not mc.GetNumConformers():\n",
    "        rdDepictor.Compute2DCoords(mc)\n",
    "\n",
    "    drawer = rdMolDraw2D.MolDraw2DSVG(width, height)\n",
    "    drawer.DrawMolecule(mc)\n",
    "    drawer.FinishDrawing()\n",
    "    svg = drawer.GetDrawingText()\n",
    "    display(SVG(svg.replace('svg:','')))"
   ]
  },
  {
   "cell_type": "code",
   "execution_count": 11,
   "id": "b2d061c6",
   "metadata": {
    "ExecuteTime": {
     "end_time": "2022-08-01T12:56:58.726598Z",
     "start_time": "2022-08-01T12:56:58.708095Z"
    }
   },
   "outputs": [],
   "source": [
    "def whatisthis(s):\n",
    "    if isinstance(s, str):\n",
    "        print(\"ordinary string\")\n",
    "    elif isinstance(s, unicode):\n",
    "        print (\"unicode string\")\n",
    "    else:\n",
    "        print (\"not a string\")"
   ]
  },
  {
   "cell_type": "markdown",
   "id": "22032a21",
   "metadata": {},
   "source": [
    "### SDF file class definition"
   ]
  },
  {
   "cell_type": "code",
   "execution_count": 12,
   "id": "3bb0e021",
   "metadata": {
    "ExecuteTime": {
     "end_time": "2022-08-01T12:56:59.082874Z",
     "start_time": "2022-08-01T12:56:59.057736Z"
    }
   },
   "outputs": [],
   "source": [
    "class SDF:\n",
    "    \n",
    "    \n",
    "  def __init__(self, supplFile):\n",
    "    self.supplFile = supplFile\n",
    "    print(\"supplFile: \", supplFile)\n",
    "    self.suppl = Chem.SDMolSupplier( self.supplFile)\n",
    "    print('Total number of molcules loaded: ', len(self.suppl))\n",
    "\n",
    "  def getMol(self, n = 10e+9):\n",
    "    \"\"\" function for looping over all molecules \"\"\"\n",
    "    self.suppl.reset()\n",
    "    i = 0\n",
    "    for rdmol in self.suppl:\n",
    "      if rdmol is None: continue\n",
    "      i += 1\n",
    "      yield rdmol\n",
    "      if i >= n: return\n",
    "\n",
    "  def print4Mol(self):\n",
    "    for mol in self.getMol(4):\n",
    "      print(type(mol)) \n",
    "      bits = AllChem.GetMorganFingerprint(mol, 3) \n",
    "      print ('Chembl-id: %s' % mol.GetProp('chembl_id'))\n",
    "      print (\"#bits:     %d\" % len(bits.GetNonzeroElements()))\n",
    "      print ('Smiles:    %s' % Chem.MolToSmiles(mol, isomericSmiles=True))\n",
    "      print (\"\")\n",
    "\n",
    "  def getMorganFingerPrints(self, chemblIDs, nMorgan):\n",
    "    ids = set(chemblIDs)\n",
    "    results = dict()\n",
    "    i=0\n",
    "    for mol in self.getMol():\n",
    "      i+=1\n",
    "      chembl_id = mol.GetProp('chembl_id') \n",
    "      if i %20000 == 0:\n",
    "          print(f\"Processed: {i} compounds - chembl_id : {chembl_id}\")\n",
    "      if chembl_id not in ids:\n",
    "        continue\n",
    "      results[chembl_id] = AllChem.GetMorganFingerprint(mol, nMorgan).GetNonzeroElements()\n",
    "    return results\n",
    "\n",
    "  def getMorganFingerPrintsAll(self, nMorgan):\n",
    "    results = dict()\n",
    "    for mol in self.getMol():\n",
    "      chembl_id = mol.GetProp('chembl_id') \n",
    "      results[chembl_id] = AllChem.GetMorganFingerprint(mol, nMorgan).GetNonzeroElements()\n",
    "    return results\n",
    "##### end of class SDF ######\n"
   ]
  },
  {
   "cell_type": "markdown",
   "id": "2942792f",
   "metadata": {},
   "source": [
    "### Main"
   ]
  },
  {
   "cell_type": "code",
   "execution_count": 13,
   "id": "2b7d53b0",
   "metadata": {
    "ExecuteTime": {
     "end_time": "2022-08-01T12:57:00.509745Z",
     "start_time": "2022-08-01T12:57:00.489782Z"
    }
   },
   "outputs": [
    {
     "data": {
      "text/plain": [
       "_StoreTrueAction(option_strings=['--numids'], dest='numids', nargs=0, const=True, default=False, type=None, choices=None, help=None, metavar=None)"
      ]
     },
     "execution_count": 13,
     "metadata": {},
     "output_type": "execute_result"
    }
   ],
   "source": [
    "  parser = argparse.ArgumentParser(description='Generate Morgan(3) fingerprints from raw SDF.')\n",
    "  parser.add_argument('-c', '--compounds', metavar='FILE', help=\"CSV file of compounds (CHEMBL IDs). If not supplied all compounds are saved.\", default=None)\n",
    "  parser.add_argument('-s', '--sdf', help=\"Input SDF file.\", required=True)\n",
    "  parser.add_argument('-o', '--out', help=\"Output file name (CSV file of fingerprints).\", required=True)\n",
    "  parser.add_argument('-r', '--radius', metavar='R', type=int, help=\"ECFP radius (default 3)\", default=3)\n",
    "  parser.add_argument('--numids', action='store_true')"
   ]
  },
  {
   "cell_type": "code",
   "execution_count": 14,
   "id": "78c2c456",
   "metadata": {
    "ExecuteTime": {
     "end_time": "2022-08-01T12:57:01.141883Z",
     "start_time": "2022-08-01T12:57:01.122991Z"
    }
   },
   "outputs": [
    {
     "name": "stdout",
     "output_type": "stream",
     "text": [
      "['-s', 'input/chembl_29.sdf', '-o', 'output/chembl_29/chembl_29_X.csv', '-c', 'output/chembl_29/chembl_29_compounds.csv']\n",
      "\n",
      "  compounds           output/chembl_29/chembl_29_compounds.csv\n",
      "  sdf                 input/chembl_29.sdf\n",
      "  out                 output/chembl_29/chembl_29_X.csv\n",
      "  radius              3\n",
      "  numids              False\n"
     ]
    }
   ],
   "source": [
    "VERSION = 'chembl_29'\n",
    "in_args = f\" -s  input/{VERSION}.sdf \"\\\n",
    "          f\" -o output/{VERSION}/{VERSION}_X.csv \" \\\n",
    "          f\" -c output/{VERSION}/{VERSION}_compounds.csv\"\n",
    "in_args = in_args.split()\n",
    "args = vars(parser.parse_args(in_args))\n",
    "\n",
    "print(in_args)\n",
    "print()\n",
    "for i in args:\n",
    "    print(f\"  {i:15s}     {args[i]}\")\n",
    "\n",
    "# args_sdf = args['sdf'].encode('utf-8')\n",
    "# args_sdf = args['sdf'].encode('utf-8').decode('ascii')\n",
    "# args_sdf"
   ]
  },
  {
   "cell_type": "code",
   "execution_count": 15,
   "id": "6ba6eb80",
   "metadata": {
    "ExecuteTime": {
     "end_time": "2022-08-01T12:57:05.277689Z",
     "start_time": "2022-08-01T12:57:05.259398Z"
    }
   },
   "outputs": [
    {
     "name": "stdout",
     "output_type": "stream",
     "text": [
      " sdffile       = input/chembl_29.sdf\n",
      " compoundsFile = output/chembl_29/chembl_29_compounds.csv \n",
      " outFile       = output/chembl_29/chembl_29_X.csv \n",
      " sdfFile       = input/chembl_29.sdf \n",
      " nMorgan       = 3 \n",
      " numericIds    = False \n"
     ]
    }
   ],
   "source": [
    "# def mainf(compoundsFile, outFile, sdfFile, nMorgan = 3, numericIds = False):\n",
    "# return mainf(args[\"compounds\"], args[\"out\"], args[\"sdf\"], nMorgan = args[\"radius\"], numericIds = args[\"numids\"])\n",
    "\n",
    "compoundsFile = args[\"compounds\"] \n",
    "outFile = args[\"out\"]\n",
    "sdfFile = args[\"sdf\"]\n",
    "nMorgan = args[\"radius\"]\n",
    "numericIds = args[\"numids\"]\n",
    "\n",
    "print(f\" sdffile       = {sdfFile}\")\n",
    "print(f\" compoundsFile = {compoundsFile} \")\n",
    "print(f\" outFile       = {outFile} \")\n",
    "print(f\" nMorgan       = {nMorgan} \")\n",
    "print(f\" numericIds    = {numericIds} \")"
   ]
  },
  {
   "cell_type": "code",
   "execution_count": 20,
   "id": "af895807",
   "metadata": {
    "ExecuteTime": {
     "end_time": "2022-08-01T12:59:08.971554Z",
     "start_time": "2022-08-01T12:59:08.592436Z"
    }
   },
   "outputs": [
    {
     "name": "stdout",
     "output_type": "stream",
     "text": [
      "<class 'pandas.core.frame.DataFrame'>\n",
      "RangeIndex: 423809 entries, 0 to 423808\n",
      "Data columns (total 1 columns):\n",
      " #   Column  Non-Null Count   Dtype \n",
      "---  ------  --------------   ----- \n",
      " 0   0       423809 non-null  object\n",
      "dtypes: object(1)\n",
      "memory usage: 3.2+ MB\n"
     ]
    },
    {
     "data": {
      "text/plain": [
       "0    423809\n",
       "dtype: int64"
      ]
     },
     "execution_count": 20,
     "metadata": {},
     "output_type": "execute_result"
    }
   ],
   "source": [
    "of = pd.read_csv(compoundsFile,header=None)\n",
    "\n",
    "of.info()\n",
    "of.head()\n",
    "of.nunique()"
   ]
  },
  {
   "cell_type": "markdown",
   "id": "d9aa6009",
   "metadata": {},
   "source": [
    "### Read `chembl_29.sdf` file\n",
    "\n",
    "Also read the compunds CSV file generated in step 1"
   ]
  },
  {
   "cell_type": "code",
   "execution_count": 21,
   "id": "136ad04c",
   "metadata": {
    "ExecuteTime": {
     "end_time": "2022-08-01T13:01:48.468627Z",
     "start_time": "2022-08-01T13:00:58.603748Z"
    },
    "scrolled": true
   },
   "outputs": [
    {
     "name": "stdout",
     "output_type": "stream",
     "text": [
      "supplFile:  input/chembl_29.sdf\n",
      "Total number of molcules loaded:  2084724\n",
      "sdf object:  <__main__.SDF object at 0x7fd86c4d5040>\n"
     ]
    }
   ],
   "source": [
    "sdf = SDF(sdfFile)\n",
    "print('sdf object: ' , sdf)"
   ]
  },
  {
   "cell_type": "markdown",
   "id": "ff1de694",
   "metadata": {},
   "source": [
    "### Get Morgan Fingerprint for compounds\n",
    "\n",
    "If a compounds file was provided, get Morgan Fingerprinfs for componds in file"
   ]
  },
  {
   "cell_type": "code",
   "execution_count": 22,
   "id": "3a308c4d",
   "metadata": {
    "ExecuteTime": {
     "end_time": "2022-08-01T13:15:05.059285Z",
     "start_time": "2022-08-01T13:01:58.618285Z"
    },
    "scrolled": false
   },
   "outputs": [
    {
     "name": "stdout",
     "output_type": "stream",
     "text": [
      " Compounds File is output/chembl_29/chembl_29_compounds.csv\n",
      "  getChemblIds - Read 423809 Compounds\n",
      "Processed: 20000 compounds - chembl_id : CHEMBL23508\n",
      "Processed: 40000 compounds - chembl_id : CHEMBL44263\n",
      "Processed: 60000 compounds - chembl_id : CHEMBL67628\n",
      "Processed: 80000 compounds - chembl_id : CHEMBL90147\n",
      "Processed: 100000 compounds - chembl_id : CHEMBL111755\n",
      "Processed: 120000 compounds - chembl_id : CHEMBL132114\n"
     ]
    },
    {
     "name": "stderr",
     "output_type": "stream",
     "text": [
      "RDKit WARNING: [15:02:34] Warning: conflicting stereochemistry at atom 48 ignored. by rule 1a.\n",
      "[15:02:34] Warning: conflicting stereochemistry at atom 48 ignored. by rule 1a.\n",
      "RDKit WARNING: [15:02:34] Warning: conflicting stereochemistry at atom 48 ignored. by rule 1a.\n",
      "[15:02:34] Warning: conflicting stereochemistry at atom 48 ignored. by rule 1a.\n"
     ]
    },
    {
     "name": "stdout",
     "output_type": "stream",
     "text": [
      "Processed: 140000 compounds - chembl_id : CHEMBL151673\n",
      "Processed: 160000 compounds - chembl_id : CHEMBL171563\n",
      "Processed: 180000 compounds - chembl_id : CHEMBL190889\n",
      "Processed: 200000 compounds - chembl_id : CHEMBL209362\n",
      "Processed: 220000 compounds - chembl_id : CHEMBL225994\n",
      "Processed: 240000 compounds - chembl_id : CHEMBL242586\n",
      "Processed: 260000 compounds - chembl_id : CHEMBL4458812\n",
      "Processed: 280000 compounds - chembl_id : CHEMBL278545\n",
      "Processed: 300000 compounds - chembl_id : CHEMBL299609\n",
      "Processed: 320000 compounds - chembl_id : CHEMBL4468915\n",
      "Processed: 340000 compounds - chembl_id : CHEMBL340126\n",
      "Processed: 360000 compounds - chembl_id : CHEMBL4474989\n",
      "Processed: 380000 compounds - chembl_id : CHEMBL1201984\n",
      "Processed: 400000 compounds - chembl_id : CHEMBL395047\n",
      "Processed: 420000 compounds - chembl_id : CHEMBL4517967\n",
      "Processed: 440000 compounds - chembl_id : CHEMBL438615\n",
      "Processed: 460000 compounds - chembl_id : CHEMBL460768\n",
      "Processed: 480000 compounds - chembl_id : CHEMBL478613\n",
      "Processed: 500000 compounds - chembl_id : CHEMBL497024\n",
      "Processed: 520000 compounds - chembl_id : CHEMBL516776\n",
      "Processed: 540000 compounds - chembl_id : CHEMBL4538488\n",
      "Processed: 560000 compounds - chembl_id : CHEMBL4547512\n",
      "Processed: 580000 compounds - chembl_id : CHEMBL550421\n",
      "Processed: 600000 compounds - chembl_id : CHEMBL561627\n",
      "Processed: 620000 compounds - chembl_id : CHEMBL4571471\n",
      "Processed: 640000 compounds - chembl_id : CHEMBL1868041\n",
      "Processed: 660000 compounds - chembl_id : CHEMBL577582\n",
      "Processed: 680000 compounds - chembl_id : CHEMBL1801303\n",
      "Processed: 700000 compounds - chembl_id : CHEMBL295046\n",
      "Processed: 720000 compounds - chembl_id : CHEMBL546390\n",
      "Processed: 740000 compounds - chembl_id : CHEMBL1085167\n",
      "Processed: 760000 compounds - chembl_id : CHEMBL3306622\n",
      "Processed: 780000 compounds - chembl_id : CHEMBL525282\n",
      "Processed: 800000 compounds - chembl_id : CHEMBL50133\n",
      "Processed: 820000 compounds - chembl_id : CHEMBL461005\n",
      "Processed: 840000 compounds - chembl_id : CHEMBL3361157\n",
      "Processed: 860000 compounds - chembl_id : CHEMBL1309275\n",
      "Processed: 880000 compounds - chembl_id : CHEMBL1346217\n",
      "Processed: 900000 compounds - chembl_id : CHEMBL1328948\n",
      "Processed: 920000 compounds - chembl_id : CHEMBL1359237\n",
      "Processed: 940000 compounds - chembl_id : CHEMBL1395271\n",
      "Processed: 960000 compounds - chembl_id : CHEMBL1408094\n",
      "Processed: 980000 compounds - chembl_id : CHEMBL1434327\n",
      "Processed: 1000000 compounds - chembl_id : CHEMBL1436015\n",
      "Processed: 1020000 compounds - chembl_id : CHEMBL1446154\n",
      "Processed: 1040000 compounds - chembl_id : CHEMBL1501568\n",
      "Processed: 1060000 compounds - chembl_id : CHEMBL1529321\n",
      "Processed: 1080000 compounds - chembl_id : CHEMBL1562267\n",
      "Processed: 1100000 compounds - chembl_id : CHEMBL1558198\n",
      "Processed: 1120000 compounds - chembl_id : CHEMBL1604047\n",
      "Processed: 1140000 compounds - chembl_id : CHEMBL1608702\n",
      "Processed: 1160000 compounds - chembl_id : CHEMBL1618999\n",
      "Processed: 1180000 compounds - chembl_id : CHEMBL1698545\n",
      "Processed: 1200000 compounds - chembl_id : CHEMBL1736741\n",
      "Processed: 1220000 compounds - chembl_id : CHEMBL1708069\n",
      "Processed: 1240000 compounds - chembl_id : CHEMBL1906176\n",
      "Processed: 1260000 compounds - chembl_id : CHEMBL1899245\n",
      "Processed: 1280000 compounds - chembl_id : CHEMBL1886843\n",
      "Processed: 1300000 compounds - chembl_id : CHEMBL1985585\n",
      "Processed: 1320000 compounds - chembl_id : CHEMBL1998581\n"
     ]
    },
    {
     "name": "stderr",
     "output_type": "stream",
     "text": [
      "RDKit WARNING: [15:09:43] WARNING: not removing hydrogen atom without neighbors\n",
      "[15:09:43] WARNING: not removing hydrogen atom without neighbors\n"
     ]
    },
    {
     "name": "stdout",
     "output_type": "stream",
     "text": [
      "Processed: 1340000 compounds - chembl_id : CHEMBL1983322\n",
      "Processed: 1360000 compounds - chembl_id : CHEMBL2035131\n",
      "Processed: 1380000 compounds - chembl_id : CHEMBL2109907\n"
     ]
    },
    {
     "name": "stderr",
     "output_type": "stream",
     "text": [
      "RDKit WARNING: [15:10:17] Warning: conflicting stereochemistry at atom 0 ignored. by rule 2b.\n",
      "[15:10:17] Warning: conflicting stereochemistry at atom 0 ignored. by rule 2b.\n"
     ]
    },
    {
     "name": "stdout",
     "output_type": "stream",
     "text": [
      "Processed: 1400000 compounds - chembl_id : CHEMBL2144471\n",
      "Processed: 1420000 compounds - chembl_id : CHEMBL2153098\n",
      "Processed: 1440000 compounds - chembl_id : CHEMBL2312695\n",
      "Processed: 1460000 compounds - chembl_id : CHEMBL2347669\n",
      "Processed: 1480000 compounds - chembl_id : CHEMBL2386980\n",
      "Processed: 1500000 compounds - chembl_id : CHEMBL2436775\n",
      "Processed: 1520000 compounds - chembl_id : CHEMBL2230239\n",
      "Processed: 1540000 compounds - chembl_id : CHEMBL3112640\n"
     ]
    },
    {
     "name": "stderr",
     "output_type": "stream",
     "text": [
      "RDKit WARNING: [15:11:22] WARNING: not removing hydrogen atom without neighbors\n",
      "[15:11:22] WARNING: not removing hydrogen atom without neighbors\n"
     ]
    },
    {
     "name": "stdout",
     "output_type": "stream",
     "text": [
      "Processed: 1560000 compounds - chembl_id : CHEMBL3193455\n"
     ]
    },
    {
     "name": "stderr",
     "output_type": "stream",
     "text": [
      "RDKit WARNING: [15:11:31] WARNING: not removing hydrogen atom without neighbors\n",
      "[15:11:31] WARNING: not removing hydrogen atom without neighbors\n"
     ]
    },
    {
     "name": "stdout",
     "output_type": "stream",
     "text": [
      "Processed: 1580000 compounds - chembl_id : CHEMBL3186526\n"
     ]
    },
    {
     "name": "stderr",
     "output_type": "stream",
     "text": [
      "RDKit WARNING: [15:11:32] Warning: conflicting stereochemistry at atom 8 ignored. by rule 2b.\n",
      "[15:11:32] Warning: conflicting stereochemistry at atom 8 ignored. by rule 2b.\n",
      "RDKit WARNING: [15:11:37] WARNING: not removing hydrogen atom without neighbors\n",
      "[15:11:37] WARNING: not removing hydrogen atom without neighbors\n"
     ]
    },
    {
     "name": "stdout",
     "output_type": "stream",
     "text": [
      "Processed: 1600000 compounds - chembl_id : CHEMBL3249770\n",
      "Processed: 1620000 compounds - chembl_id : CHEMBL3262060\n",
      "Processed: 1640000 compounds - chembl_id : CHEMBL3440752\n",
      "Processed: 1660000 compounds - chembl_id : CHEMBL3451724\n",
      "Processed: 1680000 compounds - chembl_id : CHEMBL3470006\n",
      "Processed: 1700000 compounds - chembl_id : CHEMBL3494322\n",
      "Processed: 1720000 compounds - chembl_id : CHEMBL3480104\n",
      "Processed: 1740000 compounds - chembl_id : CHEMBL3617872\n",
      "Processed: 1760000 compounds - chembl_id : CHEMBL3634613\n",
      "Processed: 1780000 compounds - chembl_id : CHEMBL3668594\n",
      "Processed: 1800000 compounds - chembl_id : CHEMBL3641064\n",
      "Processed: 1820000 compounds - chembl_id : CHEMBL3639488\n",
      "Processed: 1840000 compounds - chembl_id : CHEMBL3781977\n",
      "Processed: 1860000 compounds - chembl_id : CHEMBL3827010\n",
      "Processed: 1880000 compounds - chembl_id : CHEMBL3910942\n",
      "Processed: 1900000 compounds - chembl_id : CHEMBL3932182\n",
      "Processed: 1920000 compounds - chembl_id : CHEMBL3954284\n",
      "Processed: 1940000 compounds - chembl_id : CHEMBL3975122\n"
     ]
    },
    {
     "name": "stderr",
     "output_type": "stream",
     "text": [
      "RDKit WARNING: [15:14:07] WARNING: not removing hydrogen atom without neighbors\n",
      "[15:14:07] WARNING: not removing hydrogen atom without neighbors\n",
      "RDKit WARNING: [15:14:07] WARNING: not removing hydrogen atom without neighbors\n",
      "RDKit WARNING: [15:14:07] WARNING: not removing hydrogen atom without neighbors\n",
      "[15:14:07] WARNING: not removing hydrogen atom without neighbors\n",
      "[15:14:07] WARNING: not removing hydrogen atom without neighbors\n"
     ]
    },
    {
     "name": "stdout",
     "output_type": "stream",
     "text": [
      "Processed: 1960000 compounds - chembl_id : CHEMBL3984606\n",
      "Processed: 1980000 compounds - chembl_id : CHEMBL4088547\n",
      "Processed: 2000000 compounds - chembl_id : CHEMBL4107920\n",
      "Processed: 2020000 compounds - chembl_id : CHEMBL4173719\n",
      "Processed: 2040000 compounds - chembl_id : CHEMBL4211115\n",
      "Processed: 2060000 compounds - chembl_id : CHEMBL4202486\n",
      "Processed: 2080000 compounds - chembl_id : CHEMBL4283762\n"
     ]
    }
   ],
   "source": [
    "if compoundsFile is None:\n",
    "    print(' Compounds File is Not provided - run for all Chembl ids')\n",
    "    fp = sdf.getMorganFingerPrintsAll(nMorgan)\n",
    "else:\n",
    "    print(f\" Compounds File is {compoundsFile}\")\n",
    "    compoundIDs = getChemblIDs(compoundsFile)\n",
    "    fp = sdf.getMorganFingerPrints(compoundIDs, nMorgan)"
   ]
  },
  {
   "cell_type": "markdown",
   "id": "b944ca25",
   "metadata": {},
   "source": [
    "### Save Morgan Fingerprint results "
   ]
  },
  {
   "cell_type": "code",
   "execution_count": 32,
   "id": "205cce69",
   "metadata": {
    "ExecuteTime": {
     "end_time": "2022-08-01T13:22:38.880972Z",
     "start_time": "2022-08-01T13:22:38.845269Z"
    }
   },
   "outputs": [
    {
     "name": "stdout",
     "output_type": "stream",
     "text": [
      " output file   :   output/chembl_29/chembl_29_X.csv\n",
      " compounds file:   output/chembl_29/chembl_29_compounds.csv\n",
      "<class 'dict'>\n",
      "423737\n",
      "CHEMBL405398\n",
      "{98513984: 1, 136810838: 1, 591190074: 1, 600629739: 1, 619920801: 2, 725322217: 1, 779152244: 1, 787069595: 1, 847961216: 2, 895250610: 1, 951226070: 3, 971553482: 1, 1003790885: 1, 1024714809: 1, 1100037548: 2, 1222631225: 2, 1255595680: 1, 1257718710: 2, 1271427701: 1, 1316442092: 1, 1349404210: 1, 1528304983: 1, 1530144349: 1, 1601910673: 1, 1608392297: 1, 1634606847: 1, 1717044408: 1, 1781750782: 1, 1868602760: 1, 1907845850: 1, 1971022618: 1, 2041434490: 3, 2048117778: 1, 2092489639: 1, 2093282138: 1, 2144345290: 1, 2245384272: 2, 2257970297: 1, 2267998563: 1, 2315593046: 1, 2589782852: 1, 2676693293: 1, 2685954589: 1, 2747921197: 1, 2803848648: 2, 2900402147: 1, 2960810393: 1, 2967998925: 1, 2968968094: 4, 2991110306: 1, 3063504103: 1, 3095754548: 1, 3118255683: 1, 3182824521: 1, 3189457552: 1, 3203709451: 1, 3217380708: 6, 3218693969: 7, 3311725064: 1, 3596485316: 1, 3598197347: 1, 3612926680: 1, 3632350815: 1, 3692055567: 1, 3706955836: 1, 3709437002: 1, 3750444818: 1, 3776905034: 1, 3777168895: 1, 3888780669: 1, 3977047921: 1, 3983062349: 1, 4004723865: 1, 4041573576: 1, 4042373501: 1, 4050976520: 1, 4055698890: 1, 4113365465: 1, 4239037249: 1}\n"
     ]
    }
   ],
   "source": [
    "print(f\" output file   :   {outFile}\")\n",
    "print(f\" compounds file:   {compoundsFile}\")\n",
    "print(type(fp))\n",
    "fp_key_list = list(fp.keys())\n",
    "print(len(fp_key_list))\n",
    "print(fp_key_list[0])\n",
    "print(fp['CHEMBL405398'])"
   ]
  },
  {
   "cell_type": "code",
   "execution_count": 24,
   "id": "1b2de9d3",
   "metadata": {
    "ExecuteTime": {
     "end_time": "2022-08-01T13:16:26.317259Z",
     "start_time": "2022-08-01T13:15:59.659390Z"
    }
   },
   "outputs": [
    {
     "name": "stdout",
     "output_type": "stream",
     "text": [
      " => fingerprints written to output/chembl_29/chembl_29_X.csv \n"
     ]
    }
   ],
   "source": [
    "## Write CSV dataset of compound, feature\n",
    "saveFingerprints(fp, outFile)"
   ]
  },
  {
   "cell_type": "code",
   "execution_count": 25,
   "id": "3e2969c8",
   "metadata": {
    "ExecuteTime": {
     "end_time": "2022-08-01T13:16:40.408314Z",
     "start_time": "2022-08-01T13:16:26.324623Z"
    },
    "scrolled": true
   },
   "outputs": [
    {
     "name": "stdout",
     "output_type": "stream",
     "text": [
      " => fingerprints written to Step20/2.1_fp_32000.npy \n",
      " => compounds written to Step20/2.2_cmpd_list_X.csv \n"
     ]
    }
   ],
   "source": [
    "saveFingerprintsNpy(fp, \"Step20/2.1_fp_32000.npy\", \"Step20/2.2_cmpd_list_X.csv\", ecfp_fold=32000)\n"
   ]
  },
  {
   "cell_type": "code",
   "execution_count": 26,
   "id": "7efc378d",
   "metadata": {
    "ExecuteTime": {
     "end_time": "2022-08-01T13:16:55.275511Z",
     "start_time": "2022-08-01T13:16:40.415212Z"
    },
    "scrolled": false
   },
   "outputs": [
    {
     "name": "stdout",
     "output_type": "stream",
     "text": [
      " => fingerprints written to output/chembl_29/chembl_29_X \n",
      " => compounds written to output/chembl_29/chembl_29_X_cmpds.csv \n"
     ]
    }
   ],
   "source": [
    "saveFingerprintsNpy(fp, f\"output/{VERSION}/{VERSION}_X\", f\"output/{VERSION}/{VERSION}_X_cmpds.csv\", ecfp_fold=32000)\n"
   ]
  },
  {
   "cell_type": "markdown",
   "id": "0dd0a6b5",
   "metadata": {},
   "source": [
    "### Misc"
   ]
  },
  {
   "cell_type": "code",
   "execution_count": 2,
   "id": "8d302ff3",
   "metadata": {
    "ExecuteTime": {
     "end_time": "2022-08-01T12:02:03.778902Z",
     "start_time": "2022-08-01T12:02:03.438419Z"
    }
   },
   "outputs": [],
   "source": [
    "import pandas as pd\n",
    "import numpy as np"
   ]
  },
  {
   "cell_type": "code",
   "execution_count": 27,
   "id": "7c8d2c08",
   "metadata": {
    "ExecuteTime": {
     "end_time": "2022-08-01T13:17:14.415014Z",
     "start_time": "2022-08-01T13:17:02.191152Z"
    }
   },
   "outputs": [
    {
     "name": "stdout",
     "output_type": "stream",
     "text": [
      "<class 'pandas.core.frame.DataFrame'>\n",
      "RangeIndex: 32883981 entries, 0 to 32883980\n",
      "Data columns (total 2 columns):\n",
      " #   Column    Dtype \n",
      "---  ------    ----- \n",
      " 0   compound  object\n",
      " 1   feature   int64 \n",
      "dtypes: int64(1), object(1)\n",
      "memory usage: 501.8+ MB\n"
     ]
    },
    {
     "data": {
      "text/plain": [
       "compound     423737\n",
       "feature     1090504\n",
       "dtype: int64"
      ]
     },
     "execution_count": 27,
     "metadata": {},
     "output_type": "execute_result"
    }
   ],
   "source": [
    "df = pd.read_csv(\"output/chembl_29/chembl_29_X.csv\")\n",
    "\n",
    "df.info()\n",
    "df.nunique()"
   ]
  },
  {
   "cell_type": "code",
   "execution_count": 28,
   "id": "e06b9bfb",
   "metadata": {
    "ExecuteTime": {
     "end_time": "2022-08-01T13:19:04.375989Z",
     "start_time": "2022-08-01T13:19:03.948825Z"
    }
   },
   "outputs": [
    {
     "name": "stdout",
     "output_type": "stream",
     "text": [
      "<class 'pandas.core.frame.DataFrame'>\n",
      "RangeIndex: 423736 entries, 0 to 423735\n",
      "Data columns (total 2 columns):\n",
      " #   Column        Non-Null Count   Dtype \n",
      "---  ------        --------------   ----- \n",
      " 0   0             423736 non-null  int64 \n",
      " 1   CHEMBL405398  423736 non-null  object\n",
      "dtypes: int64(1), object(1)\n",
      "memory usage: 6.5+ MB\n"
     ]
    },
    {
     "data": {
      "text/plain": [
       "0               423736\n",
       "CHEMBL405398    423736\n",
       "dtype: int64"
      ]
     },
     "execution_count": 28,
     "metadata": {},
     "output_type": "execute_result"
    }
   ],
   "source": [
    "df = pd.read_csv(\"Step20/2.2_cmpd_list_X.csv\")\n",
    "\n",
    "df.info()\n",
    "df.nunique()"
   ]
  },
  {
   "cell_type": "code",
   "execution_count": 5,
   "id": "aad64fcc",
   "metadata": {
    "ExecuteTime": {
     "end_time": "2022-08-01T12:02:09.881877Z",
     "start_time": "2022-08-01T12:02:09.870416Z"
    }
   },
   "outputs": [],
   "source": [
    "del df"
   ]
  },
  {
   "cell_type": "code",
   "execution_count": 33,
   "id": "d1596988",
   "metadata": {
    "ExecuteTime": {
     "end_time": "2022-08-01T13:23:47.341020Z",
     "start_time": "2022-08-01T13:23:47.155037Z"
    }
   },
   "outputs": [
    {
     "data": {
      "text/plain": [
       "array(<423737x32000 sparse matrix of type '<class 'numpy.float64'>'\n",
       "\twith 32838752 stored elements in Compressed Sparse Row format>,\n",
       "      dtype=object)"
      ]
     },
     "execution_count": 33,
     "metadata": {},
     "output_type": "execute_result"
    }
   ],
   "source": [
    "np.load(\"Step20/2.1_fp_32000.npy\", allow_pickle = True)"
   ]
  },
  {
   "cell_type": "code",
   "execution_count": 38,
   "id": "5ab6e55d",
   "metadata": {
    "ExecuteTime": {
     "end_time": "2022-07-20T11:20:15.423943Z",
     "start_time": "2022-07-20T11:20:15.391179Z"
    }
   },
   "outputs": [
    {
     "name": "stdout",
     "output_type": "stream",
     "text": [
      "{98513984: 1, 136810838: 1, 591190074: 1, 600629739: 1, 619920801: 2, 725322217: 1, 779152244: 1, 787069595: 1, 847961216: 2, 895250610: 1, 951226070: 3, 971553482: 1, 1003790885: 1, 1024714809: 1, 1100037548: 2, 1222631225: 2, 1255595680: 1, 1257718710: 2, 1271427701: 1, 1316442092: 1, 1349404210: 1, 1528304983: 1, 1530144349: 1, 1601910673: 1, 1608392297: 1, 1634606847: 1, 1717044408: 1, 1781750782: 1, 1868602760: 1, 1907845850: 1, 1971022618: 1, 2041434490: 3, 2048117778: 1, 2092489639: 1, 2093282138: 1, 2144345290: 1, 2245384272: 2, 2257970297: 1, 2267998563: 1, 2315593046: 1, 2589782852: 1, 2676693293: 1, 2685954589: 1, 2747921197: 1, 2803848648: 2, 2900402147: 1, 2960810393: 1, 2967998925: 1, 2968968094: 4, 2991110306: 1, 3063504103: 1, 3095754548: 1, 3118255683: 1, 3182824521: 1, 3189457552: 1, 3203709451: 1, 3217380708: 6, 3218693969: 7, 3311725064: 1, 3596485316: 1, 3598197347: 1, 3612926680: 1, 3632350815: 1, 3692055567: 1, 3706955836: 1, 3709437002: 1, 3750444818: 1, 3776905034: 1, 3777168895: 1, 3888780669: 1, 3977047921: 1, 3983062349: 1, 4004723865: 1, 4041573576: 1, 4042373501: 1, 4050976520: 1, 4055698890: 1, 4113365465: 1, 4239037249: 1}\n"
     ]
    }
   ],
   "source": [
    "list(fp.keys())[:10]\n",
    "print(fp['CHEMBL405398'])"
   ]
  },
  {
   "cell_type": "code",
   "execution_count": 78,
   "id": "3a800294",
   "metadata": {
    "ExecuteTime": {
     "end_time": "2022-07-20T11:44:24.455206Z",
     "start_time": "2022-07-20T11:44:24.435535Z"
    }
   },
   "outputs": [
    {
     "data": {
      "text/plain": [
       "{98513984: 1,\n",
       " 136810838: 1,\n",
       " 591190074: 1,\n",
       " 600629739: 1,\n",
       " 619920801: 2,\n",
       " 725322217: 1,\n",
       " 779152244: 1,\n",
       " 787069595: 1,\n",
       " 847961216: 2,\n",
       " 895250610: 1,\n",
       " 951226070: 3,\n",
       " 971553482: 1,\n",
       " 1003790885: 1,\n",
       " 1024714809: 1,\n",
       " 1100037548: 2,\n",
       " 1222631225: 2,\n",
       " 1255595680: 1,\n",
       " 1257718710: 2,\n",
       " 1271427701: 1,\n",
       " 1316442092: 1,\n",
       " 1349404210: 1,\n",
       " 1528304983: 1,\n",
       " 1530144349: 1,\n",
       " 1601910673: 1,\n",
       " 1608392297: 1,\n",
       " 1634606847: 1,\n",
       " 1717044408: 1,\n",
       " 1781750782: 1,\n",
       " 1868602760: 1,\n",
       " 1907845850: 1,\n",
       " 1971022618: 1,\n",
       " 2041434490: 3,\n",
       " 2048117778: 1,\n",
       " 2092489639: 1,\n",
       " 2093282138: 1,\n",
       " 2144345290: 1,\n",
       " 2245384272: 2,\n",
       " 2257970297: 1,\n",
       " 2267998563: 1,\n",
       " 2315593046: 1,\n",
       " 2589782852: 1,\n",
       " 2676693293: 1,\n",
       " 2685954589: 1,\n",
       " 2747921197: 1,\n",
       " 2803848648: 2,\n",
       " 2900402147: 1,\n",
       " 2960810393: 1,\n",
       " 2967998925: 1,\n",
       " 2968968094: 4,\n",
       " 2991110306: 1,\n",
       " 3063504103: 1,\n",
       " 3095754548: 1,\n",
       " 3118255683: 1,\n",
       " 3182824521: 1,\n",
       " 3189457552: 1,\n",
       " 3203709451: 1,\n",
       " 3217380708: 6,\n",
       " 3218693969: 7,\n",
       " 3311725064: 1,\n",
       " 3596485316: 1,\n",
       " 3598197347: 1,\n",
       " 3612926680: 1,\n",
       " 3632350815: 1,\n",
       " 3692055567: 1,\n",
       " 3706955836: 1,\n",
       " 3709437002: 1,\n",
       " 3750444818: 1,\n",
       " 3776905034: 1,\n",
       " 3777168895: 1,\n",
       " 3888780669: 1,\n",
       " 3977047921: 1,\n",
       " 3983062349: 1,\n",
       " 4004723865: 1,\n",
       " 4041573576: 1,\n",
       " 4042373501: 1,\n",
       " 4050976520: 1,\n",
       " 4055698890: 1,\n",
       " 4113365465: 1,\n",
       " 4239037249: 1}"
      ]
     },
     "execution_count": 78,
     "metadata": {},
     "output_type": "execute_result"
    }
   ],
   "source": [
    "fp['CHEMBL405398']"
   ]
  },
  {
   "cell_type": "code",
   "execution_count": 80,
   "id": "071cc74c",
   "metadata": {
    "ExecuteTime": {
     "end_time": "2022-07-20T11:45:00.808621Z",
     "start_time": "2022-07-20T11:45:00.779995Z"
    }
   },
   "outputs": [
    {
     "name": "stdout",
     "output_type": "stream",
     "text": [
      "['CHEMBL405398', 98513984]\n",
      "['CHEMBL405398', 136810838]\n",
      "['CHEMBL405398', 591190074]\n",
      "['CHEMBL405398', 600629739]\n",
      "['CHEMBL405398', 619920801]\n",
      "['CHEMBL405398', 725322217]\n",
      "['CHEMBL405398', 779152244]\n",
      "['CHEMBL405398', 787069595]\n",
      "['CHEMBL405398', 847961216]\n",
      "['CHEMBL405398', 895250610]\n",
      "['CHEMBL405398', 951226070]\n",
      "['CHEMBL405398', 971553482]\n",
      "['CHEMBL405398', 1003790885]\n",
      "['CHEMBL405398', 1024714809]\n",
      "['CHEMBL405398', 1100037548]\n",
      "['CHEMBL405398', 1222631225]\n",
      "['CHEMBL405398', 1255595680]\n",
      "['CHEMBL405398', 1257718710]\n",
      "['CHEMBL405398', 1271427701]\n",
      "['CHEMBL405398', 1316442092]\n",
      "['CHEMBL405398', 1349404210]\n",
      "['CHEMBL405398', 1528304983]\n",
      "['CHEMBL405398', 1530144349]\n",
      "['CHEMBL405398', 1601910673]\n",
      "['CHEMBL405398', 1608392297]\n",
      "['CHEMBL405398', 1634606847]\n",
      "['CHEMBL405398', 1717044408]\n",
      "['CHEMBL405398', 1781750782]\n",
      "['CHEMBL405398', 1868602760]\n",
      "['CHEMBL405398', 1907845850]\n",
      "['CHEMBL405398', 1971022618]\n",
      "['CHEMBL405398', 2041434490]\n",
      "['CHEMBL405398', 2048117778]\n",
      "['CHEMBL405398', 2092489639]\n",
      "['CHEMBL405398', 2093282138]\n",
      "['CHEMBL405398', 2144345290]\n",
      "['CHEMBL405398', 2245384272]\n",
      "['CHEMBL405398', 2257970297]\n",
      "['CHEMBL405398', 2267998563]\n",
      "['CHEMBL405398', 2315593046]\n",
      "['CHEMBL405398', 2589782852]\n",
      "['CHEMBL405398', 2676693293]\n",
      "['CHEMBL405398', 2685954589]\n",
      "['CHEMBL405398', 2747921197]\n",
      "['CHEMBL405398', 2803848648]\n",
      "['CHEMBL405398', 2900402147]\n",
      "['CHEMBL405398', 2960810393]\n",
      "['CHEMBL405398', 2967998925]\n",
      "['CHEMBL405398', 2968968094]\n",
      "['CHEMBL405398', 2991110306]\n",
      "['CHEMBL405398', 3063504103]\n",
      "['CHEMBL405398', 3095754548]\n",
      "['CHEMBL405398', 3118255683]\n",
      "['CHEMBL405398', 3182824521]\n",
      "['CHEMBL405398', 3189457552]\n",
      "['CHEMBL405398', 3203709451]\n",
      "['CHEMBL405398', 3217380708]\n",
      "['CHEMBL405398', 3218693969]\n",
      "['CHEMBL405398', 3311725064]\n",
      "['CHEMBL405398', 3596485316]\n",
      "['CHEMBL405398', 3598197347]\n",
      "['CHEMBL405398', 3612926680]\n",
      "['CHEMBL405398', 3632350815]\n",
      "['CHEMBL405398', 3692055567]\n",
      "['CHEMBL405398', 3706955836]\n",
      "['CHEMBL405398', 3709437002]\n",
      "['CHEMBL405398', 3750444818]\n",
      "['CHEMBL405398', 3776905034]\n",
      "['CHEMBL405398', 3777168895]\n",
      "['CHEMBL405398', 3888780669]\n",
      "['CHEMBL405398', 3977047921]\n",
      "['CHEMBL405398', 3983062349]\n",
      "['CHEMBL405398', 4004723865]\n",
      "['CHEMBL405398', 4041573576]\n",
      "['CHEMBL405398', 4042373501]\n",
      "['CHEMBL405398', 4050976520]\n",
      "['CHEMBL405398', 4055698890]\n",
      "['CHEMBL405398', 4113365465]\n",
      "['CHEMBL405398', 4239037249]\n"
     ]
    }
   ],
   "source": [
    "for compound in fp:\n",
    "    for feature in fp[compound]:\n",
    "        print([compound, feature] )\n",
    "    break"
   ]
  },
  {
   "cell_type": "code",
   "execution_count": 40,
   "id": "05c4d640",
   "metadata": {
    "ExecuteTime": {
     "end_time": "2022-07-20T11:29:55.064232Z",
     "start_time": "2022-07-20T11:29:48.175612Z"
    }
   },
   "outputs": [],
   "source": [
    "fp2 =[(x,(np.array(list(fp[x].keys())), np.array(list(fp[x].values())))) for x in fp] #TODO: Modify to save compound list"
   ]
  },
  {
   "cell_type": "code",
   "execution_count": 45,
   "id": "c0f52d70",
   "metadata": {
    "ExecuteTime": {
     "end_time": "2022-07-20T11:30:24.644632Z",
     "start_time": "2022-07-20T11:30:24.623027Z"
    }
   },
   "outputs": [
    {
     "data": {
      "text/plain": [
       "('CHEMBL405398',\n",
       " (array([  98513984,  136810838,  591190074,  600629739,  619920801,\n",
       "          725322217,  779152244,  787069595,  847961216,  895250610,\n",
       "          951226070,  971553482, 1003790885, 1024714809, 1100037548,\n",
       "         1222631225, 1255595680, 1257718710, 1271427701, 1316442092,\n",
       "         1349404210, 1528304983, 1530144349, 1601910673, 1608392297,\n",
       "         1634606847, 1717044408, 1781750782, 1868602760, 1907845850,\n",
       "         1971022618, 2041434490, 2048117778, 2092489639, 2093282138,\n",
       "         2144345290, 2245384272, 2257970297, 2267998563, 2315593046,\n",
       "         2589782852, 2676693293, 2685954589, 2747921197, 2803848648,\n",
       "         2900402147, 2960810393, 2967998925, 2968968094, 2991110306,\n",
       "         3063504103, 3095754548, 3118255683, 3182824521, 3189457552,\n",
       "         3203709451, 3217380708, 3218693969, 3311725064, 3596485316,\n",
       "         3598197347, 3612926680, 3632350815, 3692055567, 3706955836,\n",
       "         3709437002, 3750444818, 3776905034, 3777168895, 3888780669,\n",
       "         3977047921, 3983062349, 4004723865, 4041573576, 4042373501,\n",
       "         4050976520, 4055698890, 4113365465, 4239037249]),\n",
       "  array([1, 1, 1, 1, 2, 1, 1, 1, 2, 1, 3, 1, 1, 1, 2, 2, 1, 2, 1, 1, 1, 1,\n",
       "         1, 1, 1, 1, 1, 1, 1, 1, 1, 3, 1, 1, 1, 1, 2, 1, 1, 1, 1, 1, 1, 1,\n",
       "         2, 1, 1, 1, 4, 1, 1, 1, 1, 1, 1, 1, 6, 7, 1, 1, 1, 1, 1, 1, 1, 1,\n",
       "         1, 1, 1, 1, 1, 1, 1, 1, 1, 1, 1, 1, 1])))"
      ]
     },
     "execution_count": 45,
     "metadata": {},
     "output_type": "execute_result"
    }
   ],
   "source": [
    "fp2[0]"
   ]
  },
  {
   "cell_type": "code",
   "execution_count": 71,
   "id": "3c37cee7",
   "metadata": {
    "ExecuteTime": {
     "end_time": "2022-07-20T11:41:13.563472Z",
     "start_time": "2022-07-20T11:41:13.241216Z"
    }
   },
   "outputs": [],
   "source": [
    "cmpd, ecfp   = zip(*fp2)"
   ]
  },
  {
   "cell_type": "code",
   "execution_count": 73,
   "id": "a0f74052",
   "metadata": {
    "ExecuteTime": {
     "end_time": "2022-07-20T11:41:23.117642Z",
     "start_time": "2022-07-20T11:41:23.096969Z"
    }
   },
   "outputs": [
    {
     "name": "stdout",
     "output_type": "stream",
     "text": [
      "<class 'tuple'> <class 'tuple'>\n",
      "<class 'str'> <class 'tuple'>\n",
      "('CHEMBL405398', 'CHEMBL403325', 'CHEMBL501943', 'CHEMBL501094', 'CHEMBL505943', 'CHEMBL438018', 'CHEMBL444522', 'CHEMBL263810', 'CHEMBL266960', 'CHEMBL438997')\n",
      "[  98513984  136810838  591190074  600629739  619920801  725322217\n",
      "  779152244  787069595  847961216  895250610  951226070  971553482\n",
      " 1003790885 1024714809 1100037548 1222631225 1255595680 1257718710\n",
      " 1271427701 1316442092 1349404210 1528304983 1530144349 1601910673\n",
      " 1608392297 1634606847 1717044408 1781750782 1868602760 1907845850\n",
      " 1971022618 2041434490 2048117778 2092489639 2093282138 2144345290\n",
      " 2245384272 2257970297 2267998563 2315593046 2589782852 2676693293\n",
      " 2685954589 2747921197 2803848648 2900402147 2960810393 2967998925\n",
      " 2968968094 2991110306 3063504103 3095754548 3118255683 3182824521\n",
      " 3189457552 3203709451 3217380708 3218693969 3311725064 3596485316\n",
      " 3598197347 3612926680 3632350815 3692055567 3706955836 3709437002\n",
      " 3750444818 3776905034 3777168895 3888780669 3977047921 3983062349\n",
      " 4004723865 4041573576 4042373501 4050976520 4055698890 4113365465\n",
      " 4239037249]\n",
      "[1 1 1 1 2 1 1 1 2 1 3 1 1 1 2 2 1 2 1 1 1 1 1 1 1 1 1 1 1 1 1 3 1 1 1 1 2\n",
      " 1 1 1 1 1 1 1 2 1 1 1 4 1 1 1 1 1 1 1 6 7 1 1 1 1 1 1 1 1 1 1 1 1 1 1 1 1\n",
      " 1 1 1 1 1]\n"
     ]
    }
   ],
   "source": [
    "print(type(cmpd), type(ecfp))\n",
    "print(type(cmpd[0]), type(ecfp[0]))\n",
    "print(cmpd[:10])\n",
    "print(ecfp[0][0])\n",
    "print(ecfp[0][1])"
   ]
  },
  {
   "cell_type": "code",
   "execution_count": null,
   "id": "969941be",
   "metadata": {},
   "outputs": [],
   "source": []
  },
  {
   "cell_type": "code",
   "execution_count": 74,
   "id": "2a587122",
   "metadata": {
    "ExecuteTime": {
     "end_time": "2022-07-20T11:41:28.956079Z",
     "start_time": "2022-07-20T11:41:28.495662Z"
    }
   },
   "outputs": [],
   "source": [
    "feat, counts = zip(*ecfp)"
   ]
  },
  {
   "cell_type": "code",
   "execution_count": 75,
   "id": "e6903700",
   "metadata": {
    "ExecuteTime": {
     "end_time": "2022-07-20T11:41:30.105070Z",
     "start_time": "2022-07-20T11:41:30.083631Z"
    }
   },
   "outputs": [
    {
     "name": "stdout",
     "output_type": "stream",
     "text": [
      "<class 'tuple'> <class 'tuple'>\n",
      "<class 'numpy.ndarray'> <class 'numpy.ndarray'>\n"
     ]
    }
   ],
   "source": [
    "print(type(feat), type(counts))\n",
    "print(type(feat[0]), type(counts[0]))"
   ]
  },
  {
   "cell_type": "code",
   "execution_count": 109,
   "id": "2c225d6d",
   "metadata": {
    "ExecuteTime": {
     "end_time": "2022-07-20T12:41:42.032508Z",
     "start_time": "2022-07-20T12:41:42.015949Z"
    }
   },
   "outputs": [
    {
     "name": "stdout",
     "output_type": "stream",
     "text": [
      "79 [  98513984  136810838  591190074  600629739  619920801  725322217\n",
      "  779152244  787069595  847961216  895250610  951226070  971553482\n",
      " 1003790885 1024714809 1100037548 1222631225 1255595680 1257718710\n",
      " 1271427701 1316442092 1349404210 1528304983 1530144349 1601910673\n",
      " 1608392297 1634606847 1717044408 1781750782 1868602760 1907845850\n",
      " 1971022618 2041434490 2048117778 2092489639 2093282138 2144345290\n",
      " 2245384272 2257970297 2267998563 2315593046 2589782852 2676693293\n",
      " 2685954589 2747921197 2803848648 2900402147 2960810393 2967998925\n",
      " 2968968094 2991110306 3063504103 3095754548 3118255683 3182824521\n",
      " 3189457552 3203709451 3217380708 3218693969 3311725064 3596485316\n",
      " 3598197347 3612926680 3632350815 3692055567 3706955836 3709437002\n",
      " 3750444818 3776905034 3777168895 3888780669 3977047921 3983062349\n",
      " 4004723865 4041573576 4042373501 4050976520 4055698890 4113365465\n",
      " 4239037249]\n"
     ]
    }
   ],
   "source": [
    "print(len(feat[0]), feat[0])"
   ]
  },
  {
   "cell_type": "code",
   "execution_count": 77,
   "id": "ca1c77f1",
   "metadata": {
    "ExecuteTime": {
     "end_time": "2022-07-20T11:41:38.647788Z",
     "start_time": "2022-07-20T11:41:38.629409Z"
    }
   },
   "outputs": [
    {
     "name": "stdout",
     "output_type": "stream",
     "text": [
      "[1 1 1 1 2 1 1 1 2 1 3 1 1 1 2 2 1 2 1 1 1 1 1 1 1 1 1 1 1 1 1 3 1 1 1 1 2\n",
      " 1 1 1 1 1 1 1 2 1 1 1 4 1 1 1 1 1 1 1 6 7 1 1 1 1 1 1 1 1 1 1 1 1 1 1 1 1\n",
      " 1 1 1 1 1]\n"
     ]
    }
   ],
   "source": [
    "print(counts[0])"
   ]
  },
  {
   "cell_type": "code",
   "execution_count": 105,
   "id": "0d22fe1a",
   "metadata": {
    "ExecuteTime": {
     "end_time": "2022-07-20T12:40:54.971489Z",
     "start_time": "2022-07-20T12:40:54.850378Z"
    }
   },
   "outputs": [],
   "source": [
    "lens    = np.array([len(f) for f in feat])"
   ]
  },
  {
   "cell_type": "code",
   "execution_count": 107,
   "id": "ff821c17",
   "metadata": {
    "ExecuteTime": {
     "end_time": "2022-07-20T12:41:19.974605Z",
     "start_time": "2022-07-20T12:41:19.957326Z"
    }
   },
   "outputs": [
    {
     "name": "stdout",
     "output_type": "stream",
     "text": [
      "<class 'numpy.ndarray'> 423737\n",
      "[ 79  83  87 186  49 167 127  78  81  97]\n"
     ]
    }
   ],
   "source": [
    "print(type(lens), len(lens))\n",
    "print(lens[:10])"
   ]
  },
  {
   "cell_type": "code",
   "execution_count": 112,
   "id": "bb02ab5b",
   "metadata": {
    "ExecuteTime": {
     "end_time": "2022-07-20T12:42:48.322073Z",
     "start_time": "2022-07-20T12:42:48.303172Z"
    }
   },
   "outputs": [
    {
     "name": "stdout",
     "output_type": "stream",
     "text": [
      "<class 'numpy.ndarray'> 423738\n",
      "[  0  79 162 249 435 484 651 778 856 937]\n"
     ]
    }
   ],
   "source": [
    "indptr  = np.concatenate([[0], np.cumsum(lens)])\n",
    "\n",
    "print(type(indptr), len(indptr))\n",
    "print(indptr[0:10])"
   ]
  },
  {
   "cell_type": "code",
   "execution_count": 114,
   "id": "c31d331a",
   "metadata": {
    "ExecuteTime": {
     "end_time": "2022-07-20T12:44:15.073451Z",
     "start_time": "2022-07-20T12:44:15.053215Z"
    }
   },
   "outputs": [
    {
     "name": "stdout",
     "output_type": "stream",
     "text": [
      "<class 'tuple'> 423737 <class 'numpy.ndarray'> 79\n"
     ]
    }
   ],
   "source": [
    "print(type(feat), len(feat), type(feat[0]), len(feat[0]))"
   ]
  },
  {
   "cell_type": "code",
   "execution_count": 119,
   "id": "33ed4b57",
   "metadata": {
    "ExecuteTime": {
     "end_time": "2022-07-20T12:46:25.117513Z",
     "start_time": "2022-07-20T12:46:24.854301Z"
    }
   },
   "outputs": [
    {
     "name": "stdout",
     "output_type": "stream",
     "text": [
      "<class 'numpy.ndarray'> 32883981\n",
      "[ 98513984 136810838 591190074 600629739 619920801 725322217 779152244\n",
      " 787069595 847961216 895250610]\n",
      "[17984 10838 22074 21739 16801 10217 16244 29595 25216 18610]\n"
     ]
    }
   ],
   "source": [
    "tmp = np.concatenate(feat)\n",
    "print(type(tmp), len(tmp)) \n",
    "print(tmp[:10])\n",
    "ecfp_fold = 32000\n",
    "print(tmp[:10]% ecfp_fold)\n",
    "del tmp"
   ]
  },
  {
   "cell_type": "code",
   "execution_count": 121,
   "id": "b38ead09",
   "metadata": {
    "ExecuteTime": {
     "end_time": "2022-07-20T12:46:47.159395Z",
     "start_time": "2022-07-20T12:46:46.336441Z"
    }
   },
   "outputs": [
    {
     "name": "stdout",
     "output_type": "stream",
     "text": [
      "(32883981,)\n"
     ]
    }
   ],
   "source": [
    "indices = np.concatenate(feat) % ecfp_fold\n",
    "print(indices.shape)"
   ]
  },
  {
   "cell_type": "code",
   "execution_count": 123,
   "id": "79c81aa0",
   "metadata": {
    "ExecuteTime": {
     "end_time": "2022-07-20T12:47:32.675702Z",
     "start_time": "2022-07-20T12:47:32.560791Z"
    }
   },
   "outputs": [
    {
     "name": "stdout",
     "output_type": "stream",
     "text": [
      "<class 'numpy.ndarray'> 32883981 <class 'numpy.float64'>\n"
     ]
    }
   ],
   "source": [
    "data    = np.ones(indices.shape[0])\n",
    "\n",
    "print(type(data), len(data), type(data[0]))"
   ]
  },
  {
   "cell_type": "code",
   "execution_count": 129,
   "id": "0b94e535",
   "metadata": {
    "ExecuteTime": {
     "end_time": "2022-07-20T12:52:26.941793Z",
     "start_time": "2022-07-20T12:52:26.927958Z"
    }
   },
   "outputs": [],
   "source": [
    "## the column indices for row i are stored in indices[indptr[i]:indptr[i+1]] \n",
    "## their corresponding values are stored in data[indptr[i]:indptr[i+1]]"
   ]
  },
  {
   "cell_type": "code",
   "execution_count": 142,
   "id": "bea7e5e6",
   "metadata": {
    "ExecuteTime": {
     "end_time": "2022-07-20T13:02:05.771759Z",
     "start_time": "2022-07-20T13:02:05.738025Z"
    }
   },
   "outputs": [
    {
     "name": "stdout",
     "output_type": "stream",
     "text": [
      "data     :  [1. 1. 1. 1. 1. 1. 1. 1. 1. 1. 1. 1. 1. 1. 1. 1. 1. 1. 1. 1. 1. 1. 1. 1.\n",
      " 1. 1. 1. 1. 1. 1. 1. 1. 1. 1. 1. 1. 1. 1. 1. 1. 1. 1. 1. 1. 1. 1. 1. 1.\n",
      " 1. 1. 1. 1. 1. 1. 1. 1. 1. 1. 1. 1. 1. 1. 1. 1. 1. 1. 1. 1. 1. 1. 1. 1.\n",
      " 1. 1. 1. 1. 1. 1. 1. 1. 1. 1. 1. 1. 1. 1. 1. 1. 1. 1. 1. 1. 1. 1. 1. 1.\n",
      " 1. 1. 1. 1. 1. 1. 1. 1. 1. 1. 1. 1. 1. 1. 1. 1. 1. 1. 1. 1. 1. 1. 1. 1.\n",
      " 1. 1. 1. 1. 1. 1. 1. 1. 1. 1. 1. 1. 1. 1. 1. 1. 1. 1. 1. 1. 1. 1. 1. 1.\n",
      " 1. 1. 1. 1. 1. 1. 1. 1. 1. 1. 1. 1. 1. 1. 1. 1. 1. 1. 1. 1. 1. 1. 1. 1.\n",
      " 1. 1. 1. 1. 1. 1. 1. 1. 1. 1. 1. 1. 1. 1. 1. 1. 1. 1. 1. 1. 1. 1. 1. 1.\n",
      " 1. 1. 1. 1. 1. 1. 1. 1. 1. 1. 1. 1. 1. 1. 1. 1. 1. 1. 1. 1. 1. 1. 1. 1.\n",
      " 1. 1. 1. 1. 1. 1. 1. 1. 1. 1. 1. 1. 1. 1. 1. 1. 1. 1. 1. 1. 1. 1. 1. 1.\n",
      " 1. 1. 1. 1. 1. 1. 1. 1. 1. 1. 1. 1. 1. 1. 1. 1. 1. 1. 1. 1. 1. 1. 1. 1.\n",
      " 1. 1. 1. 1. 1. 1. 1. 1. 1. 1. 1. 1. 1. 1. 1. 1. 2. 1. 1. 1. 1. 1. 1. 1.\n",
      " 1. 1. 1. 1. 1. 1. 1. 1. 1. 1. 1. 1. 1. 1. 1. 1. 1. 1. 1. 1. 1. 1. 1. 1.\n",
      " 1. 1. 1. 1. 1. 1. 1. 1. 1. 1. 1. 1. 1. 1. 1. 1. 1. 1. 1. 1. 1. 1. 1. 1.\n",
      " 1. 1. 1. 1. 1. 1. 1. 1. 1. 1. 1. 1. 1. 1. 1. 1. 1. 1. 1. 1. 1. 1. 1. 1.\n",
      " 1. 1. 1. 1. 1. 1. 1. 1. 1. 1. 1. 1. 1. 1. 1. 1. 1. 1. 1. 1. 1. 1. 1. 1.\n",
      " 1. 1. 1. 1. 1. 1. 1. 1. 1. 1. 1. 1. 1. 1. 1. 1. 1. 1. 1. 1. 1. 1. 1. 1.\n",
      " 1. 1. 1. 1. 1. 1. 1. 1. 1. 1. 1. 1. 1. 1. 1. 1. 1. 1. 1. 1. 1. 1. 1. 1.\n",
      " 1. 1. 1. 1. 1. 1. 1. 1. 1. 1. 1. 1. 1. 1. 1. 1. 1. 1. 1. 1. 1. 1. 1. 1.\n",
      " 1. 1. 1. 1. 1. 1. 1. 1. 1. 1. 1. 1. 1. 1. 1. 1. 1. 1. 1. 1. 1. 1. 1. 1.\n",
      " 1. 1. 1. 1. 1. 1. 1. 1. 1. 1. 1. 1. 1. 1. 1. 1. 1. 1. 1. 1. 1. 1. 1. 1.\n",
      " 1. 1. 1. 1. 1. 1. 1. 1. 1. 1. 1. 1. 1. 1. 1. 1. 1. 1. 1. 1. 1. 1. 1. 1.\n",
      " 1. 1. 1. 1. 1. 1. 1. 1. 1. 1. 1. 1. 1. 1. 1. 1. 1. 1. 1. 1. 1. 1. 1. 1.\n",
      " 1. 1. 1. 1. 1. 1. 1. 1. 1. 1. 1. 1. 1. 1. 1. 1. 1. 1. 1. 1. 1. 1. 1. 1.\n",
      " 1. 1. 1. 1. 1. 1. 1. 1. 1. 1. 1. 1. 1. 1. 1. 1. 1. 1. 1. 1. 1. 1. 1. 1.\n",
      " 1. 1. 1. 1. 1. 1. 1. 1. 1. 1. 1. 1. 1. 1. 1. 1. 1. 1. 1. 1. 1. 1. 1. 1.\n",
      " 1. 1. 1. 1. 1. 1. 1. 1. 1. 1. 1. 1. 1. 1. 1. 1. 1. 1. 1. 1. 1. 1. 1. 1.\n",
      " 1. 1. 1. 1. 1. 1. 1. 1. 1. 1. 1. 1. 1. 1. 1. 1. 1. 1. 1. 1. 1. 1. 1. 1.\n",
      " 1. 1. 1. 1. 1. 1. 1. 1. 1. 1. 1. 1. 1. 1. 1. 1. 1. 1. 1. 1. 1. 1. 1. 1.\n",
      " 1. 1. 1. 1. 1. 1. 1. 1. 1. 1. 1. 1. 1. 1. 1. 1. 1. 1. 1. 1. 1. 1. 1. 1.\n",
      " 1. 1. 1. 1. 1. 1. 1. 1. 1. 1. 1. 1. 1. 1. 1. 1. 1. 1. 1. 1. 1. 1. 1. 1.\n",
      " 1. 1. 1. 1. 1. 1. 1. 1. 1. 1. 1. 1. 1. 1. 1. 1. 1. 1. 1. 1. 1. 1. 1. 1.\n",
      " 1. 1. 1. 1. 1. 1. 1. 1. 1. 1. 1. 1. 1. 1. 1. 1. 1. 1. 1. 1. 1. 1. 1. 1.\n",
      " 1. 1. 1. 1. 1. 1. 1. 1. 1. 1. 1. 1. 1. 1. 1. 1. 1. 1. 1. 1. 1. 1. 1. 1.\n",
      " 1. 1. 1. 1. 1. 1. 1. 1. 1. 1. 1. 1. 1. 1. 1. 1. 1. 1. 1. 1. 1. 1. 1. 1.\n",
      " 1. 1. 1. 1. 1. 1. 1. 1. 1. 1. 1. 1. 1. 1. 1. 1. 1. 1. 1. 1. 1. 1. 1. 1.\n",
      " 1. 1. 1. 1. 1. 1. 1. 1. 1. 1. 1. 1. 1. 1. 1. 1. 1. 1. 1. 1. 1. 1. 1. 1.\n",
      " 1. 1. 1. 1. 1. 1. 1. 1. 1. 1. 1. 1. 1. 1. 1. 1. 1. 1. 1. 1. 1. 1. 1. 1.\n",
      " 1. 1. 1. 1. 1. 1. 1. 1. 1. 1. 1. 1. 1. 1. 1. 1. 1. 1. 1. 1. 1. 1. 1. 1.\n",
      " 1. 1. 1. 1. 1. 1. 1. 1. 1. 1. 1. 1. 1. 1. 1. 1. 1. 1. 1. 1. 1. 1. 1. 1.\n",
      " 1. 1. 1. 1. 1. 1. 1. 1. 1. 1. 1. 1. 1. 1. 1. 1. 1. 1. 1. 1. 1. 1. 1. 1.\n",
      " 1. 1. 1. 1. 1. 1. 1. 1. 1. 1. 1. 1. 1. 1. 1. 1.]\n",
      "indices  :  [17984 10838 22074 21739 16801 10217 16244 29595 25216 18610]\n",
      "indptr   :  [  0  79 162 249 435 484 651 778 856 937]\n"
     ]
    }
   ],
   "source": [
    "print('data     : ', data[:10])\n",
    "print('indices  : ', indices[:10])\n",
    "print('indptr   : ', indptr[:10])"
   ]
  },
  {
   "cell_type": "code",
   "execution_count": 132,
   "id": "b8ac4931",
   "metadata": {
    "ExecuteTime": {
     "end_time": "2022-07-20T13:00:05.442237Z",
     "start_time": "2022-07-20T13:00:05.310540Z"
    }
   },
   "outputs": [],
   "source": [
    "csr     = csr_matrix((data, indices, indptr), shape=(len(feat), ecfp_fold))"
   ]
  },
  {
   "cell_type": "code",
   "execution_count": null,
   "id": "f8999e9d",
   "metadata": {},
   "outputs": [],
   "source": []
  },
  {
   "cell_type": "code",
   "execution_count": 133,
   "id": "4d3ec1c9",
   "metadata": {
    "ExecuteTime": {
     "end_time": "2022-07-20T13:00:24.747549Z",
     "start_time": "2022-07-20T13:00:23.151867Z"
    }
   },
   "outputs": [],
   "source": [
    "csr.sum_duplicates()"
   ]
  },
  {
   "cell_type": "code",
   "execution_count": 152,
   "id": "f81284ff",
   "metadata": {
    "ExecuteTime": {
     "end_time": "2022-07-20T13:05:47.432693Z",
     "start_time": "2022-07-20T13:05:47.342676Z"
    }
   },
   "outputs": [
    {
     "data": {
      "text/plain": [
       "<423737x32000 sparse matrix of type '<class 'numpy.bool_'>'\n",
       "\twith 0 stored elements in Compressed Sparse Row format>"
      ]
     },
     "execution_count": 152,
     "metadata": {},
     "output_type": "execute_result"
    }
   ],
   "source": [
    "tmp = (csr > 3)\n",
    "tmp"
   ]
  },
  {
   "cell_type": "code",
   "execution_count": 153,
   "id": "af47ade6",
   "metadata": {
    "ExecuteTime": {
     "end_time": "2022-07-20T13:05:57.245740Z",
     "start_time": "2022-07-20T13:05:57.227328Z"
    }
   },
   "outputs": [],
   "source": [
    "del tmp"
   ]
  },
  {
   "cell_type": "code",
   "execution_count": 154,
   "id": "8c1bea8c",
   "metadata": {
    "ExecuteTime": {
     "end_time": "2022-07-20T13:06:00.413510Z",
     "start_time": "2022-07-20T13:06:00.359240Z"
    }
   },
   "outputs": [],
   "source": [
    "csr.data[:] = 1.0"
   ]
  },
  {
   "cell_type": "code",
   "execution_count": null,
   "id": "be1635ad",
   "metadata": {},
   "outputs": [],
   "source": []
  }
 ],
 "metadata": {
  "kernelspec": {
   "display_name": "Python [conda env:pyt-gpu]",
   "language": "python",
   "name": "conda-env-pyt-gpu-py"
  },
  "language_info": {
   "codemirror_mode": {
    "name": "ipython",
    "version": 3
   },
   "file_extension": ".py",
   "mimetype": "text/x-python",
   "name": "python",
   "nbconvert_exporter": "python",
   "pygments_lexer": "ipython3",
   "version": "3.9.5"
  },
  "toc": {
   "base_numbering": 1,
   "nav_menu": {},
   "number_sections": true,
   "sideBar": true,
   "skip_h1_title": false,
   "title_cell": "Table of Contents",
   "title_sidebar": "Contents",
   "toc_cell": false,
   "toc_position": {},
   "toc_section_display": true,
   "toc_window_display": false
  }
 },
 "nbformat": 4,
 "nbformat_minor": 5
}
