{
 "cells": [
  {
   "cell_type": "code",
   "execution_count": 1,
   "id": "7f234eb7",
   "metadata": {
    "ExecuteTime": {
     "end_time": "2021-11-16T14:36:59.293805Z",
     "start_time": "2021-11-16T14:36:58.901497Z"
    }
   },
   "outputs": [],
   "source": [
    "from rdkit import Chem\n",
    "from rdkit.Chem import AllChem\n",
    "from os.path import expanduser\n",
    "import argparse\n",
    "import csv\n",
    "import sys\n",
    "import pandas as pd\n",
    "import numpy as np\n",
    "from scipy.sparse import csr_matrix"
   ]
  },
  {
   "cell_type": "code",
   "execution_count": 2,
   "id": "8e8354d8",
   "metadata": {
    "ExecuteTime": {
     "end_time": "2021-11-16T14:36:59.299284Z",
     "start_time": "2021-11-16T14:36:59.296030Z"
    }
   },
   "outputs": [],
   "source": [
    "from IPython.display import SVG\n",
    "from rdkit import Chem\n",
    "from rdkit.Chem import rdDepictor\n",
    "from rdkit.Chem.Draw import rdMolDraw2D"
   ]
  },
  {
   "cell_type": "code",
   "execution_count": 3,
   "id": "019c2b67",
   "metadata": {
    "ExecuteTime": {
     "end_time": "2021-11-16T14:37:00.934958Z",
     "start_time": "2021-11-16T14:37:00.921016Z"
    }
   },
   "outputs": [],
   "source": [
    "def defaultSupplFile():\n",
    "  return '%s/chembl_19/chembl_19.sdf' % datadir\n",
    "\n",
    "def saveFingerprints(results, filename):\n",
    "  \"\"\" results is a dictionary: chembl_id -> [fingerprints] \"\"\"\n",
    "  with open(filename, 'w') as csvfile:\n",
    "    fpwriter = csv.writer(csvfile, delimiter=\",\", quoting=csv.QUOTE_NONE)\n",
    "    fpwriter.writerow([\"compound\",\"feature\"])\n",
    "    for compound in results:\n",
    "        for feature in results[compound]:\n",
    "            fpwriter.writerow( [compound, feature] )\n",
    "\n",
    "def saveFingerprintsNpy(results, filename, cmpdlist, ecfp_fold=32000):\n",
    "    \"\"\" write fingerprints to a npy \"\"\"\n",
    "    fp2 =[(x,(np.array(list(results[x].keys())), np.array(list(results[x].values())))) for x in results] #TODO: Modify to save compound list\n",
    "    cmpd, ecfp   = zip(*fp2)\n",
    "    feat, counts = zip(*ecfp)\n",
    "    \n",
    "    ## Create indicies for csr matrix\n",
    "    lens    = np.array([len(f) for f in feat])\n",
    "    indptr  = np.concatenate([[0], np.cumsum(lens)])\n",
    "    indices = np.concatenate(feat) % ecfp_fold\n",
    "    data    = np.ones(indices.shape[0])\n",
    "    csr     = csr_matrix((data, indices, indptr), shape=(len(feat), ecfp_fold))\n",
    "    csr.sum_duplicates()\n",
    "    csr.data[:] = 1.0\n",
    "\n",
    "    np.save(filename, csr)\n",
    "    pd.DataFrame(cmpd).to_csv(cmpdlist, header=False)\n",
    "       "
   ]
  },
  {
   "cell_type": "code",
   "execution_count": 4,
   "id": "41755777",
   "metadata": {
    "ExecuteTime": {
     "end_time": "2021-11-16T14:37:02.334261Z",
     "start_time": "2021-11-16T14:37:02.329737Z"
    }
   },
   "outputs": [],
   "source": [
    "def getChemblIDs(ic50file):\n",
    "    a = pd.read_csv(ic50file, header = None)\n",
    "    chembl = a[0].values \n",
    "    print(f\"  getChemblIds - Read {len(chembl)} Compounds\")\n",
    "    return chembl"
   ]
  },
  {
   "cell_type": "code",
   "execution_count": 5,
   "id": "9c248c60",
   "metadata": {
    "ExecuteTime": {
     "end_time": "2021-11-16T14:37:03.408498Z",
     "start_time": "2021-11-16T14:37:03.401837Z"
    }
   },
   "outputs": [],
   "source": [
    "def printMol(mol, width = 450, height = 150):\n",
    "    bits = AllChem.GetMorganFingerprint(mol, 3) \n",
    "    print ('Chembl-id:    %s' % mol.GetProp('chembl_id'))\n",
    "    print ('Num of Atoms: %d' % mol.GetNumAtoms())\n",
    "    print (\"#bits:        %d\" % len(bits.GetNonzeroElements()))\n",
    "    print ('Smiles:       %s' % Chem.MolToSmiles(mol, isomericSmiles=True))\n",
    "    print (\"\")\n",
    "    drawMol(mol, width, height)\n"
   ]
  },
  {
   "cell_type": "code",
   "execution_count": 6,
   "id": "81639ae3",
   "metadata": {
    "ExecuteTime": {
     "end_time": "2021-11-16T14:37:04.259435Z",
     "start_time": "2021-11-16T14:37:04.252876Z"
    }
   },
   "outputs": [],
   "source": [
    "def drawMol(mol, width = 450, height = 150):\n",
    "#     molSize = (width, height)\n",
    "    mc = Chem.Mol(mol.ToBinary())\n",
    "\n",
    "    if not mc.GetNumConformers():\n",
    "        rdDepictor.Compute2DCoords(mc)\n",
    "\n",
    "    drawer = rdMolDraw2D.MolDraw2DSVG(width, height)\n",
    "    drawer.DrawMolecule(mc)\n",
    "    drawer.FinishDrawing()\n",
    "    svg = drawer.GetDrawingText()\n",
    "    display(SVG(svg.replace('svg:','')))"
   ]
  },
  {
   "cell_type": "code",
   "execution_count": 7,
   "id": "b2d061c6",
   "metadata": {
    "ExecuteTime": {
     "end_time": "2021-11-16T14:37:05.683515Z",
     "start_time": "2021-11-16T14:37:05.679967Z"
    }
   },
   "outputs": [],
   "source": [
    "def whatisthis(s):\n",
    "    if isinstance(s, str):\n",
    "        print(\"ordinary string\")\n",
    "    elif isinstance(s, unicode):\n",
    "        print (\"unicode string\")\n",
    "    else:\n",
    "        print (\"not a string\")"
   ]
  },
  {
   "cell_type": "code",
   "execution_count": 8,
   "id": "3bb0e021",
   "metadata": {
    "ExecuteTime": {
     "end_time": "2021-11-16T14:37:07.182613Z",
     "start_time": "2021-11-16T14:37:07.167875Z"
    }
   },
   "outputs": [],
   "source": [
    "class SDF:\n",
    "  def __init__(self, supplFile):\n",
    "    self.supplFile = supplFile\n",
    "    print(\"supplFile: \", supplFile)\n",
    "    self.suppl = Chem.SDMolSupplier( self.supplFile)\n",
    "    print('Total number of molcules loaded: ', len(self.suppl))\n",
    "\n",
    "  def getMol(self, n = 10e+9):\n",
    "    \"\"\" function for looping over all molecules \"\"\"\n",
    "    self.suppl.reset()\n",
    "    i = 0\n",
    "    for rdmol in self.suppl:\n",
    "      if rdmol is None: continue\n",
    "      i += 1\n",
    "      yield rdmol\n",
    "      if i >= n: return\n",
    "\n",
    "  def print4Mol(self):\n",
    "    for mol in self.getMol(4):\n",
    "      print(type(mol)) \n",
    "      bits = AllChem.GetMorganFingerprint(mol, 3) \n",
    "      print ('Chembl-id: %s' % mol.GetProp('chembl_id'))\n",
    "      print (\"#bits:     %d\" % len(bits.GetNonzeroElements()))\n",
    "      print ('Smiles:    %s' % Chem.MolToSmiles(mol, isomericSmiles=True))\n",
    "      print (\"\")\n",
    "\n",
    "  def getMorganFingerPrints(self, chemblIDs, nMorgan):\n",
    "    ids = set(chemblIDs)\n",
    "    results = dict()\n",
    "    i=0\n",
    "    for mol in self.getMol():\n",
    "      i+=1\n",
    "      if i %20000 == 0:\n",
    "          print(\"Processed: %d compounds\"%i)\n",
    "      chembl_id = mol.GetProp('chembl_id') \n",
    "      if chembl_id not in ids:\n",
    "        continue\n",
    "      results[chembl_id] = AllChem.GetMorganFingerprint(mol, nMorgan).GetNonzeroElements()\n",
    "    return results\n",
    "\n",
    "  def getMorganFingerPrintsAll(self, nMorgan):\n",
    "    results = dict()\n",
    "    for mol in self.getMol():\n",
    "      chembl_id = mol.GetProp('chembl_id') \n",
    "      results[chembl_id] = AllChem.GetMorganFingerprint(mol, nMorgan).GetNonzeroElements()\n",
    "    return results\n",
    "##### end of class SDF ######"
   ]
  },
  {
   "cell_type": "code",
   "execution_count": 9,
   "id": "a7777b72",
   "metadata": {
    "ExecuteTime": {
     "end_time": "2021-11-16T14:37:13.470112Z",
     "start_time": "2021-11-16T14:37:13.452172Z"
    }
   },
   "outputs": [
    {
     "data": {
      "text/plain": [
       "_StoreTrueAction(option_strings=['--numids'], dest='numids', nargs=0, const=True, default=False, type=None, choices=None, help=None, metavar=None)"
      ]
     },
     "execution_count": 9,
     "metadata": {},
     "output_type": "execute_result"
    }
   ],
   "source": [
    "  parser = argparse.ArgumentParser(description='Generate Morgan(3) fingerprints from raw SDF.')\n",
    "  parser.add_argument('-c', '--compounds', metavar='FILE', help=\"CSV file of compounds (CHEMBL IDs). If not supplied all compounds are saved.\", default=None)\n",
    "  parser.add_argument('-s', '--sdf', help=\"Input SDF file.\", required=True)\n",
    "  parser.add_argument('-o', '--out', help=\"Output file name (CSV file of fingerprints).\", required=True)\n",
    "  parser.add_argument('-r', '--radius', metavar='R', type=int, help=\"ECFP radius (default 3)\", default=3)\n",
    "  parser.add_argument('--numids', action='store_true')"
   ]
  },
  {
   "cell_type": "code",
   "execution_count": 18,
   "id": "18c04009",
   "metadata": {
    "ExecuteTime": {
     "end_time": "2021-11-16T14:39:11.442196Z",
     "start_time": "2021-11-16T14:39:11.436972Z"
    }
   },
   "outputs": [
    {
     "name": "stdout",
     "output_type": "stream",
     "text": [
      "['-s', 'input/chembl_29.sdf', '-o', 'output/chembl_29_X.csv', '-c', 'output/chembl_29/10_chembl_29_compounds.csv']\n"
     ]
    }
   ],
   "source": [
    "in_args = \"-s input/chembl_29.sdf -o output/chembl_29_X.csv -c output/chembl_29/10_chembl_29_compounds.csv\"\n",
    "in_args = in_args.split()\n",
    "print(in_args)"
   ]
  },
  {
   "cell_type": "code",
   "execution_count": 19,
   "id": "5be76403",
   "metadata": {
    "ExecuteTime": {
     "end_time": "2021-11-16T14:39:12.618150Z",
     "start_time": "2021-11-16T14:39:12.612825Z"
    },
    "scrolled": true
   },
   "outputs": [
    {
     "data": {
      "text/plain": [
       "{'compounds': 'output/chembl_29/10_chembl_29_compounds.csv',\n",
       " 'sdf': 'input/chembl_29.sdf',\n",
       " 'out': 'output/chembl_29_X.csv',\n",
       " 'radius': 3,\n",
       " 'numids': False}"
      ]
     },
     "execution_count": 19,
     "metadata": {},
     "output_type": "execute_result"
    }
   ],
   "source": [
    "args = vars(parser.parse_args(in_args))\n",
    "args\n",
    "# args_sdf = args['sdf'].encode('utf-8')\n",
    "# args_sdf = args['sdf'].encode('utf-8').decode('ascii')\n",
    "# args_sdf"
   ]
  },
  {
   "cell_type": "markdown",
   "id": "2942792f",
   "metadata": {},
   "source": [
    "### Main"
   ]
  },
  {
   "cell_type": "code",
   "execution_count": 20,
   "id": "6ba6eb80",
   "metadata": {
    "ExecuteTime": {
     "end_time": "2021-11-16T14:39:17.309797Z",
     "start_time": "2021-11-16T14:39:17.304545Z"
    }
   },
   "outputs": [],
   "source": [
    "# def mainf(compoundsFile, outFile, sdfFile, nMorgan = 3, numericIds = False):\n",
    "# return mainf(args[\"compounds\"], args[\"out\"], args[\"sdf\"], nMorgan = args[\"radius\"], numericIds = args[\"numids\"])\n",
    "\n",
    "compoundsFile = args[\"compounds\"] \n",
    "outFile = args[\"out\"]\n",
    "sdfFile = args[\"sdf\"]\n",
    "nMorgan = args[\"radius\"]\n",
    "numericIds = args[\"numids\"]"
   ]
  },
  {
   "cell_type": "code",
   "execution_count": 21,
   "id": "d473579f",
   "metadata": {
    "ExecuteTime": {
     "end_time": "2021-11-16T14:39:17.582132Z",
     "start_time": "2021-11-16T14:39:17.574136Z"
    }
   },
   "outputs": [
    {
     "name": "stdout",
     "output_type": "stream",
     "text": [
      "sdffile: input/chembl_29.sdf  type:  <class 'str'>\n",
      " compoundsFile = output/chembl_29/10_chembl_29_compounds.csv \n",
      " outFile       = output/chembl_29_X.csv \n",
      " sdfFile       = input/chembl_29.sdf \n",
      " nMorgan       = 3 \n",
      " numericIds    = False \n"
     ]
    }
   ],
   "source": [
    "print('sdffile:', sdfFile, ' type: ', type(sdfFile))\n",
    "print(f\" compoundsFile = {compoundsFile} \")\n",
    "print(f\" outFile       = {outFile} \")\n",
    "print(f\" sdfFile       = {sdfFile} \")\n",
    "print(f\" nMorgan       = {nMorgan} \")\n",
    "print(f\" numericIds    = {numericIds} \")"
   ]
  },
  {
   "cell_type": "markdown",
   "id": "d9aa6009",
   "metadata": {},
   "source": [
    "### Read `chembl_29.sdf` file\n",
    "\n",
    "Also read the compunds CSV file generated in step 1"
   ]
  },
  {
   "cell_type": "code",
   "execution_count": 22,
   "id": "136ad04c",
   "metadata": {
    "ExecuteTime": {
     "end_time": "2021-11-16T14:39:32.590903Z",
     "start_time": "2021-11-16T14:39:21.029261Z"
    },
    "scrolled": true
   },
   "outputs": [
    {
     "name": "stdout",
     "output_type": "stream",
     "text": [
      "supplFile:  input/chembl_29.sdf\n",
      "Total number of molcules loaded:  2084724\n",
      "sdf object:  <__main__.SDF object at 0x7f82cfafd880>\n"
     ]
    }
   ],
   "source": [
    "sdf = SDF(sdfFile)\n",
    "print('sdf object: ' , sdf)"
   ]
  },
  {
   "cell_type": "markdown",
   "id": "ff1de694",
   "metadata": {},
   "source": [
    "### Get Morgan Fingerprint for compounds\n",
    "\n",
    "If a compounds file was provided, get Morgan Fingerprinfs for componds in file"
   ]
  },
  {
   "cell_type": "code",
   "execution_count": 23,
   "id": "3a308c4d",
   "metadata": {
    "ExecuteTime": {
     "end_time": "2021-11-16T14:51:18.299343Z",
     "start_time": "2021-11-16T14:40:05.950120Z"
    },
    "scrolled": true
   },
   "outputs": [
    {
     "name": "stdout",
     "output_type": "stream",
     "text": [
      "  getChemblIds - Read 423808 Compounds\n",
      "Processed: 20000 compounds\n",
      "Processed: 40000 compounds\n",
      "Processed: 60000 compounds\n",
      "Processed: 80000 compounds\n",
      "Processed: 100000 compounds\n",
      "Processed: 120000 compounds\n"
     ]
    },
    {
     "name": "stderr",
     "output_type": "stream",
     "text": [
      "RDKit WARNING: [15:40:43] Warning: conflicting stereochemistry at atom 48 ignored. by rule 1a.\n",
      "[15:40:43] Warning: conflicting stereochemistry at atom 48 ignored. by rule 1a.\n",
      "RDKit WARNING: [15:40:43] Warning: conflicting stereochemistry at atom 48 ignored. by rule 1a.\n",
      "[15:40:43] Warning: conflicting stereochemistry at atom 48 ignored. by rule 1a.\n"
     ]
    },
    {
     "name": "stdout",
     "output_type": "stream",
     "text": [
      "Processed: 140000 compounds\n",
      "Processed: 160000 compounds\n",
      "Processed: 180000 compounds\n",
      "Processed: 200000 compounds\n",
      "Processed: 220000 compounds\n",
      "Processed: 240000 compounds\n",
      "Processed: 260000 compounds\n",
      "Processed: 280000 compounds\n",
      "Processed: 300000 compounds\n",
      "Processed: 320000 compounds\n",
      "Processed: 340000 compounds\n",
      "Processed: 360000 compounds\n",
      "Processed: 380000 compounds\n",
      "Processed: 400000 compounds\n",
      "Processed: 420000 compounds\n",
      "Processed: 440000 compounds\n",
      "Processed: 460000 compounds\n",
      "Processed: 480000 compounds\n",
      "Processed: 500000 compounds\n",
      "Processed: 520000 compounds\n",
      "Processed: 540000 compounds\n",
      "Processed: 560000 compounds\n",
      "Processed: 580000 compounds\n",
      "Processed: 600000 compounds\n",
      "Processed: 620000 compounds\n",
      "Processed: 640000 compounds\n",
      "Processed: 660000 compounds\n",
      "Processed: 680000 compounds\n",
      "Processed: 700000 compounds\n",
      "Processed: 720000 compounds\n",
      "Processed: 740000 compounds\n",
      "Processed: 760000 compounds\n",
      "Processed: 780000 compounds\n",
      "Processed: 800000 compounds\n",
      "Processed: 820000 compounds\n",
      "Processed: 840000 compounds\n",
      "Processed: 860000 compounds\n",
      "Processed: 880000 compounds\n",
      "Processed: 900000 compounds\n",
      "Processed: 920000 compounds\n",
      "Processed: 940000 compounds\n",
      "Processed: 960000 compounds\n",
      "Processed: 980000 compounds\n",
      "Processed: 1000000 compounds\n",
      "Processed: 1020000 compounds\n",
      "Processed: 1040000 compounds\n",
      "Processed: 1060000 compounds\n",
      "Processed: 1080000 compounds\n",
      "Processed: 1100000 compounds\n",
      "Processed: 1120000 compounds\n",
      "Processed: 1140000 compounds\n",
      "Processed: 1160000 compounds\n",
      "Processed: 1180000 compounds\n",
      "Processed: 1200000 compounds\n",
      "Processed: 1220000 compounds\n",
      "Processed: 1240000 compounds\n",
      "Processed: 1260000 compounds\n",
      "Processed: 1280000 compounds\n",
      "Processed: 1300000 compounds\n",
      "Processed: 1320000 compounds\n"
     ]
    },
    {
     "name": "stderr",
     "output_type": "stream",
     "text": [
      "RDKit WARNING: [15:46:51] WARNING: not removing hydrogen atom without neighbors\n",
      "[15:46:51] WARNING: not removing hydrogen atom without neighbors\n"
     ]
    },
    {
     "name": "stdout",
     "output_type": "stream",
     "text": [
      "Processed: 1340000 compounds\n",
      "Processed: 1360000 compounds\n",
      "Processed: 1380000 compounds\n"
     ]
    },
    {
     "name": "stderr",
     "output_type": "stream",
     "text": [
      "RDKit WARNING: [15:47:13] Warning: conflicting stereochemistry at atom 0 ignored. by rule 2b.\n",
      "[15:47:13] Warning: conflicting stereochemistry at atom 0 ignored. by rule 2b.\n"
     ]
    },
    {
     "name": "stdout",
     "output_type": "stream",
     "text": [
      "Processed: 1400000 compounds\n",
      "Processed: 1420000 compounds\n",
      "Processed: 1440000 compounds\n",
      "Processed: 1460000 compounds\n",
      "Processed: 1480000 compounds\n",
      "Processed: 1500000 compounds\n",
      "Processed: 1520000 compounds\n",
      "Processed: 1540000 compounds\n"
     ]
    },
    {
     "name": "stderr",
     "output_type": "stream",
     "text": [
      "RDKit WARNING: [15:48:09] WARNING: not removing hydrogen atom without neighbors\n",
      "[15:48:09] WARNING: not removing hydrogen atom without neighbors\n"
     ]
    },
    {
     "name": "stdout",
     "output_type": "stream",
     "text": [
      "Processed: 1560000 compounds\n"
     ]
    },
    {
     "name": "stderr",
     "output_type": "stream",
     "text": [
      "RDKit WARNING: [15:48:17] WARNING: not removing hydrogen atom without neighbors\n",
      "[15:48:17] WARNING: not removing hydrogen atom without neighbors\n"
     ]
    },
    {
     "name": "stdout",
     "output_type": "stream",
     "text": [
      "Processed: 1580000 compounds\n"
     ]
    },
    {
     "name": "stderr",
     "output_type": "stream",
     "text": [
      "RDKit WARNING: [15:48:18] Warning: conflicting stereochemistry at atom 8 ignored. by rule 2b.\n",
      "[15:48:18] Warning: conflicting stereochemistry at atom 8 ignored. by rule 2b.\n",
      "RDKit WARNING: [15:48:22] WARNING: not removing hydrogen atom without neighbors\n",
      "[15:48:22] WARNING: not removing hydrogen atom without neighbors\n"
     ]
    },
    {
     "name": "stdout",
     "output_type": "stream",
     "text": [
      "Processed: 1600000 compounds\n",
      "Processed: 1620000 compounds\n",
      "Processed: 1640000 compounds\n",
      "Processed: 1660000 compounds\n",
      "Processed: 1680000 compounds\n",
      "Processed: 1700000 compounds\n",
      "Processed: 1720000 compounds\n",
      "Processed: 1740000 compounds\n",
      "Processed: 1760000 compounds\n",
      "Processed: 1780000 compounds\n",
      "Processed: 1800000 compounds\n",
      "Processed: 1820000 compounds\n",
      "Processed: 1840000 compounds\n",
      "Processed: 1860000 compounds\n",
      "Processed: 1880000 compounds\n",
      "Processed: 1900000 compounds\n",
      "Processed: 1920000 compounds\n",
      "Processed: 1940000 compounds\n"
     ]
    },
    {
     "name": "stderr",
     "output_type": "stream",
     "text": [
      "RDKit WARNING: [15:50:29] WARNING: not removing hydrogen atom without neighbors\n",
      "[15:50:29] WARNING: not removing hydrogen atom without neighbors\n",
      "RDKit WARNING: [15:50:29] WARNING: not removing hydrogen atom without neighbors\n",
      "RDKit WARNING: [15:50:29] WARNING: not removing hydrogen atom without neighbors\n",
      "[15:50:29] WARNING: not removing hydrogen atom without neighbors\n",
      "[15:50:29] WARNING: not removing hydrogen atom without neighbors\n"
     ]
    },
    {
     "name": "stdout",
     "output_type": "stream",
     "text": [
      "Processed: 1960000 compounds\n",
      "Processed: 1980000 compounds\n",
      "Processed: 2000000 compounds\n",
      "Processed: 2020000 compounds\n",
      "Processed: 2040000 compounds\n",
      "Processed: 2060000 compounds\n",
      "Processed: 2080000 compounds\n",
      " Compounds File is Not None\n"
     ]
    }
   ],
   "source": [
    "if compoundsFile is None:\n",
    "    fp = sdf.getMorganFingerPrintsAll(nMorgan)\n",
    "    print(' Compounds File = None')\n",
    "else:\n",
    "    compoundIDs = getChemblIDs(compoundsFile)\n",
    "    fp = sdf.getMorganFingerPrints(compoundIDs, nMorgan)\n",
    "    print(' Compounds File is Not None')\n",
    "    #fp = {'a':[1,123]}"
   ]
  },
  {
   "cell_type": "markdown",
   "id": "b944ca25",
   "metadata": {},
   "source": [
    "### Save Morgan Fingerprint results "
   ]
  },
  {
   "cell_type": "code",
   "execution_count": 24,
   "id": "32a23224",
   "metadata": {
    "ExecuteTime": {
     "end_time": "2021-11-16T14:57:36.120124Z",
     "start_time": "2021-11-16T14:56:51.851162Z"
    }
   },
   "outputs": [
    {
     "name": "stdout",
     "output_type": "stream",
     "text": [
      " fingerprints written to outFile: output/chembl_29_X.csv \n",
      " fingerprints written in npy format cmpd_list_X.csv \n"
     ]
    }
   ],
   "source": [
    "saveFingerprints(fp, outFile)\n",
    "\n",
    "saveFingerprintsNpy(fp, \"20.1_fp_32000.npy\", \"20.2_cmpd_list_X.csv\", ecfp_fold=32000)\n",
    "\n",
    "print(f\" fingerprints written to outFile: {outFile} \")\n",
    "print(f\" fingerprints written in npy format cmpd_list_X.csv \")"
   ]
  },
  {
   "cell_type": "code",
   "execution_count": 6,
   "id": "8d302ff3",
   "metadata": {
    "ExecuteTime": {
     "end_time": "2021-11-16T14:11:19.282932Z",
     "start_time": "2021-11-16T14:11:19.278778Z"
    }
   },
   "outputs": [],
   "source": [
    "import pandas as pd\n",
    "import numpy as np"
   ]
  },
  {
   "cell_type": "code",
   "execution_count": 2,
   "id": "7c8d2c08",
   "metadata": {
    "ExecuteTime": {
     "end_time": "2021-11-16T14:10:14.289745Z",
     "start_time": "2021-11-16T14:10:14.080814Z"
    }
   },
   "outputs": [],
   "source": [
    "df = pd.read_csv(\"2.2_cmpd_list_X.csv\")"
   ]
  },
  {
   "cell_type": "code",
   "execution_count": 4,
   "id": "fe25acc2",
   "metadata": {
    "ExecuteTime": {
     "end_time": "2021-11-16T14:10:36.004963Z",
     "start_time": "2021-11-16T14:10:35.969874Z"
    }
   },
   "outputs": [
    {
     "name": "stdout",
     "output_type": "stream",
     "text": [
      "<class 'pandas.core.frame.DataFrame'>\n",
      "RangeIndex: 423735 entries, 0 to 423734\n",
      "Data columns (total 2 columns):\n",
      " #   Column        Non-Null Count   Dtype \n",
      "---  ------        --------------   ----- \n",
      " 0   0             423735 non-null  int64 \n",
      " 1   CHEMBL405398  423735 non-null  object\n",
      "dtypes: int64(1), object(1)\n",
      "memory usage: 6.5+ MB\n"
     ]
    }
   ],
   "source": [
    "df.info()"
   ]
  },
  {
   "cell_type": "code",
   "execution_count": 5,
   "id": "aad64fcc",
   "metadata": {
    "ExecuteTime": {
     "end_time": "2021-11-16T14:10:53.825117Z",
     "start_time": "2021-11-16T14:10:53.820770Z"
    }
   },
   "outputs": [],
   "source": [
    "del df"
   ]
  },
  {
   "cell_type": "code",
   "execution_count": 8,
   "id": "d1596988",
   "metadata": {
    "ExecuteTime": {
     "end_time": "2021-11-16T14:13:44.234853Z",
     "start_time": "2021-11-16T14:13:43.964177Z"
    }
   },
   "outputs": [
    {
     "data": {
      "text/plain": [
       "array(<423736x32000 sparse matrix of type '<class 'numpy.float64'>'\n",
       "\twith 32838620 stored elements in Compressed Sparse Row format>,\n",
       "      dtype=object)"
      ]
     },
     "execution_count": 8,
     "metadata": {},
     "output_type": "execute_result"
    }
   ],
   "source": [
    "np.load(\"2.1_fp_32000.npy\", allow_pickle = True)"
   ]
  },
  {
   "cell_type": "code",
   "execution_count": 9,
   "id": "3a800294",
   "metadata": {
    "ExecuteTime": {
     "end_time": "2021-11-16T14:15:06.991227Z",
     "start_time": "2021-11-16T14:15:06.975861Z"
    }
   },
   "outputs": [
    {
     "ename": "NameError",
     "evalue": "name 'fp' is not defined",
     "output_type": "error",
     "traceback": [
      "\u001b[0;31m---------------------------------------------------------------------------\u001b[0m",
      "\u001b[0;31mNameError\u001b[0m                                 Traceback (most recent call last)",
      "\u001b[0;32m/tmp/ipykernel_2713661/1480783396.py\u001b[0m in \u001b[0;36m<module>\u001b[0;34m\u001b[0m\n\u001b[0;32m----> 1\u001b[0;31m \u001b[0mfp\u001b[0m\u001b[0;34m\u001b[0m\u001b[0;34m\u001b[0m\u001b[0m\n\u001b[0m",
      "\u001b[0;31mNameError\u001b[0m: name 'fp' is not defined"
     ]
    }
   ],
   "source": [
    "fp"
   ]
  },
  {
   "cell_type": "code",
   "execution_count": null,
   "id": "2a587122",
   "metadata": {},
   "outputs": [],
   "source": []
  }
 ],
 "metadata": {
  "kernelspec": {
   "display_name": "Python [conda env:pyt-gpu]",
   "language": "python",
   "name": "conda-env-pyt-gpu-py"
  },
  "language_info": {
   "codemirror_mode": {
    "name": "ipython",
    "version": 3
   },
   "file_extension": ".py",
   "mimetype": "text/x-python",
   "name": "python",
   "nbconvert_exporter": "python",
   "pygments_lexer": "ipython3",
   "version": "3.9.7"
  },
  "toc": {
   "base_numbering": 1,
   "nav_menu": {},
   "number_sections": true,
   "sideBar": true,
   "skip_h1_title": false,
   "title_cell": "Table of Contents",
   "title_sidebar": "Contents",
   "toc_cell": false,
   "toc_position": {},
   "toc_section_display": true,
   "toc_window_display": false
  }
 },
 "nbformat": 4,
 "nbformat_minor": 5
}
